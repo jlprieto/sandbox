{
  "nbformat": 4,
  "nbformat_minor": 0,
  "metadata": {
    "colab": {
      "provenance": [],
      "authorship_tag": "ABX9TyOR3WoMtRlWQ6lvtMTgV1Af",
      "include_colab_link": true
    },
    "kernelspec": {
      "name": "python3",
      "display_name": "Python 3"
    },
    "language_info": {
      "name": "python"
    }
  },
  "cells": [
    {
      "cell_type": "markdown",
      "metadata": {
        "id": "view-in-github",
        "colab_type": "text"
      },
      "source": [
        "<a href=\"https://colab.research.google.com/github/jlprieto/sandbox/blob/main/Health_Agregator.ipynb\" target=\"_parent\"><img src=\"https://colab.research.google.com/assets/colab-badge.svg\" alt=\"Open In Colab\"/></a>"
      ]
    },
    {
      "cell_type": "markdown",
      "source": [
        "# Imports and set up"
      ],
      "metadata": {
        "id": "F76F-5rm_Y2A"
      }
    },
    {
      "cell_type": "code",
      "source": [
        "pip install filterpy"
      ],
      "metadata": {
        "colab": {
          "base_uri": "https://localhost:8080/"
        },
        "id": "4D8CnIGCjbYw",
        "outputId": "f6fe4f35-d67f-4e48-d2ce-ee3ff6f2be4c"
      },
      "execution_count": 1,
      "outputs": [
        {
          "output_type": "stream",
          "name": "stdout",
          "text": [
            "Collecting filterpy\n",
            "  Downloading filterpy-1.4.5.zip (177 kB)\n",
            "\u001b[?25l     \u001b[90m━━━━━━━━━━━━━━━━━━━━━━━━━━━━━━━━━━━━━━━━\u001b[0m \u001b[32m0.0/178.0 kB\u001b[0m \u001b[31m?\u001b[0m eta \u001b[36m-:--:--\u001b[0m\r\u001b[2K     \u001b[91m━━━━━━━━━━━━━━━━━━━━━━━━━━━━━━━━━━━━\u001b[0m\u001b[91m╸\u001b[0m\u001b[90m━━━\u001b[0m \u001b[32m163.8/178.0 kB\u001b[0m \u001b[31m4.3 MB/s\u001b[0m eta \u001b[36m0:00:01\u001b[0m\r\u001b[2K     \u001b[91m━━━━━━━━━━━━━━━━━━━━━━━━━━━━━━━━━━━━━━━\u001b[0m\u001b[90m╺\u001b[0m \u001b[32m174.1/178.0 kB\u001b[0m \u001b[31m3.6 MB/s\u001b[0m eta \u001b[36m0:00:01\u001b[0m\r\u001b[2K     \u001b[90m━━━━━━━━━━━━━━━━━━━━━━━━━━━━━━━━━━━━━━━━\u001b[0m \u001b[32m178.0/178.0 kB\u001b[0m \u001b[31m1.7 MB/s\u001b[0m eta \u001b[36m0:00:00\u001b[0m\n",
            "\u001b[?25h  Preparing metadata (setup.py) ... \u001b[?25l\u001b[?25hdone\n",
            "Requirement already satisfied: numpy in /usr/local/lib/python3.10/dist-packages (from filterpy) (1.26.4)\n",
            "Requirement already satisfied: scipy in /usr/local/lib/python3.10/dist-packages (from filterpy) (1.13.1)\n",
            "Requirement already satisfied: matplotlib in /usr/local/lib/python3.10/dist-packages (from filterpy) (3.7.1)\n",
            "Requirement already satisfied: contourpy>=1.0.1 in /usr/local/lib/python3.10/dist-packages (from matplotlib->filterpy) (1.2.1)\n",
            "Requirement already satisfied: cycler>=0.10 in /usr/local/lib/python3.10/dist-packages (from matplotlib->filterpy) (0.12.1)\n",
            "Requirement already satisfied: fonttools>=4.22.0 in /usr/local/lib/python3.10/dist-packages (from matplotlib->filterpy) (4.53.1)\n",
            "Requirement already satisfied: kiwisolver>=1.0.1 in /usr/local/lib/python3.10/dist-packages (from matplotlib->filterpy) (1.4.5)\n",
            "Requirement already satisfied: packaging>=20.0 in /usr/local/lib/python3.10/dist-packages (from matplotlib->filterpy) (24.1)\n",
            "Requirement already satisfied: pillow>=6.2.0 in /usr/local/lib/python3.10/dist-packages (from matplotlib->filterpy) (9.4.0)\n",
            "Requirement already satisfied: pyparsing>=2.3.1 in /usr/local/lib/python3.10/dist-packages (from matplotlib->filterpy) (3.1.2)\n",
            "Requirement already satisfied: python-dateutil>=2.7 in /usr/local/lib/python3.10/dist-packages (from matplotlib->filterpy) (2.8.2)\n",
            "Requirement already satisfied: six>=1.5 in /usr/local/lib/python3.10/dist-packages (from python-dateutil>=2.7->matplotlib->filterpy) (1.16.0)\n",
            "Building wheels for collected packages: filterpy\n",
            "  Building wheel for filterpy (setup.py) ... \u001b[?25l\u001b[?25hdone\n",
            "  Created wheel for filterpy: filename=filterpy-1.4.5-py3-none-any.whl size=110459 sha256=3c759be19a8a7ab638974c91a33e1bbf17a136856dc21d1b8abdc6e9d231eff6\n",
            "  Stored in directory: /root/.cache/pip/wheels/0f/0c/ea/218f266af4ad626897562199fbbcba521b8497303200186102\n",
            "Successfully built filterpy\n",
            "Installing collected packages: filterpy\n",
            "Successfully installed filterpy-1.4.5\n"
          ]
        }
      ]
    },
    {
      "cell_type": "code",
      "source": [
        "import re\n",
        "import os\n",
        "import csv\n",
        "import json\n",
        "import time\n",
        "from datetime import datetime\n",
        "from google.colab import drive\n",
        "from google.colab import userdata\n",
        "from xml.etree.ElementTree import iterparse\n",
        "\n",
        "import math\n",
        "import pandas as pd\n",
        "import numpy as np\n",
        "from scipy.signal import find_peaks\n",
        "from filterpy.kalman import KalmanFilter\n",
        "\n",
        "import matplotlib.pyplot as plt\n",
        "import seaborn as sns\n",
        "plt.style.use('ggplot')\n",
        "%matplotlib inline\n",
        "\n",
        "from bokeh.plotting import figure, output_notebook, show\n",
        "from bokeh.models import DatetimeTickFormatter, NumeralTickFormatter\n",
        "from bokeh.models import Span, Label, BoxAnnotation, Range1d\n",
        "from bokeh.layouts import gridplot, column\n",
        "\n",
        "# Enable Bokeh output in the notebook\n",
        "output_notebook()\n",
        "\n",
        "_REPROCESS_ = False"
      ],
      "metadata": {
        "id": "_MjNNDzbIdyE"
      },
      "execution_count": 57,
      "outputs": []
    },
    {
      "cell_type": "code",
      "source": [
        "_DRIVE_MOUNT_ = userdata.get('_DRIVE_MOUNT_')\n",
        "if not os.path.exists(_DRIVE_MOUNT_):\n",
        "  drive.mount(_DRIVE_MOUNT_)\n",
        "\n",
        "_HEALTH_ROOT_ = userdata.get('_HEALTH_ROOT_')\n",
        "if not os.path.exists(_HEALTH_ROOT_):\n",
        "  raise Exception(\"Health folder not found\")\n",
        "\n",
        "_APPLE_ROOT_ = os.path.join(_HEALTH_ROOT_, 'Apple')\n",
        "if not os.path.exists(_APPLE_ROOT_):\n",
        "  raise Exception(\"APPLE folder not found\")\n",
        "\n",
        "_FITBIT_ROOT_ = os.path.join(_HEALTH_ROOT_, 'Fitbit')\n",
        "if not os.path.exists(_FITBIT_ROOT_):\n",
        "  raise Exception(\"FITBIT folder not found\")\n",
        "\n",
        "_NUTRISENSE_ROOT_ = os.path.join(_HEALTH_ROOT_, 'Nutrisense')\n",
        "if not os.path.exists(_NUTRISENSE_ROOT_):\n",
        "  raise Exception(\"NUTRISENSE folder not found\")\n",
        "\n",
        "_LOSEIT_ROOT_ = os.path.join(_HEALTH_ROOT_, 'LoseIt')\n",
        "if not os.path.exists(_LOSEIT_ROOT_):\n",
        "  raise Exception(\"LoseIt folder not found\")\n",
        "\n",
        "_ABBOTT_ROOT_ = os.path.join(_HEALTH_ROOT_, 'Abbott')\n",
        "if not os.path.exists(_ABBOTT_ROOT_):\n",
        "  raise Exception(\"ABBOTT folder not found\")\n",
        "\n",
        "_PARSED_ROOT_ = os.path.join(_HEALTH_ROOT_, 'Parsed')\n",
        "if not os.path.exists(_PARSED_ROOT_):\n",
        "  raise Exception(\"Destination ('Parsed') folder not found\")"
      ],
      "metadata": {
        "id": "hbIBbeuyI4TB",
        "colab": {
          "base_uri": "https://localhost:8080/"
        },
        "outputId": "7c942a7d-69ef-4835-c640-6f5d76c8cdea"
      },
      "execution_count": 63,
      "outputs": [
        {
          "output_type": "stream",
          "name": "stdout",
          "text": [
            "/content/drive/My Drive/Health Data/\n"
          ]
        }
      ]
    },
    {
      "cell_type": "markdown",
      "source": [
        "# Auxiliary functions"
      ],
      "metadata": {
        "id": "ZRIhr4DoV1YN"
      }
    },
    {
      "cell_type": "code",
      "source": [
        "def find_latest_path(path: str) -> str:\n",
        "  \"\"\"\n",
        "  Finds the file or latest folder in a directory\n",
        "\n",
        "  Args:\n",
        "    path: The path to the directory\n",
        "\n",
        "  Returns:\n",
        "    The path to the latest file or folder\n",
        "  \"\"\"\n",
        "  if not os.path.exists(path):\n",
        "    print(\"The file does not exist\")\n",
        "    return None\n",
        "  if not os.path.isdir(path):\n",
        "    print(\"The path is not a directory\")\n",
        "    return None\n",
        "\n",
        "  last_time = 10000000 # sometime in 1970\n",
        "  latest_path = None\n",
        "  for path_name in os.listdir(path):\n",
        "    full_path = os.path.join(path, path_name)\n",
        "    ctime = os.path.getmtime(full_path)\n",
        "    if ctime > last_time:\n",
        "      last_time = ctime\n",
        "      latest_path = full_path\n",
        "  return latest_path"
      ],
      "metadata": {
        "id": "SRuTNLboJGoq"
      },
      "execution_count": 4,
      "outputs": []
    },
    {
      "cell_type": "code",
      "source": [
        "def identify_cgm_peaks(cgm = None):\n",
        "  \"\"\"\n",
        "  Identifies peaks in CGM signal and returns the most prominent ones.\n",
        "\n",
        "  Peaks must be:\n",
        "  - > 100 mg/dL:\n",
        "  - have a prominence of 10 mg/dL (prominence=10)\n",
        "  - be more than 1h apart (distance=12)\n",
        "\n",
        "  Args:\n",
        "    cgm: The CGM signal\n",
        "\n",
        "  Returns:\n",
        "    A list of peaks\n",
        "  \"\"\"\n",
        "  if cgm.empty: return None\n",
        "  cgm = cgm.reset_index(drop=True)\n",
        "\n",
        "  peaks_idx, peak_dict = find_peaks(cgm['glucose'],\n",
        "                                    height=100,\n",
        "                                    prominence=10,\n",
        "                                    distance=12)\n",
        "\n",
        "  peak_df = pd.DataFrame(peak_dict)\n",
        "  peak_df['idx'] = list(peaks_idx)\n",
        "  peak_df['time'] = cgm.loc[list(peaks_idx),'time'].values\n",
        "  peak_df = peak_df.sort_values(by=['prominences'], ascending=False).copy()\n",
        "  return peak_df.reset_index(drop=True)"
      ],
      "metadata": {
        "id": "j0oGFBGTREAI"
      },
      "execution_count": 5,
      "outputs": []
    },
    {
      "cell_type": "markdown",
      "source": [
        "# Parse Abbott Data"
      ],
      "metadata": {
        "id": "-F0XsB-GwZUm"
      }
    },
    {
      "cell_type": "code",
      "source": [
        "last_abbott_path = find_latest_path(_ABBOTT_ROOT_)\n",
        "if last_abbott_path is None:\n",
        "  print(\"No Abbott data found\")\n",
        "else:\n",
        "  print(f\"importing Abbot file: {last_abbott_path}\")"
      ],
      "metadata": {
        "colab": {
          "base_uri": "https://localhost:8080/"
        },
        "id": "VvmXFF7EwblU",
        "outputId": "4f051580-54e5-42a3-b864-d2577ef79845"
      },
      "execution_count": 6,
      "outputs": [
        {
          "output_type": "stream",
          "name": "stdout",
          "text": [
            "importing Abbot file: /content/drive/My Drive/Health Data/Abbott/JavierPrieto_glucose_28-6-2023.csv\n"
          ]
        }
      ]
    },
    {
      "cell_type": "code",
      "source": [
        "abbott_log = pd.read_csv(last_abbott_path, skiprows=1)\n",
        "\n",
        "# clean up NaNs, 0-values and duplicates\n",
        "abbott_log = abbott_log.dropna(axis=1, how='all').copy()\n",
        "abbott_log.drop_duplicates(inplace=True)\n",
        "\n",
        "# ensure glucose value is numeric and in single column\n",
        "abbott_log = abbott_log.fillna(0)\n",
        "if ('Historial de glucosa mg/dL' in abbott_log.columns) and ('Escaneo de glucosa mg/dL' in abbott_log.columns):\n",
        "  abbott_log['glucose'] = pd.to_numeric(abbott_log['Historial de glucosa mg/dL'], errors='coerce') + \\\n",
        "                          pd.to_numeric(abbott_log['Escaneo de glucosa mg/dL'], errors='coerce')\n",
        "else:\n",
        "  raise ValueError(f\"I cannot find the glucose columns in {last_abbott_path}\")\n",
        "abbott_log = abbott_log[abbott_log['glucose'] > 1]\n",
        "\n",
        "# ensure time column is in local time - non-localized and sorted\n",
        "if 'Sello de tiempo del dispositivo' in abbott_log.columns:\n",
        "  abbott_log['time'] = pd.to_datetime(abbott_log['Sello de tiempo del dispositivo'],\n",
        "                                      format='mixed')\n",
        "else:\n",
        "  raise ValueError(f\"I cannot find the time column in {last_abbott_path}\")\n",
        "abbot_log = abbott_log.sort_values(by=['time']).reset_index(drop=True)\n",
        "\n",
        "abbott_log = abbott_log[['time', 'glucose']].copy()\n",
        "abbott_log['device'] = 'FreeStyle Libre'\n",
        "abbott_log['unit'] = 'mg/dL'\n",
        "\n",
        "if abbott_log['time'].dt.tz:\n",
        "  print(\"WARNING!!!!: Time is unexpectedly localized\")"
      ],
      "metadata": {
        "id": "dQSo1Aoxwd8c"
      },
      "execution_count": 7,
      "outputs": []
    },
    {
      "cell_type": "markdown",
      "source": [
        "# Parse Nutrisense Data"
      ],
      "metadata": {
        "id": "K0M-6RjvrrbU"
      }
    },
    {
      "cell_type": "code",
      "source": [
        "last_nutri_path = find_latest_path(_NUTRISENSE_ROOT_)\n",
        "if last_nutri_path is None:\n",
        "  print(\"No Nutrisense data found\")\n",
        "else:\n",
        "  print(f\"importing Nutrisense file: {last_nutri_path}\")\n",
        "\n",
        "nutrisense_log = pd.read_csv(last_nutri_path)"
      ],
      "metadata": {
        "colab": {
          "base_uri": "https://localhost:8080/"
        },
        "id": "Y759AfGCrpl8",
        "outputId": "0187df20-a029-4aaa-ee22-00b90deb39bf"
      },
      "execution_count": 8,
      "outputs": [
        {
          "output_type": "stream",
          "name": "stdout",
          "text": [
            "importing Nutrisense file: /content/drive/My Drive/Health Data/Nutrisense/20240818_data-export.csv\n"
          ]
        }
      ]
    },
    {
      "cell_type": "code",
      "source": [
        "# Parse the glucose data\n",
        "nutrisense_glucose = nutrisense_log[nutrisense_log['class'] == 'GlucoseMeasurement'].copy()\n",
        "\n",
        "# ensure glucose values are numeric\n",
        "if 'value' in nutrisense_glucose.columns:\n",
        "  nutrisense_glucose['glucose'] = pd.to_numeric(nutrisense_glucose['value'], errors='coerce')\n",
        "else:\n",
        "  raise ValueError(f\"I cannot find the glucose column in {last_nutri_path}\")\n",
        "\n",
        "# ensure time column is in local time - non-localized and sorted\n",
        "if 'occurred_at' in nutrisense_glucose.columns:\n",
        "  nutrisense_glucose['time'] = pd.to_datetime(nutrisense_glucose['occurred_at'], format='mixed')\n",
        "else:\n",
        "  raise ValueError(f\"I cannot find the time column in {last_nutri_path}\")\n",
        "nutrisense_glucose = nutrisense_glucose.sort_values(by=['time']).reset_index(drop=True)\n",
        "\n",
        "if nutrisense_glucose['time'].dt.tz:\n",
        "  nutrisense_glucose['time'] = nutrisense_glucose['time'].dt.tz_localize(None)\n",
        "\n",
        "# pair down number of columns\n",
        "nutrisense_glucose = nutrisense_glucose[['time', 'glucose']].copy()\n",
        "nutrisense_glucose['device'] = 'Nutrisense'\n",
        "nutrisense_glucose['unit'] = 'mg/dL'\n",
        "\n",
        "# clean up NaNs, 0-values and duplicates\n",
        "nutrisense_glucose = nutrisense_glucose.dropna(axis=1, how='all').copy()\n",
        "nutrisense_glucose.drop_duplicates(inplace=True)"
      ],
      "metadata": {
        "id": "9vkHTqFIr5Dj"
      },
      "execution_count": 9,
      "outputs": []
    },
    {
      "cell_type": "code",
      "source": [
        "def parse_nutrition(body):\n",
        "  \"\"\"\n",
        "  Extracts nutritional information from the body of a Nutrisense food log\n",
        "\n",
        "  Args:\n",
        "    body: The body of a Nutrisense food log\n",
        "\n",
        "  Returns:\n",
        "    A tuple containing the total calories, total fat, total protein, total carbs,\n",
        "    total saturated fat, total sugar, and total fiber\n",
        "  \"\"\"\n",
        "  if body == []:\n",
        "    return 0, 0, 0, 0, 0, 0, 0\n",
        "  else:\n",
        "    items = json.loads(body)\n",
        "    total_calories = sum(item['calories'] for item in items)\n",
        "    total_fat = sum(item['nutrition'].get('total_fat', 0) for item in items)\n",
        "    total_protein = sum(item['nutrition'].get('protein', 0) for item in items)\n",
        "    total_carbs = sum(item['nutrition'].get('total_carb', 0) for item in items)\n",
        "    total_saturated_fat = sum(item['nutrition'].get('saturated_fat', 0) for item in items)\n",
        "    total_sugar = sum(item['nutrition'].get('sugars', 0) for item in items)\n",
        "    total_fiber = sum(item['nutrition'].get('fiber', 0) for item in items)\n",
        "\n",
        "    return total_calories, total_fat, total_protein, total_carbs, total_saturated_fat, total_sugar, total_fiber"
      ],
      "metadata": {
        "id": "qo6KtP2nm2Fr"
      },
      "execution_count": 10,
      "outputs": []
    },
    {
      "cell_type": "code",
      "source": [
        "nutrisense_meals = nutrisense_log[nutrisense_log['class'] == \"Meal\"].copy()\n",
        "nutrisense_meals = nutrisense_meals.drop(['class', 'value', 'length',\n",
        "                                          'photo_url', 'created_by',\n",
        "                                          'ended_at', 'started_at',\n",
        "                                          'updated_at'], axis=1).copy()\n",
        "\n",
        "# parse nutritional information\n",
        "nutrition_info = nutrisense_meals['body'].apply(parse_nutrition)\n",
        "nutrition_df = pd.DataFrame(nutrition_info.tolist(),\n",
        "                            columns=['Calories', 'Fat',\n",
        "                                     'Protein', 'Carbs',\n",
        "                                     'Sat Fat', 'Sugar',\n",
        "                                     'Fiber'],\n",
        "                            index=nutrition_info.index)\n",
        "\n",
        "# assemble compact dataframe with full meal summary\n",
        "nutrisense_meals['occurred_at'] = pd.to_datetime(nutrisense_meals['occurred_at'])\n",
        "if nutrisense_meals['occurred_at'].dt.tz:\n",
        "  nutrisense_meals['occurred_at'] = nutrisense_meals['occurred_at'].dt.tz_localize(None)\n",
        "nutrisense_compact = pd.DataFrame({\n",
        "    'Date': nutrisense_meals['occurred_at'].dt.date,\n",
        "    'Meal': nutrisense_meals['time'],\n",
        "    'Name': nutrisense_meals['description'],\n",
        "    'Time': nutrisense_meals['occurred_at'].dt.time,\n",
        "    'DateTime': nutrisense_meals['occurred_at']\n",
        "})\n",
        "\n",
        "\n",
        "# Combine the nutritional data\n",
        "nutrisense_compact = pd.concat([nutrisense_compact, nutrition_df], axis=1)\n",
        "nutrisense_compact['True Time'] = True\n",
        "nutrisense_compact = nutrisense_compact[nutrisense_compact['Calories'] > 10]"
      ],
      "metadata": {
        "id": "C1GeBOLCizn0"
      },
      "execution_count": 11,
      "outputs": []
    },
    {
      "cell_type": "markdown",
      "source": [
        "# Parse LoseIt Data"
      ],
      "metadata": {
        "id": "DvZBnvs-qrdR"
      }
    },
    {
      "cell_type": "code",
      "source": [
        "last_loseit_path = find_latest_path(_LOSEIT_ROOT_)\n",
        "if last_loseit_path is None:\n",
        "  print(\"No LoseIt data found\")\n",
        "else:\n",
        "  print(f\"importing LoseIt file: {last_loseit_path}\")"
      ],
      "metadata": {
        "colab": {
          "base_uri": "https://localhost:8080/"
        },
        "id": "eMqgmIlqqu1B",
        "outputId": "bde11a82-bf77-4f40-9b09-954af00a735b"
      },
      "execution_count": 12,
      "outputs": [
        {
          "output_type": "stream",
          "name": "stdout",
          "text": [
            "importing LoseIt file: /content/drive/My Drive/Health Data/LoseIt/20240818_food-logs.csv\n"
          ]
        }
      ]
    },
    {
      "cell_type": "code",
      "source": [
        "loseit_log = pd.read_csv(last_loseit_path)\n",
        "loseit_log['Date'] = pd.to_datetime(loseit_log['Date'], format='%m/%d/%Y')\n",
        "loseit_log['Date'] = loseit_log['Date'].dt.date\n",
        "\n",
        "# remove all items that were deleted\n",
        "loseit_log = loseit_log[loseit_log['Deleted'] == 0]\n",
        "# delete irrelevant columns and clean column names\n",
        "loseit_log = loseit_log.drop(['Icon',\n",
        "                              'Deleted',\n",
        "                              'Cholesterol (mg)',\n",
        "                              'Units',\n",
        "                              'Quantity',\n",
        "                              'Sodium (mg)'], axis=1).copy()\n",
        "loseit_log.rename(columns={'Fat (g)': 'Fat',\n",
        "                           'Protein (g)': 'Protein',\n",
        "                           'Carbohydrates (g)': 'Carbs',\n",
        "                           'Saturated Fat (g)': 'Sat Fat',\n",
        "                           'Sugars (g)': 'Sugar',\n",
        "                           'Fiber (g)': 'Fiber'}, inplace=True)\n",
        "\n",
        "# make sure all values are numeric\n",
        "numeric_columns = ['Calories', 'Fat',\n",
        "                   'Protein', 'Carbs',\n",
        "                   'Sat Fat', 'Sugar', 'Fiber']\n",
        "loseit_log[numeric_columns] = loseit_log[numeric_columns].apply(pd.to_numeric,\n",
        "                                                                errors='coerce')\n",
        "loseit_log.fillna(0, inplace=True)\n",
        "\n",
        "\n",
        "compact_loseit =  loseit_log.groupby(['Date', 'Meal']).agg({\n",
        "    'Name': lambda x: '; '.join(x),\n",
        "    'Calories': 'sum',\n",
        "    'Fat': 'sum',\n",
        "    'Protein': 'sum',\n",
        "    'Carbs': 'sum',\n",
        "    'Sat Fat': 'sum',\n",
        "    'Sugar': 'sum',\n",
        "    'Fiber': 'sum'}).reset_index()"
      ],
      "metadata": {
        "id": "V2M8T9bTq_pX"
      },
      "execution_count": 13,
      "outputs": []
    },
    {
      "cell_type": "code",
      "source": [
        "def extract_time(row):\n",
        "    # Regular expression to find time in format HH:MM AM/PM\n",
        "    time_match = re.search(r'\\b\\d{1,2}:\\d{2} (AM|PM)\\b', row['Name'])\n",
        "\n",
        "    if time_match:\n",
        "        return time_match.group(), True\n",
        "    else:\n",
        "        # Set default time based on meal type\n",
        "        if row['Meal'] == 'Breakfast':\n",
        "          return '8:00 AM', False\n",
        "        elif row['Meal'] == 'Lunch':\n",
        "          return '12:00 PM', False\n",
        "        elif row['Meal'] == 'Dinner':\n",
        "          return '6:00 PM', False\n",
        "        elif (row['Meal'] == 'Snacks') | (row['Meal'] == 'Afternoon Snacks'):\n",
        "          return '4:00 PM', False\n",
        "        elif row['Meal'] == 'Morning Snacks':\n",
        "          return '10:00 AM', False\n",
        "        else:\n",
        "          print(f'not handling: {row[\"Meal\"]}')\n",
        "          return None, False\n",
        "\n",
        "compact_loseit['Time'], compact_loseit['True Time'] = zip(*compact_loseit.apply(extract_time, axis=1))\n",
        "\n",
        "# Convert the 'Time' column to a proper datetime format with today's date\n",
        "compact_loseit['Time'] = pd.to_datetime(compact_loseit['Time'],\n",
        "                                        format='%I:%M %p').dt.time\n",
        "compact_loseit['DateTime'] = compact_loseit.apply(lambda row: pd.Timestamp.combine(row['Date'], row['Time']), axis=1)"
      ],
      "metadata": {
        "id": "LIEf-xecL9BL"
      },
      "execution_count": 14,
      "outputs": []
    },
    {
      "cell_type": "markdown",
      "source": [
        "# Assemble and Explore Glucose Data"
      ],
      "metadata": {
        "id": "3jGRAcC4qTJW"
      }
    },
    {
      "cell_type": "markdown",
      "source": [
        "## Clean up CGM data (assmeble, remove partial days, filter)"
      ],
      "metadata": {
        "id": "-ZIQLo0lEVO_"
      }
    },
    {
      "cell_type": "code",
      "source": [
        "# Merge all glucose data and sort by time\n",
        "glucose_data = pd.concat([abbott_log, nutrisense_glucose])\n",
        "glucose_data = glucose_data.drop_duplicates(subset=['time'],\n",
        "                                            keep=False).reset_index(drop=True)\n",
        "glucose_data = glucose_data.sort_values(by=['time']).reset_index(drop=True)\n",
        "glucose_data['date'] = glucose_data['time'].dt.date"
      ],
      "metadata": {
        "id": "GiGfYi4HESXi"
      },
      "execution_count": 15,
      "outputs": []
    },
    {
      "cell_type": "code",
      "source": [
        "# Remove the days that are only partially recorded in the CGM data\n",
        "# (they're first and last day anyways)\n",
        "grouped = glucose_data.groupby('date')\n",
        "time_spans = grouped['time'].agg(lambda x: x.max() - x.min())\n",
        "\n",
        "min_time_span = pd.Timedelta(hours=22)\n",
        "complete_days = time_spans[time_spans >= min_time_span].index\n",
        "glucose_data = glucose_data[glucose_data['date'].isin(complete_days)]\n",
        "glucose_data = glucose_data.sort_values(by=['time']).reset_index(drop=True)"
      ],
      "metadata": {
        "id": "JzzntxHvgpMr"
      },
      "execution_count": 16,
      "outputs": []
    },
    {
      "cell_type": "code",
      "source": [
        "glucose_data['glucose_filtered'] = glucose_data['glucose']\n",
        "# for day in glucose_data['date'].unique():\n",
        "#   df = glucose_data[glucose_data['date'] == day].copy()\n",
        "#   meal_day = compact_loseit[compact_loseit['Date'] == day]\n",
        "\n",
        "#   kf = KalmanFilter(dim_x=2, dim_z=1)\n",
        "\n",
        "#   # Define the initial state: [glucose level, glucose velocity]\n",
        "#   kf.x = np.array([[df['glucose'].iloc[0]], [0]])  # Initial state\n",
        "\n",
        "#   # State Transition Matrix (F): Model how the state evolves\n",
        "#   dt = 1.0  # time step\n",
        "#   kf.F = np.array([[1, dt],\n",
        "#                   [0, 1]])\n",
        "\n",
        "#   # Observation Matrix (H): Model how measurements relate to the state\n",
        "#   kf.H = np.array([[1, 0]])\n",
        "\n",
        "#   # Process noise covariance (Q): Assumed variance in the process\n",
        "#   kf.Q = 10 * np.array([[1e-5, 0],\n",
        "#                       [0, 1e-5]])\n",
        "\n",
        "#   # Measurement noise covariance (R): Variance in the measurements\n",
        "#   kf.R = np.array([[0.1]])\n",
        "\n",
        "#   # Covariance matrix (P)\n",
        "#   kf.P = np.eye(2) * 0.1\n",
        "\n",
        "#   # Kalman filtering of the glucose measurements\n",
        "#   filtered_glucose = []\n",
        "#   adaptation_factor = 0.1\n",
        "#   for z in df['glucose']:\n",
        "#       kf.predict()   # Predict the next state\n",
        "#       # residual = z - kf.x[0, 0]\n",
        "#       # kf.Q *= (1 + adaptation_factor * np.abs(residual))\n",
        "#       kf.update(z)   # Update the state with the new measurement\n",
        "#       filtered_glucose.append(kf.x[0, 0])\n",
        "\n",
        "#   glucose_data.loc[df.index, 'glucose_filtered'] = filtered_glucose"
      ],
      "metadata": {
        "id": "EXmL39o6mFRs"
      },
      "execution_count": 17,
      "outputs": []
    },
    {
      "cell_type": "markdown",
      "source": [
        "## Assemble meal data and summarize CGM per meal"
      ],
      "metadata": {
        "id": "HeNcWkKJE6L0"
      }
    },
    {
      "cell_type": "code",
      "source": [
        "meals = pd.concat([compact_loseit, nutrisense_compact], ignore_index=True)\n",
        "meals = meals.sort_values(by=['DateTime']).reset_index(drop=True)"
      ],
      "metadata": {
        "id": "CotrVvV6qd0I"
      },
      "execution_count": 18,
      "outputs": []
    },
    {
      "cell_type": "markdown",
      "source": [
        "## Summarize each day [CGM and days] and join"
      ],
      "metadata": {
        "id": "5f0H7tkQcHYJ"
      }
    },
    {
      "cell_type": "code",
      "source": [
        "cgm_daily_stats =  glucose_data.groupby('date')['glucose'].agg(\n",
        "    mean='mean',\n",
        "    median='median',\n",
        "    std='std',\n",
        "    min='min',\n",
        "    max='max')\n",
        "cgm_daily_stats.rename(columns={'mean': 'cgm_mean',\n",
        "                                'median': 'cgm_median',\n",
        "                                'std': 'cgm_std',\n",
        "                                'min': 'cgm_min',\n",
        "                                'max': 'cgm_max'}, inplace=True)"
      ],
      "metadata": {
        "id": "p1VGcDPDcNu0"
      },
      "execution_count": 19,
      "outputs": []
    },
    {
      "cell_type": "code",
      "source": [
        "daily_macros =  meals.groupby('Date')[['Calories',\n",
        "                                       'Fat',\n",
        "                                       'Protein',\n",
        "                                       'Carbs',\n",
        "                                       'Sat Fat',\n",
        "                                       'Sugar',\n",
        "                                       'Fiber']].sum()\n",
        "daily_macros['calc_calories'] = daily_macros['Fat'] * 9 + \\\n",
        "                                daily_macros['Protein'] * 4 + \\\n",
        "                                daily_macros['Carbs'] * 4\n",
        "daily_macros['%_fat'] = 9 * daily_macros['Fat'] / daily_macros['calc_calories']\n",
        "daily_macros['%_carbs'] = 4 * daily_macros['Carbs'] / daily_macros['calc_calories']\n",
        "daily_macros['%_proteins'] = 4 * daily_macros['Protein'] / daily_macros['calc_calories']\n",
        "daily_macros['sugar_to_fiber'] = daily_macros['Sugar'] / daily_macros['Fiber']"
      ],
      "metadata": {
        "id": "khZOQAikehG9"
      },
      "execution_count": 20,
      "outputs": []
    },
    {
      "cell_type": "code",
      "source": [
        "cgm_and_macros = pd.merge(daily_macros, cgm_daily_stats, left_index=True, right_index=True, how='inner')\n",
        "\n",
        "# remove days unrealistically low or high on total calories (e.g. < 1000)\n",
        "cgm_and_macros = cgm_and_macros[cgm_and_macros['Calories'] > 1000].copy()\n",
        "cgm_and_macros = cgm_and_macros[cgm_and_macros['Calories'] < 4000].copy()"
      ],
      "metadata": {
        "id": "SJRC7G59gf0b"
      },
      "execution_count": 21,
      "outputs": []
    },
    {
      "cell_type": "code",
      "source": [
        "# df = cgm_and_macros.copy()\n",
        "\n",
        "# # Calculate the correlation matrix\n",
        "# corr_matrix = df.corr()\n",
        "\n",
        "# # Plot the heatmap\n",
        "# plt.figure(figsize=(10, 8))\n",
        "# sns.heatmap(corr_matrix, annot=True, cmap='coolwarm', vmin=-1, vmax=1)\n",
        "# plt.title('Correlation Matrix')\n",
        "# plt.show()\n",
        "\n",
        "# # Find the strongest pairwise correlations\n",
        "# corr_pairs = corr_matrix.unstack().reset_index()\n",
        "# corr_pairs.columns = ['Variable 1', 'Variable 2', 'Correlation']\n",
        "# corr_pairs['cross'] = corr_pairs['Variable 1'].apply(lambda x: x in daily_macros.columns) & corr_pairs['Variable 2'].apply(lambda x: x in cgm_daily_stats.columns)\n",
        "# corr_pairs = corr_pairs[corr_pairs['cross']]\n",
        "# corr_pairs['sign'] = np.sign(corr_pairs['Correlation'])\n",
        "# corr_pairs['Correlation'] = np.abs(corr_pairs['Correlation'])\n",
        "# corr_pairs = corr_pairs.drop_duplicates(subset=['Correlation'])  # Avoid duplicate pairs\n",
        "# corr_pairs = corr_pairs.sort_values(by='Correlation', ascending=False)  # Sort by absolute correlation\n",
        "\n",
        "# print(\"Top Correlations:\")\n",
        "# corr_pairs"
      ],
      "metadata": {
        "id": "KopU4cQ1j-GA"
      },
      "execution_count": 22,
      "outputs": []
    },
    {
      "cell_type": "code",
      "source": [
        "# plt.scatter(cgm_and_macros['%_carbs'], cgm_and_macros['cgm_std'])\n",
        "# plt.xlabel('%_carbs')\n",
        "# plt.ylabel('CGM_std')\n",
        "# plt.show()\n",
        "\n",
        "# plt.scatter(cgm_and_macros['%_fat'], cgm_and_macros['cgm_std'])\n",
        "# plt.xlabel('%_fat')\n",
        "# plt.ylabel('CGM_std')\n",
        "# plt.show()"
      ],
      "metadata": {
        "id": "g_x7y9VWkyBs"
      },
      "execution_count": 23,
      "outputs": []
    },
    {
      "cell_type": "markdown",
      "source": [
        "## Plot CGM and food logs"
      ],
      "metadata": {
        "id": "JoOSTHtEEhKi"
      }
    },
    {
      "cell_type": "code",
      "source": [
        "# Plot all days with good CGM and food log data for visualization\n",
        "complete_days = set()\n",
        "\n",
        "# for day in glucose_data['date'].unique():\n",
        "for day in cgm_and_macros.index.unique():\n",
        "  # extract loseit meal data for a given day\n",
        "  meal_day = meals[meals['Date'] == day]\n",
        "  glucose_day = glucose_data[glucose_data['date'] == day]\n",
        "  if not meal_day.empty:\n",
        "    complete_days.add(day)\n",
        "\n",
        "    # Create a figure\n",
        "    p = figure(width=600, height=400, x_axis_type='datetime',\n",
        "                tools=['pan','xwheel_zoom', 'ywheel_zoom'],\n",
        "                active_scroll='xwheel_zoom', x_axis_location='above')\n",
        "\n",
        "    # Main CGM line\n",
        "    p.line(glucose_day['time'], glucose_day['glucose'],\n",
        "           line_width=2, line_color='gray', line_alpha=0.5)\n",
        "    # # Main CGM line_filtered\n",
        "    # p.line(glucose_day['time'], glucose_day['glucose_filtered'],\n",
        "    #        line_width=2, line_color='black', line_alpha=1)\n",
        "\n",
        "    # Mean CGM trace\n",
        "    glucose_mean = np.mean(glucose_day['glucose'])\n",
        "    mean_span = Span(location=glucose_mean, dimension='width',\n",
        "                     line_color='red', line_width=1, line_alpha=1)\n",
        "    p.add_layout(mean_span)\n",
        "\n",
        "    # CGM Peaks\n",
        "    peaks_df = identify_cgm_peaks(glucose_day)\n",
        "    p.scatter(peaks_df['time'], peaks_df['peak_heights'],\n",
        "              size=6, color='darkblue', alpha=0.7)\n",
        "\n",
        "    # Meal bands\n",
        "    for _, row in meal_day.iterrows():\n",
        "      if row['True Time']:\n",
        "        color = 'lightgreen'\n",
        "      else:\n",
        "        color = 'orange'\n",
        "      meal_span = Span(location=row['DateTime'], dimension='height',\n",
        "                       line_color=color, line_width=2, line_alpha=1)\n",
        "      p.add_layout(meal_span)\n",
        "\n",
        "      meal_shade = BoxAnnotation(left=row['DateTime'],\n",
        "                                 right=row['DateTime'] + pd.Timedelta(hours=1),\n",
        "                                 fill_color=color,\n",
        "                                 fill_alpha=0.3)\n",
        "      p.add_layout(meal_shade)\n",
        "\n",
        "      label = Label(x=row['DateTime'], y=110, text=f\"{row['Calories']:.2f}\",\n",
        "                    text_color='black', text_font_size=\"10pt\",\n",
        "                    angle=90, angle_units=\"deg\",\n",
        "                    background_fill_color=\"white\",\n",
        "                    background_fill_alpha=0.7)\n",
        "      p.add_layout(label)\n",
        "\n",
        "    # Customize the plot\n",
        "    p.xaxis.axis_label = \"Time\"\n",
        "    p.yaxis.axis_label = \"Glucose\"\n",
        "    p.title.text = f\"Day: {row['Date']}\"\n",
        "    p.title.align = \"center\"\n",
        "    p.title.text_font_size = \"20pt\"\n",
        "    p.title.text_font_style = \"bold\"\n",
        "\n",
        "    # Show the plot\n",
        "    show(p)\n",
        "    print('\\n\\n')\n",
        "\n",
        "print(f\"There are {len(complete_days)} days: {complete_days}\")"
      ],
      "metadata": {
        "colab": {
          "base_uri": "https://localhost:8080/",
          "height": 1000
        },
        "id": "wHDZX7AhqZE3",
        "outputId": "ed82dad9-5514-499e-deaa-1a2a35a908d1"
      },
      "execution_count": 28,
      "outputs": [
        {
          "output_type": "display_data",
          "data": {
            "application/javascript": [
              "'use strict';\n",
              "(function(root) {\n",
              "  function now() {\n",
              "    return new Date();\n",
              "  }\n",
              "\n",
              "  const force = true;\n",
              "\n",
              "  if (typeof root._bokeh_onload_callbacks === \"undefined\" || force === true) {\n",
              "    root._bokeh_onload_callbacks = [];\n",
              "    root._bokeh_is_loading = undefined;\n",
              "  }\n",
              "\n",
              "const JS_MIME_TYPE = 'application/javascript';\n",
              "  const HTML_MIME_TYPE = 'text/html';\n",
              "  const EXEC_MIME_TYPE = 'application/vnd.bokehjs_exec.v0+json';\n",
              "  const CLASS_NAME = 'output_bokeh rendered_html';\n",
              "\n",
              "  /**\n",
              "   * Render data to the DOM node\n",
              "   */\n",
              "  function render(props, node) {\n",
              "    const script = document.createElement(\"script\");\n",
              "    node.appendChild(script);\n",
              "  }\n",
              "\n",
              "  /**\n",
              "   * Handle when an output is cleared or removed\n",
              "   */\n",
              "  function handleClearOutput(event, handle) {\n",
              "    function drop(id) {\n",
              "      const view = Bokeh.index.get_by_id(id)\n",
              "      if (view != null) {\n",
              "        view.model.document.clear()\n",
              "        Bokeh.index.delete(view)\n",
              "      }\n",
              "    }\n",
              "\n",
              "    const cell = handle.cell;\n",
              "\n",
              "    const id = cell.output_area._bokeh_element_id;\n",
              "    const server_id = cell.output_area._bokeh_server_id;\n",
              "\n",
              "    // Clean up Bokeh references\n",
              "    if (id != null) {\n",
              "      drop(id)\n",
              "    }\n",
              "\n",
              "    if (server_id !== undefined) {\n",
              "      // Clean up Bokeh references\n",
              "      const cmd_clean = \"from bokeh.io.state import curstate; print(curstate().uuid_to_server['\" + server_id + \"'].get_sessions()[0].document.roots[0]._id)\";\n",
              "      cell.notebook.kernel.execute(cmd_clean, {\n",
              "        iopub: {\n",
              "          output: function(msg) {\n",
              "            const id = msg.content.text.trim()\n",
              "            drop(id)\n",
              "          }\n",
              "        }\n",
              "      });\n",
              "      // Destroy server and session\n",
              "      const cmd_destroy = \"import bokeh.io.notebook as ion; ion.destroy_server('\" + server_id + \"')\";\n",
              "      cell.notebook.kernel.execute(cmd_destroy);\n",
              "    }\n",
              "  }\n",
              "\n",
              "  /**\n",
              "   * Handle when a new output is added\n",
              "   */\n",
              "  function handleAddOutput(event, handle) {\n",
              "    const output_area = handle.output_area;\n",
              "    const output = handle.output;\n",
              "\n",
              "    // limit handleAddOutput to display_data with EXEC_MIME_TYPE content only\n",
              "    if ((output.output_type != \"display_data\") || (!Object.prototype.hasOwnProperty.call(output.data, EXEC_MIME_TYPE))) {\n",
              "      return\n",
              "    }\n",
              "\n",
              "    const toinsert = output_area.element.find(\".\" + CLASS_NAME.split(' ')[0]);\n",
              "\n",
              "    if (output.metadata[EXEC_MIME_TYPE][\"id\"] !== undefined) {\n",
              "      toinsert[toinsert.length - 1].firstChild.textContent = output.data[JS_MIME_TYPE];\n",
              "      // store reference to embed id on output_area\n",
              "      output_area._bokeh_element_id = output.metadata[EXEC_MIME_TYPE][\"id\"];\n",
              "    }\n",
              "    if (output.metadata[EXEC_MIME_TYPE][\"server_id\"] !== undefined) {\n",
              "      const bk_div = document.createElement(\"div\");\n",
              "      bk_div.innerHTML = output.data[HTML_MIME_TYPE];\n",
              "      const script_attrs = bk_div.children[0].attributes;\n",
              "      for (let i = 0; i < script_attrs.length; i++) {\n",
              "        toinsert[toinsert.length - 1].firstChild.setAttribute(script_attrs[i].name, script_attrs[i].value);\n",
              "        toinsert[toinsert.length - 1].firstChild.textContent = bk_div.children[0].textContent\n",
              "      }\n",
              "      // store reference to server id on output_area\n",
              "      output_area._bokeh_server_id = output.metadata[EXEC_MIME_TYPE][\"server_id\"];\n",
              "    }\n",
              "  }\n",
              "\n",
              "  function register_renderer(events, OutputArea) {\n",
              "\n",
              "    function append_mime(data, metadata, element) {\n",
              "      // create a DOM node to render to\n",
              "      const toinsert = this.create_output_subarea(\n",
              "        metadata,\n",
              "        CLASS_NAME,\n",
              "        EXEC_MIME_TYPE\n",
              "      );\n",
              "      this.keyboard_manager.register_events(toinsert);\n",
              "      // Render to node\n",
              "      const props = {data: data, metadata: metadata[EXEC_MIME_TYPE]};\n",
              "      render(props, toinsert[toinsert.length - 1]);\n",
              "      element.append(toinsert);\n",
              "      return toinsert\n",
              "    }\n",
              "\n",
              "    /* Handle when an output is cleared or removed */\n",
              "    events.on('clear_output.CodeCell', handleClearOutput);\n",
              "    events.on('delete.Cell', handleClearOutput);\n",
              "\n",
              "    /* Handle when a new output is added */\n",
              "    events.on('output_added.OutputArea', handleAddOutput);\n",
              "\n",
              "    /**\n",
              "     * Register the mime type and append_mime function with output_area\n",
              "     */\n",
              "    OutputArea.prototype.register_mime_type(EXEC_MIME_TYPE, append_mime, {\n",
              "      /* Is output safe? */\n",
              "      safe: true,\n",
              "      /* Index of renderer in `output_area.display_order` */\n",
              "      index: 0\n",
              "    });\n",
              "  }\n",
              "\n",
              "  // register the mime type if in Jupyter Notebook environment and previously unregistered\n",
              "  if (root.Jupyter !== undefined) {\n",
              "    const events = require('base/js/events');\n",
              "    const OutputArea = require('notebook/js/outputarea').OutputArea;\n",
              "\n",
              "    if (OutputArea.prototype.mime_types().indexOf(EXEC_MIME_TYPE) == -1) {\n",
              "      register_renderer(events, OutputArea);\n",
              "    }\n",
              "  }\n",
              "  if (typeof (root._bokeh_timeout) === \"undefined\" || force === true) {\n",
              "    root._bokeh_timeout = Date.now() + 5000;\n",
              "    root._bokeh_failed_load = false;\n",
              "  }\n",
              "\n",
              "  const NB_LOAD_WARNING = {'data': {'text/html':\n",
              "     \"<div style='background-color: #fdd'>\\n\"+\n",
              "     \"<p>\\n\"+\n",
              "     \"BokehJS does not appear to have successfully loaded. If loading BokehJS from CDN, this \\n\"+\n",
              "     \"may be due to a slow or bad network connection. Possible fixes:\\n\"+\n",
              "     \"</p>\\n\"+\n",
              "     \"<ul>\\n\"+\n",
              "     \"<li>re-rerun `output_notebook()` to attempt to load from CDN again, or</li>\\n\"+\n",
              "     \"<li>use INLINE resources instead, as so:</li>\\n\"+\n",
              "     \"</ul>\\n\"+\n",
              "     \"<code>\\n\"+\n",
              "     \"from bokeh.resources import INLINE\\n\"+\n",
              "     \"output_notebook(resources=INLINE)\\n\"+\n",
              "     \"</code>\\n\"+\n",
              "     \"</div>\"}};\n",
              "\n",
              "  function display_loaded(error = null) {\n",
              "    const el = document.getElementById(null);\n",
              "    if (el != null) {\n",
              "      const html = (() => {\n",
              "        if (typeof root.Bokeh === \"undefined\") {\n",
              "          if (error == null) {\n",
              "            return \"BokehJS is loading ...\";\n",
              "          } else {\n",
              "            return \"BokehJS failed to load.\";\n",
              "          }\n",
              "        } else {\n",
              "          const prefix = `BokehJS ${root.Bokeh.version}`;\n",
              "          if (error == null) {\n",
              "            return `${prefix} successfully loaded.`;\n",
              "          } else {\n",
              "            return `${prefix} <b>encountered errors</b> while loading and may not function as expected.`;\n",
              "          }\n",
              "        }\n",
              "      })();\n",
              "      el.innerHTML = html;\n",
              "\n",
              "      if (error != null) {\n",
              "        const wrapper = document.createElement(\"div\");\n",
              "        wrapper.style.overflow = \"auto\";\n",
              "        wrapper.style.height = \"5em\";\n",
              "        wrapper.style.resize = \"vertical\";\n",
              "        const content = document.createElement(\"div\");\n",
              "        content.style.fontFamily = \"monospace\";\n",
              "        content.style.whiteSpace = \"pre-wrap\";\n",
              "        content.style.backgroundColor = \"rgb(255, 221, 221)\";\n",
              "        content.textContent = error.stack ?? error.toString();\n",
              "        wrapper.append(content);\n",
              "        el.append(wrapper);\n",
              "      }\n",
              "    } else if (Date.now() < root._bokeh_timeout) {\n",
              "      setTimeout(() => display_loaded(error), 100);\n",
              "    }\n",
              "  }\n",
              "\n",
              "  function run_callbacks() {\n",
              "    try {\n",
              "      root._bokeh_onload_callbacks.forEach(function(callback) {\n",
              "        if (callback != null)\n",
              "          callback();\n",
              "      });\n",
              "    } finally {\n",
              "      delete root._bokeh_onload_callbacks\n",
              "    }\n",
              "    console.debug(\"Bokeh: all callbacks have finished\");\n",
              "  }\n",
              "\n",
              "  function load_libs(css_urls, js_urls, callback) {\n",
              "    if (css_urls == null) css_urls = [];\n",
              "    if (js_urls == null) js_urls = [];\n",
              "\n",
              "    root._bokeh_onload_callbacks.push(callback);\n",
              "    if (root._bokeh_is_loading > 0) {\n",
              "      console.debug(\"Bokeh: BokehJS is being loaded, scheduling callback at\", now());\n",
              "      return null;\n",
              "    }\n",
              "    if (js_urls == null || js_urls.length === 0) {\n",
              "      run_callbacks();\n",
              "      return null;\n",
              "    }\n",
              "    console.debug(\"Bokeh: BokehJS not loaded, scheduling load and callback at\", now());\n",
              "    root._bokeh_is_loading = css_urls.length + js_urls.length;\n",
              "\n",
              "    function on_load() {\n",
              "      root._bokeh_is_loading--;\n",
              "      if (root._bokeh_is_loading === 0) {\n",
              "        console.debug(\"Bokeh: all BokehJS libraries/stylesheets loaded\");\n",
              "        run_callbacks()\n",
              "      }\n",
              "    }\n",
              "\n",
              "    function on_error(url) {\n",
              "      console.error(\"failed to load \" + url);\n",
              "    }\n",
              "\n",
              "    for (let i = 0; i < css_urls.length; i++) {\n",
              "      const url = css_urls[i];\n",
              "      const element = document.createElement(\"link\");\n",
              "      element.onload = on_load;\n",
              "      element.onerror = on_error.bind(null, url);\n",
              "      element.rel = \"stylesheet\";\n",
              "      element.type = \"text/css\";\n",
              "      element.href = url;\n",
              "      console.debug(\"Bokeh: injecting link tag for BokehJS stylesheet: \", url);\n",
              "      document.body.appendChild(element);\n",
              "    }\n",
              "\n",
              "    for (let i = 0; i < js_urls.length; i++) {\n",
              "      const url = js_urls[i];\n",
              "      const element = document.createElement('script');\n",
              "      element.onload = on_load;\n",
              "      element.onerror = on_error.bind(null, url);\n",
              "      element.async = false;\n",
              "      element.src = url;\n",
              "      console.debug(\"Bokeh: injecting script tag for BokehJS library: \", url);\n",
              "      document.head.appendChild(element);\n",
              "    }\n",
              "  };\n",
              "\n",
              "  function inject_raw_css(css) {\n",
              "    const element = document.createElement(\"style\");\n",
              "    element.appendChild(document.createTextNode(css));\n",
              "    document.body.appendChild(element);\n",
              "  }\n",
              "\n",
              "  const js_urls = [\"https://cdn.bokeh.org/bokeh/release/bokeh-3.4.3.min.js\", \"https://cdn.bokeh.org/bokeh/release/bokeh-gl-3.4.3.min.js\", \"https://cdn.bokeh.org/bokeh/release/bokeh-widgets-3.4.3.min.js\", \"https://cdn.bokeh.org/bokeh/release/bokeh-tables-3.4.3.min.js\", \"https://cdn.bokeh.org/bokeh/release/bokeh-mathjax-3.4.3.min.js\"];\n",
              "  const css_urls = [];\n",
              "\n",
              "  const inline_js = [    function(Bokeh) {\n",
              "      Bokeh.set_log_level(\"info\");\n",
              "    },\n",
              "function(Bokeh) {\n",
              "    }\n",
              "  ];\n",
              "\n",
              "  function run_inline_js() {\n",
              "    if (root.Bokeh !== undefined || force === true) {\n",
              "      try {\n",
              "            for (let i = 0; i < inline_js.length; i++) {\n",
              "      inline_js[i].call(root, root.Bokeh);\n",
              "    }\n",
              "\n",
              "      } catch (error) {throw error;\n",
              "      }} else if (Date.now() < root._bokeh_timeout) {\n",
              "      setTimeout(run_inline_js, 100);\n",
              "    } else if (!root._bokeh_failed_load) {\n",
              "      console.log(\"Bokeh: BokehJS failed to load within specified timeout.\");\n",
              "      root._bokeh_failed_load = true;\n",
              "    } else if (force !== true) {\n",
              "      const cell = $(document.getElementById(null)).parents('.cell').data().cell;\n",
              "      cell.output_area.append_execute_result(NB_LOAD_WARNING)\n",
              "    }\n",
              "  }\n",
              "\n",
              "  if (root._bokeh_is_loading === 0) {\n",
              "    console.debug(\"Bokeh: BokehJS loaded, going straight to plotting\");\n",
              "    run_inline_js();\n",
              "  } else {\n",
              "    load_libs(css_urls, js_urls, function() {\n",
              "      console.debug(\"Bokeh: BokehJS plotting callback run at\", now());\n",
              "      run_inline_js();\n",
              "    });\n",
              "  }\n",
              "}(window));"
            ],
            "application/vnd.bokehjs_load.v0+json": "'use strict';\n(function(root) {\n  function now() {\n    return new Date();\n  }\n\n  const force = true;\n\n  if (typeof root._bokeh_onload_callbacks === \"undefined\" || force === true) {\n    root._bokeh_onload_callbacks = [];\n    root._bokeh_is_loading = undefined;\n  }\n\n\n  if (typeof (root._bokeh_timeout) === \"undefined\" || force === true) {\n    root._bokeh_timeout = Date.now() + 5000;\n    root._bokeh_failed_load = false;\n  }\n\n  const NB_LOAD_WARNING = {'data': {'text/html':\n     \"<div style='background-color: #fdd'>\\n\"+\n     \"<p>\\n\"+\n     \"BokehJS does not appear to have successfully loaded. If loading BokehJS from CDN, this \\n\"+\n     \"may be due to a slow or bad network connection. Possible fixes:\\n\"+\n     \"</p>\\n\"+\n     \"<ul>\\n\"+\n     \"<li>re-rerun `output_notebook()` to attempt to load from CDN again, or</li>\\n\"+\n     \"<li>use INLINE resources instead, as so:</li>\\n\"+\n     \"</ul>\\n\"+\n     \"<code>\\n\"+\n     \"from bokeh.resources import INLINE\\n\"+\n     \"output_notebook(resources=INLINE)\\n\"+\n     \"</code>\\n\"+\n     \"</div>\"}};\n\n  function display_loaded(error = null) {\n    const el = document.getElementById(null);\n    if (el != null) {\n      const html = (() => {\n        if (typeof root.Bokeh === \"undefined\") {\n          if (error == null) {\n            return \"BokehJS is loading ...\";\n          } else {\n            return \"BokehJS failed to load.\";\n          }\n        } else {\n          const prefix = `BokehJS ${root.Bokeh.version}`;\n          if (error == null) {\n            return `${prefix} successfully loaded.`;\n          } else {\n            return `${prefix} <b>encountered errors</b> while loading and may not function as expected.`;\n          }\n        }\n      })();\n      el.innerHTML = html;\n\n      if (error != null) {\n        const wrapper = document.createElement(\"div\");\n        wrapper.style.overflow = \"auto\";\n        wrapper.style.height = \"5em\";\n        wrapper.style.resize = \"vertical\";\n        const content = document.createElement(\"div\");\n        content.style.fontFamily = \"monospace\";\n        content.style.whiteSpace = \"pre-wrap\";\n        content.style.backgroundColor = \"rgb(255, 221, 221)\";\n        content.textContent = error.stack ?? error.toString();\n        wrapper.append(content);\n        el.append(wrapper);\n      }\n    } else if (Date.now() < root._bokeh_timeout) {\n      setTimeout(() => display_loaded(error), 100);\n    }\n  }\n\n  function run_callbacks() {\n    try {\n      root._bokeh_onload_callbacks.forEach(function(callback) {\n        if (callback != null)\n          callback();\n      });\n    } finally {\n      delete root._bokeh_onload_callbacks\n    }\n    console.debug(\"Bokeh: all callbacks have finished\");\n  }\n\n  function load_libs(css_urls, js_urls, callback) {\n    if (css_urls == null) css_urls = [];\n    if (js_urls == null) js_urls = [];\n\n    root._bokeh_onload_callbacks.push(callback);\n    if (root._bokeh_is_loading > 0) {\n      console.debug(\"Bokeh: BokehJS is being loaded, scheduling callback at\", now());\n      return null;\n    }\n    if (js_urls == null || js_urls.length === 0) {\n      run_callbacks();\n      return null;\n    }\n    console.debug(\"Bokeh: BokehJS not loaded, scheduling load and callback at\", now());\n    root._bokeh_is_loading = css_urls.length + js_urls.length;\n\n    function on_load() {\n      root._bokeh_is_loading--;\n      if (root._bokeh_is_loading === 0) {\n        console.debug(\"Bokeh: all BokehJS libraries/stylesheets loaded\");\n        run_callbacks()\n      }\n    }\n\n    function on_error(url) {\n      console.error(\"failed to load \" + url);\n    }\n\n    for (let i = 0; i < css_urls.length; i++) {\n      const url = css_urls[i];\n      const element = document.createElement(\"link\");\n      element.onload = on_load;\n      element.onerror = on_error.bind(null, url);\n      element.rel = \"stylesheet\";\n      element.type = \"text/css\";\n      element.href = url;\n      console.debug(\"Bokeh: injecting link tag for BokehJS stylesheet: \", url);\n      document.body.appendChild(element);\n    }\n\n    for (let i = 0; i < js_urls.length; i++) {\n      const url = js_urls[i];\n      const element = document.createElement('script');\n      element.onload = on_load;\n      element.onerror = on_error.bind(null, url);\n      element.async = false;\n      element.src = url;\n      console.debug(\"Bokeh: injecting script tag for BokehJS library: \", url);\n      document.head.appendChild(element);\n    }\n  };\n\n  function inject_raw_css(css) {\n    const element = document.createElement(\"style\");\n    element.appendChild(document.createTextNode(css));\n    document.body.appendChild(element);\n  }\n\n  const js_urls = [\"https://cdn.bokeh.org/bokeh/release/bokeh-3.4.3.min.js\", \"https://cdn.bokeh.org/bokeh/release/bokeh-gl-3.4.3.min.js\", \"https://cdn.bokeh.org/bokeh/release/bokeh-widgets-3.4.3.min.js\", \"https://cdn.bokeh.org/bokeh/release/bokeh-tables-3.4.3.min.js\", \"https://cdn.bokeh.org/bokeh/release/bokeh-mathjax-3.4.3.min.js\"];\n  const css_urls = [];\n\n  const inline_js = [    function(Bokeh) {\n      Bokeh.set_log_level(\"info\");\n    },\nfunction(Bokeh) {\n    }\n  ];\n\n  function run_inline_js() {\n    if (root.Bokeh !== undefined || force === true) {\n      try {\n            for (let i = 0; i < inline_js.length; i++) {\n      inline_js[i].call(root, root.Bokeh);\n    }\n\n      } catch (error) {throw error;\n      }} else if (Date.now() < root._bokeh_timeout) {\n      setTimeout(run_inline_js, 100);\n    } else if (!root._bokeh_failed_load) {\n      console.log(\"Bokeh: BokehJS failed to load within specified timeout.\");\n      root._bokeh_failed_load = true;\n    } else if (force !== true) {\n      const cell = $(document.getElementById(null)).parents('.cell').data().cell;\n      cell.output_area.append_execute_result(NB_LOAD_WARNING)\n    }\n  }\n\n  if (root._bokeh_is_loading === 0) {\n    console.debug(\"Bokeh: BokehJS loaded, going straight to plotting\");\n    run_inline_js();\n  } else {\n    load_libs(css_urls, js_urls, function() {\n      console.debug(\"Bokeh: BokehJS plotting callback run at\", now());\n      run_inline_js();\n    });\n  }\n}(window));"
          },
          "metadata": {}
        },
        {
          "output_type": "display_data",
          "data": {
            "text/html": [
              "\n",
              "  <div id=\"ad1f945b-81e1-416e-ab51-5b665b217d75\" data-root-id=\"p1001\" style=\"display: contents;\"></div>\n"
            ]
          },
          "metadata": {}
        },
        {
          "output_type": "display_data",
          "data": {
            "application/javascript": [
              "(function(root) {\n",
              "  function embed_document(root) {\n",
              "  const docs_json = {\"b5260a11-6c5b-4295-892c-49f38205aa24\":{\"version\":\"3.4.3\",\"title\":\"Bokeh Application\",\"roots\":[{\"type\":\"object\",\"name\":\"Figure\",\"id\":\"p1001\",\"attributes\":{\"height\":400,\"x_range\":{\"type\":\"object\",\"name\":\"DataRange1d\",\"id\":\"p1002\"},\"y_range\":{\"type\":\"object\",\"name\":\"DataRange1d\",\"id\":\"p1003\"},\"x_scale\":{\"type\":\"object\",\"name\":\"LinearScale\",\"id\":\"p1010\"},\"y_scale\":{\"type\":\"object\",\"name\":\"LinearScale\",\"id\":\"p1011\"},\"title\":{\"type\":\"object\",\"name\":\"Title\",\"id\":\"p1008\",\"attributes\":{\"text\":\"Day: 2022-04-16\",\"text_font_size\":\"20pt\",\"align\":\"center\"}},\"renderers\":[{\"type\":\"object\",\"name\":\"GlyphRenderer\",\"id\":\"p1043\",\"attributes\":{\"data_source\":{\"type\":\"object\",\"name\":\"ColumnDataSource\",\"id\":\"p1037\",\"attributes\":{\"selected\":{\"type\":\"object\",\"name\":\"Selection\",\"id\":\"p1038\",\"attributes\":{\"indices\":[],\"line_indices\":[]}},\"selection_policy\":{\"type\":\"object\",\"name\":\"UnionRenderers\",\"id\":\"p1039\"},\"data\":{\"type\":\"map\",\"entries\":[[\"x\",{\"type\":\"ndarray\",\"array\":{\"type\":\"bytes\",\"data\":\"AADuc/sCeEIAAKhP/AJ4QgAAYiv9AnhCAAAcB/4CeEIAANbi/gJ4QgAAkL7/AnhCAABKmgADeEIAAJa3AAN4QgAAUJMBA3hCAAAKbwIDeEIAAMRKAwN4QgAAfiYEA3hCAAA4AgUDeEIAAPLdBQN4QgAArLkGA3hCAABmlQcDeEIAACBxCAN4QgAA2kwJA3hCAACUKAoDeEIAAE4ECwN4QgAACOALA3hCAADCuwwDeEIAAHyXDQN4QgAANnMOA3hCAADwTg8DeEIAAKoqEAN4QgAAZAYRA3hCAAAe4hEDeEIAANi9EgN4QgAAkpkTA3hCAABMdRQDeEIAAAZRFQN4QgAAUm4VA3hCAADALBYDeEIAAHoIFwN4QgAANOQXA3hCAADuvxgDeEIAAKibGQN4QgAATqoZA3hCAAAIhhoDeEIAAMJhGwN4QgAAfD0cA3hCAAAUeBwDeEIAADYZHQN4QgAA8PQdA3hCAACq0B4DeEIAAGSsHwN4QgAAHoggA3hCAADYYyEDeEIAAJI/IgN4QgAATBsjA3hCAAC62SMDeEIAAAb3IwN4QgAADPAkA3hCAAA8ZSUDeEIAAMbLJQN4QgAAgKcmA3hCAAA6gycDeEIAAPReKAN4QgAArjopA3hCAABoFioDeEIAACLyKgN4QgAA3M0rA3hCAACWqSwDeEIAAFCFLQN4QgAACmEuA3hCAADEPC8DeEIAAH4YMAN4QgAAOPQwA3hCAADyzzEDeEIAAFK6MgN4QgAAkAMzA3hCAAAMljMDeEIAAMZxNAN4QgAAgE01A3hCAAA6KTYDeEIAAPQENwN4QgAAruA3A3hCAABovDgDeEIAACKYOQN4QgAA3HM6A3hCAACWTzsDeEIAAAQOPAN4QgAAUCs8A3hCAAAKBz0DeEIAAMTiPQN4QgAAfr4+A3hCAAA4mj8DeEIAAPJ1QAN4QgAArFFBA3hCAABmLUIDeEIAAMYXQwN4QgAAXlJDA3hCAABQfkMDeEIAAIDzQwN4QgAAOs9EA3hCAAD0qkUDeEIAAK6GRgN4QgAAaGJHA3hCAAAOcUcDeEIAAFKzSAN4Qg==\"},\"shape\":[101],\"dtype\":\"float64\",\"order\":\"little\"}],[\"y\",{\"type\":\"ndarray\",\"array\":{\"type\":\"bytes\",\"data\":\"AAAAAACASkAAAAAAAIBKQAAAAAAAAEtAAAAAAAAATUAAAAAAAEBQQAAAAAAAAFJAAAAAAADAUkAAAAAAAIBSQAAAAAAAAFRAAAAAAAAAVUAAAAAAAMBUQAAAAAAAAFRAAAAAAAAAVEAAAAAAAMBUQAAAAAAAQFVAAAAAAAAAVkAAAAAAAMBVQAAAAAAAAFVAAAAAAADAVEAAAAAAAIBVQAAAAAAAQFZAAAAAAADAVUAAAAAAAMBUQAAAAAAAQFVAAAAAAACAVkAAAAAAAMBWQAAAAAAAQFVAAAAAAACAVEAAAAAAAABVQAAAAAAAQFVAAAAAAACAVUAAAAAAAEBWQAAAAAAAAFZAAAAAAAAAVkAAAAAAAABWQAAAAAAAgFZAAAAAAACAVkAAAAAAAIBWQAAAAAAAgFZAAAAAAAAAV0AAAAAAAMBYQAAAAAAAgFlAAAAAAACAW0AAAAAAAABWQAAAAAAAwFJAAAAAAAAAU0AAAAAAAMBTQAAAAAAAwFRAAAAAAADAVUAAAAAAAMBVQAAAAAAAgFVAAAAAAAAAVkAAAAAAAMBVQAAAAAAAAFZAAAAAAABAV0AAAAAAAMBXQAAAAAAAQFpAAAAAAACAWUAAAAAAAEBWQAAAAAAAAFZAAAAAAAAAV0AAAAAAAEBVQAAAAAAAgFJAAAAAAAAAUkAAAAAAAABTQAAAAAAAAFRAAAAAAADAVUAAAAAAAIBYQAAAAAAAAFpAAAAAAABAWUAAAAAAAIBWQAAAAAAAwFdAAAAAAABAVUAAAAAAAABUQAAAAAAAgFNAAAAAAABAU0AAAAAAAEBTQAAAAAAAgFVAAAAAAABAWUAAAAAAAIBbQAAAAAAAQFtAAAAAAADAV0AAAAAAAABXQAAAAAAAAFZAAAAAAAAAV0AAAAAAAIBYQAAAAAAAgFlAAAAAAACAWUAAAAAAAIBXQAAAAAAAwFZAAAAAAAAAWUAAAAAAAIBaQAAAAAAAQFpAAAAAAACAWkAAAAAAAIBWQAAAAAAAQFRAAAAAAAAAVkAAAAAAAABYQAAAAAAAgFlAAAAAAABAWkAAAAAAAMBZQA==\"},\"shape\":[101],\"dtype\":\"float64\",\"order\":\"little\"}]]}}},\"view\":{\"type\":\"object\",\"name\":\"CDSView\",\"id\":\"p1044\",\"attributes\":{\"filter\":{\"type\":\"object\",\"name\":\"AllIndices\",\"id\":\"p1045\"}}},\"glyph\":{\"type\":\"object\",\"name\":\"Line\",\"id\":\"p1040\",\"attributes\":{\"x\":{\"type\":\"field\",\"field\":\"x\"},\"y\":{\"type\":\"field\",\"field\":\"y\"},\"line_color\":\"gray\",\"line_alpha\":0.5,\"line_width\":2}},\"nonselection_glyph\":{\"type\":\"object\",\"name\":\"Line\",\"id\":\"p1041\",\"attributes\":{\"x\":{\"type\":\"field\",\"field\":\"x\"},\"y\":{\"type\":\"field\",\"field\":\"y\"},\"line_color\":\"gray\",\"line_alpha\":0.1,\"line_width\":2}},\"muted_glyph\":{\"type\":\"object\",\"name\":\"Line\",\"id\":\"p1042\",\"attributes\":{\"x\":{\"type\":\"field\",\"field\":\"x\"},\"y\":{\"type\":\"field\",\"field\":\"y\"},\"line_color\":\"gray\",\"line_alpha\":0.2,\"line_width\":2}}}},{\"type\":\"object\",\"name\":\"GlyphRenderer\",\"id\":\"p1053\",\"attributes\":{\"data_source\":{\"type\":\"object\",\"name\":\"ColumnDataSource\",\"id\":\"p1047\",\"attributes\":{\"selected\":{\"type\":\"object\",\"name\":\"Selection\",\"id\":\"p1048\",\"attributes\":{\"indices\":[],\"line_indices\":[]}},\"selection_policy\":{\"type\":\"object\",\"name\":\"UnionRenderers\",\"id\":\"p1049\"},\"data\":{\"type\":\"map\",\"entries\":[[\"x\",{\"type\":\"ndarray\",\"array\":{\"type\":\"bytes\",\"data\":\"AAAUeBwDeEIAAICnJgN4QgAAIpg5A3hCAABQfkMDeEI=\"},\"shape\":[4],\"dtype\":\"float64\",\"order\":\"little\"}],[\"y\",{\"type\":\"ndarray\",\"array\":{\"type\":\"bytes\",\"data\":\"AAAAAACAW0AAAAAAAEBaQAAAAAAAgFtAAAAAAACAWkA=\"},\"shape\":[4],\"dtype\":\"float64\",\"order\":\"little\"}]]}}},\"view\":{\"type\":\"object\",\"name\":\"CDSView\",\"id\":\"p1054\",\"attributes\":{\"filter\":{\"type\":\"object\",\"name\":\"AllIndices\",\"id\":\"p1055\"}}},\"glyph\":{\"type\":\"object\",\"name\":\"Scatter\",\"id\":\"p1050\",\"attributes\":{\"x\":{\"type\":\"field\",\"field\":\"x\"},\"y\":{\"type\":\"field\",\"field\":\"y\"},\"size\":{\"type\":\"value\",\"value\":6},\"line_color\":{\"type\":\"value\",\"value\":\"darkblue\"},\"line_alpha\":{\"type\":\"value\",\"value\":0.7},\"fill_color\":{\"type\":\"value\",\"value\":\"darkblue\"},\"fill_alpha\":{\"type\":\"value\",\"value\":0.7},\"hatch_color\":{\"type\":\"value\",\"value\":\"darkblue\"},\"hatch_alpha\":{\"type\":\"value\",\"value\":0.7}}},\"nonselection_glyph\":{\"type\":\"object\",\"name\":\"Scatter\",\"id\":\"p1051\",\"attributes\":{\"x\":{\"type\":\"field\",\"field\":\"x\"},\"y\":{\"type\":\"field\",\"field\":\"y\"},\"size\":{\"type\":\"value\",\"value\":6},\"line_color\":{\"type\":\"value\",\"value\":\"darkblue\"},\"line_alpha\":{\"type\":\"value\",\"value\":0.1},\"fill_color\":{\"type\":\"value\",\"value\":\"darkblue\"},\"fill_alpha\":{\"type\":\"value\",\"value\":0.1},\"hatch_color\":{\"type\":\"value\",\"value\":\"darkblue\"},\"hatch_alpha\":{\"type\":\"value\",\"value\":0.1}}},\"muted_glyph\":{\"type\":\"object\",\"name\":\"Scatter\",\"id\":\"p1052\",\"attributes\":{\"x\":{\"type\":\"field\",\"field\":\"x\"},\"y\":{\"type\":\"field\",\"field\":\"y\"},\"size\":{\"type\":\"value\",\"value\":6},\"line_color\":{\"type\":\"value\",\"value\":\"darkblue\"},\"line_alpha\":{\"type\":\"value\",\"value\":0.2},\"fill_color\":{\"type\":\"value\",\"value\":\"darkblue\"},\"fill_alpha\":{\"type\":\"value\",\"value\":0.2},\"hatch_color\":{\"type\":\"value\",\"value\":\"darkblue\"},\"hatch_alpha\":{\"type\":\"value\",\"value\":0.2}}}}}],\"toolbar\":{\"type\":\"object\",\"name\":\"Toolbar\",\"id\":\"p1009\",\"attributes\":{\"tools\":[{\"type\":\"object\",\"name\":\"PanTool\",\"id\":\"p1034\"},{\"type\":\"object\",\"name\":\"WheelZoomTool\",\"id\":\"p1035\",\"attributes\":{\"dimensions\":\"width\",\"renderers\":\"auto\"}},{\"type\":\"object\",\"name\":\"WheelZoomTool\",\"id\":\"p1036\",\"attributes\":{\"dimensions\":\"height\",\"renderers\":\"auto\"}}],\"active_scroll\":{\"id\":\"p1035\"}}},\"left\":[{\"type\":\"object\",\"name\":\"LinearAxis\",\"id\":\"p1029\",\"attributes\":{\"ticker\":{\"type\":\"object\",\"name\":\"BasicTicker\",\"id\":\"p1030\",\"attributes\":{\"mantissas\":[1,2,5]}},\"formatter\":{\"type\":\"object\",\"name\":\"BasicTickFormatter\",\"id\":\"p1031\"},\"axis_label\":\"Glucose\",\"major_label_policy\":{\"type\":\"object\",\"name\":\"AllLabels\",\"id\":\"p1032\"}}}],\"above\":[{\"type\":\"object\",\"name\":\"DatetimeAxis\",\"id\":\"p1012\",\"attributes\":{\"ticker\":{\"type\":\"object\",\"name\":\"DatetimeTicker\",\"id\":\"p1013\",\"attributes\":{\"num_minor_ticks\":5,\"tickers\":[{\"type\":\"object\",\"name\":\"AdaptiveTicker\",\"id\":\"p1014\",\"attributes\":{\"num_minor_ticks\":0,\"mantissas\":[1,2,5],\"max_interval\":500.0}},{\"type\":\"object\",\"name\":\"AdaptiveTicker\",\"id\":\"p1015\",\"attributes\":{\"num_minor_ticks\":0,\"base\":60,\"mantissas\":[1,2,5,10,15,20,30],\"min_interval\":1000.0,\"max_interval\":1800000.0}},{\"type\":\"object\",\"name\":\"AdaptiveTicker\",\"id\":\"p1016\",\"attributes\":{\"num_minor_ticks\":0,\"base\":24,\"mantissas\":[1,2,4,6,8,12],\"min_interval\":3600000.0,\"max_interval\":43200000.0}},{\"type\":\"object\",\"name\":\"DaysTicker\",\"id\":\"p1017\",\"attributes\":{\"days\":[1,2,3,4,5,6,7,8,9,10,11,12,13,14,15,16,17,18,19,20,21,22,23,24,25,26,27,28,29,30,31]}},{\"type\":\"object\",\"name\":\"DaysTicker\",\"id\":\"p1018\",\"attributes\":{\"days\":[1,4,7,10,13,16,19,22,25,28]}},{\"type\":\"object\",\"name\":\"DaysTicker\",\"id\":\"p1019\",\"attributes\":{\"days\":[1,8,15,22]}},{\"type\":\"object\",\"name\":\"DaysTicker\",\"id\":\"p1020\",\"attributes\":{\"days\":[1,15]}},{\"type\":\"object\",\"name\":\"MonthsTicker\",\"id\":\"p1021\",\"attributes\":{\"months\":[0,1,2,3,4,5,6,7,8,9,10,11]}},{\"type\":\"object\",\"name\":\"MonthsTicker\",\"id\":\"p1022\",\"attributes\":{\"months\":[0,2,4,6,8,10]}},{\"type\":\"object\",\"name\":\"MonthsTicker\",\"id\":\"p1023\",\"attributes\":{\"months\":[0,4,8]}},{\"type\":\"object\",\"name\":\"MonthsTicker\",\"id\":\"p1024\",\"attributes\":{\"months\":[0,6]}},{\"type\":\"object\",\"name\":\"YearsTicker\",\"id\":\"p1025\"}]}},\"formatter\":{\"type\":\"object\",\"name\":\"DatetimeTickFormatter\",\"id\":\"p1026\"},\"axis_label\":\"Time\",\"major_label_policy\":{\"type\":\"object\",\"name\":\"AllLabels\",\"id\":\"p1027\"}}}],\"center\":[{\"type\":\"object\",\"name\":\"Grid\",\"id\":\"p1028\",\"attributes\":{\"axis\":{\"id\":\"p1012\"}}},{\"type\":\"object\",\"name\":\"Grid\",\"id\":\"p1033\",\"attributes\":{\"dimension\":1,\"axis\":{\"id\":\"p1029\"}}},{\"type\":\"object\",\"name\":\"Span\",\"id\":\"p1046\",\"attributes\":{\"location\":87.7128712871287,\"line_color\":\"red\"}},{\"type\":\"object\",\"name\":\"Span\",\"id\":\"p1056\",\"attributes\":{\"location\":1650096000000.0,\"dimension\":\"height\",\"line_color\":\"orange\",\"line_width\":2}},{\"type\":\"object\",\"name\":\"BoxAnnotation\",\"id\":\"p1057\",\"attributes\":{\"left\":1650096000000.0,\"right\":1650099600000.0,\"top\":{\"type\":\"object\",\"name\":\"Node\",\"id\":\"p1060\",\"attributes\":{\"target\":\"frame\",\"symbol\":\"top\"}},\"bottom\":{\"type\":\"object\",\"name\":\"Node\",\"id\":\"p1061\",\"attributes\":{\"target\":\"frame\",\"symbol\":\"bottom\"}},\"fill_color\":\"orange\",\"fill_alpha\":0.3}},{\"type\":\"object\",\"name\":\"Label\",\"id\":\"p1062\",\"attributes\":{\"text\":\"401.00\",\"text_color\":\"black\",\"text_font_size\":\"10pt\",\"background_fill_color\":\"white\",\"background_fill_alpha\":0.7,\"x\":1650096000000.0,\"y\":110,\"angle\":90,\"angle_units\":\"deg\"}},{\"type\":\"object\",\"name\":\"Span\",\"id\":\"p1063\",\"attributes\":{\"location\":1650110400000.0,\"dimension\":\"height\",\"line_color\":\"orange\",\"line_width\":2}},{\"type\":\"object\",\"name\":\"BoxAnnotation\",\"id\":\"p1064\",\"attributes\":{\"left\":1650110400000.0,\"right\":1650114000000.0,\"top\":{\"type\":\"object\",\"name\":\"Node\",\"id\":\"p1067\",\"attributes\":{\"target\":\"frame\",\"symbol\":\"top\"}},\"bottom\":{\"type\":\"object\",\"name\":\"Node\",\"id\":\"p1068\",\"attributes\":{\"target\":\"frame\",\"symbol\":\"bottom\"}},\"fill_color\":\"orange\",\"fill_alpha\":0.3}},{\"type\":\"object\",\"name\":\"Label\",\"id\":\"p1069\",\"attributes\":{\"text\":\"400.00\",\"text_color\":\"black\",\"text_font_size\":\"10pt\",\"background_fill_color\":\"white\",\"background_fill_alpha\":0.7,\"x\":1650110400000.0,\"y\":110,\"angle\":90,\"angle_units\":\"deg\"}},{\"type\":\"object\",\"name\":\"Span\",\"id\":\"p1070\",\"attributes\":{\"location\":1650124800000.0,\"dimension\":\"height\",\"line_color\":\"orange\",\"line_width\":2}},{\"type\":\"object\",\"name\":\"BoxAnnotation\",\"id\":\"p1071\",\"attributes\":{\"left\":1650124800000.0,\"right\":1650128400000.0,\"top\":{\"type\":\"object\",\"name\":\"Node\",\"id\":\"p1074\",\"attributes\":{\"target\":\"frame\",\"symbol\":\"top\"}},\"bottom\":{\"type\":\"object\",\"name\":\"Node\",\"id\":\"p1075\",\"attributes\":{\"target\":\"frame\",\"symbol\":\"bottom\"}},\"fill_color\":\"orange\",\"fill_alpha\":0.3}},{\"type\":\"object\",\"name\":\"Label\",\"id\":\"p1076\",\"attributes\":{\"text\":\"130.00\",\"text_color\":\"black\",\"text_font_size\":\"10pt\",\"background_fill_color\":\"white\",\"background_fill_alpha\":0.7,\"x\":1650124800000.0,\"y\":110,\"angle\":90,\"angle_units\":\"deg\"}},{\"type\":\"object\",\"name\":\"Span\",\"id\":\"p1077\",\"attributes\":{\"location\":1650132000000.0,\"dimension\":\"height\",\"line_color\":\"orange\",\"line_width\":2}},{\"type\":\"object\",\"name\":\"BoxAnnotation\",\"id\":\"p1078\",\"attributes\":{\"left\":1650132000000.0,\"right\":1650135600000.0,\"top\":{\"type\":\"object\",\"name\":\"Node\",\"id\":\"p1081\",\"attributes\":{\"target\":\"frame\",\"symbol\":\"top\"}},\"bottom\":{\"type\":\"object\",\"name\":\"Node\",\"id\":\"p1082\",\"attributes\":{\"target\":\"frame\",\"symbol\":\"bottom\"}},\"fill_color\":\"orange\",\"fill_alpha\":0.3}},{\"type\":\"object\",\"name\":\"Label\",\"id\":\"p1083\",\"attributes\":{\"text\":\"1647.00\",\"text_color\":\"black\",\"text_font_size\":\"10pt\",\"background_fill_color\":\"white\",\"background_fill_alpha\":0.7,\"x\":1650132000000.0,\"y\":110,\"angle\":90,\"angle_units\":\"deg\"}}]}}]}};\n",
              "  const render_items = [{\"docid\":\"b5260a11-6c5b-4295-892c-49f38205aa24\",\"roots\":{\"p1001\":\"ad1f945b-81e1-416e-ab51-5b665b217d75\"},\"root_ids\":[\"p1001\"]}];\n",
              "  void root.Bokeh.embed.embed_items_notebook(docs_json, render_items);\n",
              "  }\n",
              "  if (root.Bokeh !== undefined) {\n",
              "    embed_document(root);\n",
              "  } else {\n",
              "    let attempts = 0;\n",
              "    const timer = setInterval(function(root) {\n",
              "      if (root.Bokeh !== undefined) {\n",
              "        clearInterval(timer);\n",
              "        embed_document(root);\n",
              "      } else {\n",
              "        attempts++;\n",
              "        if (attempts > 100) {\n",
              "          clearInterval(timer);\n",
              "          console.log(\"Bokeh: ERROR: Unable to run BokehJS code because BokehJS library is missing\");\n",
              "        }\n",
              "      }\n",
              "    }, 10, root)\n",
              "  }\n",
              "})(window);"
            ],
            "application/vnd.bokehjs_exec.v0+json": ""
          },
          "metadata": {
            "application/vnd.bokehjs_exec.v0+json": {
              "id": "p1001"
            }
          }
        },
        {
          "output_type": "stream",
          "name": "stdout",
          "text": [
            "\n",
            "\n",
            "\n"
          ]
        },
        {
          "output_type": "display_data",
          "data": {
            "text/html": [
              "\n",
              "  <div id=\"fcda2147-88d9-4e1c-af26-6a33bb19ce35\" data-root-id=\"p1088\" style=\"display: contents;\"></div>\n"
            ]
          },
          "metadata": {}
        },
        {
          "output_type": "display_data",
          "data": {
            "application/javascript": [
              "(function(root) {\n",
              "  function embed_document(root) {\n",
              "  const docs_json = {\"fcddc445-74b2-47ad-b432-869adfaea54c\":{\"version\":\"3.4.3\",\"title\":\"Bokeh Application\",\"roots\":[{\"type\":\"object\",\"name\":\"Figure\",\"id\":\"p1088\",\"attributes\":{\"height\":400,\"x_range\":{\"type\":\"object\",\"name\":\"DataRange1d\",\"id\":\"p1089\"},\"y_range\":{\"type\":\"object\",\"name\":\"DataRange1d\",\"id\":\"p1090\"},\"x_scale\":{\"type\":\"object\",\"name\":\"LinearScale\",\"id\":\"p1097\"},\"y_scale\":{\"type\":\"object\",\"name\":\"LinearScale\",\"id\":\"p1098\"},\"title\":{\"type\":\"object\",\"name\":\"Title\",\"id\":\"p1095\",\"attributes\":{\"text\":\"Day: 2022-04-17\",\"text_font_size\":\"20pt\",\"align\":\"center\"}},\"renderers\":[{\"type\":\"object\",\"name\":\"GlyphRenderer\",\"id\":\"p1130\",\"attributes\":{\"data_source\":{\"type\":\"object\",\"name\":\"ColumnDataSource\",\"id\":\"p1124\",\"attributes\":{\"selected\":{\"type\":\"object\",\"name\":\"Selection\",\"id\":\"p1125\",\"attributes\":{\"indices\":[],\"line_indices\":[]}},\"selection_policy\":{\"type\":\"object\",\"name\":\"UnionRenderers\",\"id\":\"p1126\"},\"data\":{\"type\":\"map\",\"entries\":[[\"x\",{\"type\":\"ndarray\",\"array\":{\"type\":\"bytes\",\"data\":\"AAAqbE4DeEIAAORHTwN4QgAAniNQA3hCAABY/1ADeEIAABLbUQN4QgAAzLZSA3hCAACGklMDeEIAAEBuVAN4QgAA+klVA3hCAAC0JVYDeEIAAG4BVwN4QgAAKN1XA3hCAADiuFgDeEIAAJyUWQN4QgAAVnBaA3hCAAAQTFsDeEIAAMonXAN4QgAAhANdA3hCAAA+310DeEIAAPi6XgN4QgAAspZfA3hCAABscmADeEIAACZOYQN4QgAA4CliA3hCAACaBWMDeEIAAFThYwN4QgAADr1kA3hCAADImGUDeEIAAIJ0ZgN4QgAAPFBnA3hCAAD2K2gDeEIAAPwkaQN4QgAASEJpA3hCAAC2AGoDeEIAAHDcagN4QgAAKrhrA3hCAADkk2wDeEIAAJ5vbQN4QgAAWEtuA3hCAAASJ28DeEIAAMwCcAN4QgAAht5wA3hCAABAunEDeEIAAPqVcgN4QgAAtHFzA3hCAABuTXQDeEIAACgpdQN4QgAA4gR2A3hCAACc4HYDeEIAAFa8dwN4QgAAEJh4A3hCAADKc3kDeEIAAIRPegN4QgAAPit7A3hCAAD4BnwDeEIAALLifAN4QgAAbL59A3hCAAAmmn4DeEIAAOB1fwN4QgAAmlGAA3hCAABULYEDeEIAALoQgwN4QgAAdOyDA3hCAAAuyIQDeEIAAOijhQN4QgAAon+GA3hCAABcW4cDeEIAABY3iAN4QgAA0BKJA3hCAACK7okDeEIAAETKigN4QgAA/qWLA3hCAAC4gYwDeEIAAHJdjQN4QgAALDmOA3hCAADmFI8DeEIAAKDwjwN4QgAAWsyQA3hCAAAUqJEDeEIAAM6DkgN4QgAAiF+TA3hCAABCO5QDeEIAAPwWlQN4QgAAtvKVA3hCAABwzpYDeEIAACqqlwN4QgAAdseXA3hCAADkhZgDeEIAAJ5hmQN4QgAADCCaA3hCAABYPZoDeEIAAARFmwN4QgAAJuabA3hCAAC+IJwDeEIAAHj8nAN4QgAAMtidA3hCAADss54DeEI=\"},\"shape\":[97],\"dtype\":\"float64\",\"order\":\"little\"}],[\"y\",{\"type\":\"ndarray\",\"array\":{\"type\":\"bytes\",\"data\":\"AAAAAADAWEAAAAAAAEBXQAAAAAAAgFlAAAAAAACAXUAAAAAAAMBfQAAAAAAAAF9AAAAAAACAW0AAAAAAAEBYQAAAAAAAAFdAAAAAAAAAV0AAAAAAAMBWQAAAAAAAAFVAAAAAAAAAVEAAAAAAAMBUQAAAAAAAgFRAAAAAAACAVUAAAAAAAMBWQAAAAAAAwFZAAAAAAABAVkAAAAAAAMBWQAAAAAAAgFdAAAAAAADAV0AAAAAAAABZQAAAAAAAAFpAAAAAAABAWkAAAAAAAABaQAAAAAAAAFlAAAAAAABAWEAAAAAAAEBZQAAAAAAAgFtAAAAAAABAXEAAAAAAAIBdQAAAAAAAAFtAAAAAAABAXEAAAAAAAEBbQAAAAAAAgFpAAAAAAABAWkAAAAAAAABaQAAAAAAAgFpAAAAAAAAAW0AAAAAAAIBbQAAAAAAAwFhAAAAAAACAVUAAAAAAAIBVQAAAAAAAAFdAAAAAAADAWEAAAAAAAEBaQAAAAAAAwFlAAAAAAABAWUAAAAAAAIBYQAAAAAAAAFdAAAAAAADAVkAAAAAAAABXQAAAAAAAgFZAAAAAAADAVUAAAAAAAMBUQAAAAAAAAFVAAAAAAAAAWUAAAAAAAEBeQAAAAAAAIGBAAAAAAAAAYEAAAAAAAKBhQAAAAAAAwFtAAAAAAADAVUAAAAAAAMBVQAAAAAAAQFhAAAAAAABAW0AAAAAAAABdQAAAAAAAAFtAAAAAAACAWEAAAAAAAABZQAAAAAAAwFpAAAAAAACAWUAAAAAAAABYQAAAAAAAgFhAAAAAAAAAWkAAAAAAAABZQAAAAAAAwFRAAAAAAACAVEAAAAAAAIBXQAAAAAAAwFhAAAAAAACAWEAAAAAAAABYQAAAAAAAQFdAAAAAAABAV0AAAAAAAEBYQAAAAAAAQFpAAAAAAABAV0AAAAAAAIBZQAAAAAAAgFlAAAAAAADAWUAAAAAAAABZQAAAAAAAAFlAAAAAAADAWEAAAAAAAEBYQAAAAAAAAFhAAAAAAABAWEA=\"},\"shape\":[97],\"dtype\":\"float64\",\"order\":\"little\"}]]}}},\"view\":{\"type\":\"object\",\"name\":\"CDSView\",\"id\":\"p1131\",\"attributes\":{\"filter\":{\"type\":\"object\",\"name\":\"AllIndices\",\"id\":\"p1132\"}}},\"glyph\":{\"type\":\"object\",\"name\":\"Line\",\"id\":\"p1127\",\"attributes\":{\"x\":{\"type\":\"field\",\"field\":\"x\"},\"y\":{\"type\":\"field\",\"field\":\"y\"},\"line_color\":\"gray\",\"line_alpha\":0.5,\"line_width\":2}},\"nonselection_glyph\":{\"type\":\"object\",\"name\":\"Line\",\"id\":\"p1128\",\"attributes\":{\"x\":{\"type\":\"field\",\"field\":\"x\"},\"y\":{\"type\":\"field\",\"field\":\"y\"},\"line_color\":\"gray\",\"line_alpha\":0.1,\"line_width\":2}},\"muted_glyph\":{\"type\":\"object\",\"name\":\"Line\",\"id\":\"p1129\",\"attributes\":{\"x\":{\"type\":\"field\",\"field\":\"x\"},\"y\":{\"type\":\"field\",\"field\":\"y\"},\"line_color\":\"gray\",\"line_alpha\":0.2,\"line_width\":2}}}},{\"type\":\"object\",\"name\":\"GlyphRenderer\",\"id\":\"p1140\",\"attributes\":{\"data_source\":{\"type\":\"object\",\"name\":\"ColumnDataSource\",\"id\":\"p1134\",\"attributes\":{\"selected\":{\"type\":\"object\",\"name\":\"Selection\",\"id\":\"p1135\",\"attributes\":{\"indices\":[],\"line_indices\":[]}},\"selection_policy\":{\"type\":\"object\",\"name\":\"UnionRenderers\",\"id\":\"p1136\"},\"data\":{\"type\":\"map\",\"entries\":[[\"x\",{\"type\":\"ndarray\",\"array\":{\"type\":\"bytes\",\"data\":\"AAC6EIMDeEIAAPwkaQN4QgAAEttRA3hCAAAoKXUDeEIAAHbHlwN4Qg==\"},\"shape\":[5],\"dtype\":\"float64\",\"order\":\"little\"}],[\"y\",{\"type\":\"ndarray\",\"array\":{\"type\":\"bytes\",\"data\":\"AAAAAACgYUAAAAAAAIBdQAAAAAAAwF9AAAAAAABAWkAAAAAAAEBaQA==\"},\"shape\":[5],\"dtype\":\"float64\",\"order\":\"little\"}]]}}},\"view\":{\"type\":\"object\",\"name\":\"CDSView\",\"id\":\"p1141\",\"attributes\":{\"filter\":{\"type\":\"object\",\"name\":\"AllIndices\",\"id\":\"p1142\"}}},\"glyph\":{\"type\":\"object\",\"name\":\"Scatter\",\"id\":\"p1137\",\"attributes\":{\"x\":{\"type\":\"field\",\"field\":\"x\"},\"y\":{\"type\":\"field\",\"field\":\"y\"},\"size\":{\"type\":\"value\",\"value\":6},\"line_color\":{\"type\":\"value\",\"value\":\"darkblue\"},\"line_alpha\":{\"type\":\"value\",\"value\":0.7},\"fill_color\":{\"type\":\"value\",\"value\":\"darkblue\"},\"fill_alpha\":{\"type\":\"value\",\"value\":0.7},\"hatch_color\":{\"type\":\"value\",\"value\":\"darkblue\"},\"hatch_alpha\":{\"type\":\"value\",\"value\":0.7}}},\"nonselection_glyph\":{\"type\":\"object\",\"name\":\"Scatter\",\"id\":\"p1138\",\"attributes\":{\"x\":{\"type\":\"field\",\"field\":\"x\"},\"y\":{\"type\":\"field\",\"field\":\"y\"},\"size\":{\"type\":\"value\",\"value\":6},\"line_color\":{\"type\":\"value\",\"value\":\"darkblue\"},\"line_alpha\":{\"type\":\"value\",\"value\":0.1},\"fill_color\":{\"type\":\"value\",\"value\":\"darkblue\"},\"fill_alpha\":{\"type\":\"value\",\"value\":0.1},\"hatch_color\":{\"type\":\"value\",\"value\":\"darkblue\"},\"hatch_alpha\":{\"type\":\"value\",\"value\":0.1}}},\"muted_glyph\":{\"type\":\"object\",\"name\":\"Scatter\",\"id\":\"p1139\",\"attributes\":{\"x\":{\"type\":\"field\",\"field\":\"x\"},\"y\":{\"type\":\"field\",\"field\":\"y\"},\"size\":{\"type\":\"value\",\"value\":6},\"line_color\":{\"type\":\"value\",\"value\":\"darkblue\"},\"line_alpha\":{\"type\":\"value\",\"value\":0.2},\"fill_color\":{\"type\":\"value\",\"value\":\"darkblue\"},\"fill_alpha\":{\"type\":\"value\",\"value\":0.2},\"hatch_color\":{\"type\":\"value\",\"value\":\"darkblue\"},\"hatch_alpha\":{\"type\":\"value\",\"value\":0.2}}}}}],\"toolbar\":{\"type\":\"object\",\"name\":\"Toolbar\",\"id\":\"p1096\",\"attributes\":{\"tools\":[{\"type\":\"object\",\"name\":\"PanTool\",\"id\":\"p1121\"},{\"type\":\"object\",\"name\":\"WheelZoomTool\",\"id\":\"p1122\",\"attributes\":{\"dimensions\":\"width\",\"renderers\":\"auto\"}},{\"type\":\"object\",\"name\":\"WheelZoomTool\",\"id\":\"p1123\",\"attributes\":{\"dimensions\":\"height\",\"renderers\":\"auto\"}}],\"active_scroll\":{\"id\":\"p1122\"}}},\"left\":[{\"type\":\"object\",\"name\":\"LinearAxis\",\"id\":\"p1116\",\"attributes\":{\"ticker\":{\"type\":\"object\",\"name\":\"BasicTicker\",\"id\":\"p1117\",\"attributes\":{\"mantissas\":[1,2,5]}},\"formatter\":{\"type\":\"object\",\"name\":\"BasicTickFormatter\",\"id\":\"p1118\"},\"axis_label\":\"Glucose\",\"major_label_policy\":{\"type\":\"object\",\"name\":\"AllLabels\",\"id\":\"p1119\"}}}],\"above\":[{\"type\":\"object\",\"name\":\"DatetimeAxis\",\"id\":\"p1099\",\"attributes\":{\"ticker\":{\"type\":\"object\",\"name\":\"DatetimeTicker\",\"id\":\"p1100\",\"attributes\":{\"num_minor_ticks\":5,\"tickers\":[{\"type\":\"object\",\"name\":\"AdaptiveTicker\",\"id\":\"p1101\",\"attributes\":{\"num_minor_ticks\":0,\"mantissas\":[1,2,5],\"max_interval\":500.0}},{\"type\":\"object\",\"name\":\"AdaptiveTicker\",\"id\":\"p1102\",\"attributes\":{\"num_minor_ticks\":0,\"base\":60,\"mantissas\":[1,2,5,10,15,20,30],\"min_interval\":1000.0,\"max_interval\":1800000.0}},{\"type\":\"object\",\"name\":\"AdaptiveTicker\",\"id\":\"p1103\",\"attributes\":{\"num_minor_ticks\":0,\"base\":24,\"mantissas\":[1,2,4,6,8,12],\"min_interval\":3600000.0,\"max_interval\":43200000.0}},{\"type\":\"object\",\"name\":\"DaysTicker\",\"id\":\"p1104\",\"attributes\":{\"days\":[1,2,3,4,5,6,7,8,9,10,11,12,13,14,15,16,17,18,19,20,21,22,23,24,25,26,27,28,29,30,31]}},{\"type\":\"object\",\"name\":\"DaysTicker\",\"id\":\"p1105\",\"attributes\":{\"days\":[1,4,7,10,13,16,19,22,25,28]}},{\"type\":\"object\",\"name\":\"DaysTicker\",\"id\":\"p1106\",\"attributes\":{\"days\":[1,8,15,22]}},{\"type\":\"object\",\"name\":\"DaysTicker\",\"id\":\"p1107\",\"attributes\":{\"days\":[1,15]}},{\"type\":\"object\",\"name\":\"MonthsTicker\",\"id\":\"p1108\",\"attributes\":{\"months\":[0,1,2,3,4,5,6,7,8,9,10,11]}},{\"type\":\"object\",\"name\":\"MonthsTicker\",\"id\":\"p1109\",\"attributes\":{\"months\":[0,2,4,6,8,10]}},{\"type\":\"object\",\"name\":\"MonthsTicker\",\"id\":\"p1110\",\"attributes\":{\"months\":[0,4,8]}},{\"type\":\"object\",\"name\":\"MonthsTicker\",\"id\":\"p1111\",\"attributes\":{\"months\":[0,6]}},{\"type\":\"object\",\"name\":\"YearsTicker\",\"id\":\"p1112\"}]}},\"formatter\":{\"type\":\"object\",\"name\":\"DatetimeTickFormatter\",\"id\":\"p1113\"},\"axis_label\":\"Time\",\"major_label_policy\":{\"type\":\"object\",\"name\":\"AllLabels\",\"id\":\"p1114\"}}}],\"center\":[{\"type\":\"object\",\"name\":\"Grid\",\"id\":\"p1115\",\"attributes\":{\"axis\":{\"id\":\"p1099\"}}},{\"type\":\"object\",\"name\":\"Grid\",\"id\":\"p1120\",\"attributes\":{\"dimension\":1,\"axis\":{\"id\":\"p1116\"}}},{\"type\":\"object\",\"name\":\"Span\",\"id\":\"p1133\",\"attributes\":{\"location\":99.87628865979381,\"line_color\":\"red\"}},{\"type\":\"object\",\"name\":\"Span\",\"id\":\"p1143\",\"attributes\":{\"location\":1650182400000.0,\"dimension\":\"height\",\"line_color\":\"orange\",\"line_width\":2}},{\"type\":\"object\",\"name\":\"BoxAnnotation\",\"id\":\"p1144\",\"attributes\":{\"left\":1650182400000.0,\"right\":1650186000000.0,\"top\":{\"type\":\"object\",\"name\":\"Node\",\"id\":\"p1147\",\"attributes\":{\"target\":\"frame\",\"symbol\":\"top\"}},\"bottom\":{\"type\":\"object\",\"name\":\"Node\",\"id\":\"p1148\",\"attributes\":{\"target\":\"frame\",\"symbol\":\"bottom\"}},\"fill_color\":\"orange\",\"fill_alpha\":0.3}},{\"type\":\"object\",\"name\":\"Label\",\"id\":\"p1149\",\"attributes\":{\"text\":\"184.00\",\"text_color\":\"black\",\"text_font_size\":\"10pt\",\"background_fill_color\":\"white\",\"background_fill_alpha\":0.7,\"x\":1650182400000.0,\"y\":110,\"angle\":90,\"angle_units\":\"deg\"}},{\"type\":\"object\",\"name\":\"Span\",\"id\":\"p1150\",\"attributes\":{\"location\":1650196800000.0,\"dimension\":\"height\",\"line_color\":\"orange\",\"line_width\":2}},{\"type\":\"object\",\"name\":\"BoxAnnotation\",\"id\":\"p1151\",\"attributes\":{\"left\":1650196800000.0,\"right\":1650200400000.0,\"top\":{\"type\":\"object\",\"name\":\"Node\",\"id\":\"p1154\",\"attributes\":{\"target\":\"frame\",\"symbol\":\"top\"}},\"bottom\":{\"type\":\"object\",\"name\":\"Node\",\"id\":\"p1155\",\"attributes\":{\"target\":\"frame\",\"symbol\":\"bottom\"}},\"fill_color\":\"orange\",\"fill_alpha\":0.3}},{\"type\":\"object\",\"name\":\"Label\",\"id\":\"p1156\",\"attributes\":{\"text\":\"1230.00\",\"text_color\":\"black\",\"text_font_size\":\"10pt\",\"background_fill_color\":\"white\",\"background_fill_alpha\":0.7,\"x\":1650196800000.0,\"y\":110,\"angle\":90,\"angle_units\":\"deg\"}},{\"type\":\"object\",\"name\":\"Span\",\"id\":\"p1157\",\"attributes\":{\"location\":1650218400000.0,\"dimension\":\"height\",\"line_color\":\"orange\",\"line_width\":2}},{\"type\":\"object\",\"name\":\"BoxAnnotation\",\"id\":\"p1158\",\"attributes\":{\"left\":1650218400000.0,\"right\":1650222000000.0,\"top\":{\"type\":\"object\",\"name\":\"Node\",\"id\":\"p1161\",\"attributes\":{\"target\":\"frame\",\"symbol\":\"top\"}},\"bottom\":{\"type\":\"object\",\"name\":\"Node\",\"id\":\"p1162\",\"attributes\":{\"target\":\"frame\",\"symbol\":\"bottom\"}},\"fill_color\":\"orange\",\"fill_alpha\":0.3}},{\"type\":\"object\",\"name\":\"Label\",\"id\":\"p1163\",\"attributes\":{\"text\":\"259.00\",\"text_color\":\"black\",\"text_font_size\":\"10pt\",\"background_fill_color\":\"white\",\"background_fill_alpha\":0.7,\"x\":1650218400000.0,\"y\":110,\"angle\":90,\"angle_units\":\"deg\"}}]}}]}};\n",
              "  const render_items = [{\"docid\":\"fcddc445-74b2-47ad-b432-869adfaea54c\",\"roots\":{\"p1088\":\"fcda2147-88d9-4e1c-af26-6a33bb19ce35\"},\"root_ids\":[\"p1088\"]}];\n",
              "  void root.Bokeh.embed.embed_items_notebook(docs_json, render_items);\n",
              "  }\n",
              "  if (root.Bokeh !== undefined) {\n",
              "    embed_document(root);\n",
              "  } else {\n",
              "    let attempts = 0;\n",
              "    const timer = setInterval(function(root) {\n",
              "      if (root.Bokeh !== undefined) {\n",
              "        clearInterval(timer);\n",
              "        embed_document(root);\n",
              "      } else {\n",
              "        attempts++;\n",
              "        if (attempts > 100) {\n",
              "          clearInterval(timer);\n",
              "          console.log(\"Bokeh: ERROR: Unable to run BokehJS code because BokehJS library is missing\");\n",
              "        }\n",
              "      }\n",
              "    }, 10, root)\n",
              "  }\n",
              "})(window);"
            ],
            "application/vnd.bokehjs_exec.v0+json": ""
          },
          "metadata": {
            "application/vnd.bokehjs_exec.v0+json": {
              "id": "p1088"
            }
          }
        },
        {
          "output_type": "stream",
          "name": "stdout",
          "text": [
            "\n",
            "\n",
            "\n"
          ]
        },
        {
          "output_type": "display_data",
          "data": {
            "text/html": [
              "\n",
              "  <div id=\"bc377a15-1d70-4572-8b67-73aeba7679c9\" data-root-id=\"p1168\" style=\"display: contents;\"></div>\n"
            ]
          },
          "metadata": {}
        },
        {
          "output_type": "display_data",
          "data": {
            "application/javascript": [
              "(function(root) {\n",
              "  function embed_document(root) {\n",
              "  const docs_json = {\"29ac14d1-fddf-41dc-b423-9d37eeaf1a28\":{\"version\":\"3.4.3\",\"title\":\"Bokeh Application\",\"roots\":[{\"type\":\"object\",\"name\":\"Figure\",\"id\":\"p1168\",\"attributes\":{\"height\":400,\"x_range\":{\"type\":\"object\",\"name\":\"DataRange1d\",\"id\":\"p1169\"},\"y_range\":{\"type\":\"object\",\"name\":\"DataRange1d\",\"id\":\"p1170\"},\"x_scale\":{\"type\":\"object\",\"name\":\"LinearScale\",\"id\":\"p1177\"},\"y_scale\":{\"type\":\"object\",\"name\":\"LinearScale\",\"id\":\"p1178\"},\"title\":{\"type\":\"object\",\"name\":\"Title\",\"id\":\"p1175\",\"attributes\":{\"text\":\"Day: 2022-04-18\",\"text_font_size\":\"20pt\",\"align\":\"center\"}},\"renderers\":[{\"type\":\"object\",\"name\":\"GlyphRenderer\",\"id\":\"p1210\",\"attributes\":{\"data_source\":{\"type\":\"object\",\"name\":\"ColumnDataSource\",\"id\":\"p1204\",\"attributes\":{\"selected\":{\"type\":\"object\",\"name\":\"Selection\",\"id\":\"p1205\",\"attributes\":{\"indices\":[],\"line_indices\":[]}},\"selection_policy\":{\"type\":\"object\",\"name\":\"UnionRenderers\",\"id\":\"p1206\"},\"data\":{\"type\":\"map\",\"entries\":[[\"x\",{\"type\":\"ndarray\",\"array\":{\"type\":\"bytes\",\"data\":\"AACmj58DeEIAAGBroAN4QgAAGkehA3hCAADUIqIDeEIAAI7+ogN4QgAASNqjA3hCAAACtqQDeEIAALyRpQN4QgAAdm2mA3hCAAAwSacDeEIAAOokqAN4QgAApACpA3hCAABe3KkDeEIAABi4qgN4QgAA0pOrA3hCAACMb6wDeEIAAEZLrQN4QgAAACeuA3hCAAC6Aq8DeEIAAHTerwN4QgAALrqwA3hCAADolbEDeEIAAKJxsgN4QgAAXE2zA3hCAAAWKbQDeEIAANAEtQN4QgAADk61A3hCAACK4LUDeEIAAES8tgN4QgAApKa3A3hCAABsVrgDeEIAAF6CuAN4QgAAGF65A3hCAADSOboDeEIAAIwVuwN4QgAARvG7A3hCAAAAzbwDeEIAALqovQN4QgAAdIS+A3hCAABKCL8DeEIAAC5gvwN4QgAA6DvAA3hCAACiF8EDeEIAAFzzwQN4QgAAdrnDA3hCAAAwlcQDeEIAAOpwxQN4QgAApEzGA3hCAABeKMcDeEIAABgEyAN4QgAA0t/IA3hCAACMu8kDeEIAAEaXygN4QgAApoHLA3hCAADkyssDeEIAAGBdzAN4QgAAGjnNA3hCAADUFM4DeEIAAI7wzgN4QgAASMzPA3hCAAACqNADeEIAALyD0QN4QgAAdl/SA3hCAAAwO9MDeEIAAOoW1AN4QgAA8A/VA3hCAAASsdUDeEIAAKrr1QN4QgAAZMfWA3hCAAAeo9cDeEIAANh+2AN4QgAAklrZA3hCAABMNtoDeEIAAAYS2wN4QgAAwO3bA3hCAAB6ydwDeEIAADSl3QN4QgAA7oDeA3hCAACoXN8DeEIAAGI44AN4QgAAHBThA3hCAADW7+EDeEIAAJDL4gN4QgAASqfjA3hCAAAEg+QDeEIAAL5e5QN4QgAACnzlA3hCAAB4OuYDeEIAADIW5wN4QgAA7PHnA3hCAACmzegDeEIAAGCp6QN4QgAAGoXqA3hCAADUYOsDeEIAADRL7AN4QgAAogntA3hCAAAenO0DeEIAAPQf7gN4QgAArvvuA3hCAABo1+8DeEIAACKz8AN4QgAA3I7xA3hC\"},\"shape\":[102],\"dtype\":\"float64\",\"order\":\"little\"}],[\"y\",{\"type\":\"ndarray\",\"array\":{\"type\":\"bytes\",\"data\":\"AAAAAAAAWUAAAAAAAMBZQAAAAAAAAFlAAAAAAACAV0AAAAAAAMBVQAAAAAAAwFRAAAAAAAAAVUAAAAAAAMBUQAAAAAAAwFRAAAAAAACAVUAAAAAAAIBWQAAAAAAAAFlAAAAAAABAWkAAAAAAAMBaQAAAAAAAgFpAAAAAAACAWkAAAAAAAMBaQAAAAAAAAFtAAAAAAADAWkAAAAAAAMBaQAAAAAAAQFtAAAAAAABAW0AAAAAAAEBZQAAAAAAAwFZAAAAAAADAVUAAAAAAAABZQAAAAAAAQFlAAAAAAAAAXEAAAAAAAMBcQAAAAAAAQF1AAAAAAACAW0AAAAAAAEBdQAAAAAAAgFxAAAAAAABAW0AAAAAAAEBaQAAAAAAAAFpAAAAAAACAWkAAAAAAAABbQAAAAAAAgFpAAAAAAAAAWkAAAAAAAMBZQAAAAAAAgFlAAAAAAADAWUAAAAAAAMBZQAAAAAAAAFlAAAAAAADAWEAAAAAAAEBZQAAAAAAAAFlAAAAAAADAWEAAAAAAAMBYQAAAAAAAAFlAAAAAAAAAWUAAAAAAAMBYQAAAAAAAwFhAAAAAAADAWEAAAAAAAEBZQAAAAAAAwFhAAAAAAABAWEAAAAAAAABZQAAAAAAAQFpAAAAAAACAWkAAAAAAAMBZQAAAAAAAwFlAAAAAAACAWUAAAAAAAIBZQAAAAAAAQFpAAAAAAADAWkAAAAAAAMBaQAAAAAAAgFpAAAAAAAAAWkAAAAAAAMBZQAAAAAAAQFpAAAAAAABAWkAAAAAAAIBYQAAAAAAAgFdAAAAAAACAV0AAAAAAAMBXQAAAAAAAAFhAAAAAAACAWEAAAAAAAIBYQAAAAAAAAFdAAAAAAABAVkAAAAAAAEBWQAAAAAAAwFdAAAAAAACAWkAAAAAAAABbQAAAAAAAQFpAAAAAAACAW0AAAAAAAEBdQAAAAAAAAF5AAAAAAAAAXUAAAAAAAABbQAAAAAAAwFlAAAAAAADAWUAAAAAAAEBaQAAAAAAAAFpAAAAAAAAAW0AAAAAAAIBYQAAAAAAAAFlAAAAAAACAWUAAAAAAAIBZQAAAAAAAgFlA\"},\"shape\":[102],\"dtype\":\"float64\",\"order\":\"little\"}]]}}},\"view\":{\"type\":\"object\",\"name\":\"CDSView\",\"id\":\"p1211\",\"attributes\":{\"filter\":{\"type\":\"object\",\"name\":\"AllIndices\",\"id\":\"p1212\"}}},\"glyph\":{\"type\":\"object\",\"name\":\"Line\",\"id\":\"p1207\",\"attributes\":{\"x\":{\"type\":\"field\",\"field\":\"x\"},\"y\":{\"type\":\"field\",\"field\":\"y\"},\"line_color\":\"gray\",\"line_alpha\":0.5,\"line_width\":2}},\"nonselection_glyph\":{\"type\":\"object\",\"name\":\"Line\",\"id\":\"p1208\",\"attributes\":{\"x\":{\"type\":\"field\",\"field\":\"x\"},\"y\":{\"type\":\"field\",\"field\":\"y\"},\"line_color\":\"gray\",\"line_alpha\":0.1,\"line_width\":2}},\"muted_glyph\":{\"type\":\"object\",\"name\":\"Line\",\"id\":\"p1209\",\"attributes\":{\"x\":{\"type\":\"field\",\"field\":\"x\"},\"y\":{\"type\":\"field\",\"field\":\"y\"},\"line_color\":\"gray\",\"line_alpha\":0.2,\"line_width\":2}}}},{\"type\":\"object\",\"name\":\"GlyphRenderer\",\"id\":\"p1220\",\"attributes\":{\"data_source\":{\"type\":\"object\",\"name\":\"ColumnDataSource\",\"id\":\"p1214\",\"attributes\":{\"selected\":{\"type\":\"object\",\"name\":\"Selection\",\"id\":\"p1215\",\"attributes\":{\"indices\":[],\"line_indices\":[]}},\"selection_policy\":{\"type\":\"object\",\"name\":\"UnionRenderers\",\"id\":\"p1216\"},\"data\":{\"type\":\"map\",\"entries\":[[\"x\",{\"type\":\"ndarray\",\"array\":{\"type\":\"bytes\",\"data\":\"AACkprcDeEIAAOzx5wN4QgAAErHVA3hC\"},\"shape\":[3],\"dtype\":\"float64\",\"order\":\"little\"}],[\"y\",{\"type\":\"ndarray\",\"array\":{\"type\":\"bytes\",\"data\":\"AAAAAABAXUAAAAAAAABeQAAAAAAAwFpA\"},\"shape\":[3],\"dtype\":\"float64\",\"order\":\"little\"}]]}}},\"view\":{\"type\":\"object\",\"name\":\"CDSView\",\"id\":\"p1221\",\"attributes\":{\"filter\":{\"type\":\"object\",\"name\":\"AllIndices\",\"id\":\"p1222\"}}},\"glyph\":{\"type\":\"object\",\"name\":\"Scatter\",\"id\":\"p1217\",\"attributes\":{\"x\":{\"type\":\"field\",\"field\":\"x\"},\"y\":{\"type\":\"field\",\"field\":\"y\"},\"size\":{\"type\":\"value\",\"value\":6},\"line_color\":{\"type\":\"value\",\"value\":\"darkblue\"},\"line_alpha\":{\"type\":\"value\",\"value\":0.7},\"fill_color\":{\"type\":\"value\",\"value\":\"darkblue\"},\"fill_alpha\":{\"type\":\"value\",\"value\":0.7},\"hatch_color\":{\"type\":\"value\",\"value\":\"darkblue\"},\"hatch_alpha\":{\"type\":\"value\",\"value\":0.7}}},\"nonselection_glyph\":{\"type\":\"object\",\"name\":\"Scatter\",\"id\":\"p1218\",\"attributes\":{\"x\":{\"type\":\"field\",\"field\":\"x\"},\"y\":{\"type\":\"field\",\"field\":\"y\"},\"size\":{\"type\":\"value\",\"value\":6},\"line_color\":{\"type\":\"value\",\"value\":\"darkblue\"},\"line_alpha\":{\"type\":\"value\",\"value\":0.1},\"fill_color\":{\"type\":\"value\",\"value\":\"darkblue\"},\"fill_alpha\":{\"type\":\"value\",\"value\":0.1},\"hatch_color\":{\"type\":\"value\",\"value\":\"darkblue\"},\"hatch_alpha\":{\"type\":\"value\",\"value\":0.1}}},\"muted_glyph\":{\"type\":\"object\",\"name\":\"Scatter\",\"id\":\"p1219\",\"attributes\":{\"x\":{\"type\":\"field\",\"field\":\"x\"},\"y\":{\"type\":\"field\",\"field\":\"y\"},\"size\":{\"type\":\"value\",\"value\":6},\"line_color\":{\"type\":\"value\",\"value\":\"darkblue\"},\"line_alpha\":{\"type\":\"value\",\"value\":0.2},\"fill_color\":{\"type\":\"value\",\"value\":\"darkblue\"},\"fill_alpha\":{\"type\":\"value\",\"value\":0.2},\"hatch_color\":{\"type\":\"value\",\"value\":\"darkblue\"},\"hatch_alpha\":{\"type\":\"value\",\"value\":0.2}}}}}],\"toolbar\":{\"type\":\"object\",\"name\":\"Toolbar\",\"id\":\"p1176\",\"attributes\":{\"tools\":[{\"type\":\"object\",\"name\":\"PanTool\",\"id\":\"p1201\"},{\"type\":\"object\",\"name\":\"WheelZoomTool\",\"id\":\"p1202\",\"attributes\":{\"dimensions\":\"width\",\"renderers\":\"auto\"}},{\"type\":\"object\",\"name\":\"WheelZoomTool\",\"id\":\"p1203\",\"attributes\":{\"dimensions\":\"height\",\"renderers\":\"auto\"}}],\"active_scroll\":{\"id\":\"p1202\"}}},\"left\":[{\"type\":\"object\",\"name\":\"LinearAxis\",\"id\":\"p1196\",\"attributes\":{\"ticker\":{\"type\":\"object\",\"name\":\"BasicTicker\",\"id\":\"p1197\",\"attributes\":{\"mantissas\":[1,2,5]}},\"formatter\":{\"type\":\"object\",\"name\":\"BasicTickFormatter\",\"id\":\"p1198\"},\"axis_label\":\"Glucose\",\"major_label_policy\":{\"type\":\"object\",\"name\":\"AllLabels\",\"id\":\"p1199\"}}}],\"above\":[{\"type\":\"object\",\"name\":\"DatetimeAxis\",\"id\":\"p1179\",\"attributes\":{\"ticker\":{\"type\":\"object\",\"name\":\"DatetimeTicker\",\"id\":\"p1180\",\"attributes\":{\"num_minor_ticks\":5,\"tickers\":[{\"type\":\"object\",\"name\":\"AdaptiveTicker\",\"id\":\"p1181\",\"attributes\":{\"num_minor_ticks\":0,\"mantissas\":[1,2,5],\"max_interval\":500.0}},{\"type\":\"object\",\"name\":\"AdaptiveTicker\",\"id\":\"p1182\",\"attributes\":{\"num_minor_ticks\":0,\"base\":60,\"mantissas\":[1,2,5,10,15,20,30],\"min_interval\":1000.0,\"max_interval\":1800000.0}},{\"type\":\"object\",\"name\":\"AdaptiveTicker\",\"id\":\"p1183\",\"attributes\":{\"num_minor_ticks\":0,\"base\":24,\"mantissas\":[1,2,4,6,8,12],\"min_interval\":3600000.0,\"max_interval\":43200000.0}},{\"type\":\"object\",\"name\":\"DaysTicker\",\"id\":\"p1184\",\"attributes\":{\"days\":[1,2,3,4,5,6,7,8,9,10,11,12,13,14,15,16,17,18,19,20,21,22,23,24,25,26,27,28,29,30,31]}},{\"type\":\"object\",\"name\":\"DaysTicker\",\"id\":\"p1185\",\"attributes\":{\"days\":[1,4,7,10,13,16,19,22,25,28]}},{\"type\":\"object\",\"name\":\"DaysTicker\",\"id\":\"p1186\",\"attributes\":{\"days\":[1,8,15,22]}},{\"type\":\"object\",\"name\":\"DaysTicker\",\"id\":\"p1187\",\"attributes\":{\"days\":[1,15]}},{\"type\":\"object\",\"name\":\"MonthsTicker\",\"id\":\"p1188\",\"attributes\":{\"months\":[0,1,2,3,4,5,6,7,8,9,10,11]}},{\"type\":\"object\",\"name\":\"MonthsTicker\",\"id\":\"p1189\",\"attributes\":{\"months\":[0,2,4,6,8,10]}},{\"type\":\"object\",\"name\":\"MonthsTicker\",\"id\":\"p1190\",\"attributes\":{\"months\":[0,4,8]}},{\"type\":\"object\",\"name\":\"MonthsTicker\",\"id\":\"p1191\",\"attributes\":{\"months\":[0,6]}},{\"type\":\"object\",\"name\":\"YearsTicker\",\"id\":\"p1192\"}]}},\"formatter\":{\"type\":\"object\",\"name\":\"DatetimeTickFormatter\",\"id\":\"p1193\"},\"axis_label\":\"Time\",\"major_label_policy\":{\"type\":\"object\",\"name\":\"AllLabels\",\"id\":\"p1194\"}}}],\"center\":[{\"type\":\"object\",\"name\":\"Grid\",\"id\":\"p1195\",\"attributes\":{\"axis\":{\"id\":\"p1179\"}}},{\"type\":\"object\",\"name\":\"Grid\",\"id\":\"p1200\",\"attributes\":{\"dimension\":1,\"axis\":{\"id\":\"p1196\"}}},{\"type\":\"object\",\"name\":\"Span\",\"id\":\"p1213\",\"attributes\":{\"location\":101.88235294117646,\"line_color\":\"red\"}},{\"type\":\"object\",\"name\":\"Span\",\"id\":\"p1223\",\"attributes\":{\"location\":1650283200000.0,\"dimension\":\"height\",\"line_color\":\"orange\",\"line_width\":2}},{\"type\":\"object\",\"name\":\"BoxAnnotation\",\"id\":\"p1224\",\"attributes\":{\"left\":1650283200000.0,\"right\":1650286800000.0,\"top\":{\"type\":\"object\",\"name\":\"Node\",\"id\":\"p1227\",\"attributes\":{\"target\":\"frame\",\"symbol\":\"top\"}},\"bottom\":{\"type\":\"object\",\"name\":\"Node\",\"id\":\"p1228\",\"attributes\":{\"target\":\"frame\",\"symbol\":\"bottom\"}},\"fill_color\":\"orange\",\"fill_alpha\":0.3}},{\"type\":\"object\",\"name\":\"Label\",\"id\":\"p1229\",\"attributes\":{\"text\":\"1050.00\",\"text_color\":\"black\",\"text_font_size\":\"10pt\",\"background_fill_color\":\"white\",\"background_fill_alpha\":0.7,\"x\":1650283200000.0,\"y\":110,\"angle\":90,\"angle_units\":\"deg\"}},{\"type\":\"object\",\"name\":\"Span\",\"id\":\"p1230\",\"attributes\":{\"location\":1650304800000.0,\"dimension\":\"height\",\"line_color\":\"orange\",\"line_width\":2}},{\"type\":\"object\",\"name\":\"BoxAnnotation\",\"id\":\"p1231\",\"attributes\":{\"left\":1650304800000.0,\"right\":1650308400000.0,\"top\":{\"type\":\"object\",\"name\":\"Node\",\"id\":\"p1234\",\"attributes\":{\"target\":\"frame\",\"symbol\":\"top\"}},\"bottom\":{\"type\":\"object\",\"name\":\"Node\",\"id\":\"p1235\",\"attributes\":{\"target\":\"frame\",\"symbol\":\"bottom\"}},\"fill_color\":\"orange\",\"fill_alpha\":0.3}},{\"type\":\"object\",\"name\":\"Label\",\"id\":\"p1236\",\"attributes\":{\"text\":\"409.00\",\"text_color\":\"black\",\"text_font_size\":\"10pt\",\"background_fill_color\":\"white\",\"background_fill_alpha\":0.7,\"x\":1650304800000.0,\"y\":110,\"angle\":90,\"angle_units\":\"deg\"}}]}}]}};\n",
              "  const render_items = [{\"docid\":\"29ac14d1-fddf-41dc-b423-9d37eeaf1a28\",\"roots\":{\"p1168\":\"bc377a15-1d70-4572-8b67-73aeba7679c9\"},\"root_ids\":[\"p1168\"]}];\n",
              "  void root.Bokeh.embed.embed_items_notebook(docs_json, render_items);\n",
              "  }\n",
              "  if (root.Bokeh !== undefined) {\n",
              "    embed_document(root);\n",
              "  } else {\n",
              "    let attempts = 0;\n",
              "    const timer = setInterval(function(root) {\n",
              "      if (root.Bokeh !== undefined) {\n",
              "        clearInterval(timer);\n",
              "        embed_document(root);\n",
              "      } else {\n",
              "        attempts++;\n",
              "        if (attempts > 100) {\n",
              "          clearInterval(timer);\n",
              "          console.log(\"Bokeh: ERROR: Unable to run BokehJS code because BokehJS library is missing\");\n",
              "        }\n",
              "      }\n",
              "    }, 10, root)\n",
              "  }\n",
              "})(window);"
            ],
            "application/vnd.bokehjs_exec.v0+json": ""
          },
          "metadata": {
            "application/vnd.bokehjs_exec.v0+json": {
              "id": "p1168"
            }
          }
        },
        {
          "output_type": "stream",
          "name": "stdout",
          "text": [
            "\n",
            "\n",
            "\n"
          ]
        },
        {
          "output_type": "display_data",
          "data": {
            "text/html": [
              "\n",
              "  <div id=\"c19413f0-47fc-4b29-88c8-14ea6f92a06d\" data-root-id=\"p1241\" style=\"display: contents;\"></div>\n"
            ]
          },
          "metadata": {}
        },
        {
          "output_type": "display_data",
          "data": {
            "application/javascript": [
              "(function(root) {\n",
              "  function embed_document(root) {\n",
              "  const docs_json = {\"674df47d-ae56-4e7e-ad3d-a0446daac528\":{\"version\":\"3.4.3\",\"title\":\"Bokeh Application\",\"roots\":[{\"type\":\"object\",\"name\":\"Figure\",\"id\":\"p1241\",\"attributes\":{\"height\":400,\"x_range\":{\"type\":\"object\",\"name\":\"DataRange1d\",\"id\":\"p1242\"},\"y_range\":{\"type\":\"object\",\"name\":\"DataRange1d\",\"id\":\"p1243\"},\"x_scale\":{\"type\":\"object\",\"name\":\"LinearScale\",\"id\":\"p1250\"},\"y_scale\":{\"type\":\"object\",\"name\":\"LinearScale\",\"id\":\"p1251\"},\"title\":{\"type\":\"object\",\"name\":\"Title\",\"id\":\"p1248\",\"attributes\":{\"text\":\"Day: 2022-04-19\",\"text_font_size\":\"20pt\",\"align\":\"center\"}},\"renderers\":[{\"type\":\"object\",\"name\":\"GlyphRenderer\",\"id\":\"p1283\",\"attributes\":{\"data_source\":{\"type\":\"object\",\"name\":\"ColumnDataSource\",\"id\":\"p1277\",\"attributes\":{\"selected\":{\"type\":\"object\",\"name\":\"Selection\",\"id\":\"p1278\",\"attributes\":{\"indices\":[],\"line_indices\":[]}},\"selection_policy\":{\"type\":\"object\",\"name\":\"UnionRenderers\",\"id\":\"p1279\"},\"data\":{\"type\":\"map\",\"entries\":[[\"x\",{\"type\":\"ndarray\",\"array\":{\"type\":\"bytes\",\"data\":\"AACWavIDeEIAAFBG8wN4QgAACiL0A3hCAADE/fQDeEIAAH7Z9QN4QgAAOLX2A3hCAADykPcDeEIAAKxs+AN4QgAAZkj5A3hCAAAgJPoDeEIAANr/+gN4QgAAlNv7A3hCAABOt/wDeEIAAAiT/QN4QgAAwm7+A3hCAAB8Sv8DeEIAADYmAAR4QgAA8AEBBHhCAACq3QEEeEIAAGS5AgR4QgAAHpUDBHhCAADYcAQEeEIAAJJMBQR4QgAATCgGBHhCAAAGBAcEeEIAAMDfBwR4QgAAxtgIBHhCAAD2TQkEeEIAAIC0CQR4QgAAOpAKBHhCAAD0awsEeEIAAK5HDAR4QgAAaCMNBHhCAAAi/w0EeEIAANzaDgR4QgAAlrYPBHhCAABQkhAEeEIAAApuEQR4QgAAxEkSBHhCAAB+JRMEeEIAADgBFAR4QgAA8twUBHhCAACsuBUEeEIAAGaUFgR4QgAAIHAXBHhCAADaSxgEeEIAAJQnGQR4QgAATgMaBHhCAAAI3xoEeEIAAMK6GwR4QgAAfJYcBHhCAAA2ch0EeEIAAPBNHgR4QgAAqikfBHhCAACUeiAEeEIAAITEIgR4QgAAPqAjBHhCAAD4eyQEeEIAALJXJQR4QgAAbDMmBHhCAAAmDycEeEIAAODqJwR4QgAAmsYoBHhCAABUoikEeEIAAA5+KgR4QgAAyFkrBHhCAACCNSwEeEIAADwRLQR4QgAA9uwtBHhCAACwyC4EeEIAAGqkLwR4QgAAJIAwBHhCAADeWzEEeEIAAJg3MgR4QgAAUhMzBHhCAAAM7zMEeEIAAMbKNAR4QgAAgKY1BHhCAAA6gjYEeEIAAPRdNwR4QgAArjk4BHhCAABoFTkEeEIAACLxOQR4QgAA3Mw6BHhCAACWqDsEeEIAAFCEPAR4QgAAsG49BHhCAABWfT0EeEIAAGpKPgR4QgAAfhc/BHhCAADs1T8EeEIAADjzPwR4QgAA8s5ABHhCAACsqkEEeEIAAFiyQgR4QgAAelNDBHhCAAASjkMEeEI=\"},\"shape\":[97],\"dtype\":\"float64\",\"order\":\"little\"}],[\"y\",{\"type\":\"ndarray\",\"array\":{\"type\":\"bytes\",\"data\":\"AAAAAAAAWkAAAAAAAABaQAAAAAAAQFpAAAAAAACAWkAAAAAAAMBZQAAAAAAAgFdAAAAAAADAVUAAAAAAAMBVQAAAAAAAAFZAAAAAAAAAV0AAAAAAAIBYQAAAAAAAwFdAAAAAAAAAV0AAAAAAAABYQAAAAAAAgFhAAAAAAABAWEAAAAAAAIBYQAAAAAAAAFlAAAAAAADAWUAAAAAAAEBaQAAAAAAAQFpAAAAAAAAAWkAAAAAAAABaQAAAAAAAAFpAAAAAAABAWUAAAAAAAABZQAAAAAAAgFxAAAAAAABAXkAAAAAAAIBdQAAAAAAAwFxAAAAAAAAAXEAAAAAAAEBcQAAAAAAAQF1AAAAAAABAXUAAAAAAAABdQAAAAAAAwFxAAAAAAABAW0AAAAAAAMBZQAAAAAAAAFlAAAAAAABAWUAAAAAAAIBZQAAAAAAAAFlAAAAAAACAWEAAAAAAAEBYQAAAAAAAQFdAAAAAAABAVkAAAAAAAEBWQAAAAAAAwFZAAAAAAACAVkAAAAAAAMBVQAAAAAAAQFVAAAAAAACAVkAAAAAAAABaQAAAAAAAQF1AAAAAAABAXUAAAAAAAMBbQAAAAAAAgFlAAAAAAABAWEAAAAAAAIBXQAAAAAAAwFdAAAAAAABAWEAAAAAAAIBXQAAAAAAAwFdAAAAAAACAWkAAAAAAAABdQAAAAAAAQFpAAAAAAACAVkAAAAAAAIBWQAAAAAAAQFdAAAAAAADAVUAAAAAAAEBVQAAAAAAAAFZAAAAAAACAVUAAAAAAAABVQAAAAAAAQFVAAAAAAAAAVkAAAAAAAIBWQAAAAAAAQFZAAAAAAADAVkAAAAAAAMBXQAAAAAAAgFlAAAAAAADAWUAAAAAAAEBZQAAAAAAAQFlAAAAAAACAWEAAAAAAAIBYQAAAAAAAwFxAAAAAAACAX0AAAAAAAIBeQAAAAAAAAFxAAAAAAABAWUAAAAAAAEBaQAAAAAAAAFpAAAAAAADAWUAAAAAAAABaQAAAAAAAQFpAAAAAAACAWUA=\"},\"shape\":[97],\"dtype\":\"float64\",\"order\":\"little\"}]]}}},\"view\":{\"type\":\"object\",\"name\":\"CDSView\",\"id\":\"p1284\",\"attributes\":{\"filter\":{\"type\":\"object\",\"name\":\"AllIndices\",\"id\":\"p1285\"}}},\"glyph\":{\"type\":\"object\",\"name\":\"Line\",\"id\":\"p1280\",\"attributes\":{\"x\":{\"type\":\"field\",\"field\":\"x\"},\"y\":{\"type\":\"field\",\"field\":\"y\"},\"line_color\":\"gray\",\"line_alpha\":0.5,\"line_width\":2}},\"nonselection_glyph\":{\"type\":\"object\",\"name\":\"Line\",\"id\":\"p1281\",\"attributes\":{\"x\":{\"type\":\"field\",\"field\":\"x\"},\"y\":{\"type\":\"field\",\"field\":\"y\"},\"line_color\":\"gray\",\"line_alpha\":0.1,\"line_width\":2}},\"muted_glyph\":{\"type\":\"object\",\"name\":\"Line\",\"id\":\"p1282\",\"attributes\":{\"x\":{\"type\":\"field\",\"field\":\"x\"},\"y\":{\"type\":\"field\",\"field\":\"y\"},\"line_color\":\"gray\",\"line_alpha\":0.2,\"line_width\":2}}}},{\"type\":\"object\",\"name\":\"GlyphRenderer\",\"id\":\"p1293\",\"attributes\":{\"data_source\":{\"type\":\"object\",\"name\":\"ColumnDataSource\",\"id\":\"p1287\",\"attributes\":{\"selected\":{\"type\":\"object\",\"name\":\"Selection\",\"id\":\"p1288\",\"attributes\":{\"indices\":[],\"line_indices\":[]}},\"selection_policy\":{\"type\":\"object\",\"name\":\"UnionRenderers\",\"id\":\"p1289\"},\"data\":{\"type\":\"map\",\"entries\":[[\"x\",{\"type\":\"ndarray\",\"array\":{\"type\":\"bytes\",\"data\":\"AAD2TQkEeEIAAKopHwR4QgAAVn09BHhC\"},\"shape\":[3],\"dtype\":\"float64\",\"order\":\"little\"}],[\"y\",{\"type\":\"ndarray\",\"array\":{\"type\":\"bytes\",\"data\":\"AAAAAABAXkAAAAAAAEBdQAAAAAAAgF9A\"},\"shape\":[3],\"dtype\":\"float64\",\"order\":\"little\"}]]}}},\"view\":{\"type\":\"object\",\"name\":\"CDSView\",\"id\":\"p1294\",\"attributes\":{\"filter\":{\"type\":\"object\",\"name\":\"AllIndices\",\"id\":\"p1295\"}}},\"glyph\":{\"type\":\"object\",\"name\":\"Scatter\",\"id\":\"p1290\",\"attributes\":{\"x\":{\"type\":\"field\",\"field\":\"x\"},\"y\":{\"type\":\"field\",\"field\":\"y\"},\"size\":{\"type\":\"value\",\"value\":6},\"line_color\":{\"type\":\"value\",\"value\":\"darkblue\"},\"line_alpha\":{\"type\":\"value\",\"value\":0.7},\"fill_color\":{\"type\":\"value\",\"value\":\"darkblue\"},\"fill_alpha\":{\"type\":\"value\",\"value\":0.7},\"hatch_color\":{\"type\":\"value\",\"value\":\"darkblue\"},\"hatch_alpha\":{\"type\":\"value\",\"value\":0.7}}},\"nonselection_glyph\":{\"type\":\"object\",\"name\":\"Scatter\",\"id\":\"p1291\",\"attributes\":{\"x\":{\"type\":\"field\",\"field\":\"x\"},\"y\":{\"type\":\"field\",\"field\":\"y\"},\"size\":{\"type\":\"value\",\"value\":6},\"line_color\":{\"type\":\"value\",\"value\":\"darkblue\"},\"line_alpha\":{\"type\":\"value\",\"value\":0.1},\"fill_color\":{\"type\":\"value\",\"value\":\"darkblue\"},\"fill_alpha\":{\"type\":\"value\",\"value\":0.1},\"hatch_color\":{\"type\":\"value\",\"value\":\"darkblue\"},\"hatch_alpha\":{\"type\":\"value\",\"value\":0.1}}},\"muted_glyph\":{\"type\":\"object\",\"name\":\"Scatter\",\"id\":\"p1292\",\"attributes\":{\"x\":{\"type\":\"field\",\"field\":\"x\"},\"y\":{\"type\":\"field\",\"field\":\"y\"},\"size\":{\"type\":\"value\",\"value\":6},\"line_color\":{\"type\":\"value\",\"value\":\"darkblue\"},\"line_alpha\":{\"type\":\"value\",\"value\":0.2},\"fill_color\":{\"type\":\"value\",\"value\":\"darkblue\"},\"fill_alpha\":{\"type\":\"value\",\"value\":0.2},\"hatch_color\":{\"type\":\"value\",\"value\":\"darkblue\"},\"hatch_alpha\":{\"type\":\"value\",\"value\":0.2}}}}}],\"toolbar\":{\"type\":\"object\",\"name\":\"Toolbar\",\"id\":\"p1249\",\"attributes\":{\"tools\":[{\"type\":\"object\",\"name\":\"PanTool\",\"id\":\"p1274\"},{\"type\":\"object\",\"name\":\"WheelZoomTool\",\"id\":\"p1275\",\"attributes\":{\"dimensions\":\"width\",\"renderers\":\"auto\"}},{\"type\":\"object\",\"name\":\"WheelZoomTool\",\"id\":\"p1276\",\"attributes\":{\"dimensions\":\"height\",\"renderers\":\"auto\"}}],\"active_scroll\":{\"id\":\"p1275\"}}},\"left\":[{\"type\":\"object\",\"name\":\"LinearAxis\",\"id\":\"p1269\",\"attributes\":{\"ticker\":{\"type\":\"object\",\"name\":\"BasicTicker\",\"id\":\"p1270\",\"attributes\":{\"mantissas\":[1,2,5]}},\"formatter\":{\"type\":\"object\",\"name\":\"BasicTickFormatter\",\"id\":\"p1271\"},\"axis_label\":\"Glucose\",\"major_label_policy\":{\"type\":\"object\",\"name\":\"AllLabels\",\"id\":\"p1272\"}}}],\"above\":[{\"type\":\"object\",\"name\":\"DatetimeAxis\",\"id\":\"p1252\",\"attributes\":{\"ticker\":{\"type\":\"object\",\"name\":\"DatetimeTicker\",\"id\":\"p1253\",\"attributes\":{\"num_minor_ticks\":5,\"tickers\":[{\"type\":\"object\",\"name\":\"AdaptiveTicker\",\"id\":\"p1254\",\"attributes\":{\"num_minor_ticks\":0,\"mantissas\":[1,2,5],\"max_interval\":500.0}},{\"type\":\"object\",\"name\":\"AdaptiveTicker\",\"id\":\"p1255\",\"attributes\":{\"num_minor_ticks\":0,\"base\":60,\"mantissas\":[1,2,5,10,15,20,30],\"min_interval\":1000.0,\"max_interval\":1800000.0}},{\"type\":\"object\",\"name\":\"AdaptiveTicker\",\"id\":\"p1256\",\"attributes\":{\"num_minor_ticks\":0,\"base\":24,\"mantissas\":[1,2,4,6,8,12],\"min_interval\":3600000.0,\"max_interval\":43200000.0}},{\"type\":\"object\",\"name\":\"DaysTicker\",\"id\":\"p1257\",\"attributes\":{\"days\":[1,2,3,4,5,6,7,8,9,10,11,12,13,14,15,16,17,18,19,20,21,22,23,24,25,26,27,28,29,30,31]}},{\"type\":\"object\",\"name\":\"DaysTicker\",\"id\":\"p1258\",\"attributes\":{\"days\":[1,4,7,10,13,16,19,22,25,28]}},{\"type\":\"object\",\"name\":\"DaysTicker\",\"id\":\"p1259\",\"attributes\":{\"days\":[1,8,15,22]}},{\"type\":\"object\",\"name\":\"DaysTicker\",\"id\":\"p1260\",\"attributes\":{\"days\":[1,15]}},{\"type\":\"object\",\"name\":\"MonthsTicker\",\"id\":\"p1261\",\"attributes\":{\"months\":[0,1,2,3,4,5,6,7,8,9,10,11]}},{\"type\":\"object\",\"name\":\"MonthsTicker\",\"id\":\"p1262\",\"attributes\":{\"months\":[0,2,4,6,8,10]}},{\"type\":\"object\",\"name\":\"MonthsTicker\",\"id\":\"p1263\",\"attributes\":{\"months\":[0,4,8]}},{\"type\":\"object\",\"name\":\"MonthsTicker\",\"id\":\"p1264\",\"attributes\":{\"months\":[0,6]}},{\"type\":\"object\",\"name\":\"YearsTicker\",\"id\":\"p1265\"}]}},\"formatter\":{\"type\":\"object\",\"name\":\"DatetimeTickFormatter\",\"id\":\"p1266\"},\"axis_label\":\"Time\",\"major_label_policy\":{\"type\":\"object\",\"name\":\"AllLabels\",\"id\":\"p1267\"}}}],\"center\":[{\"type\":\"object\",\"name\":\"Grid\",\"id\":\"p1268\",\"attributes\":{\"axis\":{\"id\":\"p1252\"}}},{\"type\":\"object\",\"name\":\"Grid\",\"id\":\"p1273\",\"attributes\":{\"dimension\":1,\"axis\":{\"id\":\"p1269\"}}},{\"type\":\"object\",\"name\":\"Span\",\"id\":\"p1286\",\"attributes\":{\"location\":100.4639175257732,\"line_color\":\"red\"}},{\"type\":\"object\",\"name\":\"Span\",\"id\":\"p1296\",\"attributes\":{\"location\":1650369600000.0,\"dimension\":\"height\",\"line_color\":\"orange\",\"line_width\":2}},{\"type\":\"object\",\"name\":\"BoxAnnotation\",\"id\":\"p1297\",\"attributes\":{\"left\":1650369600000.0,\"right\":1650373200000.0,\"top\":{\"type\":\"object\",\"name\":\"Node\",\"id\":\"p1300\",\"attributes\":{\"target\":\"frame\",\"symbol\":\"top\"}},\"bottom\":{\"type\":\"object\",\"name\":\"Node\",\"id\":\"p1301\",\"attributes\":{\"target\":\"frame\",\"symbol\":\"bottom\"}},\"fill_color\":\"orange\",\"fill_alpha\":0.3}},{\"type\":\"object\",\"name\":\"Label\",\"id\":\"p1302\",\"attributes\":{\"text\":\"1080.00\",\"text_color\":\"black\",\"text_font_size\":\"10pt\",\"background_fill_color\":\"white\",\"background_fill_alpha\":0.7,\"x\":1650369600000.0,\"y\":110,\"angle\":90,\"angle_units\":\"deg\"}},{\"type\":\"object\",\"name\":\"Span\",\"id\":\"p1303\",\"attributes\":{\"location\":1650384000000.0,\"dimension\":\"height\",\"line_color\":\"orange\",\"line_width\":2}},{\"type\":\"object\",\"name\":\"BoxAnnotation\",\"id\":\"p1304\",\"attributes\":{\"left\":1650384000000.0,\"right\":1650387600000.0,\"top\":{\"type\":\"object\",\"name\":\"Node\",\"id\":\"p1307\",\"attributes\":{\"target\":\"frame\",\"symbol\":\"top\"}},\"bottom\":{\"type\":\"object\",\"name\":\"Node\",\"id\":\"p1308\",\"attributes\":{\"target\":\"frame\",\"symbol\":\"bottom\"}},\"fill_color\":\"orange\",\"fill_alpha\":0.3}},{\"type\":\"object\",\"name\":\"Label\",\"id\":\"p1309\",\"attributes\":{\"text\":\"305.00\",\"text_color\":\"black\",\"text_font_size\":\"10pt\",\"background_fill_color\":\"white\",\"background_fill_alpha\":0.7,\"x\":1650384000000.0,\"y\":110,\"angle\":90,\"angle_units\":\"deg\"}},{\"type\":\"object\",\"name\":\"Span\",\"id\":\"p1310\",\"attributes\":{\"location\":1650391200000.0,\"dimension\":\"height\",\"line_color\":\"orange\",\"line_width\":2}},{\"type\":\"object\",\"name\":\"BoxAnnotation\",\"id\":\"p1311\",\"attributes\":{\"left\":1650391200000.0,\"right\":1650394800000.0,\"top\":{\"type\":\"object\",\"name\":\"Node\",\"id\":\"p1314\",\"attributes\":{\"target\":\"frame\",\"symbol\":\"top\"}},\"bottom\":{\"type\":\"object\",\"name\":\"Node\",\"id\":\"p1315\",\"attributes\":{\"target\":\"frame\",\"symbol\":\"bottom\"}},\"fill_color\":\"orange\",\"fill_alpha\":0.3}},{\"type\":\"object\",\"name\":\"Label\",\"id\":\"p1316\",\"attributes\":{\"text\":\"1103.00\",\"text_color\":\"black\",\"text_font_size\":\"10pt\",\"background_fill_color\":\"white\",\"background_fill_alpha\":0.7,\"x\":1650391200000.0,\"y\":110,\"angle\":90,\"angle_units\":\"deg\"}}]}}]}};\n",
              "  const render_items = [{\"docid\":\"674df47d-ae56-4e7e-ad3d-a0446daac528\",\"roots\":{\"p1241\":\"c19413f0-47fc-4b29-88c8-14ea6f92a06d\"},\"root_ids\":[\"p1241\"]}];\n",
              "  void root.Bokeh.embed.embed_items_notebook(docs_json, render_items);\n",
              "  }\n",
              "  if (root.Bokeh !== undefined) {\n",
              "    embed_document(root);\n",
              "  } else {\n",
              "    let attempts = 0;\n",
              "    const timer = setInterval(function(root) {\n",
              "      if (root.Bokeh !== undefined) {\n",
              "        clearInterval(timer);\n",
              "        embed_document(root);\n",
              "      } else {\n",
              "        attempts++;\n",
              "        if (attempts > 100) {\n",
              "          clearInterval(timer);\n",
              "          console.log(\"Bokeh: ERROR: Unable to run BokehJS code because BokehJS library is missing\");\n",
              "        }\n",
              "      }\n",
              "    }, 10, root)\n",
              "  }\n",
              "})(window);"
            ],
            "application/vnd.bokehjs_exec.v0+json": ""
          },
          "metadata": {
            "application/vnd.bokehjs_exec.v0+json": {
              "id": "p1241"
            }
          }
        },
        {
          "output_type": "stream",
          "name": "stdout",
          "text": [
            "\n",
            "\n",
            "\n"
          ]
        },
        {
          "output_type": "display_data",
          "data": {
            "text/html": [
              "\n",
              "  <div id=\"aeb37bc5-1aaf-4dc8-a2a6-6c25201dbfdd\" data-root-id=\"p1321\" style=\"display: contents;\"></div>\n"
            ]
          },
          "metadata": {}
        },
        {
          "output_type": "display_data",
          "data": {
            "application/javascript": [
              "(function(root) {\n",
              "  function embed_document(root) {\n",
              "  const docs_json = {\"e84271c2-8df6-4fcf-8ca6-c8b142165ade\":{\"version\":\"3.4.3\",\"title\":\"Bokeh Application\",\"roots\":[{\"type\":\"object\",\"name\":\"Figure\",\"id\":\"p1321\",\"attributes\":{\"height\":400,\"x_range\":{\"type\":\"object\",\"name\":\"DataRange1d\",\"id\":\"p1322\"},\"y_range\":{\"type\":\"object\",\"name\":\"DataRange1d\",\"id\":\"p1323\"},\"x_scale\":{\"type\":\"object\",\"name\":\"LinearScale\",\"id\":\"p1330\"},\"y_scale\":{\"type\":\"object\",\"name\":\"LinearScale\",\"id\":\"p1331\"},\"title\":{\"type\":\"object\",\"name\":\"Title\",\"id\":\"p1328\",\"attributes\":{\"text\":\"Day: 2022-04-20\",\"text_font_size\":\"20pt\",\"align\":\"center\"}},\"renderers\":[{\"type\":\"object\",\"name\":\"GlyphRenderer\",\"id\":\"p1363\",\"attributes\":{\"data_source\":{\"type\":\"object\",\"name\":\"ColumnDataSource\",\"id\":\"p1357\",\"attributes\":{\"selected\":{\"type\":\"object\",\"name\":\"Selection\",\"id\":\"p1358\",\"attributes\":{\"indices\":[],\"line_indices\":[]}},\"selection_policy\":{\"type\":\"object\",\"name\":\"UnionRenderers\",\"id\":\"p1359\"},\"data\":{\"type\":\"map\",\"entries\":[[\"x\",{\"type\":\"ndarray\",\"array\":{\"type\":\"bytes\",\"data\":\"AADMaUQEeEIAAIZFRQR4QgAAQCFGBHhCAAD6/EYEeEIAALTYRwR4QgAAbrRIBHhCAAAokEkEeEIAAOJrSgR4QgAAnEdLBHhCAABWI0wEeEIAABD/TAR4QgAAytpNBHhCAACEtk4EeEIAAD6STwR4QgAA+G1QBHhCAACySVEEeEIAAGwlUgR4QgAAJgFTBHhCAADg3FMEeEIAAJq4VAR4QgAAVJRVBHhCAAAOcFYEeEIAAMhLVwR4QgAAgidYBHhCAAA8A1kEeEIAAPbeWQR4QgAAsLpaBHhCAABWyVoEeEIAAGqWWwR4QgAAJHJcBHhCAABGE10EeEIAAN5NXQR4QgAAmCleBHhCAABSBV8EeEIAALLvXwR4QgAALoJgBHhCAABsy2AEeEIAACanYQR4QgAA4IJiBHhCAACaXmMEeEIAAFQ6ZAR4QgAADhZlBHhCAADI8WUEeEIAAILNZgR4QgAAPKlnBHhCAAD2hGgEeEIAALBgaQR4QgAAajxqBHhCAADKJmsEeEIAAAhwawR4QgAAhAJsBHhCAAA+3mwEeEIAAPi5bQR4QgAAspVuBHhCAABscW8EeEIAACZNcAR4QgAA4ChxBHhCAACaBHIEeEIAAOYhcgR4QgAAoP1yBHhCAABa2XMEeEIAABS1dAR4QgAAzpB1BHhCAACIbHYEeEIAAEJIdwR4QgAA/CN4BHhCAAC2/3gEeEIAAHDbeQR4QgAAKrd6BHhCAADkknsEeEIAAJ5ufAR4QgAAWEp9BHhCAAASJn4EeEIAAHIQfwR4QgAASJR/BHhCAAAs7H8EeEIAAObHgAR4QgAAoKOBBHhCAABaf4IEeEIAABRbgwR4QgAAzjaEBHhCAACIEoUEeEIAAELuhQR4QgAA/MmGBHhCAAC2pYcEeEIAAHCBiAR4QgAAKl2JBHhCAADkOIoEeEIAAJ4UiwR4QgAAWPCLBHhCAAASzIwEeEIAAKoGjQR4QgAAzKeNBHhCAACGg44EeEIAAEBfjwR4QgAA+jqQBHhCAAC0FpEEeEIAABQBkgR4QgAAYB6SBHhCAADO3JIEeEIAAIi4kwR4QgAAQpSUBHhCAABIjZUEeEIAADq5lQR4QgAAAmmWBHhC\"},\"shape\":[105],\"dtype\":\"float64\",\"order\":\"little\"}],[\"y\",{\"type\":\"ndarray\",\"array\":{\"type\":\"bytes\",\"data\":\"AAAAAADAWEAAAAAAAEBZQAAAAAAAQFlAAAAAAADAV0AAAAAAAMBWQAAAAAAAwFZAAAAAAAAAV0AAAAAAAMBWQAAAAAAAAFZAAAAAAAAAVkAAAAAAAABYQAAAAAAAAFpAAAAAAADAWUAAAAAAAEBZQAAAAAAAgFlAAAAAAABAWUAAAAAAAMBZQAAAAAAAQFpAAAAAAACAWkAAAAAAAABaQAAAAAAAwFhAAAAAAACAWEAAAAAAAABaQAAAAAAAwFpAAAAAAABAW0AAAAAAAABcQAAAAAAAwFxAAAAAAAAAXUAAAAAAAEBbQAAAAAAAAFtAAAAAAAAAWkAAAAAAAIBbQAAAAAAAwFpAAAAAAACAWUAAAAAAAEBZQAAAAAAAAFlAAAAAAADAWEAAAAAAAEBZQAAAAAAAQFlAAAAAAACAWEAAAAAAAIBYQAAAAAAAQFhAAAAAAABAWEAAAAAAAEBYQAAAAAAAwFdAAAAAAADAV0AAAAAAAMBXQAAAAAAAQFhAAAAAAADAWEAAAAAAAMBYQAAAAAAAQFhAAAAAAABAV0AAAAAAAEBXQAAAAAAAwFhAAAAAAAAAW0AAAAAAAIBaQAAAAAAAAFlAAAAAAADAWkAAAAAAAABbQAAAAAAAwFtAAAAAAABAWkAAAAAAAABYQAAAAAAAQFdAAAAAAADAV0AAAAAAAIBYQAAAAAAAAFlAAAAAAABAWUAAAAAAAEBZQAAAAAAAgFhAAAAAAADAV0AAAAAAAEBYQAAAAAAAwFhAAAAAAAAAWUAAAAAAAABYQAAAAAAAQFhAAAAAAACAV0AAAAAAAABYQAAAAAAAwFdAAAAAAABAV0AAAAAAAIBWQAAAAAAAgFZAAAAAAAAAV0AAAAAAAMBWQAAAAAAAAFZAAAAAAADAVkAAAAAAAIBaQAAAAAAAwFxAAAAAAAAAXUAAAAAAAEBdQAAAAAAAwFtAAAAAAAAAW0AAAAAAAMBYQAAAAAAAoGBAAAAAAADAYkAAAAAAAABhQAAAAAAAwFxAAAAAAABAXEAAAAAAAIBdQAAAAAAAQF9AAAAAAADAW0AAAAAAAEBZQAAAAAAAAFhAAAAAAABAWEAAAAAAAIBZQAAAAAAAQFhA\"},\"shape\":[105],\"dtype\":\"float64\",\"order\":\"little\"}]]}}},\"view\":{\"type\":\"object\",\"name\":\"CDSView\",\"id\":\"p1364\",\"attributes\":{\"filter\":{\"type\":\"object\",\"name\":\"AllIndices\",\"id\":\"p1365\"}}},\"glyph\":{\"type\":\"object\",\"name\":\"Line\",\"id\":\"p1360\",\"attributes\":{\"x\":{\"type\":\"field\",\"field\":\"x\"},\"y\":{\"type\":\"field\",\"field\":\"y\"},\"line_color\":\"gray\",\"line_alpha\":0.5,\"line_width\":2}},\"nonselection_glyph\":{\"type\":\"object\",\"name\":\"Line\",\"id\":\"p1361\",\"attributes\":{\"x\":{\"type\":\"field\",\"field\":\"x\"},\"y\":{\"type\":\"field\",\"field\":\"y\"},\"line_color\":\"gray\",\"line_alpha\":0.1,\"line_width\":2}},\"muted_glyph\":{\"type\":\"object\",\"name\":\"Line\",\"id\":\"p1362\",\"attributes\":{\"x\":{\"type\":\"field\",\"field\":\"x\"},\"y\":{\"type\":\"field\",\"field\":\"y\"},\"line_color\":\"gray\",\"line_alpha\":0.2,\"line_width\":2}}}},{\"type\":\"object\",\"name\":\"GlyphRenderer\",\"id\":\"p1373\",\"attributes\":{\"data_source\":{\"type\":\"object\",\"name\":\"ColumnDataSource\",\"id\":\"p1367\",\"attributes\":{\"selected\":{\"type\":\"object\",\"name\":\"Selection\",\"id\":\"p1368\",\"attributes\":{\"indices\":[],\"line_indices\":[]}},\"selection_policy\":{\"type\":\"object\",\"name\":\"UnionRenderers\",\"id\":\"p1369\"},\"data\":{\"type\":\"map\",\"entries\":[[\"x\",{\"type\":\"ndarray\",\"array\":{\"type\":\"bytes\",\"data\":\"AACGg44EeEIAAFbJWgR4QgAAoP1yBHhC\"},\"shape\":[3],\"dtype\":\"float64\",\"order\":\"little\"}],[\"y\",{\"type\":\"ndarray\",\"array\":{\"type\":\"bytes\",\"data\":\"AAAAAADAYkAAAAAAAABdQAAAAAAAwFtA\"},\"shape\":[3],\"dtype\":\"float64\",\"order\":\"little\"}]]}}},\"view\":{\"type\":\"object\",\"name\":\"CDSView\",\"id\":\"p1374\",\"attributes\":{\"filter\":{\"type\":\"object\",\"name\":\"AllIndices\",\"id\":\"p1375\"}}},\"glyph\":{\"type\":\"object\",\"name\":\"Scatter\",\"id\":\"p1370\",\"attributes\":{\"x\":{\"type\":\"field\",\"field\":\"x\"},\"y\":{\"type\":\"field\",\"field\":\"y\"},\"size\":{\"type\":\"value\",\"value\":6},\"line_color\":{\"type\":\"value\",\"value\":\"darkblue\"},\"line_alpha\":{\"type\":\"value\",\"value\":0.7},\"fill_color\":{\"type\":\"value\",\"value\":\"darkblue\"},\"fill_alpha\":{\"type\":\"value\",\"value\":0.7},\"hatch_color\":{\"type\":\"value\",\"value\":\"darkblue\"},\"hatch_alpha\":{\"type\":\"value\",\"value\":0.7}}},\"nonselection_glyph\":{\"type\":\"object\",\"name\":\"Scatter\",\"id\":\"p1371\",\"attributes\":{\"x\":{\"type\":\"field\",\"field\":\"x\"},\"y\":{\"type\":\"field\",\"field\":\"y\"},\"size\":{\"type\":\"value\",\"value\":6},\"line_color\":{\"type\":\"value\",\"value\":\"darkblue\"},\"line_alpha\":{\"type\":\"value\",\"value\":0.1},\"fill_color\":{\"type\":\"value\",\"value\":\"darkblue\"},\"fill_alpha\":{\"type\":\"value\",\"value\":0.1},\"hatch_color\":{\"type\":\"value\",\"value\":\"darkblue\"},\"hatch_alpha\":{\"type\":\"value\",\"value\":0.1}}},\"muted_glyph\":{\"type\":\"object\",\"name\":\"Scatter\",\"id\":\"p1372\",\"attributes\":{\"x\":{\"type\":\"field\",\"field\":\"x\"},\"y\":{\"type\":\"field\",\"field\":\"y\"},\"size\":{\"type\":\"value\",\"value\":6},\"line_color\":{\"type\":\"value\",\"value\":\"darkblue\"},\"line_alpha\":{\"type\":\"value\",\"value\":0.2},\"fill_color\":{\"type\":\"value\",\"value\":\"darkblue\"},\"fill_alpha\":{\"type\":\"value\",\"value\":0.2},\"hatch_color\":{\"type\":\"value\",\"value\":\"darkblue\"},\"hatch_alpha\":{\"type\":\"value\",\"value\":0.2}}}}}],\"toolbar\":{\"type\":\"object\",\"name\":\"Toolbar\",\"id\":\"p1329\",\"attributes\":{\"tools\":[{\"type\":\"object\",\"name\":\"PanTool\",\"id\":\"p1354\"},{\"type\":\"object\",\"name\":\"WheelZoomTool\",\"id\":\"p1355\",\"attributes\":{\"dimensions\":\"width\",\"renderers\":\"auto\"}},{\"type\":\"object\",\"name\":\"WheelZoomTool\",\"id\":\"p1356\",\"attributes\":{\"dimensions\":\"height\",\"renderers\":\"auto\"}}],\"active_scroll\":{\"id\":\"p1355\"}}},\"left\":[{\"type\":\"object\",\"name\":\"LinearAxis\",\"id\":\"p1349\",\"attributes\":{\"ticker\":{\"type\":\"object\",\"name\":\"BasicTicker\",\"id\":\"p1350\",\"attributes\":{\"mantissas\":[1,2,5]}},\"formatter\":{\"type\":\"object\",\"name\":\"BasicTickFormatter\",\"id\":\"p1351\"},\"axis_label\":\"Glucose\",\"major_label_policy\":{\"type\":\"object\",\"name\":\"AllLabels\",\"id\":\"p1352\"}}}],\"above\":[{\"type\":\"object\",\"name\":\"DatetimeAxis\",\"id\":\"p1332\",\"attributes\":{\"ticker\":{\"type\":\"object\",\"name\":\"DatetimeTicker\",\"id\":\"p1333\",\"attributes\":{\"num_minor_ticks\":5,\"tickers\":[{\"type\":\"object\",\"name\":\"AdaptiveTicker\",\"id\":\"p1334\",\"attributes\":{\"num_minor_ticks\":0,\"mantissas\":[1,2,5],\"max_interval\":500.0}},{\"type\":\"object\",\"name\":\"AdaptiveTicker\",\"id\":\"p1335\",\"attributes\":{\"num_minor_ticks\":0,\"base\":60,\"mantissas\":[1,2,5,10,15,20,30],\"min_interval\":1000.0,\"max_interval\":1800000.0}},{\"type\":\"object\",\"name\":\"AdaptiveTicker\",\"id\":\"p1336\",\"attributes\":{\"num_minor_ticks\":0,\"base\":24,\"mantissas\":[1,2,4,6,8,12],\"min_interval\":3600000.0,\"max_interval\":43200000.0}},{\"type\":\"object\",\"name\":\"DaysTicker\",\"id\":\"p1337\",\"attributes\":{\"days\":[1,2,3,4,5,6,7,8,9,10,11,12,13,14,15,16,17,18,19,20,21,22,23,24,25,26,27,28,29,30,31]}},{\"type\":\"object\",\"name\":\"DaysTicker\",\"id\":\"p1338\",\"attributes\":{\"days\":[1,4,7,10,13,16,19,22,25,28]}},{\"type\":\"object\",\"name\":\"DaysTicker\",\"id\":\"p1339\",\"attributes\":{\"days\":[1,8,15,22]}},{\"type\":\"object\",\"name\":\"DaysTicker\",\"id\":\"p1340\",\"attributes\":{\"days\":[1,15]}},{\"type\":\"object\",\"name\":\"MonthsTicker\",\"id\":\"p1341\",\"attributes\":{\"months\":[0,1,2,3,4,5,6,7,8,9,10,11]}},{\"type\":\"object\",\"name\":\"MonthsTicker\",\"id\":\"p1342\",\"attributes\":{\"months\":[0,2,4,6,8,10]}},{\"type\":\"object\",\"name\":\"MonthsTicker\",\"id\":\"p1343\",\"attributes\":{\"months\":[0,4,8]}},{\"type\":\"object\",\"name\":\"MonthsTicker\",\"id\":\"p1344\",\"attributes\":{\"months\":[0,6]}},{\"type\":\"object\",\"name\":\"YearsTicker\",\"id\":\"p1345\"}]}},\"formatter\":{\"type\":\"object\",\"name\":\"DatetimeTickFormatter\",\"id\":\"p1346\"},\"axis_label\":\"Time\",\"major_label_policy\":{\"type\":\"object\",\"name\":\"AllLabels\",\"id\":\"p1347\"}}}],\"center\":[{\"type\":\"object\",\"name\":\"Grid\",\"id\":\"p1348\",\"attributes\":{\"axis\":{\"id\":\"p1332\"}}},{\"type\":\"object\",\"name\":\"Grid\",\"id\":\"p1353\",\"attributes\":{\"dimension\":1,\"axis\":{\"id\":\"p1349\"}}},{\"type\":\"object\",\"name\":\"Span\",\"id\":\"p1366\",\"attributes\":{\"location\":102.0,\"line_color\":\"red\"}},{\"type\":\"object\",\"name\":\"Span\",\"id\":\"p1376\",\"attributes\":{\"location\":1650456000000.0,\"dimension\":\"height\",\"line_color\":\"orange\",\"line_width\":2}},{\"type\":\"object\",\"name\":\"BoxAnnotation\",\"id\":\"p1377\",\"attributes\":{\"left\":1650456000000.0,\"right\":1650459600000.0,\"top\":{\"type\":\"object\",\"name\":\"Node\",\"id\":\"p1380\",\"attributes\":{\"target\":\"frame\",\"symbol\":\"top\"}},\"bottom\":{\"type\":\"object\",\"name\":\"Node\",\"id\":\"p1381\",\"attributes\":{\"target\":\"frame\",\"symbol\":\"bottom\"}},\"fill_color\":\"orange\",\"fill_alpha\":0.3}},{\"type\":\"object\",\"name\":\"Label\",\"id\":\"p1382\",\"attributes\":{\"text\":\"1185.00\",\"text_color\":\"black\",\"text_font_size\":\"10pt\",\"background_fill_color\":\"white\",\"background_fill_alpha\":0.7,\"x\":1650456000000.0,\"y\":110,\"angle\":90,\"angle_units\":\"deg\"}},{\"type\":\"object\",\"name\":\"Span\",\"id\":\"p1383\",\"attributes\":{\"location\":1650477600000.0,\"dimension\":\"height\",\"line_color\":\"orange\",\"line_width\":2}},{\"type\":\"object\",\"name\":\"BoxAnnotation\",\"id\":\"p1384\",\"attributes\":{\"left\":1650477600000.0,\"right\":1650481200000.0,\"top\":{\"type\":\"object\",\"name\":\"Node\",\"id\":\"p1387\",\"attributes\":{\"target\":\"frame\",\"symbol\":\"top\"}},\"bottom\":{\"type\":\"object\",\"name\":\"Node\",\"id\":\"p1388\",\"attributes\":{\"target\":\"frame\",\"symbol\":\"bottom\"}},\"fill_color\":\"orange\",\"fill_alpha\":0.3}},{\"type\":\"object\",\"name\":\"Label\",\"id\":\"p1389\",\"attributes\":{\"text\":\"896.00\",\"text_color\":\"black\",\"text_font_size\":\"10pt\",\"background_fill_color\":\"white\",\"background_fill_alpha\":0.7,\"x\":1650477600000.0,\"y\":110,\"angle\":90,\"angle_units\":\"deg\"}}]}}]}};\n",
              "  const render_items = [{\"docid\":\"e84271c2-8df6-4fcf-8ca6-c8b142165ade\",\"roots\":{\"p1321\":\"aeb37bc5-1aaf-4dc8-a2a6-6c25201dbfdd\"},\"root_ids\":[\"p1321\"]}];\n",
              "  void root.Bokeh.embed.embed_items_notebook(docs_json, render_items);\n",
              "  }\n",
              "  if (root.Bokeh !== undefined) {\n",
              "    embed_document(root);\n",
              "  } else {\n",
              "    let attempts = 0;\n",
              "    const timer = setInterval(function(root) {\n",
              "      if (root.Bokeh !== undefined) {\n",
              "        clearInterval(timer);\n",
              "        embed_document(root);\n",
              "      } else {\n",
              "        attempts++;\n",
              "        if (attempts > 100) {\n",
              "          clearInterval(timer);\n",
              "          console.log(\"Bokeh: ERROR: Unable to run BokehJS code because BokehJS library is missing\");\n",
              "        }\n",
              "      }\n",
              "    }, 10, root)\n",
              "  }\n",
              "})(window);"
            ],
            "application/vnd.bokehjs_exec.v0+json": ""
          },
          "metadata": {
            "application/vnd.bokehjs_exec.v0+json": {
              "id": "p1321"
            }
          }
        },
        {
          "output_type": "stream",
          "name": "stdout",
          "text": [
            "\n",
            "\n",
            "\n"
          ]
        },
        {
          "output_type": "display_data",
          "data": {
            "text/html": [
              "\n",
              "  <div id=\"b956eb85-227f-4b7c-b9df-3bbe7da779e1\" data-root-id=\"p1394\" style=\"display: contents;\"></div>\n"
            ]
          },
          "metadata": {}
        },
        {
          "output_type": "display_data",
          "data": {
            "application/javascript": [
              "(function(root) {\n",
              "  function embed_document(root) {\n",
              "  const docs_json = {\"0c817d3b-08b2-4b68-b898-8e87fa434942\":{\"version\":\"3.4.3\",\"title\":\"Bokeh Application\",\"roots\":[{\"type\":\"object\",\"name\":\"Figure\",\"id\":\"p1394\",\"attributes\":{\"height\":400,\"x_range\":{\"type\":\"object\",\"name\":\"DataRange1d\",\"id\":\"p1395\"},\"y_range\":{\"type\":\"object\",\"name\":\"DataRange1d\",\"id\":\"p1396\"},\"x_scale\":{\"type\":\"object\",\"name\":\"LinearScale\",\"id\":\"p1403\"},\"y_scale\":{\"type\":\"object\",\"name\":\"LinearScale\",\"id\":\"p1404\"},\"title\":{\"type\":\"object\",\"name\":\"Title\",\"id\":\"p1401\",\"attributes\":{\"text\":\"Day: 2022-07-13\",\"text_font_size\":\"20pt\",\"align\":\"center\"}},\"renderers\":[{\"type\":\"object\",\"name\":\"GlyphRenderer\",\"id\":\"p1436\",\"attributes\":{\"data_source\":{\"type\":\"object\",\"name\":\"ColumnDataSource\",\"id\":\"p1430\",\"attributes\":{\"selected\":{\"type\":\"object\",\"name\":\"Selection\",\"id\":\"p1431\",\"attributes\":{\"indices\":[],\"line_indices\":[]}},\"selection_policy\":{\"type\":\"object\",\"name\":\"UnionRenderers\",\"id\":\"p1432\"},\"data\":{\"type\":\"map\",\"entries\":[[\"x\",{\"type\":\"ndarray\",\"array\":{\"type\":\"bytes\",\"data\":\"AACwJE4feEIAAGoATx94QgAAJNxPH3hCAADet1AfeEIAAJiTUR94QgAAUm9SH3hCAAAMS1MfeEIAAMYmVB94QgAAgAJVH3hCAAA63lUfeEIAAPS5Vh94QgAArpVXH3hCAABocVgfeEIAACJNWR94QgAA3ChaH3hCAACWBFsfeEIAAFDgWx94QgAACrxcH3hCAADEl10feEIAAH5zXh94QgAAOE9fH3hCAADyKmAfeEIAAKwGYR94QgAAZuJhH3hCAAB6r2IfeEIAAPZBYx94QgAANItjH3hCAADuZmQfeEIAAKhCZR94QgAAYh5mH3hCAAAc+mYfeEIAANbVZx94QgAA3M5oH3hCAADO+mgfeEIAAJaqaR94QgAAUIZqH3hCAAAKYmsfeEIAAMQ9bB94QgAAfhltH3hCAAA49W0feEIAAPLQbh94QgAArKxvH3hCAABmiHAfeEIAACBkcR94QgAA2j9yH3hCAACUG3MfeEIAAE73cx94QgAACNN0H3hCAADCrnUfeEIAAD5Bdh94QgAAfIp2H3hCAAA2ZncfeEIAAPBBeB94QgAAqh15H3hCAABk+XkfeEIAAB7Veh94QgAA2LB7H3hCAACSjHwfeEIAAExofR94QgAABkR+H3hCAADAH38feEIAAHr7fx94QgAANNeAH3hCAADusoEfeEIAAKiOgh94QgAAYmqDH3hCAAAcRoQfeEIAANYhhR94QgAAkP2FH3hCAABK2YYfeEIAAAS1hx94QgAAvpCIH3hCAAB4bIkfeEIAADJIih94QgAA7COLH3hCAACm/4sfeEIAAGDbjB94QgAAGreNH3hCAADUko4feEIAAI5ujx94QgAA7liQH3hCAADSsJAfeEIAAKg0kR94QgAAYhCSH3hCAAAc7JIfeEIAANbHkx94QgAAkKOUH3hCAABKf5UfeEIAAARblh94QgAAvjaXH3hCAABkRZcfeEIAAHgSmB94QgAAMu6YH3hCAADsyZkfeEIAAKalmh94QgAATLSaH3hCAAA2BZwfeEIAAHpHnR94QgAANCOeH3hCAADu/p4feEIAAKjanx94Qg==\"},\"shape\":[101],\"dtype\":\"float64\",\"order\":\"little\"}],[\"y\",{\"type\":\"ndarray\",\"array\":{\"type\":\"bytes\",\"data\":\"AAAAAADAVkAAAAAAAIBWQAAAAAAAAFdAAAAAAAAAV0AAAAAAAEBXQAAAAAAAwFdAAAAAAAAAWEAAAAAAAIBXQAAAAAAAQFdAAAAAAABAVkAAAAAAAEBUQAAAAAAAwFNAAAAAAACAVUAAAAAAAIBXQAAAAAAAQFdAAAAAAADAVkAAAAAAAABXQAAAAAAAgFZAAAAAAAAAVkAAAAAAAEBWQAAAAAAAQFdAAAAAAAAAWEAAAAAAAIBXQAAAAAAAAFdAAAAAAADAWEAAAAAAAEBYQAAAAAAAAFpAAAAAAACAWUAAAAAAAEBaQAAAAAAAAF9AAAAAAACAXkAAAAAAAIBaQAAAAAAAAFpAAAAAAADAWUAAAAAAAMBZQAAAAAAAgFhAAAAAAAAAWEAAAAAAAEBYQAAAAAAAAFhAAAAAAADAV0AAAAAAAABYQAAAAAAAAFhAAAAAAAAAWEAAAAAAAMBXQAAAAAAAgFdAAAAAAABAV0AAAAAAAIBXQAAAAAAAwFdAAAAAAADAV0AAAAAAAABYQAAAAAAAwFhAAAAAAABAWUAAAAAAAMBYQAAAAAAAgFdAAAAAAAAAV0AAAAAAAABYQAAAAAAAwFhAAAAAAAAAWEAAAAAAAIBXQAAAAAAAgFdAAAAAAAAAWEAAAAAAAABYQAAAAAAAwFdAAAAAAADAVkAAAAAAAEBWQAAAAAAAQFZAAAAAAABAVkAAAAAAAEBWQAAAAAAAAFZAAAAAAADAVUAAAAAAAABWQAAAAAAAgFZAAAAAAACAVkAAAAAAAIBWQAAAAAAAQFZAAAAAAADAVUAAAAAAAIBWQAAAAAAAwFdAAAAAAAAAV0AAAAAAAMBVQAAAAAAAgFZAAAAAAACAVkAAAAAAAEBXQAAAAAAAgFZAAAAAAACAVUAAAAAAAMBVQAAAAAAAwFZAAAAAAABAWEAAAAAAAMBZQAAAAAAAQFlAAAAAAACAWkAAAAAAAABZQAAAAAAAwFdAAAAAAACAVkAAAAAAAIBVQAAAAAAAAFVAAAAAAABAVUAAAAAAAEBWQAAAAAAAwFZAAAAAAADAVkAAAAAAAABXQA==\"},\"shape\":[101],\"dtype\":\"float64\",\"order\":\"little\"}]]}}},\"view\":{\"type\":\"object\",\"name\":\"CDSView\",\"id\":\"p1437\",\"attributes\":{\"filter\":{\"type\":\"object\",\"name\":\"AllIndices\",\"id\":\"p1438\"}}},\"glyph\":{\"type\":\"object\",\"name\":\"Line\",\"id\":\"p1433\",\"attributes\":{\"x\":{\"type\":\"field\",\"field\":\"x\"},\"y\":{\"type\":\"field\",\"field\":\"y\"},\"line_color\":\"gray\",\"line_alpha\":0.5,\"line_width\":2}},\"nonselection_glyph\":{\"type\":\"object\",\"name\":\"Line\",\"id\":\"p1434\",\"attributes\":{\"x\":{\"type\":\"field\",\"field\":\"x\"},\"y\":{\"type\":\"field\",\"field\":\"y\"},\"line_color\":\"gray\",\"line_alpha\":0.1,\"line_width\":2}},\"muted_glyph\":{\"type\":\"object\",\"name\":\"Line\",\"id\":\"p1435\",\"attributes\":{\"x\":{\"type\":\"field\",\"field\":\"x\"},\"y\":{\"type\":\"field\",\"field\":\"y\"},\"line_color\":\"gray\",\"line_alpha\":0.2,\"line_width\":2}}}},{\"type\":\"object\",\"name\":\"GlyphRenderer\",\"id\":\"p1446\",\"attributes\":{\"data_source\":{\"type\":\"object\",\"name\":\"ColumnDataSource\",\"id\":\"p1440\",\"attributes\":{\"selected\":{\"type\":\"object\",\"name\":\"Selection\",\"id\":\"p1441\",\"attributes\":{\"indices\":[],\"line_indices\":[]}},\"selection_policy\":{\"type\":\"object\",\"name\":\"UnionRenderers\",\"id\":\"p1442\"},\"data\":{\"type\":\"map\",\"entries\":[[\"x\",{\"type\":\"ndarray\",\"array\":{\"type\":\"bytes\",\"data\":\"AABiHmYfeEIAAGRFlx94Qg==\"},\"shape\":[2],\"dtype\":\"float64\",\"order\":\"little\"}],[\"y\",{\"type\":\"ndarray\",\"array\":{\"type\":\"bytes\",\"data\":\"AAAAAAAAX0AAAAAAAIBaQA==\"},\"shape\":[2],\"dtype\":\"float64\",\"order\":\"little\"}]]}}},\"view\":{\"type\":\"object\",\"name\":\"CDSView\",\"id\":\"p1447\",\"attributes\":{\"filter\":{\"type\":\"object\",\"name\":\"AllIndices\",\"id\":\"p1448\"}}},\"glyph\":{\"type\":\"object\",\"name\":\"Scatter\",\"id\":\"p1443\",\"attributes\":{\"x\":{\"type\":\"field\",\"field\":\"x\"},\"y\":{\"type\":\"field\",\"field\":\"y\"},\"size\":{\"type\":\"value\",\"value\":6},\"line_color\":{\"type\":\"value\",\"value\":\"darkblue\"},\"line_alpha\":{\"type\":\"value\",\"value\":0.7},\"fill_color\":{\"type\":\"value\",\"value\":\"darkblue\"},\"fill_alpha\":{\"type\":\"value\",\"value\":0.7},\"hatch_color\":{\"type\":\"value\",\"value\":\"darkblue\"},\"hatch_alpha\":{\"type\":\"value\",\"value\":0.7}}},\"nonselection_glyph\":{\"type\":\"object\",\"name\":\"Scatter\",\"id\":\"p1444\",\"attributes\":{\"x\":{\"type\":\"field\",\"field\":\"x\"},\"y\":{\"type\":\"field\",\"field\":\"y\"},\"size\":{\"type\":\"value\",\"value\":6},\"line_color\":{\"type\":\"value\",\"value\":\"darkblue\"},\"line_alpha\":{\"type\":\"value\",\"value\":0.1},\"fill_color\":{\"type\":\"value\",\"value\":\"darkblue\"},\"fill_alpha\":{\"type\":\"value\",\"value\":0.1},\"hatch_color\":{\"type\":\"value\",\"value\":\"darkblue\"},\"hatch_alpha\":{\"type\":\"value\",\"value\":0.1}}},\"muted_glyph\":{\"type\":\"object\",\"name\":\"Scatter\",\"id\":\"p1445\",\"attributes\":{\"x\":{\"type\":\"field\",\"field\":\"x\"},\"y\":{\"type\":\"field\",\"field\":\"y\"},\"size\":{\"type\":\"value\",\"value\":6},\"line_color\":{\"type\":\"value\",\"value\":\"darkblue\"},\"line_alpha\":{\"type\":\"value\",\"value\":0.2},\"fill_color\":{\"type\":\"value\",\"value\":\"darkblue\"},\"fill_alpha\":{\"type\":\"value\",\"value\":0.2},\"hatch_color\":{\"type\":\"value\",\"value\":\"darkblue\"},\"hatch_alpha\":{\"type\":\"value\",\"value\":0.2}}}}}],\"toolbar\":{\"type\":\"object\",\"name\":\"Toolbar\",\"id\":\"p1402\",\"attributes\":{\"tools\":[{\"type\":\"object\",\"name\":\"PanTool\",\"id\":\"p1427\"},{\"type\":\"object\",\"name\":\"WheelZoomTool\",\"id\":\"p1428\",\"attributes\":{\"dimensions\":\"width\",\"renderers\":\"auto\"}},{\"type\":\"object\",\"name\":\"WheelZoomTool\",\"id\":\"p1429\",\"attributes\":{\"dimensions\":\"height\",\"renderers\":\"auto\"}}],\"active_scroll\":{\"id\":\"p1428\"}}},\"left\":[{\"type\":\"object\",\"name\":\"LinearAxis\",\"id\":\"p1422\",\"attributes\":{\"ticker\":{\"type\":\"object\",\"name\":\"BasicTicker\",\"id\":\"p1423\",\"attributes\":{\"mantissas\":[1,2,5]}},\"formatter\":{\"type\":\"object\",\"name\":\"BasicTickFormatter\",\"id\":\"p1424\"},\"axis_label\":\"Glucose\",\"major_label_policy\":{\"type\":\"object\",\"name\":\"AllLabels\",\"id\":\"p1425\"}}}],\"above\":[{\"type\":\"object\",\"name\":\"DatetimeAxis\",\"id\":\"p1405\",\"attributes\":{\"ticker\":{\"type\":\"object\",\"name\":\"DatetimeTicker\",\"id\":\"p1406\",\"attributes\":{\"num_minor_ticks\":5,\"tickers\":[{\"type\":\"object\",\"name\":\"AdaptiveTicker\",\"id\":\"p1407\",\"attributes\":{\"num_minor_ticks\":0,\"mantissas\":[1,2,5],\"max_interval\":500.0}},{\"type\":\"object\",\"name\":\"AdaptiveTicker\",\"id\":\"p1408\",\"attributes\":{\"num_minor_ticks\":0,\"base\":60,\"mantissas\":[1,2,5,10,15,20,30],\"min_interval\":1000.0,\"max_interval\":1800000.0}},{\"type\":\"object\",\"name\":\"AdaptiveTicker\",\"id\":\"p1409\",\"attributes\":{\"num_minor_ticks\":0,\"base\":24,\"mantissas\":[1,2,4,6,8,12],\"min_interval\":3600000.0,\"max_interval\":43200000.0}},{\"type\":\"object\",\"name\":\"DaysTicker\",\"id\":\"p1410\",\"attributes\":{\"days\":[1,2,3,4,5,6,7,8,9,10,11,12,13,14,15,16,17,18,19,20,21,22,23,24,25,26,27,28,29,30,31]}},{\"type\":\"object\",\"name\":\"DaysTicker\",\"id\":\"p1411\",\"attributes\":{\"days\":[1,4,7,10,13,16,19,22,25,28]}},{\"type\":\"object\",\"name\":\"DaysTicker\",\"id\":\"p1412\",\"attributes\":{\"days\":[1,8,15,22]}},{\"type\":\"object\",\"name\":\"DaysTicker\",\"id\":\"p1413\",\"attributes\":{\"days\":[1,15]}},{\"type\":\"object\",\"name\":\"MonthsTicker\",\"id\":\"p1414\",\"attributes\":{\"months\":[0,1,2,3,4,5,6,7,8,9,10,11]}},{\"type\":\"object\",\"name\":\"MonthsTicker\",\"id\":\"p1415\",\"attributes\":{\"months\":[0,2,4,6,8,10]}},{\"type\":\"object\",\"name\":\"MonthsTicker\",\"id\":\"p1416\",\"attributes\":{\"months\":[0,4,8]}},{\"type\":\"object\",\"name\":\"MonthsTicker\",\"id\":\"p1417\",\"attributes\":{\"months\":[0,6]}},{\"type\":\"object\",\"name\":\"YearsTicker\",\"id\":\"p1418\"}]}},\"formatter\":{\"type\":\"object\",\"name\":\"DatetimeTickFormatter\",\"id\":\"p1419\"},\"axis_label\":\"Time\",\"major_label_policy\":{\"type\":\"object\",\"name\":\"AllLabels\",\"id\":\"p1420\"}}}],\"center\":[{\"type\":\"object\",\"name\":\"Grid\",\"id\":\"p1421\",\"attributes\":{\"axis\":{\"id\":\"p1405\"}}},{\"type\":\"object\",\"name\":\"Grid\",\"id\":\"p1426\",\"attributes\":{\"dimension\":1,\"axis\":{\"id\":\"p1422\"}}},{\"type\":\"object\",\"name\":\"Span\",\"id\":\"p1439\",\"attributes\":{\"location\":93.98019801980197,\"line_color\":\"red\"}},{\"type\":\"object\",\"name\":\"Span\",\"id\":\"p1449\",\"attributes\":{\"location\":1657713600000.0,\"dimension\":\"height\",\"line_color\":\"orange\",\"line_width\":2}},{\"type\":\"object\",\"name\":\"BoxAnnotation\",\"id\":\"p1450\",\"attributes\":{\"left\":1657713600000.0,\"right\":1657717200000.0,\"top\":{\"type\":\"object\",\"name\":\"Node\",\"id\":\"p1453\",\"attributes\":{\"target\":\"frame\",\"symbol\":\"top\"}},\"bottom\":{\"type\":\"object\",\"name\":\"Node\",\"id\":\"p1454\",\"attributes\":{\"target\":\"frame\",\"symbol\":\"bottom\"}},\"fill_color\":\"orange\",\"fill_alpha\":0.3}},{\"type\":\"object\",\"name\":\"Label\",\"id\":\"p1455\",\"attributes\":{\"text\":\"1156.00\",\"text_color\":\"black\",\"text_font_size\":\"10pt\",\"background_fill_color\":\"white\",\"background_fill_alpha\":0.7,\"x\":1657713600000.0,\"y\":110,\"angle\":90,\"angle_units\":\"deg\"}},{\"type\":\"object\",\"name\":\"Span\",\"id\":\"p1456\",\"attributes\":{\"location\":1657735200000.0,\"dimension\":\"height\",\"line_color\":\"orange\",\"line_width\":2}},{\"type\":\"object\",\"name\":\"BoxAnnotation\",\"id\":\"p1457\",\"attributes\":{\"left\":1657735200000.0,\"right\":1657738800000.0,\"top\":{\"type\":\"object\",\"name\":\"Node\",\"id\":\"p1460\",\"attributes\":{\"target\":\"frame\",\"symbol\":\"top\"}},\"bottom\":{\"type\":\"object\",\"name\":\"Node\",\"id\":\"p1461\",\"attributes\":{\"target\":\"frame\",\"symbol\":\"bottom\"}},\"fill_color\":\"orange\",\"fill_alpha\":0.3}},{\"type\":\"object\",\"name\":\"Label\",\"id\":\"p1462\",\"attributes\":{\"text\":\"772.00\",\"text_color\":\"black\",\"text_font_size\":\"10pt\",\"background_fill_color\":\"white\",\"background_fill_alpha\":0.7,\"x\":1657735200000.0,\"y\":110,\"angle\":90,\"angle_units\":\"deg\"}}]}}]}};\n",
              "  const render_items = [{\"docid\":\"0c817d3b-08b2-4b68-b898-8e87fa434942\",\"roots\":{\"p1394\":\"b956eb85-227f-4b7c-b9df-3bbe7da779e1\"},\"root_ids\":[\"p1394\"]}];\n",
              "  void root.Bokeh.embed.embed_items_notebook(docs_json, render_items);\n",
              "  }\n",
              "  if (root.Bokeh !== undefined) {\n",
              "    embed_document(root);\n",
              "  } else {\n",
              "    let attempts = 0;\n",
              "    const timer = setInterval(function(root) {\n",
              "      if (root.Bokeh !== undefined) {\n",
              "        clearInterval(timer);\n",
              "        embed_document(root);\n",
              "      } else {\n",
              "        attempts++;\n",
              "        if (attempts > 100) {\n",
              "          clearInterval(timer);\n",
              "          console.log(\"Bokeh: ERROR: Unable to run BokehJS code because BokehJS library is missing\");\n",
              "        }\n",
              "      }\n",
              "    }, 10, root)\n",
              "  }\n",
              "})(window);"
            ],
            "application/vnd.bokehjs_exec.v0+json": ""
          },
          "metadata": {
            "application/vnd.bokehjs_exec.v0+json": {
              "id": "p1394"
            }
          }
        },
        {
          "output_type": "stream",
          "name": "stdout",
          "text": [
            "\n",
            "\n",
            "\n"
          ]
        },
        {
          "output_type": "display_data",
          "data": {
            "text/html": [
              "\n",
              "  <div id=\"c0d72c7e-784a-4be1-9882-f60d052a8b2c\" data-root-id=\"p1467\" style=\"display: contents;\"></div>\n"
            ]
          },
          "metadata": {}
        },
        {
          "output_type": "display_data",
          "data": {
            "application/javascript": [
              "(function(root) {\n",
              "  function embed_document(root) {\n",
              "  const docs_json = {\"3f1a2bf7-107f-446d-86d4-5f8587643dea\":{\"version\":\"3.4.3\",\"title\":\"Bokeh Application\",\"roots\":[{\"type\":\"object\",\"name\":\"Figure\",\"id\":\"p1467\",\"attributes\":{\"height\":400,\"x_range\":{\"type\":\"object\",\"name\":\"DataRange1d\",\"id\":\"p1468\"},\"y_range\":{\"type\":\"object\",\"name\":\"DataRange1d\",\"id\":\"p1469\"},\"x_scale\":{\"type\":\"object\",\"name\":\"LinearScale\",\"id\":\"p1476\"},\"y_scale\":{\"type\":\"object\",\"name\":\"LinearScale\",\"id\":\"p1477\"},\"title\":{\"type\":\"object\",\"name\":\"Title\",\"id\":\"p1474\",\"attributes\":{\"text\":\"Day: 2022-07-14\",\"text_font_size\":\"20pt\",\"align\":\"center\"}},\"renderers\":[{\"type\":\"object\",\"name\":\"GlyphRenderer\",\"id\":\"p1509\",\"attributes\":{\"data_source\":{\"type\":\"object\",\"name\":\"ColumnDataSource\",\"id\":\"p1503\",\"attributes\":{\"selected\":{\"type\":\"object\",\"name\":\"Selection\",\"id\":\"p1504\",\"attributes\":{\"indices\":[],\"line_indices\":[]}},\"selection_policy\":{\"type\":\"object\",\"name\":\"UnionRenderers\",\"id\":\"p1505\"},\"data\":{\"type\":\"map\",\"entries\":[[\"x\",{\"type\":\"ndarray\",\"array\":{\"type\":\"bytes\",\"data\":\"AABitqAfeEIAABySoR94QgAA1m2iH3hCAACQSaMfeEIAAEolpB94QgAABAGlH3hCAAC+3KUfeEIAAHi4ph94QgAAMpSnH3hCAADsb6gfeEIAAKZLqR94QgAAYCeqH3hCAAAaA6sfeEIAANTeqx94QgAAjrqsH3hCAABIlq0feEIAAAJyrh94QgAAvE2vH3hCAAB2KbAfeEIAADAFsR94QgAA6uCxH3hCAACkvLIfeEIAAF6Ysx94QgAAGHS0H3hCAADST7UfeEIAAIwrth94QgAARge3H3hCAACm8bcfeEIAAMiSuB94QgAAYM24H3hCAAAaqbkfeEIAANSEuh94QgAAjmC7H3hCAABIPLwfeEIAAJRZvB94QgAAAhi9H3hCAAC8870feEIAAHbPvh94QgAAMKu/H3hCAADqhsAfeEIAAKRiwR94QgAAXj7CH3hCAAAYGsMfeEIAANL1wx94QgAAjNHEH3hCAADY7sQfeEIAAEatxR94QgAAAInGH3hCAAC6ZMcfeEIAAHRAyB94QgAALhzJH3hCAADo98kfeEIAAKLTyh94QgAAXK/LH3hCAAAWi8wfeEIAANBmzR94QgAAikLOH3hCAABEHs8feEIAAP75zx94QgAAuNXQH3hCAAAYwNEfeEIAAOBv0h94QgAA0pvSH3hCAACMd9MfeEIAAEZT1B94QgAAAC/VH3hCAAC6CtYfeEIAAHTm1h94QgAALsLXH3hCAADondgfeEIAAKJ52R94QgAAXFXaH3hCAAAWMdsfeEIAADD33B94QgAA6tLdH3hCAACkrt4feEIAAF6K3x94QgAAGGbgH3hCAADSQeEfeEIAAIwd4h94QgAARvniH3hCAAAA1eMfeEIAALqw5B94QgAAdIzlH3hCAAAuaOYfeEIAAOhD5x94QgAAoh/oH3hCAABc++gfeEIAABbX6R94QgAA0LLqH3hCAACKjusfeEIAAERq7B94QgAA/kXtH3hCAABeMO4feEIAAAQ/7h94QgAAGAzvH3hCAADS5+8feEIAAIzD8B94QgAARp/xH3hC\"},\"shape\":[99],\"dtype\":\"float64\",\"order\":\"little\"}],[\"y\",{\"type\":\"ndarray\",\"array\":{\"type\":\"bytes\",\"data\":\"AAAAAAAAV0AAAAAAAMBWQAAAAAAAgFZAAAAAAAAAVkAAAAAAAEBVQAAAAAAAAFZAAAAAAABAV0AAAAAAAMBWQAAAAAAAwFZAAAAAAACAV0AAAAAAAABYQAAAAAAAQFhAAAAAAABAWEAAAAAAAEBYQAAAAAAAAFhAAAAAAAAAV0AAAAAAAIBWQAAAAAAAQFdAAAAAAABAWEAAAAAAAIBXQAAAAAAAAFdAAAAAAACAVkAAAAAAAEBWQAAAAAAAgFZAAAAAAAAAV0AAAAAAAABYQAAAAAAAwFhAAAAAAADAWUAAAAAAAABWQAAAAAAAQFpAAAAAAABAWUAAAAAAAABZQAAAAAAAgFlAAAAAAABAWUAAAAAAAEBbQAAAAAAAgFdAAAAAAABAWEAAAAAAAEBZQAAAAAAAwFhAAAAAAADAWEAAAAAAAMBYQAAAAAAAAFlAAAAAAAAAWUAAAAAAAIBYQAAAAAAAwFhAAAAAAAAAWUAAAAAAAMBYQAAAAAAAwFhAAAAAAADAWEAAAAAAAIBYQAAAAAAAgFhAAAAAAABAWEAAAAAAAABYQAAAAAAAgFhAAAAAAAAAWUAAAAAAAEBZQAAAAAAAgFlAAAAAAAAAWkAAAAAAAIBaQAAAAAAAAFpAAAAAAAAAWUAAAAAAAIBYQAAAAAAAwFhAAAAAAACAWEAAAAAAAIBYQAAAAAAAQFhAAAAAAABAV0AAAAAAAMBWQAAAAAAAwFZAAAAAAABAVkAAAAAAAABWQAAAAAAAgFZAAAAAAABAVkAAAAAAAMBXQAAAAAAAAFdAAAAAAACAVkAAAAAAAEBXQAAAAAAAAFhAAAAAAACAV0AAAAAAAMBWQAAAAAAAwFZAAAAAAACAVkAAAAAAAIBWQAAAAAAAQFZAAAAAAADAVkAAAAAAAABYQAAAAAAAQFpAAAAAAADAW0AAAAAAAEBbQAAAAAAAwFhAAAAAAADAVkAAAAAAAABXQAAAAAAAQFhAAAAAAAAAWEAAAAAAAEBYQAAAAAAAwFdAAAAAAACAV0AAAAAAAMBXQAAAAAAAQFdA\"},\"shape\":[99],\"dtype\":\"float64\",\"order\":\"little\"}]]}}},\"view\":{\"type\":\"object\",\"name\":\"CDSView\",\"id\":\"p1510\",\"attributes\":{\"filter\":{\"type\":\"object\",\"name\":\"AllIndices\",\"id\":\"p1511\"}}},\"glyph\":{\"type\":\"object\",\"name\":\"Line\",\"id\":\"p1506\",\"attributes\":{\"x\":{\"type\":\"field\",\"field\":\"x\"},\"y\":{\"type\":\"field\",\"field\":\"y\"},\"line_color\":\"gray\",\"line_alpha\":0.5,\"line_width\":2}},\"nonselection_glyph\":{\"type\":\"object\",\"name\":\"Line\",\"id\":\"p1507\",\"attributes\":{\"x\":{\"type\":\"field\",\"field\":\"x\"},\"y\":{\"type\":\"field\",\"field\":\"y\"},\"line_color\":\"gray\",\"line_alpha\":0.1,\"line_width\":2}},\"muted_glyph\":{\"type\":\"object\",\"name\":\"Line\",\"id\":\"p1508\",\"attributes\":{\"x\":{\"type\":\"field\",\"field\":\"x\"},\"y\":{\"type\":\"field\",\"field\":\"y\"},\"line_color\":\"gray\",\"line_alpha\":0.2,\"line_width\":2}}}},{\"type\":\"object\",\"name\":\"GlyphRenderer\",\"id\":\"p1519\",\"attributes\":{\"data_source\":{\"type\":\"object\",\"name\":\"ColumnDataSource\",\"id\":\"p1513\",\"attributes\":{\"selected\":{\"type\":\"object\",\"name\":\"Selection\",\"id\":\"p1514\",\"attributes\":{\"indices\":[],\"line_indices\":[]}},\"selection_policy\":{\"type\":\"object\",\"name\":\"UnionRenderers\",\"id\":\"p1515\"},\"data\":{\"type\":\"map\",\"entries\":[[\"x\",{\"type\":\"ndarray\",\"array\":{\"type\":\"bytes\",\"data\":\"AACUWbwfeEIAAFz76B94QgAA/vnPH3hC\"},\"shape\":[3],\"dtype\":\"float64\",\"order\":\"little\"}],[\"y\",{\"type\":\"ndarray\",\"array\":{\"type\":\"bytes\",\"data\":\"AAAAAABAW0AAAAAAAMBbQAAAAAAAgFpA\"},\"shape\":[3],\"dtype\":\"float64\",\"order\":\"little\"}]]}}},\"view\":{\"type\":\"object\",\"name\":\"CDSView\",\"id\":\"p1520\",\"attributes\":{\"filter\":{\"type\":\"object\",\"name\":\"AllIndices\",\"id\":\"p1521\"}}},\"glyph\":{\"type\":\"object\",\"name\":\"Scatter\",\"id\":\"p1516\",\"attributes\":{\"x\":{\"type\":\"field\",\"field\":\"x\"},\"y\":{\"type\":\"field\",\"field\":\"y\"},\"size\":{\"type\":\"value\",\"value\":6},\"line_color\":{\"type\":\"value\",\"value\":\"darkblue\"},\"line_alpha\":{\"type\":\"value\",\"value\":0.7},\"fill_color\":{\"type\":\"value\",\"value\":\"darkblue\"},\"fill_alpha\":{\"type\":\"value\",\"value\":0.7},\"hatch_color\":{\"type\":\"value\",\"value\":\"darkblue\"},\"hatch_alpha\":{\"type\":\"value\",\"value\":0.7}}},\"nonselection_glyph\":{\"type\":\"object\",\"name\":\"Scatter\",\"id\":\"p1517\",\"attributes\":{\"x\":{\"type\":\"field\",\"field\":\"x\"},\"y\":{\"type\":\"field\",\"field\":\"y\"},\"size\":{\"type\":\"value\",\"value\":6},\"line_color\":{\"type\":\"value\",\"value\":\"darkblue\"},\"line_alpha\":{\"type\":\"value\",\"value\":0.1},\"fill_color\":{\"type\":\"value\",\"value\":\"darkblue\"},\"fill_alpha\":{\"type\":\"value\",\"value\":0.1},\"hatch_color\":{\"type\":\"value\",\"value\":\"darkblue\"},\"hatch_alpha\":{\"type\":\"value\",\"value\":0.1}}},\"muted_glyph\":{\"type\":\"object\",\"name\":\"Scatter\",\"id\":\"p1518\",\"attributes\":{\"x\":{\"type\":\"field\",\"field\":\"x\"},\"y\":{\"type\":\"field\",\"field\":\"y\"},\"size\":{\"type\":\"value\",\"value\":6},\"line_color\":{\"type\":\"value\",\"value\":\"darkblue\"},\"line_alpha\":{\"type\":\"value\",\"value\":0.2},\"fill_color\":{\"type\":\"value\",\"value\":\"darkblue\"},\"fill_alpha\":{\"type\":\"value\",\"value\":0.2},\"hatch_color\":{\"type\":\"value\",\"value\":\"darkblue\"},\"hatch_alpha\":{\"type\":\"value\",\"value\":0.2}}}}}],\"toolbar\":{\"type\":\"object\",\"name\":\"Toolbar\",\"id\":\"p1475\",\"attributes\":{\"tools\":[{\"type\":\"object\",\"name\":\"PanTool\",\"id\":\"p1500\"},{\"type\":\"object\",\"name\":\"WheelZoomTool\",\"id\":\"p1501\",\"attributes\":{\"dimensions\":\"width\",\"renderers\":\"auto\"}},{\"type\":\"object\",\"name\":\"WheelZoomTool\",\"id\":\"p1502\",\"attributes\":{\"dimensions\":\"height\",\"renderers\":\"auto\"}}],\"active_scroll\":{\"id\":\"p1501\"}}},\"left\":[{\"type\":\"object\",\"name\":\"LinearAxis\",\"id\":\"p1495\",\"attributes\":{\"ticker\":{\"type\":\"object\",\"name\":\"BasicTicker\",\"id\":\"p1496\",\"attributes\":{\"mantissas\":[1,2,5]}},\"formatter\":{\"type\":\"object\",\"name\":\"BasicTickFormatter\",\"id\":\"p1497\"},\"axis_label\":\"Glucose\",\"major_label_policy\":{\"type\":\"object\",\"name\":\"AllLabels\",\"id\":\"p1498\"}}}],\"above\":[{\"type\":\"object\",\"name\":\"DatetimeAxis\",\"id\":\"p1478\",\"attributes\":{\"ticker\":{\"type\":\"object\",\"name\":\"DatetimeTicker\",\"id\":\"p1479\",\"attributes\":{\"num_minor_ticks\":5,\"tickers\":[{\"type\":\"object\",\"name\":\"AdaptiveTicker\",\"id\":\"p1480\",\"attributes\":{\"num_minor_ticks\":0,\"mantissas\":[1,2,5],\"max_interval\":500.0}},{\"type\":\"object\",\"name\":\"AdaptiveTicker\",\"id\":\"p1481\",\"attributes\":{\"num_minor_ticks\":0,\"base\":60,\"mantissas\":[1,2,5,10,15,20,30],\"min_interval\":1000.0,\"max_interval\":1800000.0}},{\"type\":\"object\",\"name\":\"AdaptiveTicker\",\"id\":\"p1482\",\"attributes\":{\"num_minor_ticks\":0,\"base\":24,\"mantissas\":[1,2,4,6,8,12],\"min_interval\":3600000.0,\"max_interval\":43200000.0}},{\"type\":\"object\",\"name\":\"DaysTicker\",\"id\":\"p1483\",\"attributes\":{\"days\":[1,2,3,4,5,6,7,8,9,10,11,12,13,14,15,16,17,18,19,20,21,22,23,24,25,26,27,28,29,30,31]}},{\"type\":\"object\",\"name\":\"DaysTicker\",\"id\":\"p1484\",\"attributes\":{\"days\":[1,4,7,10,13,16,19,22,25,28]}},{\"type\":\"object\",\"name\":\"DaysTicker\",\"id\":\"p1485\",\"attributes\":{\"days\":[1,8,15,22]}},{\"type\":\"object\",\"name\":\"DaysTicker\",\"id\":\"p1486\",\"attributes\":{\"days\":[1,15]}},{\"type\":\"object\",\"name\":\"MonthsTicker\",\"id\":\"p1487\",\"attributes\":{\"months\":[0,1,2,3,4,5,6,7,8,9,10,11]}},{\"type\":\"object\",\"name\":\"MonthsTicker\",\"id\":\"p1488\",\"attributes\":{\"months\":[0,2,4,6,8,10]}},{\"type\":\"object\",\"name\":\"MonthsTicker\",\"id\":\"p1489\",\"attributes\":{\"months\":[0,4,8]}},{\"type\":\"object\",\"name\":\"MonthsTicker\",\"id\":\"p1490\",\"attributes\":{\"months\":[0,6]}},{\"type\":\"object\",\"name\":\"YearsTicker\",\"id\":\"p1491\"}]}},\"formatter\":{\"type\":\"object\",\"name\":\"DatetimeTickFormatter\",\"id\":\"p1492\"},\"axis_label\":\"Time\",\"major_label_policy\":{\"type\":\"object\",\"name\":\"AllLabels\",\"id\":\"p1493\"}}}],\"center\":[{\"type\":\"object\",\"name\":\"Grid\",\"id\":\"p1494\",\"attributes\":{\"axis\":{\"id\":\"p1478\"}}},{\"type\":\"object\",\"name\":\"Grid\",\"id\":\"p1499\",\"attributes\":{\"dimension\":1,\"axis\":{\"id\":\"p1495\"}}},{\"type\":\"object\",\"name\":\"Span\",\"id\":\"p1512\",\"attributes\":{\"location\":95.84848484848484,\"line_color\":\"red\"}},{\"type\":\"object\",\"name\":\"Span\",\"id\":\"p1522\",\"attributes\":{\"location\":1657800000000.0,\"dimension\":\"height\",\"line_color\":\"orange\",\"line_width\":2}},{\"type\":\"object\",\"name\":\"BoxAnnotation\",\"id\":\"p1523\",\"attributes\":{\"left\":1657800000000.0,\"right\":1657803600000.0,\"top\":{\"type\":\"object\",\"name\":\"Node\",\"id\":\"p1526\",\"attributes\":{\"target\":\"frame\",\"symbol\":\"top\"}},\"bottom\":{\"type\":\"object\",\"name\":\"Node\",\"id\":\"p1527\",\"attributes\":{\"target\":\"frame\",\"symbol\":\"bottom\"}},\"fill_color\":\"orange\",\"fill_alpha\":0.3}},{\"type\":\"object\",\"name\":\"Label\",\"id\":\"p1528\",\"attributes\":{\"text\":\"1332.00\",\"text_color\":\"black\",\"text_font_size\":\"10pt\",\"background_fill_color\":\"white\",\"background_fill_alpha\":0.7,\"x\":1657800000000.0,\"y\":110,\"angle\":90,\"angle_units\":\"deg\"}},{\"type\":\"object\",\"name\":\"Span\",\"id\":\"p1529\",\"attributes\":{\"location\":1657821600000.0,\"dimension\":\"height\",\"line_color\":\"orange\",\"line_width\":2}},{\"type\":\"object\",\"name\":\"BoxAnnotation\",\"id\":\"p1530\",\"attributes\":{\"left\":1657821600000.0,\"right\":1657825200000.0,\"top\":{\"type\":\"object\",\"name\":\"Node\",\"id\":\"p1533\",\"attributes\":{\"target\":\"frame\",\"symbol\":\"top\"}},\"bottom\":{\"type\":\"object\",\"name\":\"Node\",\"id\":\"p1534\",\"attributes\":{\"target\":\"frame\",\"symbol\":\"bottom\"}},\"fill_color\":\"orange\",\"fill_alpha\":0.3}},{\"type\":\"object\",\"name\":\"Label\",\"id\":\"p1535\",\"attributes\":{\"text\":\"765.00\",\"text_color\":\"black\",\"text_font_size\":\"10pt\",\"background_fill_color\":\"white\",\"background_fill_alpha\":0.7,\"x\":1657821600000.0,\"y\":110,\"angle\":90,\"angle_units\":\"deg\"}}]}}]}};\n",
              "  const render_items = [{\"docid\":\"3f1a2bf7-107f-446d-86d4-5f8587643dea\",\"roots\":{\"p1467\":\"c0d72c7e-784a-4be1-9882-f60d052a8b2c\"},\"root_ids\":[\"p1467\"]}];\n",
              "  void root.Bokeh.embed.embed_items_notebook(docs_json, render_items);\n",
              "  }\n",
              "  if (root.Bokeh !== undefined) {\n",
              "    embed_document(root);\n",
              "  } else {\n",
              "    let attempts = 0;\n",
              "    const timer = setInterval(function(root) {\n",
              "      if (root.Bokeh !== undefined) {\n",
              "        clearInterval(timer);\n",
              "        embed_document(root);\n",
              "      } else {\n",
              "        attempts++;\n",
              "        if (attempts > 100) {\n",
              "          clearInterval(timer);\n",
              "          console.log(\"Bokeh: ERROR: Unable to run BokehJS code because BokehJS library is missing\");\n",
              "        }\n",
              "      }\n",
              "    }, 10, root)\n",
              "  }\n",
              "})(window);"
            ],
            "application/vnd.bokehjs_exec.v0+json": ""
          },
          "metadata": {
            "application/vnd.bokehjs_exec.v0+json": {
              "id": "p1467"
            }
          }
        },
        {
          "output_type": "stream",
          "name": "stdout",
          "text": [
            "\n",
            "\n",
            "\n"
          ]
        },
        {
          "output_type": "display_data",
          "data": {
            "text/html": [
              "\n",
              "  <div id=\"c502f689-7eab-4139-a0e7-82aab49b48c7\" data-root-id=\"p1540\" style=\"display: contents;\"></div>\n"
            ]
          },
          "metadata": {}
        },
        {
          "output_type": "display_data",
          "data": {
            "application/javascript": [
              "(function(root) {\n",
              "  function embed_document(root) {\n",
              "  const docs_json = {\"69461174-1b32-4fd6-a70b-4c496aaa2eb0\":{\"version\":\"3.4.3\",\"title\":\"Bokeh Application\",\"roots\":[{\"type\":\"object\",\"name\":\"Figure\",\"id\":\"p1540\",\"attributes\":{\"height\":400,\"x_range\":{\"type\":\"object\",\"name\":\"DataRange1d\",\"id\":\"p1541\"},\"y_range\":{\"type\":\"object\",\"name\":\"DataRange1d\",\"id\":\"p1542\"},\"x_scale\":{\"type\":\"object\",\"name\":\"LinearScale\",\"id\":\"p1549\"},\"y_scale\":{\"type\":\"object\",\"name\":\"LinearScale\",\"id\":\"p1550\"},\"title\":{\"type\":\"object\",\"name\":\"Title\",\"id\":\"p1547\",\"attributes\":{\"text\":\"Day: 2022-12-12\",\"text_font_size\":\"20pt\",\"align\":\"center\"}},\"renderers\":[{\"type\":\"object\",\"name\":\"GlyphRenderer\",\"id\":\"p1582\",\"attributes\":{\"data_source\":{\"type\":\"object\",\"name\":\"ColumnDataSource\",\"id\":\"p1576\",\"attributes\":{\"selected\":{\"type\":\"object\",\"name\":\"Selection\",\"id\":\"p1577\",\"attributes\":{\"indices\":[],\"line_indices\":[]}},\"selection_policy\":{\"type\":\"object\",\"name\":\"UnionRenderers\",\"id\":\"p1578\"},\"data\":{\"type\":\"map\",\"entries\":[[\"x\",{\"type\":\"ndarray\",\"array\":{\"type\":\"bytes\",\"data\":\"AACAGTpQeEIAADr1OlB4QgAA9NA7UHhCAACurDxQeEIAAGiIPVB4QgAAImQ+UHhCAADcPz9QeEIAAJYbQFB4QgAAUPdAUHhCAAAK00FQeEIAAMSuQlB4QgAAfopDUHhCAAA4ZkRQeEIAAPJBRVB4QgAArB1GUHhCAABm+UZQeEIAACDVR1B4QgAA2rBIUHhCAACUjElQeEIAAE5oSlB4QgAACERLUHhCAADCH0xQeEIAAHz7TFB4QgAANtdNUHhCAADwsk5QeEIAAKqOT1B4QgAAgBJQUHhCAABkalBQeEIAAB5GUVB4QgAA2CFSUHhCAABwXFJQeEIAAJL9UlB4QgAATNlTUHhCAADy51NQeEIAAKzDVFB4QgAANipVUHhCAABmn1VQeEIAACB7VlB4QgAA2lZXUHhCAACUMlhQeEIAAE4OWVB4QgAArvhZUHhCAAB2qFpQeEIAAGjUWlB4QgAAIrBbUHhCAADci1xQeEIAAJZnXVB4QgAAUENeUHhCAAAKH19QeEIAAMT6X1B4QgAAftZgUHhCAAA4smFQeEIAAPKNYlB4QgAArGljUHhCAABmRWRQeEIAACAhZVB4QgAA2vxlUHhCAACU2GZQeEIAAE60Z1B4QgAACJBoUHhCAADCa2lQeEIAAHxHalB4QgAANiNrUHhCAADw/mtQeEIAAKrabFB4QgAAZLZtUHhCAAD88G1QeEIAAMSgblB4QgAAEL5uUHhCAAB+fG9QeEIAADhYcFB4QgAA8jNxUHhCAACsD3JQeEIAAGbrclB4QgAAIMdzUHhCAADaonRQeEIAAJR+dVB4QgAATlp2UHhCAAAINndQeEIAAMIReFB4QgAAfO14UHhCAAA2yXlQeEIAAPCkelB4QgAAqoB7UHhCAAAKa3xQeEIAAJTRfFB4QgAAxEZ9UHhCAAB+In5QeEIAADj+flB4QgAA8tl/UHhCAACstYBQeEIAAGaRgVB4QgAAIG2CUHhCAADaSINQeEIAAJQkhFB4QgAATgCFUHhCAAAI3IVQeEIAAMK3hlB4QgAAfJOHUHhCAAA2b4hQeEIAADxoiVB4QgAAxs6JUHhCAAD2Q4pQeEIAALAfi1B4QgAAavuLUHhC\"},\"shape\":[105],\"dtype\":\"float64\",\"order\":\"little\"}],[\"y\",{\"type\":\"ndarray\",\"array\":{\"type\":\"bytes\",\"data\":\"AAAAAACAV0AAAAAAAABYQAAAAAAAgFdAAAAAAADAV0AAAAAAAABXQAAAAAAAgFVAAAAAAACAVEAAAAAAAIBUQAAAAAAAwFRAAAAAAAAAVUAAAAAAAABUQAAAAAAAwFFAAAAAAADAUEAAAAAAAABTQAAAAAAAwFZAAAAAAACAVkAAAAAAAEBUQAAAAAAAAFNAAAAAAAAAVUAAAAAAAABWQAAAAAAAgFNAAAAAAADAUUAAAAAAAIBTQAAAAAAAQFZAAAAAAADAVkAAAAAAAMBXQAAAAAAAgFtAAAAAAAAAWUAAAAAAAABaQAAAAAAAAFtAAAAAAAAAWkAAAAAAAABaQAAAAAAAAF9AAAAAAADAXEAAAAAAAABYQAAAAAAAQFZAAAAAAACAV0AAAAAAAEBYQAAAAAAAQFZAAAAAAADAVEAAAAAAAABUQAAAAAAAgFRAAAAAAABAVUAAAAAAAABVQAAAAAAAQFVAAAAAAADAVkAAAAAAAABYQAAAAAAAQFhAAAAAAACAV0AAAAAAAABXQAAAAAAAAFhAAAAAAAAAWUAAAAAAAMBYQAAAAAAAgFhAAAAAAABAWEAAAAAAAABaQAAAAAAAgF1AAAAAAAAgYEAAAAAAAIBdQAAAAAAAwFhAAAAAAAAAV0AAAAAAAEBXQAAAAAAAwFdAAAAAAACAV0AAAAAAAIBXQAAAAAAAAFhAAAAAAAAAWUAAAAAAAABXQAAAAAAAwFZAAAAAAAAAV0AAAAAAAABXQAAAAAAAwFZAAAAAAACAVkAAAAAAAABWQAAAAAAAQFZAAAAAAADAVkAAAAAAAABWQAAAAAAAQFVAAAAAAAAAVUAAAAAAAIBUQAAAAAAAQFZAAAAAAAAAW0AAAAAAAIBgQAAAAAAAAGJAAAAAAADAYUAAAAAAAMBhQAAAAAAAQGBAAAAAAADAW0AAAAAAAEBZQAAAAAAAQFpAAAAAAACAWUAAAAAAAMBWQAAAAAAAQFdAAAAAAACAWEAAAAAAAMBYQAAAAAAAAFlAAAAAAACAWUAAAAAAAABZQAAAAAAAgFZAAAAAAAAAVEAAAAAAAEBVQAAAAAAAAFZAAAAAAAAAVkAAAAAAAEBVQAAAAAAAgFNA\"},\"shape\":[105],\"dtype\":\"float64\",\"order\":\"little\"}]]}}},\"view\":{\"type\":\"object\",\"name\":\"CDSView\",\"id\":\"p1583\",\"attributes\":{\"filter\":{\"type\":\"object\",\"name\":\"AllIndices\",\"id\":\"p1584\"}}},\"glyph\":{\"type\":\"object\",\"name\":\"Line\",\"id\":\"p1579\",\"attributes\":{\"x\":{\"type\":\"field\",\"field\":\"x\"},\"y\":{\"type\":\"field\",\"field\":\"y\"},\"line_color\":\"gray\",\"line_alpha\":0.5,\"line_width\":2}},\"nonselection_glyph\":{\"type\":\"object\",\"name\":\"Line\",\"id\":\"p1580\",\"attributes\":{\"x\":{\"type\":\"field\",\"field\":\"x\"},\"y\":{\"type\":\"field\",\"field\":\"y\"},\"line_color\":\"gray\",\"line_alpha\":0.1,\"line_width\":2}},\"muted_glyph\":{\"type\":\"object\",\"name\":\"Line\",\"id\":\"p1581\",\"attributes\":{\"x\":{\"type\":\"field\",\"field\":\"x\"},\"y\":{\"type\":\"field\",\"field\":\"y\"},\"line_color\":\"gray\",\"line_alpha\":0.2,\"line_width\":2}}}},{\"type\":\"object\",\"name\":\"GlyphRenderer\",\"id\":\"p1592\",\"attributes\":{\"data_source\":{\"type\":\"object\",\"name\":\"ColumnDataSource\",\"id\":\"p1586\",\"attributes\":{\"selected\":{\"type\":\"object\",\"name\":\"Selection\",\"id\":\"p1587\",\"attributes\":{\"indices\":[],\"line_indices\":[]}},\"selection_policy\":{\"type\":\"object\",\"name\":\"UnionRenderers\",\"id\":\"p1588\"},\"data\":{\"type\":\"map\",\"entries\":[[\"x\",{\"type\":\"ndarray\",\"array\":{\"type\":\"bytes\",\"data\":\"AACqgHtQeEIAAJTYZlB4QgAATNlTUHhCAAAI3IVQeEI=\"},\"shape\":[4],\"dtype\":\"float64\",\"order\":\"little\"}],[\"y\",{\"type\":\"ndarray\",\"array\":{\"type\":\"bytes\",\"data\":\"AAAAAAAAYkAAAAAAACBgQAAAAAAAAF9AAAAAAACAWUA=\"},\"shape\":[4],\"dtype\":\"float64\",\"order\":\"little\"}]]}}},\"view\":{\"type\":\"object\",\"name\":\"CDSView\",\"id\":\"p1593\",\"attributes\":{\"filter\":{\"type\":\"object\",\"name\":\"AllIndices\",\"id\":\"p1594\"}}},\"glyph\":{\"type\":\"object\",\"name\":\"Scatter\",\"id\":\"p1589\",\"attributes\":{\"x\":{\"type\":\"field\",\"field\":\"x\"},\"y\":{\"type\":\"field\",\"field\":\"y\"},\"size\":{\"type\":\"value\",\"value\":6},\"line_color\":{\"type\":\"value\",\"value\":\"darkblue\"},\"line_alpha\":{\"type\":\"value\",\"value\":0.7},\"fill_color\":{\"type\":\"value\",\"value\":\"darkblue\"},\"fill_alpha\":{\"type\":\"value\",\"value\":0.7},\"hatch_color\":{\"type\":\"value\",\"value\":\"darkblue\"},\"hatch_alpha\":{\"type\":\"value\",\"value\":0.7}}},\"nonselection_glyph\":{\"type\":\"object\",\"name\":\"Scatter\",\"id\":\"p1590\",\"attributes\":{\"x\":{\"type\":\"field\",\"field\":\"x\"},\"y\":{\"type\":\"field\",\"field\":\"y\"},\"size\":{\"type\":\"value\",\"value\":6},\"line_color\":{\"type\":\"value\",\"value\":\"darkblue\"},\"line_alpha\":{\"type\":\"value\",\"value\":0.1},\"fill_color\":{\"type\":\"value\",\"value\":\"darkblue\"},\"fill_alpha\":{\"type\":\"value\",\"value\":0.1},\"hatch_color\":{\"type\":\"value\",\"value\":\"darkblue\"},\"hatch_alpha\":{\"type\":\"value\",\"value\":0.1}}},\"muted_glyph\":{\"type\":\"object\",\"name\":\"Scatter\",\"id\":\"p1591\",\"attributes\":{\"x\":{\"type\":\"field\",\"field\":\"x\"},\"y\":{\"type\":\"field\",\"field\":\"y\"},\"size\":{\"type\":\"value\",\"value\":6},\"line_color\":{\"type\":\"value\",\"value\":\"darkblue\"},\"line_alpha\":{\"type\":\"value\",\"value\":0.2},\"fill_color\":{\"type\":\"value\",\"value\":\"darkblue\"},\"fill_alpha\":{\"type\":\"value\",\"value\":0.2},\"hatch_color\":{\"type\":\"value\",\"value\":\"darkblue\"},\"hatch_alpha\":{\"type\":\"value\",\"value\":0.2}}}}}],\"toolbar\":{\"type\":\"object\",\"name\":\"Toolbar\",\"id\":\"p1548\",\"attributes\":{\"tools\":[{\"type\":\"object\",\"name\":\"PanTool\",\"id\":\"p1573\"},{\"type\":\"object\",\"name\":\"WheelZoomTool\",\"id\":\"p1574\",\"attributes\":{\"dimensions\":\"width\",\"renderers\":\"auto\"}},{\"type\":\"object\",\"name\":\"WheelZoomTool\",\"id\":\"p1575\",\"attributes\":{\"dimensions\":\"height\",\"renderers\":\"auto\"}}],\"active_scroll\":{\"id\":\"p1574\"}}},\"left\":[{\"type\":\"object\",\"name\":\"LinearAxis\",\"id\":\"p1568\",\"attributes\":{\"ticker\":{\"type\":\"object\",\"name\":\"BasicTicker\",\"id\":\"p1569\",\"attributes\":{\"mantissas\":[1,2,5]}},\"formatter\":{\"type\":\"object\",\"name\":\"BasicTickFormatter\",\"id\":\"p1570\"},\"axis_label\":\"Glucose\",\"major_label_policy\":{\"type\":\"object\",\"name\":\"AllLabels\",\"id\":\"p1571\"}}}],\"above\":[{\"type\":\"object\",\"name\":\"DatetimeAxis\",\"id\":\"p1551\",\"attributes\":{\"ticker\":{\"type\":\"object\",\"name\":\"DatetimeTicker\",\"id\":\"p1552\",\"attributes\":{\"num_minor_ticks\":5,\"tickers\":[{\"type\":\"object\",\"name\":\"AdaptiveTicker\",\"id\":\"p1553\",\"attributes\":{\"num_minor_ticks\":0,\"mantissas\":[1,2,5],\"max_interval\":500.0}},{\"type\":\"object\",\"name\":\"AdaptiveTicker\",\"id\":\"p1554\",\"attributes\":{\"num_minor_ticks\":0,\"base\":60,\"mantissas\":[1,2,5,10,15,20,30],\"min_interval\":1000.0,\"max_interval\":1800000.0}},{\"type\":\"object\",\"name\":\"AdaptiveTicker\",\"id\":\"p1555\",\"attributes\":{\"num_minor_ticks\":0,\"base\":24,\"mantissas\":[1,2,4,6,8,12],\"min_interval\":3600000.0,\"max_interval\":43200000.0}},{\"type\":\"object\",\"name\":\"DaysTicker\",\"id\":\"p1556\",\"attributes\":{\"days\":[1,2,3,4,5,6,7,8,9,10,11,12,13,14,15,16,17,18,19,20,21,22,23,24,25,26,27,28,29,30,31]}},{\"type\":\"object\",\"name\":\"DaysTicker\",\"id\":\"p1557\",\"attributes\":{\"days\":[1,4,7,10,13,16,19,22,25,28]}},{\"type\":\"object\",\"name\":\"DaysTicker\",\"id\":\"p1558\",\"attributes\":{\"days\":[1,8,15,22]}},{\"type\":\"object\",\"name\":\"DaysTicker\",\"id\":\"p1559\",\"attributes\":{\"days\":[1,15]}},{\"type\":\"object\",\"name\":\"MonthsTicker\",\"id\":\"p1560\",\"attributes\":{\"months\":[0,1,2,3,4,5,6,7,8,9,10,11]}},{\"type\":\"object\",\"name\":\"MonthsTicker\",\"id\":\"p1561\",\"attributes\":{\"months\":[0,2,4,6,8,10]}},{\"type\":\"object\",\"name\":\"MonthsTicker\",\"id\":\"p1562\",\"attributes\":{\"months\":[0,4,8]}},{\"type\":\"object\",\"name\":\"MonthsTicker\",\"id\":\"p1563\",\"attributes\":{\"months\":[0,6]}},{\"type\":\"object\",\"name\":\"YearsTicker\",\"id\":\"p1564\"}]}},\"formatter\":{\"type\":\"object\",\"name\":\"DatetimeTickFormatter\",\"id\":\"p1565\"},\"axis_label\":\"Time\",\"major_label_policy\":{\"type\":\"object\",\"name\":\"AllLabels\",\"id\":\"p1566\"}}}],\"center\":[{\"type\":\"object\",\"name\":\"Grid\",\"id\":\"p1567\",\"attributes\":{\"axis\":{\"id\":\"p1551\"}}},{\"type\":\"object\",\"name\":\"Grid\",\"id\":\"p1572\",\"attributes\":{\"dimension\":1,\"axis\":{\"id\":\"p1568\"}}},{\"type\":\"object\",\"name\":\"Span\",\"id\":\"p1585\",\"attributes\":{\"location\":94.82857142857142,\"line_color\":\"red\"}},{\"type\":\"object\",\"name\":\"Span\",\"id\":\"p1595\",\"attributes\":{\"location\":1670832000000.0,\"dimension\":\"height\",\"line_color\":\"orange\",\"line_width\":2}},{\"type\":\"object\",\"name\":\"BoxAnnotation\",\"id\":\"p1596\",\"attributes\":{\"left\":1670832000000.0,\"right\":1670835600000.0,\"top\":{\"type\":\"object\",\"name\":\"Node\",\"id\":\"p1599\",\"attributes\":{\"target\":\"frame\",\"symbol\":\"top\"}},\"bottom\":{\"type\":\"object\",\"name\":\"Node\",\"id\":\"p1600\",\"attributes\":{\"target\":\"frame\",\"symbol\":\"bottom\"}},\"fill_color\":\"orange\",\"fill_alpha\":0.3}},{\"type\":\"object\",\"name\":\"Label\",\"id\":\"p1601\",\"attributes\":{\"text\":\"292.00\",\"text_color\":\"black\",\"text_font_size\":\"10pt\",\"background_fill_color\":\"white\",\"background_fill_alpha\":0.7,\"x\":1670832000000.0,\"y\":110,\"angle\":90,\"angle_units\":\"deg\"}},{\"type\":\"object\",\"name\":\"Span\",\"id\":\"p1602\",\"attributes\":{\"location\":1670846400000.0,\"dimension\":\"height\",\"line_color\":\"orange\",\"line_width\":2}},{\"type\":\"object\",\"name\":\"BoxAnnotation\",\"id\":\"p1603\",\"attributes\":{\"left\":1670846400000.0,\"right\":1670850000000.0,\"top\":{\"type\":\"object\",\"name\":\"Node\",\"id\":\"p1606\",\"attributes\":{\"target\":\"frame\",\"symbol\":\"top\"}},\"bottom\":{\"type\":\"object\",\"name\":\"Node\",\"id\":\"p1607\",\"attributes\":{\"target\":\"frame\",\"symbol\":\"bottom\"}},\"fill_color\":\"orange\",\"fill_alpha\":0.3}},{\"type\":\"object\",\"name\":\"Label\",\"id\":\"p1608\",\"attributes\":{\"text\":\"828.00\",\"text_color\":\"black\",\"text_font_size\":\"10pt\",\"background_fill_color\":\"white\",\"background_fill_alpha\":0.7,\"x\":1670846400000.0,\"y\":110,\"angle\":90,\"angle_units\":\"deg\"}}]}}]}};\n",
              "  const render_items = [{\"docid\":\"69461174-1b32-4fd6-a70b-4c496aaa2eb0\",\"roots\":{\"p1540\":\"c502f689-7eab-4139-a0e7-82aab49b48c7\"},\"root_ids\":[\"p1540\"]}];\n",
              "  void root.Bokeh.embed.embed_items_notebook(docs_json, render_items);\n",
              "  }\n",
              "  if (root.Bokeh !== undefined) {\n",
              "    embed_document(root);\n",
              "  } else {\n",
              "    let attempts = 0;\n",
              "    const timer = setInterval(function(root) {\n",
              "      if (root.Bokeh !== undefined) {\n",
              "        clearInterval(timer);\n",
              "        embed_document(root);\n",
              "      } else {\n",
              "        attempts++;\n",
              "        if (attempts > 100) {\n",
              "          clearInterval(timer);\n",
              "          console.log(\"Bokeh: ERROR: Unable to run BokehJS code because BokehJS library is missing\");\n",
              "        }\n",
              "      }\n",
              "    }, 10, root)\n",
              "  }\n",
              "})(window);"
            ],
            "application/vnd.bokehjs_exec.v0+json": ""
          },
          "metadata": {
            "application/vnd.bokehjs_exec.v0+json": {
              "id": "p1540"
            }
          }
        },
        {
          "output_type": "stream",
          "name": "stdout",
          "text": [
            "\n",
            "\n",
            "\n"
          ]
        },
        {
          "output_type": "display_data",
          "data": {
            "text/html": [
              "\n",
              "  <div id=\"bffa9612-768c-4bc4-b569-7b4444fdea9e\" data-root-id=\"p1613\" style=\"display: contents;\"></div>\n"
            ]
          },
          "metadata": {}
        },
        {
          "output_type": "display_data",
          "data": {
            "application/javascript": [
              "(function(root) {\n",
              "  function embed_document(root) {\n",
              "  const docs_json = {\"b4422d29-512f-41e9-a39b-0e3a65729bc5\":{\"version\":\"3.4.3\",\"title\":\"Bokeh Application\",\"roots\":[{\"type\":\"object\",\"name\":\"Figure\",\"id\":\"p1613\",\"attributes\":{\"height\":400,\"x_range\":{\"type\":\"object\",\"name\":\"DataRange1d\",\"id\":\"p1614\"},\"y_range\":{\"type\":\"object\",\"name\":\"DataRange1d\",\"id\":\"p1615\"},\"x_scale\":{\"type\":\"object\",\"name\":\"LinearScale\",\"id\":\"p1622\"},\"y_scale\":{\"type\":\"object\",\"name\":\"LinearScale\",\"id\":\"p1623\"},\"title\":{\"type\":\"object\",\"name\":\"Title\",\"id\":\"p1620\",\"attributes\":{\"text\":\"Day: 2022-12-13\",\"text_font_size\":\"20pt\",\"align\":\"center\"}},\"renderers\":[{\"type\":\"object\",\"name\":\"GlyphRenderer\",\"id\":\"p1655\",\"attributes\":{\"data_source\":{\"type\":\"object\",\"name\":\"ColumnDataSource\",\"id\":\"p1649\",\"attributes\":{\"selected\":{\"type\":\"object\",\"name\":\"Selection\",\"id\":\"p1650\",\"attributes\":{\"indices\":[],\"line_indices\":[]}},\"selection_policy\":{\"type\":\"object\",\"name\":\"UnionRenderers\",\"id\":\"p1651\"},\"data\":{\"type\":\"map\",\"entries\":[[\"x\",{\"type\":\"ndarray\",\"array\":{\"type\":\"bytes\",\"data\":\"AAAk14xQeEIAAN6yjVB4QgAAmI6OUHhCAABSao9QeEIAAAxGkFB4QgAAxiGRUHhCAACA/ZFQeEIAADrZklB4QgAA9LSTUHhCAACukJRQeEIAAGhslVB4QgAAIkiWUHhCAADcI5dQeEIAAJb/l1B4QgAAUNuYUHhCAAAKt5lQeEIAAMSSmlB4QgAAfm6bUHhCAAA4SpxQeEIAAPIlnVB4QgAArAGeUHhCAABm3Z5QeEIAACC5n1B4QgAA2pSgUHhCAACUcKFQeEIAAE5MolB4QgAACCijUHhCAAAc9aNQeEIAADDCpFB4QgAA1tCkUHhCAACQrKVQeEIAAJalplB4QgAAPLSmUHhCAABQgadQeEIAAApdqFB4QgAAxDipUHhCAAB+FKpQeEIAADjwqlB4QgAA8surUHhCAACsp6xQeEIAAGaDrVB4QgAAIF+uUHhCAADaOq9QeEIAAJQWsFB4QgAATvKwUHhCAAAIzrFQeEIAAMKpslB4QgAAfIWzUHhCAAA2YbRQeEIAAPA8tVB4QgAAqhi2UHhCAABk9LZQeEIAAB7Qt1B4QgAA2Ku4UHhCAACSh7lQeEIAAExjulB4QgAArE27UHhCAAAaDLxQeEIAAGYpvFB4QgAAIAW9UHhCAADa4L1QeEIAAJS8vlB4QgAATpi/UHhCAAAIdMBQeEIAAMJPwVB4QgAAfCvCUHhCAAA2B8NQeEIAAPDiw1B4QgAAqr7EUHhCAABkmsVQeEIAAB52xlB4QgAA2FHHUHhCAACSLchQeEIAAEwJyVB4QgAABuXJUHhCAADAwMpQeEIAANSNy1B4QgAAepzLUHhCAAA0eMxQeEIAAO5TzVB4QgAAqC/OUHhCAABiC89QeEIAABznz1B4QgAA1sLQUHhCAACQntFQeEIAAEp60lB4QgAAxgzTUHhCAAAEVtNQeEIAAL4x1FB4QgAAeA3VUHhCAAAy6dVQeEIAAJLT1lB4QgAAHDrXUHhCAABMr9dQeEIAAAaL2FB4QgAAwGbZUHhCAAB6QtpQeEIAADQe21B4QgAA7vnbUHhCAACo1dxQeEIAAGKx3VB4QgAAHI3eUHhC\"},\"shape\":[102],\"dtype\":\"float64\",\"order\":\"little\"}],[\"y\",{\"type\":\"ndarray\",\"array\":{\"type\":\"bytes\",\"data\":\"AAAAAAAAU0AAAAAAAIBUQAAAAAAAwFZAAAAAAAAAV0AAAAAAAABWQAAAAAAAQFRAAAAAAADAU0AAAAAAAMBTQAAAAAAAQFRAAAAAAAAAVUAAAAAAAEBVQAAAAAAAwFNAAAAAAAAAUUAAAAAAAIBLQAAAAAAAgExAAAAAAADAU0AAAAAAAEBUQAAAAAAAwFNAAAAAAADAVUAAAAAAAEBWQAAAAAAAgFRAAAAAAAAAUkAAAAAAAABSQAAAAAAAgFNAAAAAAACAU0AAAAAAAIBVQAAAAAAAgFdAAAAAAABAV0AAAAAAAMBWQAAAAAAAQFdAAAAAAAAAWEAAAAAAAMBXQAAAAAAAAFtAAAAAAADAWEAAAAAAAEBXQAAAAAAAgFdAAAAAAAAAWEAAAAAAAIBXQAAAAAAAgFdAAAAAAADAV0AAAAAAAEBXQAAAAAAAwFZAAAAAAACAV0AAAAAAAABYQAAAAAAAwFdAAAAAAACAV0AAAAAAAEBXQAAAAAAAwFdAAAAAAAAAWEAAAAAAAABYQAAAAAAAQFhAAAAAAAAAWEAAAAAAAMBXQAAAAAAAwFhAAAAAAABAXUAAAAAAAGBhQAAAAAAAYGJAAAAAAADAXUAAAAAAAMBdQAAAAAAAgFZAAAAAAABAVkAAAAAAAABWQAAAAAAAAFdAAAAAAADAV0AAAAAAAABYQAAAAAAAgFhAAAAAAAAAWUAAAAAAAABZQAAAAAAAAFlAAAAAAACAWEAAAAAAAIBYQAAAAAAAQFlAAAAAAADAWEAAAAAAAABXQAAAAAAAwFRAAAAAAADAVUAAAAAAAMBaQAAAAAAAgFdAAAAAAACAV0AAAAAAAABbQAAAAAAAQGBAAAAAAABAYEAAAAAAAABbQAAAAAAAwFZAAAAAAADAVUAAAAAAAMBWQAAAAAAAQFZAAAAAAADAV0AAAAAAAEBYQAAAAAAAQFhAAAAAAAAAWEAAAAAAAIBXQAAAAAAAwFdAAAAAAADAV0AAAAAAAIBXQAAAAAAAQFZAAAAAAACAVUAAAAAAAIBWQAAAAAAAAFdAAAAAAADAVUAAAAAAAMBVQAAAAAAAAFdA\"},\"shape\":[102],\"dtype\":\"float64\",\"order\":\"little\"}]]}}},\"view\":{\"type\":\"object\",\"name\":\"CDSView\",\"id\":\"p1656\",\"attributes\":{\"filter\":{\"type\":\"object\",\"name\":\"AllIndices\",\"id\":\"p1657\"}}},\"glyph\":{\"type\":\"object\",\"name\":\"Line\",\"id\":\"p1652\",\"attributes\":{\"x\":{\"type\":\"field\",\"field\":\"x\"},\"y\":{\"type\":\"field\",\"field\":\"y\"},\"line_color\":\"gray\",\"line_alpha\":0.5,\"line_width\":2}},\"nonselection_glyph\":{\"type\":\"object\",\"name\":\"Line\",\"id\":\"p1653\",\"attributes\":{\"x\":{\"type\":\"field\",\"field\":\"x\"},\"y\":{\"type\":\"field\",\"field\":\"y\"},\"line_color\":\"gray\",\"line_alpha\":0.1,\"line_width\":2}},\"muted_glyph\":{\"type\":\"object\",\"name\":\"Line\",\"id\":\"p1654\",\"attributes\":{\"x\":{\"type\":\"field\",\"field\":\"x\"},\"y\":{\"type\":\"field\",\"field\":\"y\"},\"line_color\":\"gray\",\"line_alpha\":0.2,\"line_width\":2}}}},{\"type\":\"object\",\"name\":\"GlyphRenderer\",\"id\":\"p1665\",\"attributes\":{\"data_source\":{\"type\":\"object\",\"name\":\"ColumnDataSource\",\"id\":\"p1659\",\"attributes\":{\"selected\":{\"type\":\"object\",\"name\":\"Selection\",\"id\":\"p1660\",\"attributes\":{\"indices\":[],\"line_indices\":[]}},\"selection_policy\":{\"type\":\"object\",\"name\":\"UnionRenderers\",\"id\":\"p1661\"},\"data\":{\"type\":\"map\",\"entries\":[[\"x\",{\"type\":\"ndarray\",\"array\":{\"type\":\"bytes\",\"data\":\"AACsTbtQeEIAAKgvzlB4QgAAPLSmUHhC\"},\"shape\":[3],\"dtype\":\"float64\",\"order\":\"little\"}],[\"y\",{\"type\":\"ndarray\",\"array\":{\"type\":\"bytes\",\"data\":\"AAAAAABgYkAAAAAAAEBgQAAAAAAAAFtA\"},\"shape\":[3],\"dtype\":\"float64\",\"order\":\"little\"}]]}}},\"view\":{\"type\":\"object\",\"name\":\"CDSView\",\"id\":\"p1666\",\"attributes\":{\"filter\":{\"type\":\"object\",\"name\":\"AllIndices\",\"id\":\"p1667\"}}},\"glyph\":{\"type\":\"object\",\"name\":\"Scatter\",\"id\":\"p1662\",\"attributes\":{\"x\":{\"type\":\"field\",\"field\":\"x\"},\"y\":{\"type\":\"field\",\"field\":\"y\"},\"size\":{\"type\":\"value\",\"value\":6},\"line_color\":{\"type\":\"value\",\"value\":\"darkblue\"},\"line_alpha\":{\"type\":\"value\",\"value\":0.7},\"fill_color\":{\"type\":\"value\",\"value\":\"darkblue\"},\"fill_alpha\":{\"type\":\"value\",\"value\":0.7},\"hatch_color\":{\"type\":\"value\",\"value\":\"darkblue\"},\"hatch_alpha\":{\"type\":\"value\",\"value\":0.7}}},\"nonselection_glyph\":{\"type\":\"object\",\"name\":\"Scatter\",\"id\":\"p1663\",\"attributes\":{\"x\":{\"type\":\"field\",\"field\":\"x\"},\"y\":{\"type\":\"field\",\"field\":\"y\"},\"size\":{\"type\":\"value\",\"value\":6},\"line_color\":{\"type\":\"value\",\"value\":\"darkblue\"},\"line_alpha\":{\"type\":\"value\",\"value\":0.1},\"fill_color\":{\"type\":\"value\",\"value\":\"darkblue\"},\"fill_alpha\":{\"type\":\"value\",\"value\":0.1},\"hatch_color\":{\"type\":\"value\",\"value\":\"darkblue\"},\"hatch_alpha\":{\"type\":\"value\",\"value\":0.1}}},\"muted_glyph\":{\"type\":\"object\",\"name\":\"Scatter\",\"id\":\"p1664\",\"attributes\":{\"x\":{\"type\":\"field\",\"field\":\"x\"},\"y\":{\"type\":\"field\",\"field\":\"y\"},\"size\":{\"type\":\"value\",\"value\":6},\"line_color\":{\"type\":\"value\",\"value\":\"darkblue\"},\"line_alpha\":{\"type\":\"value\",\"value\":0.2},\"fill_color\":{\"type\":\"value\",\"value\":\"darkblue\"},\"fill_alpha\":{\"type\":\"value\",\"value\":0.2},\"hatch_color\":{\"type\":\"value\",\"value\":\"darkblue\"},\"hatch_alpha\":{\"type\":\"value\",\"value\":0.2}}}}}],\"toolbar\":{\"type\":\"object\",\"name\":\"Toolbar\",\"id\":\"p1621\",\"attributes\":{\"tools\":[{\"type\":\"object\",\"name\":\"PanTool\",\"id\":\"p1646\"},{\"type\":\"object\",\"name\":\"WheelZoomTool\",\"id\":\"p1647\",\"attributes\":{\"dimensions\":\"width\",\"renderers\":\"auto\"}},{\"type\":\"object\",\"name\":\"WheelZoomTool\",\"id\":\"p1648\",\"attributes\":{\"dimensions\":\"height\",\"renderers\":\"auto\"}}],\"active_scroll\":{\"id\":\"p1647\"}}},\"left\":[{\"type\":\"object\",\"name\":\"LinearAxis\",\"id\":\"p1641\",\"attributes\":{\"ticker\":{\"type\":\"object\",\"name\":\"BasicTicker\",\"id\":\"p1642\",\"attributes\":{\"mantissas\":[1,2,5]}},\"formatter\":{\"type\":\"object\",\"name\":\"BasicTickFormatter\",\"id\":\"p1643\"},\"axis_label\":\"Glucose\",\"major_label_policy\":{\"type\":\"object\",\"name\":\"AllLabels\",\"id\":\"p1644\"}}}],\"above\":[{\"type\":\"object\",\"name\":\"DatetimeAxis\",\"id\":\"p1624\",\"attributes\":{\"ticker\":{\"type\":\"object\",\"name\":\"DatetimeTicker\",\"id\":\"p1625\",\"attributes\":{\"num_minor_ticks\":5,\"tickers\":[{\"type\":\"object\",\"name\":\"AdaptiveTicker\",\"id\":\"p1626\",\"attributes\":{\"num_minor_ticks\":0,\"mantissas\":[1,2,5],\"max_interval\":500.0}},{\"type\":\"object\",\"name\":\"AdaptiveTicker\",\"id\":\"p1627\",\"attributes\":{\"num_minor_ticks\":0,\"base\":60,\"mantissas\":[1,2,5,10,15,20,30],\"min_interval\":1000.0,\"max_interval\":1800000.0}},{\"type\":\"object\",\"name\":\"AdaptiveTicker\",\"id\":\"p1628\",\"attributes\":{\"num_minor_ticks\":0,\"base\":24,\"mantissas\":[1,2,4,6,8,12],\"min_interval\":3600000.0,\"max_interval\":43200000.0}},{\"type\":\"object\",\"name\":\"DaysTicker\",\"id\":\"p1629\",\"attributes\":{\"days\":[1,2,3,4,5,6,7,8,9,10,11,12,13,14,15,16,17,18,19,20,21,22,23,24,25,26,27,28,29,30,31]}},{\"type\":\"object\",\"name\":\"DaysTicker\",\"id\":\"p1630\",\"attributes\":{\"days\":[1,4,7,10,13,16,19,22,25,28]}},{\"type\":\"object\",\"name\":\"DaysTicker\",\"id\":\"p1631\",\"attributes\":{\"days\":[1,8,15,22]}},{\"type\":\"object\",\"name\":\"DaysTicker\",\"id\":\"p1632\",\"attributes\":{\"days\":[1,15]}},{\"type\":\"object\",\"name\":\"MonthsTicker\",\"id\":\"p1633\",\"attributes\":{\"months\":[0,1,2,3,4,5,6,7,8,9,10,11]}},{\"type\":\"object\",\"name\":\"MonthsTicker\",\"id\":\"p1634\",\"attributes\":{\"months\":[0,2,4,6,8,10]}},{\"type\":\"object\",\"name\":\"MonthsTicker\",\"id\":\"p1635\",\"attributes\":{\"months\":[0,4,8]}},{\"type\":\"object\",\"name\":\"MonthsTicker\",\"id\":\"p1636\",\"attributes\":{\"months\":[0,6]}},{\"type\":\"object\",\"name\":\"YearsTicker\",\"id\":\"p1637\"}]}},\"formatter\":{\"type\":\"object\",\"name\":\"DatetimeTickFormatter\",\"id\":\"p1638\"},\"axis_label\":\"Time\",\"major_label_policy\":{\"type\":\"object\",\"name\":\"AllLabels\",\"id\":\"p1639\"}}}],\"center\":[{\"type\":\"object\",\"name\":\"Grid\",\"id\":\"p1640\",\"attributes\":{\"axis\":{\"id\":\"p1624\"}}},{\"type\":\"object\",\"name\":\"Grid\",\"id\":\"p1645\",\"attributes\":{\"dimension\":1,\"axis\":{\"id\":\"p1641\"}}},{\"type\":\"object\",\"name\":\"Span\",\"id\":\"p1658\",\"attributes\":{\"location\":93.00980392156863,\"line_color\":\"red\"}},{\"type\":\"object\",\"name\":\"Span\",\"id\":\"p1668\",\"attributes\":{\"location\":1670932800000.0,\"dimension\":\"height\",\"line_color\":\"orange\",\"line_width\":2}},{\"type\":\"object\",\"name\":\"BoxAnnotation\",\"id\":\"p1669\",\"attributes\":{\"left\":1670932800000.0,\"right\":1670936400000.0,\"top\":{\"type\":\"object\",\"name\":\"Node\",\"id\":\"p1672\",\"attributes\":{\"target\":\"frame\",\"symbol\":\"top\"}},\"bottom\":{\"type\":\"object\",\"name\":\"Node\",\"id\":\"p1673\",\"attributes\":{\"target\":\"frame\",\"symbol\":\"bottom\"}},\"fill_color\":\"orange\",\"fill_alpha\":0.3}},{\"type\":\"object\",\"name\":\"Label\",\"id\":\"p1674\",\"attributes\":{\"text\":\"966.00\",\"text_color\":\"black\",\"text_font_size\":\"10pt\",\"background_fill_color\":\"white\",\"background_fill_alpha\":0.7,\"x\":1670932800000.0,\"y\":110,\"angle\":90,\"angle_units\":\"deg\"}},{\"type\":\"object\",\"name\":\"Span\",\"id\":\"p1675\",\"attributes\":{\"location\":1670954400000.0,\"dimension\":\"height\",\"line_color\":\"orange\",\"line_width\":2}},{\"type\":\"object\",\"name\":\"BoxAnnotation\",\"id\":\"p1676\",\"attributes\":{\"left\":1670954400000.0,\"right\":1670958000000.0,\"top\":{\"type\":\"object\",\"name\":\"Node\",\"id\":\"p1679\",\"attributes\":{\"target\":\"frame\",\"symbol\":\"top\"}},\"bottom\":{\"type\":\"object\",\"name\":\"Node\",\"id\":\"p1680\",\"attributes\":{\"target\":\"frame\",\"symbol\":\"bottom\"}},\"fill_color\":\"orange\",\"fill_alpha\":0.3}},{\"type\":\"object\",\"name\":\"Label\",\"id\":\"p1681\",\"attributes\":{\"text\":\"462.00\",\"text_color\":\"black\",\"text_font_size\":\"10pt\",\"background_fill_color\":\"white\",\"background_fill_alpha\":0.7,\"x\":1670954400000.0,\"y\":110,\"angle\":90,\"angle_units\":\"deg\"}}]}}]}};\n",
              "  const render_items = [{\"docid\":\"b4422d29-512f-41e9-a39b-0e3a65729bc5\",\"roots\":{\"p1613\":\"bffa9612-768c-4bc4-b569-7b4444fdea9e\"},\"root_ids\":[\"p1613\"]}];\n",
              "  void root.Bokeh.embed.embed_items_notebook(docs_json, render_items);\n",
              "  }\n",
              "  if (root.Bokeh !== undefined) {\n",
              "    embed_document(root);\n",
              "  } else {\n",
              "    let attempts = 0;\n",
              "    const timer = setInterval(function(root) {\n",
              "      if (root.Bokeh !== undefined) {\n",
              "        clearInterval(timer);\n",
              "        embed_document(root);\n",
              "      } else {\n",
              "        attempts++;\n",
              "        if (attempts > 100) {\n",
              "          clearInterval(timer);\n",
              "          console.log(\"Bokeh: ERROR: Unable to run BokehJS code because BokehJS library is missing\");\n",
              "        }\n",
              "      }\n",
              "    }, 10, root)\n",
              "  }\n",
              "})(window);"
            ],
            "application/vnd.bokehjs_exec.v0+json": ""
          },
          "metadata": {
            "application/vnd.bokehjs_exec.v0+json": {
              "id": "p1613"
            }
          }
        },
        {
          "output_type": "stream",
          "name": "stdout",
          "text": [
            "\n",
            "\n",
            "\n"
          ]
        },
        {
          "output_type": "display_data",
          "data": {
            "text/html": [
              "\n",
              "  <div id=\"b12cc99f-5d6f-41a3-bf80-dc56c2df2765\" data-root-id=\"p1686\" style=\"display: contents;\"></div>\n"
            ]
          },
          "metadata": {}
        },
        {
          "output_type": "display_data",
          "data": {
            "application/javascript": [
              "(function(root) {\n",
              "  function embed_document(root) {\n",
              "  const docs_json = {\"d67b4a36-8f98-4a61-86f2-fc804827bfb8\":{\"version\":\"3.4.3\",\"title\":\"Bokeh Application\",\"roots\":[{\"type\":\"object\",\"name\":\"Figure\",\"id\":\"p1686\",\"attributes\":{\"height\":400,\"x_range\":{\"type\":\"object\",\"name\":\"DataRange1d\",\"id\":\"p1687\"},\"y_range\":{\"type\":\"object\",\"name\":\"DataRange1d\",\"id\":\"p1688\"},\"x_scale\":{\"type\":\"object\",\"name\":\"LinearScale\",\"id\":\"p1695\"},\"y_scale\":{\"type\":\"object\",\"name\":\"LinearScale\",\"id\":\"p1696\"},\"title\":{\"type\":\"object\",\"name\":\"Title\",\"id\":\"p1693\",\"attributes\":{\"text\":\"Day: 2022-12-14\",\"text_font_size\":\"20pt\",\"align\":\"center\"}},\"renderers\":[{\"type\":\"object\",\"name\":\"GlyphRenderer\",\"id\":\"p1728\",\"attributes\":{\"data_source\":{\"type\":\"object\",\"name\":\"ColumnDataSource\",\"id\":\"p1722\",\"attributes\":{\"selected\":{\"type\":\"object\",\"name\":\"Selection\",\"id\":\"p1723\",\"attributes\":{\"indices\":[],\"line_indices\":[]}},\"selection_policy\":{\"type\":\"object\",\"name\":\"UnionRenderers\",\"id\":\"p1724\"},\"data\":{\"type\":\"map\",\"entries\":[[\"x\",{\"type\":\"ndarray\",\"array\":{\"type\":\"bytes\",\"data\":\"AAB8d99QeEIAAPgJ4FB4QgAANlPgUHhCAADwLuFQeEIAAKoK4lB4QgAAZObiUHhCAAAewuNQeEIAANid5FB4QgAAknnlUHhCAABMVeZQeEIAAAYx51B4QgAAwAzoUHhCAAB66OhQeEIAADTE6VB4QgAA7p/qUHhCAACoe+tQeEIAAGJX7FB4QgAAHDPtUHhCAADWDu5QeEIAAJDq7lB4QgAASsbvUHhCAAAEovBQeEIAAL598VB4QgAAeFnyUHhCAAAyNfNQeEIAAOwQ9FB4QgAA8gn1UHhCAAAif/VQeEIAAKzl9VB4QgAAZsH2UHhCAAAgnfdQeEIAANp4+FB4QgAAlFT5UHhCAABOMPpQeEIAAAgM+1B4QgAAwuf7UHhCAAB8w/xQeEIAADaf/VB4QgAA8Hr+UHhCAACqVv9QeEIAAGQyAFF4QgAAHg4BUXhCAADY6QFReEIAAJLFAlF4QgAATKEDUXhCAAAGfQRReEIAAMBYBVF4QgAAejQGUXhCAAA0EAdReEIAAO7rB1F4QgAAqMcIUXhCAABiowlReEIAAMKNClF4QgAAMEwLUXhCAAB8aQtReEIAADZFDFF4QgAA8CANUXhCAACq/A1ReEIAAGTYDlF4QgAAHrQPUXhCAADYjxBReEIAAJJrEVF4QgAATEcSUXhCAAAGIxNReEIAAMD+E1F4QgAAetoUUXhCAAA0thVReEIAAO6RFlF4QgAAqG0XUXhCAABiSRhReEIAABwlGVF4QgAA1gAaUXhCAACQ3BpReEIAAEq4G1F4QgAABJQcUXhCAAC+bx1ReEIAAHhLHlF4QgAAMicfUXhCAADsAiBReEIAAKbeIFF4QgAAuqshUXhCAABguiFReEIAABqWIlF4QgAA1HEjUXhCAACOTSRReEIAAEgpJVF4QgAAxLslUXhCAAACBSZReEIAALzgJlF4QgAAdrwnUXhCAAAwmChReEIAAOpzKVF4QgAApE8qUXhCAABeKytReEIAAAQ6K1F4QgAAvhUsUXhCAAB48SxReEIAADLNLVF4QgAA7KguUXhCAACmhC9ReEIAAAZvMFF4QgAAnqkwUXhC\"},\"shape\":[102],\"dtype\":\"float64\",\"order\":\"little\"}],[\"y\",{\"type\":\"ndarray\",\"array\":{\"type\":\"bytes\",\"data\":\"AAAAAADAV0AAAAAAAMBcQAAAAAAAwFZAAAAAAADAVEAAAAAAAEBUQAAAAAAAgFVAAAAAAADAVkAAAAAAAABWQAAAAAAAwFRAAAAAAADAVEAAAAAAAMBUQAAAAAAAAFVAAAAAAAAAVkAAAAAAAEBVQAAAAAAAQFVAAAAAAAAAVkAAAAAAAMBUQAAAAAAAwFJAAAAAAAAAUkAAAAAAAEBSQAAAAAAAAFNAAAAAAADAVEAAAAAAAEBUQAAAAAAAAFRAAAAAAACAVUAAAAAAAEBWQAAAAAAAwFdAAAAAAADAWEAAAAAAAIBYQAAAAAAAAFlAAAAAAACAWEAAAAAAAEBXQAAAAAAAwFdAAAAAAAAAWEAAAAAAAEBXQAAAAAAAQFZAAAAAAAAAVkAAAAAAAEBWQAAAAAAAwFZAAAAAAABAVkAAAAAAAABWQAAAAAAAQFZAAAAAAACAVkAAAAAAAMBWQAAAAAAAQFdAAAAAAACAV0AAAAAAAIBWQAAAAAAAgFZAAAAAAABAV0AAAAAAAIBXQAAAAAAAQFdAAAAAAABAV0AAAAAAAIBbQAAAAAAAQGFAAAAAAABAYkAAAAAAAEBgQAAAAAAAAFdAAAAAAADAVUAAAAAAAMBWQAAAAAAAgFhAAAAAAAAAWUAAAAAAAMBXQAAAAAAAAFdAAAAAAACAV0AAAAAAAMBXQAAAAAAAgFdAAAAAAACAV0AAAAAAAEBXQAAAAAAAwFZAAAAAAACAVkAAAAAAAMBWQAAAAAAAgFdAAAAAAAAAV0AAAAAAAIBWQAAAAAAAQFZAAAAAAADAVUAAAAAAAEBVQAAAAAAAwFZAAAAAAAAAWkAAAAAAAGBhQAAAAAAAoGVAAAAAAADAZkAAAAAAAGBjQAAAAAAAAFtAAAAAAADAWEAAAAAAAABbQAAAAAAAAFlAAAAAAAAAWkAAAAAAAMBWQAAAAAAAQFZAAAAAAAAAV0AAAAAAAEBXQAAAAAAAgFdAAAAAAADAV0AAAAAAAMBXQAAAAAAAwFdAAAAAAACAVkAAAAAAAMBVQAAAAAAAQFVAAAAAAAAAVUAAAAAAAEBXQAAAAAAAQFZA\"},\"shape\":[102],\"dtype\":\"float64\",\"order\":\"little\"}]]}}},\"view\":{\"type\":\"object\",\"name\":\"CDSView\",\"id\":\"p1729\",\"attributes\":{\"filter\":{\"type\":\"object\",\"name\":\"AllIndices\",\"id\":\"p1730\"}}},\"glyph\":{\"type\":\"object\",\"name\":\"Line\",\"id\":\"p1725\",\"attributes\":{\"x\":{\"type\":\"field\",\"field\":\"x\"},\"y\":{\"type\":\"field\",\"field\":\"y\"},\"line_color\":\"gray\",\"line_alpha\":0.5,\"line_width\":2}},\"nonselection_glyph\":{\"type\":\"object\",\"name\":\"Line\",\"id\":\"p1726\",\"attributes\":{\"x\":{\"type\":\"field\",\"field\":\"x\"},\"y\":{\"type\":\"field\",\"field\":\"y\"},\"line_color\":\"gray\",\"line_alpha\":0.1,\"line_width\":2}},\"muted_glyph\":{\"type\":\"object\",\"name\":\"Line\",\"id\":\"p1727\",\"attributes\":{\"x\":{\"type\":\"field\",\"field\":\"x\"},\"y\":{\"type\":\"field\",\"field\":\"y\"},\"line_color\":\"gray\",\"line_alpha\":0.2,\"line_width\":2}}}},{\"type\":\"object\",\"name\":\"GlyphRenderer\",\"id\":\"p1738\",\"attributes\":{\"data_source\":{\"type\":\"object\",\"name\":\"ColumnDataSource\",\"id\":\"p1732\",\"attributes\":{\"selected\":{\"type\":\"object\",\"name\":\"Selection\",\"id\":\"p1733\",\"attributes\":{\"indices\":[],\"line_indices\":[]}},\"selection_policy\":{\"type\":\"object\",\"name\":\"UnionRenderers\",\"id\":\"p1734\"},\"data\":{\"type\":\"map\",\"entries\":[[\"x\",{\"type\":\"ndarray\",\"array\":{\"type\":\"bytes\",\"data\":\"AABguiFReEIAAHxpC1F4QgAA+AngUHhCAABmwfZQeEI=\"},\"shape\":[4],\"dtype\":\"float64\",\"order\":\"little\"}],[\"y\",{\"type\":\"ndarray\",\"array\":{\"type\":\"bytes\",\"data\":\"AAAAAADAZkAAAAAAAEBiQAAAAAAAwFxAAAAAAAAAWUA=\"},\"shape\":[4],\"dtype\":\"float64\",\"order\":\"little\"}]]}}},\"view\":{\"type\":\"object\",\"name\":\"CDSView\",\"id\":\"p1739\",\"attributes\":{\"filter\":{\"type\":\"object\",\"name\":\"AllIndices\",\"id\":\"p1740\"}}},\"glyph\":{\"type\":\"object\",\"name\":\"Scatter\",\"id\":\"p1735\",\"attributes\":{\"x\":{\"type\":\"field\",\"field\":\"x\"},\"y\":{\"type\":\"field\",\"field\":\"y\"},\"size\":{\"type\":\"value\",\"value\":6},\"line_color\":{\"type\":\"value\",\"value\":\"darkblue\"},\"line_alpha\":{\"type\":\"value\",\"value\":0.7},\"fill_color\":{\"type\":\"value\",\"value\":\"darkblue\"},\"fill_alpha\":{\"type\":\"value\",\"value\":0.7},\"hatch_color\":{\"type\":\"value\",\"value\":\"darkblue\"},\"hatch_alpha\":{\"type\":\"value\",\"value\":0.7}}},\"nonselection_glyph\":{\"type\":\"object\",\"name\":\"Scatter\",\"id\":\"p1736\",\"attributes\":{\"x\":{\"type\":\"field\",\"field\":\"x\"},\"y\":{\"type\":\"field\",\"field\":\"y\"},\"size\":{\"type\":\"value\",\"value\":6},\"line_color\":{\"type\":\"value\",\"value\":\"darkblue\"},\"line_alpha\":{\"type\":\"value\",\"value\":0.1},\"fill_color\":{\"type\":\"value\",\"value\":\"darkblue\"},\"fill_alpha\":{\"type\":\"value\",\"value\":0.1},\"hatch_color\":{\"type\":\"value\",\"value\":\"darkblue\"},\"hatch_alpha\":{\"type\":\"value\",\"value\":0.1}}},\"muted_glyph\":{\"type\":\"object\",\"name\":\"Scatter\",\"id\":\"p1737\",\"attributes\":{\"x\":{\"type\":\"field\",\"field\":\"x\"},\"y\":{\"type\":\"field\",\"field\":\"y\"},\"size\":{\"type\":\"value\",\"value\":6},\"line_color\":{\"type\":\"value\",\"value\":\"darkblue\"},\"line_alpha\":{\"type\":\"value\",\"value\":0.2},\"fill_color\":{\"type\":\"value\",\"value\":\"darkblue\"},\"fill_alpha\":{\"type\":\"value\",\"value\":0.2},\"hatch_color\":{\"type\":\"value\",\"value\":\"darkblue\"},\"hatch_alpha\":{\"type\":\"value\",\"value\":0.2}}}}}],\"toolbar\":{\"type\":\"object\",\"name\":\"Toolbar\",\"id\":\"p1694\",\"attributes\":{\"tools\":[{\"type\":\"object\",\"name\":\"PanTool\",\"id\":\"p1719\"},{\"type\":\"object\",\"name\":\"WheelZoomTool\",\"id\":\"p1720\",\"attributes\":{\"dimensions\":\"width\",\"renderers\":\"auto\"}},{\"type\":\"object\",\"name\":\"WheelZoomTool\",\"id\":\"p1721\",\"attributes\":{\"dimensions\":\"height\",\"renderers\":\"auto\"}}],\"active_scroll\":{\"id\":\"p1720\"}}},\"left\":[{\"type\":\"object\",\"name\":\"LinearAxis\",\"id\":\"p1714\",\"attributes\":{\"ticker\":{\"type\":\"object\",\"name\":\"BasicTicker\",\"id\":\"p1715\",\"attributes\":{\"mantissas\":[1,2,5]}},\"formatter\":{\"type\":\"object\",\"name\":\"BasicTickFormatter\",\"id\":\"p1716\"},\"axis_label\":\"Glucose\",\"major_label_policy\":{\"type\":\"object\",\"name\":\"AllLabels\",\"id\":\"p1717\"}}}],\"above\":[{\"type\":\"object\",\"name\":\"DatetimeAxis\",\"id\":\"p1697\",\"attributes\":{\"ticker\":{\"type\":\"object\",\"name\":\"DatetimeTicker\",\"id\":\"p1698\",\"attributes\":{\"num_minor_ticks\":5,\"tickers\":[{\"type\":\"object\",\"name\":\"AdaptiveTicker\",\"id\":\"p1699\",\"attributes\":{\"num_minor_ticks\":0,\"mantissas\":[1,2,5],\"max_interval\":500.0}},{\"type\":\"object\",\"name\":\"AdaptiveTicker\",\"id\":\"p1700\",\"attributes\":{\"num_minor_ticks\":0,\"base\":60,\"mantissas\":[1,2,5,10,15,20,30],\"min_interval\":1000.0,\"max_interval\":1800000.0}},{\"type\":\"object\",\"name\":\"AdaptiveTicker\",\"id\":\"p1701\",\"attributes\":{\"num_minor_ticks\":0,\"base\":24,\"mantissas\":[1,2,4,6,8,12],\"min_interval\":3600000.0,\"max_interval\":43200000.0}},{\"type\":\"object\",\"name\":\"DaysTicker\",\"id\":\"p1702\",\"attributes\":{\"days\":[1,2,3,4,5,6,7,8,9,10,11,12,13,14,15,16,17,18,19,20,21,22,23,24,25,26,27,28,29,30,31]}},{\"type\":\"object\",\"name\":\"DaysTicker\",\"id\":\"p1703\",\"attributes\":{\"days\":[1,4,7,10,13,16,19,22,25,28]}},{\"type\":\"object\",\"name\":\"DaysTicker\",\"id\":\"p1704\",\"attributes\":{\"days\":[1,8,15,22]}},{\"type\":\"object\",\"name\":\"DaysTicker\",\"id\":\"p1705\",\"attributes\":{\"days\":[1,15]}},{\"type\":\"object\",\"name\":\"MonthsTicker\",\"id\":\"p1706\",\"attributes\":{\"months\":[0,1,2,3,4,5,6,7,8,9,10,11]}},{\"type\":\"object\",\"name\":\"MonthsTicker\",\"id\":\"p1707\",\"attributes\":{\"months\":[0,2,4,6,8,10]}},{\"type\":\"object\",\"name\":\"MonthsTicker\",\"id\":\"p1708\",\"attributes\":{\"months\":[0,4,8]}},{\"type\":\"object\",\"name\":\"MonthsTicker\",\"id\":\"p1709\",\"attributes\":{\"months\":[0,6]}},{\"type\":\"object\",\"name\":\"YearsTicker\",\"id\":\"p1710\"}]}},\"formatter\":{\"type\":\"object\",\"name\":\"DatetimeTickFormatter\",\"id\":\"p1711\"},\"axis_label\":\"Time\",\"major_label_policy\":{\"type\":\"object\",\"name\":\"AllLabels\",\"id\":\"p1712\"}}}],\"center\":[{\"type\":\"object\",\"name\":\"Grid\",\"id\":\"p1713\",\"attributes\":{\"axis\":{\"id\":\"p1697\"}}},{\"type\":\"object\",\"name\":\"Grid\",\"id\":\"p1718\",\"attributes\":{\"dimension\":1,\"axis\":{\"id\":\"p1714\"}}},{\"type\":\"object\",\"name\":\"Span\",\"id\":\"p1731\",\"attributes\":{\"location\":95.20588235294117,\"line_color\":\"red\"}},{\"type\":\"object\",\"name\":\"Span\",\"id\":\"p1741\",\"attributes\":{\"location\":1671019200000.0,\"dimension\":\"height\",\"line_color\":\"orange\",\"line_width\":2}},{\"type\":\"object\",\"name\":\"BoxAnnotation\",\"id\":\"p1742\",\"attributes\":{\"left\":1671019200000.0,\"right\":1671022800000.0,\"top\":{\"type\":\"object\",\"name\":\"Node\",\"id\":\"p1745\",\"attributes\":{\"target\":\"frame\",\"symbol\":\"top\"}},\"bottom\":{\"type\":\"object\",\"name\":\"Node\",\"id\":\"p1746\",\"attributes\":{\"target\":\"frame\",\"symbol\":\"bottom\"}},\"fill_color\":\"orange\",\"fill_alpha\":0.3}},{\"type\":\"object\",\"name\":\"Label\",\"id\":\"p1747\",\"attributes\":{\"text\":\"806.00\",\"text_color\":\"black\",\"text_font_size\":\"10pt\",\"background_fill_color\":\"white\",\"background_fill_alpha\":0.7,\"x\":1671019200000.0,\"y\":110,\"angle\":90,\"angle_units\":\"deg\"}},{\"type\":\"object\",\"name\":\"Span\",\"id\":\"p1748\",\"attributes\":{\"location\":1671040800000.0,\"dimension\":\"height\",\"line_color\":\"orange\",\"line_width\":2}},{\"type\":\"object\",\"name\":\"BoxAnnotation\",\"id\":\"p1749\",\"attributes\":{\"left\":1671040800000.0,\"right\":1671044400000.0,\"top\":{\"type\":\"object\",\"name\":\"Node\",\"id\":\"p1752\",\"attributes\":{\"target\":\"frame\",\"symbol\":\"top\"}},\"bottom\":{\"type\":\"object\",\"name\":\"Node\",\"id\":\"p1753\",\"attributes\":{\"target\":\"frame\",\"symbol\":\"bottom\"}},\"fill_color\":\"orange\",\"fill_alpha\":0.3}},{\"type\":\"object\",\"name\":\"Label\",\"id\":\"p1754\",\"attributes\":{\"text\":\"544.00\",\"text_color\":\"black\",\"text_font_size\":\"10pt\",\"background_fill_color\":\"white\",\"background_fill_alpha\":0.7,\"x\":1671040800000.0,\"y\":110,\"angle\":90,\"angle_units\":\"deg\"}}]}}]}};\n",
              "  const render_items = [{\"docid\":\"d67b4a36-8f98-4a61-86f2-fc804827bfb8\",\"roots\":{\"p1686\":\"b12cc99f-5d6f-41a3-bf80-dc56c2df2765\"},\"root_ids\":[\"p1686\"]}];\n",
              "  void root.Bokeh.embed.embed_items_notebook(docs_json, render_items);\n",
              "  }\n",
              "  if (root.Bokeh !== undefined) {\n",
              "    embed_document(root);\n",
              "  } else {\n",
              "    let attempts = 0;\n",
              "    const timer = setInterval(function(root) {\n",
              "      if (root.Bokeh !== undefined) {\n",
              "        clearInterval(timer);\n",
              "        embed_document(root);\n",
              "      } else {\n",
              "        attempts++;\n",
              "        if (attempts > 100) {\n",
              "          clearInterval(timer);\n",
              "          console.log(\"Bokeh: ERROR: Unable to run BokehJS code because BokehJS library is missing\");\n",
              "        }\n",
              "      }\n",
              "    }, 10, root)\n",
              "  }\n",
              "})(window);"
            ],
            "application/vnd.bokehjs_exec.v0+json": ""
          },
          "metadata": {
            "application/vnd.bokehjs_exec.v0+json": {
              "id": "p1686"
            }
          }
        },
        {
          "output_type": "stream",
          "name": "stdout",
          "text": [
            "\n",
            "\n",
            "\n"
          ]
        },
        {
          "output_type": "display_data",
          "data": {
            "text/html": [
              "\n",
              "  <div id=\"de70160b-8714-4c84-9cbe-c63a3fa8abbd\" data-root-id=\"p1759\" style=\"display: contents;\"></div>\n"
            ]
          },
          "metadata": {}
        },
        {
          "output_type": "display_data",
          "data": {
            "application/javascript": [
              "(function(root) {\n",
              "  function embed_document(root) {\n",
              "  const docs_json = {\"3b172b4b-e9f6-4eca-9a98-56e42a3b4857\":{\"version\":\"3.4.3\",\"title\":\"Bokeh Application\",\"roots\":[{\"type\":\"object\",\"name\":\"Figure\",\"id\":\"p1759\",\"attributes\":{\"height\":400,\"x_range\":{\"type\":\"object\",\"name\":\"DataRange1d\",\"id\":\"p1760\"},\"y_range\":{\"type\":\"object\",\"name\":\"DataRange1d\",\"id\":\"p1761\"},\"x_scale\":{\"type\":\"object\",\"name\":\"LinearScale\",\"id\":\"p1768\"},\"y_scale\":{\"type\":\"object\",\"name\":\"LinearScale\",\"id\":\"p1769\"},\"title\":{\"type\":\"object\",\"name\":\"Title\",\"id\":\"p1766\",\"attributes\":{\"text\":\"Day: 2022-12-15\",\"text_font_size\":\"20pt\",\"align\":\"center\"}},\"renderers\":[{\"type\":\"object\",\"name\":\"GlyphRenderer\",\"id\":\"p1801\",\"attributes\":{\"data_source\":{\"type\":\"object\",\"name\":\"ColumnDataSource\",\"id\":\"p1795\",\"attributes\":{\"selected\":{\"type\":\"object\",\"name\":\"Selection\",\"id\":\"p1796\",\"attributes\":{\"indices\":[],\"line_indices\":[]}},\"selection_policy\":{\"type\":\"object\",\"name\":\"UnionRenderers\",\"id\":\"p1797\"},\"data\":{\"type\":\"map\",\"entries\":[[\"x\",{\"type\":\"ndarray\",\"array\":{\"type\":\"bytes\",\"data\":\"AADASjFReEIAAHomMlF4QgAANAIzUXhCAADu3TNReEIAAKi5NFF4QgAAYpU1UXhCAAAccTZReEIAANZMN1F4QgAAkCg4UXhCAABKBDlReEIAAATgOVF4QgAAvrs6UXhCAAB4lztReEIAADJzPFF4QgAA7E49UXhCAACmKj5ReEIAAGAGP1F4QgAAGuI/UXhCAADUvUBReEIAAI6ZQVF4QgAASHVCUXhCAAACUUNReEIAALwsRFF4QgAAdghFUXhCAAAw5EVReEIAAJDORlF4QgAA/oxHUXhCAABKqkdReEIAAASGSFF4QgAAvmFJUXhCAAB4PUpReEIAADIZS1F4QgAA7PRLUXhCAACm0ExReEIAAGCsTVF4QgAAGohOUXhCAADUY09ReEIAAI4/UFF4QgAASBtRUXhCAAAC91FReEIAAHynVFF4QgAANoNVUXhCAADwXlZReEIAAKo6V1F4QgAAZBZYUXhCAAAe8lhReEIAANjNWVF4QgAAkqlaUXhCAABMhVtReEIAAAZhXFF4QgAAwDxdUXhCAAB6GF5ReEIAADT0XlF4QgAA7s9fUXhCAACoq2BReEIAAGKHYVF4QgAAHGNiUXhCAADWPmNReEIAAJAaZFF4QgAASvZkUXhCAAAE0mVReEIAAL6tZlF4QgAAeIlnUXhCAAAyZWhReEIAAOxAaVF4QgAAphxqUXhCAABg+GpReEIAABrUa1F4QgAA1K9sUXhCAACOi21ReEIAAEhnblF4QgAAXDRvUXhCAAAk5G9ReEIAABYQcFF4QgAA0OtwUXhCAACKx3FReEIAAOqxclF4QgAANs9yUXhCAACkjXNReEIAAF5pdFF4QgAAGEV1UXhCAADSIHZReEIAAIz8dlF4QgAARth3UXhCAAAAtHhReEIAALqPeVF4QgAAdGt6UXhCAABK73pReEIAAC5He1F4QgAA6CJ8UXhCAACi/nxReEIAAFzafVF4QgAAFrZ+UXhCAADQkX9ReEIAAIptgFF4QgAAREmBUXhCAACIi4JReEIAAKosg1F4Qg==\"},\"shape\":[98],\"dtype\":\"float64\",\"order\":\"little\"}],[\"y\",{\"type\":\"ndarray\",\"array\":{\"type\":\"bytes\",\"data\":\"AAAAAAAAWEAAAAAAAABVQAAAAAAAAFRAAAAAAADAU0AAAAAAAIBSQAAAAAAAwFJAAAAAAAAAVUAAAAAAAIBWQAAAAAAAwFVAAAAAAAAAVUAAAAAAAABVQAAAAAAAgFRAAAAAAACAVEAAAAAAAABVQAAAAAAAgFRAAAAAAACAUkAAAAAAAIBPQAAAAAAAgEtAAAAAAACATUAAAAAAAMBQQAAAAAAAQFNAAAAAAAAAVkAAAAAAAIBUQAAAAAAAgFRAAAAAAACAV0AAAAAAAABZQAAAAAAAQFpAAAAAAAAAWkAAAAAAAEBaQAAAAAAAQFhAAAAAAADAV0AAAAAAAIBXQAAAAAAAAFdAAAAAAACAVkAAAAAAAIBWQAAAAAAAgFZAAAAAAACAVkAAAAAAAIBWQAAAAAAAQFZAAAAAAABAVkAAAAAAAEBVQAAAAAAAQFVAAAAAAABAVUAAAAAAAABWQAAAAAAAgFZAAAAAAADAVkAAAAAAAMBWQAAAAAAAgFZAAAAAAACAV0AAAAAAAEBbQAAAAAAAwF9AAAAAAACAYEAAAAAAAABeQAAAAAAAwFpAAAAAAAAAWUAAAAAAAEBYQAAAAAAAAFhAAAAAAADAV0AAAAAAAMBXQAAAAAAAAFhAAAAAAAAAWEAAAAAAAABYQAAAAAAAwFdAAAAAAACAV0AAAAAAAMBWQAAAAAAAgFZAAAAAAACAVkAAAAAAAIBWQAAAAAAAwFVAAAAAAADAVUAAAAAAAMBWQAAAAAAAwFZAAAAAAADAUkAAAAAAAEBWQAAAAAAAwFdAAAAAAAAAXEAAAAAAAABhQAAAAAAAYGNAAAAAAADAX0AAAAAAAMBWQAAAAAAAQFRAAAAAAABAW0AAAAAAAEBgQAAAAAAAQGFAAAAAAAAAYUAAAAAAAMBfQAAAAAAAgFlAAAAAAACAWkAAAAAAAIBYQAAAAAAAAFdAAAAAAABAWEAAAAAAAABZQAAAAAAAQFlAAAAAAABAWUAAAAAAAIBYQAAAAAAAwFdAAAAAAABAVkAAAAAAAMBWQA==\"},\"shape\":[98],\"dtype\":\"float64\",\"order\":\"little\"}]]}}},\"view\":{\"type\":\"object\",\"name\":\"CDSView\",\"id\":\"p1802\",\"attributes\":{\"filter\":{\"type\":\"object\",\"name\":\"AllIndices\",\"id\":\"p1803\"}}},\"glyph\":{\"type\":\"object\",\"name\":\"Line\",\"id\":\"p1798\",\"attributes\":{\"x\":{\"type\":\"field\",\"field\":\"x\"},\"y\":{\"type\":\"field\",\"field\":\"y\"},\"line_color\":\"gray\",\"line_alpha\":0.5,\"line_width\":2}},\"nonselection_glyph\":{\"type\":\"object\",\"name\":\"Line\",\"id\":\"p1799\",\"attributes\":{\"x\":{\"type\":\"field\",\"field\":\"x\"},\"y\":{\"type\":\"field\",\"field\":\"y\"},\"line_color\":\"gray\",\"line_alpha\":0.1,\"line_width\":2}},\"muted_glyph\":{\"type\":\"object\",\"name\":\"Line\",\"id\":\"p1800\",\"attributes\":{\"x\":{\"type\":\"field\",\"field\":\"x\"},\"y\":{\"type\":\"field\",\"field\":\"y\"},\"line_color\":\"gray\",\"line_alpha\":0.2,\"line_width\":2}}}},{\"type\":\"object\",\"name\":\"GlyphRenderer\",\"id\":\"p1811\",\"attributes\":{\"data_source\":{\"type\":\"object\",\"name\":\"ColumnDataSource\",\"id\":\"p1805\",\"attributes\":{\"selected\":{\"type\":\"object\",\"name\":\"Selection\",\"id\":\"p1806\",\"attributes\":{\"indices\":[],\"line_indices\":[]}},\"selection_policy\":{\"type\":\"object\",\"name\":\"UnionRenderers\",\"id\":\"p1807\"},\"data\":{\"type\":\"map\",\"entries\":[[\"x\",{\"type\":\"ndarray\",\"array\":{\"type\":\"bytes\",\"data\":\"AAA2z3JReEIAAHoYXlF4QgAABIZIUXhC\"},\"shape\":[3],\"dtype\":\"float64\",\"order\":\"little\"}],[\"y\",{\"type\":\"ndarray\",\"array\":{\"type\":\"bytes\",\"data\":\"AAAAAABgY0AAAAAAAIBgQAAAAAAAQFpA\"},\"shape\":[3],\"dtype\":\"float64\",\"order\":\"little\"}]]}}},\"view\":{\"type\":\"object\",\"name\":\"CDSView\",\"id\":\"p1812\",\"attributes\":{\"filter\":{\"type\":\"object\",\"name\":\"AllIndices\",\"id\":\"p1813\"}}},\"glyph\":{\"type\":\"object\",\"name\":\"Scatter\",\"id\":\"p1808\",\"attributes\":{\"x\":{\"type\":\"field\",\"field\":\"x\"},\"y\":{\"type\":\"field\",\"field\":\"y\"},\"size\":{\"type\":\"value\",\"value\":6},\"line_color\":{\"type\":\"value\",\"value\":\"darkblue\"},\"line_alpha\":{\"type\":\"value\",\"value\":0.7},\"fill_color\":{\"type\":\"value\",\"value\":\"darkblue\"},\"fill_alpha\":{\"type\":\"value\",\"value\":0.7},\"hatch_color\":{\"type\":\"value\",\"value\":\"darkblue\"},\"hatch_alpha\":{\"type\":\"value\",\"value\":0.7}}},\"nonselection_glyph\":{\"type\":\"object\",\"name\":\"Scatter\",\"id\":\"p1809\",\"attributes\":{\"x\":{\"type\":\"field\",\"field\":\"x\"},\"y\":{\"type\":\"field\",\"field\":\"y\"},\"size\":{\"type\":\"value\",\"value\":6},\"line_color\":{\"type\":\"value\",\"value\":\"darkblue\"},\"line_alpha\":{\"type\":\"value\",\"value\":0.1},\"fill_color\":{\"type\":\"value\",\"value\":\"darkblue\"},\"fill_alpha\":{\"type\":\"value\",\"value\":0.1},\"hatch_color\":{\"type\":\"value\",\"value\":\"darkblue\"},\"hatch_alpha\":{\"type\":\"value\",\"value\":0.1}}},\"muted_glyph\":{\"type\":\"object\",\"name\":\"Scatter\",\"id\":\"p1810\",\"attributes\":{\"x\":{\"type\":\"field\",\"field\":\"x\"},\"y\":{\"type\":\"field\",\"field\":\"y\"},\"size\":{\"type\":\"value\",\"value\":6},\"line_color\":{\"type\":\"value\",\"value\":\"darkblue\"},\"line_alpha\":{\"type\":\"value\",\"value\":0.2},\"fill_color\":{\"type\":\"value\",\"value\":\"darkblue\"},\"fill_alpha\":{\"type\":\"value\",\"value\":0.2},\"hatch_color\":{\"type\":\"value\",\"value\":\"darkblue\"},\"hatch_alpha\":{\"type\":\"value\",\"value\":0.2}}}}}],\"toolbar\":{\"type\":\"object\",\"name\":\"Toolbar\",\"id\":\"p1767\",\"attributes\":{\"tools\":[{\"type\":\"object\",\"name\":\"PanTool\",\"id\":\"p1792\"},{\"type\":\"object\",\"name\":\"WheelZoomTool\",\"id\":\"p1793\",\"attributes\":{\"dimensions\":\"width\",\"renderers\":\"auto\"}},{\"type\":\"object\",\"name\":\"WheelZoomTool\",\"id\":\"p1794\",\"attributes\":{\"dimensions\":\"height\",\"renderers\":\"auto\"}}],\"active_scroll\":{\"id\":\"p1793\"}}},\"left\":[{\"type\":\"object\",\"name\":\"LinearAxis\",\"id\":\"p1787\",\"attributes\":{\"ticker\":{\"type\":\"object\",\"name\":\"BasicTicker\",\"id\":\"p1788\",\"attributes\":{\"mantissas\":[1,2,5]}},\"formatter\":{\"type\":\"object\",\"name\":\"BasicTickFormatter\",\"id\":\"p1789\"},\"axis_label\":\"Glucose\",\"major_label_policy\":{\"type\":\"object\",\"name\":\"AllLabels\",\"id\":\"p1790\"}}}],\"above\":[{\"type\":\"object\",\"name\":\"DatetimeAxis\",\"id\":\"p1770\",\"attributes\":{\"ticker\":{\"type\":\"object\",\"name\":\"DatetimeTicker\",\"id\":\"p1771\",\"attributes\":{\"num_minor_ticks\":5,\"tickers\":[{\"type\":\"object\",\"name\":\"AdaptiveTicker\",\"id\":\"p1772\",\"attributes\":{\"num_minor_ticks\":0,\"mantissas\":[1,2,5],\"max_interval\":500.0}},{\"type\":\"object\",\"name\":\"AdaptiveTicker\",\"id\":\"p1773\",\"attributes\":{\"num_minor_ticks\":0,\"base\":60,\"mantissas\":[1,2,5,10,15,20,30],\"min_interval\":1000.0,\"max_interval\":1800000.0}},{\"type\":\"object\",\"name\":\"AdaptiveTicker\",\"id\":\"p1774\",\"attributes\":{\"num_minor_ticks\":0,\"base\":24,\"mantissas\":[1,2,4,6,8,12],\"min_interval\":3600000.0,\"max_interval\":43200000.0}},{\"type\":\"object\",\"name\":\"DaysTicker\",\"id\":\"p1775\",\"attributes\":{\"days\":[1,2,3,4,5,6,7,8,9,10,11,12,13,14,15,16,17,18,19,20,21,22,23,24,25,26,27,28,29,30,31]}},{\"type\":\"object\",\"name\":\"DaysTicker\",\"id\":\"p1776\",\"attributes\":{\"days\":[1,4,7,10,13,16,19,22,25,28]}},{\"type\":\"object\",\"name\":\"DaysTicker\",\"id\":\"p1777\",\"attributes\":{\"days\":[1,8,15,22]}},{\"type\":\"object\",\"name\":\"DaysTicker\",\"id\":\"p1778\",\"attributes\":{\"days\":[1,15]}},{\"type\":\"object\",\"name\":\"MonthsTicker\",\"id\":\"p1779\",\"attributes\":{\"months\":[0,1,2,3,4,5,6,7,8,9,10,11]}},{\"type\":\"object\",\"name\":\"MonthsTicker\",\"id\":\"p1780\",\"attributes\":{\"months\":[0,2,4,6,8,10]}},{\"type\":\"object\",\"name\":\"MonthsTicker\",\"id\":\"p1781\",\"attributes\":{\"months\":[0,4,8]}},{\"type\":\"object\",\"name\":\"MonthsTicker\",\"id\":\"p1782\",\"attributes\":{\"months\":[0,6]}},{\"type\":\"object\",\"name\":\"YearsTicker\",\"id\":\"p1783\"}]}},\"formatter\":{\"type\":\"object\",\"name\":\"DatetimeTickFormatter\",\"id\":\"p1784\"},\"axis_label\":\"Time\",\"major_label_policy\":{\"type\":\"object\",\"name\":\"AllLabels\",\"id\":\"p1785\"}}}],\"center\":[{\"type\":\"object\",\"name\":\"Grid\",\"id\":\"p1786\",\"attributes\":{\"axis\":{\"id\":\"p1770\"}}},{\"type\":\"object\",\"name\":\"Grid\",\"id\":\"p1791\",\"attributes\":{\"dimension\":1,\"axis\":{\"id\":\"p1787\"}}},{\"type\":\"object\",\"name\":\"Span\",\"id\":\"p1804\",\"attributes\":{\"location\":94.38775510204081,\"line_color\":\"red\"}},{\"type\":\"object\",\"name\":\"Span\",\"id\":\"p1814\",\"attributes\":{\"location\":1671105600000.0,\"dimension\":\"height\",\"line_color\":\"orange\",\"line_width\":2}},{\"type\":\"object\",\"name\":\"BoxAnnotation\",\"id\":\"p1815\",\"attributes\":{\"left\":1671105600000.0,\"right\":1671109200000.0,\"top\":{\"type\":\"object\",\"name\":\"Node\",\"id\":\"p1818\",\"attributes\":{\"target\":\"frame\",\"symbol\":\"top\"}},\"bottom\":{\"type\":\"object\",\"name\":\"Node\",\"id\":\"p1819\",\"attributes\":{\"target\":\"frame\",\"symbol\":\"bottom\"}},\"fill_color\":\"orange\",\"fill_alpha\":0.3}},{\"type\":\"object\",\"name\":\"Label\",\"id\":\"p1820\",\"attributes\":{\"text\":\"728.00\",\"text_color\":\"black\",\"text_font_size\":\"10pt\",\"background_fill_color\":\"white\",\"background_fill_alpha\":0.7,\"x\":1671105600000.0,\"y\":110,\"angle\":90,\"angle_units\":\"deg\"}},{\"type\":\"object\",\"name\":\"Span\",\"id\":\"p1821\",\"attributes\":{\"location\":1671127200000.0,\"dimension\":\"height\",\"line_color\":\"orange\",\"line_width\":2}},{\"type\":\"object\",\"name\":\"BoxAnnotation\",\"id\":\"p1822\",\"attributes\":{\"left\":1671127200000.0,\"right\":1671130800000.0,\"top\":{\"type\":\"object\",\"name\":\"Node\",\"id\":\"p1825\",\"attributes\":{\"target\":\"frame\",\"symbol\":\"top\"}},\"bottom\":{\"type\":\"object\",\"name\":\"Node\",\"id\":\"p1826\",\"attributes\":{\"target\":\"frame\",\"symbol\":\"bottom\"}},\"fill_color\":\"orange\",\"fill_alpha\":0.3}},{\"type\":\"object\",\"name\":\"Label\",\"id\":\"p1827\",\"attributes\":{\"text\":\"544.00\",\"text_color\":\"black\",\"text_font_size\":\"10pt\",\"background_fill_color\":\"white\",\"background_fill_alpha\":0.7,\"x\":1671127200000.0,\"y\":110,\"angle\":90,\"angle_units\":\"deg\"}}]}}]}};\n",
              "  const render_items = [{\"docid\":\"3b172b4b-e9f6-4eca-9a98-56e42a3b4857\",\"roots\":{\"p1759\":\"de70160b-8714-4c84-9cbe-c63a3fa8abbd\"},\"root_ids\":[\"p1759\"]}];\n",
              "  void root.Bokeh.embed.embed_items_notebook(docs_json, render_items);\n",
              "  }\n",
              "  if (root.Bokeh !== undefined) {\n",
              "    embed_document(root);\n",
              "  } else {\n",
              "    let attempts = 0;\n",
              "    const timer = setInterval(function(root) {\n",
              "      if (root.Bokeh !== undefined) {\n",
              "        clearInterval(timer);\n",
              "        embed_document(root);\n",
              "      } else {\n",
              "        attempts++;\n",
              "        if (attempts > 100) {\n",
              "          clearInterval(timer);\n",
              "          console.log(\"Bokeh: ERROR: Unable to run BokehJS code because BokehJS library is missing\");\n",
              "        }\n",
              "      }\n",
              "    }, 10, root)\n",
              "  }\n",
              "})(window);"
            ],
            "application/vnd.bokehjs_exec.v0+json": ""
          },
          "metadata": {
            "application/vnd.bokehjs_exec.v0+json": {
              "id": "p1759"
            }
          }
        },
        {
          "output_type": "stream",
          "name": "stdout",
          "text": [
            "\n",
            "\n",
            "\n"
          ]
        },
        {
          "output_type": "display_data",
          "data": {
            "text/html": [
              "\n",
              "  <div id=\"f7400cfa-540b-4be1-b5fb-76c41af8d044\" data-root-id=\"p1832\" style=\"display: contents;\"></div>\n"
            ]
          },
          "metadata": {}
        },
        {
          "output_type": "display_data",
          "data": {
            "application/javascript": [
              "(function(root) {\n",
              "  function embed_document(root) {\n",
              "  const docs_json = {\"08edb0c9-7138-46d1-9101-d273ec5bebd2\":{\"version\":\"3.4.3\",\"title\":\"Bokeh Application\",\"roots\":[{\"type\":\"object\",\"name\":\"Figure\",\"id\":\"p1832\",\"attributes\":{\"height\":400,\"x_range\":{\"type\":\"object\",\"name\":\"DataRange1d\",\"id\":\"p1833\"},\"y_range\":{\"type\":\"object\",\"name\":\"DataRange1d\",\"id\":\"p1834\"},\"x_scale\":{\"type\":\"object\",\"name\":\"LinearScale\",\"id\":\"p1841\"},\"y_scale\":{\"type\":\"object\",\"name\":\"LinearScale\",\"id\":\"p1842\"},\"title\":{\"type\":\"object\",\"name\":\"Title\",\"id\":\"p1839\",\"attributes\":{\"text\":\"Day: 2022-12-16\",\"text_font_size\":\"20pt\",\"align\":\"center\"}},\"renderers\":[{\"type\":\"object\",\"name\":\"GlyphRenderer\",\"id\":\"p1874\",\"attributes\":{\"data_source\":{\"type\":\"object\",\"name\":\"ColumnDataSource\",\"id\":\"p1868\",\"attributes\":{\"selected\":{\"type\":\"object\",\"name\":\"Selection\",\"id\":\"p1869\",\"attributes\":{\"indices\":[],\"line_indices\":[]}},\"selection_policy\":{\"type\":\"object\",\"name\":\"UnionRenderers\",\"id\":\"p1870\"},\"data\":{\"type\":\"map\",\"entries\":[[\"x\",{\"type\":\"ndarray\",\"array\":{\"type\":\"bytes\",\"data\":\"AABkCIRReEIAAB7khFF4QgAA2L+FUXhCAACSm4ZReEIAAEx3h1F4QgAABlOIUXhCAADALolReEIAAHoKilF4QgAANOaKUXhCAADuwYtReEIAAKidjFF4QgAAYnmNUXhCAAAcVY5ReEIAANYwj1F4QgAAkAyQUXhCAABK6JBReEIAAATEkVF4QgAAvp+SUXhCAAB4e5NReEIAADJXlFF4QgAA7DKVUXhCAACmDpZReEIAAGDqllF4QgAAGsaXUXhCAADUoZhReEIAAI59mVF4QgAASFmaUXhCAAACNZtReEIAALwQnFF4QgAAduycUXhCAADqo55ReEIAAKR/n1F4QgAAXlugUXhCAAAYN6FReEIAANISolF4QgAAjO6iUXhCAABGyqNReEIAAACmpFF4QgAAprSkUXhCAABgkKVReEIAABpsplF4QgAA1EenUXhCAACOI6hReEIAAEj/qFF4QgAAAtupUXhCAAC8tqpReEIAAHaSq1F4QgAAMG6sUXhCAADqSa1ReEIAAKQlrlF4QgAAXgGvUXhCAAAY3a9ReEIAANK4sFF4QgAAjJSxUXhCAABGcLJReEIAAABMs1F4QgAAuie0UXhCAAB0A7VReEIAAC7ftVF4QgAA6Lq2UXhCAACilrdReEIAAFxyuFF4QgAA7NG5UXhCAACQ/rtReEIAAEravFF4QgAABLa9UXhCAAC+kb5ReEIAAHhtv1F4QgAAMknAUXhCAADsJMFReEIAAKYAwlF4QgAAYNzCUXhCAAAauMNReEIAANSTxFF4QgAAjm/FUXhCAABIS8ZReEIAAAInx1F4QgAAvALIUXhCAAB23shReEIAADC6yVF4QgAA6pXKUXhCAACkcctReEIAAF5NzFF4QgAAGCnNUXhCAADSBM5ReEIAAIzgzlF4QgAARrzPUXhCAAAAmNBReEIAALpz0VF4QgAAdE/SUXhCAAAuK9NReEIAAOgG1FF4QgAAouLUUXhCAABcvtVReEI=\"},\"shape\":[94],\"dtype\":\"float64\",\"order\":\"little\"}],[\"y\",{\"type\":\"ndarray\",\"array\":{\"type\":\"bytes\",\"data\":\"AAAAAADAVUAAAAAAAEBVQAAAAAAAAFVAAAAAAAAAVUAAAAAAAIBVQAAAAAAAQFZAAAAAAACAV0AAAAAAAIBYQAAAAAAAAFlAAAAAAACAWEAAAAAAAEBXQAAAAAAAwFVAAAAAAACAVEAAAAAAAEBUQAAAAAAAwFRAAAAAAADAVEAAAAAAAEBVQAAAAAAAgFZAAAAAAABAV0AAAAAAAEBXQAAAAAAAQFdAAAAAAADAV0AAAAAAAMBXQAAAAAAAAFdAAAAAAABAV0AAAAAAAIBXQAAAAAAAQFdAAAAAAADAV0AAAAAAAEBZQAAAAAAAgFlAAAAAAABAWkAAAAAAAEBcQAAAAAAAwFxAAAAAAADAWUAAAAAAAEBZQAAAAAAAgFlAAAAAAAAAWUAAAAAAAEBbQAAAAAAAQFlAAAAAAACAV0AAAAAAAMBVQAAAAAAAgFVAAAAAAAAAV0AAAAAAAABYQAAAAAAAgFdAAAAAAADAV0AAAAAAAABYQAAAAAAAgFdAAAAAAACAV0AAAAAAAEBXQAAAAAAAAFhAAAAAAADAW0AAAAAAAEBfQAAAAAAAwF5AAAAAAABAXkAAAAAAAABfQAAAAAAAwF1AAAAAAAAAW0AAAAAAAEBZQAAAAAAAwFdAAAAAAADAVkAAAAAAAIBWQAAAAAAAwFVAAAAAAAAAVkAAAAAAAABWQAAAAAAAAFZAAAAAAADAVUAAAAAAAEBWQAAAAAAAAFhAAAAAAAAAWUAAAAAAAABYQAAAAAAAQFdAAAAAAACAVkAAAAAAAABYQAAAAAAAQF1AAAAAAACgYUAAAAAAAKBjQAAAAAAAIGNAAAAAAADgYUAAAAAAAEBhQAAAAAAAoGFAAAAAAABAYkAAAAAAAMBfQAAAAAAAAFlAAAAAAACAWEAAAAAAAMBaQAAAAAAAwFxAAAAAAAAAXkAAAAAAAEBeQAAAAAAAAF5AAAAAAACAXEAAAAAAAIBdQAAAAAAAQF9AAAAAAADAX0A=\"},\"shape\":[94],\"dtype\":\"float64\",\"order\":\"little\"}]]}}},\"view\":{\"type\":\"object\",\"name\":\"CDSView\",\"id\":\"p1875\",\"attributes\":{\"filter\":{\"type\":\"object\",\"name\":\"AllIndices\",\"id\":\"p1876\"}}},\"glyph\":{\"type\":\"object\",\"name\":\"Line\",\"id\":\"p1871\",\"attributes\":{\"x\":{\"type\":\"field\",\"field\":\"x\"},\"y\":{\"type\":\"field\",\"field\":\"y\"},\"line_color\":\"gray\",\"line_alpha\":0.5,\"line_width\":2}},\"nonselection_glyph\":{\"type\":\"object\",\"name\":\"Line\",\"id\":\"p1872\",\"attributes\":{\"x\":{\"type\":\"field\",\"field\":\"x\"},\"y\":{\"type\":\"field\",\"field\":\"y\"},\"line_color\":\"gray\",\"line_alpha\":0.1,\"line_width\":2}},\"muted_glyph\":{\"type\":\"object\",\"name\":\"Line\",\"id\":\"p1873\",\"attributes\":{\"x\":{\"type\":\"field\",\"field\":\"x\"},\"y\":{\"type\":\"field\",\"field\":\"y\"},\"line_color\":\"gray\",\"line_alpha\":0.2,\"line_width\":2}}}},{\"type\":\"object\",\"name\":\"GlyphRenderer\",\"id\":\"p1884\",\"attributes\":{\"data_source\":{\"type\":\"object\",\"name\":\"ColumnDataSource\",\"id\":\"p1878\",\"attributes\":{\"selected\":{\"type\":\"object\",\"name\":\"Selection\",\"id\":\"p1879\",\"attributes\":{\"indices\":[],\"line_indices\":[]}},\"selection_policy\":{\"type\":\"object\",\"name\":\"UnionRenderers\",\"id\":\"p1880\"},\"data\":{\"type\":\"map\",\"entries\":[[\"x\",{\"type\":\"ndarray\",\"array\":{\"type\":\"bytes\",\"data\":\"AAACJ8dReEIAANK4sFF4QgAAXlugUXhCAAA05opReEI=\"},\"shape\":[4],\"dtype\":\"float64\",\"order\":\"little\"}],[\"y\",{\"type\":\"ndarray\",\"array\":{\"type\":\"bytes\",\"data\":\"AAAAAACgY0AAAAAAAEBfQAAAAAAAwFxAAAAAAAAAWUA=\"},\"shape\":[4],\"dtype\":\"float64\",\"order\":\"little\"}]]}}},\"view\":{\"type\":\"object\",\"name\":\"CDSView\",\"id\":\"p1885\",\"attributes\":{\"filter\":{\"type\":\"object\",\"name\":\"AllIndices\",\"id\":\"p1886\"}}},\"glyph\":{\"type\":\"object\",\"name\":\"Scatter\",\"id\":\"p1881\",\"attributes\":{\"x\":{\"type\":\"field\",\"field\":\"x\"},\"y\":{\"type\":\"field\",\"field\":\"y\"},\"size\":{\"type\":\"value\",\"value\":6},\"line_color\":{\"type\":\"value\",\"value\":\"darkblue\"},\"line_alpha\":{\"type\":\"value\",\"value\":0.7},\"fill_color\":{\"type\":\"value\",\"value\":\"darkblue\"},\"fill_alpha\":{\"type\":\"value\",\"value\":0.7},\"hatch_color\":{\"type\":\"value\",\"value\":\"darkblue\"},\"hatch_alpha\":{\"type\":\"value\",\"value\":0.7}}},\"nonselection_glyph\":{\"type\":\"object\",\"name\":\"Scatter\",\"id\":\"p1882\",\"attributes\":{\"x\":{\"type\":\"field\",\"field\":\"x\"},\"y\":{\"type\":\"field\",\"field\":\"y\"},\"size\":{\"type\":\"value\",\"value\":6},\"line_color\":{\"type\":\"value\",\"value\":\"darkblue\"},\"line_alpha\":{\"type\":\"value\",\"value\":0.1},\"fill_color\":{\"type\":\"value\",\"value\":\"darkblue\"},\"fill_alpha\":{\"type\":\"value\",\"value\":0.1},\"hatch_color\":{\"type\":\"value\",\"value\":\"darkblue\"},\"hatch_alpha\":{\"type\":\"value\",\"value\":0.1}}},\"muted_glyph\":{\"type\":\"object\",\"name\":\"Scatter\",\"id\":\"p1883\",\"attributes\":{\"x\":{\"type\":\"field\",\"field\":\"x\"},\"y\":{\"type\":\"field\",\"field\":\"y\"},\"size\":{\"type\":\"value\",\"value\":6},\"line_color\":{\"type\":\"value\",\"value\":\"darkblue\"},\"line_alpha\":{\"type\":\"value\",\"value\":0.2},\"fill_color\":{\"type\":\"value\",\"value\":\"darkblue\"},\"fill_alpha\":{\"type\":\"value\",\"value\":0.2},\"hatch_color\":{\"type\":\"value\",\"value\":\"darkblue\"},\"hatch_alpha\":{\"type\":\"value\",\"value\":0.2}}}}}],\"toolbar\":{\"type\":\"object\",\"name\":\"Toolbar\",\"id\":\"p1840\",\"attributes\":{\"tools\":[{\"type\":\"object\",\"name\":\"PanTool\",\"id\":\"p1865\"},{\"type\":\"object\",\"name\":\"WheelZoomTool\",\"id\":\"p1866\",\"attributes\":{\"dimensions\":\"width\",\"renderers\":\"auto\"}},{\"type\":\"object\",\"name\":\"WheelZoomTool\",\"id\":\"p1867\",\"attributes\":{\"dimensions\":\"height\",\"renderers\":\"auto\"}}],\"active_scroll\":{\"id\":\"p1866\"}}},\"left\":[{\"type\":\"object\",\"name\":\"LinearAxis\",\"id\":\"p1860\",\"attributes\":{\"ticker\":{\"type\":\"object\",\"name\":\"BasicTicker\",\"id\":\"p1861\",\"attributes\":{\"mantissas\":[1,2,5]}},\"formatter\":{\"type\":\"object\",\"name\":\"BasicTickFormatter\",\"id\":\"p1862\"},\"axis_label\":\"Glucose\",\"major_label_policy\":{\"type\":\"object\",\"name\":\"AllLabels\",\"id\":\"p1863\"}}}],\"above\":[{\"type\":\"object\",\"name\":\"DatetimeAxis\",\"id\":\"p1843\",\"attributes\":{\"ticker\":{\"type\":\"object\",\"name\":\"DatetimeTicker\",\"id\":\"p1844\",\"attributes\":{\"num_minor_ticks\":5,\"tickers\":[{\"type\":\"object\",\"name\":\"AdaptiveTicker\",\"id\":\"p1845\",\"attributes\":{\"num_minor_ticks\":0,\"mantissas\":[1,2,5],\"max_interval\":500.0}},{\"type\":\"object\",\"name\":\"AdaptiveTicker\",\"id\":\"p1846\",\"attributes\":{\"num_minor_ticks\":0,\"base\":60,\"mantissas\":[1,2,5,10,15,20,30],\"min_interval\":1000.0,\"max_interval\":1800000.0}},{\"type\":\"object\",\"name\":\"AdaptiveTicker\",\"id\":\"p1847\",\"attributes\":{\"num_minor_ticks\":0,\"base\":24,\"mantissas\":[1,2,4,6,8,12],\"min_interval\":3600000.0,\"max_interval\":43200000.0}},{\"type\":\"object\",\"name\":\"DaysTicker\",\"id\":\"p1848\",\"attributes\":{\"days\":[1,2,3,4,5,6,7,8,9,10,11,12,13,14,15,16,17,18,19,20,21,22,23,24,25,26,27,28,29,30,31]}},{\"type\":\"object\",\"name\":\"DaysTicker\",\"id\":\"p1849\",\"attributes\":{\"days\":[1,4,7,10,13,16,19,22,25,28]}},{\"type\":\"object\",\"name\":\"DaysTicker\",\"id\":\"p1850\",\"attributes\":{\"days\":[1,8,15,22]}},{\"type\":\"object\",\"name\":\"DaysTicker\",\"id\":\"p1851\",\"attributes\":{\"days\":[1,15]}},{\"type\":\"object\",\"name\":\"MonthsTicker\",\"id\":\"p1852\",\"attributes\":{\"months\":[0,1,2,3,4,5,6,7,8,9,10,11]}},{\"type\":\"object\",\"name\":\"MonthsTicker\",\"id\":\"p1853\",\"attributes\":{\"months\":[0,2,4,6,8,10]}},{\"type\":\"object\",\"name\":\"MonthsTicker\",\"id\":\"p1854\",\"attributes\":{\"months\":[0,4,8]}},{\"type\":\"object\",\"name\":\"MonthsTicker\",\"id\":\"p1855\",\"attributes\":{\"months\":[0,6]}},{\"type\":\"object\",\"name\":\"YearsTicker\",\"id\":\"p1856\"}]}},\"formatter\":{\"type\":\"object\",\"name\":\"DatetimeTickFormatter\",\"id\":\"p1857\"},\"axis_label\":\"Time\",\"major_label_policy\":{\"type\":\"object\",\"name\":\"AllLabels\",\"id\":\"p1858\"}}}],\"center\":[{\"type\":\"object\",\"name\":\"Grid\",\"id\":\"p1859\",\"attributes\":{\"axis\":{\"id\":\"p1843\"}}},{\"type\":\"object\",\"name\":\"Grid\",\"id\":\"p1864\",\"attributes\":{\"dimension\":1,\"axis\":{\"id\":\"p1860\"}}},{\"type\":\"object\",\"name\":\"Span\",\"id\":\"p1877\",\"attributes\":{\"location\":102.42553191489361,\"line_color\":\"red\"}},{\"type\":\"object\",\"name\":\"Span\",\"id\":\"p1887\",\"attributes\":{\"location\":1671177600000.0,\"dimension\":\"height\",\"line_color\":\"orange\",\"line_width\":2}},{\"type\":\"object\",\"name\":\"BoxAnnotation\",\"id\":\"p1888\",\"attributes\":{\"left\":1671177600000.0,\"right\":1671181200000.0,\"top\":{\"type\":\"object\",\"name\":\"Node\",\"id\":\"p1891\",\"attributes\":{\"target\":\"frame\",\"symbol\":\"top\"}},\"bottom\":{\"type\":\"object\",\"name\":\"Node\",\"id\":\"p1892\",\"attributes\":{\"target\":\"frame\",\"symbol\":\"bottom\"}},\"fill_color\":\"orange\",\"fill_alpha\":0.3}},{\"type\":\"object\",\"name\":\"Label\",\"id\":\"p1893\",\"attributes\":{\"text\":\"292.00\",\"text_color\":\"black\",\"text_font_size\":\"10pt\",\"background_fill_color\":\"white\",\"background_fill_alpha\":0.7,\"x\":1671177600000.0,\"y\":110,\"angle\":90,\"angle_units\":\"deg\"}},{\"type\":\"object\",\"name\":\"Span\",\"id\":\"p1894\",\"attributes\":{\"location\":1671192000000.0,\"dimension\":\"height\",\"line_color\":\"orange\",\"line_width\":2}},{\"type\":\"object\",\"name\":\"BoxAnnotation\",\"id\":\"p1895\",\"attributes\":{\"left\":1671192000000.0,\"right\":1671195600000.0,\"top\":{\"type\":\"object\",\"name\":\"Node\",\"id\":\"p1898\",\"attributes\":{\"target\":\"frame\",\"symbol\":\"top\"}},\"bottom\":{\"type\":\"object\",\"name\":\"Node\",\"id\":\"p1899\",\"attributes\":{\"target\":\"frame\",\"symbol\":\"bottom\"}},\"fill_color\":\"orange\",\"fill_alpha\":0.3}},{\"type\":\"object\",\"name\":\"Label\",\"id\":\"p1900\",\"attributes\":{\"text\":\"806.00\",\"text_color\":\"black\",\"text_font_size\":\"10pt\",\"background_fill_color\":\"white\",\"background_fill_alpha\":0.7,\"x\":1671192000000.0,\"y\":110,\"angle\":90,\"angle_units\":\"deg\"}},{\"type\":\"object\",\"name\":\"Span\",\"id\":\"p1901\",\"attributes\":{\"location\":1671213600000.0,\"dimension\":\"height\",\"line_color\":\"orange\",\"line_width\":2}},{\"type\":\"object\",\"name\":\"BoxAnnotation\",\"id\":\"p1902\",\"attributes\":{\"left\":1671213600000.0,\"right\":1671217200000.0,\"top\":{\"type\":\"object\",\"name\":\"Node\",\"id\":\"p1905\",\"attributes\":{\"target\":\"frame\",\"symbol\":\"top\"}},\"bottom\":{\"type\":\"object\",\"name\":\"Node\",\"id\":\"p1906\",\"attributes\":{\"target\":\"frame\",\"symbol\":\"bottom\"}},\"fill_color\":\"orange\",\"fill_alpha\":0.3}},{\"type\":\"object\",\"name\":\"Label\",\"id\":\"p1907\",\"attributes\":{\"text\":\"641.00\",\"text_color\":\"black\",\"text_font_size\":\"10pt\",\"background_fill_color\":\"white\",\"background_fill_alpha\":0.7,\"x\":1671213600000.0,\"y\":110,\"angle\":90,\"angle_units\":\"deg\"}}]}}]}};\n",
              "  const render_items = [{\"docid\":\"08edb0c9-7138-46d1-9101-d273ec5bebd2\",\"roots\":{\"p1832\":\"f7400cfa-540b-4be1-b5fb-76c41af8d044\"},\"root_ids\":[\"p1832\"]}];\n",
              "  void root.Bokeh.embed.embed_items_notebook(docs_json, render_items);\n",
              "  }\n",
              "  if (root.Bokeh !== undefined) {\n",
              "    embed_document(root);\n",
              "  } else {\n",
              "    let attempts = 0;\n",
              "    const timer = setInterval(function(root) {\n",
              "      if (root.Bokeh !== undefined) {\n",
              "        clearInterval(timer);\n",
              "        embed_document(root);\n",
              "      } else {\n",
              "        attempts++;\n",
              "        if (attempts > 100) {\n",
              "          clearInterval(timer);\n",
              "          console.log(\"Bokeh: ERROR: Unable to run BokehJS code because BokehJS library is missing\");\n",
              "        }\n",
              "      }\n",
              "    }, 10, root)\n",
              "  }\n",
              "})(window);"
            ],
            "application/vnd.bokehjs_exec.v0+json": ""
          },
          "metadata": {
            "application/vnd.bokehjs_exec.v0+json": {
              "id": "p1832"
            }
          }
        },
        {
          "output_type": "stream",
          "name": "stdout",
          "text": [
            "\n",
            "\n",
            "\n"
          ]
        },
        {
          "output_type": "display_data",
          "data": {
            "text/html": [
              "\n",
              "  <div id=\"e37699b7-d814-4afa-ac85-b33dd13d61c1\" data-root-id=\"p1912\" style=\"display: contents;\"></div>\n"
            ]
          },
          "metadata": {}
        },
        {
          "output_type": "display_data",
          "data": {
            "application/javascript": [
              "(function(root) {\n",
              "  function embed_document(root) {\n",
              "  const docs_json = {\"c787f445-70e6-4887-a2a3-1baa751f28d7\":{\"version\":\"3.4.3\",\"title\":\"Bokeh Application\",\"roots\":[{\"type\":\"object\",\"name\":\"Figure\",\"id\":\"p1912\",\"attributes\":{\"height\":400,\"x_range\":{\"type\":\"object\",\"name\":\"DataRange1d\",\"id\":\"p1913\"},\"y_range\":{\"type\":\"object\",\"name\":\"DataRange1d\",\"id\":\"p1914\"},\"x_scale\":{\"type\":\"object\",\"name\":\"LinearScale\",\"id\":\"p1921\"},\"y_scale\":{\"type\":\"object\",\"name\":\"LinearScale\",\"id\":\"p1922\"},\"title\":{\"type\":\"object\",\"name\":\"Title\",\"id\":\"p1919\",\"attributes\":{\"text\":\"Day: 2022-12-17\",\"text_font_size\":\"20pt\",\"align\":\"center\"}},\"renderers\":[{\"type\":\"object\",\"name\":\"GlyphRenderer\",\"id\":\"p1954\",\"attributes\":{\"data_source\":{\"type\":\"object\",\"name\":\"ColumnDataSource\",\"id\":\"p1948\",\"attributes\":{\"selected\":{\"type\":\"object\",\"name\":\"Selection\",\"id\":\"p1949\",\"attributes\":{\"indices\":[],\"line_indices\":[]}},\"selection_policy\":{\"type\":\"object\",\"name\":\"UnionRenderers\",\"id\":\"p1950\"},\"data\":{\"type\":\"map\",\"entries\":[[\"x\",{\"type\":\"ndarray\",\"array\":{\"type\":\"bytes\",\"data\":\"AAC8qNZReEIAAByT11F4QgAA1m7YUXhCAACQStlReEIAAEom2lF4QgAABALbUXhCAAC+3dtReEIAAHi53FF4QgAAMpXdUXhCAADscN5ReEIAAKZM31F4QgAAYCjgUXhCAAAaBOFReEIAANTf4VF4QgAAjrviUXhCAABIl+NReEIAAAJz5FF4QgAAvE7lUXhCAAB2KuZReEIAADAG51F4QgAA6uHnUXhCAACkvehReEIAAF6Z6VF4QgAAGHXqUXhCAADSUOtReEIAAIws7FF4QgAARgjtUXhCAAAA5O1ReEIAALq/7lF4QgAAdJvvUXhCAAAud/BReEIAAOhS8VF4QgAAoi7yUXhCAAA6afJReEIAAFwK81F4QgAAFubzUXhCAADQwfRReEIAAIqd9VF4QgAA+Fv2UXhCAABEefZReEIAAILC9lF4QgAA/lT3UXhCAAC4MPhReEIAAHIM+VF4QgAALOj5UXhCAADmw/pReEIAAKCf+1F4QgAAAIr8UXhCAADytfxReEIAALpl/VF4QgAAdEH+UXhCAAAuHf9ReEIAAOj4/1F4QgAAotQAUnhCAABcsAFSeEIAABaMAlJ4QgAA0GcDUnhCAACKQwRSeEIAAEQfBVJ4QgAA/voFUnhCAAC41gZSeEIAAHKyB1J4QgAALI4IUnhCAADmaQlSeEIAAKBFClJ4QgAAWiELUnhCAABgGgxSeEIAAJ5jDFJ4QgAAGvYMUnhCAADU0Q1SeEIAAI6tDlJ4QgAASIkPUnhCAAACZRBSeEIAALxAEVJ4QgAAdhwSUnhCAAAw+BJSeEIAAOrTE1J4QgAApK8UUnhCAABeixVSeEIAABhnFlJ4QgAA0kIXUnhCAACMHhhSeEIAAEb6GFJ4QgAAANYZUnhCAAC6sRpSeEIAAHSNG1J4QgAALmkcUnhCAADoRB1SeEIAAPwRHlJ4QgAAFtgfUnhCAADsWyBSeEIAANCzIFJ4QgAAio8hUnhCAABEayJSeEIAAP5GI1J4QgAAuCIkUnhCAABy/iRSeEIAACzaJVJ4QgAA5rUmUnhCAADsridSeEIAADjMJ1J4Qg==\"},\"shape\":[101],\"dtype\":\"float64\",\"order\":\"little\"}],[\"y\",{\"type\":\"ndarray\",\"array\":{\"type\":\"bytes\",\"data\":\"AAAAAACAXkAAAAAAAIBcQAAAAAAAAFtAAAAAAACAWkAAAAAAAABZQAAAAAAAwFZAAAAAAABAVkAAAAAAAIBWQAAAAAAAQFZAAAAAAADAVUAAAAAAAMBVQAAAAAAAAFVAAAAAAABAU0AAAAAAAABUQAAAAAAAwFVAAAAAAACAVUAAAAAAAEBVQAAAAAAAgFVAAAAAAADAVUAAAAAAAEBWQAAAAAAAgFZAAAAAAABAV0AAAAAAAIBXQAAAAAAAAFdAAAAAAAAAV0AAAAAAAIBWQAAAAAAAwFZAAAAAAAAAV0AAAAAAAIBXQAAAAAAAgFdAAAAAAACAV0AAAAAAAABYQAAAAAAAAFpAAAAAAAAAWUAAAAAAAIBaQAAAAAAAAFpAAAAAAACAWUAAAAAAAIBYQAAAAAAAgFlAAAAAAADAV0AAAAAAAABaQAAAAAAAwFdAAAAAAACAWEAAAAAAAABZQAAAAAAAwFdAAAAAAADAVkAAAAAAAIBXQAAAAAAAQFhAAAAAAACAWUAAAAAAAMBXQAAAAAAAAFhAAAAAAAAAWEAAAAAAAIBXQAAAAAAAwFdAAAAAAACAWUAAAAAAAIBaQAAAAAAAgFpAAAAAAACAWkAAAAAAAABaQAAAAAAAAFlAAAAAAACAWUAAAAAAAIBaQAAAAAAAwFlAAAAAAADAWUAAAAAAAMBaQAAAAAAAgFtAAAAAAADAW0AAAAAAAIBbQAAAAAAAAF5AAAAAAACAXUAAAAAAAIBXQAAAAAAAQFVAAAAAAADAVkAAAAAAAMBWQAAAAAAAQFhAAAAAAAAAWkAAAAAAAMBZQAAAAAAAAFlAAAAAAABAWEAAAAAAAABZQAAAAAAAAFpAAAAAAADAWkAAAAAAAABeQAAAAAAA4GBAAAAAAACAYEAAAAAAAMBdQAAAAAAAQFtAAAAAAADAWUAAAAAAAIBZQAAAAAAAgFpAAAAAAABAXkAAAAAAAABcQAAAAAAAwF5AAAAAAAAAXUAAAAAAAEBcQAAAAAAAQF1AAAAAAAAAXUAAAAAAAEBdQAAAAAAAwFxAAAAAAAAAWkAAAAAAAMBZQA==\"},\"shape\":[101],\"dtype\":\"float64\",\"order\":\"little\"}]]}}},\"view\":{\"type\":\"object\",\"name\":\"CDSView\",\"id\":\"p1955\",\"attributes\":{\"filter\":{\"type\":\"object\",\"name\":\"AllIndices\",\"id\":\"p1956\"}}},\"glyph\":{\"type\":\"object\",\"name\":\"Line\",\"id\":\"p1951\",\"attributes\":{\"x\":{\"type\":\"field\",\"field\":\"x\"},\"y\":{\"type\":\"field\",\"field\":\"y\"},\"line_color\":\"gray\",\"line_alpha\":0.5,\"line_width\":2}},\"nonselection_glyph\":{\"type\":\"object\",\"name\":\"Line\",\"id\":\"p1952\",\"attributes\":{\"x\":{\"type\":\"field\",\"field\":\"x\"},\"y\":{\"type\":\"field\",\"field\":\"y\"},\"line_color\":\"gray\",\"line_alpha\":0.1,\"line_width\":2}},\"muted_glyph\":{\"type\":\"object\",\"name\":\"Line\",\"id\":\"p1953\",\"attributes\":{\"x\":{\"type\":\"field\",\"field\":\"x\"},\"y\":{\"type\":\"field\",\"field\":\"y\"},\"line_color\":\"gray\",\"line_alpha\":0.2,\"line_width\":2}}}},{\"type\":\"object\",\"name\":\"GlyphRenderer\",\"id\":\"p1964\",\"attributes\":{\"data_source\":{\"type\":\"object\",\"name\":\"ColumnDataSource\",\"id\":\"p1958\",\"attributes\":{\"selected\":{\"type\":\"object\",\"name\":\"Selection\",\"id\":\"p1959\",\"attributes\":{\"indices\":[],\"line_indices\":[]}},\"selection_policy\":{\"type\":\"object\",\"name\":\"UnionRenderers\",\"id\":\"p1960\"},\"data\":{\"type\":\"map\",\"entries\":[[\"x\",{\"type\":\"ndarray\",\"array\":{\"type\":\"bytes\",\"data\":\"AAAa9gxSeEIAAADWGVJ4QgAAXArzUXhC\"},\"shape\":[3],\"dtype\":\"float64\",\"order\":\"little\"}],[\"y\",{\"type\":\"ndarray\",\"array\":{\"type\":\"bytes\",\"data\":\"AAAAAAAAXkAAAAAAAOBgQAAAAAAAgFpA\"},\"shape\":[3],\"dtype\":\"float64\",\"order\":\"little\"}]]}}},\"view\":{\"type\":\"object\",\"name\":\"CDSView\",\"id\":\"p1965\",\"attributes\":{\"filter\":{\"type\":\"object\",\"name\":\"AllIndices\",\"id\":\"p1966\"}}},\"glyph\":{\"type\":\"object\",\"name\":\"Scatter\",\"id\":\"p1961\",\"attributes\":{\"x\":{\"type\":\"field\",\"field\":\"x\"},\"y\":{\"type\":\"field\",\"field\":\"y\"},\"size\":{\"type\":\"value\",\"value\":6},\"line_color\":{\"type\":\"value\",\"value\":\"darkblue\"},\"line_alpha\":{\"type\":\"value\",\"value\":0.7},\"fill_color\":{\"type\":\"value\",\"value\":\"darkblue\"},\"fill_alpha\":{\"type\":\"value\",\"value\":0.7},\"hatch_color\":{\"type\":\"value\",\"value\":\"darkblue\"},\"hatch_alpha\":{\"type\":\"value\",\"value\":0.7}}},\"nonselection_glyph\":{\"type\":\"object\",\"name\":\"Scatter\",\"id\":\"p1962\",\"attributes\":{\"x\":{\"type\":\"field\",\"field\":\"x\"},\"y\":{\"type\":\"field\",\"field\":\"y\"},\"size\":{\"type\":\"value\",\"value\":6},\"line_color\":{\"type\":\"value\",\"value\":\"darkblue\"},\"line_alpha\":{\"type\":\"value\",\"value\":0.1},\"fill_color\":{\"type\":\"value\",\"value\":\"darkblue\"},\"fill_alpha\":{\"type\":\"value\",\"value\":0.1},\"hatch_color\":{\"type\":\"value\",\"value\":\"darkblue\"},\"hatch_alpha\":{\"type\":\"value\",\"value\":0.1}}},\"muted_glyph\":{\"type\":\"object\",\"name\":\"Scatter\",\"id\":\"p1963\",\"attributes\":{\"x\":{\"type\":\"field\",\"field\":\"x\"},\"y\":{\"type\":\"field\",\"field\":\"y\"},\"size\":{\"type\":\"value\",\"value\":6},\"line_color\":{\"type\":\"value\",\"value\":\"darkblue\"},\"line_alpha\":{\"type\":\"value\",\"value\":0.2},\"fill_color\":{\"type\":\"value\",\"value\":\"darkblue\"},\"fill_alpha\":{\"type\":\"value\",\"value\":0.2},\"hatch_color\":{\"type\":\"value\",\"value\":\"darkblue\"},\"hatch_alpha\":{\"type\":\"value\",\"value\":0.2}}}}}],\"toolbar\":{\"type\":\"object\",\"name\":\"Toolbar\",\"id\":\"p1920\",\"attributes\":{\"tools\":[{\"type\":\"object\",\"name\":\"PanTool\",\"id\":\"p1945\"},{\"type\":\"object\",\"name\":\"WheelZoomTool\",\"id\":\"p1946\",\"attributes\":{\"dimensions\":\"width\",\"renderers\":\"auto\"}},{\"type\":\"object\",\"name\":\"WheelZoomTool\",\"id\":\"p1947\",\"attributes\":{\"dimensions\":\"height\",\"renderers\":\"auto\"}}],\"active_scroll\":{\"id\":\"p1946\"}}},\"left\":[{\"type\":\"object\",\"name\":\"LinearAxis\",\"id\":\"p1940\",\"attributes\":{\"ticker\":{\"type\":\"object\",\"name\":\"BasicTicker\",\"id\":\"p1941\",\"attributes\":{\"mantissas\":[1,2,5]}},\"formatter\":{\"type\":\"object\",\"name\":\"BasicTickFormatter\",\"id\":\"p1942\"},\"axis_label\":\"Glucose\",\"major_label_policy\":{\"type\":\"object\",\"name\":\"AllLabels\",\"id\":\"p1943\"}}}],\"above\":[{\"type\":\"object\",\"name\":\"DatetimeAxis\",\"id\":\"p1923\",\"attributes\":{\"ticker\":{\"type\":\"object\",\"name\":\"DatetimeTicker\",\"id\":\"p1924\",\"attributes\":{\"num_minor_ticks\":5,\"tickers\":[{\"type\":\"object\",\"name\":\"AdaptiveTicker\",\"id\":\"p1925\",\"attributes\":{\"num_minor_ticks\":0,\"mantissas\":[1,2,5],\"max_interval\":500.0}},{\"type\":\"object\",\"name\":\"AdaptiveTicker\",\"id\":\"p1926\",\"attributes\":{\"num_minor_ticks\":0,\"base\":60,\"mantissas\":[1,2,5,10,15,20,30],\"min_interval\":1000.0,\"max_interval\":1800000.0}},{\"type\":\"object\",\"name\":\"AdaptiveTicker\",\"id\":\"p1927\",\"attributes\":{\"num_minor_ticks\":0,\"base\":24,\"mantissas\":[1,2,4,6,8,12],\"min_interval\":3600000.0,\"max_interval\":43200000.0}},{\"type\":\"object\",\"name\":\"DaysTicker\",\"id\":\"p1928\",\"attributes\":{\"days\":[1,2,3,4,5,6,7,8,9,10,11,12,13,14,15,16,17,18,19,20,21,22,23,24,25,26,27,28,29,30,31]}},{\"type\":\"object\",\"name\":\"DaysTicker\",\"id\":\"p1929\",\"attributes\":{\"days\":[1,4,7,10,13,16,19,22,25,28]}},{\"type\":\"object\",\"name\":\"DaysTicker\",\"id\":\"p1930\",\"attributes\":{\"days\":[1,8,15,22]}},{\"type\":\"object\",\"name\":\"DaysTicker\",\"id\":\"p1931\",\"attributes\":{\"days\":[1,15]}},{\"type\":\"object\",\"name\":\"MonthsTicker\",\"id\":\"p1932\",\"attributes\":{\"months\":[0,1,2,3,4,5,6,7,8,9,10,11]}},{\"type\":\"object\",\"name\":\"MonthsTicker\",\"id\":\"p1933\",\"attributes\":{\"months\":[0,2,4,6,8,10]}},{\"type\":\"object\",\"name\":\"MonthsTicker\",\"id\":\"p1934\",\"attributes\":{\"months\":[0,4,8]}},{\"type\":\"object\",\"name\":\"MonthsTicker\",\"id\":\"p1935\",\"attributes\":{\"months\":[0,6]}},{\"type\":\"object\",\"name\":\"YearsTicker\",\"id\":\"p1936\"}]}},\"formatter\":{\"type\":\"object\",\"name\":\"DatetimeTickFormatter\",\"id\":\"p1937\"},\"axis_label\":\"Time\",\"major_label_policy\":{\"type\":\"object\",\"name\":\"AllLabels\",\"id\":\"p1938\"}}}],\"center\":[{\"type\":\"object\",\"name\":\"Grid\",\"id\":\"p1939\",\"attributes\":{\"axis\":{\"id\":\"p1923\"}}},{\"type\":\"object\",\"name\":\"Grid\",\"id\":\"p1944\",\"attributes\":{\"dimension\":1,\"axis\":{\"id\":\"p1940\"}}},{\"type\":\"object\",\"name\":\"Span\",\"id\":\"p1957\",\"attributes\":{\"location\":100.88118811881188,\"line_color\":\"red\"}},{\"type\":\"object\",\"name\":\"Span\",\"id\":\"p1967\",\"attributes\":{\"location\":1671278400000.0,\"dimension\":\"height\",\"line_color\":\"orange\",\"line_width\":2}},{\"type\":\"object\",\"name\":\"BoxAnnotation\",\"id\":\"p1968\",\"attributes\":{\"left\":1671278400000.0,\"right\":1671282000000.0,\"top\":{\"type\":\"object\",\"name\":\"Node\",\"id\":\"p1971\",\"attributes\":{\"target\":\"frame\",\"symbol\":\"top\"}},\"bottom\":{\"type\":\"object\",\"name\":\"Node\",\"id\":\"p1972\",\"attributes\":{\"target\":\"frame\",\"symbol\":\"bottom\"}},\"fill_color\":\"orange\",\"fill_alpha\":0.3}},{\"type\":\"object\",\"name\":\"Label\",\"id\":\"p1973\",\"attributes\":{\"text\":\"683.00\",\"text_color\":\"black\",\"text_font_size\":\"10pt\",\"background_fill_color\":\"white\",\"background_fill_alpha\":0.7,\"x\":1671278400000.0,\"y\":110,\"angle\":90,\"angle_units\":\"deg\"}},{\"type\":\"object\",\"name\":\"Span\",\"id\":\"p1974\",\"attributes\":{\"location\":1671300000000.0,\"dimension\":\"height\",\"line_color\":\"orange\",\"line_width\":2}},{\"type\":\"object\",\"name\":\"BoxAnnotation\",\"id\":\"p1975\",\"attributes\":{\"left\":1671300000000.0,\"right\":1671303600000.0,\"top\":{\"type\":\"object\",\"name\":\"Node\",\"id\":\"p1978\",\"attributes\":{\"target\":\"frame\",\"symbol\":\"top\"}},\"bottom\":{\"type\":\"object\",\"name\":\"Node\",\"id\":\"p1979\",\"attributes\":{\"target\":\"frame\",\"symbol\":\"bottom\"}},\"fill_color\":\"orange\",\"fill_alpha\":0.3}},{\"type\":\"object\",\"name\":\"Label\",\"id\":\"p1980\",\"attributes\":{\"text\":\"737.00\",\"text_color\":\"black\",\"text_font_size\":\"10pt\",\"background_fill_color\":\"white\",\"background_fill_alpha\":0.7,\"x\":1671300000000.0,\"y\":110,\"angle\":90,\"angle_units\":\"deg\"}}]}}]}};\n",
              "  const render_items = [{\"docid\":\"c787f445-70e6-4887-a2a3-1baa751f28d7\",\"roots\":{\"p1912\":\"e37699b7-d814-4afa-ac85-b33dd13d61c1\"},\"root_ids\":[\"p1912\"]}];\n",
              "  void root.Bokeh.embed.embed_items_notebook(docs_json, render_items);\n",
              "  }\n",
              "  if (root.Bokeh !== undefined) {\n",
              "    embed_document(root);\n",
              "  } else {\n",
              "    let attempts = 0;\n",
              "    const timer = setInterval(function(root) {\n",
              "      if (root.Bokeh !== undefined) {\n",
              "        clearInterval(timer);\n",
              "        embed_document(root);\n",
              "      } else {\n",
              "        attempts++;\n",
              "        if (attempts > 100) {\n",
              "          clearInterval(timer);\n",
              "          console.log(\"Bokeh: ERROR: Unable to run BokehJS code because BokehJS library is missing\");\n",
              "        }\n",
              "      }\n",
              "    }, 10, root)\n",
              "  }\n",
              "})(window);"
            ],
            "application/vnd.bokehjs_exec.v0+json": ""
          },
          "metadata": {
            "application/vnd.bokehjs_exec.v0+json": {
              "id": "p1912"
            }
          }
        },
        {
          "output_type": "stream",
          "name": "stdout",
          "text": [
            "\n",
            "\n",
            "\n"
          ]
        },
        {
          "output_type": "display_data",
          "data": {
            "text/html": [
              "\n",
              "  <div id=\"bcb9c655-4c70-4470-b3a3-338c547cbe42\" data-root-id=\"p1985\" style=\"display: contents;\"></div>\n"
            ]
          },
          "metadata": {}
        },
        {
          "output_type": "display_data",
          "data": {
            "application/javascript": [
              "(function(root) {\n",
              "  function embed_document(root) {\n",
              "  const docs_json = {\"0f984b7a-cc73-43d9-895a-f5f270428e53\":{\"version\":\"3.4.3\",\"title\":\"Bokeh Application\",\"roots\":[{\"type\":\"object\",\"name\":\"Figure\",\"id\":\"p1985\",\"attributes\":{\"height\":400,\"x_range\":{\"type\":\"object\",\"name\":\"DataRange1d\",\"id\":\"p1986\"},\"y_range\":{\"type\":\"object\",\"name\":\"DataRange1d\",\"id\":\"p1987\"},\"x_scale\":{\"type\":\"object\",\"name\":\"LinearScale\",\"id\":\"p1994\"},\"y_scale\":{\"type\":\"object\",\"name\":\"LinearScale\",\"id\":\"p1995\"},\"title\":{\"type\":\"object\",\"name\":\"Title\",\"id\":\"p1992\",\"attributes\":{\"text\":\"Day: 2022-12-18\",\"text_font_size\":\"20pt\",\"align\":\"center\"}},\"renderers\":[{\"type\":\"object\",\"name\":\"GlyphRenderer\",\"id\":\"p2027\",\"attributes\":{\"data_source\":{\"type\":\"object\",\"name\":\"ColumnDataSource\",\"id\":\"p2021\",\"attributes\":{\"selected\":{\"type\":\"object\",\"name\":\"Selection\",\"id\":\"p2022\",\"attributes\":{\"indices\":[],\"line_indices\":[]}},\"selection_policy\":{\"type\":\"object\",\"name\":\"UnionRenderers\",\"id\":\"p2023\"},\"data\":{\"type\":\"map\",\"entries\":[[\"x\",{\"type\":\"ndarray\",\"array\":{\"type\":\"bytes\",\"data\":\"AACmiihSeEIAAGBmKVJ4QgAAGkIqUnhCAADUHStSeEIAAI75K1J4QgAASNUsUnhCAAACsS1SeEIAALyMLlJ4QgAAdmgvUnhCAAAwRDBSeEIAAOofMVJ4QgAApPsxUnhCAABe1zJSeEIAABizM1J4QgAA0o40UnhCAACMajVSeEIAAEZGNlJ4QgAAACI3UnhCAAC6/TdSeEIAAHTZOFJ4QgAALrU5UnhCAADokDpSeEIAAKJsO1J4QgAAXEg8UnhCAAAWJD1SeEIAAND/PVJ4QgAAits+UnhCAABEtz9SeEIAAP6SQFJ4QgAAEmBBUnhCAAAEjEFSeEIAAMw7QlJ4QgAAhhdDUnhCAABA80NSeEIAAPrORFJ4QgAAAMhFUnhCAADy80VSeEIAALqjRlJ4QgAAdH9HUnhCAAAuW0hSeEIAAOg2SVJ4QgAAohJKUnhCAABc7kpSeEIAABbKS1J4QgAA0KVMUnhCAACKgU1SeEIAAERdTlJ4QgAA/jhPUnhCAAC4FFBSeEIAAHLwUFJ4QgAALMxRUnhCAADmp1JSeEIAAKCDU1J4QgAAWl9UUnhCAAAUO1VSeEIAAM4WVlJ4QgAAiPJWUnhCAABCzldSeEIAAPypWFJ4QgAAtoVZUnhCAABwYVpSeEIAALx+WlJ4QgAAKj1bUnhCAADkGFxSeEIAAJ70XFJ4QgAAKFtdUnhCAABY0F1SeEIAABKsXlJ4QgAAGKVfUnhCAAAK0V9SeEIAANKAYFJ4QgAAjFxhUnhCAABGOGJSeEIAAAAUY1J4QgAAuu9jUnhCAAB0y2RSeEIAAC6nZVJ4QgAA6IJmUnhCAACiXmdSeEIAAFw6aFJ4QgAAFhZpUnhCAADQ8WlSeEIAAIrNalJ4QgAARKlrUnhCAAD+hGxSeEIAALhgbVJ4QgAAcjxuUnhCAAAsGG9SeEIAAObzb1J4QgAAoM9wUnhCAABaq3FSeEIAAD4DclJ4QgAAFIdyUnhCAADOYnNSeEIAAIg+dFJ4QgAAQhp1UnhCAAD89XVSeEIAALbRdlJ4QgAAAu92UnhCAAC8yndSeEIAAHameFJ4QgAAMIJ5UnhCAADqXXpSeEI=\"},\"shape\":[103],\"dtype\":\"float64\",\"order\":\"little\"}],[\"y\",{\"type\":\"ndarray\",\"array\":{\"type\":\"bytes\",\"data\":\"AAAAAAAAWkAAAAAAAEBbQAAAAAAAQFxAAAAAAABAW0AAAAAAAABbQAAAAAAAgFpAAAAAAAAAWUAAAAAAAIBYQAAAAAAAwFhAAAAAAADAWEAAAAAAAIBYQAAAAAAAgFhAAAAAAADAV0AAAAAAAABXQAAAAAAAwFdAAAAAAACAV0AAAAAAAEBXQAAAAAAAgFdAAAAAAACAV0AAAAAAAEBXQAAAAAAAgFdAAAAAAADAV0AAAAAAAMBXQAAAAAAAwFdAAAAAAADAV0AAAAAAAABYQAAAAAAAwFdAAAAAAAAAWEAAAAAAAEBYQAAAAAAAAFpAAAAAAADAWEAAAAAAAEBaQAAAAAAAgFlAAAAAAADAWEAAAAAAAEBYQAAAAAAAgFhAAAAAAABAX0AAAAAAAABYQAAAAAAAwFhAAAAAAABAWUAAAAAAAABZQAAAAAAAAFpAAAAAAACAWkAAAAAAAMBYQAAAAAAAAFhAAAAAAABAV0AAAAAAAEBWQAAAAAAAAFdAAAAAAADAV0AAAAAAAEBYQAAAAAAAQFhAAAAAAACAV0AAAAAAAIBXQAAAAAAAAFhAAAAAAABAWUAAAAAAAIBaQAAAAAAAwFpAAAAAAACAWUAAAAAAAMBYQAAAAAAAAFhAAAAAAACAV0AAAAAAAABWQAAAAAAAgFlAAAAAAACAW0AAAAAAAIBbQAAAAAAAQFxAAAAAAAAAW0AAAAAAAABcQAAAAAAAQFxAAAAAAADAXEAAAAAAAMBZQAAAAAAAwFhAAAAAAADAWEAAAAAAAMBYQAAAAAAAAFlAAAAAAACAWUAAAAAAAEBZQAAAAAAAAFlAAAAAAAAAWUAAAAAAAMBZQAAAAAAAQFxAAAAAAABgYEAAAAAAAIBhQAAAAAAAoGBAAAAAAAAAX0AAAAAAAEBdQAAAAAAAAF9AAAAAAABAYEAAAAAAAMBeQAAAAAAAAF1AAAAAAADAX0AAAAAAAOBgQAAAAAAAgFxAAAAAAABAWEAAAAAAAMBZQAAAAAAAwFxAAAAAAADAXUAAAAAAAEBaQAAAAAAAwFtAAAAAAACAWkAAAAAAAABXQAAAAAAAgFZAAAAAAAAAV0A=\"},\"shape\":[103],\"dtype\":\"float64\",\"order\":\"little\"}]]}}},\"view\":{\"type\":\"object\",\"name\":\"CDSView\",\"id\":\"p2028\",\"attributes\":{\"filter\":{\"type\":\"object\",\"name\":\"AllIndices\",\"id\":\"p2029\"}}},\"glyph\":{\"type\":\"object\",\"name\":\"Line\",\"id\":\"p2024\",\"attributes\":{\"x\":{\"type\":\"field\",\"field\":\"x\"},\"y\":{\"type\":\"field\",\"field\":\"y\"},\"line_color\":\"gray\",\"line_alpha\":0.5,\"line_width\":2}},\"nonselection_glyph\":{\"type\":\"object\",\"name\":\"Line\",\"id\":\"p2025\",\"attributes\":{\"x\":{\"type\":\"field\",\"field\":\"x\"},\"y\":{\"type\":\"field\",\"field\":\"y\"},\"line_color\":\"gray\",\"line_alpha\":0.1,\"line_width\":2}},\"muted_glyph\":{\"type\":\"object\",\"name\":\"Line\",\"id\":\"p2026\",\"attributes\":{\"x\":{\"type\":\"field\",\"field\":\"x\"},\"y\":{\"type\":\"field\",\"field\":\"y\"},\"line_color\":\"gray\",\"line_alpha\":0.2,\"line_width\":2}}}},{\"type\":\"object\",\"name\":\"GlyphRenderer\",\"id\":\"p2037\",\"attributes\":{\"data_source\":{\"type\":\"object\",\"name\":\"ColumnDataSource\",\"id\":\"p2031\",\"attributes\":{\"selected\":{\"type\":\"object\",\"name\":\"Selection\",\"id\":\"p2032\",\"attributes\":{\"indices\":[],\"line_indices\":[]}},\"selection_policy\":{\"type\":\"object\",\"name\":\"UnionRenderers\",\"id\":\"p2033\"},\"data\":{\"type\":\"map\",\"entries\":[[\"x\",{\"type\":\"ndarray\",\"array\":{\"type\":\"bytes\",\"data\":\"AACKzWpSeEIAAPLzRVJ4QgAA/PV1UnhCAACI8lZSeEIAAArRX1J4Qg==\"},\"shape\":[5],\"dtype\":\"float64\",\"order\":\"little\"}],[\"y\",{\"type\":\"ndarray\",\"array\":{\"type\":\"bytes\",\"data\":\"AAAAAACAYUAAAAAAAEBfQAAAAAAAwF1AAAAAAADAWkAAAAAAAMBcQA==\"},\"shape\":[5],\"dtype\":\"float64\",\"order\":\"little\"}]]}}},\"view\":{\"type\":\"object\",\"name\":\"CDSView\",\"id\":\"p2038\",\"attributes\":{\"filter\":{\"type\":\"object\",\"name\":\"AllIndices\",\"id\":\"p2039\"}}},\"glyph\":{\"type\":\"object\",\"name\":\"Scatter\",\"id\":\"p2034\",\"attributes\":{\"x\":{\"type\":\"field\",\"field\":\"x\"},\"y\":{\"type\":\"field\",\"field\":\"y\"},\"size\":{\"type\":\"value\",\"value\":6},\"line_color\":{\"type\":\"value\",\"value\":\"darkblue\"},\"line_alpha\":{\"type\":\"value\",\"value\":0.7},\"fill_color\":{\"type\":\"value\",\"value\":\"darkblue\"},\"fill_alpha\":{\"type\":\"value\",\"value\":0.7},\"hatch_color\":{\"type\":\"value\",\"value\":\"darkblue\"},\"hatch_alpha\":{\"type\":\"value\",\"value\":0.7}}},\"nonselection_glyph\":{\"type\":\"object\",\"name\":\"Scatter\",\"id\":\"p2035\",\"attributes\":{\"x\":{\"type\":\"field\",\"field\":\"x\"},\"y\":{\"type\":\"field\",\"field\":\"y\"},\"size\":{\"type\":\"value\",\"value\":6},\"line_color\":{\"type\":\"value\",\"value\":\"darkblue\"},\"line_alpha\":{\"type\":\"value\",\"value\":0.1},\"fill_color\":{\"type\":\"value\",\"value\":\"darkblue\"},\"fill_alpha\":{\"type\":\"value\",\"value\":0.1},\"hatch_color\":{\"type\":\"value\",\"value\":\"darkblue\"},\"hatch_alpha\":{\"type\":\"value\",\"value\":0.1}}},\"muted_glyph\":{\"type\":\"object\",\"name\":\"Scatter\",\"id\":\"p2036\",\"attributes\":{\"x\":{\"type\":\"field\",\"field\":\"x\"},\"y\":{\"type\":\"field\",\"field\":\"y\"},\"size\":{\"type\":\"value\",\"value\":6},\"line_color\":{\"type\":\"value\",\"value\":\"darkblue\"},\"line_alpha\":{\"type\":\"value\",\"value\":0.2},\"fill_color\":{\"type\":\"value\",\"value\":\"darkblue\"},\"fill_alpha\":{\"type\":\"value\",\"value\":0.2},\"hatch_color\":{\"type\":\"value\",\"value\":\"darkblue\"},\"hatch_alpha\":{\"type\":\"value\",\"value\":0.2}}}}}],\"toolbar\":{\"type\":\"object\",\"name\":\"Toolbar\",\"id\":\"p1993\",\"attributes\":{\"tools\":[{\"type\":\"object\",\"name\":\"PanTool\",\"id\":\"p2018\"},{\"type\":\"object\",\"name\":\"WheelZoomTool\",\"id\":\"p2019\",\"attributes\":{\"dimensions\":\"width\",\"renderers\":\"auto\"}},{\"type\":\"object\",\"name\":\"WheelZoomTool\",\"id\":\"p2020\",\"attributes\":{\"dimensions\":\"height\",\"renderers\":\"auto\"}}],\"active_scroll\":{\"id\":\"p2019\"}}},\"left\":[{\"type\":\"object\",\"name\":\"LinearAxis\",\"id\":\"p2013\",\"attributes\":{\"ticker\":{\"type\":\"object\",\"name\":\"BasicTicker\",\"id\":\"p2014\",\"attributes\":{\"mantissas\":[1,2,5]}},\"formatter\":{\"type\":\"object\",\"name\":\"BasicTickFormatter\",\"id\":\"p2015\"},\"axis_label\":\"Glucose\",\"major_label_policy\":{\"type\":\"object\",\"name\":\"AllLabels\",\"id\":\"p2016\"}}}],\"above\":[{\"type\":\"object\",\"name\":\"DatetimeAxis\",\"id\":\"p1996\",\"attributes\":{\"ticker\":{\"type\":\"object\",\"name\":\"DatetimeTicker\",\"id\":\"p1997\",\"attributes\":{\"num_minor_ticks\":5,\"tickers\":[{\"type\":\"object\",\"name\":\"AdaptiveTicker\",\"id\":\"p1998\",\"attributes\":{\"num_minor_ticks\":0,\"mantissas\":[1,2,5],\"max_interval\":500.0}},{\"type\":\"object\",\"name\":\"AdaptiveTicker\",\"id\":\"p1999\",\"attributes\":{\"num_minor_ticks\":0,\"base\":60,\"mantissas\":[1,2,5,10,15,20,30],\"min_interval\":1000.0,\"max_interval\":1800000.0}},{\"type\":\"object\",\"name\":\"AdaptiveTicker\",\"id\":\"p2000\",\"attributes\":{\"num_minor_ticks\":0,\"base\":24,\"mantissas\":[1,2,4,6,8,12],\"min_interval\":3600000.0,\"max_interval\":43200000.0}},{\"type\":\"object\",\"name\":\"DaysTicker\",\"id\":\"p2001\",\"attributes\":{\"days\":[1,2,3,4,5,6,7,8,9,10,11,12,13,14,15,16,17,18,19,20,21,22,23,24,25,26,27,28,29,30,31]}},{\"type\":\"object\",\"name\":\"DaysTicker\",\"id\":\"p2002\",\"attributes\":{\"days\":[1,4,7,10,13,16,19,22,25,28]}},{\"type\":\"object\",\"name\":\"DaysTicker\",\"id\":\"p2003\",\"attributes\":{\"days\":[1,8,15,22]}},{\"type\":\"object\",\"name\":\"DaysTicker\",\"id\":\"p2004\",\"attributes\":{\"days\":[1,15]}},{\"type\":\"object\",\"name\":\"MonthsTicker\",\"id\":\"p2005\",\"attributes\":{\"months\":[0,1,2,3,4,5,6,7,8,9,10,11]}},{\"type\":\"object\",\"name\":\"MonthsTicker\",\"id\":\"p2006\",\"attributes\":{\"months\":[0,2,4,6,8,10]}},{\"type\":\"object\",\"name\":\"MonthsTicker\",\"id\":\"p2007\",\"attributes\":{\"months\":[0,4,8]}},{\"type\":\"object\",\"name\":\"MonthsTicker\",\"id\":\"p2008\",\"attributes\":{\"months\":[0,6]}},{\"type\":\"object\",\"name\":\"YearsTicker\",\"id\":\"p2009\"}]}},\"formatter\":{\"type\":\"object\",\"name\":\"DatetimeTickFormatter\",\"id\":\"p2010\"},\"axis_label\":\"Time\",\"major_label_policy\":{\"type\":\"object\",\"name\":\"AllLabels\",\"id\":\"p2011\"}}}],\"center\":[{\"type\":\"object\",\"name\":\"Grid\",\"id\":\"p2012\",\"attributes\":{\"axis\":{\"id\":\"p1996\"}}},{\"type\":\"object\",\"name\":\"Grid\",\"id\":\"p2017\",\"attributes\":{\"dimension\":1,\"axis\":{\"id\":\"p2013\"}}},{\"type\":\"object\",\"name\":\"Span\",\"id\":\"p2030\",\"attributes\":{\"location\":103.54368932038835,\"line_color\":\"red\"}},{\"type\":\"object\",\"name\":\"Span\",\"id\":\"p2040\",\"attributes\":{\"location\":1671364800000.0,\"dimension\":\"height\",\"line_color\":\"orange\",\"line_width\":2}},{\"type\":\"object\",\"name\":\"BoxAnnotation\",\"id\":\"p2041\",\"attributes\":{\"left\":1671364800000.0,\"right\":1671368400000.0,\"top\":{\"type\":\"object\",\"name\":\"Node\",\"id\":\"p2044\",\"attributes\":{\"target\":\"frame\",\"symbol\":\"top\"}},\"bottom\":{\"type\":\"object\",\"name\":\"Node\",\"id\":\"p2045\",\"attributes\":{\"target\":\"frame\",\"symbol\":\"bottom\"}},\"fill_color\":\"orange\",\"fill_alpha\":0.3}},{\"type\":\"object\",\"name\":\"Label\",\"id\":\"p2046\",\"attributes\":{\"text\":\"866.00\",\"text_color\":\"black\",\"text_font_size\":\"10pt\",\"background_fill_color\":\"white\",\"background_fill_alpha\":0.7,\"x\":1671364800000.0,\"y\":110,\"angle\":90,\"angle_units\":\"deg\"}},{\"type\":\"object\",\"name\":\"Span\",\"id\":\"p2047\",\"attributes\":{\"location\":1671386400000.0,\"dimension\":\"height\",\"line_color\":\"orange\",\"line_width\":2}},{\"type\":\"object\",\"name\":\"BoxAnnotation\",\"id\":\"p2048\",\"attributes\":{\"left\":1671386400000.0,\"right\":1671390000000.0,\"top\":{\"type\":\"object\",\"name\":\"Node\",\"id\":\"p2051\",\"attributes\":{\"target\":\"frame\",\"symbol\":\"top\"}},\"bottom\":{\"type\":\"object\",\"name\":\"Node\",\"id\":\"p2052\",\"attributes\":{\"target\":\"frame\",\"symbol\":\"bottom\"}},\"fill_color\":\"orange\",\"fill_alpha\":0.3}},{\"type\":\"object\",\"name\":\"Label\",\"id\":\"p2053\",\"attributes\":{\"text\":\"752.00\",\"text_color\":\"black\",\"text_font_size\":\"10pt\",\"background_fill_color\":\"white\",\"background_fill_alpha\":0.7,\"x\":1671386400000.0,\"y\":110,\"angle\":90,\"angle_units\":\"deg\"}}]}}]}};\n",
              "  const render_items = [{\"docid\":\"0f984b7a-cc73-43d9-895a-f5f270428e53\",\"roots\":{\"p1985\":\"bcb9c655-4c70-4470-b3a3-338c547cbe42\"},\"root_ids\":[\"p1985\"]}];\n",
              "  void root.Bokeh.embed.embed_items_notebook(docs_json, render_items);\n",
              "  }\n",
              "  if (root.Bokeh !== undefined) {\n",
              "    embed_document(root);\n",
              "  } else {\n",
              "    let attempts = 0;\n",
              "    const timer = setInterval(function(root) {\n",
              "      if (root.Bokeh !== undefined) {\n",
              "        clearInterval(timer);\n",
              "        embed_document(root);\n",
              "      } else {\n",
              "        attempts++;\n",
              "        if (attempts > 100) {\n",
              "          clearInterval(timer);\n",
              "          console.log(\"Bokeh: ERROR: Unable to run BokehJS code because BokehJS library is missing\");\n",
              "        }\n",
              "      }\n",
              "    }, 10, root)\n",
              "  }\n",
              "})(window);"
            ],
            "application/vnd.bokehjs_exec.v0+json": ""
          },
          "metadata": {
            "application/vnd.bokehjs_exec.v0+json": {
              "id": "p1985"
            }
          }
        },
        {
          "output_type": "stream",
          "name": "stdout",
          "text": [
            "\n",
            "\n",
            "\n"
          ]
        },
        {
          "output_type": "display_data",
          "data": {
            "text/html": [
              "\n",
              "  <div id=\"da4b9375-33a4-40be-9469-2fb39c952d1f\" data-root-id=\"p2058\" style=\"display: contents;\"></div>\n"
            ]
          },
          "metadata": {}
        },
        {
          "output_type": "display_data",
          "data": {
            "application/javascript": [
              "(function(root) {\n",
              "  function embed_document(root) {\n",
              "  const docs_json = {\"f6542023-8c0a-4769-a01f-7f906fdeeffe\":{\"version\":\"3.4.3\",\"title\":\"Bokeh Application\",\"roots\":[{\"type\":\"object\",\"name\":\"Figure\",\"id\":\"p2058\",\"attributes\":{\"height\":400,\"x_range\":{\"type\":\"object\",\"name\":\"DataRange1d\",\"id\":\"p2059\"},\"y_range\":{\"type\":\"object\",\"name\":\"DataRange1d\",\"id\":\"p2060\"},\"x_scale\":{\"type\":\"object\",\"name\":\"LinearScale\",\"id\":\"p2067\"},\"y_scale\":{\"type\":\"object\",\"name\":\"LinearScale\",\"id\":\"p2068\"},\"title\":{\"type\":\"object\",\"name\":\"Title\",\"id\":\"p2065\",\"attributes\":{\"text\":\"Day: 2023-01-16\",\"text_font_size\":\"20pt\",\"align\":\"center\"}},\"renderers\":[{\"type\":\"object\",\"name\":\"GlyphRenderer\",\"id\":\"p2100\",\"attributes\":{\"data_source\":{\"type\":\"object\",\"name\":\"ColumnDataSource\",\"id\":\"p2094\",\"attributes\":{\"selected\":{\"type\":\"object\",\"name\":\"Selection\",\"id\":\"p2095\",\"attributes\":{\"indices\":[],\"line_indices\":[]}},\"selection_policy\":{\"type\":\"object\",\"name\":\"UnionRenderers\",\"id\":\"p2096\"},\"data\":{\"type\":\"map\",\"entries\":[[\"x\",{\"type\":\"ndarray\",\"array\":{\"type\":\"bytes\",\"data\":\"AABmEX5beEIAACDtflt4QgAA2sh/W3hCAACUpIBbeEIAAE6AgVt4QgAACFyCW3hCAADCN4NbeEIAAHwThFt4QgAANu+EW3hCAADwyoVbeEIAAKqmhlt4QgAAZIKHW3hCAAAeXohbeEIAANg5iVt4QgAAkhWKW3hCAABM8YpbeEIAAAbNi1t4QgAAwKiMW3hCAAB6hI1beEIAADRgjlt4QgAA7juPW3hCAACoF5BbeEIAAGLzkFt4QgAAHM+RW3hCAADWqpJbeEIAAJCGk1t4QgAASmKUW3hCAAAEPpVbeEIAAL4Zllt4QgAA7o6WW3hCAAB49ZZbeEIAADLRl1t4QgAA7KyYW3hCAACmiJlbeEIAAGBkmlt4QgAAGkCbW3hCAADUG5xbeEIAAPy1nVt4QgAAPDSjW3hCAAD2D6RbeEIAALDrpFt4QgAAaselW3hCAAAko6ZbeEIAAN5+p1t4QgAAmFqoW3hCAABSNqlbeEIAAAwSqlt4QgAAxu2qW3hCAACAyatbeEIAADqlrFt4QgAA9ICtW3hCAACuXK5beEIAAGg4r1t4QgAAIhSwW3hCAADc77BbeEIAAJbLsVt4QgAAUKeyW3hCAAAKg7NbeEIAAMRetFt4QgAAfjq1W3hCAAA4FrZbeEIAAPLxtlt4QgAArM23W3hCAABmqbhbeEIAACCFuVt4QgAA2mC6W3hCAACUPLtbeEIAAE4YvFt4QgAACPS8W3hCAADCz71beEIAAJhTvlt4QgAAfKu+W3hCAAA2h79beEIAAPBiwFt4QgAAqj7BW3hCAABkGsJbeEIAAB72wlt4QgAA2NHDW3hCAACSrcRbeEIAAEyJxVt4QgAABmXGW3hCAADAQMdbeEIAAHocyFt4QgAANPjIW3hCAADg/8lbeEIAAIYOylt4QgAAQOrKW3hCAAD6xctbeEIAALShzFt4QgAAbn3NW3hCAAAoWc5beEIAAOI0z1t4QgAAnBDQW3hC\"},\"shape\":[93],\"dtype\":\"float64\",\"order\":\"little\"}],[\"y\",{\"type\":\"ndarray\",\"array\":{\"type\":\"bytes\",\"data\":\"AAAAAADAWEAAAAAAAIBYQAAAAAAAwFhAAAAAAABAWEAAAAAAAIBYQAAAAAAAwFdAAAAAAACAVEAAAAAAAIBPQAAAAAAAgEtAAAAAAAAAT0AAAAAAAEBWQAAAAAAAAFlAAAAAAACAV0AAAAAAAIBWQAAAAAAAAFdAAAAAAADAVkAAAAAAAIBWQAAAAAAAwFZAAAAAAADAVkAAAAAAAABVQAAAAAAAgFNAAAAAAADAVUAAAAAAAABWQAAAAAAAQFVAAAAAAACAV0AAAAAAAMBXQAAAAAAAAFdAAAAAAADAV0AAAAAAAABaQAAAAAAAQFdAAAAAAADAWkAAAAAAAMBbQAAAAAAAAFxAAAAAAADAW0AAAAAAAABbQAAAAAAAwFlAAAAAAACAWkAAAAAAAABaQAAAAAAAgFtAAAAAAAAAWkAAAAAAAMBaQAAAAAAAAFlAAAAAAACAWEAAAAAAAMBYQAAAAAAAgFhAAAAAAACAWUAAAAAAAMBdQAAAAAAAgF9AAAAAAADAXEAAAAAAAIBaQAAAAAAAwFhAAAAAAABAV0AAAAAAAEBXQAAAAAAAgFhAAAAAAACAWEAAAAAAAABXQAAAAAAAgFdAAAAAAAAAWEAAAAAAAEBYQAAAAAAAwFtAAAAAAAAAX0AAAAAAAIBaQAAAAAAAgFhAAAAAAADAWkAAAAAAAEBaQAAAAAAAQFhAAAAAAAAAV0AAAAAAAIBWQAAAAAAAQFZAAAAAAABAVkAAAAAAAABYQAAAAAAAAFdAAAAAAABAV0AAAAAAAEBaQAAAAAAAwF9AAAAAAADAYUAAAAAAAMBgQAAAAAAAQF1AAAAAAABAWkAAAAAAAABaQAAAAAAAAF1AAAAAAACAXUAAAAAAAABcQAAAAAAAgFpAAAAAAACAWkAAAAAAAMBYQAAAAAAAAFhAAAAAAABAWEAAAAAAAMBYQAAAAAAAgFdAAAAAAAAAVUAAAAAAAABUQAAAAAAAAFZA\"},\"shape\":[93],\"dtype\":\"float64\",\"order\":\"little\"}]]}}},\"view\":{\"type\":\"object\",\"name\":\"CDSView\",\"id\":\"p2101\",\"attributes\":{\"filter\":{\"type\":\"object\",\"name\":\"AllIndices\",\"id\":\"p2102\"}}},\"glyph\":{\"type\":\"object\",\"name\":\"Line\",\"id\":\"p2097\",\"attributes\":{\"x\":{\"type\":\"field\",\"field\":\"x\"},\"y\":{\"type\":\"field\",\"field\":\"y\"},\"line_color\":\"gray\",\"line_alpha\":0.5,\"line_width\":2}},\"nonselection_glyph\":{\"type\":\"object\",\"name\":\"Line\",\"id\":\"p2098\",\"attributes\":{\"x\":{\"type\":\"field\",\"field\":\"x\"},\"y\":{\"type\":\"field\",\"field\":\"y\"},\"line_color\":\"gray\",\"line_alpha\":0.1,\"line_width\":2}},\"muted_glyph\":{\"type\":\"object\",\"name\":\"Line\",\"id\":\"p2099\",\"attributes\":{\"x\":{\"type\":\"field\",\"field\":\"x\"},\"y\":{\"type\":\"field\",\"field\":\"y\"},\"line_color\":\"gray\",\"line_alpha\":0.2,\"line_width\":2}}}},{\"type\":\"object\",\"name\":\"GlyphRenderer\",\"id\":\"p2110\",\"attributes\":{\"data_source\":{\"type\":\"object\",\"name\":\"ColumnDataSource\",\"id\":\"p2104\",\"attributes\":{\"selected\":{\"type\":\"object\",\"name\":\"Selection\",\"id\":\"p2105\",\"attributes\":{\"indices\":[],\"line_indices\":[]}},\"selection_policy\":{\"type\":\"object\",\"name\":\"UnionRenderers\",\"id\":\"p2106\"},\"data\":{\"type\":\"map\",\"entries\":[[\"x\",{\"type\":\"ndarray\",\"array\":{\"type\":\"bytes\",\"data\":\"AABkGsJbeEIAAMbtqlt4QgAAOBa2W3hCAABkgodbeEIAAOysmFt4Qg==\"},\"shape\":[5],\"dtype\":\"float64\",\"order\":\"little\"}],[\"y\",{\"type\":\"ndarray\",\"array\":{\"type\":\"bytes\",\"data\":\"AAAAAADAYUAAAAAAAIBfQAAAAAAAAF9AAAAAAAAAWUAAAAAAAABcQA==\"},\"shape\":[5],\"dtype\":\"float64\",\"order\":\"little\"}]]}}},\"view\":{\"type\":\"object\",\"name\":\"CDSView\",\"id\":\"p2111\",\"attributes\":{\"filter\":{\"type\":\"object\",\"name\":\"AllIndices\",\"id\":\"p2112\"}}},\"glyph\":{\"type\":\"object\",\"name\":\"Scatter\",\"id\":\"p2107\",\"attributes\":{\"x\":{\"type\":\"field\",\"field\":\"x\"},\"y\":{\"type\":\"field\",\"field\":\"y\"},\"size\":{\"type\":\"value\",\"value\":6},\"line_color\":{\"type\":\"value\",\"value\":\"darkblue\"},\"line_alpha\":{\"type\":\"value\",\"value\":0.7},\"fill_color\":{\"type\":\"value\",\"value\":\"darkblue\"},\"fill_alpha\":{\"type\":\"value\",\"value\":0.7},\"hatch_color\":{\"type\":\"value\",\"value\":\"darkblue\"},\"hatch_alpha\":{\"type\":\"value\",\"value\":0.7}}},\"nonselection_glyph\":{\"type\":\"object\",\"name\":\"Scatter\",\"id\":\"p2108\",\"attributes\":{\"x\":{\"type\":\"field\",\"field\":\"x\"},\"y\":{\"type\":\"field\",\"field\":\"y\"},\"size\":{\"type\":\"value\",\"value\":6},\"line_color\":{\"type\":\"value\",\"value\":\"darkblue\"},\"line_alpha\":{\"type\":\"value\",\"value\":0.1},\"fill_color\":{\"type\":\"value\",\"value\":\"darkblue\"},\"fill_alpha\":{\"type\":\"value\",\"value\":0.1},\"hatch_color\":{\"type\":\"value\",\"value\":\"darkblue\"},\"hatch_alpha\":{\"type\":\"value\",\"value\":0.1}}},\"muted_glyph\":{\"type\":\"object\",\"name\":\"Scatter\",\"id\":\"p2109\",\"attributes\":{\"x\":{\"type\":\"field\",\"field\":\"x\"},\"y\":{\"type\":\"field\",\"field\":\"y\"},\"size\":{\"type\":\"value\",\"value\":6},\"line_color\":{\"type\":\"value\",\"value\":\"darkblue\"},\"line_alpha\":{\"type\":\"value\",\"value\":0.2},\"fill_color\":{\"type\":\"value\",\"value\":\"darkblue\"},\"fill_alpha\":{\"type\":\"value\",\"value\":0.2},\"hatch_color\":{\"type\":\"value\",\"value\":\"darkblue\"},\"hatch_alpha\":{\"type\":\"value\",\"value\":0.2}}}}}],\"toolbar\":{\"type\":\"object\",\"name\":\"Toolbar\",\"id\":\"p2066\",\"attributes\":{\"tools\":[{\"type\":\"object\",\"name\":\"PanTool\",\"id\":\"p2091\"},{\"type\":\"object\",\"name\":\"WheelZoomTool\",\"id\":\"p2092\",\"attributes\":{\"dimensions\":\"width\",\"renderers\":\"auto\"}},{\"type\":\"object\",\"name\":\"WheelZoomTool\",\"id\":\"p2093\",\"attributes\":{\"dimensions\":\"height\",\"renderers\":\"auto\"}}],\"active_scroll\":{\"id\":\"p2092\"}}},\"left\":[{\"type\":\"object\",\"name\":\"LinearAxis\",\"id\":\"p2086\",\"attributes\":{\"ticker\":{\"type\":\"object\",\"name\":\"BasicTicker\",\"id\":\"p2087\",\"attributes\":{\"mantissas\":[1,2,5]}},\"formatter\":{\"type\":\"object\",\"name\":\"BasicTickFormatter\",\"id\":\"p2088\"},\"axis_label\":\"Glucose\",\"major_label_policy\":{\"type\":\"object\",\"name\":\"AllLabels\",\"id\":\"p2089\"}}}],\"above\":[{\"type\":\"object\",\"name\":\"DatetimeAxis\",\"id\":\"p2069\",\"attributes\":{\"ticker\":{\"type\":\"object\",\"name\":\"DatetimeTicker\",\"id\":\"p2070\",\"attributes\":{\"num_minor_ticks\":5,\"tickers\":[{\"type\":\"object\",\"name\":\"AdaptiveTicker\",\"id\":\"p2071\",\"attributes\":{\"num_minor_ticks\":0,\"mantissas\":[1,2,5],\"max_interval\":500.0}},{\"type\":\"object\",\"name\":\"AdaptiveTicker\",\"id\":\"p2072\",\"attributes\":{\"num_minor_ticks\":0,\"base\":60,\"mantissas\":[1,2,5,10,15,20,30],\"min_interval\":1000.0,\"max_interval\":1800000.0}},{\"type\":\"object\",\"name\":\"AdaptiveTicker\",\"id\":\"p2073\",\"attributes\":{\"num_minor_ticks\":0,\"base\":24,\"mantissas\":[1,2,4,6,8,12],\"min_interval\":3600000.0,\"max_interval\":43200000.0}},{\"type\":\"object\",\"name\":\"DaysTicker\",\"id\":\"p2074\",\"attributes\":{\"days\":[1,2,3,4,5,6,7,8,9,10,11,12,13,14,15,16,17,18,19,20,21,22,23,24,25,26,27,28,29,30,31]}},{\"type\":\"object\",\"name\":\"DaysTicker\",\"id\":\"p2075\",\"attributes\":{\"days\":[1,4,7,10,13,16,19,22,25,28]}},{\"type\":\"object\",\"name\":\"DaysTicker\",\"id\":\"p2076\",\"attributes\":{\"days\":[1,8,15,22]}},{\"type\":\"object\",\"name\":\"DaysTicker\",\"id\":\"p2077\",\"attributes\":{\"days\":[1,15]}},{\"type\":\"object\",\"name\":\"MonthsTicker\",\"id\":\"p2078\",\"attributes\":{\"months\":[0,1,2,3,4,5,6,7,8,9,10,11]}},{\"type\":\"object\",\"name\":\"MonthsTicker\",\"id\":\"p2079\",\"attributes\":{\"months\":[0,2,4,6,8,10]}},{\"type\":\"object\",\"name\":\"MonthsTicker\",\"id\":\"p2080\",\"attributes\":{\"months\":[0,4,8]}},{\"type\":\"object\",\"name\":\"MonthsTicker\",\"id\":\"p2081\",\"attributes\":{\"months\":[0,6]}},{\"type\":\"object\",\"name\":\"YearsTicker\",\"id\":\"p2082\"}]}},\"formatter\":{\"type\":\"object\",\"name\":\"DatetimeTickFormatter\",\"id\":\"p2083\"},\"axis_label\":\"Time\",\"major_label_policy\":{\"type\":\"object\",\"name\":\"AllLabels\",\"id\":\"p2084\"}}}],\"center\":[{\"type\":\"object\",\"name\":\"Grid\",\"id\":\"p2085\",\"attributes\":{\"axis\":{\"id\":\"p2069\"}}},{\"type\":\"object\",\"name\":\"Grid\",\"id\":\"p2090\",\"attributes\":{\"dimension\":1,\"axis\":{\"id\":\"p2086\"}}},{\"type\":\"object\",\"name\":\"Span\",\"id\":\"p2103\",\"attributes\":{\"location\":98.87096774193549,\"line_color\":\"red\"}},{\"type\":\"object\",\"name\":\"Span\",\"id\":\"p2113\",\"attributes\":{\"location\":1673856000000.0,\"dimension\":\"height\",\"line_color\":\"orange\",\"line_width\":2}},{\"type\":\"object\",\"name\":\"BoxAnnotation\",\"id\":\"p2114\",\"attributes\":{\"left\":1673856000000.0,\"right\":1673859600000.0,\"top\":{\"type\":\"object\",\"name\":\"Node\",\"id\":\"p2117\",\"attributes\":{\"target\":\"frame\",\"symbol\":\"top\"}},\"bottom\":{\"type\":\"object\",\"name\":\"Node\",\"id\":\"p2118\",\"attributes\":{\"target\":\"frame\",\"symbol\":\"bottom\"}},\"fill_color\":\"orange\",\"fill_alpha\":0.3}},{\"type\":\"object\",\"name\":\"Label\",\"id\":\"p2119\",\"attributes\":{\"text\":\"325.00\",\"text_color\":\"black\",\"text_font_size\":\"10pt\",\"background_fill_color\":\"white\",\"background_fill_alpha\":0.7,\"x\":1673856000000.0,\"y\":110,\"angle\":90,\"angle_units\":\"deg\"}},{\"type\":\"object\",\"name\":\"Span\",\"id\":\"p2120\",\"attributes\":{\"location\":1673870400000.0,\"dimension\":\"height\",\"line_color\":\"orange\",\"line_width\":2}},{\"type\":\"object\",\"name\":\"BoxAnnotation\",\"id\":\"p2121\",\"attributes\":{\"left\":1673870400000.0,\"right\":1673874000000.0,\"top\":{\"type\":\"object\",\"name\":\"Node\",\"id\":\"p2124\",\"attributes\":{\"target\":\"frame\",\"symbol\":\"top\"}},\"bottom\":{\"type\":\"object\",\"name\":\"Node\",\"id\":\"p2125\",\"attributes\":{\"target\":\"frame\",\"symbol\":\"bottom\"}},\"fill_color\":\"orange\",\"fill_alpha\":0.3}},{\"type\":\"object\",\"name\":\"Label\",\"id\":\"p2126\",\"attributes\":{\"text\":\"904.00\",\"text_color\":\"black\",\"text_font_size\":\"10pt\",\"background_fill_color\":\"white\",\"background_fill_alpha\":0.7,\"x\":1673870400000.0,\"y\":110,\"angle\":90,\"angle_units\":\"deg\"}},{\"type\":\"object\",\"name\":\"Span\",\"id\":\"p2127\",\"attributes\":{\"location\":1673884800000.0,\"dimension\":\"height\",\"line_color\":\"orange\",\"line_width\":2}},{\"type\":\"object\",\"name\":\"BoxAnnotation\",\"id\":\"p2128\",\"attributes\":{\"left\":1673884800000.0,\"right\":1673888400000.0,\"top\":{\"type\":\"object\",\"name\":\"Node\",\"id\":\"p2131\",\"attributes\":{\"target\":\"frame\",\"symbol\":\"top\"}},\"bottom\":{\"type\":\"object\",\"name\":\"Node\",\"id\":\"p2132\",\"attributes\":{\"target\":\"frame\",\"symbol\":\"bottom\"}},\"fill_color\":\"orange\",\"fill_alpha\":0.3}},{\"type\":\"object\",\"name\":\"Label\",\"id\":\"p2133\",\"attributes\":{\"text\":\"185.00\",\"text_color\":\"black\",\"text_font_size\":\"10pt\",\"background_fill_color\":\"white\",\"background_fill_alpha\":0.7,\"x\":1673884800000.0,\"y\":110,\"angle\":90,\"angle_units\":\"deg\"}},{\"type\":\"object\",\"name\":\"Span\",\"id\":\"p2134\",\"attributes\":{\"location\":1673892000000.0,\"dimension\":\"height\",\"line_color\":\"orange\",\"line_width\":2}},{\"type\":\"object\",\"name\":\"BoxAnnotation\",\"id\":\"p2135\",\"attributes\":{\"left\":1673892000000.0,\"right\":1673895600000.0,\"top\":{\"type\":\"object\",\"name\":\"Node\",\"id\":\"p2138\",\"attributes\":{\"target\":\"frame\",\"symbol\":\"top\"}},\"bottom\":{\"type\":\"object\",\"name\":\"Node\",\"id\":\"p2139\",\"attributes\":{\"target\":\"frame\",\"symbol\":\"bottom\"}},\"fill_color\":\"orange\",\"fill_alpha\":0.3}},{\"type\":\"object\",\"name\":\"Label\",\"id\":\"p2140\",\"attributes\":{\"text\":\"742.00\",\"text_color\":\"black\",\"text_font_size\":\"10pt\",\"background_fill_color\":\"white\",\"background_fill_alpha\":0.7,\"x\":1673892000000.0,\"y\":110,\"angle\":90,\"angle_units\":\"deg\"}}]}}]}};\n",
              "  const render_items = [{\"docid\":\"f6542023-8c0a-4769-a01f-7f906fdeeffe\",\"roots\":{\"p2058\":\"da4b9375-33a4-40be-9469-2fb39c952d1f\"},\"root_ids\":[\"p2058\"]}];\n",
              "  void root.Bokeh.embed.embed_items_notebook(docs_json, render_items);\n",
              "  }\n",
              "  if (root.Bokeh !== undefined) {\n",
              "    embed_document(root);\n",
              "  } else {\n",
              "    let attempts = 0;\n",
              "    const timer = setInterval(function(root) {\n",
              "      if (root.Bokeh !== undefined) {\n",
              "        clearInterval(timer);\n",
              "        embed_document(root);\n",
              "      } else {\n",
              "        attempts++;\n",
              "        if (attempts > 100) {\n",
              "          clearInterval(timer);\n",
              "          console.log(\"Bokeh: ERROR: Unable to run BokehJS code because BokehJS library is missing\");\n",
              "        }\n",
              "      }\n",
              "    }, 10, root)\n",
              "  }\n",
              "})(window);"
            ],
            "application/vnd.bokehjs_exec.v0+json": ""
          },
          "metadata": {
            "application/vnd.bokehjs_exec.v0+json": {
              "id": "p2058"
            }
          }
        },
        {
          "output_type": "stream",
          "name": "stdout",
          "text": [
            "\n",
            "\n",
            "\n"
          ]
        },
        {
          "output_type": "display_data",
          "data": {
            "text/html": [
              "\n",
              "  <div id=\"af0ea2e0-a0f5-492e-8465-d36eab881a92\" data-root-id=\"p2145\" style=\"display: contents;\"></div>\n"
            ]
          },
          "metadata": {}
        },
        {
          "output_type": "display_data",
          "data": {
            "application/javascript": [
              "(function(root) {\n",
              "  function embed_document(root) {\n",
              "  const docs_json = {\"2a32da22-fafd-4dfd-8b60-58ae6ed78ab8\":{\"version\":\"3.4.3\",\"title\":\"Bokeh Application\",\"roots\":[{\"type\":\"object\",\"name\":\"Figure\",\"id\":\"p2145\",\"attributes\":{\"height\":400,\"x_range\":{\"type\":\"object\",\"name\":\"DataRange1d\",\"id\":\"p2146\"},\"y_range\":{\"type\":\"object\",\"name\":\"DataRange1d\",\"id\":\"p2147\"},\"x_scale\":{\"type\":\"object\",\"name\":\"LinearScale\",\"id\":\"p2154\"},\"y_scale\":{\"type\":\"object\",\"name\":\"LinearScale\",\"id\":\"p2155\"},\"title\":{\"type\":\"object\",\"name\":\"Title\",\"id\":\"p2152\",\"attributes\":{\"text\":\"Day: 2023-01-17\",\"text_font_size\":\"20pt\",\"align\":\"center\"}},\"renderers\":[{\"type\":\"object\",\"name\":\"GlyphRenderer\",\"id\":\"p2187\",\"attributes\":{\"data_source\":{\"type\":\"object\",\"name\":\"ColumnDataSource\",\"id\":\"p2181\",\"attributes\":{\"selected\":{\"type\":\"object\",\"name\":\"Selection\",\"id\":\"p2182\",\"attributes\":{\"indices\":[],\"line_indices\":[]}},\"selection_policy\":{\"type\":\"object\",\"name\":\"UnionRenderers\",\"id\":\"p2183\"},\"data\":{\"type\":\"map\",\"entries\":[[\"x\",{\"type\":\"ndarray\",\"array\":{\"type\":\"bytes\",\"data\":\"AABW7NBbeEIAABDI0Vt4QgAAyqPSW3hCAACEf9NbeEIAAD5b1Ft4QgAA+DbVW3hCAACyEtZbeEIAAGzu1lt4QgAAJsrXW3hCAADgpdhbeEIAAJqB2Vt4QgAAVF3aW3hCAAAOOdtbeEIAAMgU3Ft4QgAAgvDcW3hCAAA8zN1beEIAAPan3lt4QgAAsIPfW3hCAABqX+BbeEIAACQ74Vt4QgAA3hbiW3hCAACY8uJbeEIAAFLO41t4QgAADKrkW3hCAADUWeVbeEIAAMaF5Vt4QgAAgGHmW3hCAAA6PedbeEIAABa66Ft4QgAAbsnqW3hCAAAopetbeEIAAOKA7Ft4QgAAnFztW3hCAABWOO5beEIAABAU71t4QgAAyu/vW3hCAACEy/BbeEIAAD6n8Vt4QgAA+ILyW3hCAACyXvNbeEIAAGw69Ft4QgAAJhb1W3hCAADg8fVbeEIAAJrN9lt4QgAAVKn3W3hCAAAOhfhbeEIAAMhg+Vt4QgAAgjz6W3hCAAA8GPtbeEIAAPbz+1t4QgAAsM/8W3hCAABqq/1beEIAACSH/lt4QgAA3mL/W3hCAACYPgBceEIAAFIaAVx4QgAADPYBXHhCAADG0QJceEIAAICtA1x4QgAAOokEXHhCAABAggVceEIAAIyfBVx4QgAA+l0GXHhCAAC0OQdceEIAAG4VCFx4QgAAKPEIXHhCAADizAlceEIAAJyoClx4QgAAVoQLXHhCAAAQYAxceEIAAMo7DVx4QgAAhBcOXHhCAAA+8w5ceEIAAPjOD1x4QgAAsqoQXHhCAABshhFceEIAACZiElx4QgAA4D0TXHhCAACaGRRceEIAAFT1FFx4QgAADtEVXHhCAADIrBZceEIAAIKIF1x4QgAAPGQYXHhCAAD2PxlceEIAALAbGlx4QgAAEAYbXHhCAADYtRtceEIAAK45HFx4QgAAdukcXHhCAAAwxR1ceEIAAOqgHlx4QgAApHwfXHhCAABeWCBceEIAABg0IVx4QgAA0g8iXHhC\"},\"shape\":[96],\"dtype\":\"float64\",\"order\":\"little\"}],[\"y\",{\"type\":\"ndarray\",\"array\":{\"type\":\"bytes\",\"data\":\"AAAAAABAWEAAAAAAAEBXQAAAAAAAgFZAAAAAAAAAWEAAAAAAAIBZQAAAAAAAQFpAAAAAAADAWUAAAAAAAABZQAAAAAAAgFZAAAAAAABAUkAAAAAAAIBPQAAAAAAAAFJAAAAAAACAVUAAAAAAAEBVQAAAAAAAQFRAAAAAAADAUkAAAAAAAMBUQAAAAAAAQFhAAAAAAAAAWEAAAAAAAABYQAAAAAAAQFZAAAAAAAAAU0AAAAAAAEBTQAAAAAAAAFlAAAAAAABAX0AAAAAAAMBbQAAAAAAAgFpAAAAAAACAV0AAAAAAAIBbQAAAAAAAwFlAAAAAAADAWkAAAAAAAABZQAAAAAAAwFZAAAAAAACAVkAAAAAAAIBXQAAAAAAAQFhAAAAAAABAWEAAAAAAAIBYQAAAAAAAgFhAAAAAAACAWEAAAAAAAABZQAAAAAAAAFlAAAAAAADAWEAAAAAAAABZQAAAAAAAAFpAAAAAAACAWUAAAAAAAABYQAAAAAAAAFpAAAAAAABAX0AAAAAAAEBgQAAAAAAAAF1AAAAAAAAAWkAAAAAAAIBYQAAAAAAAwFdAAAAAAAAAWEAAAAAAAEBYQAAAAAAAgFhAAAAAAACAWEAAAAAAAABYQAAAAAAAgFhAAAAAAADAWUAAAAAAAABaQAAAAAAAwFlAAAAAAABAWUAAAAAAAABZQAAAAAAAAFpAAAAAAAAAW0AAAAAAAEBbQAAAAAAAgFpAAAAAAAAAWUAAAAAAAIBYQAAAAAAAgFhAAAAAAACAWEAAAAAAAEBYQAAAAAAAwFdAAAAAAADAWUAAAAAAAIBeQAAAAAAAoGFAAAAAAABgYUAAAAAAAIBcQAAAAAAAQFlAAAAAAACAWkAAAAAAAEBcQAAAAAAAgFxAAAAAAABAWkAAAAAAAABZQAAAAAAAgFpAAAAAAABAXUAAAAAAAMBcQAAAAAAAQFlAAAAAAABAWUAAAAAAAABZQAAAAAAAAFdAAAAAAAAAVEAAAAAAAEBTQAAAAAAAgFNA\"},\"shape\":[96],\"dtype\":\"float64\",\"order\":\"little\"}]]}}},\"view\":{\"type\":\"object\",\"name\":\"CDSView\",\"id\":\"p2188\",\"attributes\":{\"filter\":{\"type\":\"object\",\"name\":\"AllIndices\",\"id\":\"p2189\"}}},\"glyph\":{\"type\":\"object\",\"name\":\"Line\",\"id\":\"p2184\",\"attributes\":{\"x\":{\"type\":\"field\",\"field\":\"x\"},\"y\":{\"type\":\"field\",\"field\":\"y\"},\"line_color\":\"gray\",\"line_alpha\":0.5,\"line_width\":2}},\"nonselection_glyph\":{\"type\":\"object\",\"name\":\"Line\",\"id\":\"p2185\",\"attributes\":{\"x\":{\"type\":\"field\",\"field\":\"x\"},\"y\":{\"type\":\"field\",\"field\":\"y\"},\"line_color\":\"gray\",\"line_alpha\":0.1,\"line_width\":2}},\"muted_glyph\":{\"type\":\"object\",\"name\":\"Line\",\"id\":\"p2186\",\"attributes\":{\"x\":{\"type\":\"field\",\"field\":\"x\"},\"y\":{\"type\":\"field\",\"field\":\"y\"},\"line_color\":\"gray\",\"line_alpha\":0.2,\"line_width\":2}}}},{\"type\":\"object\",\"name\":\"GlyphRenderer\",\"id\":\"p2197\",\"attributes\":{\"data_source\":{\"type\":\"object\",\"name\":\"ColumnDataSource\",\"id\":\"p2191\",\"attributes\":{\"selected\":{\"type\":\"object\",\"name\":\"Selection\",\"id\":\"p2192\",\"attributes\":{\"indices\":[],\"line_indices\":[]}},\"selection_policy\":{\"type\":\"object\",\"name\":\"UnionRenderers\",\"id\":\"p2193\"},\"data\":{\"type\":\"map\",\"entries\":[[\"x\",{\"type\":\"ndarray\",\"array\":{\"type\":\"bytes\",\"data\":\"AADgPRNceEIAANRZ5Vt4QgAA9vP7W3hCAAD4NtVbeEI=\"},\"shape\":[4],\"dtype\":\"float64\",\"order\":\"little\"}],[\"y\",{\"type\":\"ndarray\",\"array\":{\"type\":\"bytes\",\"data\":\"AAAAAACgYUAAAAAAAEBfQAAAAAAAQGBAAAAAAABAWkA=\"},\"shape\":[4],\"dtype\":\"float64\",\"order\":\"little\"}]]}}},\"view\":{\"type\":\"object\",\"name\":\"CDSView\",\"id\":\"p2198\",\"attributes\":{\"filter\":{\"type\":\"object\",\"name\":\"AllIndices\",\"id\":\"p2199\"}}},\"glyph\":{\"type\":\"object\",\"name\":\"Scatter\",\"id\":\"p2194\",\"attributes\":{\"x\":{\"type\":\"field\",\"field\":\"x\"},\"y\":{\"type\":\"field\",\"field\":\"y\"},\"size\":{\"type\":\"value\",\"value\":6},\"line_color\":{\"type\":\"value\",\"value\":\"darkblue\"},\"line_alpha\":{\"type\":\"value\",\"value\":0.7},\"fill_color\":{\"type\":\"value\",\"value\":\"darkblue\"},\"fill_alpha\":{\"type\":\"value\",\"value\":0.7},\"hatch_color\":{\"type\":\"value\",\"value\":\"darkblue\"},\"hatch_alpha\":{\"type\":\"value\",\"value\":0.7}}},\"nonselection_glyph\":{\"type\":\"object\",\"name\":\"Scatter\",\"id\":\"p2195\",\"attributes\":{\"x\":{\"type\":\"field\",\"field\":\"x\"},\"y\":{\"type\":\"field\",\"field\":\"y\"},\"size\":{\"type\":\"value\",\"value\":6},\"line_color\":{\"type\":\"value\",\"value\":\"darkblue\"},\"line_alpha\":{\"type\":\"value\",\"value\":0.1},\"fill_color\":{\"type\":\"value\",\"value\":\"darkblue\"},\"fill_alpha\":{\"type\":\"value\",\"value\":0.1},\"hatch_color\":{\"type\":\"value\",\"value\":\"darkblue\"},\"hatch_alpha\":{\"type\":\"value\",\"value\":0.1}}},\"muted_glyph\":{\"type\":\"object\",\"name\":\"Scatter\",\"id\":\"p2196\",\"attributes\":{\"x\":{\"type\":\"field\",\"field\":\"x\"},\"y\":{\"type\":\"field\",\"field\":\"y\"},\"size\":{\"type\":\"value\",\"value\":6},\"line_color\":{\"type\":\"value\",\"value\":\"darkblue\"},\"line_alpha\":{\"type\":\"value\",\"value\":0.2},\"fill_color\":{\"type\":\"value\",\"value\":\"darkblue\"},\"fill_alpha\":{\"type\":\"value\",\"value\":0.2},\"hatch_color\":{\"type\":\"value\",\"value\":\"darkblue\"},\"hatch_alpha\":{\"type\":\"value\",\"value\":0.2}}}}}],\"toolbar\":{\"type\":\"object\",\"name\":\"Toolbar\",\"id\":\"p2153\",\"attributes\":{\"tools\":[{\"type\":\"object\",\"name\":\"PanTool\",\"id\":\"p2178\"},{\"type\":\"object\",\"name\":\"WheelZoomTool\",\"id\":\"p2179\",\"attributes\":{\"dimensions\":\"width\",\"renderers\":\"auto\"}},{\"type\":\"object\",\"name\":\"WheelZoomTool\",\"id\":\"p2180\",\"attributes\":{\"dimensions\":\"height\",\"renderers\":\"auto\"}}],\"active_scroll\":{\"id\":\"p2179\"}}},\"left\":[{\"type\":\"object\",\"name\":\"LinearAxis\",\"id\":\"p2173\",\"attributes\":{\"ticker\":{\"type\":\"object\",\"name\":\"BasicTicker\",\"id\":\"p2174\",\"attributes\":{\"mantissas\":[1,2,5]}},\"formatter\":{\"type\":\"object\",\"name\":\"BasicTickFormatter\",\"id\":\"p2175\"},\"axis_label\":\"Glucose\",\"major_label_policy\":{\"type\":\"object\",\"name\":\"AllLabels\",\"id\":\"p2176\"}}}],\"above\":[{\"type\":\"object\",\"name\":\"DatetimeAxis\",\"id\":\"p2156\",\"attributes\":{\"ticker\":{\"type\":\"object\",\"name\":\"DatetimeTicker\",\"id\":\"p2157\",\"attributes\":{\"num_minor_ticks\":5,\"tickers\":[{\"type\":\"object\",\"name\":\"AdaptiveTicker\",\"id\":\"p2158\",\"attributes\":{\"num_minor_ticks\":0,\"mantissas\":[1,2,5],\"max_interval\":500.0}},{\"type\":\"object\",\"name\":\"AdaptiveTicker\",\"id\":\"p2159\",\"attributes\":{\"num_minor_ticks\":0,\"base\":60,\"mantissas\":[1,2,5,10,15,20,30],\"min_interval\":1000.0,\"max_interval\":1800000.0}},{\"type\":\"object\",\"name\":\"AdaptiveTicker\",\"id\":\"p2160\",\"attributes\":{\"num_minor_ticks\":0,\"base\":24,\"mantissas\":[1,2,4,6,8,12],\"min_interval\":3600000.0,\"max_interval\":43200000.0}},{\"type\":\"object\",\"name\":\"DaysTicker\",\"id\":\"p2161\",\"attributes\":{\"days\":[1,2,3,4,5,6,7,8,9,10,11,12,13,14,15,16,17,18,19,20,21,22,23,24,25,26,27,28,29,30,31]}},{\"type\":\"object\",\"name\":\"DaysTicker\",\"id\":\"p2162\",\"attributes\":{\"days\":[1,4,7,10,13,16,19,22,25,28]}},{\"type\":\"object\",\"name\":\"DaysTicker\",\"id\":\"p2163\",\"attributes\":{\"days\":[1,8,15,22]}},{\"type\":\"object\",\"name\":\"DaysTicker\",\"id\":\"p2164\",\"attributes\":{\"days\":[1,15]}},{\"type\":\"object\",\"name\":\"MonthsTicker\",\"id\":\"p2165\",\"attributes\":{\"months\":[0,1,2,3,4,5,6,7,8,9,10,11]}},{\"type\":\"object\",\"name\":\"MonthsTicker\",\"id\":\"p2166\",\"attributes\":{\"months\":[0,2,4,6,8,10]}},{\"type\":\"object\",\"name\":\"MonthsTicker\",\"id\":\"p2167\",\"attributes\":{\"months\":[0,4,8]}},{\"type\":\"object\",\"name\":\"MonthsTicker\",\"id\":\"p2168\",\"attributes\":{\"months\":[0,6]}},{\"type\":\"object\",\"name\":\"YearsTicker\",\"id\":\"p2169\"}]}},\"formatter\":{\"type\":\"object\",\"name\":\"DatetimeTickFormatter\",\"id\":\"p2170\"},\"axis_label\":\"Time\",\"major_label_policy\":{\"type\":\"object\",\"name\":\"AllLabels\",\"id\":\"p2171\"}}}],\"center\":[{\"type\":\"object\",\"name\":\"Grid\",\"id\":\"p2172\",\"attributes\":{\"axis\":{\"id\":\"p2156\"}}},{\"type\":\"object\",\"name\":\"Grid\",\"id\":\"p2177\",\"attributes\":{\"dimension\":1,\"axis\":{\"id\":\"p2173\"}}},{\"type\":\"object\",\"name\":\"Span\",\"id\":\"p2190\",\"attributes\":{\"location\":99.46875,\"line_color\":\"red\"}},{\"type\":\"object\",\"name\":\"Span\",\"id\":\"p2200\",\"attributes\":{\"location\":1673942400000.0,\"dimension\":\"height\",\"line_color\":\"orange\",\"line_width\":2}},{\"type\":\"object\",\"name\":\"BoxAnnotation\",\"id\":\"p2201\",\"attributes\":{\"left\":1673942400000.0,\"right\":1673946000000.0,\"top\":{\"type\":\"object\",\"name\":\"Node\",\"id\":\"p2204\",\"attributes\":{\"target\":\"frame\",\"symbol\":\"top\"}},\"bottom\":{\"type\":\"object\",\"name\":\"Node\",\"id\":\"p2205\",\"attributes\":{\"target\":\"frame\",\"symbol\":\"bottom\"}},\"fill_color\":\"orange\",\"fill_alpha\":0.3}},{\"type\":\"object\",\"name\":\"Label\",\"id\":\"p2206\",\"attributes\":{\"text\":\"325.00\",\"text_color\":\"black\",\"text_font_size\":\"10pt\",\"background_fill_color\":\"white\",\"background_fill_alpha\":0.7,\"x\":1673942400000.0,\"y\":110,\"angle\":90,\"angle_units\":\"deg\"}},{\"type\":\"object\",\"name\":\"Span\",\"id\":\"p2207\",\"attributes\":{\"location\":1673956800000.0,\"dimension\":\"height\",\"line_color\":\"orange\",\"line_width\":2}},{\"type\":\"object\",\"name\":\"BoxAnnotation\",\"id\":\"p2208\",\"attributes\":{\"left\":1673956800000.0,\"right\":1673960400000.0,\"top\":{\"type\":\"object\",\"name\":\"Node\",\"id\":\"p2211\",\"attributes\":{\"target\":\"frame\",\"symbol\":\"top\"}},\"bottom\":{\"type\":\"object\",\"name\":\"Node\",\"id\":\"p2212\",\"attributes\":{\"target\":\"frame\",\"symbol\":\"bottom\"}},\"fill_color\":\"orange\",\"fill_alpha\":0.3}},{\"type\":\"object\",\"name\":\"Label\",\"id\":\"p2213\",\"attributes\":{\"text\":\"836.00\",\"text_color\":\"black\",\"text_font_size\":\"10pt\",\"background_fill_color\":\"white\",\"background_fill_alpha\":0.7,\"x\":1673956800000.0,\"y\":110,\"angle\":90,\"angle_units\":\"deg\"}},{\"type\":\"object\",\"name\":\"Span\",\"id\":\"p2214\",\"attributes\":{\"location\":1673971200000.0,\"dimension\":\"height\",\"line_color\":\"orange\",\"line_width\":2}},{\"type\":\"object\",\"name\":\"BoxAnnotation\",\"id\":\"p2215\",\"attributes\":{\"left\":1673971200000.0,\"right\":1673974800000.0,\"top\":{\"type\":\"object\",\"name\":\"Node\",\"id\":\"p2218\",\"attributes\":{\"target\":\"frame\",\"symbol\":\"top\"}},\"bottom\":{\"type\":\"object\",\"name\":\"Node\",\"id\":\"p2219\",\"attributes\":{\"target\":\"frame\",\"symbol\":\"bottom\"}},\"fill_color\":\"orange\",\"fill_alpha\":0.3}},{\"type\":\"object\",\"name\":\"Label\",\"id\":\"p2220\",\"attributes\":{\"text\":\"150.00\",\"text_color\":\"black\",\"text_font_size\":\"10pt\",\"background_fill_color\":\"white\",\"background_fill_alpha\":0.7,\"x\":1673971200000.0,\"y\":110,\"angle\":90,\"angle_units\":\"deg\"}},{\"type\":\"object\",\"name\":\"Span\",\"id\":\"p2221\",\"attributes\":{\"location\":1673978400000.0,\"dimension\":\"height\",\"line_color\":\"orange\",\"line_width\":2}},{\"type\":\"object\",\"name\":\"BoxAnnotation\",\"id\":\"p2222\",\"attributes\":{\"left\":1673978400000.0,\"right\":1673982000000.0,\"top\":{\"type\":\"object\",\"name\":\"Node\",\"id\":\"p2225\",\"attributes\":{\"target\":\"frame\",\"symbol\":\"top\"}},\"bottom\":{\"type\":\"object\",\"name\":\"Node\",\"id\":\"p2226\",\"attributes\":{\"target\":\"frame\",\"symbol\":\"bottom\"}},\"fill_color\":\"orange\",\"fill_alpha\":0.3}},{\"type\":\"object\",\"name\":\"Label\",\"id\":\"p2227\",\"attributes\":{\"text\":\"647.00\",\"text_color\":\"black\",\"text_font_size\":\"10pt\",\"background_fill_color\":\"white\",\"background_fill_alpha\":0.7,\"x\":1673978400000.0,\"y\":110,\"angle\":90,\"angle_units\":\"deg\"}}]}}]}};\n",
              "  const render_items = [{\"docid\":\"2a32da22-fafd-4dfd-8b60-58ae6ed78ab8\",\"roots\":{\"p2145\":\"af0ea2e0-a0f5-492e-8465-d36eab881a92\"},\"root_ids\":[\"p2145\"]}];\n",
              "  void root.Bokeh.embed.embed_items_notebook(docs_json, render_items);\n",
              "  }\n",
              "  if (root.Bokeh !== undefined) {\n",
              "    embed_document(root);\n",
              "  } else {\n",
              "    let attempts = 0;\n",
              "    const timer = setInterval(function(root) {\n",
              "      if (root.Bokeh !== undefined) {\n",
              "        clearInterval(timer);\n",
              "        embed_document(root);\n",
              "      } else {\n",
              "        attempts++;\n",
              "        if (attempts > 100) {\n",
              "          clearInterval(timer);\n",
              "          console.log(\"Bokeh: ERROR: Unable to run BokehJS code because BokehJS library is missing\");\n",
              "        }\n",
              "      }\n",
              "    }, 10, root)\n",
              "  }\n",
              "})(window);"
            ],
            "application/vnd.bokehjs_exec.v0+json": ""
          },
          "metadata": {
            "application/vnd.bokehjs_exec.v0+json": {
              "id": "p2145"
            }
          }
        },
        {
          "output_type": "stream",
          "name": "stdout",
          "text": [
            "\n",
            "\n",
            "\n"
          ]
        },
        {
          "output_type": "display_data",
          "data": {
            "text/html": [
              "\n",
              "  <div id=\"dddb9ab0-9df1-44b9-aea4-3ddea3f105c0\" data-root-id=\"p2232\" style=\"display: contents;\"></div>\n"
            ]
          },
          "metadata": {}
        },
        {
          "output_type": "display_data",
          "data": {
            "application/javascript": [
              "(function(root) {\n",
              "  function embed_document(root) {\n",
              "  const docs_json = {\"320a02c1-ad58-4d7e-9953-845034d20e19\":{\"version\":\"3.4.3\",\"title\":\"Bokeh Application\",\"roots\":[{\"type\":\"object\",\"name\":\"Figure\",\"id\":\"p2232\",\"attributes\":{\"height\":400,\"x_range\":{\"type\":\"object\",\"name\":\"DataRange1d\",\"id\":\"p2233\"},\"y_range\":{\"type\":\"object\",\"name\":\"DataRange1d\",\"id\":\"p2234\"},\"x_scale\":{\"type\":\"object\",\"name\":\"LinearScale\",\"id\":\"p2241\"},\"y_scale\":{\"type\":\"object\",\"name\":\"LinearScale\",\"id\":\"p2242\"},\"title\":{\"type\":\"object\",\"name\":\"Title\",\"id\":\"p2239\",\"attributes\":{\"text\":\"Day: 2023-01-18\",\"text_font_size\":\"20pt\",\"align\":\"center\"}},\"renderers\":[{\"type\":\"object\",\"name\":\"GlyphRenderer\",\"id\":\"p2274\",\"attributes\":{\"data_source\":{\"type\":\"object\",\"name\":\"ColumnDataSource\",\"id\":\"p2268\",\"attributes\":{\"selected\":{\"type\":\"object\",\"name\":\"Selection\",\"id\":\"p2269\",\"attributes\":{\"indices\":[],\"line_indices\":[]}},\"selection_policy\":{\"type\":\"object\",\"name\":\"UnionRenderers\",\"id\":\"p2270\"},\"data\":{\"type\":\"map\",\"entries\":[[\"x\",{\"type\":\"ndarray\",\"array\":{\"type\":\"bytes\",\"data\":\"AACM6yJceEIAAEbHI1x4QgAAAKMkXHhCAAC6fiVceEIAAHRaJlx4QgAALjYnXHhCAADoEShceEIAAKLtKFx4QgAAXMkpXHhCAAAWpSpceEIAANCAK1x4QgAAilwsXHhCAABEOC1ceEIAAP4TLlx4QgAAuO8uXHhCAAByyy9ceEIAACynMFx4QgAA5oIxXHhCAACgXjJceEIAAFo6M1x4QgAAFBY0XHhCAADO8TRceEIAAIjNNVx4QgAAQqk2XHhCAACikzdceEIAAJS/N1x4QgAAXG84XHhCAAAWSzlceEIAANAmOlx4QgAArKM7XHhCAACSMEFceEIAAEwMQlx4QgAABuhCXHhCAADAw0NceEIAAHqfRFx4QgAANHtFXHhCAADuVkZceEIAAKgyR1x4QgAAYg5IXHhCAAAc6khceEIAANbFSVx4QgAAkKFKXHhCAABKfUtceEIAAARZTFx4QgAAvjRNXHhCAAB4EE5ceEIAADLsTlx4QgAA7MdPXHhCAACmo1BceEIAAGB/UVx4QgAAGltSXHhCAADUNlNceEIAAI4SVFx4QgAASO5UXHhCAAACylVceEIAALylVlx4QgAAdoFXXHhCAAAwXVhceEIAAOo4WVx4QgAApBRaXHhCAABe8FpceEIAAL7aW1x4QgAAojJcXHhCAAB4tlxceEIAADKSXVx4QgAA7G1eXHhCAACmSV9ceEIAAGAlYFx4QgAAGgFhXHhCAADU3GFceEIAAI64Ylx4QgAASJRjXHhCAAACcGRceEIAALxLZVx4QgAAdidmXHhCAAAwA2dceEIAAOreZ1x4QgAApLpoXHhCAABelmlceEIAABhyalx4QgAA0k1rXHhCAACo0WtceEIAAIwpbFx4QgAARgVtXHhCAAAA4W1ceEIAALq8blx4QgAAGqdvXHhCAAA8SHBceEIAANSCcFx4QgAAjl5xXHhCAABIOnJceEIAAAIWc1x4QgAATjNzXHhCAAAID3RceEIAAMLqdFx4Qg==\"},\"shape\":[95],\"dtype\":\"float64\",\"order\":\"little\"}],[\"y\",{\"type\":\"ndarray\",\"array\":{\"type\":\"bytes\",\"data\":\"AAAAAAAAV0AAAAAAAABaQAAAAAAAwFlAAAAAAABAWUAAAAAAAEBZQAAAAAAAQFhAAAAAAACAVkAAAAAAAMBVQAAAAAAAAFZAAAAAAABAVkAAAAAAAIBUQAAAAAAAQFJAAAAAAACAU0AAAAAAAABWQAAAAAAAQFZAAAAAAAAAVkAAAAAAAIBWQAAAAAAAgFhAAAAAAADAWEAAAAAAAEBYQAAAAAAAwFdAAAAAAAAAVkAAAAAAAABVQAAAAAAAgFZAAAAAAAAAW0AAAAAAAABaQAAAAAAAwFlAAAAAAACAVkAAAAAAAMBWQAAAAAAAAF1AAAAAAABAWEAAAAAAAMBWQAAAAAAAwFZAAAAAAADAVkAAAAAAAMBWQAAAAAAAQFdAAAAAAABAWEAAAAAAAIBYQAAAAAAAQFhAAAAAAACAWEAAAAAAAMBXQAAAAAAAAFpAAAAAAABAYEAAAAAAAOBiQAAAAAAAAGJAAAAAAAAAXkAAAAAAAMBYQAAAAAAAAFhAAAAAAACAWEAAAAAAAABYQAAAAAAAwFdAAAAAAABAV0AAAAAAAEBXQAAAAAAAAFdAAAAAAADAVkAAAAAAAABWQAAAAAAAQFVAAAAAAABAVUAAAAAAAIBVQAAAAAAAgFVAAAAAAADAVUAAAAAAAMBVQAAAAAAAgFVAAAAAAACAVUAAAAAAAIBWQAAAAAAAQFpAAAAAAADAXEAAAAAAAMBbQAAAAAAAAFtAAAAAAADAWUAAAAAAAABZQAAAAAAAgFpAAAAAAADAXUAAAAAAAEBfQAAAAAAAwFpAAAAAAABAVEAAAAAAAMBTQAAAAAAAAFVAAAAAAACAVEAAAAAAAMBSQAAAAAAAQFRAAAAAAABAVEAAAAAAAMBVQAAAAAAAgFZAAAAAAABAVkAAAAAAAEBWQAAAAAAAAFdAAAAAAABAV0AAAAAAAEBVQAAAAAAAgFJAAAAAAACAUUAAAAAAAMBTQAAAAAAAgFNAAAAAAABAVEAAAAAAAEBQQA==\"},\"shape\":[95],\"dtype\":\"float64\",\"order\":\"little\"}]]}}},\"view\":{\"type\":\"object\",\"name\":\"CDSView\",\"id\":\"p2275\",\"attributes\":{\"filter\":{\"type\":\"object\",\"name\":\"AllIndices\",\"id\":\"p2276\"}}},\"glyph\":{\"type\":\"object\",\"name\":\"Line\",\"id\":\"p2271\",\"attributes\":{\"x\":{\"type\":\"field\",\"field\":\"x\"},\"y\":{\"type\":\"field\",\"field\":\"y\"},\"line_color\":\"gray\",\"line_alpha\":0.5,\"line_width\":2}},\"nonselection_glyph\":{\"type\":\"object\",\"name\":\"Line\",\"id\":\"p2272\",\"attributes\":{\"x\":{\"type\":\"field\",\"field\":\"x\"},\"y\":{\"type\":\"field\",\"field\":\"y\"},\"line_color\":\"gray\",\"line_alpha\":0.1,\"line_width\":2}},\"muted_glyph\":{\"type\":\"object\",\"name\":\"Line\",\"id\":\"p2273\",\"attributes\":{\"x\":{\"type\":\"field\",\"field\":\"x\"},\"y\":{\"type\":\"field\",\"field\":\"y\"},\"line_color\":\"gray\",\"line_alpha\":0.2,\"line_width\":2}}}},{\"type\":\"object\",\"name\":\"GlyphRenderer\",\"id\":\"p2284\",\"attributes\":{\"data_source\":{\"type\":\"object\",\"name\":\"ColumnDataSource\",\"id\":\"p2278\",\"attributes\":{\"selected\":{\"type\":\"object\",\"name\":\"Selection\",\"id\":\"p2279\",\"attributes\":{\"indices\":[],\"line_indices\":[]}},\"selection_policy\":{\"type\":\"object\",\"name\":\"UnionRenderers\",\"id\":\"p2280\"},\"data\":{\"type\":\"map\",\"entries\":[[\"x\",{\"type\":\"ndarray\",\"array\":{\"type\":\"bytes\",\"data\":\"AAAEWUxceEIAALxLZVx4QgAArKM7XHhCAABGxyNceEI=\"},\"shape\":[4],\"dtype\":\"float64\",\"order\":\"little\"}],[\"y\",{\"type\":\"ndarray\",\"array\":{\"type\":\"bytes\",\"data\":\"AAAAAADgYkAAAAAAAEBfQAAAAAAAAF1AAAAAAAAAWkA=\"},\"shape\":[4],\"dtype\":\"float64\",\"order\":\"little\"}]]}}},\"view\":{\"type\":\"object\",\"name\":\"CDSView\",\"id\":\"p2285\",\"attributes\":{\"filter\":{\"type\":\"object\",\"name\":\"AllIndices\",\"id\":\"p2286\"}}},\"glyph\":{\"type\":\"object\",\"name\":\"Scatter\",\"id\":\"p2281\",\"attributes\":{\"x\":{\"type\":\"field\",\"field\":\"x\"},\"y\":{\"type\":\"field\",\"field\":\"y\"},\"size\":{\"type\":\"value\",\"value\":6},\"line_color\":{\"type\":\"value\",\"value\":\"darkblue\"},\"line_alpha\":{\"type\":\"value\",\"value\":0.7},\"fill_color\":{\"type\":\"value\",\"value\":\"darkblue\"},\"fill_alpha\":{\"type\":\"value\",\"value\":0.7},\"hatch_color\":{\"type\":\"value\",\"value\":\"darkblue\"},\"hatch_alpha\":{\"type\":\"value\",\"value\":0.7}}},\"nonselection_glyph\":{\"type\":\"object\",\"name\":\"Scatter\",\"id\":\"p2282\",\"attributes\":{\"x\":{\"type\":\"field\",\"field\":\"x\"},\"y\":{\"type\":\"field\",\"field\":\"y\"},\"size\":{\"type\":\"value\",\"value\":6},\"line_color\":{\"type\":\"value\",\"value\":\"darkblue\"},\"line_alpha\":{\"type\":\"value\",\"value\":0.1},\"fill_color\":{\"type\":\"value\",\"value\":\"darkblue\"},\"fill_alpha\":{\"type\":\"value\",\"value\":0.1},\"hatch_color\":{\"type\":\"value\",\"value\":\"darkblue\"},\"hatch_alpha\":{\"type\":\"value\",\"value\":0.1}}},\"muted_glyph\":{\"type\":\"object\",\"name\":\"Scatter\",\"id\":\"p2283\",\"attributes\":{\"x\":{\"type\":\"field\",\"field\":\"x\"},\"y\":{\"type\":\"field\",\"field\":\"y\"},\"size\":{\"type\":\"value\",\"value\":6},\"line_color\":{\"type\":\"value\",\"value\":\"darkblue\"},\"line_alpha\":{\"type\":\"value\",\"value\":0.2},\"fill_color\":{\"type\":\"value\",\"value\":\"darkblue\"},\"fill_alpha\":{\"type\":\"value\",\"value\":0.2},\"hatch_color\":{\"type\":\"value\",\"value\":\"darkblue\"},\"hatch_alpha\":{\"type\":\"value\",\"value\":0.2}}}}}],\"toolbar\":{\"type\":\"object\",\"name\":\"Toolbar\",\"id\":\"p2240\",\"attributes\":{\"tools\":[{\"type\":\"object\",\"name\":\"PanTool\",\"id\":\"p2265\"},{\"type\":\"object\",\"name\":\"WheelZoomTool\",\"id\":\"p2266\",\"attributes\":{\"dimensions\":\"width\",\"renderers\":\"auto\"}},{\"type\":\"object\",\"name\":\"WheelZoomTool\",\"id\":\"p2267\",\"attributes\":{\"dimensions\":\"height\",\"renderers\":\"auto\"}}],\"active_scroll\":{\"id\":\"p2266\"}}},\"left\":[{\"type\":\"object\",\"name\":\"LinearAxis\",\"id\":\"p2260\",\"attributes\":{\"ticker\":{\"type\":\"object\",\"name\":\"BasicTicker\",\"id\":\"p2261\",\"attributes\":{\"mantissas\":[1,2,5]}},\"formatter\":{\"type\":\"object\",\"name\":\"BasicTickFormatter\",\"id\":\"p2262\"},\"axis_label\":\"Glucose\",\"major_label_policy\":{\"type\":\"object\",\"name\":\"AllLabels\",\"id\":\"p2263\"}}}],\"above\":[{\"type\":\"object\",\"name\":\"DatetimeAxis\",\"id\":\"p2243\",\"attributes\":{\"ticker\":{\"type\":\"object\",\"name\":\"DatetimeTicker\",\"id\":\"p2244\",\"attributes\":{\"num_minor_ticks\":5,\"tickers\":[{\"type\":\"object\",\"name\":\"AdaptiveTicker\",\"id\":\"p2245\",\"attributes\":{\"num_minor_ticks\":0,\"mantissas\":[1,2,5],\"max_interval\":500.0}},{\"type\":\"object\",\"name\":\"AdaptiveTicker\",\"id\":\"p2246\",\"attributes\":{\"num_minor_ticks\":0,\"base\":60,\"mantissas\":[1,2,5,10,15,20,30],\"min_interval\":1000.0,\"max_interval\":1800000.0}},{\"type\":\"object\",\"name\":\"AdaptiveTicker\",\"id\":\"p2247\",\"attributes\":{\"num_minor_ticks\":0,\"base\":24,\"mantissas\":[1,2,4,6,8,12],\"min_interval\":3600000.0,\"max_interval\":43200000.0}},{\"type\":\"object\",\"name\":\"DaysTicker\",\"id\":\"p2248\",\"attributes\":{\"days\":[1,2,3,4,5,6,7,8,9,10,11,12,13,14,15,16,17,18,19,20,21,22,23,24,25,26,27,28,29,30,31]}},{\"type\":\"object\",\"name\":\"DaysTicker\",\"id\":\"p2249\",\"attributes\":{\"days\":[1,4,7,10,13,16,19,22,25,28]}},{\"type\":\"object\",\"name\":\"DaysTicker\",\"id\":\"p2250\",\"attributes\":{\"days\":[1,8,15,22]}},{\"type\":\"object\",\"name\":\"DaysTicker\",\"id\":\"p2251\",\"attributes\":{\"days\":[1,15]}},{\"type\":\"object\",\"name\":\"MonthsTicker\",\"id\":\"p2252\",\"attributes\":{\"months\":[0,1,2,3,4,5,6,7,8,9,10,11]}},{\"type\":\"object\",\"name\":\"MonthsTicker\",\"id\":\"p2253\",\"attributes\":{\"months\":[0,2,4,6,8,10]}},{\"type\":\"object\",\"name\":\"MonthsTicker\",\"id\":\"p2254\",\"attributes\":{\"months\":[0,4,8]}},{\"type\":\"object\",\"name\":\"MonthsTicker\",\"id\":\"p2255\",\"attributes\":{\"months\":[0,6]}},{\"type\":\"object\",\"name\":\"YearsTicker\",\"id\":\"p2256\"}]}},\"formatter\":{\"type\":\"object\",\"name\":\"DatetimeTickFormatter\",\"id\":\"p2257\"},\"axis_label\":\"Time\",\"major_label_policy\":{\"type\":\"object\",\"name\":\"AllLabels\",\"id\":\"p2258\"}}}],\"center\":[{\"type\":\"object\",\"name\":\"Grid\",\"id\":\"p2259\",\"attributes\":{\"axis\":{\"id\":\"p2243\"}}},{\"type\":\"object\",\"name\":\"Grid\",\"id\":\"p2264\",\"attributes\":{\"dimension\":1,\"axis\":{\"id\":\"p2260\"}}},{\"type\":\"object\",\"name\":\"Span\",\"id\":\"p2277\",\"attributes\":{\"location\":94.14736842105263,\"line_color\":\"red\"}},{\"type\":\"object\",\"name\":\"Span\",\"id\":\"p2287\",\"attributes\":{\"location\":1674028800000.0,\"dimension\":\"height\",\"line_color\":\"orange\",\"line_width\":2}},{\"type\":\"object\",\"name\":\"BoxAnnotation\",\"id\":\"p2288\",\"attributes\":{\"left\":1674028800000.0,\"right\":1674032400000.0,\"top\":{\"type\":\"object\",\"name\":\"Node\",\"id\":\"p2291\",\"attributes\":{\"target\":\"frame\",\"symbol\":\"top\"}},\"bottom\":{\"type\":\"object\",\"name\":\"Node\",\"id\":\"p2292\",\"attributes\":{\"target\":\"frame\",\"symbol\":\"bottom\"}},\"fill_color\":\"orange\",\"fill_alpha\":0.3}},{\"type\":\"object\",\"name\":\"Label\",\"id\":\"p2293\",\"attributes\":{\"text\":\"325.00\",\"text_color\":\"black\",\"text_font_size\":\"10pt\",\"background_fill_color\":\"white\",\"background_fill_alpha\":0.7,\"x\":1674028800000.0,\"y\":110,\"angle\":90,\"angle_units\":\"deg\"}},{\"type\":\"object\",\"name\":\"Span\",\"id\":\"p2294\",\"attributes\":{\"location\":1674043200000.0,\"dimension\":\"height\",\"line_color\":\"orange\",\"line_width\":2}},{\"type\":\"object\",\"name\":\"BoxAnnotation\",\"id\":\"p2295\",\"attributes\":{\"left\":1674043200000.0,\"right\":1674046800000.0,\"top\":{\"type\":\"object\",\"name\":\"Node\",\"id\":\"p2298\",\"attributes\":{\"target\":\"frame\",\"symbol\":\"top\"}},\"bottom\":{\"type\":\"object\",\"name\":\"Node\",\"id\":\"p2299\",\"attributes\":{\"target\":\"frame\",\"symbol\":\"bottom\"}},\"fill_color\":\"orange\",\"fill_alpha\":0.3}},{\"type\":\"object\",\"name\":\"Label\",\"id\":\"p2300\",\"attributes\":{\"text\":\"882.00\",\"text_color\":\"black\",\"text_font_size\":\"10pt\",\"background_fill_color\":\"white\",\"background_fill_alpha\":0.7,\"x\":1674043200000.0,\"y\":110,\"angle\":90,\"angle_units\":\"deg\"}},{\"type\":\"object\",\"name\":\"Span\",\"id\":\"p2301\",\"attributes\":{\"location\":1674064800000.0,\"dimension\":\"height\",\"line_color\":\"orange\",\"line_width\":2}},{\"type\":\"object\",\"name\":\"BoxAnnotation\",\"id\":\"p2302\",\"attributes\":{\"left\":1674064800000.0,\"right\":1674068400000.0,\"top\":{\"type\":\"object\",\"name\":\"Node\",\"id\":\"p2305\",\"attributes\":{\"target\":\"frame\",\"symbol\":\"top\"}},\"bottom\":{\"type\":\"object\",\"name\":\"Node\",\"id\":\"p2306\",\"attributes\":{\"target\":\"frame\",\"symbol\":\"bottom\"}},\"fill_color\":\"orange\",\"fill_alpha\":0.3}},{\"type\":\"object\",\"name\":\"Label\",\"id\":\"p2307\",\"attributes\":{\"text\":\"479.00\",\"text_color\":\"black\",\"text_font_size\":\"10pt\",\"background_fill_color\":\"white\",\"background_fill_alpha\":0.7,\"x\":1674064800000.0,\"y\":110,\"angle\":90,\"angle_units\":\"deg\"}}]}}]}};\n",
              "  const render_items = [{\"docid\":\"320a02c1-ad58-4d7e-9953-845034d20e19\",\"roots\":{\"p2232\":\"dddb9ab0-9df1-44b9-aea4-3ddea3f105c0\"},\"root_ids\":[\"p2232\"]}];\n",
              "  void root.Bokeh.embed.embed_items_notebook(docs_json, render_items);\n",
              "  }\n",
              "  if (root.Bokeh !== undefined) {\n",
              "    embed_document(root);\n",
              "  } else {\n",
              "    let attempts = 0;\n",
              "    const timer = setInterval(function(root) {\n",
              "      if (root.Bokeh !== undefined) {\n",
              "        clearInterval(timer);\n",
              "        embed_document(root);\n",
              "      } else {\n",
              "        attempts++;\n",
              "        if (attempts > 100) {\n",
              "          clearInterval(timer);\n",
              "          console.log(\"Bokeh: ERROR: Unable to run BokehJS code because BokehJS library is missing\");\n",
              "        }\n",
              "      }\n",
              "    }, 10, root)\n",
              "  }\n",
              "})(window);"
            ],
            "application/vnd.bokehjs_exec.v0+json": ""
          },
          "metadata": {
            "application/vnd.bokehjs_exec.v0+json": {
              "id": "p2232"
            }
          }
        },
        {
          "output_type": "stream",
          "name": "stdout",
          "text": [
            "\n",
            "\n",
            "\n"
          ]
        },
        {
          "output_type": "display_data",
          "data": {
            "text/html": [
              "\n",
              "  <div id=\"e24ff938-418c-4255-98ec-23a70612d73c\" data-root-id=\"p2312\" style=\"display: contents;\"></div>\n"
            ]
          },
          "metadata": {}
        },
        {
          "output_type": "display_data",
          "data": {
            "application/javascript": [
              "(function(root) {\n",
              "  function embed_document(root) {\n",
              "  const docs_json = {\"ffabb283-1818-4251-9870-1a95d3b2f87f\":{\"version\":\"3.4.3\",\"title\":\"Bokeh Application\",\"roots\":[{\"type\":\"object\",\"name\":\"Figure\",\"id\":\"p2312\",\"attributes\":{\"height\":400,\"x_range\":{\"type\":\"object\",\"name\":\"DataRange1d\",\"id\":\"p2313\"},\"y_range\":{\"type\":\"object\",\"name\":\"DataRange1d\",\"id\":\"p2314\"},\"x_scale\":{\"type\":\"object\",\"name\":\"LinearScale\",\"id\":\"p2321\"},\"y_scale\":{\"type\":\"object\",\"name\":\"LinearScale\",\"id\":\"p2322\"},\"title\":{\"type\":\"object\",\"name\":\"Title\",\"id\":\"p2319\",\"attributes\":{\"text\":\"Day: 2024-06-18\",\"text_font_size\":\"20pt\",\"align\":\"center\"}},\"renderers\":[{\"type\":\"object\",\"name\":\"GlyphRenderer\",\"id\":\"p2354\",\"attributes\":{\"data_source\":{\"type\":\"object\",\"name\":\"ColumnDataSource\",\"id\":\"p2348\",\"attributes\":{\"selected\":{\"type\":\"object\",\"name\":\"Selection\",\"id\":\"p2349\",\"attributes\":{\"indices\":[],\"line_indices\":[]}},\"selection_policy\":{\"type\":\"object\",\"name\":\"UnionRenderers\",\"id\":\"p2350\"},\"data\":{\"type\":\"map\",\"entries\":[[\"x\",{\"type\":\"ndarray\",\"array\":{\"type\":\"bytes\",\"data\":\"AADy84oCeUIAAKzPiwJ5QgAAZquMAnlCAAAgh40CeUIAANpijgJ5QgAAlD6PAnlCAABOGpACeUIAAAj2kAJ5QgAAwtGRAnlCAAB8rZICeUIAADaJkwJ5QgAA8GSUAnlCAACqQJUCeUIAAGQclgJ5QgAAHviWAnlCAADY05cCeUIAAJKvmAJ5QgAATIuZAnlCAAAGZ5oCeUIAAMBCmwJ5QgAAeh6cAnlCAAA0+pwCeUIAAO7VnQJ5QgAAqLGeAnlCAABijZ8CeUIAgN7QoAJ5QgCAmKyhAnlCAIBSiKICeUIAgAxkowJ5QgCAxj+kAnlCAICAG6UCeUIAgDr3pQJ5QgCA9NKmAnlCAICurqcCeUIAgGiKqAJ5QgCAImapAnlCAIDcQaoCeUIAgJYdqwJ5QgCAUPmrAnlCAIAK1awCeUIAgMSwrQJ5QgCAfoyuAnlCAIA4aK8CeUIAgPJDsAJ5QgCArB+xAnlCAIBm+7ECeUIAgCDXsgJ5QgCA2rKzAnlCAICbeLQCeUIAgFVUtQJ5QgCADzC2AnlCAIDJC7cCeUIAgIPntwJ5QgCAPcO4AnlCAID3nrkCeUIAgLF6ugJ5QgCAa1a7AnlCAIAlMrwCeUIAgN8NvQJ5QgAA86a9AnlCAACtgr4CeUIAAGdevwJ5QgAAITrAAnlCAADbFcECeUIAAJXxwQJ5QgAAT83CAnlCAAAJqcMCeUIAAMOExAJ5QgAAfWDFAnlCAAA3PMYCeUIAAPEXxwJ5QgAAfU7IAnlCAAA3KskCeUIAAPEFygJ5QgCAKBbLAnlCAIDi8csCeUIAgJzNzAJ5QgCAVqnNAnlCAIAQhc4CeUIAgMpgzwJ5QgCAhDzQAnlCAIA+GNECeUIAgPjz0QJ5QgCAbLHSAnlCAIAmjdMCeUIAgOBo1AJ5QgCAmkTVAnlCAIBUINYCeUIAAMkR1wJ5QgCAJJ/XAnlCAIDeetgCeUIAgLVm2QJ5QgCAb0LaAnlCAIApHtsCeUIAgOP52wJ5Qg==\"},\"shape\":[95],\"dtype\":\"float64\",\"order\":\"little\"}],[\"y\",{\"type\":\"ndarray\",\"array\":{\"type\":\"bytes\",\"data\":\"AAAAAAAATkAAAAAAAABTQAAAAAAAAFJAAAAAAAAAUUAAAAAAAIBNQAAAAAAAgE1AAAAAAACATUAAAAAAAABOQAAAAAAAgE5AAAAAAAAAT0AAAAAAAMBQQAAAAAAAAE9AAAAAAACATUAAAAAAAIBNQAAAAAAAgFBAAAAAAAAAUUAAAAAAAEBQQAAAAAAAAE9AAAAAAAAAUUAAAAAAAABOQAAAAAAAAE5AAAAAAACAUkAAAAAAAEBRQAAAAAAAgFFAAAAAAACAUkAAAAAAAEBZQAAAAAAAQFhAAAAAAADAVkAAAAAAAABVQAAAAAAAgFVAAAAAAACAVUAAAAAAAIBVQAAAAAAAAFVAAAAAAAAAVUAAAAAAAIBUQAAAAAAAQFVAAAAAAADAVEAAAAAAAIBVQAAAAAAAQFZAAAAAAADAVUAAAAAAAEBYQAAAAAAAAFtAAAAAAACAW0AAAAAAAEBaQAAAAAAAAFhAAAAAAABAVkAAAAAAAIBVQAAAAAAAAFZAAAAAAAAAVkAAAAAAAEBWQAAAAAAAwFdAAAAAAADAXEAAAAAAAABeQAAAAAAAAFxAAAAAAADAXEAAAAAAAEBeQAAAAAAAgFxAAAAAAAAAW0AAAAAAAEBYQAAAAAAAgFRAAAAAAACAVUAAAAAAAMBXQAAAAAAAgFpAAAAAAACAW0AAAAAAAEBbQAAAAAAAgFdAAAAAAADAVkAAAAAAAMBSQAAAAAAAQFJAAAAAAACAUkAAAAAAAEBTQAAAAAAAQFNAAAAAAAAAU0AAAAAAAMBUQAAAAAAAwFVAAAAAAAAAVkAAAAAAAABWQAAAAAAAQFlAAAAAAACAXkAAAAAAACBgQAAAAAAA4GBAAAAAAACAXEAAAAAAAMBZQAAAAAAAwFlAAAAAAAAAWkAAAAAAAEBZQAAAAAAAQFhAAAAAAACAWEAAAAAAAIBaQAAAAAAAgFlAAAAAAAAAWUAAAAAAAEBaQAAAAAAAgFxAAAAAAACAXEAAAAAAAMBbQA==\"},\"shape\":[95],\"dtype\":\"float64\",\"order\":\"little\"}]]}}},\"view\":{\"type\":\"object\",\"name\":\"CDSView\",\"id\":\"p2355\",\"attributes\":{\"filter\":{\"type\":\"object\",\"name\":\"AllIndices\",\"id\":\"p2356\"}}},\"glyph\":{\"type\":\"object\",\"name\":\"Line\",\"id\":\"p2351\",\"attributes\":{\"x\":{\"type\":\"field\",\"field\":\"x\"},\"y\":{\"type\":\"field\",\"field\":\"y\"},\"line_color\":\"gray\",\"line_alpha\":0.5,\"line_width\":2}},\"nonselection_glyph\":{\"type\":\"object\",\"name\":\"Line\",\"id\":\"p2352\",\"attributes\":{\"x\":{\"type\":\"field\",\"field\":\"x\"},\"y\":{\"type\":\"field\",\"field\":\"y\"},\"line_color\":\"gray\",\"line_alpha\":0.1,\"line_width\":2}},\"muted_glyph\":{\"type\":\"object\",\"name\":\"Line\",\"id\":\"p2353\",\"attributes\":{\"x\":{\"type\":\"field\",\"field\":\"x\"},\"y\":{\"type\":\"field\",\"field\":\"y\"},\"line_color\":\"gray\",\"line_alpha\":0.2,\"line_width\":2}}}},{\"type\":\"object\",\"name\":\"GlyphRenderer\",\"id\":\"p2364\",\"attributes\":{\"data_source\":{\"type\":\"object\",\"name\":\"ColumnDataSource\",\"id\":\"p2358\",\"attributes\":{\"selected\":{\"type\":\"object\",\"name\":\"Selection\",\"id\":\"p2359\",\"attributes\":{\"indices\":[],\"line_indices\":[]}},\"selection_policy\":{\"type\":\"object\",\"name\":\"UnionRenderers\",\"id\":\"p2360\"},\"data\":{\"type\":\"map\",\"entries\":[[\"x\",{\"type\":\"ndarray\",\"array\":{\"type\":\"bytes\",\"data\":\"AICxeroCeUIAgIQ80AJ5QgCAOGivAnlCAIDe0KACeUI=\"},\"shape\":[4],\"dtype\":\"float64\",\"order\":\"little\"}],[\"y\",{\"type\":\"ndarray\",\"array\":{\"type\":\"bytes\",\"data\":\"AAAAAABAXkAAAAAAAOBgQAAAAAAAgFtAAAAAAABAWUA=\"},\"shape\":[4],\"dtype\":\"float64\",\"order\":\"little\"}]]}}},\"view\":{\"type\":\"object\",\"name\":\"CDSView\",\"id\":\"p2365\",\"attributes\":{\"filter\":{\"type\":\"object\",\"name\":\"AllIndices\",\"id\":\"p2366\"}}},\"glyph\":{\"type\":\"object\",\"name\":\"Scatter\",\"id\":\"p2361\",\"attributes\":{\"x\":{\"type\":\"field\",\"field\":\"x\"},\"y\":{\"type\":\"field\",\"field\":\"y\"},\"size\":{\"type\":\"value\",\"value\":6},\"line_color\":{\"type\":\"value\",\"value\":\"darkblue\"},\"line_alpha\":{\"type\":\"value\",\"value\":0.7},\"fill_color\":{\"type\":\"value\",\"value\":\"darkblue\"},\"fill_alpha\":{\"type\":\"value\",\"value\":0.7},\"hatch_color\":{\"type\":\"value\",\"value\":\"darkblue\"},\"hatch_alpha\":{\"type\":\"value\",\"value\":0.7}}},\"nonselection_glyph\":{\"type\":\"object\",\"name\":\"Scatter\",\"id\":\"p2362\",\"attributes\":{\"x\":{\"type\":\"field\",\"field\":\"x\"},\"y\":{\"type\":\"field\",\"field\":\"y\"},\"size\":{\"type\":\"value\",\"value\":6},\"line_color\":{\"type\":\"value\",\"value\":\"darkblue\"},\"line_alpha\":{\"type\":\"value\",\"value\":0.1},\"fill_color\":{\"type\":\"value\",\"value\":\"darkblue\"},\"fill_alpha\":{\"type\":\"value\",\"value\":0.1},\"hatch_color\":{\"type\":\"value\",\"value\":\"darkblue\"},\"hatch_alpha\":{\"type\":\"value\",\"value\":0.1}}},\"muted_glyph\":{\"type\":\"object\",\"name\":\"Scatter\",\"id\":\"p2363\",\"attributes\":{\"x\":{\"type\":\"field\",\"field\":\"x\"},\"y\":{\"type\":\"field\",\"field\":\"y\"},\"size\":{\"type\":\"value\",\"value\":6},\"line_color\":{\"type\":\"value\",\"value\":\"darkblue\"},\"line_alpha\":{\"type\":\"value\",\"value\":0.2},\"fill_color\":{\"type\":\"value\",\"value\":\"darkblue\"},\"fill_alpha\":{\"type\":\"value\",\"value\":0.2},\"hatch_color\":{\"type\":\"value\",\"value\":\"darkblue\"},\"hatch_alpha\":{\"type\":\"value\",\"value\":0.2}}}}}],\"toolbar\":{\"type\":\"object\",\"name\":\"Toolbar\",\"id\":\"p2320\",\"attributes\":{\"tools\":[{\"type\":\"object\",\"name\":\"PanTool\",\"id\":\"p2345\"},{\"type\":\"object\",\"name\":\"WheelZoomTool\",\"id\":\"p2346\",\"attributes\":{\"dimensions\":\"width\",\"renderers\":\"auto\"}},{\"type\":\"object\",\"name\":\"WheelZoomTool\",\"id\":\"p2347\",\"attributes\":{\"dimensions\":\"height\",\"renderers\":\"auto\"}}],\"active_scroll\":{\"id\":\"p2346\"}}},\"left\":[{\"type\":\"object\",\"name\":\"LinearAxis\",\"id\":\"p2340\",\"attributes\":{\"ticker\":{\"type\":\"object\",\"name\":\"BasicTicker\",\"id\":\"p2341\",\"attributes\":{\"mantissas\":[1,2,5]}},\"formatter\":{\"type\":\"object\",\"name\":\"BasicTickFormatter\",\"id\":\"p2342\"},\"axis_label\":\"Glucose\",\"major_label_policy\":{\"type\":\"object\",\"name\":\"AllLabels\",\"id\":\"p2343\"}}}],\"above\":[{\"type\":\"object\",\"name\":\"DatetimeAxis\",\"id\":\"p2323\",\"attributes\":{\"ticker\":{\"type\":\"object\",\"name\":\"DatetimeTicker\",\"id\":\"p2324\",\"attributes\":{\"num_minor_ticks\":5,\"tickers\":[{\"type\":\"object\",\"name\":\"AdaptiveTicker\",\"id\":\"p2325\",\"attributes\":{\"num_minor_ticks\":0,\"mantissas\":[1,2,5],\"max_interval\":500.0}},{\"type\":\"object\",\"name\":\"AdaptiveTicker\",\"id\":\"p2326\",\"attributes\":{\"num_minor_ticks\":0,\"base\":60,\"mantissas\":[1,2,5,10,15,20,30],\"min_interval\":1000.0,\"max_interval\":1800000.0}},{\"type\":\"object\",\"name\":\"AdaptiveTicker\",\"id\":\"p2327\",\"attributes\":{\"num_minor_ticks\":0,\"base\":24,\"mantissas\":[1,2,4,6,8,12],\"min_interval\":3600000.0,\"max_interval\":43200000.0}},{\"type\":\"object\",\"name\":\"DaysTicker\",\"id\":\"p2328\",\"attributes\":{\"days\":[1,2,3,4,5,6,7,8,9,10,11,12,13,14,15,16,17,18,19,20,21,22,23,24,25,26,27,28,29,30,31]}},{\"type\":\"object\",\"name\":\"DaysTicker\",\"id\":\"p2329\",\"attributes\":{\"days\":[1,4,7,10,13,16,19,22,25,28]}},{\"type\":\"object\",\"name\":\"DaysTicker\",\"id\":\"p2330\",\"attributes\":{\"days\":[1,8,15,22]}},{\"type\":\"object\",\"name\":\"DaysTicker\",\"id\":\"p2331\",\"attributes\":{\"days\":[1,15]}},{\"type\":\"object\",\"name\":\"MonthsTicker\",\"id\":\"p2332\",\"attributes\":{\"months\":[0,1,2,3,4,5,6,7,8,9,10,11]}},{\"type\":\"object\",\"name\":\"MonthsTicker\",\"id\":\"p2333\",\"attributes\":{\"months\":[0,2,4,6,8,10]}},{\"type\":\"object\",\"name\":\"MonthsTicker\",\"id\":\"p2334\",\"attributes\":{\"months\":[0,4,8]}},{\"type\":\"object\",\"name\":\"MonthsTicker\",\"id\":\"p2335\",\"attributes\":{\"months\":[0,6]}},{\"type\":\"object\",\"name\":\"YearsTicker\",\"id\":\"p2336\"}]}},\"formatter\":{\"type\":\"object\",\"name\":\"DatetimeTickFormatter\",\"id\":\"p2337\"},\"axis_label\":\"Time\",\"major_label_policy\":{\"type\":\"object\",\"name\":\"AllLabels\",\"id\":\"p2338\"}}}],\"center\":[{\"type\":\"object\",\"name\":\"Grid\",\"id\":\"p2339\",\"attributes\":{\"axis\":{\"id\":\"p2323\"}}},{\"type\":\"object\",\"name\":\"Grid\",\"id\":\"p2344\",\"attributes\":{\"dimension\":1,\"axis\":{\"id\":\"p2340\"}}},{\"type\":\"object\",\"name\":\"Span\",\"id\":\"p2357\",\"attributes\":{\"location\":88.5578947368421,\"line_color\":\"red\"}},{\"type\":\"object\",\"name\":\"Span\",\"id\":\"p2367\",\"attributes\":{\"location\":1718712136000.0,\"dimension\":\"height\",\"line_color\":\"lightgreen\",\"line_width\":2}},{\"type\":\"object\",\"name\":\"BoxAnnotation\",\"id\":\"p2368\",\"attributes\":{\"left\":1718712136000.0,\"right\":1718715736000.0,\"top\":{\"type\":\"object\",\"name\":\"Node\",\"id\":\"p2371\",\"attributes\":{\"target\":\"frame\",\"symbol\":\"top\"}},\"bottom\":{\"type\":\"object\",\"name\":\"Node\",\"id\":\"p2372\",\"attributes\":{\"target\":\"frame\",\"symbol\":\"bottom\"}},\"fill_color\":\"lightgreen\",\"fill_alpha\":0.3}},{\"type\":\"object\",\"name\":\"Label\",\"id\":\"p2373\",\"attributes\":{\"text\":\"1347.60\",\"text_color\":\"black\",\"text_font_size\":\"10pt\",\"background_fill_color\":\"white\",\"background_fill_alpha\":0.7,\"x\":1718712136000.0,\"y\":110,\"angle\":90,\"angle_units\":\"deg\"}},{\"type\":\"object\",\"name\":\"Span\",\"id\":\"p2374\",\"attributes\":{\"location\":1718722800000.0,\"dimension\":\"height\",\"line_color\":\"lightgreen\",\"line_width\":2}},{\"type\":\"object\",\"name\":\"BoxAnnotation\",\"id\":\"p2375\",\"attributes\":{\"left\":1718722800000.0,\"right\":1718726400000.0,\"top\":{\"type\":\"object\",\"name\":\"Node\",\"id\":\"p2378\",\"attributes\":{\"target\":\"frame\",\"symbol\":\"top\"}},\"bottom\":{\"type\":\"object\",\"name\":\"Node\",\"id\":\"p2379\",\"attributes\":{\"target\":\"frame\",\"symbol\":\"bottom\"}},\"fill_color\":\"lightgreen\",\"fill_alpha\":0.3}},{\"type\":\"object\",\"name\":\"Label\",\"id\":\"p2380\",\"attributes\":{\"text\":\"353.00\",\"text_color\":\"black\",\"text_font_size\":\"10pt\",\"background_fill_color\":\"white\",\"background_fill_alpha\":0.7,\"x\":1718722800000.0,\"y\":110,\"angle\":90,\"angle_units\":\"deg\"}},{\"type\":\"object\",\"name\":\"Span\",\"id\":\"p2381\",\"attributes\":{\"location\":1718736267000.0,\"dimension\":\"height\",\"line_color\":\"lightgreen\",\"line_width\":2}},{\"type\":\"object\",\"name\":\"BoxAnnotation\",\"id\":\"p2382\",\"attributes\":{\"left\":1718736267000.0,\"right\":1718739867000.0,\"top\":{\"type\":\"object\",\"name\":\"Node\",\"id\":\"p2385\",\"attributes\":{\"target\":\"frame\",\"symbol\":\"top\"}},\"bottom\":{\"type\":\"object\",\"name\":\"Node\",\"id\":\"p2386\",\"attributes\":{\"target\":\"frame\",\"symbol\":\"bottom\"}},\"fill_color\":\"lightgreen\",\"fill_alpha\":0.3}},{\"type\":\"object\",\"name\":\"Label\",\"id\":\"p2387\",\"attributes\":{\"text\":\"495.00\",\"text_color\":\"black\",\"text_font_size\":\"10pt\",\"background_fill_color\":\"white\",\"background_fill_alpha\":0.7,\"x\":1718736267000.0,\"y\":110,\"angle\":90,\"angle_units\":\"deg\"}}]}}]}};\n",
              "  const render_items = [{\"docid\":\"ffabb283-1818-4251-9870-1a95d3b2f87f\",\"roots\":{\"p2312\":\"e24ff938-418c-4255-98ec-23a70612d73c\"},\"root_ids\":[\"p2312\"]}];\n",
              "  void root.Bokeh.embed.embed_items_notebook(docs_json, render_items);\n",
              "  }\n",
              "  if (root.Bokeh !== undefined) {\n",
              "    embed_document(root);\n",
              "  } else {\n",
              "    let attempts = 0;\n",
              "    const timer = setInterval(function(root) {\n",
              "      if (root.Bokeh !== undefined) {\n",
              "        clearInterval(timer);\n",
              "        embed_document(root);\n",
              "      } else {\n",
              "        attempts++;\n",
              "        if (attempts > 100) {\n",
              "          clearInterval(timer);\n",
              "          console.log(\"Bokeh: ERROR: Unable to run BokehJS code because BokehJS library is missing\");\n",
              "        }\n",
              "      }\n",
              "    }, 10, root)\n",
              "  }\n",
              "})(window);"
            ],
            "application/vnd.bokehjs_exec.v0+json": ""
          },
          "metadata": {
            "application/vnd.bokehjs_exec.v0+json": {
              "id": "p2312"
            }
          }
        },
        {
          "output_type": "stream",
          "name": "stdout",
          "text": [
            "\n",
            "\n",
            "\n"
          ]
        },
        {
          "output_type": "display_data",
          "data": {
            "text/html": [
              "\n",
              "  <div id=\"c5c2f7f4-b148-4ad1-8479-4b3c6118593c\" data-root-id=\"p2392\" style=\"display: contents;\"></div>\n"
            ]
          },
          "metadata": {}
        },
        {
          "output_type": "display_data",
          "data": {
            "application/javascript": [
              "(function(root) {\n",
              "  function embed_document(root) {\n",
              "  const docs_json = {\"966bc964-f1b5-4e7b-b610-a7fd5d9e32f5\":{\"version\":\"3.4.3\",\"title\":\"Bokeh Application\",\"roots\":[{\"type\":\"object\",\"name\":\"Figure\",\"id\":\"p2392\",\"attributes\":{\"height\":400,\"x_range\":{\"type\":\"object\",\"name\":\"DataRange1d\",\"id\":\"p2393\"},\"y_range\":{\"type\":\"object\",\"name\":\"DataRange1d\",\"id\":\"p2394\"},\"x_scale\":{\"type\":\"object\",\"name\":\"LinearScale\",\"id\":\"p2401\"},\"y_scale\":{\"type\":\"object\",\"name\":\"LinearScale\",\"id\":\"p2402\"},\"title\":{\"type\":\"object\",\"name\":\"Title\",\"id\":\"p2399\",\"attributes\":{\"text\":\"Day: 2024-06-19\",\"text_font_size\":\"20pt\",\"align\":\"center\"}},\"renderers\":[{\"type\":\"object\",\"name\":\"GlyphRenderer\",\"id\":\"p2434\",\"attributes\":{\"data_source\":{\"type\":\"object\",\"name\":\"ColumnDataSource\",\"id\":\"p2428\",\"attributes\":{\"selected\":{\"type\":\"object\",\"name\":\"Selection\",\"id\":\"p2429\",\"attributes\":{\"indices\":[],\"line_indices\":[]}},\"selection_policy\":{\"type\":\"object\",\"name\":\"UnionRenderers\",\"id\":\"p2430\"},\"data\":{\"type\":\"map\",\"entries\":[[\"x\",{\"type\":\"ndarray\",\"array\":{\"type\":\"bytes\",\"data\":\"AICd1dwCeUIAgFex3QJ5QgCAEY3eAnlCAIDLaN8CeUIAgIVE4AJ5QgCAPyDhAnlCAID5++ECeUIAgLPX4gJ5QgCAbbPjAnlCAIAnj+QCeUIAgOFq5QJ5QgCAm0bmAnlCAIBVIucCeUIAgA/+5wJ5QgCAydnoAnlCAICDtekCeUIAgD2R6gJ5QgCA92zrAnlCAICxSOwCeUIAgGsk7QJ5QgCAJQDuAnlCAIDf2+4CeUIAgJm37wJ5QgCAU5PwAnlCAIANb/ECeUIAgMdK8gJ5QgAAyHjzAnlCAACCVPQCeUIAADww9QJ5QgAA9gv2AnlCAIBmUfcCeUIAgCAt+AJ5QgAAhAz5AnlCAAA+6PkCeUIAAPjD+gJ5QgAAsp/7AnlCAABse/wCeUIAgDcg/QJ5QgCA8fv9AnlCAICr1/4CeUIAgGWz/wJ5QgCAH48AA3lCAIDZagEDeUIAACl3AgN5QgAA41IDA3lCAACdLgQDeUIAAFcKBQN5QgAAEeYFA3lCAADLwQYDeUIAAIWdBwN5QgCAR4IIA3lCAIABXgkDeUIAgLs5CgN5QgCAdRULA3lCAIAv8QsDeUIAgOnMDAN5QgCAo6gNA3lCAAALsQ4DeUIAAMWMDwN5QgAAf2gQA3lCAAA5RBEDeUIAAPMfEgN5QgAArfsSA3lCAABn1xMDeUIAACGzFAN5QgAA244VA3lCAABfcxYDeUIAABlPFwN5QgAA0yoYA3lCAACNBhkDeUIAAEfiGQN5QgAAAb4aA3lCAAC7mRsDeUIAAHV1HAN5QgAAL1EdA3lCAADpLB4DeUIAAKMIHwN5QgAAXeQfA3lCAIDkvSADeUIAgJ6ZIQN5QgCAWHUiA3lCAIASUSMDeUIAgMwsJAN5QgCAhgglA3lCAIBA5CUDeUIAgPq/JgN5QgCAtJsnA3lCAIBudygDeUIAAFVWKQN5QgAADzIqA3lCAADJDSsDeUIAAFcaLAN5QgAAEfYsA3lCAADL0S0DeUIAAIWtLgN5Qg==\"},\"shape\":[95],\"dtype\":\"float64\",\"order\":\"little\"}],[\"y\",{\"type\":\"ndarray\",\"array\":{\"type\":\"bytes\",\"data\":\"AAAAAABAW0AAAAAAAIBaQAAAAAAAAFhAAAAAAABAWEAAAAAAAMBXQAAAAAAAQFdAAAAAAAAAU0AAAAAAAIBTQAAAAAAAgFRAAAAAAABAVkAAAAAAAEBXQAAAAAAAQFdAAAAAAADAV0AAAAAAAIBUQAAAAAAAwFFAAAAAAACAU0AAAAAAAMBVQAAAAAAAwFZAAAAAAAAATkAAAAAAAABQQAAAAAAAAFVAAAAAAABAVUAAAAAAAEBTQAAAAAAAQFVAAAAAAADAUkAAAAAAAABRQAAAAAAAAFlAAAAAAADAW0AAAAAAAEBaQAAAAAAAgFpAAAAAAABAWEAAAAAAAIBYQAAAAAAAQFtAAAAAAABAYEAAAAAAAIBeQAAAAAAAQFtAAAAAAABAW0AAAAAAAEBbQAAAAAAAgFhAAAAAAACAWEAAAAAAAABXQAAAAAAAgFZAAAAAAABAVkAAAAAAAEBXQAAAAAAAQFZAAAAAAACAVkAAAAAAAIBWQAAAAAAAgFZAAAAAAADAVkAAAAAAAABXQAAAAAAAgFZAAAAAAAAAWEAAAAAAAMBdQAAAAAAAQF9AAAAAAAAAW0AAAAAAAABYQAAAAAAAwFdAAAAAAAAAWUAAAAAAAMBbQAAAAAAAwFtAAAAAAAAAX0AAAAAAAABdQAAAAAAAQFlAAAAAAACAWEAAAAAAAABcQAAAAAAAQF5AAAAAAABAXkAAAAAAAEBcQAAAAAAAwFlAAAAAAAAAV0AAAAAAAIBXQAAAAAAAgFZAAAAAAABAVUAAAAAAAABVQAAAAAAAwFZAAAAAAAAAWUAAAAAAAIBWQAAAAAAAwFZAAAAAAADAVkAAAAAAAMBWQAAAAAAAwFpAAAAAAAAAYEAAAAAAAIBgQAAAAAAAwF1AAAAAAAAAX0AAAAAAAABeQAAAAAAAwF1AAAAAAABAWkAAAAAAAEBYQAAAAAAAAFlAAAAAAADAWEAAAAAAAABaQAAAAAAAAFtAAAAAAABAWkAAAAAAAEBYQA==\"},\"shape\":[95],\"dtype\":\"float64\",\"order\":\"little\"}]]}}},\"view\":{\"type\":\"object\",\"name\":\"CDSView\",\"id\":\"p2435\",\"attributes\":{\"filter\":{\"type\":\"object\",\"name\":\"AllIndices\",\"id\":\"p2436\"}}},\"glyph\":{\"type\":\"object\",\"name\":\"Line\",\"id\":\"p2431\",\"attributes\":{\"x\":{\"type\":\"field\",\"field\":\"x\"},\"y\":{\"type\":\"field\",\"field\":\"y\"},\"line_color\":\"gray\",\"line_alpha\":0.5,\"line_width\":2}},\"nonselection_glyph\":{\"type\":\"object\",\"name\":\"Line\",\"id\":\"p2432\",\"attributes\":{\"x\":{\"type\":\"field\",\"field\":\"x\"},\"y\":{\"type\":\"field\",\"field\":\"y\"},\"line_color\":\"gray\",\"line_alpha\":0.1,\"line_width\":2}},\"muted_glyph\":{\"type\":\"object\",\"name\":\"Line\",\"id\":\"p2433\",\"attributes\":{\"x\":{\"type\":\"field\",\"field\":\"x\"},\"y\":{\"type\":\"field\",\"field\":\"y\"},\"line_color\":\"gray\",\"line_alpha\":0.2,\"line_width\":2}}}},{\"type\":\"object\",\"name\":\"GlyphRenderer\",\"id\":\"p2444\",\"attributes\":{\"data_source\":{\"type\":\"object\",\"name\":\"ColumnDataSource\",\"id\":\"p2438\",\"attributes\":{\"selected\":{\"type\":\"object\",\"name\":\"Selection\",\"id\":\"p2439\",\"attributes\":{\"indices\":[],\"line_indices\":[]}},\"selection_policy\":{\"type\":\"object\",\"name\":\"UnionRenderers\",\"id\":\"p2440\"},\"data\":{\"type\":\"map\",\"entries\":[[\"x\",{\"type\":\"ndarray\",\"array\":{\"type\":\"bytes\",\"data\":\"AAA+6PkCeUIAgHUVCwN5QgCAzCwkA3lCAADbjhUDeUI=\"},\"shape\":[4],\"dtype\":\"float64\",\"order\":\"little\"}],[\"y\",{\"type\":\"ndarray\",\"array\":{\"type\":\"bytes\",\"data\":\"AAAAAABAYEAAAAAAAEBfQAAAAAAAgGBAAAAAAABAXkA=\"},\"shape\":[4],\"dtype\":\"float64\",\"order\":\"little\"}]]}}},\"view\":{\"type\":\"object\",\"name\":\"CDSView\",\"id\":\"p2445\",\"attributes\":{\"filter\":{\"type\":\"object\",\"name\":\"AllIndices\",\"id\":\"p2446\"}}},\"glyph\":{\"type\":\"object\",\"name\":\"Scatter\",\"id\":\"p2441\",\"attributes\":{\"x\":{\"type\":\"field\",\"field\":\"x\"},\"y\":{\"type\":\"field\",\"field\":\"y\"},\"size\":{\"type\":\"value\",\"value\":6},\"line_color\":{\"type\":\"value\",\"value\":\"darkblue\"},\"line_alpha\":{\"type\":\"value\",\"value\":0.7},\"fill_color\":{\"type\":\"value\",\"value\":\"darkblue\"},\"fill_alpha\":{\"type\":\"value\",\"value\":0.7},\"hatch_color\":{\"type\":\"value\",\"value\":\"darkblue\"},\"hatch_alpha\":{\"type\":\"value\",\"value\":0.7}}},\"nonselection_glyph\":{\"type\":\"object\",\"name\":\"Scatter\",\"id\":\"p2442\",\"attributes\":{\"x\":{\"type\":\"field\",\"field\":\"x\"},\"y\":{\"type\":\"field\",\"field\":\"y\"},\"size\":{\"type\":\"value\",\"value\":6},\"line_color\":{\"type\":\"value\",\"value\":\"darkblue\"},\"line_alpha\":{\"type\":\"value\",\"value\":0.1},\"fill_color\":{\"type\":\"value\",\"value\":\"darkblue\"},\"fill_alpha\":{\"type\":\"value\",\"value\":0.1},\"hatch_color\":{\"type\":\"value\",\"value\":\"darkblue\"},\"hatch_alpha\":{\"type\":\"value\",\"value\":0.1}}},\"muted_glyph\":{\"type\":\"object\",\"name\":\"Scatter\",\"id\":\"p2443\",\"attributes\":{\"x\":{\"type\":\"field\",\"field\":\"x\"},\"y\":{\"type\":\"field\",\"field\":\"y\"},\"size\":{\"type\":\"value\",\"value\":6},\"line_color\":{\"type\":\"value\",\"value\":\"darkblue\"},\"line_alpha\":{\"type\":\"value\",\"value\":0.2},\"fill_color\":{\"type\":\"value\",\"value\":\"darkblue\"},\"fill_alpha\":{\"type\":\"value\",\"value\":0.2},\"hatch_color\":{\"type\":\"value\",\"value\":\"darkblue\"},\"hatch_alpha\":{\"type\":\"value\",\"value\":0.2}}}}}],\"toolbar\":{\"type\":\"object\",\"name\":\"Toolbar\",\"id\":\"p2400\",\"attributes\":{\"tools\":[{\"type\":\"object\",\"name\":\"PanTool\",\"id\":\"p2425\"},{\"type\":\"object\",\"name\":\"WheelZoomTool\",\"id\":\"p2426\",\"attributes\":{\"dimensions\":\"width\",\"renderers\":\"auto\"}},{\"type\":\"object\",\"name\":\"WheelZoomTool\",\"id\":\"p2427\",\"attributes\":{\"dimensions\":\"height\",\"renderers\":\"auto\"}}],\"active_scroll\":{\"id\":\"p2426\"}}},\"left\":[{\"type\":\"object\",\"name\":\"LinearAxis\",\"id\":\"p2420\",\"attributes\":{\"ticker\":{\"type\":\"object\",\"name\":\"BasicTicker\",\"id\":\"p2421\",\"attributes\":{\"mantissas\":[1,2,5]}},\"formatter\":{\"type\":\"object\",\"name\":\"BasicTickFormatter\",\"id\":\"p2422\"},\"axis_label\":\"Glucose\",\"major_label_policy\":{\"type\":\"object\",\"name\":\"AllLabels\",\"id\":\"p2423\"}}}],\"above\":[{\"type\":\"object\",\"name\":\"DatetimeAxis\",\"id\":\"p2403\",\"attributes\":{\"ticker\":{\"type\":\"object\",\"name\":\"DatetimeTicker\",\"id\":\"p2404\",\"attributes\":{\"num_minor_ticks\":5,\"tickers\":[{\"type\":\"object\",\"name\":\"AdaptiveTicker\",\"id\":\"p2405\",\"attributes\":{\"num_minor_ticks\":0,\"mantissas\":[1,2,5],\"max_interval\":500.0}},{\"type\":\"object\",\"name\":\"AdaptiveTicker\",\"id\":\"p2406\",\"attributes\":{\"num_minor_ticks\":0,\"base\":60,\"mantissas\":[1,2,5,10,15,20,30],\"min_interval\":1000.0,\"max_interval\":1800000.0}},{\"type\":\"object\",\"name\":\"AdaptiveTicker\",\"id\":\"p2407\",\"attributes\":{\"num_minor_ticks\":0,\"base\":24,\"mantissas\":[1,2,4,6,8,12],\"min_interval\":3600000.0,\"max_interval\":43200000.0}},{\"type\":\"object\",\"name\":\"DaysTicker\",\"id\":\"p2408\",\"attributes\":{\"days\":[1,2,3,4,5,6,7,8,9,10,11,12,13,14,15,16,17,18,19,20,21,22,23,24,25,26,27,28,29,30,31]}},{\"type\":\"object\",\"name\":\"DaysTicker\",\"id\":\"p2409\",\"attributes\":{\"days\":[1,4,7,10,13,16,19,22,25,28]}},{\"type\":\"object\",\"name\":\"DaysTicker\",\"id\":\"p2410\",\"attributes\":{\"days\":[1,8,15,22]}},{\"type\":\"object\",\"name\":\"DaysTicker\",\"id\":\"p2411\",\"attributes\":{\"days\":[1,15]}},{\"type\":\"object\",\"name\":\"MonthsTicker\",\"id\":\"p2412\",\"attributes\":{\"months\":[0,1,2,3,4,5,6,7,8,9,10,11]}},{\"type\":\"object\",\"name\":\"MonthsTicker\",\"id\":\"p2413\",\"attributes\":{\"months\":[0,2,4,6,8,10]}},{\"type\":\"object\",\"name\":\"MonthsTicker\",\"id\":\"p2414\",\"attributes\":{\"months\":[0,4,8]}},{\"type\":\"object\",\"name\":\"MonthsTicker\",\"id\":\"p2415\",\"attributes\":{\"months\":[0,6]}},{\"type\":\"object\",\"name\":\"YearsTicker\",\"id\":\"p2416\"}]}},\"formatter\":{\"type\":\"object\",\"name\":\"DatetimeTickFormatter\",\"id\":\"p2417\"},\"axis_label\":\"Time\",\"major_label_policy\":{\"type\":\"object\",\"name\":\"AllLabels\",\"id\":\"p2418\"}}}],\"center\":[{\"type\":\"object\",\"name\":\"Grid\",\"id\":\"p2419\",\"attributes\":{\"axis\":{\"id\":\"p2403\"}}},{\"type\":\"object\",\"name\":\"Grid\",\"id\":\"p2424\",\"attributes\":{\"dimension\":1,\"axis\":{\"id\":\"p2420\"}}},{\"type\":\"object\",\"name\":\"Span\",\"id\":\"p2437\",\"attributes\":{\"location\":98.30526315789474,\"line_color\":\"red\"}},{\"type\":\"object\",\"name\":\"Span\",\"id\":\"p2447\",\"attributes\":{\"location\":1718783400000.0,\"dimension\":\"height\",\"line_color\":\"lightgreen\",\"line_width\":2}},{\"type\":\"object\",\"name\":\"BoxAnnotation\",\"id\":\"p2448\",\"attributes\":{\"left\":1718783400000.0,\"right\":1718787000000.0,\"top\":{\"type\":\"object\",\"name\":\"Node\",\"id\":\"p2451\",\"attributes\":{\"target\":\"frame\",\"symbol\":\"top\"}},\"bottom\":{\"type\":\"object\",\"name\":\"Node\",\"id\":\"p2452\",\"attributes\":{\"target\":\"frame\",\"symbol\":\"bottom\"}},\"fill_color\":\"lightgreen\",\"fill_alpha\":0.3}},{\"type\":\"object\",\"name\":\"Label\",\"id\":\"p2453\",\"attributes\":{\"text\":\"142.00\",\"text_color\":\"black\",\"text_font_size\":\"10pt\",\"background_fill_color\":\"white\",\"background_fill_alpha\":0.7,\"x\":1718783400000.0,\"y\":110,\"angle\":90,\"angle_units\":\"deg\"}},{\"type\":\"object\",\"name\":\"Span\",\"id\":\"p2454\",\"attributes\":{\"location\":1718799600000.0,\"dimension\":\"height\",\"line_color\":\"lightgreen\",\"line_width\":2}},{\"type\":\"object\",\"name\":\"BoxAnnotation\",\"id\":\"p2455\",\"attributes\":{\"left\":1718799600000.0,\"right\":1718803200000.0,\"top\":{\"type\":\"object\",\"name\":\"Node\",\"id\":\"p2458\",\"attributes\":{\"target\":\"frame\",\"symbol\":\"top\"}},\"bottom\":{\"type\":\"object\",\"name\":\"Node\",\"id\":\"p2459\",\"attributes\":{\"target\":\"frame\",\"symbol\":\"bottom\"}},\"fill_color\":\"lightgreen\",\"fill_alpha\":0.3}},{\"type\":\"object\",\"name\":\"Label\",\"id\":\"p2460\",\"attributes\":{\"text\":\"718.00\",\"text_color\":\"black\",\"text_font_size\":\"10pt\",\"background_fill_color\":\"white\",\"background_fill_alpha\":0.7,\"x\":1718799600000.0,\"y\":110,\"angle\":90,\"angle_units\":\"deg\"}},{\"type\":\"object\",\"name\":\"Span\",\"id\":\"p2461\",\"attributes\":{\"location\":1718808300000.0,\"dimension\":\"height\",\"line_color\":\"lightgreen\",\"line_width\":2}},{\"type\":\"object\",\"name\":\"BoxAnnotation\",\"id\":\"p2462\",\"attributes\":{\"left\":1718808300000.0,\"right\":1718811900000.0,\"top\":{\"type\":\"object\",\"name\":\"Node\",\"id\":\"p2465\",\"attributes\":{\"target\":\"frame\",\"symbol\":\"top\"}},\"bottom\":{\"type\":\"object\",\"name\":\"Node\",\"id\":\"p2466\",\"attributes\":{\"target\":\"frame\",\"symbol\":\"bottom\"}},\"fill_color\":\"lightgreen\",\"fill_alpha\":0.3}},{\"type\":\"object\",\"name\":\"Label\",\"id\":\"p2467\",\"attributes\":{\"text\":\"107.00\",\"text_color\":\"black\",\"text_font_size\":\"10pt\",\"background_fill_color\":\"white\",\"background_fill_alpha\":0.7,\"x\":1718808300000.0,\"y\":110,\"angle\":90,\"angle_units\":\"deg\"}},{\"type\":\"object\",\"name\":\"Span\",\"id\":\"p2468\",\"attributes\":{\"location\":1718825599000.0,\"dimension\":\"height\",\"line_color\":\"lightgreen\",\"line_width\":2}},{\"type\":\"object\",\"name\":\"BoxAnnotation\",\"id\":\"p2469\",\"attributes\":{\"left\":1718825599000.0,\"right\":1718829199000.0,\"top\":{\"type\":\"object\",\"name\":\"Node\",\"id\":\"p2472\",\"attributes\":{\"target\":\"frame\",\"symbol\":\"top\"}},\"bottom\":{\"type\":\"object\",\"name\":\"Node\",\"id\":\"p2473\",\"attributes\":{\"target\":\"frame\",\"symbol\":\"bottom\"}},\"fill_color\":\"lightgreen\",\"fill_alpha\":0.3}},{\"type\":\"object\",\"name\":\"Label\",\"id\":\"p2474\",\"attributes\":{\"text\":\"792.00\",\"text_color\":\"black\",\"text_font_size\":\"10pt\",\"background_fill_color\":\"white\",\"background_fill_alpha\":0.7,\"x\":1718825599000.0,\"y\":110,\"angle\":90,\"angle_units\":\"deg\"}}]}}]}};\n",
              "  const render_items = [{\"docid\":\"966bc964-f1b5-4e7b-b610-a7fd5d9e32f5\",\"roots\":{\"p2392\":\"c5c2f7f4-b148-4ad1-8479-4b3c6118593c\"},\"root_ids\":[\"p2392\"]}];\n",
              "  void root.Bokeh.embed.embed_items_notebook(docs_json, render_items);\n",
              "  }\n",
              "  if (root.Bokeh !== undefined) {\n",
              "    embed_document(root);\n",
              "  } else {\n",
              "    let attempts = 0;\n",
              "    const timer = setInterval(function(root) {\n",
              "      if (root.Bokeh !== undefined) {\n",
              "        clearInterval(timer);\n",
              "        embed_document(root);\n",
              "      } else {\n",
              "        attempts++;\n",
              "        if (attempts > 100) {\n",
              "          clearInterval(timer);\n",
              "          console.log(\"Bokeh: ERROR: Unable to run BokehJS code because BokehJS library is missing\");\n",
              "        }\n",
              "      }\n",
              "    }, 10, root)\n",
              "  }\n",
              "})(window);"
            ],
            "application/vnd.bokehjs_exec.v0+json": ""
          },
          "metadata": {
            "application/vnd.bokehjs_exec.v0+json": {
              "id": "p2392"
            }
          }
        },
        {
          "output_type": "stream",
          "name": "stdout",
          "text": [
            "\n",
            "\n",
            "\n"
          ]
        },
        {
          "output_type": "display_data",
          "data": {
            "text/html": [
              "\n",
              "  <div id=\"d896071b-28e5-4a60-b9f4-ecc3ee283841\" data-root-id=\"p2479\" style=\"display: contents;\"></div>\n"
            ]
          },
          "metadata": {}
        },
        {
          "output_type": "display_data",
          "data": {
            "application/javascript": [
              "(function(root) {\n",
              "  function embed_document(root) {\n",
              "  const docs_json = {\"5d6e573a-a7c2-4f3d-a727-f41a881c4866\":{\"version\":\"3.4.3\",\"title\":\"Bokeh Application\",\"roots\":[{\"type\":\"object\",\"name\":\"Figure\",\"id\":\"p2479\",\"attributes\":{\"height\":400,\"x_range\":{\"type\":\"object\",\"name\":\"DataRange1d\",\"id\":\"p2480\"},\"y_range\":{\"type\":\"object\",\"name\":\"DataRange1d\",\"id\":\"p2481\"},\"x_scale\":{\"type\":\"object\",\"name\":\"LinearScale\",\"id\":\"p2488\"},\"y_scale\":{\"type\":\"object\",\"name\":\"LinearScale\",\"id\":\"p2489\"},\"title\":{\"type\":\"object\",\"name\":\"Title\",\"id\":\"p2486\",\"attributes\":{\"text\":\"Day: 2024-06-20\",\"text_font_size\":\"20pt\",\"align\":\"center\"}},\"renderers\":[{\"type\":\"object\",\"name\":\"GlyphRenderer\",\"id\":\"p2521\",\"attributes\":{\"data_source\":{\"type\":\"object\",\"name\":\"ColumnDataSource\",\"id\":\"p2515\",\"attributes\":{\"selected\":{\"type\":\"object\",\"name\":\"Selection\",\"id\":\"p2516\",\"attributes\":{\"indices\":[],\"line_indices\":[]}},\"selection_policy\":{\"type\":\"object\",\"name\":\"UnionRenderers\",\"id\":\"p2517\"},\"data\":{\"type\":\"map\",\"entries\":[[\"x\",{\"type\":\"ndarray\",\"array\":{\"type\":\"bytes\",\"data\":\"AAA/iS8DeUIAAPlkMAN5QgAAs0AxA3lCAABtHDIDeUIAACf4MgN5QgAA4dMzA3lCAACbrzQDeUIAAFWLNQN5QgAAD2c2A3lCAADJQjcDeUIAAIMeOAN5QgAAPfo4A3lCAAD31TkDeUIAALGxOgN5QgAAa407A3lCAAAlaTwDeUIAAN9EPQN5QgAAmSA+A3lCAABT/D4DeUIAAA3YPwN5QgAAx7NAA3lCAACBj0EDeUIAADtrQgN5QgAA9UZDA3lCAACvIkQDeUIAAGn+RAN5QgAAorBFA3lCAABcjEYDeUIAABZoRwN5QgCAyRBIA3lCAICD7EgDeUIAgD3ISQN5QgCA96NKA3lCAICxf0sDeUIAgGtbTAN5QgCAJTdNA3lCAIDfEk4DeUIAgJnuTgN5QgCAU8pPA3lCAIANplADeUIAgMeBUQN5QgCAIAVSA3lCAIDa4FIDeUIAgL+gUwN5QgCAeXxUA3lCAIAzWFUDeUIAgO0zVgN5QgCApw9XA3lCAIBh61cDeUIAgBvHWAN5QgCA1aJZA3lCAIAO0loDeUIAgMitWwN5QgCAgolcA3lCAIA8ZV0DeUIAgPZAXgN5QgCAsBxfA3lCAIBq+F8DeUIAgCTUYAN5QgCA3q9hA3lCAICYi2IDeUIAgFJnYwN5QgCADENkA3lCAIDGHmUDeUIAgID6ZQN5QgCAOtZmA3lCAID0sWcDeUIAgK6NaAN5QgCAaGlpA3lCAIAiRWoDeUIAgNwgawN5QgCAlvxrA3lCAIAD0GwDeUIAgL2rbQN5QgCAd4duA3lCAIAxY28DeUIAgOs+cAN5QgCApRpxA3lCAIBf9nEDeUIAgBnScgN5QgCA061zA3lCAICNiXQDeUIAgEdldQN5QgCAAUF2A3lCAIC7HHcDeUIAgHX4dwN5QgCAL9R4A3lCAADN03kDeUIAAIevegN5QgAAQYt7A3lCAAD7ZnwDeUIAALVCfQN5QgAAbx5+A3lCAAAp+n4DeUIAAEAFgAN5QgAA+uCAA3lC\"},\"shape\":[96],\"dtype\":\"float64\",\"order\":\"little\"}],[\"y\",{\"type\":\"ndarray\",\"array\":{\"type\":\"bytes\",\"data\":\"AAAAAACAV0AAAAAAAEBYQAAAAAAAgFhAAAAAAADAV0AAAAAAAMBUQAAAAAAAgFBAAAAAAACAUEAAAAAAAMBRQAAAAAAAwFVAAAAAAADAVkAAAAAAAMBWQAAAAAAAAFVAAAAAAADAVEAAAAAAAABVQAAAAAAAQFRAAAAAAADAU0AAAAAAAIBUQAAAAAAAAFVAAAAAAABAVUAAAAAAAEBTQAAAAAAAAFNAAAAAAABAVUAAAAAAAIBVQAAAAAAAQFZAAAAAAADAUkAAAAAAAABSQAAAAAAAgFdAAAAAAACAWUAAAAAAAABbQAAAAAAAQFtAAAAAAAAAXkAAAAAAAEBdQAAAAAAAwFtAAAAAAAAAXEAAAAAAAIBZQAAAAAAAAFdAAAAAAAAAV0AAAAAAAIBXQAAAAAAAAFhAAAAAAAAAWUAAAAAAAABXQAAAAAAAAFdAAAAAAADAVkAAAAAAAABWQAAAAAAAAFlAAAAAAADAV0AAAAAAAEBYQAAAAAAAQFhAAAAAAABAWEAAAAAAAMBXQAAAAAAAQFhAAAAAAADAVkAAAAAAAABXQAAAAAAAwFdAAAAAAADAWUAAAAAAAABdQAAAAAAAAF1AAAAAAADAWkAAAAAAAEBbQAAAAAAAwFlAAAAAAACAWUAAAAAAAMBZQAAAAAAAwFhAAAAAAACAVkAAAAAAAEBWQAAAAAAAAFZAAAAAAABAVkAAAAAAAEBWQAAAAAAAwFVAAAAAAADAVEAAAAAAAABVQAAAAAAAAFVAAAAAAABAVkAAAAAAAABWQAAAAAAAwFZAAAAAAADAVkAAAAAAAEBWQAAAAAAAgFZAAAAAAAAAWUAAAAAAAABgQAAAAAAAAGFAAAAAAAAAX0AAAAAAAEBcQAAAAAAAAFlAAAAAAABAWUAAAAAAAIBaQAAAAAAAwFtAAAAAAACAWUAAAAAAAMBYQAAAAAAAwFpAAAAAAADAW0AAAAAAAEBcQAAAAAAAQFtAAAAAAABAW0AAAAAAAMBbQAAAAAAAQFhA\"},\"shape\":[96],\"dtype\":\"float64\",\"order\":\"little\"}]]}}},\"view\":{\"type\":\"object\",\"name\":\"CDSView\",\"id\":\"p2522\",\"attributes\":{\"filter\":{\"type\":\"object\",\"name\":\"AllIndices\",\"id\":\"p2523\"}}},\"glyph\":{\"type\":\"object\",\"name\":\"Line\",\"id\":\"p2518\",\"attributes\":{\"x\":{\"type\":\"field\",\"field\":\"x\"},\"y\":{\"type\":\"field\",\"field\":\"y\"},\"line_color\":\"gray\",\"line_alpha\":0.5,\"line_width\":2}},\"nonselection_glyph\":{\"type\":\"object\",\"name\":\"Line\",\"id\":\"p2519\",\"attributes\":{\"x\":{\"type\":\"field\",\"field\":\"x\"},\"y\":{\"type\":\"field\",\"field\":\"y\"},\"line_color\":\"gray\",\"line_alpha\":0.1,\"line_width\":2}},\"muted_glyph\":{\"type\":\"object\",\"name\":\"Line\",\"id\":\"p2520\",\"attributes\":{\"x\":{\"type\":\"field\",\"field\":\"x\"},\"y\":{\"type\":\"field\",\"field\":\"y\"},\"line_color\":\"gray\",\"line_alpha\":0.2,\"line_width\":2}}}},{\"type\":\"object\",\"name\":\"GlyphRenderer\",\"id\":\"p2531\",\"attributes\":{\"data_source\":{\"type\":\"object\",\"name\":\"ColumnDataSource\",\"id\":\"p2525\",\"attributes\":{\"selected\":{\"type\":\"object\",\"name\":\"Selection\",\"id\":\"p2526\",\"attributes\":{\"indices\":[],\"line_indices\":[]}},\"selection_policy\":{\"type\":\"object\",\"name\":\"UnionRenderers\",\"id\":\"p2527\"},\"data\":{\"type\":\"map\",\"entries\":[[\"x\",{\"type\":\"ndarray\",\"array\":{\"type\":\"bytes\",\"data\":\"AIDTrXMDeUIAgIPsSAN5QgCA9kBeA3lC\"},\"shape\":[3],\"dtype\":\"float64\",\"order\":\"little\"}],[\"y\",{\"type\":\"ndarray\",\"array\":{\"type\":\"bytes\",\"data\":\"AAAAAAAAYUAAAAAAAABeQAAAAAAAAF1A\"},\"shape\":[3],\"dtype\":\"float64\",\"order\":\"little\"}]]}}},\"view\":{\"type\":\"object\",\"name\":\"CDSView\",\"id\":\"p2532\",\"attributes\":{\"filter\":{\"type\":\"object\",\"name\":\"AllIndices\",\"id\":\"p2533\"}}},\"glyph\":{\"type\":\"object\",\"name\":\"Scatter\",\"id\":\"p2528\",\"attributes\":{\"x\":{\"type\":\"field\",\"field\":\"x\"},\"y\":{\"type\":\"field\",\"field\":\"y\"},\"size\":{\"type\":\"value\",\"value\":6},\"line_color\":{\"type\":\"value\",\"value\":\"darkblue\"},\"line_alpha\":{\"type\":\"value\",\"value\":0.7},\"fill_color\":{\"type\":\"value\",\"value\":\"darkblue\"},\"fill_alpha\":{\"type\":\"value\",\"value\":0.7},\"hatch_color\":{\"type\":\"value\",\"value\":\"darkblue\"},\"hatch_alpha\":{\"type\":\"value\",\"value\":0.7}}},\"nonselection_glyph\":{\"type\":\"object\",\"name\":\"Scatter\",\"id\":\"p2529\",\"attributes\":{\"x\":{\"type\":\"field\",\"field\":\"x\"},\"y\":{\"type\":\"field\",\"field\":\"y\"},\"size\":{\"type\":\"value\",\"value\":6},\"line_color\":{\"type\":\"value\",\"value\":\"darkblue\"},\"line_alpha\":{\"type\":\"value\",\"value\":0.1},\"fill_color\":{\"type\":\"value\",\"value\":\"darkblue\"},\"fill_alpha\":{\"type\":\"value\",\"value\":0.1},\"hatch_color\":{\"type\":\"value\",\"value\":\"darkblue\"},\"hatch_alpha\":{\"type\":\"value\",\"value\":0.1}}},\"muted_glyph\":{\"type\":\"object\",\"name\":\"Scatter\",\"id\":\"p2530\",\"attributes\":{\"x\":{\"type\":\"field\",\"field\":\"x\"},\"y\":{\"type\":\"field\",\"field\":\"y\"},\"size\":{\"type\":\"value\",\"value\":6},\"line_color\":{\"type\":\"value\",\"value\":\"darkblue\"},\"line_alpha\":{\"type\":\"value\",\"value\":0.2},\"fill_color\":{\"type\":\"value\",\"value\":\"darkblue\"},\"fill_alpha\":{\"type\":\"value\",\"value\":0.2},\"hatch_color\":{\"type\":\"value\",\"value\":\"darkblue\"},\"hatch_alpha\":{\"type\":\"value\",\"value\":0.2}}}}}],\"toolbar\":{\"type\":\"object\",\"name\":\"Toolbar\",\"id\":\"p2487\",\"attributes\":{\"tools\":[{\"type\":\"object\",\"name\":\"PanTool\",\"id\":\"p2512\"},{\"type\":\"object\",\"name\":\"WheelZoomTool\",\"id\":\"p2513\",\"attributes\":{\"dimensions\":\"width\",\"renderers\":\"auto\"}},{\"type\":\"object\",\"name\":\"WheelZoomTool\",\"id\":\"p2514\",\"attributes\":{\"dimensions\":\"height\",\"renderers\":\"auto\"}}],\"active_scroll\":{\"id\":\"p2513\"}}},\"left\":[{\"type\":\"object\",\"name\":\"LinearAxis\",\"id\":\"p2507\",\"attributes\":{\"ticker\":{\"type\":\"object\",\"name\":\"BasicTicker\",\"id\":\"p2508\",\"attributes\":{\"mantissas\":[1,2,5]}},\"formatter\":{\"type\":\"object\",\"name\":\"BasicTickFormatter\",\"id\":\"p2509\"},\"axis_label\":\"Glucose\",\"major_label_policy\":{\"type\":\"object\",\"name\":\"AllLabels\",\"id\":\"p2510\"}}}],\"above\":[{\"type\":\"object\",\"name\":\"DatetimeAxis\",\"id\":\"p2490\",\"attributes\":{\"ticker\":{\"type\":\"object\",\"name\":\"DatetimeTicker\",\"id\":\"p2491\",\"attributes\":{\"num_minor_ticks\":5,\"tickers\":[{\"type\":\"object\",\"name\":\"AdaptiveTicker\",\"id\":\"p2492\",\"attributes\":{\"num_minor_ticks\":0,\"mantissas\":[1,2,5],\"max_interval\":500.0}},{\"type\":\"object\",\"name\":\"AdaptiveTicker\",\"id\":\"p2493\",\"attributes\":{\"num_minor_ticks\":0,\"base\":60,\"mantissas\":[1,2,5,10,15,20,30],\"min_interval\":1000.0,\"max_interval\":1800000.0}},{\"type\":\"object\",\"name\":\"AdaptiveTicker\",\"id\":\"p2494\",\"attributes\":{\"num_minor_ticks\":0,\"base\":24,\"mantissas\":[1,2,4,6,8,12],\"min_interval\":3600000.0,\"max_interval\":43200000.0}},{\"type\":\"object\",\"name\":\"DaysTicker\",\"id\":\"p2495\",\"attributes\":{\"days\":[1,2,3,4,5,6,7,8,9,10,11,12,13,14,15,16,17,18,19,20,21,22,23,24,25,26,27,28,29,30,31]}},{\"type\":\"object\",\"name\":\"DaysTicker\",\"id\":\"p2496\",\"attributes\":{\"days\":[1,4,7,10,13,16,19,22,25,28]}},{\"type\":\"object\",\"name\":\"DaysTicker\",\"id\":\"p2497\",\"attributes\":{\"days\":[1,8,15,22]}},{\"type\":\"object\",\"name\":\"DaysTicker\",\"id\":\"p2498\",\"attributes\":{\"days\":[1,15]}},{\"type\":\"object\",\"name\":\"MonthsTicker\",\"id\":\"p2499\",\"attributes\":{\"months\":[0,1,2,3,4,5,6,7,8,9,10,11]}},{\"type\":\"object\",\"name\":\"MonthsTicker\",\"id\":\"p2500\",\"attributes\":{\"months\":[0,2,4,6,8,10]}},{\"type\":\"object\",\"name\":\"MonthsTicker\",\"id\":\"p2501\",\"attributes\":{\"months\":[0,4,8]}},{\"type\":\"object\",\"name\":\"MonthsTicker\",\"id\":\"p2502\",\"attributes\":{\"months\":[0,6]}},{\"type\":\"object\",\"name\":\"YearsTicker\",\"id\":\"p2503\"}]}},\"formatter\":{\"type\":\"object\",\"name\":\"DatetimeTickFormatter\",\"id\":\"p2504\"},\"axis_label\":\"Time\",\"major_label_policy\":{\"type\":\"object\",\"name\":\"AllLabels\",\"id\":\"p2505\"}}}],\"center\":[{\"type\":\"object\",\"name\":\"Grid\",\"id\":\"p2506\",\"attributes\":{\"axis\":{\"id\":\"p2490\"}}},{\"type\":\"object\",\"name\":\"Grid\",\"id\":\"p2511\",\"attributes\":{\"dimension\":1,\"axis\":{\"id\":\"p2507\"}}},{\"type\":\"object\",\"name\":\"Span\",\"id\":\"p2524\",\"attributes\":{\"location\":95.67708333333333,\"line_color\":\"red\"}},{\"type\":\"object\",\"name\":\"Span\",\"id\":\"p2534\",\"attributes\":{\"location\":1718886300000.0,\"dimension\":\"height\",\"line_color\":\"lightgreen\",\"line_width\":2}},{\"type\":\"object\",\"name\":\"BoxAnnotation\",\"id\":\"p2535\",\"attributes\":{\"left\":1718886300000.0,\"right\":1718889900000.0,\"top\":{\"type\":\"object\",\"name\":\"Node\",\"id\":\"p2538\",\"attributes\":{\"target\":\"frame\",\"symbol\":\"top\"}},\"bottom\":{\"type\":\"object\",\"name\":\"Node\",\"id\":\"p2539\",\"attributes\":{\"target\":\"frame\",\"symbol\":\"bottom\"}},\"fill_color\":\"lightgreen\",\"fill_alpha\":0.3}},{\"type\":\"object\",\"name\":\"Label\",\"id\":\"p2540\",\"attributes\":{\"text\":\"1229.00\",\"text_color\":\"black\",\"text_font_size\":\"10pt\",\"background_fill_color\":\"white\",\"background_fill_alpha\":0.7,\"x\":1718886300000.0,\"y\":110,\"angle\":90,\"angle_units\":\"deg\"}},{\"type\":\"object\",\"name\":\"Span\",\"id\":\"p2541\",\"attributes\":{\"location\":1718909100000.0,\"dimension\":\"height\",\"line_color\":\"lightgreen\",\"line_width\":2}},{\"type\":\"object\",\"name\":\"BoxAnnotation\",\"id\":\"p2542\",\"attributes\":{\"left\":1718909100000.0,\"right\":1718912700000.0,\"top\":{\"type\":\"object\",\"name\":\"Node\",\"id\":\"p2545\",\"attributes\":{\"target\":\"frame\",\"symbol\":\"top\"}},\"bottom\":{\"type\":\"object\",\"name\":\"Node\",\"id\":\"p2546\",\"attributes\":{\"target\":\"frame\",\"symbol\":\"bottom\"}},\"fill_color\":\"lightgreen\",\"fill_alpha\":0.3}},{\"type\":\"object\",\"name\":\"Label\",\"id\":\"p2547\",\"attributes\":{\"text\":\"907.40\",\"text_color\":\"black\",\"text_font_size\":\"10pt\",\"background_fill_color\":\"white\",\"background_fill_alpha\":0.7,\"x\":1718909100000.0,\"y\":110,\"angle\":90,\"angle_units\":\"deg\"}}]}}]}};\n",
              "  const render_items = [{\"docid\":\"5d6e573a-a7c2-4f3d-a727-f41a881c4866\",\"roots\":{\"p2479\":\"d896071b-28e5-4a60-b9f4-ecc3ee283841\"},\"root_ids\":[\"p2479\"]}];\n",
              "  void root.Bokeh.embed.embed_items_notebook(docs_json, render_items);\n",
              "  }\n",
              "  if (root.Bokeh !== undefined) {\n",
              "    embed_document(root);\n",
              "  } else {\n",
              "    let attempts = 0;\n",
              "    const timer = setInterval(function(root) {\n",
              "      if (root.Bokeh !== undefined) {\n",
              "        clearInterval(timer);\n",
              "        embed_document(root);\n",
              "      } else {\n",
              "        attempts++;\n",
              "        if (attempts > 100) {\n",
              "          clearInterval(timer);\n",
              "          console.log(\"Bokeh: ERROR: Unable to run BokehJS code because BokehJS library is missing\");\n",
              "        }\n",
              "      }\n",
              "    }, 10, root)\n",
              "  }\n",
              "})(window);"
            ],
            "application/vnd.bokehjs_exec.v0+json": ""
          },
          "metadata": {
            "application/vnd.bokehjs_exec.v0+json": {
              "id": "p2479"
            }
          }
        },
        {
          "output_type": "stream",
          "name": "stdout",
          "text": [
            "\n",
            "\n",
            "\n"
          ]
        },
        {
          "output_type": "display_data",
          "data": {
            "text/html": [
              "\n",
              "  <div id=\"a3009cb8-f4c0-4402-ad6b-12c532931b46\" data-root-id=\"p2552\" style=\"display: contents;\"></div>\n"
            ]
          },
          "metadata": {}
        },
        {
          "output_type": "display_data",
          "data": {
            "application/javascript": [
              "(function(root) {\n",
              "  function embed_document(root) {\n",
              "  const docs_json = {\"fc45200a-d2f5-4e51-841b-587df96d2881\":{\"version\":\"3.4.3\",\"title\":\"Bokeh Application\",\"roots\":[{\"type\":\"object\",\"name\":\"Figure\",\"id\":\"p2552\",\"attributes\":{\"height\":400,\"x_range\":{\"type\":\"object\",\"name\":\"DataRange1d\",\"id\":\"p2553\"},\"y_range\":{\"type\":\"object\",\"name\":\"DataRange1d\",\"id\":\"p2554\"},\"x_scale\":{\"type\":\"object\",\"name\":\"LinearScale\",\"id\":\"p2561\"},\"y_scale\":{\"type\":\"object\",\"name\":\"LinearScale\",\"id\":\"p2562\"},\"title\":{\"type\":\"object\",\"name\":\"Title\",\"id\":\"p2559\",\"attributes\":{\"text\":\"Day: 2024-06-21\",\"text_font_size\":\"20pt\",\"align\":\"center\"}},\"renderers\":[{\"type\":\"object\",\"name\":\"GlyphRenderer\",\"id\":\"p2594\",\"attributes\":{\"data_source\":{\"type\":\"object\",\"name\":\"ColumnDataSource\",\"id\":\"p2588\",\"attributes\":{\"selected\":{\"type\":\"object\",\"name\":\"Selection\",\"id\":\"p2589\",\"attributes\":{\"indices\":[],\"line_indices\":[]}},\"selection_policy\":{\"type\":\"object\",\"name\":\"UnionRenderers\",\"id\":\"p2590\"},\"data\":{\"type\":\"map\",\"entries\":[[\"x\",{\"type\":\"ndarray\",\"array\":{\"type\":\"bytes\",\"data\":\"AAC0vIEDeUIAAG6YggN5QgAAKHSDA3lCAADiT4QDeUIAAJwrhQN5QgAAVgeGA3lCAAAQ44YDeUIAAMq+hwN5QgAAhJqIA3lCAAA+dokDeUIAAPhRigN5QgAAsi2LA3lCAABsCYwDeUIAACbljAN5QgAA4MCNA3lCAACanI4DeUIAAFR4jwN5QgAADlSQA3lCAADIL5EDeUIAAIILkgN5QgAAPOeSA3lCAAD2wpMDeUIAALCelAN5QgAAanqVA3lCAAAkVpYDeUIAAN4xlwN5QgAAmA2YA3lCAABS6ZgDeUIAAAzFmQN5QgAATN6aA3lCAAAGupsDeUIAAMCVnAN5QgAAenGdA3lCAAA0TZ4DeUIAAO4onwN5QgAAqASgA3lCAABi4KADeUIAgKQDogN5QgCAXt+iA3lCAIAYu6MDeUIAgNKWpAN5QgCAjHKlA3lCAIBGTqYDeUIAgAAqpwN5QgCAugWoA3lCAIB04agDeUIAgC69qQN5QgCA6JiqA3lCAICidKsDeUIAgFxQrAN5QgCAFiytA3lCAIDQB64DeUIAgIrjrgN5QgCARL+vA3lCAID+mrADeUIAgLh2sQN5QgCAclKyA3lCAIAsLrMDeUIAgOYJtAN5QgAAI7G0A3lCAADdjLUDeUIAAJdotgN5QgAAUUS3A3lCAAALILgDeUIAAMX7uAN5QgAAf9e5A3lCAAA5s7oDeUIAAPOOuwN5QgAArWq8A3lCAABnRr0DeUIAACEivgN5QgCAlCi/A3lCAIBOBMADeUIAgAjgwAN5QgCAwrvBA3lCAIB8l8IDeUIAgDZzwwN5QgCA8E7EA3lCAICqKsUDeUIAgGQGxgN5QgCAHuLGA3lCAIDYvccDeUIAALfHyAN5QgAAcaPJA3lCAAArf8oDeUIAAOVaywN5QgAAnzbMA3lCAABZEs0DeUIAABPuzQN5QgAAzcnOA3lCAACHpc8DeUIAALXB0AN5QgAAb53RA3lCAAApedIDeUIAAONU0wN5Qg==\"},\"shape\":[95],\"dtype\":\"float64\",\"order\":\"little\"}],[\"y\",{\"type\":\"ndarray\",\"array\":{\"type\":\"bytes\",\"data\":\"AAAAAAAAWUAAAAAAAABaQAAAAAAAQFtAAAAAAADAWkAAAAAAAEBZQAAAAAAAAFlAAAAAAADAWkAAAAAAAIBeQAAAAAAAQFlAAAAAAACAUkAAAAAAAABWQAAAAAAAgFVAAAAAAACAV0AAAAAAAIBXQAAAAAAAAFdAAAAAAACAUEAAAAAAAIBOQAAAAAAAgE1AAAAAAACAUkAAAAAAAIBTQAAAAAAAgFZAAAAAAACAVkAAAAAAAABUQAAAAAAAgE5AAAAAAAAATkAAAAAAAABWQAAAAAAAgFRAAAAAAABAVUAAAAAAAABWQAAAAAAAgFdAAAAAAACAVkAAAAAAAABXQAAAAAAAgFlAAAAAAAAAXUAAAAAAAEBaQAAAAAAAQFlAAAAAAADAVkAAAAAAAABZQAAAAAAAgFhAAAAAAABAWEAAAAAAAMBWQAAAAAAAAFZAAAAAAACAVEAAAAAAAABVQAAAAAAAQFVAAAAAAADAVEAAAAAAAIBUQAAAAAAAwFVAAAAAAAAAVkAAAAAAAABWQAAAAAAAAFdAAAAAAADAVkAAAAAAAEBZQAAAAAAAQGBAAAAAAACAXkAAAAAAAABcQAAAAAAAgFtAAAAAAACAWkAAAAAAAABXQAAAAAAAAFdAAAAAAADAVkAAAAAAAMBWQAAAAAAAAFdAAAAAAAAAVkAAAAAAAMBWQAAAAAAAAFdAAAAAAAAAV0AAAAAAAIBVQAAAAAAAwFVAAAAAAABAVUAAAAAAAIBVQAAAAAAAgFhAAAAAAABAV0AAAAAAAMBWQAAAAAAAAFZAAAAAAADAVkAAAAAAAMBaQAAAAAAAIGBAAAAAAAAAYUAAAAAAAABfQAAAAAAAwFpAAAAAAABAWUAAAAAAAIBbQAAAAAAAwFhAAAAAAACAWEAAAAAAAMBZQAAAAAAAQFpAAAAAAAAAWkAAAAAAAMBXQAAAAAAAwFhAAAAAAABAWkAAAAAAAABYQAAAAAAAgFdAAAAAAACAW0AAAAAAAEBaQA==\"},\"shape\":[95],\"dtype\":\"float64\",\"order\":\"little\"}]]}}},\"view\":{\"type\":\"object\",\"name\":\"CDSView\",\"id\":\"p2595\",\"attributes\":{\"filter\":{\"type\":\"object\",\"name\":\"AllIndices\",\"id\":\"p2596\"}}},\"glyph\":{\"type\":\"object\",\"name\":\"Line\",\"id\":\"p2591\",\"attributes\":{\"x\":{\"type\":\"field\",\"field\":\"x\"},\"y\":{\"type\":\"field\",\"field\":\"y\"},\"line_color\":\"gray\",\"line_alpha\":0.5,\"line_width\":2}},\"nonselection_glyph\":{\"type\":\"object\",\"name\":\"Line\",\"id\":\"p2592\",\"attributes\":{\"x\":{\"type\":\"field\",\"field\":\"x\"},\"y\":{\"type\":\"field\",\"field\":\"y\"},\"line_color\":\"gray\",\"line_alpha\":0.1,\"line_width\":2}},\"muted_glyph\":{\"type\":\"object\",\"name\":\"Line\",\"id\":\"p2593\",\"attributes\":{\"x\":{\"type\":\"field\",\"field\":\"x\"},\"y\":{\"type\":\"field\",\"field\":\"y\"},\"line_color\":\"gray\",\"line_alpha\":0.2,\"line_width\":2}}}},{\"type\":\"object\",\"name\":\"GlyphRenderer\",\"id\":\"p2604\",\"attributes\":{\"data_source\":{\"type\":\"object\",\"name\":\"ColumnDataSource\",\"id\":\"p2598\",\"attributes\":{\"selected\":{\"type\":\"object\",\"name\":\"Selection\",\"id\":\"p2599\",\"attributes\":{\"indices\":[],\"line_indices\":[]}},\"selection_policy\":{\"type\":\"object\",\"name\":\"UnionRenderers\",\"id\":\"p2600\"},\"data\":{\"type\":\"map\",\"entries\":[[\"x\",{\"type\":\"ndarray\",\"array\":{\"type\":\"bytes\",\"data\":\"AIBEv68DeUIAgKoqxQN5QgAANE2eA3lCAADKvocDeUI=\"},\"shape\":[4],\"dtype\":\"float64\",\"order\":\"little\"}],[\"y\",{\"type\":\"ndarray\",\"array\":{\"type\":\"bytes\",\"data\":\"AAAAAABAYEAAAAAAAABhQAAAAAAAAF1AAAAAAACAXkA=\"},\"shape\":[4],\"dtype\":\"float64\",\"order\":\"little\"}]]}}},\"view\":{\"type\":\"object\",\"name\":\"CDSView\",\"id\":\"p2605\",\"attributes\":{\"filter\":{\"type\":\"object\",\"name\":\"AllIndices\",\"id\":\"p2606\"}}},\"glyph\":{\"type\":\"object\",\"name\":\"Scatter\",\"id\":\"p2601\",\"attributes\":{\"x\":{\"type\":\"field\",\"field\":\"x\"},\"y\":{\"type\":\"field\",\"field\":\"y\"},\"size\":{\"type\":\"value\",\"value\":6},\"line_color\":{\"type\":\"value\",\"value\":\"darkblue\"},\"line_alpha\":{\"type\":\"value\",\"value\":0.7},\"fill_color\":{\"type\":\"value\",\"value\":\"darkblue\"},\"fill_alpha\":{\"type\":\"value\",\"value\":0.7},\"hatch_color\":{\"type\":\"value\",\"value\":\"darkblue\"},\"hatch_alpha\":{\"type\":\"value\",\"value\":0.7}}},\"nonselection_glyph\":{\"type\":\"object\",\"name\":\"Scatter\",\"id\":\"p2602\",\"attributes\":{\"x\":{\"type\":\"field\",\"field\":\"x\"},\"y\":{\"type\":\"field\",\"field\":\"y\"},\"size\":{\"type\":\"value\",\"value\":6},\"line_color\":{\"type\":\"value\",\"value\":\"darkblue\"},\"line_alpha\":{\"type\":\"value\",\"value\":0.1},\"fill_color\":{\"type\":\"value\",\"value\":\"darkblue\"},\"fill_alpha\":{\"type\":\"value\",\"value\":0.1},\"hatch_color\":{\"type\":\"value\",\"value\":\"darkblue\"},\"hatch_alpha\":{\"type\":\"value\",\"value\":0.1}}},\"muted_glyph\":{\"type\":\"object\",\"name\":\"Scatter\",\"id\":\"p2603\",\"attributes\":{\"x\":{\"type\":\"field\",\"field\":\"x\"},\"y\":{\"type\":\"field\",\"field\":\"y\"},\"size\":{\"type\":\"value\",\"value\":6},\"line_color\":{\"type\":\"value\",\"value\":\"darkblue\"},\"line_alpha\":{\"type\":\"value\",\"value\":0.2},\"fill_color\":{\"type\":\"value\",\"value\":\"darkblue\"},\"fill_alpha\":{\"type\":\"value\",\"value\":0.2},\"hatch_color\":{\"type\":\"value\",\"value\":\"darkblue\"},\"hatch_alpha\":{\"type\":\"value\",\"value\":0.2}}}}}],\"toolbar\":{\"type\":\"object\",\"name\":\"Toolbar\",\"id\":\"p2560\",\"attributes\":{\"tools\":[{\"type\":\"object\",\"name\":\"PanTool\",\"id\":\"p2585\"},{\"type\":\"object\",\"name\":\"WheelZoomTool\",\"id\":\"p2586\",\"attributes\":{\"dimensions\":\"width\",\"renderers\":\"auto\"}},{\"type\":\"object\",\"name\":\"WheelZoomTool\",\"id\":\"p2587\",\"attributes\":{\"dimensions\":\"height\",\"renderers\":\"auto\"}}],\"active_scroll\":{\"id\":\"p2586\"}}},\"left\":[{\"type\":\"object\",\"name\":\"LinearAxis\",\"id\":\"p2580\",\"attributes\":{\"ticker\":{\"type\":\"object\",\"name\":\"BasicTicker\",\"id\":\"p2581\",\"attributes\":{\"mantissas\":[1,2,5]}},\"formatter\":{\"type\":\"object\",\"name\":\"BasicTickFormatter\",\"id\":\"p2582\"},\"axis_label\":\"Glucose\",\"major_label_policy\":{\"type\":\"object\",\"name\":\"AllLabels\",\"id\":\"p2583\"}}}],\"above\":[{\"type\":\"object\",\"name\":\"DatetimeAxis\",\"id\":\"p2563\",\"attributes\":{\"ticker\":{\"type\":\"object\",\"name\":\"DatetimeTicker\",\"id\":\"p2564\",\"attributes\":{\"num_minor_ticks\":5,\"tickers\":[{\"type\":\"object\",\"name\":\"AdaptiveTicker\",\"id\":\"p2565\",\"attributes\":{\"num_minor_ticks\":0,\"mantissas\":[1,2,5],\"max_interval\":500.0}},{\"type\":\"object\",\"name\":\"AdaptiveTicker\",\"id\":\"p2566\",\"attributes\":{\"num_minor_ticks\":0,\"base\":60,\"mantissas\":[1,2,5,10,15,20,30],\"min_interval\":1000.0,\"max_interval\":1800000.0}},{\"type\":\"object\",\"name\":\"AdaptiveTicker\",\"id\":\"p2567\",\"attributes\":{\"num_minor_ticks\":0,\"base\":24,\"mantissas\":[1,2,4,6,8,12],\"min_interval\":3600000.0,\"max_interval\":43200000.0}},{\"type\":\"object\",\"name\":\"DaysTicker\",\"id\":\"p2568\",\"attributes\":{\"days\":[1,2,3,4,5,6,7,8,9,10,11,12,13,14,15,16,17,18,19,20,21,22,23,24,25,26,27,28,29,30,31]}},{\"type\":\"object\",\"name\":\"DaysTicker\",\"id\":\"p2569\",\"attributes\":{\"days\":[1,4,7,10,13,16,19,22,25,28]}},{\"type\":\"object\",\"name\":\"DaysTicker\",\"id\":\"p2570\",\"attributes\":{\"days\":[1,8,15,22]}},{\"type\":\"object\",\"name\":\"DaysTicker\",\"id\":\"p2571\",\"attributes\":{\"days\":[1,15]}},{\"type\":\"object\",\"name\":\"MonthsTicker\",\"id\":\"p2572\",\"attributes\":{\"months\":[0,1,2,3,4,5,6,7,8,9,10,11]}},{\"type\":\"object\",\"name\":\"MonthsTicker\",\"id\":\"p2573\",\"attributes\":{\"months\":[0,2,4,6,8,10]}},{\"type\":\"object\",\"name\":\"MonthsTicker\",\"id\":\"p2574\",\"attributes\":{\"months\":[0,4,8]}},{\"type\":\"object\",\"name\":\"MonthsTicker\",\"id\":\"p2575\",\"attributes\":{\"months\":[0,6]}},{\"type\":\"object\",\"name\":\"YearsTicker\",\"id\":\"p2576\"}]}},\"formatter\":{\"type\":\"object\",\"name\":\"DatetimeTickFormatter\",\"id\":\"p2577\"},\"axis_label\":\"Time\",\"major_label_policy\":{\"type\":\"object\",\"name\":\"AllLabels\",\"id\":\"p2578\"}}}],\"center\":[{\"type\":\"object\",\"name\":\"Grid\",\"id\":\"p2579\",\"attributes\":{\"axis\":{\"id\":\"p2563\"}}},{\"type\":\"object\",\"name\":\"Grid\",\"id\":\"p2584\",\"attributes\":{\"dimension\":1,\"axis\":{\"id\":\"p2580\"}}},{\"type\":\"object\",\"name\":\"Span\",\"id\":\"p2597\",\"attributes\":{\"location\":94.7578947368421,\"line_color\":\"red\"}},{\"type\":\"object\",\"name\":\"Span\",\"id\":\"p2607\",\"attributes\":{\"location\":1718961000000.0,\"dimension\":\"height\",\"line_color\":\"lightgreen\",\"line_width\":2}},{\"type\":\"object\",\"name\":\"BoxAnnotation\",\"id\":\"p2608\",\"attributes\":{\"left\":1718961000000.0,\"right\":1718964600000.0,\"top\":{\"type\":\"object\",\"name\":\"Node\",\"id\":\"p2611\",\"attributes\":{\"target\":\"frame\",\"symbol\":\"top\"}},\"bottom\":{\"type\":\"object\",\"name\":\"Node\",\"id\":\"p2612\",\"attributes\":{\"target\":\"frame\",\"symbol\":\"bottom\"}},\"fill_color\":\"lightgreen\",\"fill_alpha\":0.3}},{\"type\":\"object\",\"name\":\"Label\",\"id\":\"p2613\",\"attributes\":{\"text\":\"299.00\",\"text_color\":\"black\",\"text_font_size\":\"10pt\",\"background_fill_color\":\"white\",\"background_fill_alpha\":0.7,\"x\":1718961000000.0,\"y\":110,\"angle\":90,\"angle_units\":\"deg\"}},{\"type\":\"object\",\"name\":\"Span\",\"id\":\"p2614\",\"attributes\":{\"location\":1718972100000.0,\"dimension\":\"height\",\"line_color\":\"lightgreen\",\"line_width\":2}},{\"type\":\"object\",\"name\":\"BoxAnnotation\",\"id\":\"p2615\",\"attributes\":{\"left\":1718972100000.0,\"right\":1718975700000.0,\"top\":{\"type\":\"object\",\"name\":\"Node\",\"id\":\"p2618\",\"attributes\":{\"target\":\"frame\",\"symbol\":\"top\"}},\"bottom\":{\"type\":\"object\",\"name\":\"Node\",\"id\":\"p2619\",\"attributes\":{\"target\":\"frame\",\"symbol\":\"bottom\"}},\"fill_color\":\"lightgreen\",\"fill_alpha\":0.3}},{\"type\":\"object\",\"name\":\"Label\",\"id\":\"p2620\",\"attributes\":{\"text\":\"823.02\",\"text_color\":\"black\",\"text_font_size\":\"10pt\",\"background_fill_color\":\"white\",\"background_fill_alpha\":0.7,\"x\":1718972100000.0,\"y\":110,\"angle\":90,\"angle_units\":\"deg\"}},{\"type\":\"object\",\"name\":\"Span\",\"id\":\"p2621\",\"attributes\":{\"location\":1718994000000.0,\"dimension\":\"height\",\"line_color\":\"lightgreen\",\"line_width\":2}},{\"type\":\"object\",\"name\":\"BoxAnnotation\",\"id\":\"p2622\",\"attributes\":{\"left\":1718994000000.0,\"right\":1718997600000.0,\"top\":{\"type\":\"object\",\"name\":\"Node\",\"id\":\"p2625\",\"attributes\":{\"target\":\"frame\",\"symbol\":\"top\"}},\"bottom\":{\"type\":\"object\",\"name\":\"Node\",\"id\":\"p2626\",\"attributes\":{\"target\":\"frame\",\"symbol\":\"bottom\"}},\"fill_color\":\"lightgreen\",\"fill_alpha\":0.3}},{\"type\":\"object\",\"name\":\"Label\",\"id\":\"p2627\",\"attributes\":{\"text\":\"1214.40\",\"text_color\":\"black\",\"text_font_size\":\"10pt\",\"background_fill_color\":\"white\",\"background_fill_alpha\":0.7,\"x\":1718994000000.0,\"y\":110,\"angle\":90,\"angle_units\":\"deg\"}}]}}]}};\n",
              "  const render_items = [{\"docid\":\"fc45200a-d2f5-4e51-841b-587df96d2881\",\"roots\":{\"p2552\":\"a3009cb8-f4c0-4402-ad6b-12c532931b46\"},\"root_ids\":[\"p2552\"]}];\n",
              "  void root.Bokeh.embed.embed_items_notebook(docs_json, render_items);\n",
              "  }\n",
              "  if (root.Bokeh !== undefined) {\n",
              "    embed_document(root);\n",
              "  } else {\n",
              "    let attempts = 0;\n",
              "    const timer = setInterval(function(root) {\n",
              "      if (root.Bokeh !== undefined) {\n",
              "        clearInterval(timer);\n",
              "        embed_document(root);\n",
              "      } else {\n",
              "        attempts++;\n",
              "        if (attempts > 100) {\n",
              "          clearInterval(timer);\n",
              "          console.log(\"Bokeh: ERROR: Unable to run BokehJS code because BokehJS library is missing\");\n",
              "        }\n",
              "      }\n",
              "    }, 10, root)\n",
              "  }\n",
              "})(window);"
            ],
            "application/vnd.bokehjs_exec.v0+json": ""
          },
          "metadata": {
            "application/vnd.bokehjs_exec.v0+json": {
              "id": "p2552"
            }
          }
        },
        {
          "output_type": "stream",
          "name": "stdout",
          "text": [
            "\n",
            "\n",
            "\n"
          ]
        },
        {
          "output_type": "display_data",
          "data": {
            "text/html": [
              "\n",
              "  <div id=\"d09a5b67-1dfa-4ee8-9961-7f41e3ea0d99\" data-root-id=\"p2632\" style=\"display: contents;\"></div>\n"
            ]
          },
          "metadata": {}
        },
        {
          "output_type": "display_data",
          "data": {
            "application/javascript": [
              "(function(root) {\n",
              "  function embed_document(root) {\n",
              "  const docs_json = {\"b00eea73-799d-4418-a4a6-5fa46be8693f\":{\"version\":\"3.4.3\",\"title\":\"Bokeh Application\",\"roots\":[{\"type\":\"object\",\"name\":\"Figure\",\"id\":\"p2632\",\"attributes\":{\"height\":400,\"x_range\":{\"type\":\"object\",\"name\":\"DataRange1d\",\"id\":\"p2633\"},\"y_range\":{\"type\":\"object\",\"name\":\"DataRange1d\",\"id\":\"p2634\"},\"x_scale\":{\"type\":\"object\",\"name\":\"LinearScale\",\"id\":\"p2641\"},\"y_scale\":{\"type\":\"object\",\"name\":\"LinearScale\",\"id\":\"p2642\"},\"title\":{\"type\":\"object\",\"name\":\"Title\",\"id\":\"p2639\",\"attributes\":{\"text\":\"Day: 2024-06-22\",\"text_font_size\":\"20pt\",\"align\":\"center\"}},\"renderers\":[{\"type\":\"object\",\"name\":\"GlyphRenderer\",\"id\":\"p2674\",\"attributes\":{\"data_source\":{\"type\":\"object\",\"name\":\"ColumnDataSource\",\"id\":\"p2668\",\"attributes\":{\"selected\":{\"type\":\"object\",\"name\":\"Selection\",\"id\":\"p2669\",\"attributes\":{\"indices\":[],\"line_indices\":[]}},\"selection_policy\":{\"type\":\"object\",\"name\":\"UnionRenderers\",\"id\":\"p2670\"},\"data\":{\"type\":\"map\",\"entries\":[[\"x\",{\"type\":\"ndarray\",\"array\":{\"type\":\"bytes\",\"data\":\"AAAxQtQDeUIAAOsd1QN5QgAApfnVA3lCAABf1dYDeUIAABmx1wN5QgAA04zYA3lCAACNaNkDeUIAAEdE2gN5QgAAASDbA3lCAAC7+9sDeUIAAHXX3AN5QgAAL7PdA3lCAADpjt4DeUIAAKNq3wN5QgAAXUbgA3lCAAAXIuEDeUIAANH94QN5QgAAi9niA3lCAABFteMDeUIAAP+Q5AN5QgAAuWzlA3lCAABzSOYDeUIAAC0k5wN5QgAA5//nA3lCAACh2+gDeUIAAFu36QN5QgAAFZPqA3lCAADPbusDeUIAgPxW7AN5QgCAtjLtA3lCAIBwDu4DeUIAgCrq7gN5QgCA5MXvA3lCAICeofADeUIAgFh98QN5QgCAElnyA3lCAIDMNPMDeUIAgIYQ9AN5QgCAQOz0A3lCAID1MPYDeUIAgKbP9gN5QgCAYKv3A3lCAIAah/gDeUIAgK6S+QN5QgCAaG76A3lCAIAiSvsDeUIAgNwl/AN5QgCAlgH9A3lCAIBQ3f0DeUIAgAq5/gN5QgCAxJT/A3lCAIB+cAAEeUIAgDhMAQR5QgCA8icCBHlCAICsAwMEeUIAgGbfAwR5QgCAILsEBHlCAIDalgUEeUIAgJRyBgR5QgAA/egGBHlCAAC3xAcEeUIAAHGgCAR5QgAAK3wJBHlCAADlVwoEeUIAAJ8zCwR5QgAAWQ8MBHlCAAAT6wwEeUIAAM3GDQR5QgAAh6IOBHlCAABBfg8EeUIAAPtZEAR5QgAAtTURBHlCAABvERIEeUIAACntEgR5QgAA48gTBHlCAACdpBQEeUIAAFeAFQR5QgAAEVwWBHlCAADLNxcEeUIAAIUTGAR5QgAAP+8YBHlCAAD5yhkEeUIAALOmGgR5QgAAbYIbBHlCAAAnXhwEeUIAAOE5HQR5QgAAmxUeBHlCAABV8R4EeUIAAA/NHwR5QgAAyaggBHlC\"},\"shape\":[90],\"dtype\":\"float64\",\"order\":\"little\"}],[\"y\",{\"type\":\"ndarray\",\"array\":{\"type\":\"bytes\",\"data\":\"AAAAAADAWEAAAAAAAMBVQAAAAAAAQFVAAAAAAABAV0AAAAAAAIBZQAAAAAAAAFlAAAAAAADAWUAAAAAAAEBbQAAAAAAAQF1AAAAAAAAAXkAAAAAAAIBcQAAAAAAAgFRAAAAAAADAVEAAAAAAAMBUQAAAAAAAAFZAAAAAAACAVkAAAAAAAABYQAAAAAAAAFlAAAAAAAAAVEAAAAAAAEBWQAAAAAAAgFZAAAAAAAAAVkAAAAAAAMBUQAAAAAAAwFRAAAAAAABAVkAAAAAAAEBWQAAAAAAAQFZAAAAAAAAAVkAAAAAAAABWQAAAAAAAgFhAAAAAAAAAWUAAAAAAAMBXQAAAAAAAQFpAAAAAAADAWUAAAAAAAIBXQAAAAAAAAFdAAAAAAADAWUAAAAAAAIBWQAAAAAAAQFtAAAAAAABAWUAAAAAAAMBYQAAAAAAAgFdAAAAAAADAVUAAAAAAAEBVQAAAAAAAQFZAAAAAAABAVkAAAAAAAMBWQAAAAAAAAFdAAAAAAADAV0AAAAAAAEBXQAAAAAAAgFdAAAAAAADAVkAAAAAAAEBZQAAAAAAAgFtAAAAAAABAWUAAAAAAAABYQAAAAAAAwFVAAAAAAAAAUkAAAAAAAMBTQAAAAAAAwFNAAAAAAADAWEAAAAAAAMBWQAAAAAAAwFdAAAAAAAAAWUAAAAAAAIBZQAAAAAAAwFdAAAAAAACAV0AAAAAAAABYQAAAAAAAAFhAAAAAAABAV0AAAAAAAMBXQAAAAAAAQFhAAAAAAADAV0AAAAAAAEBYQAAAAAAAAFRAAAAAAABAVkAAAAAAAEBXQAAAAAAAAFpAAAAAAABAWEAAAAAAAMBSQAAAAAAAgFJAAAAAAABAU0AAAAAAAEBVQAAAAAAAAFVAAAAAAADAV0AAAAAAAIBWQAAAAAAAgFZAAAAAAADAVkAAAAAAAIBaQAAAAAAAQFdA\"},\"shape\":[90],\"dtype\":\"float64\",\"order\":\"little\"}]]}}},\"view\":{\"type\":\"object\",\"name\":\"CDSView\",\"id\":\"p2675\",\"attributes\":{\"filter\":{\"type\":\"object\",\"name\":\"AllIndices\",\"id\":\"p2676\"}}},\"glyph\":{\"type\":\"object\",\"name\":\"Line\",\"id\":\"p2671\",\"attributes\":{\"x\":{\"type\":\"field\",\"field\":\"x\"},\"y\":{\"type\":\"field\",\"field\":\"y\"},\"line_color\":\"gray\",\"line_alpha\":0.5,\"line_width\":2}},\"nonselection_glyph\":{\"type\":\"object\",\"name\":\"Line\",\"id\":\"p2672\",\"attributes\":{\"x\":{\"type\":\"field\",\"field\":\"x\"},\"y\":{\"type\":\"field\",\"field\":\"y\"},\"line_color\":\"gray\",\"line_alpha\":0.1,\"line_width\":2}},\"muted_glyph\":{\"type\":\"object\",\"name\":\"Line\",\"id\":\"p2673\",\"attributes\":{\"x\":{\"type\":\"field\",\"field\":\"x\"},\"y\":{\"type\":\"field\",\"field\":\"y\"},\"line_color\":\"gray\",\"line_alpha\":0.2,\"line_width\":2}}}},{\"type\":\"object\",\"name\":\"GlyphRenderer\",\"id\":\"p2684\",\"attributes\":{\"data_source\":{\"type\":\"object\",\"name\":\"ColumnDataSource\",\"id\":\"p2678\",\"attributes\":{\"selected\":{\"type\":\"object\",\"name\":\"Selection\",\"id\":\"p2679\",\"attributes\":{\"indices\":[],\"line_indices\":[]}},\"selection_policy\":{\"type\":\"object\",\"name\":\"UnionRenderers\",\"id\":\"p2680\"},\"data\":{\"type\":\"map\",\"entries\":[[\"x\",{\"type\":\"ndarray\",\"array\":{\"type\":\"bytes\",\"data\":\"AAC7+9sDeUIAgPInAgR5QgCAQOz0A3lCAAAPzR8EeUI=\"},\"shape\":[4],\"dtype\":\"float64\",\"order\":\"little\"}],[\"y\",{\"type\":\"ndarray\",\"array\":{\"type\":\"bytes\",\"data\":\"AAAAAAAAXkAAAAAAAIBbQAAAAAAAQFtAAAAAAACAWkA=\"},\"shape\":[4],\"dtype\":\"float64\",\"order\":\"little\"}]]}}},\"view\":{\"type\":\"object\",\"name\":\"CDSView\",\"id\":\"p2685\",\"attributes\":{\"filter\":{\"type\":\"object\",\"name\":\"AllIndices\",\"id\":\"p2686\"}}},\"glyph\":{\"type\":\"object\",\"name\":\"Scatter\",\"id\":\"p2681\",\"attributes\":{\"x\":{\"type\":\"field\",\"field\":\"x\"},\"y\":{\"type\":\"field\",\"field\":\"y\"},\"size\":{\"type\":\"value\",\"value\":6},\"line_color\":{\"type\":\"value\",\"value\":\"darkblue\"},\"line_alpha\":{\"type\":\"value\",\"value\":0.7},\"fill_color\":{\"type\":\"value\",\"value\":\"darkblue\"},\"fill_alpha\":{\"type\":\"value\",\"value\":0.7},\"hatch_color\":{\"type\":\"value\",\"value\":\"darkblue\"},\"hatch_alpha\":{\"type\":\"value\",\"value\":0.7}}},\"nonselection_glyph\":{\"type\":\"object\",\"name\":\"Scatter\",\"id\":\"p2682\",\"attributes\":{\"x\":{\"type\":\"field\",\"field\":\"x\"},\"y\":{\"type\":\"field\",\"field\":\"y\"},\"size\":{\"type\":\"value\",\"value\":6},\"line_color\":{\"type\":\"value\",\"value\":\"darkblue\"},\"line_alpha\":{\"type\":\"value\",\"value\":0.1},\"fill_color\":{\"type\":\"value\",\"value\":\"darkblue\"},\"fill_alpha\":{\"type\":\"value\",\"value\":0.1},\"hatch_color\":{\"type\":\"value\",\"value\":\"darkblue\"},\"hatch_alpha\":{\"type\":\"value\",\"value\":0.1}}},\"muted_glyph\":{\"type\":\"object\",\"name\":\"Scatter\",\"id\":\"p2683\",\"attributes\":{\"x\":{\"type\":\"field\",\"field\":\"x\"},\"y\":{\"type\":\"field\",\"field\":\"y\"},\"size\":{\"type\":\"value\",\"value\":6},\"line_color\":{\"type\":\"value\",\"value\":\"darkblue\"},\"line_alpha\":{\"type\":\"value\",\"value\":0.2},\"fill_color\":{\"type\":\"value\",\"value\":\"darkblue\"},\"fill_alpha\":{\"type\":\"value\",\"value\":0.2},\"hatch_color\":{\"type\":\"value\",\"value\":\"darkblue\"},\"hatch_alpha\":{\"type\":\"value\",\"value\":0.2}}}}}],\"toolbar\":{\"type\":\"object\",\"name\":\"Toolbar\",\"id\":\"p2640\",\"attributes\":{\"tools\":[{\"type\":\"object\",\"name\":\"PanTool\",\"id\":\"p2665\"},{\"type\":\"object\",\"name\":\"WheelZoomTool\",\"id\":\"p2666\",\"attributes\":{\"dimensions\":\"width\",\"renderers\":\"auto\"}},{\"type\":\"object\",\"name\":\"WheelZoomTool\",\"id\":\"p2667\",\"attributes\":{\"dimensions\":\"height\",\"renderers\":\"auto\"}}],\"active_scroll\":{\"id\":\"p2666\"}}},\"left\":[{\"type\":\"object\",\"name\":\"LinearAxis\",\"id\":\"p2660\",\"attributes\":{\"ticker\":{\"type\":\"object\",\"name\":\"BasicTicker\",\"id\":\"p2661\",\"attributes\":{\"mantissas\":[1,2,5]}},\"formatter\":{\"type\":\"object\",\"name\":\"BasicTickFormatter\",\"id\":\"p2662\"},\"axis_label\":\"Glucose\",\"major_label_policy\":{\"type\":\"object\",\"name\":\"AllLabels\",\"id\":\"p2663\"}}}],\"above\":[{\"type\":\"object\",\"name\":\"DatetimeAxis\",\"id\":\"p2643\",\"attributes\":{\"ticker\":{\"type\":\"object\",\"name\":\"DatetimeTicker\",\"id\":\"p2644\",\"attributes\":{\"num_minor_ticks\":5,\"tickers\":[{\"type\":\"object\",\"name\":\"AdaptiveTicker\",\"id\":\"p2645\",\"attributes\":{\"num_minor_ticks\":0,\"mantissas\":[1,2,5],\"max_interval\":500.0}},{\"type\":\"object\",\"name\":\"AdaptiveTicker\",\"id\":\"p2646\",\"attributes\":{\"num_minor_ticks\":0,\"base\":60,\"mantissas\":[1,2,5,10,15,20,30],\"min_interval\":1000.0,\"max_interval\":1800000.0}},{\"type\":\"object\",\"name\":\"AdaptiveTicker\",\"id\":\"p2647\",\"attributes\":{\"num_minor_ticks\":0,\"base\":24,\"mantissas\":[1,2,4,6,8,12],\"min_interval\":3600000.0,\"max_interval\":43200000.0}},{\"type\":\"object\",\"name\":\"DaysTicker\",\"id\":\"p2648\",\"attributes\":{\"days\":[1,2,3,4,5,6,7,8,9,10,11,12,13,14,15,16,17,18,19,20,21,22,23,24,25,26,27,28,29,30,31]}},{\"type\":\"object\",\"name\":\"DaysTicker\",\"id\":\"p2649\",\"attributes\":{\"days\":[1,4,7,10,13,16,19,22,25,28]}},{\"type\":\"object\",\"name\":\"DaysTicker\",\"id\":\"p2650\",\"attributes\":{\"days\":[1,8,15,22]}},{\"type\":\"object\",\"name\":\"DaysTicker\",\"id\":\"p2651\",\"attributes\":{\"days\":[1,15]}},{\"type\":\"object\",\"name\":\"MonthsTicker\",\"id\":\"p2652\",\"attributes\":{\"months\":[0,1,2,3,4,5,6,7,8,9,10,11]}},{\"type\":\"object\",\"name\":\"MonthsTicker\",\"id\":\"p2653\",\"attributes\":{\"months\":[0,2,4,6,8,10]}},{\"type\":\"object\",\"name\":\"MonthsTicker\",\"id\":\"p2654\",\"attributes\":{\"months\":[0,4,8]}},{\"type\":\"object\",\"name\":\"MonthsTicker\",\"id\":\"p2655\",\"attributes\":{\"months\":[0,6]}},{\"type\":\"object\",\"name\":\"YearsTicker\",\"id\":\"p2656\"}]}},\"formatter\":{\"type\":\"object\",\"name\":\"DatetimeTickFormatter\",\"id\":\"p2657\"},\"axis_label\":\"Time\",\"major_label_policy\":{\"type\":\"object\",\"name\":\"AllLabels\",\"id\":\"p2658\"}}}],\"center\":[{\"type\":\"object\",\"name\":\"Grid\",\"id\":\"p2659\",\"attributes\":{\"axis\":{\"id\":\"p2643\"}}},{\"type\":\"object\",\"name\":\"Grid\",\"id\":\"p2664\",\"attributes\":{\"dimension\":1,\"axis\":{\"id\":\"p2660\"}}},{\"type\":\"object\",\"name\":\"Span\",\"id\":\"p2677\",\"attributes\":{\"location\":93.21111111111111,\"line_color\":\"red\"}},{\"type\":\"object\",\"name\":\"Span\",\"id\":\"p2687\",\"attributes\":{\"location\":1719048600000.0,\"dimension\":\"height\",\"line_color\":\"lightgreen\",\"line_width\":2}},{\"type\":\"object\",\"name\":\"BoxAnnotation\",\"id\":\"p2688\",\"attributes\":{\"left\":1719048600000.0,\"right\":1719052200000.0,\"top\":{\"type\":\"object\",\"name\":\"Node\",\"id\":\"p2691\",\"attributes\":{\"target\":\"frame\",\"symbol\":\"top\"}},\"bottom\":{\"type\":\"object\",\"name\":\"Node\",\"id\":\"p2692\",\"attributes\":{\"target\":\"frame\",\"symbol\":\"bottom\"}},\"fill_color\":\"lightgreen\",\"fill_alpha\":0.3}},{\"type\":\"object\",\"name\":\"Label\",\"id\":\"p2693\",\"attributes\":{\"text\":\"299.00\",\"text_color\":\"black\",\"text_font_size\":\"10pt\",\"background_fill_color\":\"white\",\"background_fill_alpha\":0.7,\"x\":1719048600000.0,\"y\":110,\"angle\":90,\"angle_units\":\"deg\"}},{\"type\":\"object\",\"name\":\"Span\",\"id\":\"p2694\",\"attributes\":{\"location\":1719061121000.0,\"dimension\":\"height\",\"line_color\":\"lightgreen\",\"line_width\":2}},{\"type\":\"object\",\"name\":\"BoxAnnotation\",\"id\":\"p2695\",\"attributes\":{\"left\":1719061121000.0,\"right\":1719064721000.0,\"top\":{\"type\":\"object\",\"name\":\"Node\",\"id\":\"p2698\",\"attributes\":{\"target\":\"frame\",\"symbol\":\"top\"}},\"bottom\":{\"type\":\"object\",\"name\":\"Node\",\"id\":\"p2699\",\"attributes\":{\"target\":\"frame\",\"symbol\":\"bottom\"}},\"fill_color\":\"lightgreen\",\"fill_alpha\":0.3}},{\"type\":\"object\",\"name\":\"Label\",\"id\":\"p2700\",\"attributes\":{\"text\":\"1104.00\",\"text_color\":\"black\",\"text_font_size\":\"10pt\",\"background_fill_color\":\"white\",\"background_fill_alpha\":0.7,\"x\":1719061121000.0,\"y\":110,\"angle\":90,\"angle_units\":\"deg\"}},{\"type\":\"object\",\"name\":\"Span\",\"id\":\"p2701\",\"attributes\":{\"location\":1719081600000.0,\"dimension\":\"height\",\"line_color\":\"lightgreen\",\"line_width\":2}},{\"type\":\"object\",\"name\":\"BoxAnnotation\",\"id\":\"p2702\",\"attributes\":{\"left\":1719081600000.0,\"right\":1719085200000.0,\"top\":{\"type\":\"object\",\"name\":\"Node\",\"id\":\"p2705\",\"attributes\":{\"target\":\"frame\",\"symbol\":\"top\"}},\"bottom\":{\"type\":\"object\",\"name\":\"Node\",\"id\":\"p2706\",\"attributes\":{\"target\":\"frame\",\"symbol\":\"bottom\"}},\"fill_color\":\"lightgreen\",\"fill_alpha\":0.3}},{\"type\":\"object\",\"name\":\"Label\",\"id\":\"p2707\",\"attributes\":{\"text\":\"1520.00\",\"text_color\":\"black\",\"text_font_size\":\"10pt\",\"background_fill_color\":\"white\",\"background_fill_alpha\":0.7,\"x\":1719081600000.0,\"y\":110,\"angle\":90,\"angle_units\":\"deg\"}}]}}]}};\n",
              "  const render_items = [{\"docid\":\"b00eea73-799d-4418-a4a6-5fa46be8693f\",\"roots\":{\"p2632\":\"d09a5b67-1dfa-4ee8-9961-7f41e3ea0d99\"},\"root_ids\":[\"p2632\"]}];\n",
              "  void root.Bokeh.embed.embed_items_notebook(docs_json, render_items);\n",
              "  }\n",
              "  if (root.Bokeh !== undefined) {\n",
              "    embed_document(root);\n",
              "  } else {\n",
              "    let attempts = 0;\n",
              "    const timer = setInterval(function(root) {\n",
              "      if (root.Bokeh !== undefined) {\n",
              "        clearInterval(timer);\n",
              "        embed_document(root);\n",
              "      } else {\n",
              "        attempts++;\n",
              "        if (attempts > 100) {\n",
              "          clearInterval(timer);\n",
              "          console.log(\"Bokeh: ERROR: Unable to run BokehJS code because BokehJS library is missing\");\n",
              "        }\n",
              "      }\n",
              "    }, 10, root)\n",
              "  }\n",
              "})(window);"
            ],
            "application/vnd.bokehjs_exec.v0+json": ""
          },
          "metadata": {
            "application/vnd.bokehjs_exec.v0+json": {
              "id": "p2632"
            }
          }
        },
        {
          "output_type": "stream",
          "name": "stdout",
          "text": [
            "\n",
            "\n",
            "\n"
          ]
        },
        {
          "output_type": "display_data",
          "data": {
            "text/html": [
              "\n",
              "  <div id=\"b4f0a098-cb54-4353-9bb1-cc1488d15f7a\" data-root-id=\"p2712\" style=\"display: contents;\"></div>\n"
            ]
          },
          "metadata": {}
        },
        {
          "output_type": "display_data",
          "data": {
            "application/javascript": [
              "(function(root) {\n",
              "  function embed_document(root) {\n",
              "  const docs_json = {\"96fe665a-1991-4da0-9a23-81b995c2778a\":{\"version\":\"3.4.3\",\"title\":\"Bokeh Application\",\"roots\":[{\"type\":\"object\",\"name\":\"Figure\",\"id\":\"p2712\",\"attributes\":{\"height\":400,\"x_range\":{\"type\":\"object\",\"name\":\"DataRange1d\",\"id\":\"p2713\"},\"y_range\":{\"type\":\"object\",\"name\":\"DataRange1d\",\"id\":\"p2714\"},\"x_scale\":{\"type\":\"object\",\"name\":\"LinearScale\",\"id\":\"p2721\"},\"y_scale\":{\"type\":\"object\",\"name\":\"LinearScale\",\"id\":\"p2722\"},\"title\":{\"type\":\"object\",\"name\":\"Title\",\"id\":\"p2719\",\"attributes\":{\"text\":\"Day: 2024-06-24\",\"text_font_size\":\"20pt\",\"align\":\"center\"}},\"renderers\":[{\"type\":\"object\",\"name\":\"GlyphRenderer\",\"id\":\"p2754\",\"attributes\":{\"data_source\":{\"type\":\"object\",\"name\":\"ColumnDataSource\",\"id\":\"p2748\",\"attributes\":{\"selected\":{\"type\":\"object\",\"name\":\"Selection\",\"id\":\"p2749\",\"attributes\":{\"indices\":[],\"line_indices\":[]}},\"selection_policy\":{\"type\":\"object\",\"name\":\"UnionRenderers\",\"id\":\"p2750\"},\"data\":{\"type\":\"map\",\"entries\":[[\"x\",{\"type\":\"ndarray\",\"array\":{\"type\":\"bytes\",\"data\":\"AAAsOHkEeUIAAOYTegR5QgAAoO96BHlCAABay3sEeUIAABSnfAR5QgAAzoJ9BHlCAACIXn4EeUIAAEI6fwR5QgAA/BWABHlCAAC28YAEeUIAAHDNgQR5QgAAKqmCBHlCAADkhIMEeUIAAJ5ghAR5QgAAWDyFBHlCAAASGIYEeUIAAMzzhgR5QgAAhs+HBHlCAABAq4gEeUIAAPqGiQR5QgAAtGKKBHlCAABuPosEeUIAACgajAR5QgAA4vWMBHlCAACc0Y0EeUIAAFatjgR5QgAAd2OPBHlCAAAxP5AEeUIAAOsakQR5QgAApfaRBHlCAABf0pIEeUIAABmukwR5QgAA04mUBHlCAACaTpUEeUIAAFQqlgR5QgAADgaXBHlCAADI4ZcEeUIAAIK9mAR5QgAAPJmZBHlCAAD2dJoEeUIAALBQmwR5QgAAaiycBHlCAAAkCJ0EeUIAAHAfngR5QgAAKvueBHlCAADk1p8EeUIAAJ6yoAR5QgAAWI6hBHlCAAASaqIEeUIAAMxFowR5QgAAhiGkBHlCAABA/aQEeUIAAPrYpQR5QgCAl1umBHlCAIBRN6cEeUIAgAsTqAR5QgCAxe6oBHlCAIB/yqkEeUIAgDmmqgR5QgCA84GrBHlCAICtXawEeUIAgGc5rQR5QgCAIRWuBHlCAIDb8K4EeUIAgJXMrwR5QgAAD1WwBHlCAADJMLEEeUIAAIMMsgR5QgAAPeiyBHlCAAD3w7MEeUIAgP/GtAR5QgCAuaK1BHlCAIBzfrYEeUIAgC1atwR5QgCA5zW4BHlCAIChEbkEeUIAgFvtuQR5QgCAFcm6BHlCAIDPpLsEeUIAgImAvAR5QgCAQ1y9BHlCAID9N74EeUIAgLcTvwR5QgCAce+/BHlCAIAry8AEeUIAgOWmwQR5QgCAn4LCBHlCAIBZXsMEeUIAgOLZwwR5QgCAnLXEBHlCAIBWkcUEeUIAgBBtxgR5QgCAykjHBHlCAICEJMgEeUIAgD4AyQR5QgCA+NvJBHlCAICyt8oEeUI=\"},\"shape\":[97],\"dtype\":\"float64\",\"order\":\"little\"}],[\"y\",{\"type\":\"ndarray\",\"array\":{\"type\":\"bytes\",\"data\":\"AAAAAABAWEAAAAAAAMBYQAAAAAAAwFpAAAAAAABAW0AAAAAAAMBaQAAAAAAAgFpAAAAAAAAAW0AAAAAAAMBZQAAAAAAAwFlAAAAAAACAWkAAAAAAAIBaQAAAAAAAQFlAAAAAAABAWkAAAAAAAABaQAAAAAAAAFtAAAAAAAAAWUAAAAAAAABYQAAAAAAAwFZAAAAAAADAVkAAAAAAAEBWQAAAAAAAwFdAAAAAAAAAWEAAAAAAAMBXQAAAAAAAwFhAAAAAAADAVkAAAAAAAMBTQAAAAAAAgFhAAAAAAACAW0AAAAAAAEBZQAAAAAAAQFhAAAAAAAAAU0AAAAAAAIBbQAAAAAAAgFlAAAAAAABAWUAAAAAAAIBYQAAAAAAAQFhAAAAAAADAV0AAAAAAAABYQAAAAAAAQFdAAAAAAAAAV0AAAAAAAEBXQAAAAAAAAFdAAAAAAAAAV0AAAAAAAABXQAAAAAAAQFdAAAAAAADAV0AAAAAAAMBXQAAAAAAAwFdAAAAAAAAAWUAAAAAAAIBYQAAAAAAAgFxAAAAAAAAAWEAAAAAAAEBWQAAAAAAAQFZAAAAAAACAVUAAAAAAAABXQAAAAAAAwFhAAAAAAAAAWUAAAAAAAMBXQAAAAAAAAFhAAAAAAABAWUAAAAAAAIBZQAAAAAAAgFpAAAAAAADAWkAAAAAAAIBaQAAAAAAAQFtAAAAAAACAWkAAAAAAAABaQAAAAAAAwFpAAAAAAABAW0AAAAAAAMBdQAAAAAAAAFhAAAAAAAAAWEAAAAAAAIBZQAAAAAAAQFlAAAAAAABAWEAAAAAAAMBYQAAAAAAAQFlAAAAAAABAV0AAAAAAAEBWQAAAAAAAwFZAAAAAAACAVUAAAAAAAEBWQAAAAAAAwFZAAAAAAABAVkAAAAAAAABWQAAAAAAAAFZAAAAAAADAVkAAAAAAAMBWQAAAAAAAAFdAAAAAAABAVkAAAAAAAEBXQAAAAAAAQFdAAAAAAACAV0AAAAAAAEBWQAAAAAAAgFZAAAAAAABAVkA=\"},\"shape\":[97],\"dtype\":\"float64\",\"order\":\"little\"}]]}}},\"view\":{\"type\":\"object\",\"name\":\"CDSView\",\"id\":\"p2755\",\"attributes\":{\"filter\":{\"type\":\"object\",\"name\":\"AllIndices\",\"id\":\"p2756\"}}},\"glyph\":{\"type\":\"object\",\"name\":\"Line\",\"id\":\"p2751\",\"attributes\":{\"x\":{\"type\":\"field\",\"field\":\"x\"},\"y\":{\"type\":\"field\",\"field\":\"y\"},\"line_color\":\"gray\",\"line_alpha\":0.5,\"line_width\":2}},\"nonselection_glyph\":{\"type\":\"object\",\"name\":\"Line\",\"id\":\"p2752\",\"attributes\":{\"x\":{\"type\":\"field\",\"field\":\"x\"},\"y\":{\"type\":\"field\",\"field\":\"y\"},\"line_color\":\"gray\",\"line_alpha\":0.1,\"line_width\":2}},\"muted_glyph\":{\"type\":\"object\",\"name\":\"Line\",\"id\":\"p2753\",\"attributes\":{\"x\":{\"type\":\"field\",\"field\":\"x\"},\"y\":{\"type\":\"field\",\"field\":\"y\"},\"line_color\":\"gray\",\"line_alpha\":0.2,\"line_width\":2}}}},{\"type\":\"object\",\"name\":\"GlyphRenderer\",\"id\":\"p2764\",\"attributes\":{\"data_source\":{\"type\":\"object\",\"name\":\"ColumnDataSource\",\"id\":\"p2758\",\"attributes\":{\"selected\":{\"type\":\"object\",\"name\":\"Selection\",\"id\":\"p2759\",\"attributes\":{\"indices\":[],\"line_indices\":[]}},\"selection_policy\":{\"type\":\"object\",\"name\":\"UnionRenderers\",\"id\":\"p2760\"},\"data\":{\"type\":\"map\",\"entries\":[[\"x\",{\"type\":\"ndarray\",\"array\":{\"type\":\"bytes\",\"data\":\"AID/xrQEeUIAAIYhpAR5QgAAGa6TBHlCAABay3sEeUI=\"},\"shape\":[4],\"dtype\":\"float64\",\"order\":\"little\"}],[\"y\",{\"type\":\"ndarray\",\"array\":{\"type\":\"bytes\",\"data\":\"AAAAAADAXUAAAAAAAIBcQAAAAAAAgFtAAAAAAABAW0A=\"},\"shape\":[4],\"dtype\":\"float64\",\"order\":\"little\"}]]}}},\"view\":{\"type\":\"object\",\"name\":\"CDSView\",\"id\":\"p2765\",\"attributes\":{\"filter\":{\"type\":\"object\",\"name\":\"AllIndices\",\"id\":\"p2766\"}}},\"glyph\":{\"type\":\"object\",\"name\":\"Scatter\",\"id\":\"p2761\",\"attributes\":{\"x\":{\"type\":\"field\",\"field\":\"x\"},\"y\":{\"type\":\"field\",\"field\":\"y\"},\"size\":{\"type\":\"value\",\"value\":6},\"line_color\":{\"type\":\"value\",\"value\":\"darkblue\"},\"line_alpha\":{\"type\":\"value\",\"value\":0.7},\"fill_color\":{\"type\":\"value\",\"value\":\"darkblue\"},\"fill_alpha\":{\"type\":\"value\",\"value\":0.7},\"hatch_color\":{\"type\":\"value\",\"value\":\"darkblue\"},\"hatch_alpha\":{\"type\":\"value\",\"value\":0.7}}},\"nonselection_glyph\":{\"type\":\"object\",\"name\":\"Scatter\",\"id\":\"p2762\",\"attributes\":{\"x\":{\"type\":\"field\",\"field\":\"x\"},\"y\":{\"type\":\"field\",\"field\":\"y\"},\"size\":{\"type\":\"value\",\"value\":6},\"line_color\":{\"type\":\"value\",\"value\":\"darkblue\"},\"line_alpha\":{\"type\":\"value\",\"value\":0.1},\"fill_color\":{\"type\":\"value\",\"value\":\"darkblue\"},\"fill_alpha\":{\"type\":\"value\",\"value\":0.1},\"hatch_color\":{\"type\":\"value\",\"value\":\"darkblue\"},\"hatch_alpha\":{\"type\":\"value\",\"value\":0.1}}},\"muted_glyph\":{\"type\":\"object\",\"name\":\"Scatter\",\"id\":\"p2763\",\"attributes\":{\"x\":{\"type\":\"field\",\"field\":\"x\"},\"y\":{\"type\":\"field\",\"field\":\"y\"},\"size\":{\"type\":\"value\",\"value\":6},\"line_color\":{\"type\":\"value\",\"value\":\"darkblue\"},\"line_alpha\":{\"type\":\"value\",\"value\":0.2},\"fill_color\":{\"type\":\"value\",\"value\":\"darkblue\"},\"fill_alpha\":{\"type\":\"value\",\"value\":0.2},\"hatch_color\":{\"type\":\"value\",\"value\":\"darkblue\"},\"hatch_alpha\":{\"type\":\"value\",\"value\":0.2}}}}}],\"toolbar\":{\"type\":\"object\",\"name\":\"Toolbar\",\"id\":\"p2720\",\"attributes\":{\"tools\":[{\"type\":\"object\",\"name\":\"PanTool\",\"id\":\"p2745\"},{\"type\":\"object\",\"name\":\"WheelZoomTool\",\"id\":\"p2746\",\"attributes\":{\"dimensions\":\"width\",\"renderers\":\"auto\"}},{\"type\":\"object\",\"name\":\"WheelZoomTool\",\"id\":\"p2747\",\"attributes\":{\"dimensions\":\"height\",\"renderers\":\"auto\"}}],\"active_scroll\":{\"id\":\"p2746\"}}},\"left\":[{\"type\":\"object\",\"name\":\"LinearAxis\",\"id\":\"p2740\",\"attributes\":{\"ticker\":{\"type\":\"object\",\"name\":\"BasicTicker\",\"id\":\"p2741\",\"attributes\":{\"mantissas\":[1,2,5]}},\"formatter\":{\"type\":\"object\",\"name\":\"BasicTickFormatter\",\"id\":\"p2742\"},\"axis_label\":\"Glucose\",\"major_label_policy\":{\"type\":\"object\",\"name\":\"AllLabels\",\"id\":\"p2743\"}}}],\"above\":[{\"type\":\"object\",\"name\":\"DatetimeAxis\",\"id\":\"p2723\",\"attributes\":{\"ticker\":{\"type\":\"object\",\"name\":\"DatetimeTicker\",\"id\":\"p2724\",\"attributes\":{\"num_minor_ticks\":5,\"tickers\":[{\"type\":\"object\",\"name\":\"AdaptiveTicker\",\"id\":\"p2725\",\"attributes\":{\"num_minor_ticks\":0,\"mantissas\":[1,2,5],\"max_interval\":500.0}},{\"type\":\"object\",\"name\":\"AdaptiveTicker\",\"id\":\"p2726\",\"attributes\":{\"num_minor_ticks\":0,\"base\":60,\"mantissas\":[1,2,5,10,15,20,30],\"min_interval\":1000.0,\"max_interval\":1800000.0}},{\"type\":\"object\",\"name\":\"AdaptiveTicker\",\"id\":\"p2727\",\"attributes\":{\"num_minor_ticks\":0,\"base\":24,\"mantissas\":[1,2,4,6,8,12],\"min_interval\":3600000.0,\"max_interval\":43200000.0}},{\"type\":\"object\",\"name\":\"DaysTicker\",\"id\":\"p2728\",\"attributes\":{\"days\":[1,2,3,4,5,6,7,8,9,10,11,12,13,14,15,16,17,18,19,20,21,22,23,24,25,26,27,28,29,30,31]}},{\"type\":\"object\",\"name\":\"DaysTicker\",\"id\":\"p2729\",\"attributes\":{\"days\":[1,4,7,10,13,16,19,22,25,28]}},{\"type\":\"object\",\"name\":\"DaysTicker\",\"id\":\"p2730\",\"attributes\":{\"days\":[1,8,15,22]}},{\"type\":\"object\",\"name\":\"DaysTicker\",\"id\":\"p2731\",\"attributes\":{\"days\":[1,15]}},{\"type\":\"object\",\"name\":\"MonthsTicker\",\"id\":\"p2732\",\"attributes\":{\"months\":[0,1,2,3,4,5,6,7,8,9,10,11]}},{\"type\":\"object\",\"name\":\"MonthsTicker\",\"id\":\"p2733\",\"attributes\":{\"months\":[0,2,4,6,8,10]}},{\"type\":\"object\",\"name\":\"MonthsTicker\",\"id\":\"p2734\",\"attributes\":{\"months\":[0,4,8]}},{\"type\":\"object\",\"name\":\"MonthsTicker\",\"id\":\"p2735\",\"attributes\":{\"months\":[0,6]}},{\"type\":\"object\",\"name\":\"YearsTicker\",\"id\":\"p2736\"}]}},\"formatter\":{\"type\":\"object\",\"name\":\"DatetimeTickFormatter\",\"id\":\"p2737\"},\"axis_label\":\"Time\",\"major_label_policy\":{\"type\":\"object\",\"name\":\"AllLabels\",\"id\":\"p2738\"}}}],\"center\":[{\"type\":\"object\",\"name\":\"Grid\",\"id\":\"p2739\",\"attributes\":{\"axis\":{\"id\":\"p2723\"}}},{\"type\":\"object\",\"name\":\"Grid\",\"id\":\"p2744\",\"attributes\":{\"dimension\":1,\"axis\":{\"id\":\"p2740\"}}},{\"type\":\"object\",\"name\":\"Span\",\"id\":\"p2757\",\"attributes\":{\"location\":97.3298969072165,\"line_color\":\"red\"}},{\"type\":\"object\",\"name\":\"Span\",\"id\":\"p2767\",\"attributes\":{\"location\":1719231540000.0,\"dimension\":\"height\",\"line_color\":\"lightgreen\",\"line_width\":2}},{\"type\":\"object\",\"name\":\"BoxAnnotation\",\"id\":\"p2768\",\"attributes\":{\"left\":1719231540000.0,\"right\":1719235140000.0,\"top\":{\"type\":\"object\",\"name\":\"Node\",\"id\":\"p2771\",\"attributes\":{\"target\":\"frame\",\"symbol\":\"top\"}},\"bottom\":{\"type\":\"object\",\"name\":\"Node\",\"id\":\"p2772\",\"attributes\":{\"target\":\"frame\",\"symbol\":\"bottom\"}},\"fill_color\":\"lightgreen\",\"fill_alpha\":0.3}},{\"type\":\"object\",\"name\":\"Label\",\"id\":\"p2773\",\"attributes\":{\"text\":\"969.40\",\"text_color\":\"black\",\"text_font_size\":\"10pt\",\"background_fill_color\":\"white\",\"background_fill_alpha\":0.7,\"x\":1719231540000.0,\"y\":110,\"angle\":90,\"angle_units\":\"deg\"}},{\"type\":\"object\",\"name\":\"Span\",\"id\":\"p2774\",\"attributes\":{\"location\":1719253500000.0,\"dimension\":\"height\",\"line_color\":\"lightgreen\",\"line_width\":2}},{\"type\":\"object\",\"name\":\"BoxAnnotation\",\"id\":\"p2775\",\"attributes\":{\"left\":1719253500000.0,\"right\":1719257100000.0,\"top\":{\"type\":\"object\",\"name\":\"Node\",\"id\":\"p2778\",\"attributes\":{\"target\":\"frame\",\"symbol\":\"top\"}},\"bottom\":{\"type\":\"object\",\"name\":\"Node\",\"id\":\"p2779\",\"attributes\":{\"target\":\"frame\",\"symbol\":\"bottom\"}},\"fill_color\":\"lightgreen\",\"fill_alpha\":0.3}},{\"type\":\"object\",\"name\":\"Label\",\"id\":\"p2780\",\"attributes\":{\"text\":\"325.00\",\"text_color\":\"black\",\"text_font_size\":\"10pt\",\"background_fill_color\":\"white\",\"background_fill_alpha\":0.7,\"x\":1719253500000.0,\"y\":110,\"angle\":90,\"angle_units\":\"deg\"}}]}}]}};\n",
              "  const render_items = [{\"docid\":\"96fe665a-1991-4da0-9a23-81b995c2778a\",\"roots\":{\"p2712\":\"b4f0a098-cb54-4353-9bb1-cc1488d15f7a\"},\"root_ids\":[\"p2712\"]}];\n",
              "  void root.Bokeh.embed.embed_items_notebook(docs_json, render_items);\n",
              "  }\n",
              "  if (root.Bokeh !== undefined) {\n",
              "    embed_document(root);\n",
              "  } else {\n",
              "    let attempts = 0;\n",
              "    const timer = setInterval(function(root) {\n",
              "      if (root.Bokeh !== undefined) {\n",
              "        clearInterval(timer);\n",
              "        embed_document(root);\n",
              "      } else {\n",
              "        attempts++;\n",
              "        if (attempts > 100) {\n",
              "          clearInterval(timer);\n",
              "          console.log(\"Bokeh: ERROR: Unable to run BokehJS code because BokehJS library is missing\");\n",
              "        }\n",
              "      }\n",
              "    }, 10, root)\n",
              "  }\n",
              "})(window);"
            ],
            "application/vnd.bokehjs_exec.v0+json": ""
          },
          "metadata": {
            "application/vnd.bokehjs_exec.v0+json": {
              "id": "p2712"
            }
          }
        },
        {
          "output_type": "stream",
          "name": "stdout",
          "text": [
            "\n",
            "\n",
            "\n"
          ]
        },
        {
          "output_type": "display_data",
          "data": {
            "text/html": [
              "\n",
              "  <div id=\"afb9bc70-1c9e-4933-a902-3277bad983c7\" data-root-id=\"p2785\" style=\"display: contents;\"></div>\n"
            ]
          },
          "metadata": {}
        },
        {
          "output_type": "display_data",
          "data": {
            "application/javascript": [
              "(function(root) {\n",
              "  function embed_document(root) {\n",
              "  const docs_json = {\"714b44ae-da2d-4c28-976b-7652760d6999\":{\"version\":\"3.4.3\",\"title\":\"Bokeh Application\",\"roots\":[{\"type\":\"object\",\"name\":\"Figure\",\"id\":\"p2785\",\"attributes\":{\"height\":400,\"x_range\":{\"type\":\"object\",\"name\":\"DataRange1d\",\"id\":\"p2786\"},\"y_range\":{\"type\":\"object\",\"name\":\"DataRange1d\",\"id\":\"p2787\"},\"x_scale\":{\"type\":\"object\",\"name\":\"LinearScale\",\"id\":\"p2794\"},\"y_scale\":{\"type\":\"object\",\"name\":\"LinearScale\",\"id\":\"p2795\"},\"title\":{\"type\":\"object\",\"name\":\"Title\",\"id\":\"p2792\",\"attributes\":{\"text\":\"Day: 2024-06-25\",\"text_font_size\":\"20pt\",\"align\":\"center\"}},\"renderers\":[{\"type\":\"object\",\"name\":\"GlyphRenderer\",\"id\":\"p2827\",\"attributes\":{\"data_source\":{\"type\":\"object\",\"name\":\"ColumnDataSource\",\"id\":\"p2821\",\"attributes\":{\"selected\":{\"type\":\"object\",\"name\":\"Selection\",\"id\":\"p2822\",\"attributes\":{\"indices\":[],\"line_indices\":[]}},\"selection_policy\":{\"type\":\"object\",\"name\":\"UnionRenderers\",\"id\":\"p2823\"},\"data\":{\"type\":\"map\",\"entries\":[[\"x\",{\"type\":\"ndarray\",\"array\":{\"type\":\"bytes\",\"data\":\"AIBsk8sEeUIAAM+HzAR5QgAAiWPNBHlCAABDP84EeUIAAP0azwR5QgAAt/bPBHlCAABx0tAEeUIAACuu0QR5QgAA5YnSBHlCAACfZdMEeUIAAFlB1AR5QgAAEx3VBHlCAADN+NUEeUIAAIfU1gR5QgAAQbDXBHlCAAD7i9gEeUIAALVn2QR5QgAAb0PaBHlCAAApH9sEeUIAAOP62wR5QgAAndbcBHlCAABXst0EeUIAABGO3gR5QgAAy2nfBHlCAACFReAEeUIAAD8h4QR5QgCAY0niBHlCAIAdJeMEeUIAgNcA5AR5QgCAkdzkBHlCAIBLuOUEeUIAAEkT6gR5QgAAA+/qBHlCAAC9yusEeUIAAHem7AR5QgAAMYLtBHlCAADrXe4EeUIAAKU57wR5QgAAXxXwBHlCAAAZ8fAEeUIAANPM8QR5QgAAjajyBHlCAABHhPMEeUIAAAFg9AR5QgAAuzv1BHlCAAB1F/YEeUIAAC/z9gR5QgAA6c73BHlCAACjqvgEeUIAAF2G+QR5QgAAF2L6BHlCAADRPfsEeUIAAIsZ/AR5QgAARfX8BHlCAAD/0P0EeUIAALms/gR5QgAAc4j/BHlCAAAtZAAFeUIAAOc/AQV5QgAAoRsCBXlCAABb9wIFeUIAABXTAwV5QgAAz64EBXlCAIDfhgUFeUIAgJliBgV5QgCAUz4HBXlCAIANGggFeUIAgMf1CAV5QgCAgdEJBXlCAIA7rQoFeUIAgPWICwV5QgCAr2QMBXlCAIBpQA0FeUIAgCMcDgV5QgCA3fcOBXlCAICX0w8FeUIAgFGvEAV5QgCAC4sRBXlCAIDFZhIFeUIAgH9CEwV5QgCAOR4UBXlCAICApBQFeUIAgDqAFQV5QgCA9FsWBXlCAICuNxcFeUIAgCW2FwV5QgCAj8gYBXlCAIBJpBkFeUIAgAXTGgV5QgCAtBgcBXlCAIBu9BwFeUI=\"},\"shape\":[91],\"dtype\":\"float64\",\"order\":\"little\"}],[\"y\",{\"type\":\"ndarray\",\"array\":{\"type\":\"bytes\",\"data\":\"AAAAAABAV0AAAAAAAMBWQAAAAAAAgFZAAAAAAABAVkAAAAAAAIBWQAAAAAAAQFZAAAAAAACAVkAAAAAAAMBXQAAAAAAAgFVAAAAAAADAVUAAAAAAAABWQAAAAAAAwFVAAAAAAABAV0AAAAAAAEBXQAAAAAAAgFdAAAAAAACAV0AAAAAAAIBUQAAAAAAAwFFAAAAAAACAUUAAAAAAAMBSQAAAAAAAQFZAAAAAAAAAWEAAAAAAAABYQAAAAAAAgFdAAAAAAADAVUAAAAAAAABXQAAAAAAAAFpAAAAAAAAAWEAAAAAAAEBYQAAAAAAAgFdAAAAAAADAWUAAAAAAAEBYQAAAAAAAAFhAAAAAAADAV0AAAAAAAIBXQAAAAAAAgFdAAAAAAADAV0AAAAAAAMBXQAAAAAAAAFhAAAAAAACAV0AAAAAAAEBXQAAAAAAAAFhAAAAAAABAVkAAAAAAAEBWQAAAAAAAwFVAAAAAAABAVkAAAAAAAIBWQAAAAAAAQFdAAAAAAABAWUAAAAAAAABZQAAAAAAAAFZAAAAAAADAVkAAAAAAAEBYQAAAAAAAQFhAAAAAAABAWEAAAAAAAABZQAAAAAAAQFlAAAAAAABAV0AAAAAAAEBWQAAAAAAAgFZAAAAAAADAVkAAAAAAAEBVQAAAAAAAgFVAAAAAAACAVkAAAAAAAIBXQAAAAAAAAFdAAAAAAABAVkAAAAAAAABWQAAAAAAAQFVAAAAAAABAVUAAAAAAAABXQAAAAAAAAFdAAAAAAACAV0AAAAAAAIBYQAAAAAAAgFhAAAAAAADAVkAAAAAAAEBWQAAAAAAAAFZAAAAAAACAVkAAAAAAAEBaQAAAAAAAgF5AAAAAAACAXUAAAAAAAMBbQAAAAAAAwFxAAAAAAABAX0AAAAAAAEBfQAAAAAAAQF1AAAAAAABAXUAAAAAAAMBaQAAAAAAAgFdAAAAAAADAWEA=\"},\"shape\":[91],\"dtype\":\"float64\",\"order\":\"little\"}]]}}},\"view\":{\"type\":\"object\",\"name\":\"CDSView\",\"id\":\"p2828\",\"attributes\":{\"filter\":{\"type\":\"object\",\"name\":\"AllIndices\",\"id\":\"p2829\"}}},\"glyph\":{\"type\":\"object\",\"name\":\"Line\",\"id\":\"p2824\",\"attributes\":{\"x\":{\"type\":\"field\",\"field\":\"x\"},\"y\":{\"type\":\"field\",\"field\":\"y\"},\"line_color\":\"gray\",\"line_alpha\":0.5,\"line_width\":2}},\"nonselection_glyph\":{\"type\":\"object\",\"name\":\"Line\",\"id\":\"p2825\",\"attributes\":{\"x\":{\"type\":\"field\",\"field\":\"x\"},\"y\":{\"type\":\"field\",\"field\":\"y\"},\"line_color\":\"gray\",\"line_alpha\":0.1,\"line_width\":2}},\"muted_glyph\":{\"type\":\"object\",\"name\":\"Line\",\"id\":\"p2826\",\"attributes\":{\"x\":{\"type\":\"field\",\"field\":\"x\"},\"y\":{\"type\":\"field\",\"field\":\"y\"},\"line_color\":\"gray\",\"line_alpha\":0.2,\"line_width\":2}}}},{\"type\":\"object\",\"name\":\"GlyphRenderer\",\"id\":\"p2837\",\"attributes\":{\"data_source\":{\"type\":\"object\",\"name\":\"ColumnDataSource\",\"id\":\"p2831\",\"attributes\":{\"selected\":{\"type\":\"object\",\"name\":\"Selection\",\"id\":\"p2832\",\"attributes\":{\"indices\":[],\"line_indices\":[]}},\"selection_policy\":{\"type\":\"object\",\"name\":\"UnionRenderers\",\"id\":\"p2833\"},\"data\":{\"type\":\"map\",\"entries\":[[\"x\",{\"type\":\"ndarray\",\"array\":{\"type\":\"bytes\",\"data\":\"AICuNxcFeUIAgGNJ4gR5QgAAc4j/BHlC\"},\"shape\":[3],\"dtype\":\"float64\",\"order\":\"little\"}],[\"y\",{\"type\":\"ndarray\",\"array\":{\"type\":\"bytes\",\"data\":\"AAAAAABAX0AAAAAAAABaQAAAAAAAQFlA\"},\"shape\":[3],\"dtype\":\"float64\",\"order\":\"little\"}]]}}},\"view\":{\"type\":\"object\",\"name\":\"CDSView\",\"id\":\"p2838\",\"attributes\":{\"filter\":{\"type\":\"object\",\"name\":\"AllIndices\",\"id\":\"p2839\"}}},\"glyph\":{\"type\":\"object\",\"name\":\"Scatter\",\"id\":\"p2834\",\"attributes\":{\"x\":{\"type\":\"field\",\"field\":\"x\"},\"y\":{\"type\":\"field\",\"field\":\"y\"},\"size\":{\"type\":\"value\",\"value\":6},\"line_color\":{\"type\":\"value\",\"value\":\"darkblue\"},\"line_alpha\":{\"type\":\"value\",\"value\":0.7},\"fill_color\":{\"type\":\"value\",\"value\":\"darkblue\"},\"fill_alpha\":{\"type\":\"value\",\"value\":0.7},\"hatch_color\":{\"type\":\"value\",\"value\":\"darkblue\"},\"hatch_alpha\":{\"type\":\"value\",\"value\":0.7}}},\"nonselection_glyph\":{\"type\":\"object\",\"name\":\"Scatter\",\"id\":\"p2835\",\"attributes\":{\"x\":{\"type\":\"field\",\"field\":\"x\"},\"y\":{\"type\":\"field\",\"field\":\"y\"},\"size\":{\"type\":\"value\",\"value\":6},\"line_color\":{\"type\":\"value\",\"value\":\"darkblue\"},\"line_alpha\":{\"type\":\"value\",\"value\":0.1},\"fill_color\":{\"type\":\"value\",\"value\":\"darkblue\"},\"fill_alpha\":{\"type\":\"value\",\"value\":0.1},\"hatch_color\":{\"type\":\"value\",\"value\":\"darkblue\"},\"hatch_alpha\":{\"type\":\"value\",\"value\":0.1}}},\"muted_glyph\":{\"type\":\"object\",\"name\":\"Scatter\",\"id\":\"p2836\",\"attributes\":{\"x\":{\"type\":\"field\",\"field\":\"x\"},\"y\":{\"type\":\"field\",\"field\":\"y\"},\"size\":{\"type\":\"value\",\"value\":6},\"line_color\":{\"type\":\"value\",\"value\":\"darkblue\"},\"line_alpha\":{\"type\":\"value\",\"value\":0.2},\"fill_color\":{\"type\":\"value\",\"value\":\"darkblue\"},\"fill_alpha\":{\"type\":\"value\",\"value\":0.2},\"hatch_color\":{\"type\":\"value\",\"value\":\"darkblue\"},\"hatch_alpha\":{\"type\":\"value\",\"value\":0.2}}}}}],\"toolbar\":{\"type\":\"object\",\"name\":\"Toolbar\",\"id\":\"p2793\",\"attributes\":{\"tools\":[{\"type\":\"object\",\"name\":\"PanTool\",\"id\":\"p2818\"},{\"type\":\"object\",\"name\":\"WheelZoomTool\",\"id\":\"p2819\",\"attributes\":{\"dimensions\":\"width\",\"renderers\":\"auto\"}},{\"type\":\"object\",\"name\":\"WheelZoomTool\",\"id\":\"p2820\",\"attributes\":{\"dimensions\":\"height\",\"renderers\":\"auto\"}}],\"active_scroll\":{\"id\":\"p2819\"}}},\"left\":[{\"type\":\"object\",\"name\":\"LinearAxis\",\"id\":\"p2813\",\"attributes\":{\"ticker\":{\"type\":\"object\",\"name\":\"BasicTicker\",\"id\":\"p2814\",\"attributes\":{\"mantissas\":[1,2,5]}},\"formatter\":{\"type\":\"object\",\"name\":\"BasicTickFormatter\",\"id\":\"p2815\"},\"axis_label\":\"Glucose\",\"major_label_policy\":{\"type\":\"object\",\"name\":\"AllLabels\",\"id\":\"p2816\"}}}],\"above\":[{\"type\":\"object\",\"name\":\"DatetimeAxis\",\"id\":\"p2796\",\"attributes\":{\"ticker\":{\"type\":\"object\",\"name\":\"DatetimeTicker\",\"id\":\"p2797\",\"attributes\":{\"num_minor_ticks\":5,\"tickers\":[{\"type\":\"object\",\"name\":\"AdaptiveTicker\",\"id\":\"p2798\",\"attributes\":{\"num_minor_ticks\":0,\"mantissas\":[1,2,5],\"max_interval\":500.0}},{\"type\":\"object\",\"name\":\"AdaptiveTicker\",\"id\":\"p2799\",\"attributes\":{\"num_minor_ticks\":0,\"base\":60,\"mantissas\":[1,2,5,10,15,20,30],\"min_interval\":1000.0,\"max_interval\":1800000.0}},{\"type\":\"object\",\"name\":\"AdaptiveTicker\",\"id\":\"p2800\",\"attributes\":{\"num_minor_ticks\":0,\"base\":24,\"mantissas\":[1,2,4,6,8,12],\"min_interval\":3600000.0,\"max_interval\":43200000.0}},{\"type\":\"object\",\"name\":\"DaysTicker\",\"id\":\"p2801\",\"attributes\":{\"days\":[1,2,3,4,5,6,7,8,9,10,11,12,13,14,15,16,17,18,19,20,21,22,23,24,25,26,27,28,29,30,31]}},{\"type\":\"object\",\"name\":\"DaysTicker\",\"id\":\"p2802\",\"attributes\":{\"days\":[1,4,7,10,13,16,19,22,25,28]}},{\"type\":\"object\",\"name\":\"DaysTicker\",\"id\":\"p2803\",\"attributes\":{\"days\":[1,8,15,22]}},{\"type\":\"object\",\"name\":\"DaysTicker\",\"id\":\"p2804\",\"attributes\":{\"days\":[1,15]}},{\"type\":\"object\",\"name\":\"MonthsTicker\",\"id\":\"p2805\",\"attributes\":{\"months\":[0,1,2,3,4,5,6,7,8,9,10,11]}},{\"type\":\"object\",\"name\":\"MonthsTicker\",\"id\":\"p2806\",\"attributes\":{\"months\":[0,2,4,6,8,10]}},{\"type\":\"object\",\"name\":\"MonthsTicker\",\"id\":\"p2807\",\"attributes\":{\"months\":[0,4,8]}},{\"type\":\"object\",\"name\":\"MonthsTicker\",\"id\":\"p2808\",\"attributes\":{\"months\":[0,6]}},{\"type\":\"object\",\"name\":\"YearsTicker\",\"id\":\"p2809\"}]}},\"formatter\":{\"type\":\"object\",\"name\":\"DatetimeTickFormatter\",\"id\":\"p2810\"},\"axis_label\":\"Time\",\"major_label_policy\":{\"type\":\"object\",\"name\":\"AllLabels\",\"id\":\"p2811\"}}}],\"center\":[{\"type\":\"object\",\"name\":\"Grid\",\"id\":\"p2812\",\"attributes\":{\"axis\":{\"id\":\"p2796\"}}},{\"type\":\"object\",\"name\":\"Grid\",\"id\":\"p2817\",\"attributes\":{\"dimension\":1,\"axis\":{\"id\":\"p2813\"}}},{\"type\":\"object\",\"name\":\"Span\",\"id\":\"p2830\",\"attributes\":{\"location\":94.42857142857143,\"line_color\":\"red\"}},{\"type\":\"object\",\"name\":\"Span\",\"id\":\"p2840\",\"attributes\":{\"location\":1719317100000.0,\"dimension\":\"height\",\"line_color\":\"lightgreen\",\"line_width\":2}},{\"type\":\"object\",\"name\":\"BoxAnnotation\",\"id\":\"p2841\",\"attributes\":{\"left\":1719317100000.0,\"right\":1719320700000.0,\"top\":{\"type\":\"object\",\"name\":\"Node\",\"id\":\"p2844\",\"attributes\":{\"target\":\"frame\",\"symbol\":\"top\"}},\"bottom\":{\"type\":\"object\",\"name\":\"Node\",\"id\":\"p2845\",\"attributes\":{\"target\":\"frame\",\"symbol\":\"bottom\"}},\"fill_color\":\"lightgreen\",\"fill_alpha\":0.3}},{\"type\":\"object\",\"name\":\"Label\",\"id\":\"p2846\",\"attributes\":{\"text\":\"409.00\",\"text_color\":\"black\",\"text_font_size\":\"10pt\",\"background_fill_color\":\"white\",\"background_fill_alpha\":0.7,\"x\":1719317100000.0,\"y\":110,\"angle\":90,\"angle_units\":\"deg\"}},{\"type\":\"object\",\"name\":\"Span\",\"id\":\"p2847\",\"attributes\":{\"location\":1719332400000.0,\"dimension\":\"height\",\"line_color\":\"lightgreen\",\"line_width\":2}},{\"type\":\"object\",\"name\":\"BoxAnnotation\",\"id\":\"p2848\",\"attributes\":{\"left\":1719332400000.0,\"right\":1719336000000.0,\"top\":{\"type\":\"object\",\"name\":\"Node\",\"id\":\"p2851\",\"attributes\":{\"target\":\"frame\",\"symbol\":\"top\"}},\"bottom\":{\"type\":\"object\",\"name\":\"Node\",\"id\":\"p2852\",\"attributes\":{\"target\":\"frame\",\"symbol\":\"bottom\"}},\"fill_color\":\"lightgreen\",\"fill_alpha\":0.3}},{\"type\":\"object\",\"name\":\"Label\",\"id\":\"p2853\",\"attributes\":{\"text\":\"220.00\",\"text_color\":\"black\",\"text_font_size\":\"10pt\",\"background_fill_color\":\"white\",\"background_fill_alpha\":0.7,\"x\":1719332400000.0,\"y\":110,\"angle\":90,\"angle_units\":\"deg\"}},{\"type\":\"object\",\"name\":\"Span\",\"id\":\"p2854\",\"attributes\":{\"location\":1719346560000.0,\"dimension\":\"height\",\"line_color\":\"lightgreen\",\"line_width\":2}},{\"type\":\"object\",\"name\":\"BoxAnnotation\",\"id\":\"p2855\",\"attributes\":{\"left\":1719346560000.0,\"right\":1719350160000.0,\"top\":{\"type\":\"object\",\"name\":\"Node\",\"id\":\"p2858\",\"attributes\":{\"target\":\"frame\",\"symbol\":\"top\"}},\"bottom\":{\"type\":\"object\",\"name\":\"Node\",\"id\":\"p2859\",\"attributes\":{\"target\":\"frame\",\"symbol\":\"bottom\"}},\"fill_color\":\"lightgreen\",\"fill_alpha\":0.3}},{\"type\":\"object\",\"name\":\"Label\",\"id\":\"p2860\",\"attributes\":{\"text\":\"1055.38\",\"text_color\":\"black\",\"text_font_size\":\"10pt\",\"background_fill_color\":\"white\",\"background_fill_alpha\":0.7,\"x\":1719346560000.0,\"y\":110,\"angle\":90,\"angle_units\":\"deg\"}}]}}]}};\n",
              "  const render_items = [{\"docid\":\"714b44ae-da2d-4c28-976b-7652760d6999\",\"roots\":{\"p2785\":\"afb9bc70-1c9e-4933-a902-3277bad983c7\"},\"root_ids\":[\"p2785\"]}];\n",
              "  void root.Bokeh.embed.embed_items_notebook(docs_json, render_items);\n",
              "  }\n",
              "  if (root.Bokeh !== undefined) {\n",
              "    embed_document(root);\n",
              "  } else {\n",
              "    let attempts = 0;\n",
              "    const timer = setInterval(function(root) {\n",
              "      if (root.Bokeh !== undefined) {\n",
              "        clearInterval(timer);\n",
              "        embed_document(root);\n",
              "      } else {\n",
              "        attempts++;\n",
              "        if (attempts > 100) {\n",
              "          clearInterval(timer);\n",
              "          console.log(\"Bokeh: ERROR: Unable to run BokehJS code because BokehJS library is missing\");\n",
              "        }\n",
              "      }\n",
              "    }, 10, root)\n",
              "  }\n",
              "})(window);"
            ],
            "application/vnd.bokehjs_exec.v0+json": ""
          },
          "metadata": {
            "application/vnd.bokehjs_exec.v0+json": {
              "id": "p2785"
            }
          }
        },
        {
          "output_type": "stream",
          "name": "stdout",
          "text": [
            "\n",
            "\n",
            "\n"
          ]
        },
        {
          "output_type": "display_data",
          "data": {
            "text/html": [
              "\n",
              "  <div id=\"a8c61547-9aa4-4d6b-a69d-f745fa54701a\" data-root-id=\"p2865\" style=\"display: contents;\"></div>\n"
            ]
          },
          "metadata": {}
        },
        {
          "output_type": "display_data",
          "data": {
            "application/javascript": [
              "(function(root) {\n",
              "  function embed_document(root) {\n",
              "  const docs_json = {\"4b55ec47-9bcb-4340-b5ad-8efddf84de87\":{\"version\":\"3.4.3\",\"title\":\"Bokeh Application\",\"roots\":[{\"type\":\"object\",\"name\":\"Figure\",\"id\":\"p2865\",\"attributes\":{\"height\":400,\"x_range\":{\"type\":\"object\",\"name\":\"DataRange1d\",\"id\":\"p2866\"},\"y_range\":{\"type\":\"object\",\"name\":\"DataRange1d\",\"id\":\"p2867\"},\"x_scale\":{\"type\":\"object\",\"name\":\"LinearScale\",\"id\":\"p2874\"},\"y_scale\":{\"type\":\"object\",\"name\":\"LinearScale\",\"id\":\"p2875\"},\"title\":{\"type\":\"object\",\"name\":\"Title\",\"id\":\"p2872\",\"attributes\":{\"text\":\"Day: 2024-06-29\",\"text_font_size\":\"20pt\",\"align\":\"center\"}},\"renderers\":[{\"type\":\"object\",\"name\":\"GlyphRenderer\",\"id\":\"p2907\",\"attributes\":{\"data_source\":{\"type\":\"object\",\"name\":\"ColumnDataSource\",\"id\":\"p2901\",\"attributes\":{\"selected\":{\"type\":\"object\",\"name\":\"Selection\",\"id\":\"p2902\",\"attributes\":{\"indices\":[],\"line_indices\":[]}},\"selection_policy\":{\"type\":\"object\",\"name\":\"UnionRenderers\",\"id\":\"p2903\"},\"data\":{\"type\":\"map\",\"entries\":[[\"x\",{\"type\":\"ndarray\",\"array\":{\"type\":\"bytes\",\"data\":\"AIA2thQGeUIAgPCRFQZ5QgCAqm0WBnlCAIBkSRcGeUIAgB4lGAZ5QgCA2z4ZBnlCAICVGhoGeUIAgE/2GgZ5QgCACdIbBnlCAIDDrRwGeUIAgH2JHQZ5QgCAN2UeBnlCAIBzVR8GeUIAgC0xIAZ5QgCA5wwhBnlCAICh6CEGeUIAgFvEIgZ5QgCAFaAjBnlCAIDPeyQGeUIAgIlXJQZ5QgCAQzMmBnlCAID9DicGeUIAgLfqJwZ5QgCAccYoBnlCAIAroikGeUIAgOV9KgZ5QgCAn1krBnlCAIBZNSwGeUIAgBMRLQZ5QgCAzewtBnlCAIBroy4GeUIAgCV/LwZ5QgCA31owBnlCAICZNjEGeUIAgFMSMgZ5QgCADe4yBnlCAAAlsDMGeUIAAN+LNAZ5QgAAmWc1BnlCAABTQzYGeUIAAA0fNwZ5QgAAx/o3BnlCAACB1jgGeUIAADuyOQZ5QgAA9Y06BnlCAACvaTsGeUIAgAc2PAZ5QgCAwRE9BnlCAIB77T0GeUIAgDXJPgZ5QgCA76Q/BnlCAICpgEAGeUIAgGNcQQZ5QgAALDREBnlCAADmD0UGeUIAAKDrRQZ5QgAAWsdGBnlCAAAUo0cGeUIAAM5+SAZ5QgAAiFpJBnlCAABCNkoGeUIAAPwRSwZ5QgAAtu1LBnlCAABwyUwGeUIAACqlTQZ5QgAA5IBOBnlCAACeXE8GeUIAAFg4UAZ5QgAAEhRRBnlCAADM71EGeUIAAIbLUgZ5QgAAQKdTBnlCAAD6glQGeUIAALReVQZ5QgAAbjpWBnlCAAAoFlcGeUIAAOLxVwZ5QgAAnM1YBnlCAABWqVkGeUIAABCFWgZ5QgAAymBbBnlCAACEPFwGeUIAAD4YXQZ5QgAA+PNdBnlCAACyz14GeUIAAJllXwZ5QgAAU0FgBnlCAAANHWEGeUIAAMf4YQZ5QgAAgdRiBnlCAAA7sGMGeUIAAPWLZAZ5QgCA1tNlBnlCAICQr2YGeUI=\"},\"shape\":[94],\"dtype\":\"float64\",\"order\":\"little\"}],[\"y\",{\"type\":\"ndarray\",\"array\":{\"type\":\"bytes\",\"data\":\"AAAAAAAAYkAAAAAAAKBiQAAAAAAAYGFAAAAAAAAAYEAAAAAAAIBdQAAAAAAAwFhAAAAAAADAVkAAAAAAAIBVQAAAAAAAAFZAAAAAAADAW0AAAAAAAOBhQAAAAAAAoGJAAAAAAAAAXUAAAAAAAABZQAAAAAAAgFdAAAAAAADAVkAAAAAAAMBZQAAAAAAAQFpAAAAAAAAAWUAAAAAAAMBYQAAAAAAAgFlAAAAAAAAAWUAAAAAAAIBZQAAAAAAAQFlAAAAAAACAWUAAAAAAAABZQAAAAAAAgFpAAAAAAACAWkAAAAAAAEBaQAAAAAAAgFlAAAAAAACAWUAAAAAAAMBZQAAAAAAAQF1AAAAAAAAAXEAAAAAAAEBZQAAAAAAAgFpAAAAAAAAAWkAAAAAAAABaQAAAAAAAwFhAAAAAAAAAWUAAAAAAAIBYQAAAAAAAQFlAAAAAAAAAWUAAAAAAAEBdQAAAAAAAQFpAAAAAAABAWEAAAAAAAMBXQAAAAAAAAFhAAAAAAADAV0AAAAAAAMBXQAAAAAAAAFlAAAAAAAAAW0AAAAAAAABXQAAAAAAAgFNAAAAAAABAVEAAAAAAAMBUQAAAAAAAgFVAAAAAAADAVUAAAAAAAIBWQAAAAAAAQFdAAAAAAABAV0AAAAAAAEBXQAAAAAAAAFdAAAAAAACAVkAAAAAAAABXQAAAAAAAgFZAAAAAAABAVkAAAAAAAEBWQAAAAAAAQFZAAAAAAADAVkAAAAAAAABWQAAAAAAAQFVAAAAAAADAVEAAAAAAAMBUQAAAAAAAAFVAAAAAAACAVUAAAAAAAMBVQAAAAAAAQFVAAAAAAABAVUAAAAAAAEBWQAAAAAAAQFZAAAAAAADAVUAAAAAAAABWQAAAAAAAQFVAAAAAAACAVUAAAAAAAEBWQAAAAAAAAFhAAAAAAAAAV0AAAAAAAABYQAAAAAAAgFhAAAAAAADAXEAAAAAAAEBbQAAAAAAAQF9AAAAAAABAYEA=\"},\"shape\":[94],\"dtype\":\"float64\",\"order\":\"little\"}]]}}},\"view\":{\"type\":\"object\",\"name\":\"CDSView\",\"id\":\"p2908\",\"attributes\":{\"filter\":{\"type\":\"object\",\"name\":\"AllIndices\",\"id\":\"p2909\"}}},\"glyph\":{\"type\":\"object\",\"name\":\"Line\",\"id\":\"p2904\",\"attributes\":{\"x\":{\"type\":\"field\",\"field\":\"x\"},\"y\":{\"type\":\"field\",\"field\":\"y\"},\"line_color\":\"gray\",\"line_alpha\":0.5,\"line_width\":2}},\"nonselection_glyph\":{\"type\":\"object\",\"name\":\"Line\",\"id\":\"p2905\",\"attributes\":{\"x\":{\"type\":\"field\",\"field\":\"x\"},\"y\":{\"type\":\"field\",\"field\":\"y\"},\"line_color\":\"gray\",\"line_alpha\":0.1,\"line_width\":2}},\"muted_glyph\":{\"type\":\"object\",\"name\":\"Line\",\"id\":\"p2906\",\"attributes\":{\"x\":{\"type\":\"field\",\"field\":\"x\"},\"y\":{\"type\":\"field\",\"field\":\"y\"},\"line_color\":\"gray\",\"line_alpha\":0.2,\"line_width\":2}}}},{\"type\":\"object\",\"name\":\"GlyphRenderer\",\"id\":\"p2917\",\"attributes\":{\"data_source\":{\"type\":\"object\",\"name\":\"ColumnDataSource\",\"id\":\"p2911\",\"attributes\":{\"selected\":{\"type\":\"object\",\"name\":\"Selection\",\"id\":\"p2912\",\"attributes\":{\"indices\":[],\"line_indices\":[]}},\"selection_policy\":{\"type\":\"object\",\"name\":\"UnionRenderers\",\"id\":\"p2913\"},\"data\":{\"type\":\"map\",\"entries\":[[\"x\",{\"type\":\"ndarray\",\"array\":{\"type\":\"bytes\",\"data\":\"AIA3ZR4GeUIAADuyOQZ5Qg==\"},\"shape\":[2],\"dtype\":\"float64\",\"order\":\"little\"}],[\"y\",{\"type\":\"ndarray\",\"array\":{\"type\":\"bytes\",\"data\":\"AAAAAACgYkAAAAAAAEBdQA==\"},\"shape\":[2],\"dtype\":\"float64\",\"order\":\"little\"}]]}}},\"view\":{\"type\":\"object\",\"name\":\"CDSView\",\"id\":\"p2918\",\"attributes\":{\"filter\":{\"type\":\"object\",\"name\":\"AllIndices\",\"id\":\"p2919\"}}},\"glyph\":{\"type\":\"object\",\"name\":\"Scatter\",\"id\":\"p2914\",\"attributes\":{\"x\":{\"type\":\"field\",\"field\":\"x\"},\"y\":{\"type\":\"field\",\"field\":\"y\"},\"size\":{\"type\":\"value\",\"value\":6},\"line_color\":{\"type\":\"value\",\"value\":\"darkblue\"},\"line_alpha\":{\"type\":\"value\",\"value\":0.7},\"fill_color\":{\"type\":\"value\",\"value\":\"darkblue\"},\"fill_alpha\":{\"type\":\"value\",\"value\":0.7},\"hatch_color\":{\"type\":\"value\",\"value\":\"darkblue\"},\"hatch_alpha\":{\"type\":\"value\",\"value\":0.7}}},\"nonselection_glyph\":{\"type\":\"object\",\"name\":\"Scatter\",\"id\":\"p2915\",\"attributes\":{\"x\":{\"type\":\"field\",\"field\":\"x\"},\"y\":{\"type\":\"field\",\"field\":\"y\"},\"size\":{\"type\":\"value\",\"value\":6},\"line_color\":{\"type\":\"value\",\"value\":\"darkblue\"},\"line_alpha\":{\"type\":\"value\",\"value\":0.1},\"fill_color\":{\"type\":\"value\",\"value\":\"darkblue\"},\"fill_alpha\":{\"type\":\"value\",\"value\":0.1},\"hatch_color\":{\"type\":\"value\",\"value\":\"darkblue\"},\"hatch_alpha\":{\"type\":\"value\",\"value\":0.1}}},\"muted_glyph\":{\"type\":\"object\",\"name\":\"Scatter\",\"id\":\"p2916\",\"attributes\":{\"x\":{\"type\":\"field\",\"field\":\"x\"},\"y\":{\"type\":\"field\",\"field\":\"y\"},\"size\":{\"type\":\"value\",\"value\":6},\"line_color\":{\"type\":\"value\",\"value\":\"darkblue\"},\"line_alpha\":{\"type\":\"value\",\"value\":0.2},\"fill_color\":{\"type\":\"value\",\"value\":\"darkblue\"},\"fill_alpha\":{\"type\":\"value\",\"value\":0.2},\"hatch_color\":{\"type\":\"value\",\"value\":\"darkblue\"},\"hatch_alpha\":{\"type\":\"value\",\"value\":0.2}}}}}],\"toolbar\":{\"type\":\"object\",\"name\":\"Toolbar\",\"id\":\"p2873\",\"attributes\":{\"tools\":[{\"type\":\"object\",\"name\":\"PanTool\",\"id\":\"p2898\"},{\"type\":\"object\",\"name\":\"WheelZoomTool\",\"id\":\"p2899\",\"attributes\":{\"dimensions\":\"width\",\"renderers\":\"auto\"}},{\"type\":\"object\",\"name\":\"WheelZoomTool\",\"id\":\"p2900\",\"attributes\":{\"dimensions\":\"height\",\"renderers\":\"auto\"}}],\"active_scroll\":{\"id\":\"p2899\"}}},\"left\":[{\"type\":\"object\",\"name\":\"LinearAxis\",\"id\":\"p2893\",\"attributes\":{\"ticker\":{\"type\":\"object\",\"name\":\"BasicTicker\",\"id\":\"p2894\",\"attributes\":{\"mantissas\":[1,2,5]}},\"formatter\":{\"type\":\"object\",\"name\":\"BasicTickFormatter\",\"id\":\"p2895\"},\"axis_label\":\"Glucose\",\"major_label_policy\":{\"type\":\"object\",\"name\":\"AllLabels\",\"id\":\"p2896\"}}}],\"above\":[{\"type\":\"object\",\"name\":\"DatetimeAxis\",\"id\":\"p2876\",\"attributes\":{\"ticker\":{\"type\":\"object\",\"name\":\"DatetimeTicker\",\"id\":\"p2877\",\"attributes\":{\"num_minor_ticks\":5,\"tickers\":[{\"type\":\"object\",\"name\":\"AdaptiveTicker\",\"id\":\"p2878\",\"attributes\":{\"num_minor_ticks\":0,\"mantissas\":[1,2,5],\"max_interval\":500.0}},{\"type\":\"object\",\"name\":\"AdaptiveTicker\",\"id\":\"p2879\",\"attributes\":{\"num_minor_ticks\":0,\"base\":60,\"mantissas\":[1,2,5,10,15,20,30],\"min_interval\":1000.0,\"max_interval\":1800000.0}},{\"type\":\"object\",\"name\":\"AdaptiveTicker\",\"id\":\"p2880\",\"attributes\":{\"num_minor_ticks\":0,\"base\":24,\"mantissas\":[1,2,4,6,8,12],\"min_interval\":3600000.0,\"max_interval\":43200000.0}},{\"type\":\"object\",\"name\":\"DaysTicker\",\"id\":\"p2881\",\"attributes\":{\"days\":[1,2,3,4,5,6,7,8,9,10,11,12,13,14,15,16,17,18,19,20,21,22,23,24,25,26,27,28,29,30,31]}},{\"type\":\"object\",\"name\":\"DaysTicker\",\"id\":\"p2882\",\"attributes\":{\"days\":[1,4,7,10,13,16,19,22,25,28]}},{\"type\":\"object\",\"name\":\"DaysTicker\",\"id\":\"p2883\",\"attributes\":{\"days\":[1,8,15,22]}},{\"type\":\"object\",\"name\":\"DaysTicker\",\"id\":\"p2884\",\"attributes\":{\"days\":[1,15]}},{\"type\":\"object\",\"name\":\"MonthsTicker\",\"id\":\"p2885\",\"attributes\":{\"months\":[0,1,2,3,4,5,6,7,8,9,10,11]}},{\"type\":\"object\",\"name\":\"MonthsTicker\",\"id\":\"p2886\",\"attributes\":{\"months\":[0,2,4,6,8,10]}},{\"type\":\"object\",\"name\":\"MonthsTicker\",\"id\":\"p2887\",\"attributes\":{\"months\":[0,4,8]}},{\"type\":\"object\",\"name\":\"MonthsTicker\",\"id\":\"p2888\",\"attributes\":{\"months\":[0,6]}},{\"type\":\"object\",\"name\":\"YearsTicker\",\"id\":\"p2889\"}]}},\"formatter\":{\"type\":\"object\",\"name\":\"DatetimeTickFormatter\",\"id\":\"p2890\"},\"axis_label\":\"Time\",\"major_label_policy\":{\"type\":\"object\",\"name\":\"AllLabels\",\"id\":\"p2891\"}}}],\"center\":[{\"type\":\"object\",\"name\":\"Grid\",\"id\":\"p2892\",\"attributes\":{\"axis\":{\"id\":\"p2876\"}}},{\"type\":\"object\",\"name\":\"Grid\",\"id\":\"p2897\",\"attributes\":{\"dimension\":1,\"axis\":{\"id\":\"p2893\"}}},{\"type\":\"object\",\"name\":\"Span\",\"id\":\"p2910\",\"attributes\":{\"location\":99.70212765957447,\"line_color\":\"red\"}},{\"type\":\"object\",\"name\":\"Span\",\"id\":\"p2920\",\"attributes\":{\"location\":1719661866000.0,\"dimension\":\"height\",\"line_color\":\"lightgreen\",\"line_width\":2}},{\"type\":\"object\",\"name\":\"BoxAnnotation\",\"id\":\"p2921\",\"attributes\":{\"left\":1719661866000.0,\"right\":1719665466000.0,\"top\":{\"type\":\"object\",\"name\":\"Node\",\"id\":\"p2924\",\"attributes\":{\"target\":\"frame\",\"symbol\":\"top\"}},\"bottom\":{\"type\":\"object\",\"name\":\"Node\",\"id\":\"p2925\",\"attributes\":{\"target\":\"frame\",\"symbol\":\"bottom\"}},\"fill_color\":\"lightgreen\",\"fill_alpha\":0.3}},{\"type\":\"object\",\"name\":\"Label\",\"id\":\"p2926\",\"attributes\":{\"text\":\"531.00\",\"text_color\":\"black\",\"text_font_size\":\"10pt\",\"background_fill_color\":\"white\",\"background_fill_alpha\":0.7,\"x\":1719661866000.0,\"y\":110,\"angle\":90,\"angle_units\":\"deg\"}},{\"type\":\"object\",\"name\":\"Span\",\"id\":\"p2927\",\"attributes\":{\"location\":1719701880000.0,\"dimension\":\"height\",\"line_color\":\"lightgreen\",\"line_width\":2}},{\"type\":\"object\",\"name\":\"BoxAnnotation\",\"id\":\"p2928\",\"attributes\":{\"left\":1719701880000.0,\"right\":1719705480000.0,\"top\":{\"type\":\"object\",\"name\":\"Node\",\"id\":\"p2931\",\"attributes\":{\"target\":\"frame\",\"symbol\":\"top\"}},\"bottom\":{\"type\":\"object\",\"name\":\"Node\",\"id\":\"p2932\",\"attributes\":{\"target\":\"frame\",\"symbol\":\"bottom\"}},\"fill_color\":\"lightgreen\",\"fill_alpha\":0.3}},{\"type\":\"object\",\"name\":\"Label\",\"id\":\"p2933\",\"attributes\":{\"text\":\"518.00\",\"text_color\":\"black\",\"text_font_size\":\"10pt\",\"background_fill_color\":\"white\",\"background_fill_alpha\":0.7,\"x\":1719701880000.0,\"y\":110,\"angle\":90,\"angle_units\":\"deg\"}}]}}]}};\n",
              "  const render_items = [{\"docid\":\"4b55ec47-9bcb-4340-b5ad-8efddf84de87\",\"roots\":{\"p2865\":\"a8c61547-9aa4-4d6b-a69d-f745fa54701a\"},\"root_ids\":[\"p2865\"]}];\n",
              "  void root.Bokeh.embed.embed_items_notebook(docs_json, render_items);\n",
              "  }\n",
              "  if (root.Bokeh !== undefined) {\n",
              "    embed_document(root);\n",
              "  } else {\n",
              "    let attempts = 0;\n",
              "    const timer = setInterval(function(root) {\n",
              "      if (root.Bokeh !== undefined) {\n",
              "        clearInterval(timer);\n",
              "        embed_document(root);\n",
              "      } else {\n",
              "        attempts++;\n",
              "        if (attempts > 100) {\n",
              "          clearInterval(timer);\n",
              "          console.log(\"Bokeh: ERROR: Unable to run BokehJS code because BokehJS library is missing\");\n",
              "        }\n",
              "      }\n",
              "    }, 10, root)\n",
              "  }\n",
              "})(window);"
            ],
            "application/vnd.bokehjs_exec.v0+json": ""
          },
          "metadata": {
            "application/vnd.bokehjs_exec.v0+json": {
              "id": "p2865"
            }
          }
        },
        {
          "output_type": "stream",
          "name": "stdout",
          "text": [
            "\n",
            "\n",
            "\n"
          ]
        },
        {
          "output_type": "display_data",
          "data": {
            "text/html": [
              "\n",
              "  <div id=\"a0c0161d-84b0-4032-ab85-2537da07f1d3\" data-root-id=\"p2938\" style=\"display: contents;\"></div>\n"
            ]
          },
          "metadata": {}
        },
        {
          "output_type": "display_data",
          "data": {
            "application/javascript": [
              "(function(root) {\n",
              "  function embed_document(root) {\n",
              "  const docs_json = {\"02547893-c074-4825-87ff-350d2cd756cb\":{\"version\":\"3.4.3\",\"title\":\"Bokeh Application\",\"roots\":[{\"type\":\"object\",\"name\":\"Figure\",\"id\":\"p2938\",\"attributes\":{\"height\":400,\"x_range\":{\"type\":\"object\",\"name\":\"DataRange1d\",\"id\":\"p2939\"},\"y_range\":{\"type\":\"object\",\"name\":\"DataRange1d\",\"id\":\"p2940\"},\"x_scale\":{\"type\":\"object\",\"name\":\"LinearScale\",\"id\":\"p2947\"},\"y_scale\":{\"type\":\"object\",\"name\":\"LinearScale\",\"id\":\"p2948\"},\"title\":{\"type\":\"object\",\"name\":\"Title\",\"id\":\"p2945\",\"attributes\":{\"text\":\"Day: 2024-07-16\",\"text_font_size\":\"20pt\",\"align\":\"center\"}},\"renderers\":[{\"type\":\"object\",\"name\":\"GlyphRenderer\",\"id\":\"p2980\",\"attributes\":{\"data_source\":{\"type\":\"object\",\"name\":\"ColumnDataSource\",\"id\":\"p2974\",\"attributes\":{\"selected\":{\"type\":\"object\",\"name\":\"Selection\",\"id\":\"p2975\",\"attributes\":{\"indices\":[],\"line_indices\":[]}},\"selection_policy\":{\"type\":\"object\",\"name\":\"UnionRenderers\",\"id\":\"p2976\"},\"data\":{\"type\":\"map\",\"entries\":[[\"x\",{\"type\":\"ndarray\",\"array\":{\"type\":\"bytes\",\"data\":\"AID0oY0LeUIAgK59jgt5QgCAaFmPC3lCAIAiNZALeUIAgNwQkQt5QgCAluyRC3lCAADBlpILeUIAAHtykwt5QgAANU6UC3lCAADvKZULeUIAAKkFlgt5QgAAY+GWC3lCAAAdvZcLeUIAANeYmAt5QgAAkXSZC3lCAABLUJoLeUIAAAUsmwt5QgAAvwecC3lCAAB545wLeUIAADO/nQt5QgAA7ZqeC3lCAACndp8LeUIAAGFSoAt5QgAAGy6hC3lCAADVCaILeUIAAG+Xogt5QgAAKXOjC3lCAADjTqQLeUIAAJ0qpQt5QgAAVwamC3lCAAAR4qYLeUIAAMu9pwt5QgAAhZmoC3lCAAA/dakLeUIAAPlQqgt5QgAAsyyrC3lCAABtCKwLeUIAACfkrAt5QgAA4b+tC3lCAACbm64LeUIAAFV3rwt5QgAAD1OwC3lCAAB9jrELeUIAADdqsgt5QgAA8UWzC3lCAACrIbQLeUIAAGX9tAt5QgAAH9m1C3lCAADZtLYLeUIAAJOQtwt5QgAATWy4C3lCAAAHSLkLeUIAAMEjugt5QgAAe/+6C3lCAAA127sLeUIAAO+2vAt5QgAAqZK9C3lCAABjbr4LeUIAAB1Kvwt5QgAA1yXAC3lCAACRAcELeUIAAEvdwQt5QgAABbnCC3lCAAC/lMMLeUIAAHlwxAt5QgAAM0zFC3lCAADtJ8YLeUIAAKcDxwt5QgAAYd/HC3lCAAAbu8gLeUIAANWWyQt5QgAAj3LKC3lCAABJTssLeUIAgNj8ywt5QgCAktjMC3lCAIBMtM0LeUIAgAaQzgt5QgCAwGvPC3lCAIB6R9ALeUIAgDQj0Qt5QgCA7v7RC3lCAICo2tILeUIAgGK20wt5QgCAHJLUC3lCAACxVNULeUIAAGsw1gt5QgAAJQzXC3lCAADf59cLeUIAAJnD2At5QgAAU5/ZC3lCAAANe9oLeUIAgMW02wt5QgCAf5DcC3lCAIA5bN0LeUIAgPNH3gt5QgCArSPfC3lC\"},\"shape\":[96],\"dtype\":\"float64\",\"order\":\"little\"}],[\"y\",{\"type\":\"ndarray\",\"array\":{\"type\":\"bytes\",\"data\":\"AAAAAACAXEAAAAAAAIBeQAAAAAAAQFlAAAAAAABAWUAAAAAAAMBVQAAAAAAAQFVAAAAAAABAVUAAAAAAAEBQQAAAAAAAQFxAAAAAAADAW0AAAAAAAIBXQAAAAAAAgFVAAAAAAADAU0AAAAAAAMBWQAAAAAAAAFdAAAAAAADAWUAAAAAAAMBbQAAAAAAAwFpAAAAAAACAW0AAAAAAAABYQAAAAAAAQFdAAAAAAACAWEAAAAAAAIBYQAAAAAAAwFdAAAAAAACAWEAAAAAAAIBYQAAAAAAAQFtAAAAAAAAAWEAAAAAAAMBXQAAAAAAAwFpAAAAAAACgYEAAAAAAAIBeQAAAAAAAAF9AAAAAAACAX0AAAAAAAABgQAAAAAAAwFxAAAAAAABAW0AAAAAAAABbQAAAAAAAgFpAAAAAAACAWkAAAAAAAMBZQAAAAAAAgFtAAAAAAACAWUAAAAAAAEBZQAAAAAAAQFlAAAAAAAAAWUAAAAAAAMBYQAAAAAAAwFhAAAAAAACAWEAAAAAAAIBYQAAAAAAAgFhAAAAAAAAAWEAAAAAAAABcQAAAAAAAIGFAAAAAAABgYUAAAAAAAKBgQAAAAAAAAF5AAAAAAADAWUAAAAAAAIBZQAAAAAAAwFhAAAAAAACAWEAAAAAAAEBWQAAAAAAAgFhAAAAAAABAWUAAAAAAAIBYQAAAAAAAAFhAAAAAAACAV0AAAAAAAABXQAAAAAAAQFhAAAAAAACAWEAAAAAAAABYQAAAAAAAgFhAAAAAAACAV0AAAAAAAEBaQAAAAAAAQFlAAAAAAACAWEAAAAAAAEBXQAAAAAAAgFVAAAAAAABAWkAAAAAAAEBaQAAAAAAAwFlAAAAAAADAXEAAAAAAAABaQAAAAAAAgFpAAAAAAACAW0AAAAAAAMBeQAAAAAAAQF9AAAAAAABAYEAAAAAAAGBgQAAAAAAAwF9AAAAAAADAX0AAAAAAACBhQAAAAAAAQGFAAAAAAAAAWkAAAAAAAMBeQAAAAAAAgGBA\"},\"shape\":[96],\"dtype\":\"float64\",\"order\":\"little\"}]]}}},\"view\":{\"type\":\"object\",\"name\":\"CDSView\",\"id\":\"p2981\",\"attributes\":{\"filter\":{\"type\":\"object\",\"name\":\"AllIndices\",\"id\":\"p2982\"}}},\"glyph\":{\"type\":\"object\",\"name\":\"Line\",\"id\":\"p2977\",\"attributes\":{\"x\":{\"type\":\"field\",\"field\":\"x\"},\"y\":{\"type\":\"field\",\"field\":\"y\"},\"line_color\":\"gray\",\"line_alpha\":0.5,\"line_width\":2}},\"nonselection_glyph\":{\"type\":\"object\",\"name\":\"Line\",\"id\":\"p2978\",\"attributes\":{\"x\":{\"type\":\"field\",\"field\":\"x\"},\"y\":{\"type\":\"field\",\"field\":\"y\"},\"line_color\":\"gray\",\"line_alpha\":0.1,\"line_width\":2}},\"muted_glyph\":{\"type\":\"object\",\"name\":\"Line\",\"id\":\"p2979\",\"attributes\":{\"x\":{\"type\":\"field\",\"field\":\"x\"},\"y\":{\"type\":\"field\",\"field\":\"y\"},\"line_color\":\"gray\",\"line_alpha\":0.2,\"line_width\":2}}}},{\"type\":\"object\",\"name\":\"GlyphRenderer\",\"id\":\"p2990\",\"attributes\":{\"data_source\":{\"type\":\"object\",\"name\":\"ColumnDataSource\",\"id\":\"p2984\",\"attributes\":{\"selected\":{\"type\":\"object\",\"name\":\"Selection\",\"id\":\"p2985\",\"attributes\":{\"indices\":[],\"line_indices\":[]}},\"selection_policy\":{\"type\":\"object\",\"name\":\"UnionRenderers\",\"id\":\"p2986\"},\"data\":{\"type\":\"map\",\"entries\":[[\"x\",{\"type\":\"ndarray\",\"array\":{\"type\":\"bytes\",\"data\":\"AAA127sLeUIAABHipgt5QgCAf5DcC3lCAAAFLJsLeUI=\"},\"shape\":[4],\"dtype\":\"float64\",\"order\":\"little\"}],[\"y\",{\"type\":\"ndarray\",\"array\":{\"type\":\"bytes\",\"data\":\"AAAAAABgYUAAAAAAAKBgQAAAAAAAQGFAAAAAAADAW0A=\"},\"shape\":[4],\"dtype\":\"float64\",\"order\":\"little\"}]]}}},\"view\":{\"type\":\"object\",\"name\":\"CDSView\",\"id\":\"p2991\",\"attributes\":{\"filter\":{\"type\":\"object\",\"name\":\"AllIndices\",\"id\":\"p2992\"}}},\"glyph\":{\"type\":\"object\",\"name\":\"Scatter\",\"id\":\"p2987\",\"attributes\":{\"x\":{\"type\":\"field\",\"field\":\"x\"},\"y\":{\"type\":\"field\",\"field\":\"y\"},\"size\":{\"type\":\"value\",\"value\":6},\"line_color\":{\"type\":\"value\",\"value\":\"darkblue\"},\"line_alpha\":{\"type\":\"value\",\"value\":0.7},\"fill_color\":{\"type\":\"value\",\"value\":\"darkblue\"},\"fill_alpha\":{\"type\":\"value\",\"value\":0.7},\"hatch_color\":{\"type\":\"value\",\"value\":\"darkblue\"},\"hatch_alpha\":{\"type\":\"value\",\"value\":0.7}}},\"nonselection_glyph\":{\"type\":\"object\",\"name\":\"Scatter\",\"id\":\"p2988\",\"attributes\":{\"x\":{\"type\":\"field\",\"field\":\"x\"},\"y\":{\"type\":\"field\",\"field\":\"y\"},\"size\":{\"type\":\"value\",\"value\":6},\"line_color\":{\"type\":\"value\",\"value\":\"darkblue\"},\"line_alpha\":{\"type\":\"value\",\"value\":0.1},\"fill_color\":{\"type\":\"value\",\"value\":\"darkblue\"},\"fill_alpha\":{\"type\":\"value\",\"value\":0.1},\"hatch_color\":{\"type\":\"value\",\"value\":\"darkblue\"},\"hatch_alpha\":{\"type\":\"value\",\"value\":0.1}}},\"muted_glyph\":{\"type\":\"object\",\"name\":\"Scatter\",\"id\":\"p2989\",\"attributes\":{\"x\":{\"type\":\"field\",\"field\":\"x\"},\"y\":{\"type\":\"field\",\"field\":\"y\"},\"size\":{\"type\":\"value\",\"value\":6},\"line_color\":{\"type\":\"value\",\"value\":\"darkblue\"},\"line_alpha\":{\"type\":\"value\",\"value\":0.2},\"fill_color\":{\"type\":\"value\",\"value\":\"darkblue\"},\"fill_alpha\":{\"type\":\"value\",\"value\":0.2},\"hatch_color\":{\"type\":\"value\",\"value\":\"darkblue\"},\"hatch_alpha\":{\"type\":\"value\",\"value\":0.2}}}}}],\"toolbar\":{\"type\":\"object\",\"name\":\"Toolbar\",\"id\":\"p2946\",\"attributes\":{\"tools\":[{\"type\":\"object\",\"name\":\"PanTool\",\"id\":\"p2971\"},{\"type\":\"object\",\"name\":\"WheelZoomTool\",\"id\":\"p2972\",\"attributes\":{\"dimensions\":\"width\",\"renderers\":\"auto\"}},{\"type\":\"object\",\"name\":\"WheelZoomTool\",\"id\":\"p2973\",\"attributes\":{\"dimensions\":\"height\",\"renderers\":\"auto\"}}],\"active_scroll\":{\"id\":\"p2972\"}}},\"left\":[{\"type\":\"object\",\"name\":\"LinearAxis\",\"id\":\"p2966\",\"attributes\":{\"ticker\":{\"type\":\"object\",\"name\":\"BasicTicker\",\"id\":\"p2967\",\"attributes\":{\"mantissas\":[1,2,5]}},\"formatter\":{\"type\":\"object\",\"name\":\"BasicTickFormatter\",\"id\":\"p2968\"},\"axis_label\":\"Glucose\",\"major_label_policy\":{\"type\":\"object\",\"name\":\"AllLabels\",\"id\":\"p2969\"}}}],\"above\":[{\"type\":\"object\",\"name\":\"DatetimeAxis\",\"id\":\"p2949\",\"attributes\":{\"ticker\":{\"type\":\"object\",\"name\":\"DatetimeTicker\",\"id\":\"p2950\",\"attributes\":{\"num_minor_ticks\":5,\"tickers\":[{\"type\":\"object\",\"name\":\"AdaptiveTicker\",\"id\":\"p2951\",\"attributes\":{\"num_minor_ticks\":0,\"mantissas\":[1,2,5],\"max_interval\":500.0}},{\"type\":\"object\",\"name\":\"AdaptiveTicker\",\"id\":\"p2952\",\"attributes\":{\"num_minor_ticks\":0,\"base\":60,\"mantissas\":[1,2,5,10,15,20,30],\"min_interval\":1000.0,\"max_interval\":1800000.0}},{\"type\":\"object\",\"name\":\"AdaptiveTicker\",\"id\":\"p2953\",\"attributes\":{\"num_minor_ticks\":0,\"base\":24,\"mantissas\":[1,2,4,6,8,12],\"min_interval\":3600000.0,\"max_interval\":43200000.0}},{\"type\":\"object\",\"name\":\"DaysTicker\",\"id\":\"p2954\",\"attributes\":{\"days\":[1,2,3,4,5,6,7,8,9,10,11,12,13,14,15,16,17,18,19,20,21,22,23,24,25,26,27,28,29,30,31]}},{\"type\":\"object\",\"name\":\"DaysTicker\",\"id\":\"p2955\",\"attributes\":{\"days\":[1,4,7,10,13,16,19,22,25,28]}},{\"type\":\"object\",\"name\":\"DaysTicker\",\"id\":\"p2956\",\"attributes\":{\"days\":[1,8,15,22]}},{\"type\":\"object\",\"name\":\"DaysTicker\",\"id\":\"p2957\",\"attributes\":{\"days\":[1,15]}},{\"type\":\"object\",\"name\":\"MonthsTicker\",\"id\":\"p2958\",\"attributes\":{\"months\":[0,1,2,3,4,5,6,7,8,9,10,11]}},{\"type\":\"object\",\"name\":\"MonthsTicker\",\"id\":\"p2959\",\"attributes\":{\"months\":[0,2,4,6,8,10]}},{\"type\":\"object\",\"name\":\"MonthsTicker\",\"id\":\"p2960\",\"attributes\":{\"months\":[0,4,8]}},{\"type\":\"object\",\"name\":\"MonthsTicker\",\"id\":\"p2961\",\"attributes\":{\"months\":[0,6]}},{\"type\":\"object\",\"name\":\"YearsTicker\",\"id\":\"p2962\"}]}},\"formatter\":{\"type\":\"object\",\"name\":\"DatetimeTickFormatter\",\"id\":\"p2963\"},\"axis_label\":\"Time\",\"major_label_policy\":{\"type\":\"object\",\"name\":\"AllLabels\",\"id\":\"p2964\"}}}],\"center\":[{\"type\":\"object\",\"name\":\"Grid\",\"id\":\"p2965\",\"attributes\":{\"axis\":{\"id\":\"p2949\"}}},{\"type\":\"object\",\"name\":\"Grid\",\"id\":\"p2970\",\"attributes\":{\"dimension\":1,\"axis\":{\"id\":\"p2966\"}}},{\"type\":\"object\",\"name\":\"Span\",\"id\":\"p2983\",\"attributes\":{\"location\":105.66666666666667,\"line_color\":\"red\"}},{\"type\":\"object\",\"name\":\"Span\",\"id\":\"p2993\",\"attributes\":{\"location\":1721114100000.0,\"dimension\":\"height\",\"line_color\":\"lightgreen\",\"line_width\":2}},{\"type\":\"object\",\"name\":\"BoxAnnotation\",\"id\":\"p2994\",\"attributes\":{\"left\":1721114100000.0,\"right\":1721117700000.0,\"top\":{\"type\":\"object\",\"name\":\"Node\",\"id\":\"p2997\",\"attributes\":{\"target\":\"frame\",\"symbol\":\"top\"}},\"bottom\":{\"type\":\"object\",\"name\":\"Node\",\"id\":\"p2998\",\"attributes\":{\"target\":\"frame\",\"symbol\":\"bottom\"}},\"fill_color\":\"lightgreen\",\"fill_alpha\":0.3}},{\"type\":\"object\",\"name\":\"Label\",\"id\":\"p2999\",\"attributes\":{\"text\":\"299.00\",\"text_color\":\"black\",\"text_font_size\":\"10pt\",\"background_fill_color\":\"white\",\"background_fill_alpha\":0.7,\"x\":1721114100000.0,\"y\":110,\"angle\":90,\"angle_units\":\"deg\"}},{\"type\":\"object\",\"name\":\"Span\",\"id\":\"p3000\",\"attributes\":{\"location\":1721132100000.0,\"dimension\":\"height\",\"line_color\":\"lightgreen\",\"line_width\":2}},{\"type\":\"object\",\"name\":\"BoxAnnotation\",\"id\":\"p3001\",\"attributes\":{\"left\":1721132100000.0,\"right\":1721135700000.0,\"top\":{\"type\":\"object\",\"name\":\"Node\",\"id\":\"p3004\",\"attributes\":{\"target\":\"frame\",\"symbol\":\"top\"}},\"bottom\":{\"type\":\"object\",\"name\":\"Node\",\"id\":\"p3005\",\"attributes\":{\"target\":\"frame\",\"symbol\":\"bottom\"}},\"fill_color\":\"lightgreen\",\"fill_alpha\":0.3}},{\"type\":\"object\",\"name\":\"Label\",\"id\":\"p3006\",\"attributes\":{\"text\":\"661.62\",\"text_color\":\"black\",\"text_font_size\":\"10pt\",\"background_fill_color\":\"white\",\"background_fill_alpha\":0.7,\"x\":1721132100000.0,\"y\":110,\"angle\":90,\"angle_units\":\"deg\"}},{\"type\":\"object\",\"name\":\"Span\",\"id\":\"p3007\",\"attributes\":{\"location\":1721151000000.0,\"dimension\":\"height\",\"line_color\":\"lightgreen\",\"line_width\":2}},{\"type\":\"object\",\"name\":\"BoxAnnotation\",\"id\":\"p3008\",\"attributes\":{\"left\":1721151000000.0,\"right\":1721154600000.0,\"top\":{\"type\":\"object\",\"name\":\"Node\",\"id\":\"p3011\",\"attributes\":{\"target\":\"frame\",\"symbol\":\"top\"}},\"bottom\":{\"type\":\"object\",\"name\":\"Node\",\"id\":\"p3012\",\"attributes\":{\"target\":\"frame\",\"symbol\":\"bottom\"}},\"fill_color\":\"lightgreen\",\"fill_alpha\":0.3}},{\"type\":\"object\",\"name\":\"Label\",\"id\":\"p3013\",\"attributes\":{\"text\":\"211.00\",\"text_color\":\"black\",\"text_font_size\":\"10pt\",\"background_fill_color\":\"white\",\"background_fill_alpha\":0.7,\"x\":1721151000000.0,\"y\":110,\"angle\":90,\"angle_units\":\"deg\"}},{\"type\":\"object\",\"name\":\"Span\",\"id\":\"p3014\",\"attributes\":{\"location\":1721159100000.0,\"dimension\":\"height\",\"line_color\":\"lightgreen\",\"line_width\":2}},{\"type\":\"object\",\"name\":\"BoxAnnotation\",\"id\":\"p3015\",\"attributes\":{\"left\":1721159100000.0,\"right\":1721162700000.0,\"top\":{\"type\":\"object\",\"name\":\"Node\",\"id\":\"p3018\",\"attributes\":{\"target\":\"frame\",\"symbol\":\"top\"}},\"bottom\":{\"type\":\"object\",\"name\":\"Node\",\"id\":\"p3019\",\"attributes\":{\"target\":\"frame\",\"symbol\":\"bottom\"}},\"fill_color\":\"lightgreen\",\"fill_alpha\":0.3}},{\"type\":\"object\",\"name\":\"Label\",\"id\":\"p3020\",\"attributes\":{\"text\":\"802.00\",\"text_color\":\"black\",\"text_font_size\":\"10pt\",\"background_fill_color\":\"white\",\"background_fill_alpha\":0.7,\"x\":1721159100000.0,\"y\":110,\"angle\":90,\"angle_units\":\"deg\"}}]}}]}};\n",
              "  const render_items = [{\"docid\":\"02547893-c074-4825-87ff-350d2cd756cb\",\"roots\":{\"p2938\":\"a0c0161d-84b0-4032-ab85-2537da07f1d3\"},\"root_ids\":[\"p2938\"]}];\n",
              "  void root.Bokeh.embed.embed_items_notebook(docs_json, render_items);\n",
              "  }\n",
              "  if (root.Bokeh !== undefined) {\n",
              "    embed_document(root);\n",
              "  } else {\n",
              "    let attempts = 0;\n",
              "    const timer = setInterval(function(root) {\n",
              "      if (root.Bokeh !== undefined) {\n",
              "        clearInterval(timer);\n",
              "        embed_document(root);\n",
              "      } else {\n",
              "        attempts++;\n",
              "        if (attempts > 100) {\n",
              "          clearInterval(timer);\n",
              "          console.log(\"Bokeh: ERROR: Unable to run BokehJS code because BokehJS library is missing\");\n",
              "        }\n",
              "      }\n",
              "    }, 10, root)\n",
              "  }\n",
              "})(window);"
            ],
            "application/vnd.bokehjs_exec.v0+json": ""
          },
          "metadata": {
            "application/vnd.bokehjs_exec.v0+json": {
              "id": "p2938"
            }
          }
        },
        {
          "output_type": "stream",
          "name": "stdout",
          "text": [
            "\n",
            "\n",
            "\n"
          ]
        },
        {
          "output_type": "display_data",
          "data": {
            "text/html": [
              "\n",
              "  <div id=\"fe644aec-f63b-414d-b520-21e9a533e7b7\" data-root-id=\"p3025\" style=\"display: contents;\"></div>\n"
            ]
          },
          "metadata": {}
        },
        {
          "output_type": "display_data",
          "data": {
            "application/javascript": [
              "(function(root) {\n",
              "  function embed_document(root) {\n",
              "  const docs_json = {\"cf424dee-db0f-46a2-954e-3b469535b873\":{\"version\":\"3.4.3\",\"title\":\"Bokeh Application\",\"roots\":[{\"type\":\"object\",\"name\":\"Figure\",\"id\":\"p3025\",\"attributes\":{\"height\":400,\"x_range\":{\"type\":\"object\",\"name\":\"DataRange1d\",\"id\":\"p3026\"},\"y_range\":{\"type\":\"object\",\"name\":\"DataRange1d\",\"id\":\"p3027\"},\"x_scale\":{\"type\":\"object\",\"name\":\"LinearScale\",\"id\":\"p3034\"},\"y_scale\":{\"type\":\"object\",\"name\":\"LinearScale\",\"id\":\"p3035\"},\"title\":{\"type\":\"object\",\"name\":\"Title\",\"id\":\"p3032\",\"attributes\":{\"text\":\"Day: 2024-07-17\",\"text_font_size\":\"20pt\",\"align\":\"center\"}},\"renderers\":[{\"type\":\"object\",\"name\":\"GlyphRenderer\",\"id\":\"p3067\",\"attributes\":{\"data_source\":{\"type\":\"object\",\"name\":\"ColumnDataSource\",\"id\":\"p3061\",\"attributes\":{\"selected\":{\"type\":\"object\",\"name\":\"Selection\",\"id\":\"p3062\",\"attributes\":{\"indices\":[],\"line_indices\":[]}},\"selection_policy\":{\"type\":\"object\",\"name\":\"UnionRenderers\",\"id\":\"p3063\"},\"data\":{\"type\":\"map\",\"entries\":[[\"x\",{\"type\":\"ndarray\",\"array\":{\"type\":\"bytes\",\"data\":\"AIBn/98LeUIAgCHb4At5QgCA27bhC3lCAICVkuILeUIAgE9u4wt5QgCACUrkC3lCAIDDJeULeUIAgH0B5gt5QgCAN93mC3lCAIDxuOcLeUIAgKuU6At5QgCAZXDpC3lCAIAfTOoLeUIAgNkn6wt5QgCAkwPsC3lCAIBN3+wLeUIAgAe77Qt5QgCAwZbuC3lCAIB7cu8LeUIAgDVO8At5QgCA7ynxC3lCAICpBfILeUIAgGPh8gt5QgCAHb3zC3lCAIDXmPQLeUIAgJF09Qt5QgAA6yv2C3lCAAClB/cLeUIAAF/j9wt5QgAAGb/4C3lCAADTmvkLeUIAAI12+gt5QgAAR1L7C3lCAAABLvwLeUIAALsJ/Qt5QgCA+Jv9C3lCAICyd/4LeUIAgGxT/wt5QgCAJi8ADHlCAIDgCgEMeUIAgJrmAQx5QgCAVMICDHlCAAC09QMMeUIAAG7RBAx5QgAAKK0FDHlCAADiiAYMeUIAAJxkBwx5QgAAVkAIDHlCAAAQHAkMeUIAAMr3CQx5QgAAhNMKDHlCAAA+rwsMeUIAAPiKDAx5QgAAsmYNDHlCAABsQg4MeUIAACYeDwx5QgAA4PkPDHlCAACa1RAMeUIAAFSxEQx5QgAADo0SDHlCAADIaBMMeUIAAIJEFAx5QgAAPCAVDHlCAAD2+xUMeUIAALDXFgx5QgAAarMXDHlCAAAkjxgMeUIAAN5qGQx5QgAAmEYaDHlCAABSIhsMeUIAgM5lHAx5QgCAiEEdDHlCAIBCHR4MeUIAgPz4Hgx5QgCAttQfDHlCAIBwsCAMeUIAgCqMIQx5QgAAFn8iDHlCAADQWiMMeUIAAIo2JAx5QgAARBIlDHlCAAD+7SUMeUIAALjJJgx5QgAAcqUnDHlCAAAsgSgMeUIAAB/rLwx5QgAA2cYwDHlCAACTojEMeUI=\"},\"shape\":[88],\"dtype\":\"float64\",\"order\":\"little\"}],[\"y\",{\"type\":\"ndarray\",\"array\":{\"type\":\"bytes\",\"data\":\"AAAAAAAAX0AAAAAAAEBbQAAAAAAAgFpAAAAAAACAWEAAAAAAAMBYQAAAAAAAAFlAAAAAAAAAXUAAAAAAAIBaQAAAAAAAQFxAAAAAAADAXEAAAAAAAMBcQAAAAAAAgFxAAAAAAAAAW0AAAAAAAABaQAAAAAAAwFhAAAAAAADAWkAAAAAAAEBeQAAAAAAAgF5AAAAAAAAAXUAAAAAAAEBaQAAAAAAAgFhAAAAAAAAAW0AAAAAAAIBaQAAAAAAAQFpAAAAAAAAAW0AAAAAAAEBbQAAAAAAAwFtAAAAAAACAWEAAAAAAAIBeQAAAAAAAgGFAAAAAAACAXkAAAAAAAMBfQAAAAAAAQF1AAAAAAABAYUAAAAAAAMBfQAAAAAAAYGBAAAAAAAAAXkAAAAAAAMBaQAAAAAAAQFlAAAAAAADAWUAAAAAAAIBZQAAAAAAAQFpAAAAAAABAW0AAAAAAAEBbQAAAAAAAwFpAAAAAAADAWUAAAAAAAMBZQAAAAAAAwFlAAAAAAABAWUAAAAAAAABaQAAAAAAAAFlAAAAAAAAAWkAAAAAAAMBdQAAAAAAAYGBAAAAAAADAW0AAAAAAAMBZQAAAAAAAwFlAAAAAAAAAWkAAAAAAAEBaQAAAAAAAAFtAAAAAAADAWkAAAAAAAIBZQAAAAAAAgFhAAAAAAAAAWEAAAAAAAEBXQAAAAAAAAFdAAAAAAACAVkAAAAAAAABXQAAAAAAAgFdAAAAAAACAV0AAAAAAAMBWQAAAAAAAgFlAAAAAAAAAXEAAAAAAAIBdQAAAAAAAwFtAAAAAAABAV0AAAAAAAABWQAAAAAAAAFhAAAAAAAAAWUAAAAAAAABaQAAAAAAAgFxAAAAAAACAXUAAAAAAAMBaQAAAAAAAgFpAAAAAAAAAWEAAAAAAAABdQAAAAAAAAFtAAAAAAACAWkA=\"},\"shape\":[88],\"dtype\":\"float64\",\"order\":\"little\"}]]}}},\"view\":{\"type\":\"object\",\"name\":\"CDSView\",\"id\":\"p3068\",\"attributes\":{\"filter\":{\"type\":\"object\",\"name\":\"AllIndices\",\"id\":\"p3069\"}}},\"glyph\":{\"type\":\"object\",\"name\":\"Line\",\"id\":\"p3064\",\"attributes\":{\"x\":{\"type\":\"field\",\"field\":\"x\"},\"y\":{\"type\":\"field\",\"field\":\"y\"},\"line_color\":\"gray\",\"line_alpha\":0.5,\"line_width\":2}},\"nonselection_glyph\":{\"type\":\"object\",\"name\":\"Line\",\"id\":\"p3065\",\"attributes\":{\"x\":{\"type\":\"field\",\"field\":\"x\"},\"y\":{\"type\":\"field\",\"field\":\"y\"},\"line_color\":\"gray\",\"line_alpha\":0.1,\"line_width\":2}},\"muted_glyph\":{\"type\":\"object\",\"name\":\"Line\",\"id\":\"p3066\",\"attributes\":{\"x\":{\"type\":\"field\",\"field\":\"x\"},\"y\":{\"type\":\"field\",\"field\":\"y\"},\"line_color\":\"gray\",\"line_alpha\":0.2,\"line_width\":2}}}},{\"type\":\"object\",\"name\":\"GlyphRenderer\",\"id\":\"p3077\",\"attributes\":{\"data_source\":{\"type\":\"object\",\"name\":\"ColumnDataSource\",\"id\":\"p3071\",\"attributes\":{\"selected\":{\"type\":\"object\",\"name\":\"Selection\",\"id\":\"p3072\",\"attributes\":{\"indices\":[],\"line_indices\":[]}},\"selection_policy\":{\"type\":\"object\",\"name\":\"UnionRenderers\",\"id\":\"p3073\"},\"data\":{\"type\":\"map\",\"entries\":[[\"x\",{\"type\":\"ndarray\",\"array\":{\"type\":\"bytes\",\"data\":\"AAAZv/gLeUIAALJmDQx5QgCAwZbuC3lCAAD+7SUMeUI=\"},\"shape\":[4],\"dtype\":\"float64\",\"order\":\"little\"}],[\"y\",{\"type\":\"ndarray\",\"array\":{\"type\":\"bytes\",\"data\":\"AAAAAACAYUAAAAAAAGBgQAAAAAAAgF5AAAAAAACAXUA=\"},\"shape\":[4],\"dtype\":\"float64\",\"order\":\"little\"}]]}}},\"view\":{\"type\":\"object\",\"name\":\"CDSView\",\"id\":\"p3078\",\"attributes\":{\"filter\":{\"type\":\"object\",\"name\":\"AllIndices\",\"id\":\"p3079\"}}},\"glyph\":{\"type\":\"object\",\"name\":\"Scatter\",\"id\":\"p3074\",\"attributes\":{\"x\":{\"type\":\"field\",\"field\":\"x\"},\"y\":{\"type\":\"field\",\"field\":\"y\"},\"size\":{\"type\":\"value\",\"value\":6},\"line_color\":{\"type\":\"value\",\"value\":\"darkblue\"},\"line_alpha\":{\"type\":\"value\",\"value\":0.7},\"fill_color\":{\"type\":\"value\",\"value\":\"darkblue\"},\"fill_alpha\":{\"type\":\"value\",\"value\":0.7},\"hatch_color\":{\"type\":\"value\",\"value\":\"darkblue\"},\"hatch_alpha\":{\"type\":\"value\",\"value\":0.7}}},\"nonselection_glyph\":{\"type\":\"object\",\"name\":\"Scatter\",\"id\":\"p3075\",\"attributes\":{\"x\":{\"type\":\"field\",\"field\":\"x\"},\"y\":{\"type\":\"field\",\"field\":\"y\"},\"size\":{\"type\":\"value\",\"value\":6},\"line_color\":{\"type\":\"value\",\"value\":\"darkblue\"},\"line_alpha\":{\"type\":\"value\",\"value\":0.1},\"fill_color\":{\"type\":\"value\",\"value\":\"darkblue\"},\"fill_alpha\":{\"type\":\"value\",\"value\":0.1},\"hatch_color\":{\"type\":\"value\",\"value\":\"darkblue\"},\"hatch_alpha\":{\"type\":\"value\",\"value\":0.1}}},\"muted_glyph\":{\"type\":\"object\",\"name\":\"Scatter\",\"id\":\"p3076\",\"attributes\":{\"x\":{\"type\":\"field\",\"field\":\"x\"},\"y\":{\"type\":\"field\",\"field\":\"y\"},\"size\":{\"type\":\"value\",\"value\":6},\"line_color\":{\"type\":\"value\",\"value\":\"darkblue\"},\"line_alpha\":{\"type\":\"value\",\"value\":0.2},\"fill_color\":{\"type\":\"value\",\"value\":\"darkblue\"},\"fill_alpha\":{\"type\":\"value\",\"value\":0.2},\"hatch_color\":{\"type\":\"value\",\"value\":\"darkblue\"},\"hatch_alpha\":{\"type\":\"value\",\"value\":0.2}}}}}],\"toolbar\":{\"type\":\"object\",\"name\":\"Toolbar\",\"id\":\"p3033\",\"attributes\":{\"tools\":[{\"type\":\"object\",\"name\":\"PanTool\",\"id\":\"p3058\"},{\"type\":\"object\",\"name\":\"WheelZoomTool\",\"id\":\"p3059\",\"attributes\":{\"dimensions\":\"width\",\"renderers\":\"auto\"}},{\"type\":\"object\",\"name\":\"WheelZoomTool\",\"id\":\"p3060\",\"attributes\":{\"dimensions\":\"height\",\"renderers\":\"auto\"}}],\"active_scroll\":{\"id\":\"p3059\"}}},\"left\":[{\"type\":\"object\",\"name\":\"LinearAxis\",\"id\":\"p3053\",\"attributes\":{\"ticker\":{\"type\":\"object\",\"name\":\"BasicTicker\",\"id\":\"p3054\",\"attributes\":{\"mantissas\":[1,2,5]}},\"formatter\":{\"type\":\"object\",\"name\":\"BasicTickFormatter\",\"id\":\"p3055\"},\"axis_label\":\"Glucose\",\"major_label_policy\":{\"type\":\"object\",\"name\":\"AllLabels\",\"id\":\"p3056\"}}}],\"above\":[{\"type\":\"object\",\"name\":\"DatetimeAxis\",\"id\":\"p3036\",\"attributes\":{\"ticker\":{\"type\":\"object\",\"name\":\"DatetimeTicker\",\"id\":\"p3037\",\"attributes\":{\"num_minor_ticks\":5,\"tickers\":[{\"type\":\"object\",\"name\":\"AdaptiveTicker\",\"id\":\"p3038\",\"attributes\":{\"num_minor_ticks\":0,\"mantissas\":[1,2,5],\"max_interval\":500.0}},{\"type\":\"object\",\"name\":\"AdaptiveTicker\",\"id\":\"p3039\",\"attributes\":{\"num_minor_ticks\":0,\"base\":60,\"mantissas\":[1,2,5,10,15,20,30],\"min_interval\":1000.0,\"max_interval\":1800000.0}},{\"type\":\"object\",\"name\":\"AdaptiveTicker\",\"id\":\"p3040\",\"attributes\":{\"num_minor_ticks\":0,\"base\":24,\"mantissas\":[1,2,4,6,8,12],\"min_interval\":3600000.0,\"max_interval\":43200000.0}},{\"type\":\"object\",\"name\":\"DaysTicker\",\"id\":\"p3041\",\"attributes\":{\"days\":[1,2,3,4,5,6,7,8,9,10,11,12,13,14,15,16,17,18,19,20,21,22,23,24,25,26,27,28,29,30,31]}},{\"type\":\"object\",\"name\":\"DaysTicker\",\"id\":\"p3042\",\"attributes\":{\"days\":[1,4,7,10,13,16,19,22,25,28]}},{\"type\":\"object\",\"name\":\"DaysTicker\",\"id\":\"p3043\",\"attributes\":{\"days\":[1,8,15,22]}},{\"type\":\"object\",\"name\":\"DaysTicker\",\"id\":\"p3044\",\"attributes\":{\"days\":[1,15]}},{\"type\":\"object\",\"name\":\"MonthsTicker\",\"id\":\"p3045\",\"attributes\":{\"months\":[0,1,2,3,4,5,6,7,8,9,10,11]}},{\"type\":\"object\",\"name\":\"MonthsTicker\",\"id\":\"p3046\",\"attributes\":{\"months\":[0,2,4,6,8,10]}},{\"type\":\"object\",\"name\":\"MonthsTicker\",\"id\":\"p3047\",\"attributes\":{\"months\":[0,4,8]}},{\"type\":\"object\",\"name\":\"MonthsTicker\",\"id\":\"p3048\",\"attributes\":{\"months\":[0,6]}},{\"type\":\"object\",\"name\":\"YearsTicker\",\"id\":\"p3049\"}]}},\"formatter\":{\"type\":\"object\",\"name\":\"DatetimeTickFormatter\",\"id\":\"p3050\"},\"axis_label\":\"Time\",\"major_label_policy\":{\"type\":\"object\",\"name\":\"AllLabels\",\"id\":\"p3051\"}}}],\"center\":[{\"type\":\"object\",\"name\":\"Grid\",\"id\":\"p3052\",\"attributes\":{\"axis\":{\"id\":\"p3036\"}}},{\"type\":\"object\",\"name\":\"Grid\",\"id\":\"p3057\",\"attributes\":{\"dimension\":1,\"axis\":{\"id\":\"p3053\"}}},{\"type\":\"object\",\"name\":\"Span\",\"id\":\"p3070\",\"attributes\":{\"location\":107.64772727272727,\"line_color\":\"red\"}},{\"type\":\"object\",\"name\":\"Span\",\"id\":\"p3080\",\"attributes\":{\"location\":1721203800000.0,\"dimension\":\"height\",\"line_color\":\"lightgreen\",\"line_width\":2}},{\"type\":\"object\",\"name\":\"BoxAnnotation\",\"id\":\"p3081\",\"attributes\":{\"left\":1721203800000.0,\"right\":1721207400000.0,\"top\":{\"type\":\"object\",\"name\":\"Node\",\"id\":\"p3084\",\"attributes\":{\"target\":\"frame\",\"symbol\":\"top\"}},\"bottom\":{\"type\":\"object\",\"name\":\"Node\",\"id\":\"p3085\",\"attributes\":{\"target\":\"frame\",\"symbol\":\"bottom\"}},\"fill_color\":\"lightgreen\",\"fill_alpha\":0.3}},{\"type\":\"object\",\"name\":\"Label\",\"id\":\"p3086\",\"attributes\":{\"text\":\"299.00\",\"text_color\":\"black\",\"text_font_size\":\"10pt\",\"background_fill_color\":\"white\",\"background_fill_alpha\":0.7,\"x\":1721203800000.0,\"y\":110,\"angle\":90,\"angle_units\":\"deg\"}},{\"type\":\"object\",\"name\":\"Span\",\"id\":\"p3087\",\"attributes\":{\"location\":1721218080000.0,\"dimension\":\"height\",\"line_color\":\"lightgreen\",\"line_width\":2}},{\"type\":\"object\",\"name\":\"BoxAnnotation\",\"id\":\"p3088\",\"attributes\":{\"left\":1721218080000.0,\"right\":1721221680000.0,\"top\":{\"type\":\"object\",\"name\":\"Node\",\"id\":\"p3091\",\"attributes\":{\"target\":\"frame\",\"symbol\":\"top\"}},\"bottom\":{\"type\":\"object\",\"name\":\"Node\",\"id\":\"p3092\",\"attributes\":{\"target\":\"frame\",\"symbol\":\"bottom\"}},\"fill_color\":\"lightgreen\",\"fill_alpha\":0.3}},{\"type\":\"object\",\"name\":\"Label\",\"id\":\"p3093\",\"attributes\":{\"text\":\"661.62\",\"text_color\":\"black\",\"text_font_size\":\"10pt\",\"background_fill_color\":\"white\",\"background_fill_alpha\":0.7,\"x\":1721218080000.0,\"y\":110,\"angle\":90,\"angle_units\":\"deg\"}},{\"type\":\"object\",\"name\":\"Span\",\"id\":\"p3094\",\"attributes\":{\"location\":1721248020000.0,\"dimension\":\"height\",\"line_color\":\"lightgreen\",\"line_width\":2}},{\"type\":\"object\",\"name\":\"BoxAnnotation\",\"id\":\"p3095\",\"attributes\":{\"left\":1721248020000.0,\"right\":1721251620000.0,\"top\":{\"type\":\"object\",\"name\":\"Node\",\"id\":\"p3098\",\"attributes\":{\"target\":\"frame\",\"symbol\":\"top\"}},\"bottom\":{\"type\":\"object\",\"name\":\"Node\",\"id\":\"p3099\",\"attributes\":{\"target\":\"frame\",\"symbol\":\"bottom\"}},\"fill_color\":\"lightgreen\",\"fill_alpha\":0.3}},{\"type\":\"object\",\"name\":\"Label\",\"id\":\"p3100\",\"attributes\":{\"text\":\"846.32\",\"text_color\":\"black\",\"text_font_size\":\"10pt\",\"background_fill_color\":\"white\",\"background_fill_alpha\":0.7,\"x\":1721248020000.0,\"y\":110,\"angle\":90,\"angle_units\":\"deg\"}}]}}]}};\n",
              "  const render_items = [{\"docid\":\"cf424dee-db0f-46a2-954e-3b469535b873\",\"roots\":{\"p3025\":\"fe644aec-f63b-414d-b520-21e9a533e7b7\"},\"root_ids\":[\"p3025\"]}];\n",
              "  void root.Bokeh.embed.embed_items_notebook(docs_json, render_items);\n",
              "  }\n",
              "  if (root.Bokeh !== undefined) {\n",
              "    embed_document(root);\n",
              "  } else {\n",
              "    let attempts = 0;\n",
              "    const timer = setInterval(function(root) {\n",
              "      if (root.Bokeh !== undefined) {\n",
              "        clearInterval(timer);\n",
              "        embed_document(root);\n",
              "      } else {\n",
              "        attempts++;\n",
              "        if (attempts > 100) {\n",
              "          clearInterval(timer);\n",
              "          console.log(\"Bokeh: ERROR: Unable to run BokehJS code because BokehJS library is missing\");\n",
              "        }\n",
              "      }\n",
              "    }, 10, root)\n",
              "  }\n",
              "})(window);"
            ],
            "application/vnd.bokehjs_exec.v0+json": ""
          },
          "metadata": {
            "application/vnd.bokehjs_exec.v0+json": {
              "id": "p3025"
            }
          }
        },
        {
          "output_type": "stream",
          "name": "stdout",
          "text": [
            "\n",
            "\n",
            "\n"
          ]
        },
        {
          "output_type": "display_data",
          "data": {
            "text/html": [
              "\n",
              "  <div id=\"f64f3fa3-d9d4-4746-9a6d-0d744bf99bc1\" data-root-id=\"p3105\" style=\"display: contents;\"></div>\n"
            ]
          },
          "metadata": {}
        },
        {
          "output_type": "display_data",
          "data": {
            "application/javascript": [
              "(function(root) {\n",
              "  function embed_document(root) {\n",
              "  const docs_json = {\"7839e78b-11ad-4925-b67c-1910974020de\":{\"version\":\"3.4.3\",\"title\":\"Bokeh Application\",\"roots\":[{\"type\":\"object\",\"name\":\"Figure\",\"id\":\"p3105\",\"attributes\":{\"height\":400,\"x_range\":{\"type\":\"object\",\"name\":\"DataRange1d\",\"id\":\"p3106\"},\"y_range\":{\"type\":\"object\",\"name\":\"DataRange1d\",\"id\":\"p3107\"},\"x_scale\":{\"type\":\"object\",\"name\":\"LinearScale\",\"id\":\"p3114\"},\"y_scale\":{\"type\":\"object\",\"name\":\"LinearScale\",\"id\":\"p3115\"},\"title\":{\"type\":\"object\",\"name\":\"Title\",\"id\":\"p3112\",\"attributes\":{\"text\":\"Day: 2024-07-18\",\"text_font_size\":\"20pt\",\"align\":\"center\"}},\"renderers\":[{\"type\":\"object\",\"name\":\"GlyphRenderer\",\"id\":\"p3147\",\"attributes\":{\"data_source\":{\"type\":\"object\",\"name\":\"ColumnDataSource\",\"id\":\"p3141\",\"attributes\":{\"selected\":{\"type\":\"object\",\"name\":\"Selection\",\"id\":\"p3142\",\"attributes\":{\"indices\":[],\"line_indices\":[]}},\"selection_policy\":{\"type\":\"object\",\"name\":\"UnionRenderers\",\"id\":\"p3143\"},\"data\":{\"type\":\"map\",\"entries\":[[\"x\",{\"type\":\"ndarray\",\"array\":{\"type\":\"bytes\",\"data\":\"AABNfjIMeUIAAAdaMwx5QgAAwTU0DHlCAAB7ETUMeUIAADXtNQx5QgAA78g2DHlCAACppDcMeUIAAGOAOAx5QgAAHVw5DHlCAADXNzoMeUIAAJETOwx5QgAAS+87DHlCAAAFyzwMeUIAAL+mPQx5QgAAeYI+DHlCAAAzXj8MeUIAAO05QAx5QgAApxVBDHlCAABh8UEMeUIAABvNQgx5QgAA1ahDDHlCAACPhEQMeUIAAElgRQx5QgAAAzxGDHlCAAC9F0cMeUIAAHfzRwx5QgAAMc9IDHlCAADrqkkMeUIAAKWGSgx5QgAA/ZtLDHlCAAC3d0wMeUIAAHFTTQx5QgAAKy9ODHlCAADlCk8MeUIAAJ/mTwx5QgAAWcJQDHlCAAATnlEMeUIAAM15Ugx5QgAAh1VTDHlCAABBMVQMeUIAAPsMVQx5QgAAtehVDHlCAABvxFYMeUIAACmgVwx5QgAA43tYDHlCAACdV1kMeUIAAFczWgx5QgAAEQ9bDHlCAADL6lsMeUIAAIXGXAx5QgCAHbJdDHlCAIDXjV4MeUIAgJFpXwx5QgCAS0VgDHlCAIAFIWEMeUIAgL/8YQx5QgCAedhiDHlCAIAztGMMeUIAgO2PZAx5QgCAp2tlDHlCAIBhR2YMeUIAgBsjZwx5QgCA1f5nDHlCAICP2mgMeUIAgEm2aQx5QgCAA5JqDHlCAIC9bWsMeUIAAJHnawx5QgAAS8NsDHlCAAAFn20MeUIAAL96bgx5QgAAeVZvDHlCAAAzMnAMeUIAAO0NcQx5QgAAp+lxDHlCAABhxXIMeUIAABuhcwx5QgAA1Xx0DHlCAADb+HQMeUIAAJXUdQx5QgAAT7B2DHlCAAAJjHcMeUIAAMNneAx5QgAAfUN5DHlCAAA3H3oMeUIAAPH6egx5QgAAq9Z7DHlCAIB1eIAMeUIAgC9UgQx5QgCA6S+CDHlCAICjC4MMeUIAgF3ngwx5Qg==\"},\"shape\":[92],\"dtype\":\"float64\",\"order\":\"little\"}],[\"y\",{\"type\":\"ndarray\",\"array\":{\"type\":\"bytes\",\"data\":\"AAAAAAAAXUAAAAAAAABdQAAAAAAAgFtAAAAAAADAWkAAAAAAAEBaQAAAAAAAAFpAAAAAAADAWUAAAAAAAMBZQAAAAAAAgFlAAAAAAADAWkAAAAAAAIBTQAAAAAAAAFRAAAAAAAAAV0AAAAAAAABWQAAAAAAAAFZAAAAAAAAAWkAAAAAAAEBaQAAAAAAAwFdAAAAAAACAVkAAAAAAAMBTQAAAAAAAQFNAAAAAAABAWEAAAAAAAEBVQAAAAAAAgFVAAAAAAAAAWUAAAAAAAABYQAAAAAAAwFpAAAAAAADAWkAAAAAAAMBaQAAAAAAAgFlAAAAAAADAXkAAAAAAAEBcQAAAAAAAwFxAAAAAAABAXEAAAAAAAMBbQAAAAAAAgFtAAAAAAAAAW0AAAAAAAIBaQAAAAAAAgFpAAAAAAACAWkAAAAAAAABbQAAAAAAAQFpAAAAAAADAWUAAAAAAAIBaQAAAAAAAAFpAAAAAAADAWUAAAAAAAEBZQAAAAAAAgFlAAAAAAABAWUAAAAAAAIBdQAAAAAAAgGJAAAAAAAAAWkAAAAAAAABVQAAAAAAAQFhAAAAAAACAWUAAAAAAAABbQAAAAAAAAFtAAAAAAAAAWkAAAAAAAMBXQAAAAAAAAFhAAAAAAADAVkAAAAAAAIBXQAAAAAAAAFdAAAAAAAAAV0AAAAAAAEBXQAAAAAAAgFdAAAAAAADAV0AAAAAAAABYQAAAAAAAwFdAAAAAAADAXEAAAAAAAIBfQAAAAAAAwGFAAAAAAADAXUAAAAAAAEBXQAAAAAAAQFZAAAAAAACAWEAAAAAAAMBXQAAAAAAAQFVAAAAAAABAVUAAAAAAAEBWQAAAAAAAgFZAAAAAAADAVUAAAAAAAMBXQAAAAAAAQF1AAAAAAAAgYEAAAAAAAMBcQAAAAAAAAFpAAAAAAABAV0AAAAAAAIBWQAAAAAAAgFhAAAAAAADAWUAAAAAAAMBVQA==\"},\"shape\":[92],\"dtype\":\"float64\",\"order\":\"little\"}]]}}},\"view\":{\"type\":\"object\",\"name\":\"CDSView\",\"id\":\"p3148\",\"attributes\":{\"filter\":{\"type\":\"object\",\"name\":\"AllIndices\",\"id\":\"p3149\"}}},\"glyph\":{\"type\":\"object\",\"name\":\"Line\",\"id\":\"p3144\",\"attributes\":{\"x\":{\"type\":\"field\",\"field\":\"x\"},\"y\":{\"type\":\"field\",\"field\":\"y\"},\"line_color\":\"gray\",\"line_alpha\":0.5,\"line_width\":2}},\"nonselection_glyph\":{\"type\":\"object\",\"name\":\"Line\",\"id\":\"p3145\",\"attributes\":{\"x\":{\"type\":\"field\",\"field\":\"x\"},\"y\":{\"type\":\"field\",\"field\":\"y\"},\"line_color\":\"gray\",\"line_alpha\":0.1,\"line_width\":2}},\"muted_glyph\":{\"type\":\"object\",\"name\":\"Line\",\"id\":\"p3146\",\"attributes\":{\"x\":{\"type\":\"field\",\"field\":\"x\"},\"y\":{\"type\":\"field\",\"field\":\"y\"},\"line_color\":\"gray\",\"line_alpha\":0.2,\"line_width\":2}}}},{\"type\":\"object\",\"name\":\"GlyphRenderer\",\"id\":\"p3157\",\"attributes\":{\"data_source\":{\"type\":\"object\",\"name\":\"ColumnDataSource\",\"id\":\"p3151\",\"attributes\":{\"selected\":{\"type\":\"object\",\"name\":\"Selection\",\"id\":\"p3152\",\"attributes\":{\"indices\":[],\"line_indices\":[]}},\"selection_policy\":{\"type\":\"object\",\"name\":\"UnionRenderers\",\"id\":\"p3153\"},\"data\":{\"type\":\"map\",\"entries\":[[\"x\",{\"type\":\"ndarray\",\"array\":{\"type\":\"bytes\",\"data\":\"AIAdsl0MeUIAAHlWbwx5QgAANx96DHlCAAC3d0wMeUI=\"},\"shape\":[4],\"dtype\":\"float64\",\"order\":\"little\"}],[\"y\",{\"type\":\"ndarray\",\"array\":{\"type\":\"bytes\",\"data\":\"AAAAAACAYkAAAAAAAMBhQAAAAAAAIGBAAAAAAADAXkA=\"},\"shape\":[4],\"dtype\":\"float64\",\"order\":\"little\"}]]}}},\"view\":{\"type\":\"object\",\"name\":\"CDSView\",\"id\":\"p3158\",\"attributes\":{\"filter\":{\"type\":\"object\",\"name\":\"AllIndices\",\"id\":\"p3159\"}}},\"glyph\":{\"type\":\"object\",\"name\":\"Scatter\",\"id\":\"p3154\",\"attributes\":{\"x\":{\"type\":\"field\",\"field\":\"x\"},\"y\":{\"type\":\"field\",\"field\":\"y\"},\"size\":{\"type\":\"value\",\"value\":6},\"line_color\":{\"type\":\"value\",\"value\":\"darkblue\"},\"line_alpha\":{\"type\":\"value\",\"value\":0.7},\"fill_color\":{\"type\":\"value\",\"value\":\"darkblue\"},\"fill_alpha\":{\"type\":\"value\",\"value\":0.7},\"hatch_color\":{\"type\":\"value\",\"value\":\"darkblue\"},\"hatch_alpha\":{\"type\":\"value\",\"value\":0.7}}},\"nonselection_glyph\":{\"type\":\"object\",\"name\":\"Scatter\",\"id\":\"p3155\",\"attributes\":{\"x\":{\"type\":\"field\",\"field\":\"x\"},\"y\":{\"type\":\"field\",\"field\":\"y\"},\"size\":{\"type\":\"value\",\"value\":6},\"line_color\":{\"type\":\"value\",\"value\":\"darkblue\"},\"line_alpha\":{\"type\":\"value\",\"value\":0.1},\"fill_color\":{\"type\":\"value\",\"value\":\"darkblue\"},\"fill_alpha\":{\"type\":\"value\",\"value\":0.1},\"hatch_color\":{\"type\":\"value\",\"value\":\"darkblue\"},\"hatch_alpha\":{\"type\":\"value\",\"value\":0.1}}},\"muted_glyph\":{\"type\":\"object\",\"name\":\"Scatter\",\"id\":\"p3156\",\"attributes\":{\"x\":{\"type\":\"field\",\"field\":\"x\"},\"y\":{\"type\":\"field\",\"field\":\"y\"},\"size\":{\"type\":\"value\",\"value\":6},\"line_color\":{\"type\":\"value\",\"value\":\"darkblue\"},\"line_alpha\":{\"type\":\"value\",\"value\":0.2},\"fill_color\":{\"type\":\"value\",\"value\":\"darkblue\"},\"fill_alpha\":{\"type\":\"value\",\"value\":0.2},\"hatch_color\":{\"type\":\"value\",\"value\":\"darkblue\"},\"hatch_alpha\":{\"type\":\"value\",\"value\":0.2}}}}}],\"toolbar\":{\"type\":\"object\",\"name\":\"Toolbar\",\"id\":\"p3113\",\"attributes\":{\"tools\":[{\"type\":\"object\",\"name\":\"PanTool\",\"id\":\"p3138\"},{\"type\":\"object\",\"name\":\"WheelZoomTool\",\"id\":\"p3139\",\"attributes\":{\"dimensions\":\"width\",\"renderers\":\"auto\"}},{\"type\":\"object\",\"name\":\"WheelZoomTool\",\"id\":\"p3140\",\"attributes\":{\"dimensions\":\"height\",\"renderers\":\"auto\"}}],\"active_scroll\":{\"id\":\"p3139\"}}},\"left\":[{\"type\":\"object\",\"name\":\"LinearAxis\",\"id\":\"p3133\",\"attributes\":{\"ticker\":{\"type\":\"object\",\"name\":\"BasicTicker\",\"id\":\"p3134\",\"attributes\":{\"mantissas\":[1,2,5]}},\"formatter\":{\"type\":\"object\",\"name\":\"BasicTickFormatter\",\"id\":\"p3135\"},\"axis_label\":\"Glucose\",\"major_label_policy\":{\"type\":\"object\",\"name\":\"AllLabels\",\"id\":\"p3136\"}}}],\"above\":[{\"type\":\"object\",\"name\":\"DatetimeAxis\",\"id\":\"p3116\",\"attributes\":{\"ticker\":{\"type\":\"object\",\"name\":\"DatetimeTicker\",\"id\":\"p3117\",\"attributes\":{\"num_minor_ticks\":5,\"tickers\":[{\"type\":\"object\",\"name\":\"AdaptiveTicker\",\"id\":\"p3118\",\"attributes\":{\"num_minor_ticks\":0,\"mantissas\":[1,2,5],\"max_interval\":500.0}},{\"type\":\"object\",\"name\":\"AdaptiveTicker\",\"id\":\"p3119\",\"attributes\":{\"num_minor_ticks\":0,\"base\":60,\"mantissas\":[1,2,5,10,15,20,30],\"min_interval\":1000.0,\"max_interval\":1800000.0}},{\"type\":\"object\",\"name\":\"AdaptiveTicker\",\"id\":\"p3120\",\"attributes\":{\"num_minor_ticks\":0,\"base\":24,\"mantissas\":[1,2,4,6,8,12],\"min_interval\":3600000.0,\"max_interval\":43200000.0}},{\"type\":\"object\",\"name\":\"DaysTicker\",\"id\":\"p3121\",\"attributes\":{\"days\":[1,2,3,4,5,6,7,8,9,10,11,12,13,14,15,16,17,18,19,20,21,22,23,24,25,26,27,28,29,30,31]}},{\"type\":\"object\",\"name\":\"DaysTicker\",\"id\":\"p3122\",\"attributes\":{\"days\":[1,4,7,10,13,16,19,22,25,28]}},{\"type\":\"object\",\"name\":\"DaysTicker\",\"id\":\"p3123\",\"attributes\":{\"days\":[1,8,15,22]}},{\"type\":\"object\",\"name\":\"DaysTicker\",\"id\":\"p3124\",\"attributes\":{\"days\":[1,15]}},{\"type\":\"object\",\"name\":\"MonthsTicker\",\"id\":\"p3125\",\"attributes\":{\"months\":[0,1,2,3,4,5,6,7,8,9,10,11]}},{\"type\":\"object\",\"name\":\"MonthsTicker\",\"id\":\"p3126\",\"attributes\":{\"months\":[0,2,4,6,8,10]}},{\"type\":\"object\",\"name\":\"MonthsTicker\",\"id\":\"p3127\",\"attributes\":{\"months\":[0,4,8]}},{\"type\":\"object\",\"name\":\"MonthsTicker\",\"id\":\"p3128\",\"attributes\":{\"months\":[0,6]}},{\"type\":\"object\",\"name\":\"YearsTicker\",\"id\":\"p3129\"}]}},\"formatter\":{\"type\":\"object\",\"name\":\"DatetimeTickFormatter\",\"id\":\"p3130\"},\"axis_label\":\"Time\",\"major_label_policy\":{\"type\":\"object\",\"name\":\"AllLabels\",\"id\":\"p3131\"}}}],\"center\":[{\"type\":\"object\",\"name\":\"Grid\",\"id\":\"p3132\",\"attributes\":{\"axis\":{\"id\":\"p3116\"}}},{\"type\":\"object\",\"name\":\"Grid\",\"id\":\"p3137\",\"attributes\":{\"dimension\":1,\"axis\":{\"id\":\"p3133\"}}},{\"type\":\"object\",\"name\":\"Span\",\"id\":\"p3150\",\"attributes\":{\"location\":101.41304347826087,\"line_color\":\"red\"}},{\"type\":\"object\",\"name\":\"Span\",\"id\":\"p3160\",\"attributes\":{\"location\":1721303100000.0,\"dimension\":\"height\",\"line_color\":\"lightgreen\",\"line_width\":2}},{\"type\":\"object\",\"name\":\"BoxAnnotation\",\"id\":\"p3161\",\"attributes\":{\"left\":1721303100000.0,\"right\":1721306700000.0,\"top\":{\"type\":\"object\",\"name\":\"Node\",\"id\":\"p3164\",\"attributes\":{\"target\":\"frame\",\"symbol\":\"top\"}},\"bottom\":{\"type\":\"object\",\"name\":\"Node\",\"id\":\"p3165\",\"attributes\":{\"target\":\"frame\",\"symbol\":\"bottom\"}},\"fill_color\":\"lightgreen\",\"fill_alpha\":0.3}},{\"type\":\"object\",\"name\":\"Label\",\"id\":\"p3166\",\"attributes\":{\"text\":\"809.22\",\"text_color\":\"black\",\"text_font_size\":\"10pt\",\"background_fill_color\":\"white\",\"background_fill_alpha\":0.7,\"x\":1721303100000.0,\"y\":110,\"angle\":90,\"angle_units\":\"deg\"}},{\"type\":\"object\",\"name\":\"Span\",\"id\":\"p3167\",\"attributes\":{\"location\":1721321400000.0,\"dimension\":\"height\",\"line_color\":\"lightgreen\",\"line_width\":2}},{\"type\":\"object\",\"name\":\"BoxAnnotation\",\"id\":\"p3168\",\"attributes\":{\"left\":1721321400000.0,\"right\":1721325000000.0,\"top\":{\"type\":\"object\",\"name\":\"Node\",\"id\":\"p3171\",\"attributes\":{\"target\":\"frame\",\"symbol\":\"top\"}},\"bottom\":{\"type\":\"object\",\"name\":\"Node\",\"id\":\"p3172\",\"attributes\":{\"target\":\"frame\",\"symbol\":\"bottom\"}},\"fill_color\":\"lightgreen\",\"fill_alpha\":0.3}},{\"type\":\"object\",\"name\":\"Label\",\"id\":\"p3173\",\"attributes\":{\"text\":\"435.12\",\"text_color\":\"black\",\"text_font_size\":\"10pt\",\"background_fill_color\":\"white\",\"background_fill_alpha\":0.7,\"x\":1721321400000.0,\"y\":110,\"angle\":90,\"angle_units\":\"deg\"}},{\"type\":\"object\",\"name\":\"Span\",\"id\":\"p3174\",\"attributes\":{\"location\":1721334600000.0,\"dimension\":\"height\",\"line_color\":\"lightgreen\",\"line_width\":2}},{\"type\":\"object\",\"name\":\"BoxAnnotation\",\"id\":\"p3175\",\"attributes\":{\"left\":1721334600000.0,\"right\":1721338200000.0,\"top\":{\"type\":\"object\",\"name\":\"Node\",\"id\":\"p3178\",\"attributes\":{\"target\":\"frame\",\"symbol\":\"top\"}},\"bottom\":{\"type\":\"object\",\"name\":\"Node\",\"id\":\"p3179\",\"attributes\":{\"target\":\"frame\",\"symbol\":\"bottom\"}},\"fill_color\":\"lightgreen\",\"fill_alpha\":0.3}},{\"type\":\"object\",\"name\":\"Label\",\"id\":\"p3180\",\"attributes\":{\"text\":\"846.32\",\"text_color\":\"black\",\"text_font_size\":\"10pt\",\"background_fill_color\":\"white\",\"background_fill_alpha\":0.7,\"x\":1721334600000.0,\"y\":110,\"angle\":90,\"angle_units\":\"deg\"}}]}}]}};\n",
              "  const render_items = [{\"docid\":\"7839e78b-11ad-4925-b67c-1910974020de\",\"roots\":{\"p3105\":\"f64f3fa3-d9d4-4746-9a6d-0d744bf99bc1\"},\"root_ids\":[\"p3105\"]}];\n",
              "  void root.Bokeh.embed.embed_items_notebook(docs_json, render_items);\n",
              "  }\n",
              "  if (root.Bokeh !== undefined) {\n",
              "    embed_document(root);\n",
              "  } else {\n",
              "    let attempts = 0;\n",
              "    const timer = setInterval(function(root) {\n",
              "      if (root.Bokeh !== undefined) {\n",
              "        clearInterval(timer);\n",
              "        embed_document(root);\n",
              "      } else {\n",
              "        attempts++;\n",
              "        if (attempts > 100) {\n",
              "          clearInterval(timer);\n",
              "          console.log(\"Bokeh: ERROR: Unable to run BokehJS code because BokehJS library is missing\");\n",
              "        }\n",
              "      }\n",
              "    }, 10, root)\n",
              "  }\n",
              "})(window);"
            ],
            "application/vnd.bokehjs_exec.v0+json": ""
          },
          "metadata": {
            "application/vnd.bokehjs_exec.v0+json": {
              "id": "p3105"
            }
          }
        },
        {
          "output_type": "stream",
          "name": "stdout",
          "text": [
            "\n",
            "\n",
            "\n"
          ]
        },
        {
          "output_type": "display_data",
          "data": {
            "text/html": [
              "\n",
              "  <div id=\"ffb87015-cbd0-4a63-a91c-7263635481d1\" data-root-id=\"p3185\" style=\"display: contents;\"></div>\n"
            ]
          },
          "metadata": {}
        },
        {
          "output_type": "display_data",
          "data": {
            "application/javascript": [
              "(function(root) {\n",
              "  function embed_document(root) {\n",
              "  const docs_json = {\"5af10162-c933-4843-a40e-b7de4d0ac66f\":{\"version\":\"3.4.3\",\"title\":\"Bokeh Application\",\"roots\":[{\"type\":\"object\",\"name\":\"Figure\",\"id\":\"p3185\",\"attributes\":{\"height\":400,\"x_range\":{\"type\":\"object\",\"name\":\"DataRange1d\",\"id\":\"p3186\"},\"y_range\":{\"type\":\"object\",\"name\":\"DataRange1d\",\"id\":\"p3187\"},\"x_scale\":{\"type\":\"object\",\"name\":\"LinearScale\",\"id\":\"p3194\"},\"y_scale\":{\"type\":\"object\",\"name\":\"LinearScale\",\"id\":\"p3195\"},\"title\":{\"type\":\"object\",\"name\":\"Title\",\"id\":\"p3192\",\"attributes\":{\"text\":\"Day: 2024-07-19\",\"text_font_size\":\"20pt\",\"align\":\"center\"}},\"renderers\":[{\"type\":\"object\",\"name\":\"GlyphRenderer\",\"id\":\"p3227\",\"attributes\":{\"data_source\":{\"type\":\"object\",\"name\":\"ColumnDataSource\",\"id\":\"p3221\",\"attributes\":{\"selected\":{\"type\":\"object\",\"name\":\"Selection\",\"id\":\"p3222\",\"attributes\":{\"indices\":[],\"line_indices\":[]}},\"selection_policy\":{\"type\":\"object\",\"name\":\"UnionRenderers\",\"id\":\"p3223\"},\"data\":{\"type\":\"map\",\"entries\":[[\"x\",{\"type\":\"ndarray\",\"array\":{\"type\":\"bytes\",\"data\":\"AIAXw4QMeUIAgNGehQx5QgCAi3qGDHlCAIBFVocMeUIAgP8xiAx5QgCAuQ2JDHlCAIBz6YkMeUIAgC3Figx5QgCA56CLDHlCAIChfIwMeUIAgFtYjQx5QgCAFTSODHlCAIDPD48MeUIAgInrjwx5QgCAQ8eQDHlCAID9opEMeUIAgLd+kgx5QgCAcVqTDHlCAIArNpQMeUIAgOURlQx5QgCAn+2VDHlCAIBZyZYMeUIAgBOllwx5QgCAzYCYDHlCAICHXJkMeUIAgEE4mgx5QgCA+xObDHlCAIDhvpsMeUIAgJuanAx5QgCAVXadDHlCAIAPUp4MeUIAgMktnwx5QgAAcsOfDHlCAAAsn6AMeUIAAOZ6oQx5QgAAoFaiDHlCAABaMqMMeUIAABQOpAx5QgAAzumkDHlCAACIxaUMeUIAAEKhpgx5QgAA/HynDHlCAAC2WKgMeUIAAHA0qQx5QgAAKhCqDHlCAADk66oMeUIAAJ7Hqwx5QgAAWKOsDHlCAAASf60MeUIAAMxargx5QgAAhjavDHlCAABAErAMeUIAAPrtsAx5QgAAtMmxDHlCAABupbIMeUIAACiBswx5QgCAiQ20DHlCAIBD6bQMeUIAgP3EtQx5QgCAt6C2DHlCAIBxfLcMeUIAgCtYuAx5QgCA5TO5DHlCAICfD7oMeUIAgFnrugx5QgCAE8e7DHlCAIDNorwMeUIAgId+vQx5QgCAQVq+DHlCAID7Nb8MeUIAgLURwAx5QgCAb+3ADHlCAIApycEMeUIAgOOkwgx5QgCAnYDDDHlCAIBXXMQMeUIAgBE4xQx5QgCAyxPGDHlCAADQ7cYMeUIAAIrJxwx5QgAARKXIDHlCAAD+gMkMeUIAALhcygx5QgAAcjjLDHlCAAAsFMwMeUIAAObvzAx5QgAAoMvNDHlCAABap84MeUIAABSDzwx5QgAAzl7QDHlCAACIOtEMeUIAAEIW0gx5Qg==\"},\"shape\":[92],\"dtype\":\"float64\",\"order\":\"little\"}],[\"y\",{\"type\":\"ndarray\",\"array\":{\"type\":\"bytes\",\"data\":\"AAAAAADAVkAAAAAAAIBbQAAAAAAAAF1AAAAAAABAX0AAAAAAAMBeQAAAAAAAwFxAAAAAAAAAW0AAAAAAAMBZQAAAAAAAwFdAAAAAAADAV0AAAAAAAEBXQAAAAAAAgFVAAAAAAAAAVkAAAAAAAIBUQAAAAAAAgFJAAAAAAADAVkAAAAAAAEBWQAAAAAAAAFpAAAAAAABAVkAAAAAAAABaQAAAAAAAQFpAAAAAAAAAWkAAAAAAAABWQAAAAAAAwFRAAAAAAADAU0AAAAAAAABSQAAAAAAAAFhAAAAAAADAVkAAAAAAAEBbQAAAAAAAgF5AAAAAAAAAW0AAAAAAAMBaQAAAAAAAgFdAAAAAAABAXUAAAAAAAABdQAAAAAAAgFtAAAAAAACAW0AAAAAAAIBYQAAAAAAAwFdAAAAAAACAWEAAAAAAAEBYQAAAAAAAwFhAAAAAAACAWEAAAAAAAABZQAAAAAAAgFhAAAAAAAAAWUAAAAAAAEBYQAAAAAAAAFhAAAAAAADAWEAAAAAAAIBYQAAAAAAAwFhAAAAAAADAWEAAAAAAAABZQAAAAAAAgFhAAAAAAACAWEAAAAAAAIBgQAAAAAAAgGBAAAAAAADAYEAAAAAAAMBdQAAAAAAAAFxAAAAAAADAWkAAAAAAAABZQAAAAAAAQFZAAAAAAACAVUAAAAAAAIBVQAAAAAAAAFVAAAAAAAAAVEAAAAAAAEBUQAAAAAAAAFJAAAAAAAAAWEAAAAAAAEBYQAAAAAAAwFVAAAAAAABAVkAAAAAAAABYQAAAAAAAAFZAAAAAAADAV0AAAAAAAIBXQAAAAAAAwFdAAAAAAACAWUAAAAAAAMBdQAAAAAAAgGBAAAAAAACAXkAAAAAAAIBcQAAAAAAAgFxAAAAAAAAAWUAAAAAAAMBbQAAAAAAAgFtAAAAAAACAW0AAAAAAAABbQAAAAAAAgFxAAAAAAADAXUAAAAAAAABdQA==\"},\"shape\":[92],\"dtype\":\"float64\",\"order\":\"little\"}]]}}},\"view\":{\"type\":\"object\",\"name\":\"CDSView\",\"id\":\"p3228\",\"attributes\":{\"filter\":{\"type\":\"object\",\"name\":\"AllIndices\",\"id\":\"p3229\"}}},\"glyph\":{\"type\":\"object\",\"name\":\"Line\",\"id\":\"p3224\",\"attributes\":{\"x\":{\"type\":\"field\",\"field\":\"x\"},\"y\":{\"type\":\"field\",\"field\":\"y\"},\"line_color\":\"gray\",\"line_alpha\":0.5,\"line_width\":2}},\"nonselection_glyph\":{\"type\":\"object\",\"name\":\"Line\",\"id\":\"p3225\",\"attributes\":{\"x\":{\"type\":\"field\",\"field\":\"x\"},\"y\":{\"type\":\"field\",\"field\":\"y\"},\"line_color\":\"gray\",\"line_alpha\":0.1,\"line_width\":2}},\"muted_glyph\":{\"type\":\"object\",\"name\":\"Line\",\"id\":\"p3226\",\"attributes\":{\"x\":{\"type\":\"field\",\"field\":\"x\"},\"y\":{\"type\":\"field\",\"field\":\"y\"},\"line_color\":\"gray\",\"line_alpha\":0.2,\"line_width\":2}}}},{\"type\":\"object\",\"name\":\"GlyphRenderer\",\"id\":\"p3237\",\"attributes\":{\"data_source\":{\"type\":\"object\",\"name\":\"ColumnDataSource\",\"id\":\"p3231\",\"attributes\":{\"selected\":{\"type\":\"object\",\"name\":\"Selection\",\"id\":\"p3232\",\"attributes\":{\"indices\":[],\"line_indices\":[]}},\"selection_policy\":{\"type\":\"object\",\"name\":\"UnionRenderers\",\"id\":\"p3233\"},\"data\":{\"type\":\"map\",\"entries\":[[\"x\",{\"type\":\"ndarray\",\"array\":{\"type\":\"bytes\",\"data\":\"AIBD6bQMeUIAgEVWhwx5QgAARKXIDHlCAIBVdp0MeUIAgHFakwx5Qg==\"},\"shape\":[5],\"dtype\":\"float64\",\"order\":\"little\"}],[\"y\",{\"type\":\"ndarray\",\"array\":{\"type\":\"bytes\",\"data\":\"AAAAAADAYEAAAAAAAEBfQAAAAAAAgGBAAAAAAACAXkAAAAAAAABaQA==\"},\"shape\":[5],\"dtype\":\"float64\",\"order\":\"little\"}]]}}},\"view\":{\"type\":\"object\",\"name\":\"CDSView\",\"id\":\"p3238\",\"attributes\":{\"filter\":{\"type\":\"object\",\"name\":\"AllIndices\",\"id\":\"p3239\"}}},\"glyph\":{\"type\":\"object\",\"name\":\"Scatter\",\"id\":\"p3234\",\"attributes\":{\"x\":{\"type\":\"field\",\"field\":\"x\"},\"y\":{\"type\":\"field\",\"field\":\"y\"},\"size\":{\"type\":\"value\",\"value\":6},\"line_color\":{\"type\":\"value\",\"value\":\"darkblue\"},\"line_alpha\":{\"type\":\"value\",\"value\":0.7},\"fill_color\":{\"type\":\"value\",\"value\":\"darkblue\"},\"fill_alpha\":{\"type\":\"value\",\"value\":0.7},\"hatch_color\":{\"type\":\"value\",\"value\":\"darkblue\"},\"hatch_alpha\":{\"type\":\"value\",\"value\":0.7}}},\"nonselection_glyph\":{\"type\":\"object\",\"name\":\"Scatter\",\"id\":\"p3235\",\"attributes\":{\"x\":{\"type\":\"field\",\"field\":\"x\"},\"y\":{\"type\":\"field\",\"field\":\"y\"},\"size\":{\"type\":\"value\",\"value\":6},\"line_color\":{\"type\":\"value\",\"value\":\"darkblue\"},\"line_alpha\":{\"type\":\"value\",\"value\":0.1},\"fill_color\":{\"type\":\"value\",\"value\":\"darkblue\"},\"fill_alpha\":{\"type\":\"value\",\"value\":0.1},\"hatch_color\":{\"type\":\"value\",\"value\":\"darkblue\"},\"hatch_alpha\":{\"type\":\"value\",\"value\":0.1}}},\"muted_glyph\":{\"type\":\"object\",\"name\":\"Scatter\",\"id\":\"p3236\",\"attributes\":{\"x\":{\"type\":\"field\",\"field\":\"x\"},\"y\":{\"type\":\"field\",\"field\":\"y\"},\"size\":{\"type\":\"value\",\"value\":6},\"line_color\":{\"type\":\"value\",\"value\":\"darkblue\"},\"line_alpha\":{\"type\":\"value\",\"value\":0.2},\"fill_color\":{\"type\":\"value\",\"value\":\"darkblue\"},\"fill_alpha\":{\"type\":\"value\",\"value\":0.2},\"hatch_color\":{\"type\":\"value\",\"value\":\"darkblue\"},\"hatch_alpha\":{\"type\":\"value\",\"value\":0.2}}}}}],\"toolbar\":{\"type\":\"object\",\"name\":\"Toolbar\",\"id\":\"p3193\",\"attributes\":{\"tools\":[{\"type\":\"object\",\"name\":\"PanTool\",\"id\":\"p3218\"},{\"type\":\"object\",\"name\":\"WheelZoomTool\",\"id\":\"p3219\",\"attributes\":{\"dimensions\":\"width\",\"renderers\":\"auto\"}},{\"type\":\"object\",\"name\":\"WheelZoomTool\",\"id\":\"p3220\",\"attributes\":{\"dimensions\":\"height\",\"renderers\":\"auto\"}}],\"active_scroll\":{\"id\":\"p3219\"}}},\"left\":[{\"type\":\"object\",\"name\":\"LinearAxis\",\"id\":\"p3213\",\"attributes\":{\"ticker\":{\"type\":\"object\",\"name\":\"BasicTicker\",\"id\":\"p3214\",\"attributes\":{\"mantissas\":[1,2,5]}},\"formatter\":{\"type\":\"object\",\"name\":\"BasicTickFormatter\",\"id\":\"p3215\"},\"axis_label\":\"Glucose\",\"major_label_policy\":{\"type\":\"object\",\"name\":\"AllLabels\",\"id\":\"p3216\"}}}],\"above\":[{\"type\":\"object\",\"name\":\"DatetimeAxis\",\"id\":\"p3196\",\"attributes\":{\"ticker\":{\"type\":\"object\",\"name\":\"DatetimeTicker\",\"id\":\"p3197\",\"attributes\":{\"num_minor_ticks\":5,\"tickers\":[{\"type\":\"object\",\"name\":\"AdaptiveTicker\",\"id\":\"p3198\",\"attributes\":{\"num_minor_ticks\":0,\"mantissas\":[1,2,5],\"max_interval\":500.0}},{\"type\":\"object\",\"name\":\"AdaptiveTicker\",\"id\":\"p3199\",\"attributes\":{\"num_minor_ticks\":0,\"base\":60,\"mantissas\":[1,2,5,10,15,20,30],\"min_interval\":1000.0,\"max_interval\":1800000.0}},{\"type\":\"object\",\"name\":\"AdaptiveTicker\",\"id\":\"p3200\",\"attributes\":{\"num_minor_ticks\":0,\"base\":24,\"mantissas\":[1,2,4,6,8,12],\"min_interval\":3600000.0,\"max_interval\":43200000.0}},{\"type\":\"object\",\"name\":\"DaysTicker\",\"id\":\"p3201\",\"attributes\":{\"days\":[1,2,3,4,5,6,7,8,9,10,11,12,13,14,15,16,17,18,19,20,21,22,23,24,25,26,27,28,29,30,31]}},{\"type\":\"object\",\"name\":\"DaysTicker\",\"id\":\"p3202\",\"attributes\":{\"days\":[1,4,7,10,13,16,19,22,25,28]}},{\"type\":\"object\",\"name\":\"DaysTicker\",\"id\":\"p3203\",\"attributes\":{\"days\":[1,8,15,22]}},{\"type\":\"object\",\"name\":\"DaysTicker\",\"id\":\"p3204\",\"attributes\":{\"days\":[1,15]}},{\"type\":\"object\",\"name\":\"MonthsTicker\",\"id\":\"p3205\",\"attributes\":{\"months\":[0,1,2,3,4,5,6,7,8,9,10,11]}},{\"type\":\"object\",\"name\":\"MonthsTicker\",\"id\":\"p3206\",\"attributes\":{\"months\":[0,2,4,6,8,10]}},{\"type\":\"object\",\"name\":\"MonthsTicker\",\"id\":\"p3207\",\"attributes\":{\"months\":[0,4,8]}},{\"type\":\"object\",\"name\":\"MonthsTicker\",\"id\":\"p3208\",\"attributes\":{\"months\":[0,6]}},{\"type\":\"object\",\"name\":\"YearsTicker\",\"id\":\"p3209\"}]}},\"formatter\":{\"type\":\"object\",\"name\":\"DatetimeTickFormatter\",\"id\":\"p3210\"},\"axis_label\":\"Time\",\"major_label_policy\":{\"type\":\"object\",\"name\":\"AllLabels\",\"id\":\"p3211\"}}}],\"center\":[{\"type\":\"object\",\"name\":\"Grid\",\"id\":\"p3212\",\"attributes\":{\"axis\":{\"id\":\"p3196\"}}},{\"type\":\"object\",\"name\":\"Grid\",\"id\":\"p3217\",\"attributes\":{\"dimension\":1,\"axis\":{\"id\":\"p3213\"}}},{\"type\":\"object\",\"name\":\"Span\",\"id\":\"p3230\",\"attributes\":{\"location\":101.09782608695652,\"line_color\":\"red\"}},{\"type\":\"object\",\"name\":\"Span\",\"id\":\"p3240\",\"attributes\":{\"location\":1721376000000.0,\"dimension\":\"height\",\"line_color\":\"lightgreen\",\"line_width\":2}},{\"type\":\"object\",\"name\":\"BoxAnnotation\",\"id\":\"p3241\",\"attributes\":{\"left\":1721376000000.0,\"right\":1721379600000.0,\"top\":{\"type\":\"object\",\"name\":\"Node\",\"id\":\"p3244\",\"attributes\":{\"target\":\"frame\",\"symbol\":\"top\"}},\"bottom\":{\"type\":\"object\",\"name\":\"Node\",\"id\":\"p3245\",\"attributes\":{\"target\":\"frame\",\"symbol\":\"bottom\"}},\"fill_color\":\"lightgreen\",\"fill_alpha\":0.3}},{\"type\":\"object\",\"name\":\"Label\",\"id\":\"p3246\",\"attributes\":{\"text\":\"299.00\",\"text_color\":\"black\",\"text_font_size\":\"10pt\",\"background_fill_color\":\"white\",\"background_fill_alpha\":0.7,\"x\":1721376000000.0,\"y\":110,\"angle\":90,\"angle_units\":\"deg\"}},{\"type\":\"object\",\"name\":\"Span\",\"id\":\"p3247\",\"attributes\":{\"location\":1721392200000.0,\"dimension\":\"height\",\"line_color\":\"lightgreen\",\"line_width\":2}},{\"type\":\"object\",\"name\":\"BoxAnnotation\",\"id\":\"p3248\",\"attributes\":{\"left\":1721392200000.0,\"right\":1721395800000.0,\"top\":{\"type\":\"object\",\"name\":\"Node\",\"id\":\"p3251\",\"attributes\":{\"target\":\"frame\",\"symbol\":\"top\"}},\"bottom\":{\"type\":\"object\",\"name\":\"Node\",\"id\":\"p3252\",\"attributes\":{\"target\":\"frame\",\"symbol\":\"bottom\"}},\"fill_color\":\"lightgreen\",\"fill_alpha\":0.3}},{\"type\":\"object\",\"name\":\"Label\",\"id\":\"p3253\",\"attributes\":{\"text\":\"718.00\",\"text_color\":\"black\",\"text_font_size\":\"10pt\",\"background_fill_color\":\"white\",\"background_fill_alpha\":0.7,\"x\":1721392200000.0,\"y\":110,\"angle\":90,\"angle_units\":\"deg\"}},{\"type\":\"object\",\"name\":\"Span\",\"id\":\"p3254\",\"attributes\":{\"location\":1721416086000.0,\"dimension\":\"height\",\"line_color\":\"lightgreen\",\"line_width\":2}},{\"type\":\"object\",\"name\":\"BoxAnnotation\",\"id\":\"p3255\",\"attributes\":{\"left\":1721416086000.0,\"right\":1721419686000.0,\"top\":{\"type\":\"object\",\"name\":\"Node\",\"id\":\"p3258\",\"attributes\":{\"target\":\"frame\",\"symbol\":\"top\"}},\"bottom\":{\"type\":\"object\",\"name\":\"Node\",\"id\":\"p3259\",\"attributes\":{\"target\":\"frame\",\"symbol\":\"bottom\"}},\"fill_color\":\"lightgreen\",\"fill_alpha\":0.3}},{\"type\":\"object\",\"name\":\"Label\",\"id\":\"p3260\",\"attributes\":{\"text\":\"675.64\",\"text_color\":\"black\",\"text_font_size\":\"10pt\",\"background_fill_color\":\"white\",\"background_fill_alpha\":0.7,\"x\":1721416086000.0,\"y\":110,\"angle\":90,\"angle_units\":\"deg\"}}]}}]}};\n",
              "  const render_items = [{\"docid\":\"5af10162-c933-4843-a40e-b7de4d0ac66f\",\"roots\":{\"p3185\":\"ffb87015-cbd0-4a63-a91c-7263635481d1\"},\"root_ids\":[\"p3185\"]}];\n",
              "  void root.Bokeh.embed.embed_items_notebook(docs_json, render_items);\n",
              "  }\n",
              "  if (root.Bokeh !== undefined) {\n",
              "    embed_document(root);\n",
              "  } else {\n",
              "    let attempts = 0;\n",
              "    const timer = setInterval(function(root) {\n",
              "      if (root.Bokeh !== undefined) {\n",
              "        clearInterval(timer);\n",
              "        embed_document(root);\n",
              "      } else {\n",
              "        attempts++;\n",
              "        if (attempts > 100) {\n",
              "          clearInterval(timer);\n",
              "          console.log(\"Bokeh: ERROR: Unable to run BokehJS code because BokehJS library is missing\");\n",
              "        }\n",
              "      }\n",
              "    }, 10, root)\n",
              "  }\n",
              "})(window);"
            ],
            "application/vnd.bokehjs_exec.v0+json": ""
          },
          "metadata": {
            "application/vnd.bokehjs_exec.v0+json": {
              "id": "p3185"
            }
          }
        },
        {
          "output_type": "stream",
          "name": "stdout",
          "text": [
            "\n",
            "\n",
            "\n"
          ]
        },
        {
          "output_type": "display_data",
          "data": {
            "text/html": [
              "\n",
              "  <div id=\"c9b1d8ae-bdde-4e6b-b38a-0b4efd597e53\" data-root-id=\"p3265\" style=\"display: contents;\"></div>\n"
            ]
          },
          "metadata": {}
        },
        {
          "output_type": "display_data",
          "data": {
            "application/javascript": [
              "(function(root) {\n",
              "  function embed_document(root) {\n",
              "  const docs_json = {\"ace6e366-9530-4643-a5cb-5bfef8e9e27c\":{\"version\":\"3.4.3\",\"title\":\"Bokeh Application\",\"roots\":[{\"type\":\"object\",\"name\":\"Figure\",\"id\":\"p3265\",\"attributes\":{\"height\":400,\"x_range\":{\"type\":\"object\",\"name\":\"DataRange1d\",\"id\":\"p3266\"},\"y_range\":{\"type\":\"object\",\"name\":\"DataRange1d\",\"id\":\"p3267\"},\"x_scale\":{\"type\":\"object\",\"name\":\"LinearScale\",\"id\":\"p3274\"},\"y_scale\":{\"type\":\"object\",\"name\":\"LinearScale\",\"id\":\"p3275\"},\"title\":{\"type\":\"object\",\"name\":\"Title\",\"id\":\"p3272\",\"attributes\":{\"text\":\"Day: 2024-07-21\",\"text_font_size\":\"20pt\",\"align\":\"center\"}},\"renderers\":[{\"type\":\"object\",\"name\":\"GlyphRenderer\",\"id\":\"p3307\",\"attributes\":{\"data_source\":{\"type\":\"object\",\"name\":\"ColumnDataSource\",\"id\":\"p3301\",\"attributes\":{\"selected\":{\"type\":\"object\",\"name\":\"Selection\",\"id\":\"p3302\",\"attributes\":{\"indices\":[],\"line_indices\":[]}},\"selection_policy\":{\"type\":\"object\",\"name\":\"UnionRenderers\",\"id\":\"p3303\"},\"data\":{\"type\":\"map\",\"entries\":[[\"x\",{\"type\":\"ndarray\",\"array\":{\"type\":\"bytes\",\"data\":\"AIDOXiwNeUIAgIg6LQ15QgCAQhYuDXlCAID88S4NeUIAgLbNLw15QgCAcKkwDXlCAIAqhTENeUIAgORgMg15QgCAnjwzDXlCAIBYGDQNeUIAgBL0NA15QgCAzM81DXlCAICGqzYNeUIAgECHNw15QgCA+mI4DXlCAIC0PjkNeUIAgG4aOg15QgCAKPY6DXlCAIDi0TsNeUIAgJytPA15QgCAVok9DXlCAIAQZT4NeUIAgMpAPw15QgCAhBxADXlCAIA++EANeUIAgPjTQQ15QgCAsq9CDXlCAIBsi0MNeUIAgCZnRA15QgCA4EJFDXlCAICaHkYNeUIAgFT6Rg15QgAAIvJHDXlCAADczUgNeUIAAJapSQ15QgAAUIVKDXlCAAAKYUsNeUIAAMQ8TA15QgAAfhhNDXlCAAA49E0NeUIAAPLPTg15QgAArKtPDXlCAABmh1ANeUIAACBjUQ15QgAA2j5SDXlCAAD+MlMNeUIAALgOVA15QgAAcupUDXlCAAAsxlUNeUIAAOahVg15QgAAoH1XDXlCAABaWVgNeUIAAJT2WA15QgAATtJZDXlCAAAIrloNeUIAAMKJWw15QgAAfGVcDXlCAAA2QV0NeUIAAPAcXg15QgAAqvheDXlCAABk1F8NeUIAAB6wYA15QgAA2IthDXlCAACSZ2INeUIAAExDYw15QgAABh9kDXlCAADA+mQNeUIAAHrWZQ15QgAA8OZmDXlCAACqwmcNeUIAAGSeaA15QgAAHnppDXlCAADYVWoNeUIAAJIxaw15QgAAChhsDXlCAADE82wNeUIAAH7PbQ15QgAAx+N5DXlCAACBv3oNeUIAADubew15Qg==\"},\"shape\":[80],\"dtype\":\"float64\",\"order\":\"little\"}],[\"y\",{\"type\":\"ndarray\",\"array\":{\"type\":\"bytes\",\"data\":\"AAAAAACgYkAAAAAAACBhQAAAAAAAwF5AAAAAAAAAXkAAAAAAAMBfQAAAAAAA4GBAAAAAAACgYEAAAAAAAIBfQAAAAAAAQF5AAAAAAACAXEAAAAAAAABeQAAAAAAAQFxAAAAAAADAWkAAAAAAAABaQAAAAAAAQFpAAAAAAABAWkAAAAAAAMBZQAAAAAAAQFlAAAAAAABAWUAAAAAAAABcQAAAAAAAgFpAAAAAAACAWkAAAAAAAEBbQAAAAAAAAFpAAAAAAABAXEAAAAAAAEBaQAAAAAAAAFtAAAAAAADAW0AAAAAAAMBaQAAAAAAAwFlAAAAAAAAAWkAAAAAAAIBcQAAAAAAAAF5AAAAAAAAAXEAAAAAAAABbQAAAAAAAwFZAAAAAAADAVUAAAAAAAIBWQAAAAAAAwFlAAAAAAAAAWkAAAAAAAIBaQAAAAAAAQFpAAAAAAADAWkAAAAAAAABaQAAAAAAAQF5AAAAAAACAXEAAAAAAAIBcQAAAAAAAwFtAAAAAAACAW0AAAAAAAMBaQAAAAAAAQFpAAAAAAABAWkAAAAAAAEBaQAAAAAAAQFpAAAAAAACAW0AAAAAAAEBaQAAAAAAAQFtAAAAAAABAW0AAAAAAAMBcQAAAAAAAAFpAAAAAAAAAWkAAAAAAAMBaQAAAAAAAwF1AAAAAAABAX0AAAAAAAKBgQAAAAAAAgF5AAAAAAABAXEAAAAAAAMBcQAAAAAAAAF1AAAAAAACAXUAAAAAAAIBcQAAAAAAAAFtAAAAAAAAAWEAAAAAAAEBYQAAAAAAAgFdAAAAAAAAAW0AAAAAAAMBbQAAAAAAAAFhAAAAAAABAWUAAAAAAAABYQA==\"},\"shape\":[80],\"dtype\":\"float64\",\"order\":\"little\"}]]}}},\"view\":{\"type\":\"object\",\"name\":\"CDSView\",\"id\":\"p3308\",\"attributes\":{\"filter\":{\"type\":\"object\",\"name\":\"AllIndices\",\"id\":\"p3309\"}}},\"glyph\":{\"type\":\"object\",\"name\":\"Line\",\"id\":\"p3304\",\"attributes\":{\"x\":{\"type\":\"field\",\"field\":\"x\"},\"y\":{\"type\":\"field\",\"field\":\"y\"},\"line_color\":\"gray\",\"line_alpha\":0.5,\"line_width\":2}},\"nonselection_glyph\":{\"type\":\"object\",\"name\":\"Line\",\"id\":\"p3305\",\"attributes\":{\"x\":{\"type\":\"field\",\"field\":\"x\"},\"y\":{\"type\":\"field\",\"field\":\"y\"},\"line_color\":\"gray\",\"line_alpha\":0.1,\"line_width\":2}},\"muted_glyph\":{\"type\":\"object\",\"name\":\"Line\",\"id\":\"p3306\",\"attributes\":{\"x\":{\"type\":\"field\",\"field\":\"x\"},\"y\":{\"type\":\"field\",\"field\":\"y\"},\"line_color\":\"gray\",\"line_alpha\":0.2,\"line_width\":2}}}},{\"type\":\"object\",\"name\":\"GlyphRenderer\",\"id\":\"p3317\",\"attributes\":{\"data_source\":{\"type\":\"object\",\"name\":\"ColumnDataSource\",\"id\":\"p3311\",\"attributes\":{\"selected\":{\"type\":\"object\",\"name\":\"Selection\",\"id\":\"p3312\",\"attributes\":{\"indices\":[],\"line_indices\":[]}},\"selection_policy\":{\"type\":\"object\",\"name\":\"UnionRenderers\",\"id\":\"p3313\"},\"data\":{\"type\":\"map\",\"entries\":[[\"x\",{\"type\":\"ndarray\",\"array\":{\"type\":\"bytes\",\"data\":\"AABMQ2MNeUIAACLyRw15QgAA2j5SDXlCAIBwqTANeUIAAH7PbQ15Qg==\"},\"shape\":[5],\"dtype\":\"float64\",\"order\":\"little\"}],[\"y\",{\"type\":\"ndarray\",\"array\":{\"type\":\"bytes\",\"data\":\"AAAAAACgYEAAAAAAAABeQAAAAAAAQF5AAAAAAADgYEAAAAAAAMBbQA==\"},\"shape\":[5],\"dtype\":\"float64\",\"order\":\"little\"}]]}}},\"view\":{\"type\":\"object\",\"name\":\"CDSView\",\"id\":\"p3318\",\"attributes\":{\"filter\":{\"type\":\"object\",\"name\":\"AllIndices\",\"id\":\"p3319\"}}},\"glyph\":{\"type\":\"object\",\"name\":\"Scatter\",\"id\":\"p3314\",\"attributes\":{\"x\":{\"type\":\"field\",\"field\":\"x\"},\"y\":{\"type\":\"field\",\"field\":\"y\"},\"size\":{\"type\":\"value\",\"value\":6},\"line_color\":{\"type\":\"value\",\"value\":\"darkblue\"},\"line_alpha\":{\"type\":\"value\",\"value\":0.7},\"fill_color\":{\"type\":\"value\",\"value\":\"darkblue\"},\"fill_alpha\":{\"type\":\"value\",\"value\":0.7},\"hatch_color\":{\"type\":\"value\",\"value\":\"darkblue\"},\"hatch_alpha\":{\"type\":\"value\",\"value\":0.7}}},\"nonselection_glyph\":{\"type\":\"object\",\"name\":\"Scatter\",\"id\":\"p3315\",\"attributes\":{\"x\":{\"type\":\"field\",\"field\":\"x\"},\"y\":{\"type\":\"field\",\"field\":\"y\"},\"size\":{\"type\":\"value\",\"value\":6},\"line_color\":{\"type\":\"value\",\"value\":\"darkblue\"},\"line_alpha\":{\"type\":\"value\",\"value\":0.1},\"fill_color\":{\"type\":\"value\",\"value\":\"darkblue\"},\"fill_alpha\":{\"type\":\"value\",\"value\":0.1},\"hatch_color\":{\"type\":\"value\",\"value\":\"darkblue\"},\"hatch_alpha\":{\"type\":\"value\",\"value\":0.1}}},\"muted_glyph\":{\"type\":\"object\",\"name\":\"Scatter\",\"id\":\"p3316\",\"attributes\":{\"x\":{\"type\":\"field\",\"field\":\"x\"},\"y\":{\"type\":\"field\",\"field\":\"y\"},\"size\":{\"type\":\"value\",\"value\":6},\"line_color\":{\"type\":\"value\",\"value\":\"darkblue\"},\"line_alpha\":{\"type\":\"value\",\"value\":0.2},\"fill_color\":{\"type\":\"value\",\"value\":\"darkblue\"},\"fill_alpha\":{\"type\":\"value\",\"value\":0.2},\"hatch_color\":{\"type\":\"value\",\"value\":\"darkblue\"},\"hatch_alpha\":{\"type\":\"value\",\"value\":0.2}}}}}],\"toolbar\":{\"type\":\"object\",\"name\":\"Toolbar\",\"id\":\"p3273\",\"attributes\":{\"tools\":[{\"type\":\"object\",\"name\":\"PanTool\",\"id\":\"p3298\"},{\"type\":\"object\",\"name\":\"WheelZoomTool\",\"id\":\"p3299\",\"attributes\":{\"dimensions\":\"width\",\"renderers\":\"auto\"}},{\"type\":\"object\",\"name\":\"WheelZoomTool\",\"id\":\"p3300\",\"attributes\":{\"dimensions\":\"height\",\"renderers\":\"auto\"}}],\"active_scroll\":{\"id\":\"p3299\"}}},\"left\":[{\"type\":\"object\",\"name\":\"LinearAxis\",\"id\":\"p3293\",\"attributes\":{\"ticker\":{\"type\":\"object\",\"name\":\"BasicTicker\",\"id\":\"p3294\",\"attributes\":{\"mantissas\":[1,2,5]}},\"formatter\":{\"type\":\"object\",\"name\":\"BasicTickFormatter\",\"id\":\"p3295\"},\"axis_label\":\"Glucose\",\"major_label_policy\":{\"type\":\"object\",\"name\":\"AllLabels\",\"id\":\"p3296\"}}}],\"above\":[{\"type\":\"object\",\"name\":\"DatetimeAxis\",\"id\":\"p3276\",\"attributes\":{\"ticker\":{\"type\":\"object\",\"name\":\"DatetimeTicker\",\"id\":\"p3277\",\"attributes\":{\"num_minor_ticks\":5,\"tickers\":[{\"type\":\"object\",\"name\":\"AdaptiveTicker\",\"id\":\"p3278\",\"attributes\":{\"num_minor_ticks\":0,\"mantissas\":[1,2,5],\"max_interval\":500.0}},{\"type\":\"object\",\"name\":\"AdaptiveTicker\",\"id\":\"p3279\",\"attributes\":{\"num_minor_ticks\":0,\"base\":60,\"mantissas\":[1,2,5,10,15,20,30],\"min_interval\":1000.0,\"max_interval\":1800000.0}},{\"type\":\"object\",\"name\":\"AdaptiveTicker\",\"id\":\"p3280\",\"attributes\":{\"num_minor_ticks\":0,\"base\":24,\"mantissas\":[1,2,4,6,8,12],\"min_interval\":3600000.0,\"max_interval\":43200000.0}},{\"type\":\"object\",\"name\":\"DaysTicker\",\"id\":\"p3281\",\"attributes\":{\"days\":[1,2,3,4,5,6,7,8,9,10,11,12,13,14,15,16,17,18,19,20,21,22,23,24,25,26,27,28,29,30,31]}},{\"type\":\"object\",\"name\":\"DaysTicker\",\"id\":\"p3282\",\"attributes\":{\"days\":[1,4,7,10,13,16,19,22,25,28]}},{\"type\":\"object\",\"name\":\"DaysTicker\",\"id\":\"p3283\",\"attributes\":{\"days\":[1,8,15,22]}},{\"type\":\"object\",\"name\":\"DaysTicker\",\"id\":\"p3284\",\"attributes\":{\"days\":[1,15]}},{\"type\":\"object\",\"name\":\"MonthsTicker\",\"id\":\"p3285\",\"attributes\":{\"months\":[0,1,2,3,4,5,6,7,8,9,10,11]}},{\"type\":\"object\",\"name\":\"MonthsTicker\",\"id\":\"p3286\",\"attributes\":{\"months\":[0,2,4,6,8,10]}},{\"type\":\"object\",\"name\":\"MonthsTicker\",\"id\":\"p3287\",\"attributes\":{\"months\":[0,4,8]}},{\"type\":\"object\",\"name\":\"MonthsTicker\",\"id\":\"p3288\",\"attributes\":{\"months\":[0,6]}},{\"type\":\"object\",\"name\":\"YearsTicker\",\"id\":\"p3289\"}]}},\"formatter\":{\"type\":\"object\",\"name\":\"DatetimeTickFormatter\",\"id\":\"p3290\"},\"axis_label\":\"Time\",\"major_label_policy\":{\"type\":\"object\",\"name\":\"AllLabels\",\"id\":\"p3291\"}}}],\"center\":[{\"type\":\"object\",\"name\":\"Grid\",\"id\":\"p3292\",\"attributes\":{\"axis\":{\"id\":\"p3276\"}}},{\"type\":\"object\",\"name\":\"Grid\",\"id\":\"p3297\",\"attributes\":{\"dimension\":1,\"axis\":{\"id\":\"p3293\"}}},{\"type\":\"object\",\"name\":\"Span\",\"id\":\"p3310\",\"attributes\":{\"location\":110.3125,\"line_color\":\"red\"}},{\"type\":\"object\",\"name\":\"Span\",\"id\":\"p3320\",\"attributes\":{\"location\":1721550600000.0,\"dimension\":\"height\",\"line_color\":\"lightgreen\",\"line_width\":2}},{\"type\":\"object\",\"name\":\"BoxAnnotation\",\"id\":\"p3321\",\"attributes\":{\"left\":1721550600000.0,\"right\":1721554200000.0,\"top\":{\"type\":\"object\",\"name\":\"Node\",\"id\":\"p3324\",\"attributes\":{\"target\":\"frame\",\"symbol\":\"top\"}},\"bottom\":{\"type\":\"object\",\"name\":\"Node\",\"id\":\"p3325\",\"attributes\":{\"target\":\"frame\",\"symbol\":\"bottom\"}},\"fill_color\":\"lightgreen\",\"fill_alpha\":0.3}},{\"type\":\"object\",\"name\":\"Label\",\"id\":\"p3326\",\"attributes\":{\"text\":\"299.00\",\"text_color\":\"black\",\"text_font_size\":\"10pt\",\"background_fill_color\":\"white\",\"background_fill_alpha\":0.7,\"x\":1721550600000.0,\"y\":110,\"angle\":90,\"angle_units\":\"deg\"}},{\"type\":\"object\",\"name\":\"Span\",\"id\":\"p3327\",\"attributes\":{\"location\":1721564100000.0,\"dimension\":\"height\",\"line_color\":\"lightgreen\",\"line_width\":2}},{\"type\":\"object\",\"name\":\"BoxAnnotation\",\"id\":\"p3328\",\"attributes\":{\"left\":1721564100000.0,\"right\":1721567700000.0,\"top\":{\"type\":\"object\",\"name\":\"Node\",\"id\":\"p3331\",\"attributes\":{\"target\":\"frame\",\"symbol\":\"top\"}},\"bottom\":{\"type\":\"object\",\"name\":\"Node\",\"id\":\"p3332\",\"attributes\":{\"target\":\"frame\",\"symbol\":\"bottom\"}},\"fill_color\":\"lightgreen\",\"fill_alpha\":0.3}},{\"type\":\"object\",\"name\":\"Label\",\"id\":\"p3333\",\"attributes\":{\"text\":\"654.52\",\"text_color\":\"black\",\"text_font_size\":\"10pt\",\"background_fill_color\":\"white\",\"background_fill_alpha\":0.7,\"x\":1721564100000.0,\"y\":110,\"angle\":90,\"angle_units\":\"deg\"}},{\"type\":\"object\",\"name\":\"Span\",\"id\":\"p3334\",\"attributes\":{\"location\":1721576400000.0,\"dimension\":\"height\",\"line_color\":\"lightgreen\",\"line_width\":2}},{\"type\":\"object\",\"name\":\"BoxAnnotation\",\"id\":\"p3335\",\"attributes\":{\"left\":1721576400000.0,\"right\":1721580000000.0,\"top\":{\"type\":\"object\",\"name\":\"Node\",\"id\":\"p3338\",\"attributes\":{\"target\":\"frame\",\"symbol\":\"top\"}},\"bottom\":{\"type\":\"object\",\"name\":\"Node\",\"id\":\"p3339\",\"attributes\":{\"target\":\"frame\",\"symbol\":\"bottom\"}},\"fill_color\":\"lightgreen\",\"fill_alpha\":0.3}},{\"type\":\"object\",\"name\":\"Label\",\"id\":\"p3340\",\"attributes\":{\"text\":\"295.00\",\"text_color\":\"black\",\"text_font_size\":\"10pt\",\"background_fill_color\":\"white\",\"background_fill_alpha\":0.7,\"x\":1721576400000.0,\"y\":110,\"angle\":90,\"angle_units\":\"deg\"}},{\"type\":\"object\",\"name\":\"Span\",\"id\":\"p3341\",\"attributes\":{\"location\":1721587200000.0,\"dimension\":\"height\",\"line_color\":\"lightgreen\",\"line_width\":2}},{\"type\":\"object\",\"name\":\"BoxAnnotation\",\"id\":\"p3342\",\"attributes\":{\"left\":1721587200000.0,\"right\":1721590800000.0,\"top\":{\"type\":\"object\",\"name\":\"Node\",\"id\":\"p3345\",\"attributes\":{\"target\":\"frame\",\"symbol\":\"top\"}},\"bottom\":{\"type\":\"object\",\"name\":\"Node\",\"id\":\"p3346\",\"attributes\":{\"target\":\"frame\",\"symbol\":\"bottom\"}},\"fill_color\":\"lightgreen\",\"fill_alpha\":0.3}},{\"type\":\"object\",\"name\":\"Label\",\"id\":\"p3347\",\"attributes\":{\"text\":\"686.00\",\"text_color\":\"black\",\"text_font_size\":\"10pt\",\"background_fill_color\":\"white\",\"background_fill_alpha\":0.7,\"x\":1721587200000.0,\"y\":110,\"angle\":90,\"angle_units\":\"deg\"}}]}}]}};\n",
              "  const render_items = [{\"docid\":\"ace6e366-9530-4643-a5cb-5bfef8e9e27c\",\"roots\":{\"p3265\":\"c9b1d8ae-bdde-4e6b-b38a-0b4efd597e53\"},\"root_ids\":[\"p3265\"]}];\n",
              "  void root.Bokeh.embed.embed_items_notebook(docs_json, render_items);\n",
              "  }\n",
              "  if (root.Bokeh !== undefined) {\n",
              "    embed_document(root);\n",
              "  } else {\n",
              "    let attempts = 0;\n",
              "    const timer = setInterval(function(root) {\n",
              "      if (root.Bokeh !== undefined) {\n",
              "        clearInterval(timer);\n",
              "        embed_document(root);\n",
              "      } else {\n",
              "        attempts++;\n",
              "        if (attempts > 100) {\n",
              "          clearInterval(timer);\n",
              "          console.log(\"Bokeh: ERROR: Unable to run BokehJS code because BokehJS library is missing\");\n",
              "        }\n",
              "      }\n",
              "    }, 10, root)\n",
              "  }\n",
              "})(window);"
            ],
            "application/vnd.bokehjs_exec.v0+json": ""
          },
          "metadata": {
            "application/vnd.bokehjs_exec.v0+json": {
              "id": "p3265"
            }
          }
        },
        {
          "output_type": "stream",
          "name": "stdout",
          "text": [
            "\n",
            "\n",
            "\n"
          ]
        },
        {
          "output_type": "display_data",
          "data": {
            "text/html": [
              "\n",
              "  <div id=\"e76ab5f5-4001-4427-b5b8-f1224261ee2b\" data-root-id=\"p3352\" style=\"display: contents;\"></div>\n"
            ]
          },
          "metadata": {}
        },
        {
          "output_type": "display_data",
          "data": {
            "application/javascript": [
              "(function(root) {\n",
              "  function embed_document(root) {\n",
              "  const docs_json = {\"98065bb9-6d29-4521-a7ab-dce43d21a1d9\":{\"version\":\"3.4.3\",\"title\":\"Bokeh Application\",\"roots\":[{\"type\":\"object\",\"name\":\"Figure\",\"id\":\"p3352\",\"attributes\":{\"height\":400,\"x_range\":{\"type\":\"object\",\"name\":\"DataRange1d\",\"id\":\"p3353\"},\"y_range\":{\"type\":\"object\",\"name\":\"DataRange1d\",\"id\":\"p3354\"},\"x_scale\":{\"type\":\"object\",\"name\":\"LinearScale\",\"id\":\"p3361\"},\"y_scale\":{\"type\":\"object\",\"name\":\"LinearScale\",\"id\":\"p3362\"},\"title\":{\"type\":\"object\",\"name\":\"Title\",\"id\":\"p3359\",\"attributes\":{\"text\":\"Day: 2024-07-22\",\"text_font_size\":\"20pt\",\"align\":\"center\"}},\"renderers\":[{\"type\":\"object\",\"name\":\"GlyphRenderer\",\"id\":\"p3394\",\"attributes\":{\"data_source\":{\"type\":\"object\",\"name\":\"ColumnDataSource\",\"id\":\"p3388\",\"attributes\":{\"selected\":{\"type\":\"object\",\"name\":\"Selection\",\"id\":\"p3389\",\"attributes\":{\"indices\":[],\"line_indices\":[]}},\"selection_policy\":{\"type\":\"object\",\"name\":\"UnionRenderers\",\"id\":\"p3390\"},\"data\":{\"type\":\"map\",\"entries\":[[\"x\",{\"type\":\"ndarray\",\"array\":{\"type\":\"bytes\",\"data\":\"AAD1dnwNeUIAAK9SfQ15QgAAaS5+DXlCAAAjCn8NeUIAAN3lfw15QgAAl8GADXlCAABRnYENeUIAAAt5gg15QgAAxVSDDXlCAAB/MIQNeUIAADkMhQ15QgAA8+eFDXlCAACtw4YNeUIAAGefhw15QgAAIXuIDXlCAADbVokNeUIAAJUyig15QgAATw6LDXlCAAAJ6osNeUIAAMPFjA15QgAAfaGNDXlCAAA3fY4NeUIAAPFYjw15QgAAqzSQDXlCAABlEJENeUIAAB/skQ15QgAA2ceSDXlCAACTo5MNeUIAAE1/lA15QgAAg/OUDXlCAAA9z5UNeUIAAPeqlg15QgAAsYaXDXlCAABrYpgNeUIAACU+mQ15QgAA3xmaDXlCAADDX50NeUIAAH07ng15QgAANxefDXlCAADx8p8NeUIAAKvOoA15QgAAZaqhDXlCAAAfhqINeUIAANlhow15QgAAkz2kDXlCAABNGaUNeUIAAAf1pQ15QgAAwdCmDXlCAAB7rKcNeUIAADWIqA15QgAA72OpDXlCAACpP6oNeUIAAGMbqw15QgAAHferDXlCAADX0qwNeUIAAJGurQ15QgAAS4quDXlCAAAFZq8NeUIAAL9BsA15QgAAeR2xDXlCAAAz+bENeUIAAO3Usg15QgAAp7CzDXlCAABhjLQNeUIAABtotQ15QgAA1UO2DXlCAACPH7cNeUIAAEn7tw15QgAAee24DXlCAAAzybkNeUIAAO2kug15QgAAp4C7DXlCAABhXLwNeUIAgFQkvQ15QgCADgC+DXlCAIDI274NeUIAgIK3vw15QgCAPJPADXlCAID2bsENeUIAgLBKwg15QgCAaibDDXlCAIAkAsQNeUIAgN7dxA15QgCAmLnFDXlCAIBSlcYNeUIAgAxxxw15QgCAxkzIDXlCAICAKMkNeUIAAHeryg15QgAAMYfLDXlCAADrYswNeUIAAKU+zQ15QgAAXxrODXlC\"},\"shape\":[93],\"dtype\":\"float64\",\"order\":\"little\"}],[\"y\",{\"type\":\"ndarray\",\"array\":{\"type\":\"bytes\",\"data\":\"AAAAAACAV0AAAAAAAEBXQAAAAAAAgFZAAAAAAACAV0AAAAAAAABWQAAAAAAAQFpAAAAAAAAAWkAAAAAAAABaQAAAAAAAwFlAAAAAAAAAWEAAAAAAAABYQAAAAAAAAFhAAAAAAAAAWEAAAAAAAABYQAAAAAAAgFhAAAAAAADAWUAAAAAAAEBaQAAAAAAAgFlAAAAAAACAV0AAAAAAAABaQAAAAAAAgFdAAAAAAAAAWUAAAAAAAMBYQAAAAAAAgFhAAAAAAACAWEAAAAAAAIBbQAAAAAAAQFlAAAAAAAAAWEAAAAAAAMBYQAAAAAAAQFpAAAAAAABAXEAAAAAAAIBbQAAAAAAAAFxAAAAAAABAXkAAAAAAAABeQAAAAAAAQFxAAAAAAABAW0AAAAAAAMBaQAAAAAAAQFxAAAAAAAAAW0AAAAAAAEBaQAAAAAAAgFpAAAAAAABAW0AAAAAAAMBaQAAAAAAAgFpAAAAAAAAAW0AAAAAAAABaQAAAAAAAgFlAAAAAAABAWkAAAAAAAIBeQAAAAAAAgF5AAAAAAADAWkAAAAAAAMBYQAAAAAAAQFdAAAAAAAAAWEAAAAAAAABZQAAAAAAAgFlAAAAAAACAWUAAAAAAAABaQAAAAAAAgFpAAAAAAACAWUAAAAAAAEBZQAAAAAAAwFhAAAAAAABAWEAAAAAAAMBYQAAAAAAAAFtAAAAAAAAAYEAAAAAAAABgQAAAAAAAoGJAAAAAAAAgYUAAAAAAAEBdQAAAAAAAgFlAAAAAAACAWkAAAAAAAIBaQAAAAAAAgFpAAAAAAABAXEAAAAAAAABdQAAAAAAAAFtAAAAAAAAAWUAAAAAAAIBYQAAAAAAAwFdAAAAAAADAWEAAAAAAAEBYQAAAAAAAwFhAAAAAAABAWEAAAAAAAIBXQAAAAAAAwFdAAAAAAABAWEAAAAAAAABYQAAAAAAAAFhAAAAAAACAWUAAAAAAAEBYQAAAAAAAQFlA\"},\"shape\":[93],\"dtype\":\"float64\",\"order\":\"little\"}]]}}},\"view\":{\"type\":\"object\",\"name\":\"CDSView\",\"id\":\"p3395\",\"attributes\":{\"filter\":{\"type\":\"object\",\"name\":\"AllIndices\",\"id\":\"p3396\"}}},\"glyph\":{\"type\":\"object\",\"name\":\"Line\",\"id\":\"p3391\",\"attributes\":{\"x\":{\"type\":\"field\",\"field\":\"x\"},\"y\":{\"type\":\"field\",\"field\":\"y\"},\"line_color\":\"gray\",\"line_alpha\":0.5,\"line_width\":2}},\"nonselection_glyph\":{\"type\":\"object\",\"name\":\"Line\",\"id\":\"p3392\",\"attributes\":{\"x\":{\"type\":\"field\",\"field\":\"x\"},\"y\":{\"type\":\"field\",\"field\":\"y\"},\"line_color\":\"gray\",\"line_alpha\":0.1,\"line_width\":2}},\"muted_glyph\":{\"type\":\"object\",\"name\":\"Line\",\"id\":\"p3393\",\"attributes\":{\"x\":{\"type\":\"field\",\"field\":\"x\"},\"y\":{\"type\":\"field\",\"field\":\"y\"},\"line_color\":\"gray\",\"line_alpha\":0.2,\"line_width\":2}}}},{\"type\":\"object\",\"name\":\"GlyphRenderer\",\"id\":\"p3404\",\"attributes\":{\"data_source\":{\"type\":\"object\",\"name\":\"ColumnDataSource\",\"id\":\"p3398\",\"attributes\":{\"selected\":{\"type\":\"object\",\"name\":\"Selection\",\"id\":\"p3399\",\"attributes\":{\"indices\":[],\"line_indices\":[]}},\"selection_policy\":{\"type\":\"object\",\"name\":\"UnionRenderers\",\"id\":\"p3400\"},\"data\":{\"type\":\"map\",\"entries\":[[\"x\",{\"type\":\"ndarray\",\"array\":{\"type\":\"bytes\",\"data\":\"AAB57bgNeUIAADWIqA15QgAAa2KYDXlCAACVMooNeUI=\"},\"shape\":[4],\"dtype\":\"float64\",\"order\":\"little\"}],[\"y\",{\"type\":\"ndarray\",\"array\":{\"type\":\"bytes\",\"data\":\"AAAAAACgYkAAAAAAAIBeQAAAAAAAQF5AAAAAAABAWkA=\"},\"shape\":[4],\"dtype\":\"float64\",\"order\":\"little\"}]]}}},\"view\":{\"type\":\"object\",\"name\":\"CDSView\",\"id\":\"p3405\",\"attributes\":{\"filter\":{\"type\":\"object\",\"name\":\"AllIndices\",\"id\":\"p3406\"}}},\"glyph\":{\"type\":\"object\",\"name\":\"Scatter\",\"id\":\"p3401\",\"attributes\":{\"x\":{\"type\":\"field\",\"field\":\"x\"},\"y\":{\"type\":\"field\",\"field\":\"y\"},\"size\":{\"type\":\"value\",\"value\":6},\"line_color\":{\"type\":\"value\",\"value\":\"darkblue\"},\"line_alpha\":{\"type\":\"value\",\"value\":0.7},\"fill_color\":{\"type\":\"value\",\"value\":\"darkblue\"},\"fill_alpha\":{\"type\":\"value\",\"value\":0.7},\"hatch_color\":{\"type\":\"value\",\"value\":\"darkblue\"},\"hatch_alpha\":{\"type\":\"value\",\"value\":0.7}}},\"nonselection_glyph\":{\"type\":\"object\",\"name\":\"Scatter\",\"id\":\"p3402\",\"attributes\":{\"x\":{\"type\":\"field\",\"field\":\"x\"},\"y\":{\"type\":\"field\",\"field\":\"y\"},\"size\":{\"type\":\"value\",\"value\":6},\"line_color\":{\"type\":\"value\",\"value\":\"darkblue\"},\"line_alpha\":{\"type\":\"value\",\"value\":0.1},\"fill_color\":{\"type\":\"value\",\"value\":\"darkblue\"},\"fill_alpha\":{\"type\":\"value\",\"value\":0.1},\"hatch_color\":{\"type\":\"value\",\"value\":\"darkblue\"},\"hatch_alpha\":{\"type\":\"value\",\"value\":0.1}}},\"muted_glyph\":{\"type\":\"object\",\"name\":\"Scatter\",\"id\":\"p3403\",\"attributes\":{\"x\":{\"type\":\"field\",\"field\":\"x\"},\"y\":{\"type\":\"field\",\"field\":\"y\"},\"size\":{\"type\":\"value\",\"value\":6},\"line_color\":{\"type\":\"value\",\"value\":\"darkblue\"},\"line_alpha\":{\"type\":\"value\",\"value\":0.2},\"fill_color\":{\"type\":\"value\",\"value\":\"darkblue\"},\"fill_alpha\":{\"type\":\"value\",\"value\":0.2},\"hatch_color\":{\"type\":\"value\",\"value\":\"darkblue\"},\"hatch_alpha\":{\"type\":\"value\",\"value\":0.2}}}}}],\"toolbar\":{\"type\":\"object\",\"name\":\"Toolbar\",\"id\":\"p3360\",\"attributes\":{\"tools\":[{\"type\":\"object\",\"name\":\"PanTool\",\"id\":\"p3385\"},{\"type\":\"object\",\"name\":\"WheelZoomTool\",\"id\":\"p3386\",\"attributes\":{\"dimensions\":\"width\",\"renderers\":\"auto\"}},{\"type\":\"object\",\"name\":\"WheelZoomTool\",\"id\":\"p3387\",\"attributes\":{\"dimensions\":\"height\",\"renderers\":\"auto\"}}],\"active_scroll\":{\"id\":\"p3386\"}}},\"left\":[{\"type\":\"object\",\"name\":\"LinearAxis\",\"id\":\"p3380\",\"attributes\":{\"ticker\":{\"type\":\"object\",\"name\":\"BasicTicker\",\"id\":\"p3381\",\"attributes\":{\"mantissas\":[1,2,5]}},\"formatter\":{\"type\":\"object\",\"name\":\"BasicTickFormatter\",\"id\":\"p3382\"},\"axis_label\":\"Glucose\",\"major_label_policy\":{\"type\":\"object\",\"name\":\"AllLabels\",\"id\":\"p3383\"}}}],\"above\":[{\"type\":\"object\",\"name\":\"DatetimeAxis\",\"id\":\"p3363\",\"attributes\":{\"ticker\":{\"type\":\"object\",\"name\":\"DatetimeTicker\",\"id\":\"p3364\",\"attributes\":{\"num_minor_ticks\":5,\"tickers\":[{\"type\":\"object\",\"name\":\"AdaptiveTicker\",\"id\":\"p3365\",\"attributes\":{\"num_minor_ticks\":0,\"mantissas\":[1,2,5],\"max_interval\":500.0}},{\"type\":\"object\",\"name\":\"AdaptiveTicker\",\"id\":\"p3366\",\"attributes\":{\"num_minor_ticks\":0,\"base\":60,\"mantissas\":[1,2,5,10,15,20,30],\"min_interval\":1000.0,\"max_interval\":1800000.0}},{\"type\":\"object\",\"name\":\"AdaptiveTicker\",\"id\":\"p3367\",\"attributes\":{\"num_minor_ticks\":0,\"base\":24,\"mantissas\":[1,2,4,6,8,12],\"min_interval\":3600000.0,\"max_interval\":43200000.0}},{\"type\":\"object\",\"name\":\"DaysTicker\",\"id\":\"p3368\",\"attributes\":{\"days\":[1,2,3,4,5,6,7,8,9,10,11,12,13,14,15,16,17,18,19,20,21,22,23,24,25,26,27,28,29,30,31]}},{\"type\":\"object\",\"name\":\"DaysTicker\",\"id\":\"p3369\",\"attributes\":{\"days\":[1,4,7,10,13,16,19,22,25,28]}},{\"type\":\"object\",\"name\":\"DaysTicker\",\"id\":\"p3370\",\"attributes\":{\"days\":[1,8,15,22]}},{\"type\":\"object\",\"name\":\"DaysTicker\",\"id\":\"p3371\",\"attributes\":{\"days\":[1,15]}},{\"type\":\"object\",\"name\":\"MonthsTicker\",\"id\":\"p3372\",\"attributes\":{\"months\":[0,1,2,3,4,5,6,7,8,9,10,11]}},{\"type\":\"object\",\"name\":\"MonthsTicker\",\"id\":\"p3373\",\"attributes\":{\"months\":[0,2,4,6,8,10]}},{\"type\":\"object\",\"name\":\"MonthsTicker\",\"id\":\"p3374\",\"attributes\":{\"months\":[0,4,8]}},{\"type\":\"object\",\"name\":\"MonthsTicker\",\"id\":\"p3375\",\"attributes\":{\"months\":[0,6]}},{\"type\":\"object\",\"name\":\"YearsTicker\",\"id\":\"p3376\"}]}},\"formatter\":{\"type\":\"object\",\"name\":\"DatetimeTickFormatter\",\"id\":\"p3377\"},\"axis_label\":\"Time\",\"major_label_policy\":{\"type\":\"object\",\"name\":\"AllLabels\",\"id\":\"p3378\"}}}],\"center\":[{\"type\":\"object\",\"name\":\"Grid\",\"id\":\"p3379\",\"attributes\":{\"axis\":{\"id\":\"p3363\"}}},{\"type\":\"object\",\"name\":\"Grid\",\"id\":\"p3384\",\"attributes\":{\"dimension\":1,\"axis\":{\"id\":\"p3380\"}}},{\"type\":\"object\",\"name\":\"Span\",\"id\":\"p3397\",\"attributes\":{\"location\":104.05376344086021,\"line_color\":\"red\"}},{\"type\":\"object\",\"name\":\"Span\",\"id\":\"p3407\",\"attributes\":{\"location\":1721650500000.0,\"dimension\":\"height\",\"line_color\":\"lightgreen\",\"line_width\":2}},{\"type\":\"object\",\"name\":\"BoxAnnotation\",\"id\":\"p3408\",\"attributes\":{\"left\":1721650500000.0,\"right\":1721654100000.0,\"top\":{\"type\":\"object\",\"name\":\"Node\",\"id\":\"p3411\",\"attributes\":{\"target\":\"frame\",\"symbol\":\"top\"}},\"bottom\":{\"type\":\"object\",\"name\":\"Node\",\"id\":\"p3412\",\"attributes\":{\"target\":\"frame\",\"symbol\":\"bottom\"}},\"fill_color\":\"lightgreen\",\"fill_alpha\":0.3}},{\"type\":\"object\",\"name\":\"Label\",\"id\":\"p3413\",\"attributes\":{\"text\":\"632.00\",\"text_color\":\"black\",\"text_font_size\":\"10pt\",\"background_fill_color\":\"white\",\"background_fill_alpha\":0.7,\"x\":1721650500000.0,\"y\":110,\"angle\":90,\"angle_units\":\"deg\"}},{\"type\":\"object\",\"name\":\"Span\",\"id\":\"p3414\",\"attributes\":{\"location\":1721665800000.0,\"dimension\":\"height\",\"line_color\":\"lightgreen\",\"line_width\":2}},{\"type\":\"object\",\"name\":\"BoxAnnotation\",\"id\":\"p3415\",\"attributes\":{\"left\":1721665800000.0,\"right\":1721669400000.0,\"top\":{\"type\":\"object\",\"name\":\"Node\",\"id\":\"p3418\",\"attributes\":{\"target\":\"frame\",\"symbol\":\"top\"}},\"bottom\":{\"type\":\"object\",\"name\":\"Node\",\"id\":\"p3419\",\"attributes\":{\"target\":\"frame\",\"symbol\":\"bottom\"}},\"fill_color\":\"lightgreen\",\"fill_alpha\":0.3}},{\"type\":\"object\",\"name\":\"Label\",\"id\":\"p3420\",\"attributes\":{\"text\":\"431.74\",\"text_color\":\"black\",\"text_font_size\":\"10pt\",\"background_fill_color\":\"white\",\"background_fill_alpha\":0.7,\"x\":1721665800000.0,\"y\":110,\"angle\":90,\"angle_units\":\"deg\"}},{\"type\":\"object\",\"name\":\"Span\",\"id\":\"p3421\",\"attributes\":{\"location\":1721674440000.0,\"dimension\":\"height\",\"line_color\":\"lightgreen\",\"line_width\":2}},{\"type\":\"object\",\"name\":\"BoxAnnotation\",\"id\":\"p3422\",\"attributes\":{\"left\":1721674440000.0,\"right\":1721678040000.0,\"top\":{\"type\":\"object\",\"name\":\"Node\",\"id\":\"p3425\",\"attributes\":{\"target\":\"frame\",\"symbol\":\"top\"}},\"bottom\":{\"type\":\"object\",\"name\":\"Node\",\"id\":\"p3426\",\"attributes\":{\"target\":\"frame\",\"symbol\":\"bottom\"}},\"fill_color\":\"lightgreen\",\"fill_alpha\":0.3}},{\"type\":\"object\",\"name\":\"Label\",\"id\":\"p3427\",\"attributes\":{\"text\":\"847.00\",\"text_color\":\"black\",\"text_font_size\":\"10pt\",\"background_fill_color\":\"white\",\"background_fill_alpha\":0.7,\"x\":1721674440000.0,\"y\":110,\"angle\":90,\"angle_units\":\"deg\"}}]}}]}};\n",
              "  const render_items = [{\"docid\":\"98065bb9-6d29-4521-a7ab-dce43d21a1d9\",\"roots\":{\"p3352\":\"e76ab5f5-4001-4427-b5b8-f1224261ee2b\"},\"root_ids\":[\"p3352\"]}];\n",
              "  void root.Bokeh.embed.embed_items_notebook(docs_json, render_items);\n",
              "  }\n",
              "  if (root.Bokeh !== undefined) {\n",
              "    embed_document(root);\n",
              "  } else {\n",
              "    let attempts = 0;\n",
              "    const timer = setInterval(function(root) {\n",
              "      if (root.Bokeh !== undefined) {\n",
              "        clearInterval(timer);\n",
              "        embed_document(root);\n",
              "      } else {\n",
              "        attempts++;\n",
              "        if (attempts > 100) {\n",
              "          clearInterval(timer);\n",
              "          console.log(\"Bokeh: ERROR: Unable to run BokehJS code because BokehJS library is missing\");\n",
              "        }\n",
              "      }\n",
              "    }, 10, root)\n",
              "  }\n",
              "})(window);"
            ],
            "application/vnd.bokehjs_exec.v0+json": ""
          },
          "metadata": {
            "application/vnd.bokehjs_exec.v0+json": {
              "id": "p3352"
            }
          }
        },
        {
          "output_type": "stream",
          "name": "stdout",
          "text": [
            "\n",
            "\n",
            "\n"
          ]
        },
        {
          "output_type": "display_data",
          "data": {
            "text/html": [
              "\n",
              "  <div id=\"b38a00dd-456c-4398-9e79-2460a1bc103f\" data-root-id=\"p3432\" style=\"display: contents;\"></div>\n"
            ]
          },
          "metadata": {}
        },
        {
          "output_type": "display_data",
          "data": {
            "application/javascript": [
              "(function(root) {\n",
              "  function embed_document(root) {\n",
              "  const docs_json = {\"d46a5034-7834-440c-8865-b259ccbfe9cc\":{\"version\":\"3.4.3\",\"title\":\"Bokeh Application\",\"roots\":[{\"type\":\"object\",\"name\":\"Figure\",\"id\":\"p3432\",\"attributes\":{\"height\":400,\"x_range\":{\"type\":\"object\",\"name\":\"DataRange1d\",\"id\":\"p3433\"},\"y_range\":{\"type\":\"object\",\"name\":\"DataRange1d\",\"id\":\"p3434\"},\"x_scale\":{\"type\":\"object\",\"name\":\"LinearScale\",\"id\":\"p3441\"},\"y_scale\":{\"type\":\"object\",\"name\":\"LinearScale\",\"id\":\"p3442\"},\"title\":{\"type\":\"object\",\"name\":\"Title\",\"id\":\"p3439\",\"attributes\":{\"text\":\"Day: 2024-07-23\",\"text_font_size\":\"20pt\",\"align\":\"center\"}},\"renderers\":[{\"type\":\"object\",\"name\":\"GlyphRenderer\",\"id\":\"p3474\",\"attributes\":{\"data_source\":{\"type\":\"object\",\"name\":\"ColumnDataSource\",\"id\":\"p3468\",\"attributes\":{\"selected\":{\"type\":\"object\",\"name\":\"Selection\",\"id\":\"p3469\",\"attributes\":{\"indices\":[],\"line_indices\":[]}},\"selection_policy\":{\"type\":\"object\",\"name\":\"UnionRenderers\",\"id\":\"p3470\"},\"data\":{\"type\":\"map\",\"entries\":[[\"x\",{\"type\":\"ndarray\",\"array\":{\"type\":\"bytes\",\"data\":\"AAAZ9s4NeUIAANPRzw15QgAAja3QDXlCAABHidENeUIAAAFl0g15QgAAu0DTDXlCAAB1HNQNeUIAAC/41A15QgAA6dPVDXlCAACjr9YNeUIAAF2L1w15QgAAF2fYDXlCAADRQtkNeUIAAIse2g15QgAARfraDXlCAAD/1dsNeUIAALmx3A15QgAAc43dDXlCAAAtad4NeUIAAOdE3w15QgAAoSDgDXlCAABb/OANeUIAABXY4Q15QgAAz7PiDXlCAACJj+MNeUIAAENr5A15QgAA/UblDXlCAIDIaOYNeUIAgIJE5w15QgCAPCDoDXlCAID2++gNeUIAgE2p6Q15QgCAB4XqDXlCAIDBYOsNeUIAgHs87A15QgCANRjtDXlCAIDv8+0NeUIAgKnP7g15QgCAY6vvDXlCAIAdh/ANeUIAgNdi8Q15QgCAkT7yDXlCAIBLGvMNeUIAgAX28w15QgCAv9H0DXlCAIB5rfUNeUIAgDOJ9g15QgCA7WT3DXlCAICnQPgNeUIAgGEc+Q15QgCAG/j5DXlCAIDV0/oNeUIAgI+v+w15QgCASYv8DXlCAIADZ/0NeUIAAEo2/g15QgAABBL/DXlCAAC+7f8NeUIAAHjJAA55QgAAMqUBDnlCAADsgAIOeUIAAKZcAw55QgAAYDgEDnlCAAAaFAUOeUIAANTvBQ55QgAAjssGDnlCAABIpwcOeUIAAAKDCA55QgAAvF4JDnlCAAB2OgoOeUIAADAWCw55QgAA6vELDnlCAACkzQwOeUIAAF6pDQ55QgAAGIUODnlCAADSYA8OeUIAAIw8EA55QgAARhgRDnlCAAAnrxEOeUIAAOGKEg55QgAAm2YTDnlCAABVQhQOeUIAAA8eFQ55QgAAyfkVDnlCAACD1RYOeUIAAD2xFw55QgAA94wYDnlCAACxaBkOeUIAABt7Gg55QgAA1VYbDnlCAACPMhwOeUIAAEkOHQ55QgAAVvEdDnlCAAAQzR4OeUIAAMqoHw55QgAAhIQgDnlC\"},\"shape\":[96],\"dtype\":\"float64\",\"order\":\"little\"}],[\"y\",{\"type\":\"ndarray\",\"array\":{\"type\":\"bytes\",\"data\":\"AAAAAADAWUAAAAAAAIBZQAAAAAAAgFlAAAAAAACAWEAAAAAAAABZQAAAAAAAwFhAAAAAAABAV0AAAAAAAEBXQAAAAAAAwFdAAAAAAAAAWUAAAAAAAIBYQAAAAAAAgFhAAAAAAABAWEAAAAAAAIBXQAAAAAAAQFhAAAAAAACAV0AAAAAAAIBYQAAAAAAAgFhAAAAAAACAWEAAAAAAAIBXQAAAAAAAAFhAAAAAAADAV0AAAAAAAIBYQAAAAAAAAFdAAAAAAAAAWEAAAAAAAABZQAAAAAAAgFpAAAAAAADAWkAAAAAAAABbQAAAAAAAgFpAAAAAAABAWEAAAAAAAABeQAAAAAAAAF1AAAAAAADAW0AAAAAAAEBcQAAAAAAAgFtAAAAAAADAW0AAAAAAAIBcQAAAAAAAgFtAAAAAAACAWkAAAAAAAABbQAAAAAAAQFtAAAAAAACAW0AAAAAAAIBaQAAAAAAAQFtAAAAAAABAWkAAAAAAAMBaQAAAAAAAgFpAAAAAAABAW0AAAAAAAIBaQAAAAAAAgFpAAAAAAABAWkAAAAAAAMBZQAAAAAAAAFpAAAAAAAAAXEAAAAAAAABeQAAAAAAAAFxAAAAAAABAWUAAAAAAAMBZQAAAAAAAwFlAAAAAAAAAXUAAAAAAAMBbQAAAAAAAgFtAAAAAAADAW0AAAAAAAEBaQAAAAAAAAFdAAAAAAAAAWUAAAAAAAIBZQAAAAAAAgFxAAAAAAACAX0AAAAAAAMBdQAAAAAAAQFhAAAAAAACAVkAAAAAAAEBXQAAAAAAAAFhAAAAAAADAV0AAAAAAAIBXQAAAAAAAAFlAAAAAAADAW0AAAAAAAIBgQAAAAAAAoGBAAAAAAAAAWUAAAAAAAMBYQAAAAAAAAFxAAAAAAADAW0AAAAAAAIBdQAAAAAAAwFxAAAAAAABAW0AAAAAAAABbQAAAAAAAwFtAAAAAAADAW0AAAAAAAEBaQAAAAAAAwFlAAAAAAADAWEAAAAAAAEBaQAAAAAAAgFpA\"},\"shape\":[96],\"dtype\":\"float64\",\"order\":\"little\"}]]}}},\"view\":{\"type\":\"object\",\"name\":\"CDSView\",\"id\":\"p3475\",\"attributes\":{\"filter\":{\"type\":\"object\",\"name\":\"AllIndices\",\"id\":\"p3476\"}}},\"glyph\":{\"type\":\"object\",\"name\":\"Line\",\"id\":\"p3471\",\"attributes\":{\"x\":{\"type\":\"field\",\"field\":\"x\"},\"y\":{\"type\":\"field\",\"field\":\"y\"},\"line_color\":\"gray\",\"line_alpha\":0.5,\"line_width\":2}},\"nonselection_glyph\":{\"type\":\"object\",\"name\":\"Line\",\"id\":\"p3472\",\"attributes\":{\"x\":{\"type\":\"field\",\"field\":\"x\"},\"y\":{\"type\":\"field\",\"field\":\"y\"},\"line_color\":\"gray\",\"line_alpha\":0.1,\"line_width\":2}},\"muted_glyph\":{\"type\":\"object\",\"name\":\"Line\",\"id\":\"p3473\",\"attributes\":{\"x\":{\"type\":\"field\",\"field\":\"x\"},\"y\":{\"type\":\"field\",\"field\":\"y\"},\"line_color\":\"gray\",\"line_alpha\":0.2,\"line_width\":2}}}},{\"type\":\"object\",\"name\":\"GlyphRenderer\",\"id\":\"p3484\",\"attributes\":{\"data_source\":{\"type\":\"object\",\"name\":\"ColumnDataSource\",\"id\":\"p3478\",\"attributes\":{\"selected\":{\"type\":\"object\",\"name\":\"Selection\",\"id\":\"p3479\",\"attributes\":{\"indices\":[],\"line_indices\":[]}},\"selection_policy\":{\"type\":\"object\",\"name\":\"UnionRenderers\",\"id\":\"p3480\"},\"data\":{\"type\":\"map\",\"entries\":[[\"x\",{\"type\":\"ndarray\",\"array\":{\"type\":\"bytes\",\"data\":\"AACbZhMOeUIAgE2p6Q15QgAASjb+DXlC\"},\"shape\":[3],\"dtype\":\"float64\",\"order\":\"little\"}],[\"y\",{\"type\":\"ndarray\",\"array\":{\"type\":\"bytes\",\"data\":\"AAAAAACgYEAAAAAAAABeQAAAAAAAAF5A\"},\"shape\":[3],\"dtype\":\"float64\",\"order\":\"little\"}]]}}},\"view\":{\"type\":\"object\",\"name\":\"CDSView\",\"id\":\"p3485\",\"attributes\":{\"filter\":{\"type\":\"object\",\"name\":\"AllIndices\",\"id\":\"p3486\"}}},\"glyph\":{\"type\":\"object\",\"name\":\"Scatter\",\"id\":\"p3481\",\"attributes\":{\"x\":{\"type\":\"field\",\"field\":\"x\"},\"y\":{\"type\":\"field\",\"field\":\"y\"},\"size\":{\"type\":\"value\",\"value\":6},\"line_color\":{\"type\":\"value\",\"value\":\"darkblue\"},\"line_alpha\":{\"type\":\"value\",\"value\":0.7},\"fill_color\":{\"type\":\"value\",\"value\":\"darkblue\"},\"fill_alpha\":{\"type\":\"value\",\"value\":0.7},\"hatch_color\":{\"type\":\"value\",\"value\":\"darkblue\"},\"hatch_alpha\":{\"type\":\"value\",\"value\":0.7}}},\"nonselection_glyph\":{\"type\":\"object\",\"name\":\"Scatter\",\"id\":\"p3482\",\"attributes\":{\"x\":{\"type\":\"field\",\"field\":\"x\"},\"y\":{\"type\":\"field\",\"field\":\"y\"},\"size\":{\"type\":\"value\",\"value\":6},\"line_color\":{\"type\":\"value\",\"value\":\"darkblue\"},\"line_alpha\":{\"type\":\"value\",\"value\":0.1},\"fill_color\":{\"type\":\"value\",\"value\":\"darkblue\"},\"fill_alpha\":{\"type\":\"value\",\"value\":0.1},\"hatch_color\":{\"type\":\"value\",\"value\":\"darkblue\"},\"hatch_alpha\":{\"type\":\"value\",\"value\":0.1}}},\"muted_glyph\":{\"type\":\"object\",\"name\":\"Scatter\",\"id\":\"p3483\",\"attributes\":{\"x\":{\"type\":\"field\",\"field\":\"x\"},\"y\":{\"type\":\"field\",\"field\":\"y\"},\"size\":{\"type\":\"value\",\"value\":6},\"line_color\":{\"type\":\"value\",\"value\":\"darkblue\"},\"line_alpha\":{\"type\":\"value\",\"value\":0.2},\"fill_color\":{\"type\":\"value\",\"value\":\"darkblue\"},\"fill_alpha\":{\"type\":\"value\",\"value\":0.2},\"hatch_color\":{\"type\":\"value\",\"value\":\"darkblue\"},\"hatch_alpha\":{\"type\":\"value\",\"value\":0.2}}}}}],\"toolbar\":{\"type\":\"object\",\"name\":\"Toolbar\",\"id\":\"p3440\",\"attributes\":{\"tools\":[{\"type\":\"object\",\"name\":\"PanTool\",\"id\":\"p3465\"},{\"type\":\"object\",\"name\":\"WheelZoomTool\",\"id\":\"p3466\",\"attributes\":{\"dimensions\":\"width\",\"renderers\":\"auto\"}},{\"type\":\"object\",\"name\":\"WheelZoomTool\",\"id\":\"p3467\",\"attributes\":{\"dimensions\":\"height\",\"renderers\":\"auto\"}}],\"active_scroll\":{\"id\":\"p3466\"}}},\"left\":[{\"type\":\"object\",\"name\":\"LinearAxis\",\"id\":\"p3460\",\"attributes\":{\"ticker\":{\"type\":\"object\",\"name\":\"BasicTicker\",\"id\":\"p3461\",\"attributes\":{\"mantissas\":[1,2,5]}},\"formatter\":{\"type\":\"object\",\"name\":\"BasicTickFormatter\",\"id\":\"p3462\"},\"axis_label\":\"Glucose\",\"major_label_policy\":{\"type\":\"object\",\"name\":\"AllLabels\",\"id\":\"p3463\"}}}],\"above\":[{\"type\":\"object\",\"name\":\"DatetimeAxis\",\"id\":\"p3443\",\"attributes\":{\"ticker\":{\"type\":\"object\",\"name\":\"DatetimeTicker\",\"id\":\"p3444\",\"attributes\":{\"num_minor_ticks\":5,\"tickers\":[{\"type\":\"object\",\"name\":\"AdaptiveTicker\",\"id\":\"p3445\",\"attributes\":{\"num_minor_ticks\":0,\"mantissas\":[1,2,5],\"max_interval\":500.0}},{\"type\":\"object\",\"name\":\"AdaptiveTicker\",\"id\":\"p3446\",\"attributes\":{\"num_minor_ticks\":0,\"base\":60,\"mantissas\":[1,2,5,10,15,20,30],\"min_interval\":1000.0,\"max_interval\":1800000.0}},{\"type\":\"object\",\"name\":\"AdaptiveTicker\",\"id\":\"p3447\",\"attributes\":{\"num_minor_ticks\":0,\"base\":24,\"mantissas\":[1,2,4,6,8,12],\"min_interval\":3600000.0,\"max_interval\":43200000.0}},{\"type\":\"object\",\"name\":\"DaysTicker\",\"id\":\"p3448\",\"attributes\":{\"days\":[1,2,3,4,5,6,7,8,9,10,11,12,13,14,15,16,17,18,19,20,21,22,23,24,25,26,27,28,29,30,31]}},{\"type\":\"object\",\"name\":\"DaysTicker\",\"id\":\"p3449\",\"attributes\":{\"days\":[1,4,7,10,13,16,19,22,25,28]}},{\"type\":\"object\",\"name\":\"DaysTicker\",\"id\":\"p3450\",\"attributes\":{\"days\":[1,8,15,22]}},{\"type\":\"object\",\"name\":\"DaysTicker\",\"id\":\"p3451\",\"attributes\":{\"days\":[1,15]}},{\"type\":\"object\",\"name\":\"MonthsTicker\",\"id\":\"p3452\",\"attributes\":{\"months\":[0,1,2,3,4,5,6,7,8,9,10,11]}},{\"type\":\"object\",\"name\":\"MonthsTicker\",\"id\":\"p3453\",\"attributes\":{\"months\":[0,2,4,6,8,10]}},{\"type\":\"object\",\"name\":\"MonthsTicker\",\"id\":\"p3454\",\"attributes\":{\"months\":[0,4,8]}},{\"type\":\"object\",\"name\":\"MonthsTicker\",\"id\":\"p3455\",\"attributes\":{\"months\":[0,6]}},{\"type\":\"object\",\"name\":\"YearsTicker\",\"id\":\"p3456\"}]}},\"formatter\":{\"type\":\"object\",\"name\":\"DatetimeTickFormatter\",\"id\":\"p3457\"},\"axis_label\":\"Time\",\"major_label_policy\":{\"type\":\"object\",\"name\":\"AllLabels\",\"id\":\"p3458\"}}}],\"center\":[{\"type\":\"object\",\"name\":\"Grid\",\"id\":\"p3459\",\"attributes\":{\"axis\":{\"id\":\"p3443\"}}},{\"type\":\"object\",\"name\":\"Grid\",\"id\":\"p3464\",\"attributes\":{\"dimension\":1,\"axis\":{\"id\":\"p3460\"}}},{\"type\":\"object\",\"name\":\"Span\",\"id\":\"p3477\",\"attributes\":{\"location\":104.85416666666667,\"line_color\":\"red\"}},{\"type\":\"object\",\"name\":\"Span\",\"id\":\"p3487\",\"attributes\":{\"location\":1721738700000.0,\"dimension\":\"height\",\"line_color\":\"lightgreen\",\"line_width\":2}},{\"type\":\"object\",\"name\":\"BoxAnnotation\",\"id\":\"p3488\",\"attributes\":{\"left\":1721738700000.0,\"right\":1721742300000.0,\"top\":{\"type\":\"object\",\"name\":\"Node\",\"id\":\"p3491\",\"attributes\":{\"target\":\"frame\",\"symbol\":\"top\"}},\"bottom\":{\"type\":\"object\",\"name\":\"Node\",\"id\":\"p3492\",\"attributes\":{\"target\":\"frame\",\"symbol\":\"bottom\"}},\"fill_color\":\"lightgreen\",\"fill_alpha\":0.3}},{\"type\":\"object\",\"name\":\"Label\",\"id\":\"p3493\",\"attributes\":{\"text\":\"1097.96\",\"text_color\":\"black\",\"text_font_size\":\"10pt\",\"background_fill_color\":\"white\",\"background_fill_alpha\":0.7,\"x\":1721738700000.0,\"y\":110,\"angle\":90,\"angle_units\":\"deg\"}}]}}]}};\n",
              "  const render_items = [{\"docid\":\"d46a5034-7834-440c-8865-b259ccbfe9cc\",\"roots\":{\"p3432\":\"b38a00dd-456c-4398-9e79-2460a1bc103f\"},\"root_ids\":[\"p3432\"]}];\n",
              "  void root.Bokeh.embed.embed_items_notebook(docs_json, render_items);\n",
              "  }\n",
              "  if (root.Bokeh !== undefined) {\n",
              "    embed_document(root);\n",
              "  } else {\n",
              "    let attempts = 0;\n",
              "    const timer = setInterval(function(root) {\n",
              "      if (root.Bokeh !== undefined) {\n",
              "        clearInterval(timer);\n",
              "        embed_document(root);\n",
              "      } else {\n",
              "        attempts++;\n",
              "        if (attempts > 100) {\n",
              "          clearInterval(timer);\n",
              "          console.log(\"Bokeh: ERROR: Unable to run BokehJS code because BokehJS library is missing\");\n",
              "        }\n",
              "      }\n",
              "    }, 10, root)\n",
              "  }\n",
              "})(window);"
            ],
            "application/vnd.bokehjs_exec.v0+json": ""
          },
          "metadata": {
            "application/vnd.bokehjs_exec.v0+json": {
              "id": "p3432"
            }
          }
        },
        {
          "output_type": "stream",
          "name": "stdout",
          "text": [
            "\n",
            "\n",
            "\n"
          ]
        },
        {
          "output_type": "display_data",
          "data": {
            "text/html": [
              "\n",
              "  <div id=\"a8878703-0a2c-4202-bcc2-b7e5c3530dab\" data-root-id=\"p3498\" style=\"display: contents;\"></div>\n"
            ]
          },
          "metadata": {}
        },
        {
          "output_type": "display_data",
          "data": {
            "application/javascript": [
              "(function(root) {\n",
              "  function embed_document(root) {\n",
              "  const docs_json = {\"5dc1a19e-9c9d-4022-9b1b-83fa7aa11285\":{\"version\":\"3.4.3\",\"title\":\"Bokeh Application\",\"roots\":[{\"type\":\"object\",\"name\":\"Figure\",\"id\":\"p3498\",\"attributes\":{\"height\":400,\"x_range\":{\"type\":\"object\",\"name\":\"DataRange1d\",\"id\":\"p3499\"},\"y_range\":{\"type\":\"object\",\"name\":\"DataRange1d\",\"id\":\"p3500\"},\"x_scale\":{\"type\":\"object\",\"name\":\"LinearScale\",\"id\":\"p3507\"},\"y_scale\":{\"type\":\"object\",\"name\":\"LinearScale\",\"id\":\"p3508\"},\"title\":{\"type\":\"object\",\"name\":\"Title\",\"id\":\"p3505\",\"attributes\":{\"text\":\"Day: 2024-08-02\",\"text_font_size\":\"20pt\",\"align\":\"center\"}},\"renderers\":[{\"type\":\"object\",\"name\":\"GlyphRenderer\",\"id\":\"p3540\",\"attributes\":{\"data_source\":{\"type\":\"object\",\"name\":\"ColumnDataSource\",\"id\":\"p3534\",\"attributes\":{\"selected\":{\"type\":\"object\",\"name\":\"Selection\",\"id\":\"p3535\",\"attributes\":{\"indices\":[],\"line_indices\":[]}},\"selection_policy\":{\"type\":\"object\",\"name\":\"UnionRenderers\",\"id\":\"p3536\"},\"data\":{\"type\":\"map\",\"entries\":[[\"x\",{\"type\":\"ndarray\",\"array\":{\"type\":\"bytes\",\"data\":\"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\"},\"shape\":[288],\"dtype\":\"float64\",\"order\":\"little\"}],[\"y\",{\"type\":\"ndarray\",\"array\":{\"type\":\"bytes\",\"data\":\"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\"},\"shape\":[288],\"dtype\":\"float64\",\"order\":\"little\"}]]}}},\"view\":{\"type\":\"object\",\"name\":\"CDSView\",\"id\":\"p3541\",\"attributes\":{\"filter\":{\"type\":\"object\",\"name\":\"AllIndices\",\"id\":\"p3542\"}}},\"glyph\":{\"type\":\"object\",\"name\":\"Line\",\"id\":\"p3537\",\"attributes\":{\"x\":{\"type\":\"field\",\"field\":\"x\"},\"y\":{\"type\":\"field\",\"field\":\"y\"},\"line_color\":\"gray\",\"line_alpha\":0.5,\"line_width\":2}},\"nonselection_glyph\":{\"type\":\"object\",\"name\":\"Line\",\"id\":\"p3538\",\"attributes\":{\"x\":{\"type\":\"field\",\"field\":\"x\"},\"y\":{\"type\":\"field\",\"field\":\"y\"},\"line_color\":\"gray\",\"line_alpha\":0.1,\"line_width\":2}},\"muted_glyph\":{\"type\":\"object\",\"name\":\"Line\",\"id\":\"p3539\",\"attributes\":{\"x\":{\"type\":\"field\",\"field\":\"x\"},\"y\":{\"type\":\"field\",\"field\":\"y\"},\"line_color\":\"gray\",\"line_alpha\":0.2,\"line_width\":2}}}},{\"type\":\"object\",\"name\":\"GlyphRenderer\",\"id\":\"p3550\",\"attributes\":{\"data_source\":{\"type\":\"object\",\"name\":\"ColumnDataSource\",\"id\":\"p3544\",\"attributes\":{\"selected\":{\"type\":\"object\",\"name\":\"Selection\",\"id\":\"p3545\",\"attributes\":{\"indices\":[],\"line_indices\":[]}},\"selection_policy\":{\"type\":\"object\",\"name\":\"UnionRenderers\",\"id\":\"p3546\"},\"data\":{\"type\":\"map\",\"entries\":[[\"x\",{\"type\":\"ndarray\",\"array\":{\"type\":\"bytes\",\"data\":\"AAByIDQReUIAABBNSxF5QgAAfhkgEXlCAABMyQsReUIAANSSQRF5QgAAQl8WEXlCAAAqzhkReUIAAEwHVRF5Qg==\"},\"shape\":[8],\"dtype\":\"float64\",\"order\":\"little\"}],[\"y\",{\"type\":\"ndarray\",\"array\":{\"type\":\"bytes\",\"data\":\"AAAAAACAXkAAAAAAAEBgQAAAAAAAwFxAAAAAAADAWkAAAAAAAABaQAAAAAAAwFlAAAAAAADAWUAAAAAAAMBbQA==\"},\"shape\":[8],\"dtype\":\"float64\",\"order\":\"little\"}]]}}},\"view\":{\"type\":\"object\",\"name\":\"CDSView\",\"id\":\"p3551\",\"attributes\":{\"filter\":{\"type\":\"object\",\"name\":\"AllIndices\",\"id\":\"p3552\"}}},\"glyph\":{\"type\":\"object\",\"name\":\"Scatter\",\"id\":\"p3547\",\"attributes\":{\"x\":{\"type\":\"field\",\"field\":\"x\"},\"y\":{\"type\":\"field\",\"field\":\"y\"},\"size\":{\"type\":\"value\",\"value\":6},\"line_color\":{\"type\":\"value\",\"value\":\"darkblue\"},\"line_alpha\":{\"type\":\"value\",\"value\":0.7},\"fill_color\":{\"type\":\"value\",\"value\":\"darkblue\"},\"fill_alpha\":{\"type\":\"value\",\"value\":0.7},\"hatch_color\":{\"type\":\"value\",\"value\":\"darkblue\"},\"hatch_alpha\":{\"type\":\"value\",\"value\":0.7}}},\"nonselection_glyph\":{\"type\":\"object\",\"name\":\"Scatter\",\"id\":\"p3548\",\"attributes\":{\"x\":{\"type\":\"field\",\"field\":\"x\"},\"y\":{\"type\":\"field\",\"field\":\"y\"},\"size\":{\"type\":\"value\",\"value\":6},\"line_color\":{\"type\":\"value\",\"value\":\"darkblue\"},\"line_alpha\":{\"type\":\"value\",\"value\":0.1},\"fill_color\":{\"type\":\"value\",\"value\":\"darkblue\"},\"fill_alpha\":{\"type\":\"value\",\"value\":0.1},\"hatch_color\":{\"type\":\"value\",\"value\":\"darkblue\"},\"hatch_alpha\":{\"type\":\"value\",\"value\":0.1}}},\"muted_glyph\":{\"type\":\"object\",\"name\":\"Scatter\",\"id\":\"p3549\",\"attributes\":{\"x\":{\"type\":\"field\",\"field\":\"x\"},\"y\":{\"type\":\"field\",\"field\":\"y\"},\"size\":{\"type\":\"value\",\"value\":6},\"line_color\":{\"type\":\"value\",\"value\":\"darkblue\"},\"line_alpha\":{\"type\":\"value\",\"value\":0.2},\"fill_color\":{\"type\":\"value\",\"value\":\"darkblue\"},\"fill_alpha\":{\"type\":\"value\",\"value\":0.2},\"hatch_color\":{\"type\":\"value\",\"value\":\"darkblue\"},\"hatch_alpha\":{\"type\":\"value\",\"value\":0.2}}}}}],\"toolbar\":{\"type\":\"object\",\"name\":\"Toolbar\",\"id\":\"p3506\",\"attributes\":{\"tools\":[{\"type\":\"object\",\"name\":\"PanTool\",\"id\":\"p3531\"},{\"type\":\"object\",\"name\":\"WheelZoomTool\",\"id\":\"p3532\",\"attributes\":{\"dimensions\":\"width\",\"renderers\":\"auto\"}},{\"type\":\"object\",\"name\":\"WheelZoomTool\",\"id\":\"p3533\",\"attributes\":{\"dimensions\":\"height\",\"renderers\":\"auto\"}}],\"active_scroll\":{\"id\":\"p3532\"}}},\"left\":[{\"type\":\"object\",\"name\":\"LinearAxis\",\"id\":\"p3526\",\"attributes\":{\"ticker\":{\"type\":\"object\",\"name\":\"BasicTicker\",\"id\":\"p3527\",\"attributes\":{\"mantissas\":[1,2,5]}},\"formatter\":{\"type\":\"object\",\"name\":\"BasicTickFormatter\",\"id\":\"p3528\"},\"axis_label\":\"Glucose\",\"major_label_policy\":{\"type\":\"object\",\"name\":\"AllLabels\",\"id\":\"p3529\"}}}],\"above\":[{\"type\":\"object\",\"name\":\"DatetimeAxis\",\"id\":\"p3509\",\"attributes\":{\"ticker\":{\"type\":\"object\",\"name\":\"DatetimeTicker\",\"id\":\"p3510\",\"attributes\":{\"num_minor_ticks\":5,\"tickers\":[{\"type\":\"object\",\"name\":\"AdaptiveTicker\",\"id\":\"p3511\",\"attributes\":{\"num_minor_ticks\":0,\"mantissas\":[1,2,5],\"max_interval\":500.0}},{\"type\":\"object\",\"name\":\"AdaptiveTicker\",\"id\":\"p3512\",\"attributes\":{\"num_minor_ticks\":0,\"base\":60,\"mantissas\":[1,2,5,10,15,20,30],\"min_interval\":1000.0,\"max_interval\":1800000.0}},{\"type\":\"object\",\"name\":\"AdaptiveTicker\",\"id\":\"p3513\",\"attributes\":{\"num_minor_ticks\":0,\"base\":24,\"mantissas\":[1,2,4,6,8,12],\"min_interval\":3600000.0,\"max_interval\":43200000.0}},{\"type\":\"object\",\"name\":\"DaysTicker\",\"id\":\"p3514\",\"attributes\":{\"days\":[1,2,3,4,5,6,7,8,9,10,11,12,13,14,15,16,17,18,19,20,21,22,23,24,25,26,27,28,29,30,31]}},{\"type\":\"object\",\"name\":\"DaysTicker\",\"id\":\"p3515\",\"attributes\":{\"days\":[1,4,7,10,13,16,19,22,25,28]}},{\"type\":\"object\",\"name\":\"DaysTicker\",\"id\":\"p3516\",\"attributes\":{\"days\":[1,8,15,22]}},{\"type\":\"object\",\"name\":\"DaysTicker\",\"id\":\"p3517\",\"attributes\":{\"days\":[1,15]}},{\"type\":\"object\",\"name\":\"MonthsTicker\",\"id\":\"p3518\",\"attributes\":{\"months\":[0,1,2,3,4,5,6,7,8,9,10,11]}},{\"type\":\"object\",\"name\":\"MonthsTicker\",\"id\":\"p3519\",\"attributes\":{\"months\":[0,2,4,6,8,10]}},{\"type\":\"object\",\"name\":\"MonthsTicker\",\"id\":\"p3520\",\"attributes\":{\"months\":[0,4,8]}},{\"type\":\"object\",\"name\":\"MonthsTicker\",\"id\":\"p3521\",\"attributes\":{\"months\":[0,6]}},{\"type\":\"object\",\"name\":\"YearsTicker\",\"id\":\"p3522\"}]}},\"formatter\":{\"type\":\"object\",\"name\":\"DatetimeTickFormatter\",\"id\":\"p3523\"},\"axis_label\":\"Time\",\"major_label_policy\":{\"type\":\"object\",\"name\":\"AllLabels\",\"id\":\"p3524\"}}}],\"center\":[{\"type\":\"object\",\"name\":\"Grid\",\"id\":\"p3525\",\"attributes\":{\"axis\":{\"id\":\"p3509\"}}},{\"type\":\"object\",\"name\":\"Grid\",\"id\":\"p3530\",\"attributes\":{\"dimension\":1,\"axis\":{\"id\":\"p3526\"}}},{\"type\":\"object\",\"name\":\"Span\",\"id\":\"p3543\",\"attributes\":{\"location\":100.38194444444444,\"line_color\":\"red\"}},{\"type\":\"object\",\"name\":\"Span\",\"id\":\"p3553\",\"attributes\":{\"location\":1722585000000.0,\"dimension\":\"height\",\"line_color\":\"lightgreen\",\"line_width\":2}},{\"type\":\"object\",\"name\":\"BoxAnnotation\",\"id\":\"p3554\",\"attributes\":{\"left\":1722585000000.0,\"right\":1722588600000.0,\"top\":{\"type\":\"object\",\"name\":\"Node\",\"id\":\"p3557\",\"attributes\":{\"target\":\"frame\",\"symbol\":\"top\"}},\"bottom\":{\"type\":\"object\",\"name\":\"Node\",\"id\":\"p3558\",\"attributes\":{\"target\":\"frame\",\"symbol\":\"bottom\"}},\"fill_color\":\"lightgreen\",\"fill_alpha\":0.3}},{\"type\":\"object\",\"name\":\"Label\",\"id\":\"p3559\",\"attributes\":{\"text\":\"299.00\",\"text_color\":\"black\",\"text_font_size\":\"10pt\",\"background_fill_color\":\"white\",\"background_fill_alpha\":0.7,\"x\":1722585000000.0,\"y\":110,\"angle\":90,\"angle_units\":\"deg\"}},{\"type\":\"object\",\"name\":\"Span\",\"id\":\"p3560\",\"attributes\":{\"location\":1722602891000.0,\"dimension\":\"height\",\"line_color\":\"lightgreen\",\"line_width\":2}},{\"type\":\"object\",\"name\":\"BoxAnnotation\",\"id\":\"p3561\",\"attributes\":{\"left\":1722602891000.0,\"right\":1722606491000.0,\"top\":{\"type\":\"object\",\"name\":\"Node\",\"id\":\"p3564\",\"attributes\":{\"target\":\"frame\",\"symbol\":\"top\"}},\"bottom\":{\"type\":\"object\",\"name\":\"Node\",\"id\":\"p3565\",\"attributes\":{\"target\":\"frame\",\"symbol\":\"bottom\"}},\"fill_color\":\"lightgreen\",\"fill_alpha\":0.3}},{\"type\":\"object\",\"name\":\"Label\",\"id\":\"p3566\",\"attributes\":{\"text\":\"726.70\",\"text_color\":\"black\",\"text_font_size\":\"10pt\",\"background_fill_color\":\"white\",\"background_fill_alpha\":0.7,\"x\":1722602891000.0,\"y\":110,\"angle\":90,\"angle_units\":\"deg\"}},{\"type\":\"object\",\"name\":\"Span\",\"id\":\"p3567\",\"attributes\":{\"location\":1722625989000.0,\"dimension\":\"height\",\"line_color\":\"lightgreen\",\"line_width\":2}},{\"type\":\"object\",\"name\":\"BoxAnnotation\",\"id\":\"p3568\",\"attributes\":{\"left\":1722625989000.0,\"right\":1722629589000.0,\"top\":{\"type\":\"object\",\"name\":\"Node\",\"id\":\"p3571\",\"attributes\":{\"target\":\"frame\",\"symbol\":\"top\"}},\"bottom\":{\"type\":\"object\",\"name\":\"Node\",\"id\":\"p3572\",\"attributes\":{\"target\":\"frame\",\"symbol\":\"bottom\"}},\"fill_color\":\"lightgreen\",\"fill_alpha\":0.3}},{\"type\":\"object\",\"name\":\"Label\",\"id\":\"p3573\",\"attributes\":{\"text\":\"721.00\",\"text_color\":\"black\",\"text_font_size\":\"10pt\",\"background_fill_color\":\"white\",\"background_fill_alpha\":0.7,\"x\":1722625989000.0,\"y\":110,\"angle\":90,\"angle_units\":\"deg\"}}]}}]}};\n",
              "  const render_items = [{\"docid\":\"5dc1a19e-9c9d-4022-9b1b-83fa7aa11285\",\"roots\":{\"p3498\":\"a8878703-0a2c-4202-bcc2-b7e5c3530dab\"},\"root_ids\":[\"p3498\"]}];\n",
              "  void root.Bokeh.embed.embed_items_notebook(docs_json, render_items);\n",
              "  }\n",
              "  if (root.Bokeh !== undefined) {\n",
              "    embed_document(root);\n",
              "  } else {\n",
              "    let attempts = 0;\n",
              "    const timer = setInterval(function(root) {\n",
              "      if (root.Bokeh !== undefined) {\n",
              "        clearInterval(timer);\n",
              "        embed_document(root);\n",
              "      } else {\n",
              "        attempts++;\n",
              "        if (attempts > 100) {\n",
              "          clearInterval(timer);\n",
              "          console.log(\"Bokeh: ERROR: Unable to run BokehJS code because BokehJS library is missing\");\n",
              "        }\n",
              "      }\n",
              "    }, 10, root)\n",
              "  }\n",
              "})(window);"
            ],
            "application/vnd.bokehjs_exec.v0+json": ""
          },
          "metadata": {
            "application/vnd.bokehjs_exec.v0+json": {
              "id": "p3498"
            }
          }
        },
        {
          "output_type": "stream",
          "name": "stdout",
          "text": [
            "\n",
            "\n",
            "\n"
          ]
        },
        {
          "output_type": "display_data",
          "data": {
            "text/html": [
              "\n",
              "  <div id=\"d10421b0-051a-4065-8fc4-a5c65462253f\" data-root-id=\"p3578\" style=\"display: contents;\"></div>\n"
            ]
          },
          "metadata": {}
        },
        {
          "output_type": "display_data",
          "data": {
            "application/javascript": [
              "(function(root) {\n",
              "  function embed_document(root) {\n",
              "  const docs_json = {\"6804b92a-fe55-4fdf-a656-ea97c2dfac55\":{\"version\":\"3.4.3\",\"title\":\"Bokeh Application\",\"roots\":[{\"type\":\"object\",\"name\":\"Figure\",\"id\":\"p3578\",\"attributes\":{\"height\":400,\"x_range\":{\"type\":\"object\",\"name\":\"DataRange1d\",\"id\":\"p3579\"},\"y_range\":{\"type\":\"object\",\"name\":\"DataRange1d\",\"id\":\"p3580\"},\"x_scale\":{\"type\":\"object\",\"name\":\"LinearScale\",\"id\":\"p3587\"},\"y_scale\":{\"type\":\"object\",\"name\":\"LinearScale\",\"id\":\"p3588\"},\"title\":{\"type\":\"object\",\"name\":\"Title\",\"id\":\"p3585\",\"attributes\":{\"text\":\"Day: 2024-08-04\",\"text_font_size\":\"20pt\",\"align\":\"center\"}},\"renderers\":[{\"type\":\"object\",\"name\":\"GlyphRenderer\",\"id\":\"p3620\",\"attributes\":{\"data_source\":{\"type\":\"object\",\"name\":\"ColumnDataSource\",\"id\":\"p3614\",\"attributes\":{\"selected\":{\"type\":\"object\",\"name\":\"Selection\",\"id\":\"p3615\",\"attributes\":{\"indices\":[],\"line_indices\":[]}},\"selection_policy\":{\"type\":\"object\",\"name\":\"UnionRenderers\",\"id\":\"p3616\"},\"data\":{\"type\":\"map\",\"entries\":[[\"x\",{\"type\":\"ndarray\",\"array\":{\"type\":\"bytes\",\"data\":\"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\"},\"shape\":[288],\"dtype\":\"float64\",\"order\":\"little\"}],[\"y\",{\"type\":\"ndarray\",\"array\":{\"type\":\"bytes\",\"data\":\"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\"},\"shape\":[288],\"dtype\":\"float64\",\"order\":\"little\"}]]}}},\"view\":{\"type\":\"object\",\"name\":\"CDSView\",\"id\":\"p3621\",\"attributes\":{\"filter\":{\"type\":\"object\",\"name\":\"AllIndices\",\"id\":\"p3622\"}}},\"glyph\":{\"type\":\"object\",\"name\":\"Line\",\"id\":\"p3617\",\"attributes\":{\"x\":{\"type\":\"field\",\"field\":\"x\"},\"y\":{\"type\":\"field\",\"field\":\"y\"},\"line_color\":\"gray\",\"line_alpha\":0.5,\"line_width\":2}},\"nonselection_glyph\":{\"type\":\"object\",\"name\":\"Line\",\"id\":\"p3618\",\"attributes\":{\"x\":{\"type\":\"field\",\"field\":\"x\"},\"y\":{\"type\":\"field\",\"field\":\"y\"},\"line_color\":\"gray\",\"line_alpha\":0.1,\"line_width\":2}},\"muted_glyph\":{\"type\":\"object\",\"name\":\"Line\",\"id\":\"p3619\",\"attributes\":{\"x\":{\"type\":\"field\",\"field\":\"x\"},\"y\":{\"type\":\"field\",\"field\":\"y\"},\"line_color\":\"gray\",\"line_alpha\":0.2,\"line_width\":2}}}},{\"type\":\"object\",\"name\":\"GlyphRenderer\",\"id\":\"p3630\",\"attributes\":{\"data_source\":{\"type\":\"object\",\"name\":\"ColumnDataSource\",\"id\":\"p3624\",\"attributes\":{\"selected\":{\"type\":\"object\",\"name\":\"Selection\",\"id\":\"p3625\",\"attributes\":{\"indices\":[],\"line_indices\":[]}},\"selection_policy\":{\"type\":\"object\",\"name\":\"UnionRenderers\",\"id\":\"p3626\"},\"data\":{\"type\":\"map\",\"entries\":[[\"x\",{\"type\":\"ndarray\",\"array\":{\"type\":\"bytes\",\"data\":\"AADCyd8ReUIAAL6r8hF5QgAAkqfmEXlCAAB2WdgReUIAADwuxRF5QgAA1K34EXlC\"},\"shape\":[6],\"dtype\":\"float64\",\"order\":\"little\"}],[\"y\",{\"type\":\"ndarray\",\"array\":{\"type\":\"bytes\",\"data\":\"AAAAAACAYkAAAAAAAIBhQAAAAAAAwF5AAAAAAACAYUAAAAAAAABeQAAAAAAAIGBA\"},\"shape\":[6],\"dtype\":\"float64\",\"order\":\"little\"}]]}}},\"view\":{\"type\":\"object\",\"name\":\"CDSView\",\"id\":\"p3631\",\"attributes\":{\"filter\":{\"type\":\"object\",\"name\":\"AllIndices\",\"id\":\"p3632\"}}},\"glyph\":{\"type\":\"object\",\"name\":\"Scatter\",\"id\":\"p3627\",\"attributes\":{\"x\":{\"type\":\"field\",\"field\":\"x\"},\"y\":{\"type\":\"field\",\"field\":\"y\"},\"size\":{\"type\":\"value\",\"value\":6},\"line_color\":{\"type\":\"value\",\"value\":\"darkblue\"},\"line_alpha\":{\"type\":\"value\",\"value\":0.7},\"fill_color\":{\"type\":\"value\",\"value\":\"darkblue\"},\"fill_alpha\":{\"type\":\"value\",\"value\":0.7},\"hatch_color\":{\"type\":\"value\",\"value\":\"darkblue\"},\"hatch_alpha\":{\"type\":\"value\",\"value\":0.7}}},\"nonselection_glyph\":{\"type\":\"object\",\"name\":\"Scatter\",\"id\":\"p3628\",\"attributes\":{\"x\":{\"type\":\"field\",\"field\":\"x\"},\"y\":{\"type\":\"field\",\"field\":\"y\"},\"size\":{\"type\":\"value\",\"value\":6},\"line_color\":{\"type\":\"value\",\"value\":\"darkblue\"},\"line_alpha\":{\"type\":\"value\",\"value\":0.1},\"fill_color\":{\"type\":\"value\",\"value\":\"darkblue\"},\"fill_alpha\":{\"type\":\"value\",\"value\":0.1},\"hatch_color\":{\"type\":\"value\",\"value\":\"darkblue\"},\"hatch_alpha\":{\"type\":\"value\",\"value\":0.1}}},\"muted_glyph\":{\"type\":\"object\",\"name\":\"Scatter\",\"id\":\"p3629\",\"attributes\":{\"x\":{\"type\":\"field\",\"field\":\"x\"},\"y\":{\"type\":\"field\",\"field\":\"y\"},\"size\":{\"type\":\"value\",\"value\":6},\"line_color\":{\"type\":\"value\",\"value\":\"darkblue\"},\"line_alpha\":{\"type\":\"value\",\"value\":0.2},\"fill_color\":{\"type\":\"value\",\"value\":\"darkblue\"},\"fill_alpha\":{\"type\":\"value\",\"value\":0.2},\"hatch_color\":{\"type\":\"value\",\"value\":\"darkblue\"},\"hatch_alpha\":{\"type\":\"value\",\"value\":0.2}}}}}],\"toolbar\":{\"type\":\"object\",\"name\":\"Toolbar\",\"id\":\"p3586\",\"attributes\":{\"tools\":[{\"type\":\"object\",\"name\":\"PanTool\",\"id\":\"p3611\"},{\"type\":\"object\",\"name\":\"WheelZoomTool\",\"id\":\"p3612\",\"attributes\":{\"dimensions\":\"width\",\"renderers\":\"auto\"}},{\"type\":\"object\",\"name\":\"WheelZoomTool\",\"id\":\"p3613\",\"attributes\":{\"dimensions\":\"height\",\"renderers\":\"auto\"}}],\"active_scroll\":{\"id\":\"p3612\"}}},\"left\":[{\"type\":\"object\",\"name\":\"LinearAxis\",\"id\":\"p3606\",\"attributes\":{\"ticker\":{\"type\":\"object\",\"name\":\"BasicTicker\",\"id\":\"p3607\",\"attributes\":{\"mantissas\":[1,2,5]}},\"formatter\":{\"type\":\"object\",\"name\":\"BasicTickFormatter\",\"id\":\"p3608\"},\"axis_label\":\"Glucose\",\"major_label_policy\":{\"type\":\"object\",\"name\":\"AllLabels\",\"id\":\"p3609\"}}}],\"above\":[{\"type\":\"object\",\"name\":\"DatetimeAxis\",\"id\":\"p3589\",\"attributes\":{\"ticker\":{\"type\":\"object\",\"name\":\"DatetimeTicker\",\"id\":\"p3590\",\"attributes\":{\"num_minor_ticks\":5,\"tickers\":[{\"type\":\"object\",\"name\":\"AdaptiveTicker\",\"id\":\"p3591\",\"attributes\":{\"num_minor_ticks\":0,\"mantissas\":[1,2,5],\"max_interval\":500.0}},{\"type\":\"object\",\"name\":\"AdaptiveTicker\",\"id\":\"p3592\",\"attributes\":{\"num_minor_ticks\":0,\"base\":60,\"mantissas\":[1,2,5,10,15,20,30],\"min_interval\":1000.0,\"max_interval\":1800000.0}},{\"type\":\"object\",\"name\":\"AdaptiveTicker\",\"id\":\"p3593\",\"attributes\":{\"num_minor_ticks\":0,\"base\":24,\"mantissas\":[1,2,4,6,8,12],\"min_interval\":3600000.0,\"max_interval\":43200000.0}},{\"type\":\"object\",\"name\":\"DaysTicker\",\"id\":\"p3594\",\"attributes\":{\"days\":[1,2,3,4,5,6,7,8,9,10,11,12,13,14,15,16,17,18,19,20,21,22,23,24,25,26,27,28,29,30,31]}},{\"type\":\"object\",\"name\":\"DaysTicker\",\"id\":\"p3595\",\"attributes\":{\"days\":[1,4,7,10,13,16,19,22,25,28]}},{\"type\":\"object\",\"name\":\"DaysTicker\",\"id\":\"p3596\",\"attributes\":{\"days\":[1,8,15,22]}},{\"type\":\"object\",\"name\":\"DaysTicker\",\"id\":\"p3597\",\"attributes\":{\"days\":[1,15]}},{\"type\":\"object\",\"name\":\"MonthsTicker\",\"id\":\"p3598\",\"attributes\":{\"months\":[0,1,2,3,4,5,6,7,8,9,10,11]}},{\"type\":\"object\",\"name\":\"MonthsTicker\",\"id\":\"p3599\",\"attributes\":{\"months\":[0,2,4,6,8,10]}},{\"type\":\"object\",\"name\":\"MonthsTicker\",\"id\":\"p3600\",\"attributes\":{\"months\":[0,4,8]}},{\"type\":\"object\",\"name\":\"MonthsTicker\",\"id\":\"p3601\",\"attributes\":{\"months\":[0,6]}},{\"type\":\"object\",\"name\":\"YearsTicker\",\"id\":\"p3602\"}]}},\"formatter\":{\"type\":\"object\",\"name\":\"DatetimeTickFormatter\",\"id\":\"p3603\"},\"axis_label\":\"Time\",\"major_label_policy\":{\"type\":\"object\",\"name\":\"AllLabels\",\"id\":\"p3604\"}}}],\"center\":[{\"type\":\"object\",\"name\":\"Grid\",\"id\":\"p3605\",\"attributes\":{\"axis\":{\"id\":\"p3589\"}}},{\"type\":\"object\",\"name\":\"Grid\",\"id\":\"p3610\",\"attributes\":{\"dimension\":1,\"axis\":{\"id\":\"p3606\"}}},{\"type\":\"object\",\"name\":\"Span\",\"id\":\"p3623\",\"attributes\":{\"location\":113.14236111111111,\"line_color\":\"red\"}},{\"type\":\"object\",\"name\":\"Span\",\"id\":\"p3633\",\"attributes\":{\"location\":1722757500000.0,\"dimension\":\"height\",\"line_color\":\"lightgreen\",\"line_width\":2}},{\"type\":\"object\",\"name\":\"BoxAnnotation\",\"id\":\"p3634\",\"attributes\":{\"left\":1722757500000.0,\"right\":1722761100000.0,\"top\":{\"type\":\"object\",\"name\":\"Node\",\"id\":\"p3637\",\"attributes\":{\"target\":\"frame\",\"symbol\":\"top\"}},\"bottom\":{\"type\":\"object\",\"name\":\"Node\",\"id\":\"p3638\",\"attributes\":{\"target\":\"frame\",\"symbol\":\"bottom\"}},\"fill_color\":\"lightgreen\",\"fill_alpha\":0.3}},{\"type\":\"object\",\"name\":\"Label\",\"id\":\"p3639\",\"attributes\":{\"text\":\"299.00\",\"text_color\":\"black\",\"text_font_size\":\"10pt\",\"background_fill_color\":\"white\",\"background_fill_alpha\":0.7,\"x\":1722757500000.0,\"y\":110,\"angle\":90,\"angle_units\":\"deg\"}},{\"type\":\"object\",\"name\":\"Span\",\"id\":\"p3640\",\"attributes\":{\"location\":1722772380000.0,\"dimension\":\"height\",\"line_color\":\"lightgreen\",\"line_width\":2}},{\"type\":\"object\",\"name\":\"BoxAnnotation\",\"id\":\"p3641\",\"attributes\":{\"left\":1722772380000.0,\"right\":1722775980000.0,\"top\":{\"type\":\"object\",\"name\":\"Node\",\"id\":\"p3644\",\"attributes\":{\"target\":\"frame\",\"symbol\":\"top\"}},\"bottom\":{\"type\":\"object\",\"name\":\"Node\",\"id\":\"p3645\",\"attributes\":{\"target\":\"frame\",\"symbol\":\"bottom\"}},\"fill_color\":\"lightgreen\",\"fill_alpha\":0.3}},{\"type\":\"object\",\"name\":\"Label\",\"id\":\"p3646\",\"attributes\":{\"text\":\"828.02\",\"text_color\":\"black\",\"text_font_size\":\"10pt\",\"background_fill_color\":\"white\",\"background_fill_alpha\":0.7,\"x\":1722772380000.0,\"y\":110,\"angle\":90,\"angle_units\":\"deg\"}},{\"type\":\"object\",\"name\":\"Span\",\"id\":\"p3647\",\"attributes\":{\"location\":1722782700000.0,\"dimension\":\"height\",\"line_color\":\"lightgreen\",\"line_width\":2}},{\"type\":\"object\",\"name\":\"BoxAnnotation\",\"id\":\"p3648\",\"attributes\":{\"left\":1722782700000.0,\"right\":1722786300000.0,\"top\":{\"type\":\"object\",\"name\":\"Node\",\"id\":\"p3651\",\"attributes\":{\"target\":\"frame\",\"symbol\":\"top\"}},\"bottom\":{\"type\":\"object\",\"name\":\"Node\",\"id\":\"p3652\",\"attributes\":{\"target\":\"frame\",\"symbol\":\"bottom\"}},\"fill_color\":\"lightgreen\",\"fill_alpha\":0.3}},{\"type\":\"object\",\"name\":\"Label\",\"id\":\"p3653\",\"attributes\":{\"text\":\"60.00\",\"text_color\":\"black\",\"text_font_size\":\"10pt\",\"background_fill_color\":\"white\",\"background_fill_alpha\":0.7,\"x\":1722782700000.0,\"y\":110,\"angle\":90,\"angle_units\":\"deg\"}},{\"type\":\"object\",\"name\":\"Span\",\"id\":\"p3654\",\"attributes\":{\"location\":1722795600000.0,\"dimension\":\"height\",\"line_color\":\"lightgreen\",\"line_width\":2}},{\"type\":\"object\",\"name\":\"BoxAnnotation\",\"id\":\"p3655\",\"attributes\":{\"left\":1722795600000.0,\"right\":1722799200000.0,\"top\":{\"type\":\"object\",\"name\":\"Node\",\"id\":\"p3658\",\"attributes\":{\"target\":\"frame\",\"symbol\":\"top\"}},\"bottom\":{\"type\":\"object\",\"name\":\"Node\",\"id\":\"p3659\",\"attributes\":{\"target\":\"frame\",\"symbol\":\"bottom\"}},\"fill_color\":\"lightgreen\",\"fill_alpha\":0.3}},{\"type\":\"object\",\"name\":\"Label\",\"id\":\"p3660\",\"attributes\":{\"text\":\"644.76\",\"text_color\":\"black\",\"text_font_size\":\"10pt\",\"background_fill_color\":\"white\",\"background_fill_alpha\":0.7,\"x\":1722795600000.0,\"y\":110,\"angle\":90,\"angle_units\":\"deg\"}}]}}]}};\n",
              "  const render_items = [{\"docid\":\"6804b92a-fe55-4fdf-a656-ea97c2dfac55\",\"roots\":{\"p3578\":\"d10421b0-051a-4065-8fc4-a5c65462253f\"},\"root_ids\":[\"p3578\"]}];\n",
              "  void root.Bokeh.embed.embed_items_notebook(docs_json, render_items);\n",
              "  }\n",
              "  if (root.Bokeh !== undefined) {\n",
              "    embed_document(root);\n",
              "  } else {\n",
              "    let attempts = 0;\n",
              "    const timer = setInterval(function(root) {\n",
              "      if (root.Bokeh !== undefined) {\n",
              "        clearInterval(timer);\n",
              "        embed_document(root);\n",
              "      } else {\n",
              "        attempts++;\n",
              "        if (attempts > 100) {\n",
              "          clearInterval(timer);\n",
              "          console.log(\"Bokeh: ERROR: Unable to run BokehJS code because BokehJS library is missing\");\n",
              "        }\n",
              "      }\n",
              "    }, 10, root)\n",
              "  }\n",
              "})(window);"
            ],
            "application/vnd.bokehjs_exec.v0+json": ""
          },
          "metadata": {
            "application/vnd.bokehjs_exec.v0+json": {
              "id": "p3578"
            }
          }
        },
        {
          "output_type": "stream",
          "name": "stdout",
          "text": [
            "\n",
            "\n",
            "\n"
          ]
        },
        {
          "output_type": "display_data",
          "data": {
            "text/html": [
              "\n",
              "  <div id=\"c119fc96-23c6-435a-b16d-2c7673741d60\" data-root-id=\"p3665\" style=\"display: contents;\"></div>\n"
            ]
          },
          "metadata": {}
        },
        {
          "output_type": "display_data",
          "data": {
            "application/javascript": [
              "(function(root) {\n",
              "  function embed_document(root) {\n",
              "  const docs_json = {\"998d4424-3a32-41f4-968d-73e78c0ffd42\":{\"version\":\"3.4.3\",\"title\":\"Bokeh Application\",\"roots\":[{\"type\":\"object\",\"name\":\"Figure\",\"id\":\"p3665\",\"attributes\":{\"height\":400,\"x_range\":{\"type\":\"object\",\"name\":\"DataRange1d\",\"id\":\"p3666\"},\"y_range\":{\"type\":\"object\",\"name\":\"DataRange1d\",\"id\":\"p3667\"},\"x_scale\":{\"type\":\"object\",\"name\":\"LinearScale\",\"id\":\"p3674\"},\"y_scale\":{\"type\":\"object\",\"name\":\"LinearScale\",\"id\":\"p3675\"},\"title\":{\"type\":\"object\",\"name\":\"Title\",\"id\":\"p3672\",\"attributes\":{\"text\":\"Day: 2024-08-05\",\"text_font_size\":\"20pt\",\"align\":\"center\"}},\"renderers\":[{\"type\":\"object\",\"name\":\"GlyphRenderer\",\"id\":\"p3707\",\"attributes\":{\"data_source\":{\"type\":\"object\",\"name\":\"ColumnDataSource\",\"id\":\"p3701\",\"attributes\":{\"selected\":{\"type\":\"object\",\"name\":\"Selection\",\"id\":\"p3702\",\"attributes\":{\"indices\":[],\"line_indices\":[]}},\"selection_policy\":{\"type\":\"object\",\"name\":\"UnionRenderers\",\"id\":\"p3703\"},\"data\":{\"type\":\"map\",\"entries\":[[\"x\",{\"type\":\"ndarray\",\"array\":{\"type\":\"bytes\",\"data\":\"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\"},\"shape\":[288],\"dtype\":\"float64\",\"order\":\"little\"}],[\"y\",{\"type\":\"ndarray\",\"array\":{\"type\":\"bytes\",\"data\":\"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\"},\"shape\":[288],\"dtype\":\"float64\",\"order\":\"little\"}]]}}},\"view\":{\"type\":\"object\",\"name\":\"CDSView\",\"id\":\"p3708\",\"attributes\":{\"filter\":{\"type\":\"object\",\"name\":\"AllIndices\",\"id\":\"p3709\"}}},\"glyph\":{\"type\":\"object\",\"name\":\"Line\",\"id\":\"p3704\",\"attributes\":{\"x\":{\"type\":\"field\",\"field\":\"x\"},\"y\":{\"type\":\"field\",\"field\":\"y\"},\"line_color\":\"gray\",\"line_alpha\":0.5,\"line_width\":2}},\"nonselection_glyph\":{\"type\":\"object\",\"name\":\"Line\",\"id\":\"p3705\",\"attributes\":{\"x\":{\"type\":\"field\",\"field\":\"x\"},\"y\":{\"type\":\"field\",\"field\":\"y\"},\"line_color\":\"gray\",\"line_alpha\":0.1,\"line_width\":2}},\"muted_glyph\":{\"type\":\"object\",\"name\":\"Line\",\"id\":\"p3706\",\"attributes\":{\"x\":{\"type\":\"field\",\"field\":\"x\"},\"y\":{\"type\":\"field\",\"field\":\"y\"},\"line_color\":\"gray\",\"line_alpha\":0.2,\"line_width\":2}}}},{\"type\":\"object\",\"name\":\"GlyphRenderer\",\"id\":\"p3717\",\"attributes\":{\"data_source\":{\"type\":\"object\",\"name\":\"ColumnDataSource\",\"id\":\"p3711\",\"attributes\":{\"selected\":{\"type\":\"object\",\"name\":\"Selection\",\"id\":\"p3712\",\"attributes\":{\"indices\":[],\"line_indices\":[]}},\"selection_policy\":{\"type\":\"object\",\"name\":\"UnionRenderers\",\"id\":\"p3713\"},\"data\":{\"type\":\"map\",\"entries\":[[\"x\",{\"type\":\"ndarray\",\"array\":{\"type\":\"bytes\",\"data\":\"AABYWUESeUIAAGwtLBJ5QgAABG8WEnlCAAAcABMSeUIAADjtRRJ5QgAAjDhMEnlC\"},\"shape\":[6],\"dtype\":\"float64\",\"order\":\"little\"}],[\"y\",{\"type\":\"ndarray\",\"array\":{\"type\":\"bytes\",\"data\":\"AAAAAACgYUAAAAAAAIBfQAAAAAAAQF5AAAAAAABAXkAAAAAAAMBeQAAAAAAAAF1A\"},\"shape\":[6],\"dtype\":\"float64\",\"order\":\"little\"}]]}}},\"view\":{\"type\":\"object\",\"name\":\"CDSView\",\"id\":\"p3718\",\"attributes\":{\"filter\":{\"type\":\"object\",\"name\":\"AllIndices\",\"id\":\"p3719\"}}},\"glyph\":{\"type\":\"object\",\"name\":\"Scatter\",\"id\":\"p3714\",\"attributes\":{\"x\":{\"type\":\"field\",\"field\":\"x\"},\"y\":{\"type\":\"field\",\"field\":\"y\"},\"size\":{\"type\":\"value\",\"value\":6},\"line_color\":{\"type\":\"value\",\"value\":\"darkblue\"},\"line_alpha\":{\"type\":\"value\",\"value\":0.7},\"fill_color\":{\"type\":\"value\",\"value\":\"darkblue\"},\"fill_alpha\":{\"type\":\"value\",\"value\":0.7},\"hatch_color\":{\"type\":\"value\",\"value\":\"darkblue\"},\"hatch_alpha\":{\"type\":\"value\",\"value\":0.7}}},\"nonselection_glyph\":{\"type\":\"object\",\"name\":\"Scatter\",\"id\":\"p3715\",\"attributes\":{\"x\":{\"type\":\"field\",\"field\":\"x\"},\"y\":{\"type\":\"field\",\"field\":\"y\"},\"size\":{\"type\":\"value\",\"value\":6},\"line_color\":{\"type\":\"value\",\"value\":\"darkblue\"},\"line_alpha\":{\"type\":\"value\",\"value\":0.1},\"fill_color\":{\"type\":\"value\",\"value\":\"darkblue\"},\"fill_alpha\":{\"type\":\"value\",\"value\":0.1},\"hatch_color\":{\"type\":\"value\",\"value\":\"darkblue\"},\"hatch_alpha\":{\"type\":\"value\",\"value\":0.1}}},\"muted_glyph\":{\"type\":\"object\",\"name\":\"Scatter\",\"id\":\"p3716\",\"attributes\":{\"x\":{\"type\":\"field\",\"field\":\"x\"},\"y\":{\"type\":\"field\",\"field\":\"y\"},\"size\":{\"type\":\"value\",\"value\":6},\"line_color\":{\"type\":\"value\",\"value\":\"darkblue\"},\"line_alpha\":{\"type\":\"value\",\"value\":0.2},\"fill_color\":{\"type\":\"value\",\"value\":\"darkblue\"},\"fill_alpha\":{\"type\":\"value\",\"value\":0.2},\"hatch_color\":{\"type\":\"value\",\"value\":\"darkblue\"},\"hatch_alpha\":{\"type\":\"value\",\"value\":0.2}}}}}],\"toolbar\":{\"type\":\"object\",\"name\":\"Toolbar\",\"id\":\"p3673\",\"attributes\":{\"tools\":[{\"type\":\"object\",\"name\":\"PanTool\",\"id\":\"p3698\"},{\"type\":\"object\",\"name\":\"WheelZoomTool\",\"id\":\"p3699\",\"attributes\":{\"dimensions\":\"width\",\"renderers\":\"auto\"}},{\"type\":\"object\",\"name\":\"WheelZoomTool\",\"id\":\"p3700\",\"attributes\":{\"dimensions\":\"height\",\"renderers\":\"auto\"}}],\"active_scroll\":{\"id\":\"p3699\"}}},\"left\":[{\"type\":\"object\",\"name\":\"LinearAxis\",\"id\":\"p3693\",\"attributes\":{\"ticker\":{\"type\":\"object\",\"name\":\"BasicTicker\",\"id\":\"p3694\",\"attributes\":{\"mantissas\":[1,2,5]}},\"formatter\":{\"type\":\"object\",\"name\":\"BasicTickFormatter\",\"id\":\"p3695\"},\"axis_label\":\"Glucose\",\"major_label_policy\":{\"type\":\"object\",\"name\":\"AllLabels\",\"id\":\"p3696\"}}}],\"above\":[{\"type\":\"object\",\"name\":\"DatetimeAxis\",\"id\":\"p3676\",\"attributes\":{\"ticker\":{\"type\":\"object\",\"name\":\"DatetimeTicker\",\"id\":\"p3677\",\"attributes\":{\"num_minor_ticks\":5,\"tickers\":[{\"type\":\"object\",\"name\":\"AdaptiveTicker\",\"id\":\"p3678\",\"attributes\":{\"num_minor_ticks\":0,\"mantissas\":[1,2,5],\"max_interval\":500.0}},{\"type\":\"object\",\"name\":\"AdaptiveTicker\",\"id\":\"p3679\",\"attributes\":{\"num_minor_ticks\":0,\"base\":60,\"mantissas\":[1,2,5,10,15,20,30],\"min_interval\":1000.0,\"max_interval\":1800000.0}},{\"type\":\"object\",\"name\":\"AdaptiveTicker\",\"id\":\"p3680\",\"attributes\":{\"num_minor_ticks\":0,\"base\":24,\"mantissas\":[1,2,4,6,8,12],\"min_interval\":3600000.0,\"max_interval\":43200000.0}},{\"type\":\"object\",\"name\":\"DaysTicker\",\"id\":\"p3681\",\"attributes\":{\"days\":[1,2,3,4,5,6,7,8,9,10,11,12,13,14,15,16,17,18,19,20,21,22,23,24,25,26,27,28,29,30,31]}},{\"type\":\"object\",\"name\":\"DaysTicker\",\"id\":\"p3682\",\"attributes\":{\"days\":[1,4,7,10,13,16,19,22,25,28]}},{\"type\":\"object\",\"name\":\"DaysTicker\",\"id\":\"p3683\",\"attributes\":{\"days\":[1,8,15,22]}},{\"type\":\"object\",\"name\":\"DaysTicker\",\"id\":\"p3684\",\"attributes\":{\"days\":[1,15]}},{\"type\":\"object\",\"name\":\"MonthsTicker\",\"id\":\"p3685\",\"attributes\":{\"months\":[0,1,2,3,4,5,6,7,8,9,10,11]}},{\"type\":\"object\",\"name\":\"MonthsTicker\",\"id\":\"p3686\",\"attributes\":{\"months\":[0,2,4,6,8,10]}},{\"type\":\"object\",\"name\":\"MonthsTicker\",\"id\":\"p3687\",\"attributes\":{\"months\":[0,4,8]}},{\"type\":\"object\",\"name\":\"MonthsTicker\",\"id\":\"p3688\",\"attributes\":{\"months\":[0,6]}},{\"type\":\"object\",\"name\":\"YearsTicker\",\"id\":\"p3689\"}]}},\"formatter\":{\"type\":\"object\",\"name\":\"DatetimeTickFormatter\",\"id\":\"p3690\"},\"axis_label\":\"Time\",\"major_label_policy\":{\"type\":\"object\",\"name\":\"AllLabels\",\"id\":\"p3691\"}}}],\"center\":[{\"type\":\"object\",\"name\":\"Grid\",\"id\":\"p3692\",\"attributes\":{\"axis\":{\"id\":\"p3676\"}}},{\"type\":\"object\",\"name\":\"Grid\",\"id\":\"p3697\",\"attributes\":{\"dimension\":1,\"axis\":{\"id\":\"p3693\"}}},{\"type\":\"object\",\"name\":\"Span\",\"id\":\"p3710\",\"attributes\":{\"location\":108.40625,\"line_color\":\"red\"}},{\"type\":\"object\",\"name\":\"Span\",\"id\":\"p3720\",\"attributes\":{\"location\":1722843000000.0,\"dimension\":\"height\",\"line_color\":\"lightgreen\",\"line_width\":2}},{\"type\":\"object\",\"name\":\"BoxAnnotation\",\"id\":\"p3721\",\"attributes\":{\"left\":1722843000000.0,\"right\":1722846600000.0,\"top\":{\"type\":\"object\",\"name\":\"Node\",\"id\":\"p3724\",\"attributes\":{\"target\":\"frame\",\"symbol\":\"top\"}},\"bottom\":{\"type\":\"object\",\"name\":\"Node\",\"id\":\"p3725\",\"attributes\":{\"target\":\"frame\",\"symbol\":\"bottom\"}},\"fill_color\":\"lightgreen\",\"fill_alpha\":0.3}},{\"type\":\"object\",\"name\":\"Label\",\"id\":\"p3726\",\"attributes\":{\"text\":\"299.00\",\"text_color\":\"black\",\"text_font_size\":\"10pt\",\"background_fill_color\":\"white\",\"background_fill_alpha\":0.7,\"x\":1722843000000.0,\"y\":110,\"angle\":90,\"angle_units\":\"deg\"}},{\"type\":\"object\",\"name\":\"Span\",\"id\":\"p3727\",\"attributes\":{\"location\":1722861360000.0,\"dimension\":\"height\",\"line_color\":\"lightgreen\",\"line_width\":2}},{\"type\":\"object\",\"name\":\"BoxAnnotation\",\"id\":\"p3728\",\"attributes\":{\"left\":1722861360000.0,\"right\":1722864960000.0,\"top\":{\"type\":\"object\",\"name\":\"Node\",\"id\":\"p3731\",\"attributes\":{\"target\":\"frame\",\"symbol\":\"top\"}},\"bottom\":{\"type\":\"object\",\"name\":\"Node\",\"id\":\"p3732\",\"attributes\":{\"target\":\"frame\",\"symbol\":\"bottom\"}},\"fill_color\":\"lightgreen\",\"fill_alpha\":0.3}},{\"type\":\"object\",\"name\":\"Label\",\"id\":\"p3733\",\"attributes\":{\"text\":\"886.25\",\"text_color\":\"black\",\"text_font_size\":\"10pt\",\"background_fill_color\":\"white\",\"background_fill_alpha\":0.7,\"x\":1722861360000.0,\"y\":110,\"angle\":90,\"angle_units\":\"deg\"}},{\"type\":\"object\",\"name\":\"Span\",\"id\":\"p3734\",\"attributes\":{\"location\":1722885600000.0,\"dimension\":\"height\",\"line_color\":\"lightgreen\",\"line_width\":2}},{\"type\":\"object\",\"name\":\"BoxAnnotation\",\"id\":\"p3735\",\"attributes\":{\"left\":1722885600000.0,\"right\":1722889200000.0,\"top\":{\"type\":\"object\",\"name\":\"Node\",\"id\":\"p3738\",\"attributes\":{\"target\":\"frame\",\"symbol\":\"top\"}},\"bottom\":{\"type\":\"object\",\"name\":\"Node\",\"id\":\"p3739\",\"attributes\":{\"target\":\"frame\",\"symbol\":\"bottom\"}},\"fill_color\":\"lightgreen\",\"fill_alpha\":0.3}},{\"type\":\"object\",\"name\":\"Label\",\"id\":\"p3740\",\"attributes\":{\"text\":\"644.40\",\"text_color\":\"black\",\"text_font_size\":\"10pt\",\"background_fill_color\":\"white\",\"background_fill_alpha\":0.7,\"x\":1722885600000.0,\"y\":110,\"angle\":90,\"angle_units\":\"deg\"}}]}}]}};\n",
              "  const render_items = [{\"docid\":\"998d4424-3a32-41f4-968d-73e78c0ffd42\",\"roots\":{\"p3665\":\"c119fc96-23c6-435a-b16d-2c7673741d60\"},\"root_ids\":[\"p3665\"]}];\n",
              "  void root.Bokeh.embed.embed_items_notebook(docs_json, render_items);\n",
              "  }\n",
              "  if (root.Bokeh !== undefined) {\n",
              "    embed_document(root);\n",
              "  } else {\n",
              "    let attempts = 0;\n",
              "    const timer = setInterval(function(root) {\n",
              "      if (root.Bokeh !== undefined) {\n",
              "        clearInterval(timer);\n",
              "        embed_document(root);\n",
              "      } else {\n",
              "        attempts++;\n",
              "        if (attempts > 100) {\n",
              "          clearInterval(timer);\n",
              "          console.log(\"Bokeh: ERROR: Unable to run BokehJS code because BokehJS library is missing\");\n",
              "        }\n",
              "      }\n",
              "    }, 10, root)\n",
              "  }\n",
              "})(window);"
            ],
            "application/vnd.bokehjs_exec.v0+json": ""
          },
          "metadata": {
            "application/vnd.bokehjs_exec.v0+json": {
              "id": "p3665"
            }
          }
        },
        {
          "output_type": "stream",
          "name": "stdout",
          "text": [
            "\n",
            "\n",
            "\n"
          ]
        },
        {
          "output_type": "display_data",
          "data": {
            "text/html": [
              "\n",
              "  <div id=\"d1ec665e-04bb-4766-aad3-0853e237f225\" data-root-id=\"p3745\" style=\"display: contents;\"></div>\n"
            ]
          },
          "metadata": {}
        },
        {
          "output_type": "display_data",
          "data": {
            "application/javascript": [
              "(function(root) {\n",
              "  function embed_document(root) {\n",
              "  const docs_json = {\"a992cc04-7109-4901-81bd-32c933593bbc\":{\"version\":\"3.4.3\",\"title\":\"Bokeh Application\",\"roots\":[{\"type\":\"object\",\"name\":\"Figure\",\"id\":\"p3745\",\"attributes\":{\"height\":400,\"x_range\":{\"type\":\"object\",\"name\":\"DataRange1d\",\"id\":\"p3746\"},\"y_range\":{\"type\":\"object\",\"name\":\"DataRange1d\",\"id\":\"p3747\"},\"x_scale\":{\"type\":\"object\",\"name\":\"LinearScale\",\"id\":\"p3754\"},\"y_scale\":{\"type\":\"object\",\"name\":\"LinearScale\",\"id\":\"p3755\"},\"title\":{\"type\":\"object\",\"name\":\"Title\",\"id\":\"p3752\",\"attributes\":{\"text\":\"Day: 2024-08-06\",\"text_font_size\":\"20pt\",\"align\":\"center\"}},\"renderers\":[{\"type\":\"object\",\"name\":\"GlyphRenderer\",\"id\":\"p3787\",\"attributes\":{\"data_source\":{\"type\":\"object\",\"name\":\"ColumnDataSource\",\"id\":\"p3781\",\"attributes\":{\"selected\":{\"type\":\"object\",\"name\":\"Selection\",\"id\":\"p3782\",\"attributes\":{\"indices\":[],\"line_indices\":[]}},\"selection_policy\":{\"type\":\"object\",\"name\":\"UnionRenderers\",\"id\":\"p3783\"},\"data\":{\"type\":\"map\",\"entries\":[[\"x\",{\"type\":\"ndarray\",\"array\":{\"type\":\"bytes\",\"data\":\"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\"},\"shape\":[288],\"dtype\":\"float64\",\"order\":\"little\"}],[\"y\",{\"type\":\"ndarray\",\"array\":{\"type\":\"bytes\",\"data\":\"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\"},\"shape\":[288],\"dtype\":\"float64\",\"order\":\"little\"}]]}}},\"view\":{\"type\":\"object\",\"name\":\"CDSView\",\"id\":\"p3788\",\"attributes\":{\"filter\":{\"type\":\"object\",\"name\":\"AllIndices\",\"id\":\"p3789\"}}},\"glyph\":{\"type\":\"object\",\"name\":\"Line\",\"id\":\"p3784\",\"attributes\":{\"x\":{\"type\":\"field\",\"field\":\"x\"},\"y\":{\"type\":\"field\",\"field\":\"y\"},\"line_color\":\"gray\",\"line_alpha\":0.5,\"line_width\":2}},\"nonselection_glyph\":{\"type\":\"object\",\"name\":\"Line\",\"id\":\"p3785\",\"attributes\":{\"x\":{\"type\":\"field\",\"field\":\"x\"},\"y\":{\"type\":\"field\",\"field\":\"y\"},\"line_color\":\"gray\",\"line_alpha\":0.1,\"line_width\":2}},\"muted_glyph\":{\"type\":\"object\",\"name\":\"Line\",\"id\":\"p3786\",\"attributes\":{\"x\":{\"type\":\"field\",\"field\":\"x\"},\"y\":{\"type\":\"field\",\"field\":\"y\"},\"line_color\":\"gray\",\"line_alpha\":0.2,\"line_width\":2}}}},{\"type\":\"object\",\"name\":\"GlyphRenderer\",\"id\":\"p3797\",\"attributes\":{\"data_source\":{\"type\":\"object\",\"name\":\"ColumnDataSource\",\"id\":\"p3791\",\"attributes\":{\"selected\":{\"type\":\"object\",\"name\":\"Selection\",\"id\":\"p3792\",\"attributes\":{\"indices\":[],\"line_indices\":[]}},\"selection_policy\":{\"type\":\"object\",\"name\":\"UnionRenderers\",\"id\":\"p3793\"},\"data\":{\"type\":\"map\",\"entries\":[[\"x\",{\"type\":\"ndarray\",\"array\":{\"type\":\"bytes\",\"data\":\"AABq3H4SeUIAAMq/lRJ5QgAA1IpmEnlCAACK554SeUIAAB7NUhJ5Qg==\"},\"shape\":[5],\"dtype\":\"float64\",\"order\":\"little\"}],[\"y\",{\"type\":\"ndarray\",\"array\":{\"type\":\"bytes\",\"data\":\"AAAAAACgYEAAAAAAAMBfQAAAAAAAwF1AAAAAAACAXUAAAAAAAMBbQA==\"},\"shape\":[5],\"dtype\":\"float64\",\"order\":\"little\"}]]}}},\"view\":{\"type\":\"object\",\"name\":\"CDSView\",\"id\":\"p3798\",\"attributes\":{\"filter\":{\"type\":\"object\",\"name\":\"AllIndices\",\"id\":\"p3799\"}}},\"glyph\":{\"type\":\"object\",\"name\":\"Scatter\",\"id\":\"p3794\",\"attributes\":{\"x\":{\"type\":\"field\",\"field\":\"x\"},\"y\":{\"type\":\"field\",\"field\":\"y\"},\"size\":{\"type\":\"value\",\"value\":6},\"line_color\":{\"type\":\"value\",\"value\":\"darkblue\"},\"line_alpha\":{\"type\":\"value\",\"value\":0.7},\"fill_color\":{\"type\":\"value\",\"value\":\"darkblue\"},\"fill_alpha\":{\"type\":\"value\",\"value\":0.7},\"hatch_color\":{\"type\":\"value\",\"value\":\"darkblue\"},\"hatch_alpha\":{\"type\":\"value\",\"value\":0.7}}},\"nonselection_glyph\":{\"type\":\"object\",\"name\":\"Scatter\",\"id\":\"p3795\",\"attributes\":{\"x\":{\"type\":\"field\",\"field\":\"x\"},\"y\":{\"type\":\"field\",\"field\":\"y\"},\"size\":{\"type\":\"value\",\"value\":6},\"line_color\":{\"type\":\"value\",\"value\":\"darkblue\"},\"line_alpha\":{\"type\":\"value\",\"value\":0.1},\"fill_color\":{\"type\":\"value\",\"value\":\"darkblue\"},\"fill_alpha\":{\"type\":\"value\",\"value\":0.1},\"hatch_color\":{\"type\":\"value\",\"value\":\"darkblue\"},\"hatch_alpha\":{\"type\":\"value\",\"value\":0.1}}},\"muted_glyph\":{\"type\":\"object\",\"name\":\"Scatter\",\"id\":\"p3796\",\"attributes\":{\"x\":{\"type\":\"field\",\"field\":\"x\"},\"y\":{\"type\":\"field\",\"field\":\"y\"},\"size\":{\"type\":\"value\",\"value\":6},\"line_color\":{\"type\":\"value\",\"value\":\"darkblue\"},\"line_alpha\":{\"type\":\"value\",\"value\":0.2},\"fill_color\":{\"type\":\"value\",\"value\":\"darkblue\"},\"fill_alpha\":{\"type\":\"value\",\"value\":0.2},\"hatch_color\":{\"type\":\"value\",\"value\":\"darkblue\"},\"hatch_alpha\":{\"type\":\"value\",\"value\":0.2}}}}}],\"toolbar\":{\"type\":\"object\",\"name\":\"Toolbar\",\"id\":\"p3753\",\"attributes\":{\"tools\":[{\"type\":\"object\",\"name\":\"PanTool\",\"id\":\"p3778\"},{\"type\":\"object\",\"name\":\"WheelZoomTool\",\"id\":\"p3779\",\"attributes\":{\"dimensions\":\"width\",\"renderers\":\"auto\"}},{\"type\":\"object\",\"name\":\"WheelZoomTool\",\"id\":\"p3780\",\"attributes\":{\"dimensions\":\"height\",\"renderers\":\"auto\"}}],\"active_scroll\":{\"id\":\"p3779\"}}},\"left\":[{\"type\":\"object\",\"name\":\"LinearAxis\",\"id\":\"p3773\",\"attributes\":{\"ticker\":{\"type\":\"object\",\"name\":\"BasicTicker\",\"id\":\"p3774\",\"attributes\":{\"mantissas\":[1,2,5]}},\"formatter\":{\"type\":\"object\",\"name\":\"BasicTickFormatter\",\"id\":\"p3775\"},\"axis_label\":\"Glucose\",\"major_label_policy\":{\"type\":\"object\",\"name\":\"AllLabels\",\"id\":\"p3776\"}}}],\"above\":[{\"type\":\"object\",\"name\":\"DatetimeAxis\",\"id\":\"p3756\",\"attributes\":{\"ticker\":{\"type\":\"object\",\"name\":\"DatetimeTicker\",\"id\":\"p3757\",\"attributes\":{\"num_minor_ticks\":5,\"tickers\":[{\"type\":\"object\",\"name\":\"AdaptiveTicker\",\"id\":\"p3758\",\"attributes\":{\"num_minor_ticks\":0,\"mantissas\":[1,2,5],\"max_interval\":500.0}},{\"type\":\"object\",\"name\":\"AdaptiveTicker\",\"id\":\"p3759\",\"attributes\":{\"num_minor_ticks\":0,\"base\":60,\"mantissas\":[1,2,5,10,15,20,30],\"min_interval\":1000.0,\"max_interval\":1800000.0}},{\"type\":\"object\",\"name\":\"AdaptiveTicker\",\"id\":\"p3760\",\"attributes\":{\"num_minor_ticks\":0,\"base\":24,\"mantissas\":[1,2,4,6,8,12],\"min_interval\":3600000.0,\"max_interval\":43200000.0}},{\"type\":\"object\",\"name\":\"DaysTicker\",\"id\":\"p3761\",\"attributes\":{\"days\":[1,2,3,4,5,6,7,8,9,10,11,12,13,14,15,16,17,18,19,20,21,22,23,24,25,26,27,28,29,30,31]}},{\"type\":\"object\",\"name\":\"DaysTicker\",\"id\":\"p3762\",\"attributes\":{\"days\":[1,4,7,10,13,16,19,22,25,28]}},{\"type\":\"object\",\"name\":\"DaysTicker\",\"id\":\"p3763\",\"attributes\":{\"days\":[1,8,15,22]}},{\"type\":\"object\",\"name\":\"DaysTicker\",\"id\":\"p3764\",\"attributes\":{\"days\":[1,15]}},{\"type\":\"object\",\"name\":\"MonthsTicker\",\"id\":\"p3765\",\"attributes\":{\"months\":[0,1,2,3,4,5,6,7,8,9,10,11]}},{\"type\":\"object\",\"name\":\"MonthsTicker\",\"id\":\"p3766\",\"attributes\":{\"months\":[0,2,4,6,8,10]}},{\"type\":\"object\",\"name\":\"MonthsTicker\",\"id\":\"p3767\",\"attributes\":{\"months\":[0,4,8]}},{\"type\":\"object\",\"name\":\"MonthsTicker\",\"id\":\"p3768\",\"attributes\":{\"months\":[0,6]}},{\"type\":\"object\",\"name\":\"YearsTicker\",\"id\":\"p3769\"}]}},\"formatter\":{\"type\":\"object\",\"name\":\"DatetimeTickFormatter\",\"id\":\"p3770\"},\"axis_label\":\"Time\",\"major_label_policy\":{\"type\":\"object\",\"name\":\"AllLabels\",\"id\":\"p3771\"}}}],\"center\":[{\"type\":\"object\",\"name\":\"Grid\",\"id\":\"p3772\",\"attributes\":{\"axis\":{\"id\":\"p3756\"}}},{\"type\":\"object\",\"name\":\"Grid\",\"id\":\"p3777\",\"attributes\":{\"dimension\":1,\"axis\":{\"id\":\"p3773\"}}},{\"type\":\"object\",\"name\":\"Span\",\"id\":\"p3790\",\"attributes\":{\"location\":105.36805555555556,\"line_color\":\"red\"}},{\"type\":\"object\",\"name\":\"Span\",\"id\":\"p3800\",\"attributes\":{\"location\":1722930300000.0,\"dimension\":\"height\",\"line_color\":\"lightgreen\",\"line_width\":2}},{\"type\":\"object\",\"name\":\"BoxAnnotation\",\"id\":\"p3801\",\"attributes\":{\"left\":1722930300000.0,\"right\":1722933900000.0,\"top\":{\"type\":\"object\",\"name\":\"Node\",\"id\":\"p3804\",\"attributes\":{\"target\":\"frame\",\"symbol\":\"top\"}},\"bottom\":{\"type\":\"object\",\"name\":\"Node\",\"id\":\"p3805\",\"attributes\":{\"target\":\"frame\",\"symbol\":\"bottom\"}},\"fill_color\":\"lightgreen\",\"fill_alpha\":0.3}},{\"type\":\"object\",\"name\":\"Label\",\"id\":\"p3806\",\"attributes\":{\"text\":\"299.00\",\"text_color\":\"black\",\"text_font_size\":\"10pt\",\"background_fill_color\":\"white\",\"background_fill_alpha\":0.7,\"x\":1722930300000.0,\"y\":110,\"angle\":90,\"angle_units\":\"deg\"}},{\"type\":\"object\",\"name\":\"Span\",\"id\":\"p3807\",\"attributes\":{\"location\":1722948000000.0,\"dimension\":\"height\",\"line_color\":\"lightgreen\",\"line_width\":2}},{\"type\":\"object\",\"name\":\"BoxAnnotation\",\"id\":\"p3808\",\"attributes\":{\"left\":1722948000000.0,\"right\":1722951600000.0,\"top\":{\"type\":\"object\",\"name\":\"Node\",\"id\":\"p3811\",\"attributes\":{\"target\":\"frame\",\"symbol\":\"top\"}},\"bottom\":{\"type\":\"object\",\"name\":\"Node\",\"id\":\"p3812\",\"attributes\":{\"target\":\"frame\",\"symbol\":\"bottom\"}},\"fill_color\":\"lightgreen\",\"fill_alpha\":0.3}},{\"type\":\"object\",\"name\":\"Label\",\"id\":\"p3813\",\"attributes\":{\"text\":\"704.20\",\"text_color\":\"black\",\"text_font_size\":\"10pt\",\"background_fill_color\":\"white\",\"background_fill_alpha\":0.7,\"x\":1722948000000.0,\"y\":110,\"angle\":90,\"angle_units\":\"deg\"}},{\"type\":\"object\",\"name\":\"Span\",\"id\":\"p3814\",\"attributes\":{\"location\":1722956423000.0,\"dimension\":\"height\",\"line_color\":\"lightgreen\",\"line_width\":2}},{\"type\":\"object\",\"name\":\"BoxAnnotation\",\"id\":\"p3815\",\"attributes\":{\"left\":1722956423000.0,\"right\":1722960023000.0,\"top\":{\"type\":\"object\",\"name\":\"Node\",\"id\":\"p3818\",\"attributes\":{\"target\":\"frame\",\"symbol\":\"top\"}},\"bottom\":{\"type\":\"object\",\"name\":\"Node\",\"id\":\"p3819\",\"attributes\":{\"target\":\"frame\",\"symbol\":\"bottom\"}},\"fill_color\":\"lightgreen\",\"fill_alpha\":0.3}},{\"type\":\"object\",\"name\":\"Label\",\"id\":\"p3820\",\"attributes\":{\"text\":\"220.00\",\"text_color\":\"black\",\"text_font_size\":\"10pt\",\"background_fill_color\":\"white\",\"background_fill_alpha\":0.7,\"x\":1722956423000.0,\"y\":110,\"angle\":90,\"angle_units\":\"deg\"}},{\"type\":\"object\",\"name\":\"Span\",\"id\":\"p3821\",\"attributes\":{\"location\":1722972300000.0,\"dimension\":\"height\",\"line_color\":\"lightgreen\",\"line_width\":2}},{\"type\":\"object\",\"name\":\"BoxAnnotation\",\"id\":\"p3822\",\"attributes\":{\"left\":1722972300000.0,\"right\":1722975900000.0,\"top\":{\"type\":\"object\",\"name\":\"Node\",\"id\":\"p3825\",\"attributes\":{\"target\":\"frame\",\"symbol\":\"top\"}},\"bottom\":{\"type\":\"object\",\"name\":\"Node\",\"id\":\"p3826\",\"attributes\":{\"target\":\"frame\",\"symbol\":\"bottom\"}},\"fill_color\":\"lightgreen\",\"fill_alpha\":0.3}},{\"type\":\"object\",\"name\":\"Label\",\"id\":\"p3827\",\"attributes\":{\"text\":\"665.49\",\"text_color\":\"black\",\"text_font_size\":\"10pt\",\"background_fill_color\":\"white\",\"background_fill_alpha\":0.7,\"x\":1722972300000.0,\"y\":110,\"angle\":90,\"angle_units\":\"deg\"}}]}}]}};\n",
              "  const render_items = [{\"docid\":\"a992cc04-7109-4901-81bd-32c933593bbc\",\"roots\":{\"p3745\":\"d1ec665e-04bb-4766-aad3-0853e237f225\"},\"root_ids\":[\"p3745\"]}];\n",
              "  void root.Bokeh.embed.embed_items_notebook(docs_json, render_items);\n",
              "  }\n",
              "  if (root.Bokeh !== undefined) {\n",
              "    embed_document(root);\n",
              "  } else {\n",
              "    let attempts = 0;\n",
              "    const timer = setInterval(function(root) {\n",
              "      if (root.Bokeh !== undefined) {\n",
              "        clearInterval(timer);\n",
              "        embed_document(root);\n",
              "      } else {\n",
              "        attempts++;\n",
              "        if (attempts > 100) {\n",
              "          clearInterval(timer);\n",
              "          console.log(\"Bokeh: ERROR: Unable to run BokehJS code because BokehJS library is missing\");\n",
              "        }\n",
              "      }\n",
              "    }, 10, root)\n",
              "  }\n",
              "})(window);"
            ],
            "application/vnd.bokehjs_exec.v0+json": ""
          },
          "metadata": {
            "application/vnd.bokehjs_exec.v0+json": {
              "id": "p3745"
            }
          }
        },
        {
          "output_type": "stream",
          "name": "stdout",
          "text": [
            "\n",
            "\n",
            "\n"
          ]
        },
        {
          "output_type": "display_data",
          "data": {
            "text/html": [
              "\n",
              "  <div id=\"a4e79263-328c-4431-9bf2-2bf04ea5fb49\" data-root-id=\"p3832\" style=\"display: contents;\"></div>\n"
            ]
          },
          "metadata": {}
        },
        {
          "output_type": "display_data",
          "data": {
            "application/javascript": [
              "(function(root) {\n",
              "  function embed_document(root) {\n",
              "  const docs_json = {\"a68ec2f3-5ad4-4f34-aa4b-cad1509ba922\":{\"version\":\"3.4.3\",\"title\":\"Bokeh Application\",\"roots\":[{\"type\":\"object\",\"name\":\"Figure\",\"id\":\"p3832\",\"attributes\":{\"height\":400,\"x_range\":{\"type\":\"object\",\"name\":\"DataRange1d\",\"id\":\"p3833\"},\"y_range\":{\"type\":\"object\",\"name\":\"DataRange1d\",\"id\":\"p3834\"},\"x_scale\":{\"type\":\"object\",\"name\":\"LinearScale\",\"id\":\"p3841\"},\"y_scale\":{\"type\":\"object\",\"name\":\"LinearScale\",\"id\":\"p3842\"},\"title\":{\"type\":\"object\",\"name\":\"Title\",\"id\":\"p3839\",\"attributes\":{\"text\":\"Day: 2024-08-07\",\"text_font_size\":\"20pt\",\"align\":\"center\"}},\"renderers\":[{\"type\":\"object\",\"name\":\"GlyphRenderer\",\"id\":\"p3874\",\"attributes\":{\"data_source\":{\"type\":\"object\",\"name\":\"ColumnDataSource\",\"id\":\"p3868\",\"attributes\":{\"selected\":{\"type\":\"object\",\"name\":\"Selection\",\"id\":\"p3869\",\"attributes\":{\"indices\":[],\"line_indices\":[]}},\"selection_policy\":{\"type\":\"object\",\"name\":\"UnionRenderers\",\"id\":\"p3870\"},\"data\":{\"type\":\"map\",\"entries\":[[\"x\",{\"type\":\"ndarray\",\"array\":{\"type\":\"bytes\",\"data\":\"AAByVqISeUIAALCfohJ5QgAA7uiiEnlCAAAsMqMSeUIAAGp7oxJ5QgAAqMSjEnlCAADmDaQSeUIAACRXpBJ5QgAAYqCkEnlCAACg6aQSeUIAAN4ypRJ5QgAAHHylEnlCAABaxaUSeUIAAJgOphJ5QgAA1lemEnlCAAAUoaYSeUIAAFLqphJ5QgAAkDOnEnlCAADOfKcSeUIAAAzGpxJ5QgAASg+oEnlCAACIWKgSeUIAAMahqBJ5QgAABOuoEnlCAABCNKkSeUIAAIB9qRJ5QgAAvsapEnlCAAD8D6oSeUIAADpZqhJ5QgAAeKKqEnlCAAC266oSeUIAAPQ0qxJ5QgAAMn6rEnlCAABwx6sSeUIAAK4QrBJ5QgAA7FmsEnlCAAAqo6wSeUIAAGjsrBJ5QgAApjWtEnlCAADkfq0SeUIAACLIrRJ5QgAAYBGuEnlCAACeWq4SeUIAANyjrhJ5QgAAGu2uEnlCAABYNq8SeUIAAJZ/rxJ5QgAA1MivEnlCAAASErASeUIAAFBbsBJ5QgAAjqSwEnlCAADM7bASeUIAAAo3sRJ5QgAASICxEnlCAACGybESeUIAAMQSshJ5QgAAAlyyEnlCAABApbISeUIAAH7ushJ5QgAAvDezEnlCAAD6gLMSeUIAADjKsxJ5QgAAdhO0EnlCAAC0XLQSeUIAAPKltBJ5QgAAMO+0EnlCAABuOLUSeUIAAKyBtRJ5QgAA6sq1EnlCAAAoFLYSeUIAAGZdthJ5QgAApKa2EnlCAADi77YSeUIAACA5txJ5QgAAXoK3EnlCAACcy7cSeUIAANoUuBJ5QgAAGF64EnlCAABWp7gSeUIAAJTwuBJ5QgAA0jm5EnlCAAAQg7kSeUIAAE7MuRJ5QgAAjBW6EnlCAADKXroSeUIAAAiouhJ5QgAARvG6EnlCAACEOrsSeUIAAMKDuxJ5QgAAAM27EnlCAAA+FrwSeUIAAHxfvBJ5QgAAuqi8EnlCAAD48bwSeUIAADY7vRJ5QgAAdIS9EnlCAACyzb0SeUIAAPAWvhJ5QgAALmC+EnlCAABsqb4SeUIAAKryvhJ5QgAA6Du/EnlCAAAmhb8SeUIAAGTOvxJ5QgAAohfAEnlCAADgYMASeUIAAB6qwBJ5QgAAXPPAEnlCAACaPMESeUIAANiFwRJ5QgAAFs/BEnlCAABUGMISeUIAAJJhwhJ5QgAA0KrCEnlCAAAO9MISeUIAAEw9wxJ5QgAAiobDEnlCAADIz8MSeUIAAAYZxBJ5QgAARGLEEnlCAACCq8QSeUIAAMD0xBJ5QgAA/j3FEnlCAAA8h8USeUIAAHrQxRJ5QgAAuBnGEnlCAAD2YsYSeUIAADSsxhJ5QgAAcvXGEnlCAACwPscSeUIAAO6HxxJ5QgAALNHHEnlCAABqGsgSeUIAAKhjyBJ5QgAA5qzIEnlCAAAk9sgSeUIAAGI/yRJ5QgAAoIjJEnlCAADe0ckSeUIAABwbyhJ5QgAAWmTKEnlCAACYrcoSeUIAANb2yhJ5QgAAFEDLEnlCAABSicsSeUIAAJDSyxJ5QgAAzhvMEnlCAAAMZcwSeUIAAEquzBJ5QgAAiPfMEnlCAADGQM0SeUIAAASKzRJ5QgAAQtPNEnlCAACAHM4SeUIAAL5lzhJ5QgAA/K7OEnlCAAA6+M4SeUIAAHhBzxJ5QgAAtorPEnlCAAD0088SeUIAADId0BJ5QgAAcGbQEnlCAACur9ASeUIAAOz40BJ5QgAAKkLREnlCAABoi9ESeUIAAKbU0RJ5QgAA5B3SEnlCAAAiZ9ISeUIAAGCw0hJ5QgAAnvnSEnlCAADcQtMSeUIAABqM0xJ5QgAAWNXTEnlCAACWHtQSeUIAANRn1BJ5QgAAErHUEnlCAABQ+tQSeUIAAI5D1RJ5QgAAzIzVEnlCAAAK1tUSeUIAAEgf1hJ5QgAAhmjWEnlCAADEsdYSeUIAAAL71hJ5QgAAQETXEnlCAAB+jdcSeUIAALzW1xJ5QgAA+h/YEnlCAAA4adgSeUIAAHay2BJ5QgAAtPvYEnlCAADyRNkSeUIAADCO2RJ5QgAAbtfZEnlCAACsINoSeUIAAOpp2hJ5QgAAKLPaEnlCAABm/NoSeUIAAKRF2xJ5QgAA4o7bEnlCAAAg2NsSeUIAAF4h3BJ5QgAAnGrcEnlCAADas9wSeUIAABj93BJ5QgAAVkbdEnlCAACUj90SeUIAANLY3RJ5QgAAECLeEnlCAABOa94SeUIAAIy03hJ5QgAAyv3eEnlCAAAIR98SeUIAAEaQ3xJ5QgAAhNnfEnlCAADCIuASeUIAAABs4BJ5QgAAPrXgEnlCAAB8/uASeUIAALpH4RJ5QgAA+JDhEnlCAAA22uESeUIAAHQj4hJ5QgAAsmziEnlCAADwteISeUIAAC7/4hJ5QgAAbEjjEnlCAACqkeMSeUIAAOja4xJ5QgAAJiTkEnlCAABkbeQSeUIAAKK25BJ5QgAA4P/kEnlCAAAeSeUSeUIAAFyS5RJ5QgAAmtvlEnlCAADYJOYSeUIAABZu5hJ5QgAAVLfmEnlCAACSAOcSeUIAANBJ5xJ5QgAADpPnEnlCAABM3OcSeUIAAIol6BJ5QgAAyG7oEnlCAAAGuOgSeUIAAEQB6RJ5QgAAgkrpEnlCAADAk+kSeUIAAP7c6RJ5QgAAPCbqEnlCAAB6b+oSeUIAALi46hJ5QgAA9gHrEnlCAAA0S+sSeUIAAHKU6xJ5QgAAsN3rEnlCAADuJuwSeUIAACxw7BJ5QgAAarnsEnlCAACoAu0SeUIAAOZL7RJ5QgAAJJXtEnlCAABi3u0SeUIAAKAn7hJ5QgAA3nDuEnlCAAAcuu4SeUIAAFoD7xJ5QgAAmEzvEnlCAADWle8SeUIAABTf7xJ5QgAAUijwEnlCAACQcfASeUIAAM668BJ5QgAADATxEnlCAABKTfESeUIAAIiW8RJ5QgAAxt/xEnlCAAAEKfISeUIAAEJy8hJ5QgAAgLvyEnlCAAC+BPMSeUIAAPxN8xJ5QgAAOpfzEnlCAAB44PMSeUIAALYp9BJ5QgAA9HL0EnlC\"},\"shape\":[288],\"dtype\":\"float64\",\"order\":\"little\"}],[\"y\",{\"type\":\"ndarray\",\"array\":{\"type\":\"bytes\",\"data\":\"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\"},\"shape\":[288],\"dtype\":\"float64\",\"order\":\"little\"}]]}}},\"view\":{\"type\":\"object\",\"name\":\"CDSView\",\"id\":\"p3875\",\"attributes\":{\"filter\":{\"type\":\"object\",\"name\":\"AllIndices\",\"id\":\"p3876\"}}},\"glyph\":{\"type\":\"object\",\"name\":\"Line\",\"id\":\"p3871\",\"attributes\":{\"x\":{\"type\":\"field\",\"field\":\"x\"},\"y\":{\"type\":\"field\",\"field\":\"y\"},\"line_color\":\"gray\",\"line_alpha\":0.5,\"line_width\":2}},\"nonselection_glyph\":{\"type\":\"object\",\"name\":\"Line\",\"id\":\"p3872\",\"attributes\":{\"x\":{\"type\":\"field\",\"field\":\"x\"},\"y\":{\"type\":\"field\",\"field\":\"y\"},\"line_color\":\"gray\",\"line_alpha\":0.1,\"line_width\":2}},\"muted_glyph\":{\"type\":\"object\",\"name\":\"Line\",\"id\":\"p3873\",\"attributes\":{\"x\":{\"type\":\"field\",\"field\":\"x\"},\"y\":{\"type\":\"field\",\"field\":\"y\"},\"line_color\":\"gray\",\"line_alpha\":0.2,\"line_width\":2}}}},{\"type\":\"object\",\"name\":\"GlyphRenderer\",\"id\":\"p3884\",\"attributes\":{\"data_source\":{\"type\":\"object\",\"name\":\"ColumnDataSource\",\"id\":\"p3878\",\"attributes\":{\"selected\":{\"type\":\"object\",\"name\":\"Selection\",\"id\":\"p3879\",\"attributes\":{\"indices\":[],\"line_indices\":[]}},\"selection_policy\":{\"type\":\"object\",\"name\":\"UnionRenderers\",\"id\":\"p3880\"},\"data\":{\"type\":\"map\",\"entries\":[[\"x\",{\"type\":\"ndarray\",\"array\":{\"type\":\"bytes\",\"data\":\"AABUt+YSeUIAABTf7xJ5QgAABIrNEnlCAAD48bwSeUIAABj93BJ5QgAAuLjqEnlC\"},\"shape\":[6],\"dtype\":\"float64\",\"order\":\"little\"}],[\"y\",{\"type\":\"ndarray\",\"array\":{\"type\":\"bytes\",\"data\":\"AAAAAACAYUAAAAAAAABiQAAAAAAAYGBAAAAAAADAXUAAAAAAAABdQAAAAAAAgF5A\"},\"shape\":[6],\"dtype\":\"float64\",\"order\":\"little\"}]]}}},\"view\":{\"type\":\"object\",\"name\":\"CDSView\",\"id\":\"p3885\",\"attributes\":{\"filter\":{\"type\":\"object\",\"name\":\"AllIndices\",\"id\":\"p3886\"}}},\"glyph\":{\"type\":\"object\",\"name\":\"Scatter\",\"id\":\"p3881\",\"attributes\":{\"x\":{\"type\":\"field\",\"field\":\"x\"},\"y\":{\"type\":\"field\",\"field\":\"y\"},\"size\":{\"type\":\"value\",\"value\":6},\"line_color\":{\"type\":\"value\",\"value\":\"darkblue\"},\"line_alpha\":{\"type\":\"value\",\"value\":0.7},\"fill_color\":{\"type\":\"value\",\"value\":\"darkblue\"},\"fill_alpha\":{\"type\":\"value\",\"value\":0.7},\"hatch_color\":{\"type\":\"value\",\"value\":\"darkblue\"},\"hatch_alpha\":{\"type\":\"value\",\"value\":0.7}}},\"nonselection_glyph\":{\"type\":\"object\",\"name\":\"Scatter\",\"id\":\"p3882\",\"attributes\":{\"x\":{\"type\":\"field\",\"field\":\"x\"},\"y\":{\"type\":\"field\",\"field\":\"y\"},\"size\":{\"type\":\"value\",\"value\":6},\"line_color\":{\"type\":\"value\",\"value\":\"darkblue\"},\"line_alpha\":{\"type\":\"value\",\"value\":0.1},\"fill_color\":{\"type\":\"value\",\"value\":\"darkblue\"},\"fill_alpha\":{\"type\":\"value\",\"value\":0.1},\"hatch_color\":{\"type\":\"value\",\"value\":\"darkblue\"},\"hatch_alpha\":{\"type\":\"value\",\"value\":0.1}}},\"muted_glyph\":{\"type\":\"object\",\"name\":\"Scatter\",\"id\":\"p3883\",\"attributes\":{\"x\":{\"type\":\"field\",\"field\":\"x\"},\"y\":{\"type\":\"field\",\"field\":\"y\"},\"size\":{\"type\":\"value\",\"value\":6},\"line_color\":{\"type\":\"value\",\"value\":\"darkblue\"},\"line_alpha\":{\"type\":\"value\",\"value\":0.2},\"fill_color\":{\"type\":\"value\",\"value\":\"darkblue\"},\"fill_alpha\":{\"type\":\"value\",\"value\":0.2},\"hatch_color\":{\"type\":\"value\",\"value\":\"darkblue\"},\"hatch_alpha\":{\"type\":\"value\",\"value\":0.2}}}}}],\"toolbar\":{\"type\":\"object\",\"name\":\"Toolbar\",\"id\":\"p3840\",\"attributes\":{\"tools\":[{\"type\":\"object\",\"name\":\"PanTool\",\"id\":\"p3865\"},{\"type\":\"object\",\"name\":\"WheelZoomTool\",\"id\":\"p3866\",\"attributes\":{\"dimensions\":\"width\",\"renderers\":\"auto\"}},{\"type\":\"object\",\"name\":\"WheelZoomTool\",\"id\":\"p3867\",\"attributes\":{\"dimensions\":\"height\",\"renderers\":\"auto\"}}],\"active_scroll\":{\"id\":\"p3866\"}}},\"left\":[{\"type\":\"object\",\"name\":\"LinearAxis\",\"id\":\"p3860\",\"attributes\":{\"ticker\":{\"type\":\"object\",\"name\":\"BasicTicker\",\"id\":\"p3861\",\"attributes\":{\"mantissas\":[1,2,5]}},\"formatter\":{\"type\":\"object\",\"name\":\"BasicTickFormatter\",\"id\":\"p3862\"},\"axis_label\":\"Glucose\",\"major_label_policy\":{\"type\":\"object\",\"name\":\"AllLabels\",\"id\":\"p3863\"}}}],\"above\":[{\"type\":\"object\",\"name\":\"DatetimeAxis\",\"id\":\"p3843\",\"attributes\":{\"ticker\":{\"type\":\"object\",\"name\":\"DatetimeTicker\",\"id\":\"p3844\",\"attributes\":{\"num_minor_ticks\":5,\"tickers\":[{\"type\":\"object\",\"name\":\"AdaptiveTicker\",\"id\":\"p3845\",\"attributes\":{\"num_minor_ticks\":0,\"mantissas\":[1,2,5],\"max_interval\":500.0}},{\"type\":\"object\",\"name\":\"AdaptiveTicker\",\"id\":\"p3846\",\"attributes\":{\"num_minor_ticks\":0,\"base\":60,\"mantissas\":[1,2,5,10,15,20,30],\"min_interval\":1000.0,\"max_interval\":1800000.0}},{\"type\":\"object\",\"name\":\"AdaptiveTicker\",\"id\":\"p3847\",\"attributes\":{\"num_minor_ticks\":0,\"base\":24,\"mantissas\":[1,2,4,6,8,12],\"min_interval\":3600000.0,\"max_interval\":43200000.0}},{\"type\":\"object\",\"name\":\"DaysTicker\",\"id\":\"p3848\",\"attributes\":{\"days\":[1,2,3,4,5,6,7,8,9,10,11,12,13,14,15,16,17,18,19,20,21,22,23,24,25,26,27,28,29,30,31]}},{\"type\":\"object\",\"name\":\"DaysTicker\",\"id\":\"p3849\",\"attributes\":{\"days\":[1,4,7,10,13,16,19,22,25,28]}},{\"type\":\"object\",\"name\":\"DaysTicker\",\"id\":\"p3850\",\"attributes\":{\"days\":[1,8,15,22]}},{\"type\":\"object\",\"name\":\"DaysTicker\",\"id\":\"p3851\",\"attributes\":{\"days\":[1,15]}},{\"type\":\"object\",\"name\":\"MonthsTicker\",\"id\":\"p3852\",\"attributes\":{\"months\":[0,1,2,3,4,5,6,7,8,9,10,11]}},{\"type\":\"object\",\"name\":\"MonthsTicker\",\"id\":\"p3853\",\"attributes\":{\"months\":[0,2,4,6,8,10]}},{\"type\":\"object\",\"name\":\"MonthsTicker\",\"id\":\"p3854\",\"attributes\":{\"months\":[0,4,8]}},{\"type\":\"object\",\"name\":\"MonthsTicker\",\"id\":\"p3855\",\"attributes\":{\"months\":[0,6]}},{\"type\":\"object\",\"name\":\"YearsTicker\",\"id\":\"p3856\"}]}},\"formatter\":{\"type\":\"object\",\"name\":\"DatetimeTickFormatter\",\"id\":\"p3857\"},\"axis_label\":\"Time\",\"major_label_policy\":{\"type\":\"object\",\"name\":\"AllLabels\",\"id\":\"p3858\"}}}],\"center\":[{\"type\":\"object\",\"name\":\"Grid\",\"id\":\"p3859\",\"attributes\":{\"axis\":{\"id\":\"p3843\"}}},{\"type\":\"object\",\"name\":\"Grid\",\"id\":\"p3864\",\"attributes\":{\"dimension\":1,\"axis\":{\"id\":\"p3860\"}}},{\"type\":\"object\",\"name\":\"Span\",\"id\":\"p3877\",\"attributes\":{\"location\":108.80902777777777,\"line_color\":\"red\"}},{\"type\":\"object\",\"name\":\"Span\",\"id\":\"p3887\",\"attributes\":{\"location\":1723020000000.0,\"dimension\":\"height\",\"line_color\":\"lightgreen\",\"line_width\":2}},{\"type\":\"object\",\"name\":\"BoxAnnotation\",\"id\":\"p3888\",\"attributes\":{\"left\":1723020000000.0,\"right\":1723023600000.0,\"top\":{\"type\":\"object\",\"name\":\"Node\",\"id\":\"p3891\",\"attributes\":{\"target\":\"frame\",\"symbol\":\"top\"}},\"bottom\":{\"type\":\"object\",\"name\":\"Node\",\"id\":\"p3892\",\"attributes\":{\"target\":\"frame\",\"symbol\":\"bottom\"}},\"fill_color\":\"lightgreen\",\"fill_alpha\":0.3}},{\"type\":\"object\",\"name\":\"Label\",\"id\":\"p3893\",\"attributes\":{\"text\":\"299.00\",\"text_color\":\"black\",\"text_font_size\":\"10pt\",\"background_fill_color\":\"white\",\"background_fill_alpha\":0.7,\"x\":1723020000000.0,\"y\":110,\"angle\":90,\"angle_units\":\"deg\"}},{\"type\":\"object\",\"name\":\"Span\",\"id\":\"p3894\",\"attributes\":{\"location\":1723030800000.0,\"dimension\":\"height\",\"line_color\":\"lightgreen\",\"line_width\":2}},{\"type\":\"object\",\"name\":\"BoxAnnotation\",\"id\":\"p3895\",\"attributes\":{\"left\":1723030800000.0,\"right\":1723034400000.0,\"top\":{\"type\":\"object\",\"name\":\"Node\",\"id\":\"p3898\",\"attributes\":{\"target\":\"frame\",\"symbol\":\"top\"}},\"bottom\":{\"type\":\"object\",\"name\":\"Node\",\"id\":\"p3899\",\"attributes\":{\"target\":\"frame\",\"symbol\":\"bottom\"}},\"fill_color\":\"lightgreen\",\"fill_alpha\":0.3}},{\"type\":\"object\",\"name\":\"Label\",\"id\":\"p3900\",\"attributes\":{\"text\":\"556.60\",\"text_color\":\"black\",\"text_font_size\":\"10pt\",\"background_fill_color\":\"white\",\"background_fill_alpha\":0.7,\"x\":1723030800000.0,\"y\":110,\"angle\":90,\"angle_units\":\"deg\"}},{\"type\":\"object\",\"name\":\"Span\",\"id\":\"p3901\",\"attributes\":{\"location\":1723047665000.0,\"dimension\":\"height\",\"line_color\":\"lightgreen\",\"line_width\":2}},{\"type\":\"object\",\"name\":\"BoxAnnotation\",\"id\":\"p3902\",\"attributes\":{\"left\":1723047665000.0,\"right\":1723051265000.0,\"top\":{\"type\":\"object\",\"name\":\"Node\",\"id\":\"p3905\",\"attributes\":{\"target\":\"frame\",\"symbol\":\"top\"}},\"bottom\":{\"type\":\"object\",\"name\":\"Node\",\"id\":\"p3906\",\"attributes\":{\"target\":\"frame\",\"symbol\":\"bottom\"}},\"fill_color\":\"lightgreen\",\"fill_alpha\":0.3}},{\"type\":\"object\",\"name\":\"Label\",\"id\":\"p3907\",\"attributes\":{\"text\":\"220.00\",\"text_color\":\"black\",\"text_font_size\":\"10pt\",\"background_fill_color\":\"white\",\"background_fill_alpha\":0.7,\"x\":1723047665000.0,\"y\":110,\"angle\":90,\"angle_units\":\"deg\"}},{\"type\":\"object\",\"name\":\"Span\",\"id\":\"p3908\",\"attributes\":{\"location\":1723059000000.0,\"dimension\":\"height\",\"line_color\":\"lightgreen\",\"line_width\":2}},{\"type\":\"object\",\"name\":\"BoxAnnotation\",\"id\":\"p3909\",\"attributes\":{\"left\":1723059000000.0,\"right\":1723062600000.0,\"top\":{\"type\":\"object\",\"name\":\"Node\",\"id\":\"p3912\",\"attributes\":{\"target\":\"frame\",\"symbol\":\"top\"}},\"bottom\":{\"type\":\"object\",\"name\":\"Node\",\"id\":\"p3913\",\"attributes\":{\"target\":\"frame\",\"symbol\":\"bottom\"}},\"fill_color\":\"lightgreen\",\"fill_alpha\":0.3}},{\"type\":\"object\",\"name\":\"Label\",\"id\":\"p3914\",\"attributes\":{\"text\":\"579.87\",\"text_color\":\"black\",\"text_font_size\":\"10pt\",\"background_fill_color\":\"white\",\"background_fill_alpha\":0.7,\"x\":1723059000000.0,\"y\":110,\"angle\":90,\"angle_units\":\"deg\"}}]}}]}};\n",
              "  const render_items = [{\"docid\":\"a68ec2f3-5ad4-4f34-aa4b-cad1509ba922\",\"roots\":{\"p3832\":\"a4e79263-328c-4431-9bf2-2bf04ea5fb49\"},\"root_ids\":[\"p3832\"]}];\n",
              "  void root.Bokeh.embed.embed_items_notebook(docs_json, render_items);\n",
              "  }\n",
              "  if (root.Bokeh !== undefined) {\n",
              "    embed_document(root);\n",
              "  } else {\n",
              "    let attempts = 0;\n",
              "    const timer = setInterval(function(root) {\n",
              "      if (root.Bokeh !== undefined) {\n",
              "        clearInterval(timer);\n",
              "        embed_document(root);\n",
              "      } else {\n",
              "        attempts++;\n",
              "        if (attempts > 100) {\n",
              "          clearInterval(timer);\n",
              "          console.log(\"Bokeh: ERROR: Unable to run BokehJS code because BokehJS library is missing\");\n",
              "        }\n",
              "      }\n",
              "    }, 10, root)\n",
              "  }\n",
              "})(window);"
            ],
            "application/vnd.bokehjs_exec.v0+json": ""
          },
          "metadata": {
            "application/vnd.bokehjs_exec.v0+json": {
              "id": "p3832"
            }
          }
        },
        {
          "output_type": "stream",
          "name": "stdout",
          "text": [
            "\n",
            "\n",
            "\n"
          ]
        },
        {
          "output_type": "display_data",
          "data": {
            "text/html": [
              "\n",
              "  <div id=\"b81592df-357f-4554-8c3e-1c0be938fe31\" data-root-id=\"p3919\" style=\"display: contents;\"></div>\n"
            ]
          },
          "metadata": {}
        },
        {
          "output_type": "display_data",
          "data": {
            "application/javascript": [
              "(function(root) {\n",
              "  function embed_document(root) {\n",
              "  const docs_json = {\"23aba4ce-8a3f-4df5-856a-79ad73ffb0ca\":{\"version\":\"3.4.3\",\"title\":\"Bokeh Application\",\"roots\":[{\"type\":\"object\",\"name\":\"Figure\",\"id\":\"p3919\",\"attributes\":{\"height\":400,\"x_range\":{\"type\":\"object\",\"name\":\"DataRange1d\",\"id\":\"p3920\"},\"y_range\":{\"type\":\"object\",\"name\":\"DataRange1d\",\"id\":\"p3921\"},\"x_scale\":{\"type\":\"object\",\"name\":\"LinearScale\",\"id\":\"p3928\"},\"y_scale\":{\"type\":\"object\",\"name\":\"LinearScale\",\"id\":\"p3929\"},\"title\":{\"type\":\"object\",\"name\":\"Title\",\"id\":\"p3926\",\"attributes\":{\"text\":\"Day: 2024-08-08\",\"text_font_size\":\"20pt\",\"align\":\"center\"}},\"renderers\":[{\"type\":\"object\",\"name\":\"GlyphRenderer\",\"id\":\"p3961\",\"attributes\":{\"data_source\":{\"type\":\"object\",\"name\":\"ColumnDataSource\",\"id\":\"p3955\",\"attributes\":{\"selected\":{\"type\":\"object\",\"name\":\"Selection\",\"id\":\"p3956\",\"attributes\":{\"indices\":[],\"line_indices\":[]}},\"selection_policy\":{\"type\":\"object\",\"name\":\"UnionRenderers\",\"id\":\"p3957\"},\"data\":{\"type\":\"map\",\"entries\":[[\"x\",{\"type\":\"ndarray\",\"array\":{\"type\":\"bytes\",\"data\":\"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\"},\"shape\":[288],\"dtype\":\"float64\",\"order\":\"little\"}],[\"y\",{\"type\":\"ndarray\",\"array\":{\"type\":\"bytes\",\"data\":\"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\"},\"shape\":[288],\"dtype\":\"float64\",\"order\":\"little\"}]]}}},\"view\":{\"type\":\"object\",\"name\":\"CDSView\",\"id\":\"p3962\",\"attributes\":{\"filter\":{\"type\":\"object\",\"name\":\"AllIndices\",\"id\":\"p3963\"}}},\"glyph\":{\"type\":\"object\",\"name\":\"Line\",\"id\":\"p3958\",\"attributes\":{\"x\":{\"type\":\"field\",\"field\":\"x\"},\"y\":{\"type\":\"field\",\"field\":\"y\"},\"line_color\":\"gray\",\"line_alpha\":0.5,\"line_width\":2}},\"nonselection_glyph\":{\"type\":\"object\",\"name\":\"Line\",\"id\":\"p3959\",\"attributes\":{\"x\":{\"type\":\"field\",\"field\":\"x\"},\"y\":{\"type\":\"field\",\"field\":\"y\"},\"line_color\":\"gray\",\"line_alpha\":0.1,\"line_width\":2}},\"muted_glyph\":{\"type\":\"object\",\"name\":\"Line\",\"id\":\"p3960\",\"attributes\":{\"x\":{\"type\":\"field\",\"field\":\"x\"},\"y\":{\"type\":\"field\",\"field\":\"y\"},\"line_color\":\"gray\",\"line_alpha\":0.2,\"line_width\":2}}}},{\"type\":\"object\",\"name\":\"GlyphRenderer\",\"id\":\"p3971\",\"attributes\":{\"data_source\":{\"type\":\"object\",\"name\":\"ColumnDataSource\",\"id\":\"p3965\",\"attributes\":{\"selected\":{\"type\":\"object\",\"name\":\"Selection\",\"id\":\"p3966\",\"attributes\":{\"indices\":[],\"line_indices\":[]}},\"selection_policy\":{\"type\":\"object\",\"name\":\"UnionRenderers\",\"id\":\"p3967\"},\"data\":{\"type\":\"map\",\"entries\":[[\"x\",{\"type\":\"ndarray\",\"array\":{\"type\":\"bytes\",\"data\":\"AACGph8TeUIAAKaxPxN5QgAAeg4PE3lCAADYwwoTeUI=\"},\"shape\":[4],\"dtype\":\"float64\",\"order\":\"little\"}],[\"y\",{\"type\":\"ndarray\",\"array\":{\"type\":\"bytes\",\"data\":\"AAAAAAAAYUAAAAAAAIBhQAAAAAAAQGBAAAAAAAAAXEA=\"},\"shape\":[4],\"dtype\":\"float64\",\"order\":\"little\"}]]}}},\"view\":{\"type\":\"object\",\"name\":\"CDSView\",\"id\":\"p3972\",\"attributes\":{\"filter\":{\"type\":\"object\",\"name\":\"AllIndices\",\"id\":\"p3973\"}}},\"glyph\":{\"type\":\"object\",\"name\":\"Scatter\",\"id\":\"p3968\",\"attributes\":{\"x\":{\"type\":\"field\",\"field\":\"x\"},\"y\":{\"type\":\"field\",\"field\":\"y\"},\"size\":{\"type\":\"value\",\"value\":6},\"line_color\":{\"type\":\"value\",\"value\":\"darkblue\"},\"line_alpha\":{\"type\":\"value\",\"value\":0.7},\"fill_color\":{\"type\":\"value\",\"value\":\"darkblue\"},\"fill_alpha\":{\"type\":\"value\",\"value\":0.7},\"hatch_color\":{\"type\":\"value\",\"value\":\"darkblue\"},\"hatch_alpha\":{\"type\":\"value\",\"value\":0.7}}},\"nonselection_glyph\":{\"type\":\"object\",\"name\":\"Scatter\",\"id\":\"p3969\",\"attributes\":{\"x\":{\"type\":\"field\",\"field\":\"x\"},\"y\":{\"type\":\"field\",\"field\":\"y\"},\"size\":{\"type\":\"value\",\"value\":6},\"line_color\":{\"type\":\"value\",\"value\":\"darkblue\"},\"line_alpha\":{\"type\":\"value\",\"value\":0.1},\"fill_color\":{\"type\":\"value\",\"value\":\"darkblue\"},\"fill_alpha\":{\"type\":\"value\",\"value\":0.1},\"hatch_color\":{\"type\":\"value\",\"value\":\"darkblue\"},\"hatch_alpha\":{\"type\":\"value\",\"value\":0.1}}},\"muted_glyph\":{\"type\":\"object\",\"name\":\"Scatter\",\"id\":\"p3970\",\"attributes\":{\"x\":{\"type\":\"field\",\"field\":\"x\"},\"y\":{\"type\":\"field\",\"field\":\"y\"},\"size\":{\"type\":\"value\",\"value\":6},\"line_color\":{\"type\":\"value\",\"value\":\"darkblue\"},\"line_alpha\":{\"type\":\"value\",\"value\":0.2},\"fill_color\":{\"type\":\"value\",\"value\":\"darkblue\"},\"fill_alpha\":{\"type\":\"value\",\"value\":0.2},\"hatch_color\":{\"type\":\"value\",\"value\":\"darkblue\"},\"hatch_alpha\":{\"type\":\"value\",\"value\":0.2}}}}}],\"toolbar\":{\"type\":\"object\",\"name\":\"Toolbar\",\"id\":\"p3927\",\"attributes\":{\"tools\":[{\"type\":\"object\",\"name\":\"PanTool\",\"id\":\"p3952\"},{\"type\":\"object\",\"name\":\"WheelZoomTool\",\"id\":\"p3953\",\"attributes\":{\"dimensions\":\"width\",\"renderers\":\"auto\"}},{\"type\":\"object\",\"name\":\"WheelZoomTool\",\"id\":\"p3954\",\"attributes\":{\"dimensions\":\"height\",\"renderers\":\"auto\"}}],\"active_scroll\":{\"id\":\"p3953\"}}},\"left\":[{\"type\":\"object\",\"name\":\"LinearAxis\",\"id\":\"p3947\",\"attributes\":{\"ticker\":{\"type\":\"object\",\"name\":\"BasicTicker\",\"id\":\"p3948\",\"attributes\":{\"mantissas\":[1,2,5]}},\"formatter\":{\"type\":\"object\",\"name\":\"BasicTickFormatter\",\"id\":\"p3949\"},\"axis_label\":\"Glucose\",\"major_label_policy\":{\"type\":\"object\",\"name\":\"AllLabels\",\"id\":\"p3950\"}}}],\"above\":[{\"type\":\"object\",\"name\":\"DatetimeAxis\",\"id\":\"p3930\",\"attributes\":{\"ticker\":{\"type\":\"object\",\"name\":\"DatetimeTicker\",\"id\":\"p3931\",\"attributes\":{\"num_minor_ticks\":5,\"tickers\":[{\"type\":\"object\",\"name\":\"AdaptiveTicker\",\"id\":\"p3932\",\"attributes\":{\"num_minor_ticks\":0,\"mantissas\":[1,2,5],\"max_interval\":500.0}},{\"type\":\"object\",\"name\":\"AdaptiveTicker\",\"id\":\"p3933\",\"attributes\":{\"num_minor_ticks\":0,\"base\":60,\"mantissas\":[1,2,5,10,15,20,30],\"min_interval\":1000.0,\"max_interval\":1800000.0}},{\"type\":\"object\",\"name\":\"AdaptiveTicker\",\"id\":\"p3934\",\"attributes\":{\"num_minor_ticks\":0,\"base\":24,\"mantissas\":[1,2,4,6,8,12],\"min_interval\":3600000.0,\"max_interval\":43200000.0}},{\"type\":\"object\",\"name\":\"DaysTicker\",\"id\":\"p3935\",\"attributes\":{\"days\":[1,2,3,4,5,6,7,8,9,10,11,12,13,14,15,16,17,18,19,20,21,22,23,24,25,26,27,28,29,30,31]}},{\"type\":\"object\",\"name\":\"DaysTicker\",\"id\":\"p3936\",\"attributes\":{\"days\":[1,4,7,10,13,16,19,22,25,28]}},{\"type\":\"object\",\"name\":\"DaysTicker\",\"id\":\"p3937\",\"attributes\":{\"days\":[1,8,15,22]}},{\"type\":\"object\",\"name\":\"DaysTicker\",\"id\":\"p3938\",\"attributes\":{\"days\":[1,15]}},{\"type\":\"object\",\"name\":\"MonthsTicker\",\"id\":\"p3939\",\"attributes\":{\"months\":[0,1,2,3,4,5,6,7,8,9,10,11]}},{\"type\":\"object\",\"name\":\"MonthsTicker\",\"id\":\"p3940\",\"attributes\":{\"months\":[0,2,4,6,8,10]}},{\"type\":\"object\",\"name\":\"MonthsTicker\",\"id\":\"p3941\",\"attributes\":{\"months\":[0,4,8]}},{\"type\":\"object\",\"name\":\"MonthsTicker\",\"id\":\"p3942\",\"attributes\":{\"months\":[0,6]}},{\"type\":\"object\",\"name\":\"YearsTicker\",\"id\":\"p3943\"}]}},\"formatter\":{\"type\":\"object\",\"name\":\"DatetimeTickFormatter\",\"id\":\"p3944\"},\"axis_label\":\"Time\",\"major_label_policy\":{\"type\":\"object\",\"name\":\"AllLabels\",\"id\":\"p3945\"}}}],\"center\":[{\"type\":\"object\",\"name\":\"Grid\",\"id\":\"p3946\",\"attributes\":{\"axis\":{\"id\":\"p3930\"}}},{\"type\":\"object\",\"name\":\"Grid\",\"id\":\"p3951\",\"attributes\":{\"dimension\":1,\"axis\":{\"id\":\"p3947\"}}},{\"type\":\"object\",\"name\":\"Span\",\"id\":\"p3964\",\"attributes\":{\"location\":108.49305555555556,\"line_color\":\"red\"}},{\"type\":\"object\",\"name\":\"Span\",\"id\":\"p3974\",\"attributes\":{\"location\":1723102200000.0,\"dimension\":\"height\",\"line_color\":\"lightgreen\",\"line_width\":2}},{\"type\":\"object\",\"name\":\"BoxAnnotation\",\"id\":\"p3975\",\"attributes\":{\"left\":1723102200000.0,\"right\":1723105800000.0,\"top\":{\"type\":\"object\",\"name\":\"Node\",\"id\":\"p3978\",\"attributes\":{\"target\":\"frame\",\"symbol\":\"top\"}},\"bottom\":{\"type\":\"object\",\"name\":\"Node\",\"id\":\"p3979\",\"attributes\":{\"target\":\"frame\",\"symbol\":\"bottom\"}},\"fill_color\":\"lightgreen\",\"fill_alpha\":0.3}},{\"type\":\"object\",\"name\":\"Label\",\"id\":\"p3980\",\"attributes\":{\"text\":\"299.00\",\"text_color\":\"black\",\"text_font_size\":\"10pt\",\"background_fill_color\":\"white\",\"background_fill_alpha\":0.7,\"x\":1723102200000.0,\"y\":110,\"angle\":90,\"angle_units\":\"deg\"}},{\"type\":\"object\",\"name\":\"Span\",\"id\":\"p3981\",\"attributes\":{\"location\":1723118940000.0,\"dimension\":\"height\",\"line_color\":\"lightgreen\",\"line_width\":2}},{\"type\":\"object\",\"name\":\"BoxAnnotation\",\"id\":\"p3982\",\"attributes\":{\"left\":1723118940000.0,\"right\":1723122540000.0,\"top\":{\"type\":\"object\",\"name\":\"Node\",\"id\":\"p3985\",\"attributes\":{\"target\":\"frame\",\"symbol\":\"top\"}},\"bottom\":{\"type\":\"object\",\"name\":\"Node\",\"id\":\"p3986\",\"attributes\":{\"target\":\"frame\",\"symbol\":\"bottom\"}},\"fill_color\":\"lightgreen\",\"fill_alpha\":0.3}},{\"type\":\"object\",\"name\":\"Label\",\"id\":\"p3987\",\"attributes\":{\"text\":\"851.80\",\"text_color\":\"black\",\"text_font_size\":\"10pt\",\"background_fill_color\":\"white\",\"background_fill_alpha\":0.7,\"x\":1723118940000.0,\"y\":110,\"angle\":90,\"angle_units\":\"deg\"}}]}}]}};\n",
              "  const render_items = [{\"docid\":\"23aba4ce-8a3f-4df5-856a-79ad73ffb0ca\",\"roots\":{\"p3919\":\"b81592df-357f-4554-8c3e-1c0be938fe31\"},\"root_ids\":[\"p3919\"]}];\n",
              "  void root.Bokeh.embed.embed_items_notebook(docs_json, render_items);\n",
              "  }\n",
              "  if (root.Bokeh !== undefined) {\n",
              "    embed_document(root);\n",
              "  } else {\n",
              "    let attempts = 0;\n",
              "    const timer = setInterval(function(root) {\n",
              "      if (root.Bokeh !== undefined) {\n",
              "        clearInterval(timer);\n",
              "        embed_document(root);\n",
              "      } else {\n",
              "        attempts++;\n",
              "        if (attempts > 100) {\n",
              "          clearInterval(timer);\n",
              "          console.log(\"Bokeh: ERROR: Unable to run BokehJS code because BokehJS library is missing\");\n",
              "        }\n",
              "      }\n",
              "    }, 10, root)\n",
              "  }\n",
              "})(window);"
            ],
            "application/vnd.bokehjs_exec.v0+json": ""
          },
          "metadata": {
            "application/vnd.bokehjs_exec.v0+json": {
              "id": "p3919"
            }
          }
        },
        {
          "output_type": "stream",
          "name": "stdout",
          "text": [
            "\n",
            "\n",
            "\n"
          ]
        },
        {
          "output_type": "display_data",
          "data": {
            "text/html": [
              "\n",
              "  <div id=\"d5972201-1883-4b53-bf48-a17323cf157e\" data-root-id=\"p3992\" style=\"display: contents;\"></div>\n"
            ]
          },
          "metadata": {}
        },
        {
          "output_type": "display_data",
          "data": {
            "application/javascript": [
              "(function(root) {\n",
              "  function embed_document(root) {\n",
              "  const docs_json = {\"50d23f6f-f91a-477b-b517-cd3e63f0f759\":{\"version\":\"3.4.3\",\"title\":\"Bokeh Application\",\"roots\":[{\"type\":\"object\",\"name\":\"Figure\",\"id\":\"p3992\",\"attributes\":{\"height\":400,\"x_range\":{\"type\":\"object\",\"name\":\"DataRange1d\",\"id\":\"p3993\"},\"y_range\":{\"type\":\"object\",\"name\":\"DataRange1d\",\"id\":\"p3994\"},\"x_scale\":{\"type\":\"object\",\"name\":\"LinearScale\",\"id\":\"p4001\"},\"y_scale\":{\"type\":\"object\",\"name\":\"LinearScale\",\"id\":\"p4002\"},\"title\":{\"type\":\"object\",\"name\":\"Title\",\"id\":\"p3999\",\"attributes\":{\"text\":\"Day: 2024-08-09\",\"text_font_size\":\"20pt\",\"align\":\"center\"}},\"renderers\":[{\"type\":\"object\",\"name\":\"GlyphRenderer\",\"id\":\"p4034\",\"attributes\":{\"data_source\":{\"type\":\"object\",\"name\":\"ColumnDataSource\",\"id\":\"p4028\",\"attributes\":{\"selected\":{\"type\":\"object\",\"name\":\"Selection\",\"id\":\"p4029\",\"attributes\":{\"indices\":[],\"line_indices\":[]}},\"selection_policy\":{\"type\":\"object\",\"name\":\"UnionRenderers\",\"id\":\"p4030\"},\"data\":{\"type\":\"map\",\"entries\":[[\"x\",{\"type\":\"ndarray\",\"array\":{\"type\":\"bytes\",\"data\":\"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\"},\"shape\":[288],\"dtype\":\"float64\",\"order\":\"little\"}],[\"y\",{\"type\":\"ndarray\",\"array\":{\"type\":\"bytes\",\"data\":\"AAAAAADAWkAAAAAAAABaQAAAAAAAAFpAAAAAAACAWUAAAAAAAABaQAAAAAAAwFlAAAAAAADAWUAAAAAAAMBZQAAAAAAAgFlAAAAAAABAWkAAAAAAAIBZQAAAAAAAAFlAAAAAAAAAWUAAAAAAAEBZQAAAAAAAgFlAAAAAAADAWEAAAAAAAIBYQAAAAAAAgFhAAAAAAADAWEAAAAAAAABZQAAAAAAAQFlAAAAAAACAWUAAAAAAAMBZQAAAAAAAwFlAAAAAAACAWUAAAAAAAEBaQAAAAAAAwFlAAAAAAADAWUAAAAAAAMBaQAAAAAAAAFtAAAAAAABAW0AAAAAAAMBaQAAAAAAAQFpAAAAAAADAWUAAAAAAAABaQAAAAAAAwFlAAAAAAADAWUAAAAAAAMBZQAAAAAAAAFpAAAAAAAAAWkAAAAAAAIBZQAAAAAAAQFlAAAAAAADAWUAAAAAAAABZQAAAAAAAQFhAAAAAAABAWEAAAAAAAIBYQAAAAAAAwFhAAAAAAADAWEAAAAAAAIBZQAAAAAAAAFpAAAAAAABAWkAAAAAAAMBZQAAAAAAAAFlAAAAAAABAWUAAAAAAAEBZQAAAAAAAwFlAAAAAAAAAWkAAAAAAAIBaQAAAAAAAAFtAAAAAAACAWkAAAAAAAABaQAAAAAAAAFpAAAAAAAAAWkAAAAAAAMBZQAAAAAAAAFpAAAAAAADAWkAAAAAAAMBaQAAAAAAAQFpAAAAAAABAWkAAAAAAAMBaQAAAAAAAgFpAAAAAAABAWkAAAAAAAEBaQAAAAAAAwFlAAAAAAABAWUAAAAAAAMBZQAAAAAAAAFpAAAAAAABAWkAAAAAAAMBaQAAAAAAAwFpAAAAAAAAAW0AAAAAAAMBaQAAAAAAAQFpAAAAAAABAW0AAAAAAAMBbQAAAAAAAwFtAAAAAAACAW0AAAAAAAMBbQAAAAAAAAFxAAAAAAADAXEAAAAAAAMBaQAAAAAAAwFlAAAAAAAAAWkAAAAAAAIBbQAAAAAAAAFxAAAAAAADAW0AAAAAAAEBcQAAAAAAAgFxAAAAAAABAXEAAAAAAAABcQAAAAAAAwFtAAAAAAADAW0AAAAAAAMBbQAAAAAAAwFtAAAAAAADAW0AAAAAAAIBbQAAAAAAAQFtAAAAAAABAW0AAAAAAAABbQAAAAAAAAFtAAAAAAAAAW0AAAAAAAEBbQAAAAAAAAFtAAAAAAAAAW0AAAAAAAABbQAAAAAAAAFtAAAAAAABAW0AAAAAAAABbQAAAAAAAQFtAAAAAAAAAW0AAAAAAAMBaQAAAAAAAAFtAAAAAAAAAW0AAAAAAAEBbQAAAAAAAAFtAAAAAAABAW0AAAAAAAEBbQAAAAAAAwFpAAAAAAACAWkAAAAAAAIBZQAAAAAAAgFlAAAAAAABAWUAAAAAAAABZQAAAAAAAQFlAAAAAAACAWUAAAAAAAIBZQAAAAAAAQFlAAAAAAACAWUAAAAAAAIBZQAAAAAAAgFlAAAAAAACAWUAAAAAAAMBZQAAAAAAAAFpAAAAAAABAWkAAAAAAAEBaQAAAAAAAAFpAAAAAAABAWkAAAAAAAABaQAAAAAAAgFlAAAAAAABAWUAAAAAAAABaQAAAAAAAgFpAAAAAAADAWkAAAAAAAIBbQAAAAAAAwFxAAAAAAAAAXkAAAAAAAEBeQAAAAAAAwF5AAAAAAABAX0AAAAAAAABgQAAAAAAAoGBAAAAAAAAAYUAAAAAAAEBhQAAAAAAA4GFAAAAAAACAYUAAAAAAAEBhQAAAAAAA4GBAAAAAAACAYEAAAAAAAEBgQAAAAAAAwF5AAAAAAACAXUAAAAAAAIBcQAAAAAAAgFtAAAAAAADAWkAAAAAAAABaQAAAAAAAQFlAAAAAAADAWEAAAAAAAMBYQAAAAAAAAFlAAAAAAAAAWUAAAAAAAABZQAAAAAAAQFlAAAAAAACAWUAAAAAAAIBZQAAAAAAAQFlAAAAAAACAWUAAAAAAAEBZQAAAAAAAQFlAAAAAAACAWUAAAAAAAEBZQAAAAAAAQFlAAAAAAACAWUAAAAAAAABZQAAAAAAAAFlAAAAAAABAWUAAAAAAAABZQAAAAAAAQFlAAAAAAAAAWUAAAAAAAEBZQAAAAAAAQFlAAAAAAAAAWUAAAAAAAEBZQAAAAAAAgFlAAAAAAABAWUAAAAAAAEBZQAAAAAAAgFlAAAAAAAAAWUAAAAAAAEBZQAAAAAAAQFlAAAAAAABAWUAAAAAAAABaQAAAAAAAgFlAAAAAAAAAWkAAAAAAAEBZQAAAAAAAgFhAAAAAAAAAWEAAAAAAAABXQAAAAAAAwFdAAAAAAABAV0AAAAAAAABYQAAAAAAAQFlAAAAAAADAWEAAAAAAAIBYQAAAAAAAwFhAAAAAAACAWEAAAAAAAMBXQAAAAAAAgFdAAAAAAACAWEAAAAAAAMBYQAAAAAAAQFhAAAAAAADAWEAAAAAAAIBYQAAAAAAAQFhAAAAAAABAWEAAAAAAAABZQAAAAAAAgFlAAAAAAADAWUAAAAAAAEBbQAAAAAAAwFtAAAAAAACAW0AAAAAAAMBbQAAAAAAAwFxAAAAAAAAAXUAAAAAAAMBcQAAAAAAAwFxAAAAAAAAAXkAAAAAAAIBeQAAAAAAAAF9AAAAAAACAX0AAAAAAACBgQAAAAAAAgGBAAAAAAACgYEAAAAAAAMBgQAAAAAAAwGBAAAAAAADgYEAAAAAAAKBgQAAAAAAAwGBAAAAAAABgYEAAAAAAAABgQAAAAAAAQF9AAAAAAACAXkAAAAAAAIBeQAAAAAAAgF5AAAAAAABAX0AAAAAAAEBgQAAAAAAA4GBAAAAAAADAYUAAAAAAAABiQAAAAAAAYGJAAAAAAADgYkAAAAAAAABjQAAAAAAAwGJAAAAAAABAYkAAAAAAAMBhQAAAAAAAQGFAAAAAAABgYEAAAAAAAIBfQAAAAAAAgF5AAAAAAACAXUAAAAAAAIBdQAAAAAAAQF5AAAAAAAAAXkAAAAAAAMBeQAAAAAAAQF9AAAAAAACAXkAAAAAAAABeQAAAAAAAgF1A\"},\"shape\":[288],\"dtype\":\"float64\",\"order\":\"little\"}]]}}},\"view\":{\"type\":\"object\",\"name\":\"CDSView\",\"id\":\"p4035\",\"attributes\":{\"filter\":{\"type\":\"object\",\"name\":\"AllIndices\",\"id\":\"p4036\"}}},\"glyph\":{\"type\":\"object\",\"name\":\"Line\",\"id\":\"p4031\",\"attributes\":{\"x\":{\"type\":\"field\",\"field\":\"x\"},\"y\":{\"type\":\"field\",\"field\":\"y\"},\"line_color\":\"gray\",\"line_alpha\":0.5,\"line_width\":2}},\"nonselection_glyph\":{\"type\":\"object\",\"name\":\"Line\",\"id\":\"p4032\",\"attributes\":{\"x\":{\"type\":\"field\",\"field\":\"x\"},\"y\":{\"type\":\"field\",\"field\":\"y\"},\"line_color\":\"gray\",\"line_alpha\":0.1,\"line_width\":2}},\"muted_glyph\":{\"type\":\"object\",\"name\":\"Line\",\"id\":\"p4033\",\"attributes\":{\"x\":{\"type\":\"field\",\"field\":\"x\"},\"y\":{\"type\":\"field\",\"field\":\"y\"},\"line_color\":\"gray\",\"line_alpha\":0.2,\"line_width\":2}}}},{\"type\":\"object\",\"name\":\"GlyphRenderer\",\"id\":\"p4044\",\"attributes\":{\"data_source\":{\"type\":\"object\",\"name\":\"ColumnDataSource\",\"id\":\"p4038\",\"attributes\":{\"selected\":{\"type\":\"object\",\"name\":\"Selection\",\"id\":\"p4039\",\"attributes\":{\"indices\":[],\"line_indices\":[]}},\"selection_policy\":{\"type\":\"object\",\"name\":\"UnionRenderers\",\"id\":\"p4040\"},\"data\":{\"type\":\"map\",\"entries\":[[\"x\",{\"type\":\"ndarray\",\"array\":{\"type\":\"bytes\",\"data\":\"AACqDXYTeUIAAJSqlBN5QgAAvuFgE3lCAAC0FpATeUIAADa3TxN5Qg==\"},\"shape\":[5],\"dtype\":\"float64\",\"order\":\"little\"}],[\"y\",{\"type\":\"ndarray\",\"array\":{\"type\":\"bytes\",\"data\":\"AAAAAADgYUAAAAAAAABjQAAAAAAAwFxAAAAAAADgYEAAAAAAAEBbQA==\"},\"shape\":[5],\"dtype\":\"float64\",\"order\":\"little\"}]]}}},\"view\":{\"type\":\"object\",\"name\":\"CDSView\",\"id\":\"p4045\",\"attributes\":{\"filter\":{\"type\":\"object\",\"name\":\"AllIndices\",\"id\":\"p4046\"}}},\"glyph\":{\"type\":\"object\",\"name\":\"Scatter\",\"id\":\"p4041\",\"attributes\":{\"x\":{\"type\":\"field\",\"field\":\"x\"},\"y\":{\"type\":\"field\",\"field\":\"y\"},\"size\":{\"type\":\"value\",\"value\":6},\"line_color\":{\"type\":\"value\",\"value\":\"darkblue\"},\"line_alpha\":{\"type\":\"value\",\"value\":0.7},\"fill_color\":{\"type\":\"value\",\"value\":\"darkblue\"},\"fill_alpha\":{\"type\":\"value\",\"value\":0.7},\"hatch_color\":{\"type\":\"value\",\"value\":\"darkblue\"},\"hatch_alpha\":{\"type\":\"value\",\"value\":0.7}}},\"nonselection_glyph\":{\"type\":\"object\",\"name\":\"Scatter\",\"id\":\"p4042\",\"attributes\":{\"x\":{\"type\":\"field\",\"field\":\"x\"},\"y\":{\"type\":\"field\",\"field\":\"y\"},\"size\":{\"type\":\"value\",\"value\":6},\"line_color\":{\"type\":\"value\",\"value\":\"darkblue\"},\"line_alpha\":{\"type\":\"value\",\"value\":0.1},\"fill_color\":{\"type\":\"value\",\"value\":\"darkblue\"},\"fill_alpha\":{\"type\":\"value\",\"value\":0.1},\"hatch_color\":{\"type\":\"value\",\"value\":\"darkblue\"},\"hatch_alpha\":{\"type\":\"value\",\"value\":0.1}}},\"muted_glyph\":{\"type\":\"object\",\"name\":\"Scatter\",\"id\":\"p4043\",\"attributes\":{\"x\":{\"type\":\"field\",\"field\":\"x\"},\"y\":{\"type\":\"field\",\"field\":\"y\"},\"size\":{\"type\":\"value\",\"value\":6},\"line_color\":{\"type\":\"value\",\"value\":\"darkblue\"},\"line_alpha\":{\"type\":\"value\",\"value\":0.2},\"fill_color\":{\"type\":\"value\",\"value\":\"darkblue\"},\"fill_alpha\":{\"type\":\"value\",\"value\":0.2},\"hatch_color\":{\"type\":\"value\",\"value\":\"darkblue\"},\"hatch_alpha\":{\"type\":\"value\",\"value\":0.2}}}}}],\"toolbar\":{\"type\":\"object\",\"name\":\"Toolbar\",\"id\":\"p4000\",\"attributes\":{\"tools\":[{\"type\":\"object\",\"name\":\"PanTool\",\"id\":\"p4025\"},{\"type\":\"object\",\"name\":\"WheelZoomTool\",\"id\":\"p4026\",\"attributes\":{\"dimensions\":\"width\",\"renderers\":\"auto\"}},{\"type\":\"object\",\"name\":\"WheelZoomTool\",\"id\":\"p4027\",\"attributes\":{\"dimensions\":\"height\",\"renderers\":\"auto\"}}],\"active_scroll\":{\"id\":\"p4026\"}}},\"left\":[{\"type\":\"object\",\"name\":\"LinearAxis\",\"id\":\"p4020\",\"attributes\":{\"ticker\":{\"type\":\"object\",\"name\":\"BasicTicker\",\"id\":\"p4021\",\"attributes\":{\"mantissas\":[1,2,5]}},\"formatter\":{\"type\":\"object\",\"name\":\"BasicTickFormatter\",\"id\":\"p4022\"},\"axis_label\":\"Glucose\",\"major_label_policy\":{\"type\":\"object\",\"name\":\"AllLabels\",\"id\":\"p4023\"}}}],\"above\":[{\"type\":\"object\",\"name\":\"DatetimeAxis\",\"id\":\"p4003\",\"attributes\":{\"ticker\":{\"type\":\"object\",\"name\":\"DatetimeTicker\",\"id\":\"p4004\",\"attributes\":{\"num_minor_ticks\":5,\"tickers\":[{\"type\":\"object\",\"name\":\"AdaptiveTicker\",\"id\":\"p4005\",\"attributes\":{\"num_minor_ticks\":0,\"mantissas\":[1,2,5],\"max_interval\":500.0}},{\"type\":\"object\",\"name\":\"AdaptiveTicker\",\"id\":\"p4006\",\"attributes\":{\"num_minor_ticks\":0,\"base\":60,\"mantissas\":[1,2,5,10,15,20,30],\"min_interval\":1000.0,\"max_interval\":1800000.0}},{\"type\":\"object\",\"name\":\"AdaptiveTicker\",\"id\":\"p4007\",\"attributes\":{\"num_minor_ticks\":0,\"base\":24,\"mantissas\":[1,2,4,6,8,12],\"min_interval\":3600000.0,\"max_interval\":43200000.0}},{\"type\":\"object\",\"name\":\"DaysTicker\",\"id\":\"p4008\",\"attributes\":{\"days\":[1,2,3,4,5,6,7,8,9,10,11,12,13,14,15,16,17,18,19,20,21,22,23,24,25,26,27,28,29,30,31]}},{\"type\":\"object\",\"name\":\"DaysTicker\",\"id\":\"p4009\",\"attributes\":{\"days\":[1,4,7,10,13,16,19,22,25,28]}},{\"type\":\"object\",\"name\":\"DaysTicker\",\"id\":\"p4010\",\"attributes\":{\"days\":[1,8,15,22]}},{\"type\":\"object\",\"name\":\"DaysTicker\",\"id\":\"p4011\",\"attributes\":{\"days\":[1,15]}},{\"type\":\"object\",\"name\":\"MonthsTicker\",\"id\":\"p4012\",\"attributes\":{\"months\":[0,1,2,3,4,5,6,7,8,9,10,11]}},{\"type\":\"object\",\"name\":\"MonthsTicker\",\"id\":\"p4013\",\"attributes\":{\"months\":[0,2,4,6,8,10]}},{\"type\":\"object\",\"name\":\"MonthsTicker\",\"id\":\"p4014\",\"attributes\":{\"months\":[0,4,8]}},{\"type\":\"object\",\"name\":\"MonthsTicker\",\"id\":\"p4015\",\"attributes\":{\"months\":[0,6]}},{\"type\":\"object\",\"name\":\"YearsTicker\",\"id\":\"p4016\"}]}},\"formatter\":{\"type\":\"object\",\"name\":\"DatetimeTickFormatter\",\"id\":\"p4017\"},\"axis_label\":\"Time\",\"major_label_policy\":{\"type\":\"object\",\"name\":\"AllLabels\",\"id\":\"p4018\"}}}],\"center\":[{\"type\":\"object\",\"name\":\"Grid\",\"id\":\"p4019\",\"attributes\":{\"axis\":{\"id\":\"p4003\"}}},{\"type\":\"object\",\"name\":\"Grid\",\"id\":\"p4024\",\"attributes\":{\"dimension\":1,\"axis\":{\"id\":\"p4020\"}}},{\"type\":\"object\",\"name\":\"Span\",\"id\":\"p4037\",\"attributes\":{\"location\":109.28472222222223,\"line_color\":\"red\"}},{\"type\":\"object\",\"name\":\"Span\",\"id\":\"p4047\",\"attributes\":{\"location\":1723198500000.0,\"dimension\":\"height\",\"line_color\":\"lightgreen\",\"line_width\":2}},{\"type\":\"object\",\"name\":\"BoxAnnotation\",\"id\":\"p4048\",\"attributes\":{\"left\":1723198500000.0,\"right\":1723202100000.0,\"top\":{\"type\":\"object\",\"name\":\"Node\",\"id\":\"p4051\",\"attributes\":{\"target\":\"frame\",\"symbol\":\"top\"}},\"bottom\":{\"type\":\"object\",\"name\":\"Node\",\"id\":\"p4052\",\"attributes\":{\"target\":\"frame\",\"symbol\":\"bottom\"}},\"fill_color\":\"lightgreen\",\"fill_alpha\":0.3}},{\"type\":\"object\",\"name\":\"Label\",\"id\":\"p4053\",\"attributes\":{\"text\":\"299.00\",\"text_color\":\"black\",\"text_font_size\":\"10pt\",\"background_fill_color\":\"white\",\"background_fill_alpha\":0.7,\"x\":1723198500000.0,\"y\":110,\"angle\":90,\"angle_units\":\"deg\"}},{\"type\":\"object\",\"name\":\"Span\",\"id\":\"p4054\",\"attributes\":{\"location\":1723206199000.0,\"dimension\":\"height\",\"line_color\":\"lightgreen\",\"line_width\":2}},{\"type\":\"object\",\"name\":\"BoxAnnotation\",\"id\":\"p4055\",\"attributes\":{\"left\":1723206199000.0,\"right\":1723209799000.0,\"top\":{\"type\":\"object\",\"name\":\"Node\",\"id\":\"p4058\",\"attributes\":{\"target\":\"frame\",\"symbol\":\"top\"}},\"bottom\":{\"type\":\"object\",\"name\":\"Node\",\"id\":\"p4059\",\"attributes\":{\"target\":\"frame\",\"symbol\":\"bottom\"}},\"fill_color\":\"lightgreen\",\"fill_alpha\":0.3}},{\"type\":\"object\",\"name\":\"Label\",\"id\":\"p4060\",\"attributes\":{\"text\":\"861.00\",\"text_color\":\"black\",\"text_font_size\":\"10pt\",\"background_fill_color\":\"white\",\"background_fill_alpha\":0.7,\"x\":1723206199000.0,\"y\":110,\"angle\":90,\"angle_units\":\"deg\"}},{\"type\":\"object\",\"name\":\"Span\",\"id\":\"p4061\",\"attributes\":{\"location\":1723231166000.0,\"dimension\":\"height\",\"line_color\":\"lightgreen\",\"line_width\":2}},{\"type\":\"object\",\"name\":\"BoxAnnotation\",\"id\":\"p4062\",\"attributes\":{\"left\":1723231166000.0,\"right\":1723234766000.0,\"top\":{\"type\":\"object\",\"name\":\"Node\",\"id\":\"p4065\",\"attributes\":{\"target\":\"frame\",\"symbol\":\"top\"}},\"bottom\":{\"type\":\"object\",\"name\":\"Node\",\"id\":\"p4066\",\"attributes\":{\"target\":\"frame\",\"symbol\":\"bottom\"}},\"fill_color\":\"lightgreen\",\"fill_alpha\":0.3}},{\"type\":\"object\",\"name\":\"Label\",\"id\":\"p4067\",\"attributes\":{\"text\":\"358.00\",\"text_color\":\"black\",\"text_font_size\":\"10pt\",\"background_fill_color\":\"white\",\"background_fill_alpha\":0.7,\"x\":1723231166000.0,\"y\":110,\"angle\":90,\"angle_units\":\"deg\"}},{\"type\":\"object\",\"name\":\"Span\",\"id\":\"p4068\",\"attributes\":{\"location\":1723232214000.0,\"dimension\":\"height\",\"line_color\":\"lightgreen\",\"line_width\":2}},{\"type\":\"object\",\"name\":\"BoxAnnotation\",\"id\":\"p4069\",\"attributes\":{\"left\":1723232214000.0,\"right\":1723235814000.0,\"top\":{\"type\":\"object\",\"name\":\"Node\",\"id\":\"p4072\",\"attributes\":{\"target\":\"frame\",\"symbol\":\"top\"}},\"bottom\":{\"type\":\"object\",\"name\":\"Node\",\"id\":\"p4073\",\"attributes\":{\"target\":\"frame\",\"symbol\":\"bottom\"}},\"fill_color\":\"lightgreen\",\"fill_alpha\":0.3}},{\"type\":\"object\",\"name\":\"Label\",\"id\":\"p4074\",\"attributes\":{\"text\":\"68.00\",\"text_color\":\"black\",\"text_font_size\":\"10pt\",\"background_fill_color\":\"white\",\"background_fill_alpha\":0.7,\"x\":1723232214000.0,\"y\":110,\"angle\":90,\"angle_units\":\"deg\"}}]}}]}};\n",
              "  const render_items = [{\"docid\":\"50d23f6f-f91a-477b-b517-cd3e63f0f759\",\"roots\":{\"p3992\":\"d5972201-1883-4b53-bf48-a17323cf157e\"},\"root_ids\":[\"p3992\"]}];\n",
              "  void root.Bokeh.embed.embed_items_notebook(docs_json, render_items);\n",
              "  }\n",
              "  if (root.Bokeh !== undefined) {\n",
              "    embed_document(root);\n",
              "  } else {\n",
              "    let attempts = 0;\n",
              "    const timer = setInterval(function(root) {\n",
              "      if (root.Bokeh !== undefined) {\n",
              "        clearInterval(timer);\n",
              "        embed_document(root);\n",
              "      } else {\n",
              "        attempts++;\n",
              "        if (attempts > 100) {\n",
              "          clearInterval(timer);\n",
              "          console.log(\"Bokeh: ERROR: Unable to run BokehJS code because BokehJS library is missing\");\n",
              "        }\n",
              "      }\n",
              "    }, 10, root)\n",
              "  }\n",
              "})(window);"
            ],
            "application/vnd.bokehjs_exec.v0+json": ""
          },
          "metadata": {
            "application/vnd.bokehjs_exec.v0+json": {
              "id": "p3992"
            }
          }
        },
        {
          "output_type": "stream",
          "name": "stdout",
          "text": [
            "\n",
            "\n",
            "\n"
          ]
        },
        {
          "output_type": "display_data",
          "data": {
            "text/html": [
              "\n",
              "  <div id=\"b4b5e5ce-61aa-43ac-a252-b779d38ebfa0\" data-root-id=\"p4079\" style=\"display: contents;\"></div>\n"
            ]
          },
          "metadata": {}
        },
        {
          "output_type": "display_data",
          "data": {
            "application/javascript": [
              "(function(root) {\n",
              "  function embed_document(root) {\n",
              "  const docs_json = {\"18b87f70-29e5-4dd1-a572-9cc3d92af8d5\":{\"version\":\"3.4.3\",\"title\":\"Bokeh Application\",\"roots\":[{\"type\":\"object\",\"name\":\"Figure\",\"id\":\"p4079\",\"attributes\":{\"height\":400,\"x_range\":{\"type\":\"object\",\"name\":\"DataRange1d\",\"id\":\"p4080\"},\"y_range\":{\"type\":\"object\",\"name\":\"DataRange1d\",\"id\":\"p4081\"},\"x_scale\":{\"type\":\"object\",\"name\":\"LinearScale\",\"id\":\"p4088\"},\"y_scale\":{\"type\":\"object\",\"name\":\"LinearScale\",\"id\":\"p4089\"},\"title\":{\"type\":\"object\",\"name\":\"Title\",\"id\":\"p4086\",\"attributes\":{\"text\":\"Day: 2024-08-11\",\"text_font_size\":\"20pt\",\"align\":\"center\"}},\"renderers\":[{\"type\":\"object\",\"name\":\"GlyphRenderer\",\"id\":\"p4121\",\"attributes\":{\"data_source\":{\"type\":\"object\",\"name\":\"ColumnDataSource\",\"id\":\"p4115\",\"attributes\":{\"selected\":{\"type\":\"object\",\"name\":\"Selection\",\"id\":\"p4116\",\"attributes\":{\"indices\":[],\"line_indices\":[]}},\"selection_policy\":{\"type\":\"object\",\"name\":\"UnionRenderers\",\"id\":\"p4117\"},\"data\":{\"type\":\"map\",\"entries\":[[\"x\",{\"type\":\"ndarray\",\"array\":{\"type\":\"bytes\",\"data\":\"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\"},\"shape\":[288],\"dtype\":\"float64\",\"order\":\"little\"}],[\"y\",{\"type\":\"ndarray\",\"array\":{\"type\":\"bytes\",\"data\":\"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\"},\"shape\":[288],\"dtype\":\"float64\",\"order\":\"little\"}]]}}},\"view\":{\"type\":\"object\",\"name\":\"CDSView\",\"id\":\"p4122\",\"attributes\":{\"filter\":{\"type\":\"object\",\"name\":\"AllIndices\",\"id\":\"p4123\"}}},\"glyph\":{\"type\":\"object\",\"name\":\"Line\",\"id\":\"p4118\",\"attributes\":{\"x\":{\"type\":\"field\",\"field\":\"x\"},\"y\":{\"type\":\"field\",\"field\":\"y\"},\"line_color\":\"gray\",\"line_alpha\":0.5,\"line_width\":2}},\"nonselection_glyph\":{\"type\":\"object\",\"name\":\"Line\",\"id\":\"p4119\",\"attributes\":{\"x\":{\"type\":\"field\",\"field\":\"x\"},\"y\":{\"type\":\"field\",\"field\":\"y\"},\"line_color\":\"gray\",\"line_alpha\":0.1,\"line_width\":2}},\"muted_glyph\":{\"type\":\"object\",\"name\":\"Line\",\"id\":\"p4120\",\"attributes\":{\"x\":{\"type\":\"field\",\"field\":\"x\"},\"y\":{\"type\":\"field\",\"field\":\"y\"},\"line_color\":\"gray\",\"line_alpha\":0.2,\"line_width\":2}}}},{\"type\":\"object\",\"name\":\"GlyphRenderer\",\"id\":\"p4131\",\"attributes\":{\"data_source\":{\"type\":\"object\",\"name\":\"ColumnDataSource\",\"id\":\"p4125\",\"attributes\":{\"selected\":{\"type\":\"object\",\"name\":\"Selection\",\"id\":\"p4126\",\"attributes\":{\"indices\":[],\"line_indices\":[]}},\"selection_policy\":{\"type\":\"object\",\"name\":\"UnionRenderers\",\"id\":\"p4127\"},\"data\":{\"type\":\"map\",\"entries\":[[\"x\",{\"type\":\"ndarray\",\"array\":{\"type\":\"bytes\",\"data\":\"AAD0ahkUeUIAAOD3CRR5QgAATHMxFHlCAAASSB4UeUIAAJAIOhR5QgAAqigtFHlCAADkFfcTeUI=\"},\"shape\":[7],\"dtype\":\"float64\",\"order\":\"little\"}],[\"y\",{\"type\":\"ndarray\",\"array\":{\"type\":\"bytes\",\"data\":\"AAAAAADgYEAAAAAAAIBgQAAAAAAAAGBAAAAAAAAAYEAAAAAAAIBeQAAAAAAAgFtAAAAAAADAXEA=\"},\"shape\":[7],\"dtype\":\"float64\",\"order\":\"little\"}]]}}},\"view\":{\"type\":\"object\",\"name\":\"CDSView\",\"id\":\"p4132\",\"attributes\":{\"filter\":{\"type\":\"object\",\"name\":\"AllIndices\",\"id\":\"p4133\"}}},\"glyph\":{\"type\":\"object\",\"name\":\"Scatter\",\"id\":\"p4128\",\"attributes\":{\"x\":{\"type\":\"field\",\"field\":\"x\"},\"y\":{\"type\":\"field\",\"field\":\"y\"},\"size\":{\"type\":\"value\",\"value\":6},\"line_color\":{\"type\":\"value\",\"value\":\"darkblue\"},\"line_alpha\":{\"type\":\"value\",\"value\":0.7},\"fill_color\":{\"type\":\"value\",\"value\":\"darkblue\"},\"fill_alpha\":{\"type\":\"value\",\"value\":0.7},\"hatch_color\":{\"type\":\"value\",\"value\":\"darkblue\"},\"hatch_alpha\":{\"type\":\"value\",\"value\":0.7}}},\"nonselection_glyph\":{\"type\":\"object\",\"name\":\"Scatter\",\"id\":\"p4129\",\"attributes\":{\"x\":{\"type\":\"field\",\"field\":\"x\"},\"y\":{\"type\":\"field\",\"field\":\"y\"},\"size\":{\"type\":\"value\",\"value\":6},\"line_color\":{\"type\":\"value\",\"value\":\"darkblue\"},\"line_alpha\":{\"type\":\"value\",\"value\":0.1},\"fill_color\":{\"type\":\"value\",\"value\":\"darkblue\"},\"fill_alpha\":{\"type\":\"value\",\"value\":0.1},\"hatch_color\":{\"type\":\"value\",\"value\":\"darkblue\"},\"hatch_alpha\":{\"type\":\"value\",\"value\":0.1}}},\"muted_glyph\":{\"type\":\"object\",\"name\":\"Scatter\",\"id\":\"p4130\",\"attributes\":{\"x\":{\"type\":\"field\",\"field\":\"x\"},\"y\":{\"type\":\"field\",\"field\":\"y\"},\"size\":{\"type\":\"value\",\"value\":6},\"line_color\":{\"type\":\"value\",\"value\":\"darkblue\"},\"line_alpha\":{\"type\":\"value\",\"value\":0.2},\"fill_color\":{\"type\":\"value\",\"value\":\"darkblue\"},\"fill_alpha\":{\"type\":\"value\",\"value\":0.2},\"hatch_color\":{\"type\":\"value\",\"value\":\"darkblue\"},\"hatch_alpha\":{\"type\":\"value\",\"value\":0.2}}}}}],\"toolbar\":{\"type\":\"object\",\"name\":\"Toolbar\",\"id\":\"p4087\",\"attributes\":{\"tools\":[{\"type\":\"object\",\"name\":\"PanTool\",\"id\":\"p4112\"},{\"type\":\"object\",\"name\":\"WheelZoomTool\",\"id\":\"p4113\",\"attributes\":{\"dimensions\":\"width\",\"renderers\":\"auto\"}},{\"type\":\"object\",\"name\":\"WheelZoomTool\",\"id\":\"p4114\",\"attributes\":{\"dimensions\":\"height\",\"renderers\":\"auto\"}}],\"active_scroll\":{\"id\":\"p4113\"}}},\"left\":[{\"type\":\"object\",\"name\":\"LinearAxis\",\"id\":\"p4107\",\"attributes\":{\"ticker\":{\"type\":\"object\",\"name\":\"BasicTicker\",\"id\":\"p4108\",\"attributes\":{\"mantissas\":[1,2,5]}},\"formatter\":{\"type\":\"object\",\"name\":\"BasicTickFormatter\",\"id\":\"p4109\"},\"axis_label\":\"Glucose\",\"major_label_policy\":{\"type\":\"object\",\"name\":\"AllLabels\",\"id\":\"p4110\"}}}],\"above\":[{\"type\":\"object\",\"name\":\"DatetimeAxis\",\"id\":\"p4090\",\"attributes\":{\"ticker\":{\"type\":\"object\",\"name\":\"DatetimeTicker\",\"id\":\"p4091\",\"attributes\":{\"num_minor_ticks\":5,\"tickers\":[{\"type\":\"object\",\"name\":\"AdaptiveTicker\",\"id\":\"p4092\",\"attributes\":{\"num_minor_ticks\":0,\"mantissas\":[1,2,5],\"max_interval\":500.0}},{\"type\":\"object\",\"name\":\"AdaptiveTicker\",\"id\":\"p4093\",\"attributes\":{\"num_minor_ticks\":0,\"base\":60,\"mantissas\":[1,2,5,10,15,20,30],\"min_interval\":1000.0,\"max_interval\":1800000.0}},{\"type\":\"object\",\"name\":\"AdaptiveTicker\",\"id\":\"p4094\",\"attributes\":{\"num_minor_ticks\":0,\"base\":24,\"mantissas\":[1,2,4,6,8,12],\"min_interval\":3600000.0,\"max_interval\":43200000.0}},{\"type\":\"object\",\"name\":\"DaysTicker\",\"id\":\"p4095\",\"attributes\":{\"days\":[1,2,3,4,5,6,7,8,9,10,11,12,13,14,15,16,17,18,19,20,21,22,23,24,25,26,27,28,29,30,31]}},{\"type\":\"object\",\"name\":\"DaysTicker\",\"id\":\"p4096\",\"attributes\":{\"days\":[1,4,7,10,13,16,19,22,25,28]}},{\"type\":\"object\",\"name\":\"DaysTicker\",\"id\":\"p4097\",\"attributes\":{\"days\":[1,8,15,22]}},{\"type\":\"object\",\"name\":\"DaysTicker\",\"id\":\"p4098\",\"attributes\":{\"days\":[1,15]}},{\"type\":\"object\",\"name\":\"MonthsTicker\",\"id\":\"p4099\",\"attributes\":{\"months\":[0,1,2,3,4,5,6,7,8,9,10,11]}},{\"type\":\"object\",\"name\":\"MonthsTicker\",\"id\":\"p4100\",\"attributes\":{\"months\":[0,2,4,6,8,10]}},{\"type\":\"object\",\"name\":\"MonthsTicker\",\"id\":\"p4101\",\"attributes\":{\"months\":[0,4,8]}},{\"type\":\"object\",\"name\":\"MonthsTicker\",\"id\":\"p4102\",\"attributes\":{\"months\":[0,6]}},{\"type\":\"object\",\"name\":\"YearsTicker\",\"id\":\"p4103\"}]}},\"formatter\":{\"type\":\"object\",\"name\":\"DatetimeTickFormatter\",\"id\":\"p4104\"},\"axis_label\":\"Time\",\"major_label_policy\":{\"type\":\"object\",\"name\":\"AllLabels\",\"id\":\"p4105\"}}}],\"center\":[{\"type\":\"object\",\"name\":\"Grid\",\"id\":\"p4106\",\"attributes\":{\"axis\":{\"id\":\"p4090\"}}},{\"type\":\"object\",\"name\":\"Grid\",\"id\":\"p4111\",\"attributes\":{\"dimension\":1,\"axis\":{\"id\":\"p4107\"}}},{\"type\":\"object\",\"name\":\"Span\",\"id\":\"p4124\",\"attributes\":{\"location\":111.41319444444444,\"line_color\":\"red\"}},{\"type\":\"object\",\"name\":\"Span\",\"id\":\"p4134\",\"attributes\":{\"location\":1723362600000.0,\"dimension\":\"height\",\"line_color\":\"lightgreen\",\"line_width\":2}},{\"type\":\"object\",\"name\":\"BoxAnnotation\",\"id\":\"p4135\",\"attributes\":{\"left\":1723362600000.0,\"right\":1723366200000.0,\"top\":{\"type\":\"object\",\"name\":\"Node\",\"id\":\"p4138\",\"attributes\":{\"target\":\"frame\",\"symbol\":\"top\"}},\"bottom\":{\"type\":\"object\",\"name\":\"Node\",\"id\":\"p4139\",\"attributes\":{\"target\":\"frame\",\"symbol\":\"bottom\"}},\"fill_color\":\"lightgreen\",\"fill_alpha\":0.3}},{\"type\":\"object\",\"name\":\"Label\",\"id\":\"p4140\",\"attributes\":{\"text\":\"247.00\",\"text_color\":\"black\",\"text_font_size\":\"10pt\",\"background_fill_color\":\"white\",\"background_fill_alpha\":0.7,\"x\":1723362600000.0,\"y\":110,\"angle\":90,\"angle_units\":\"deg\"}},{\"type\":\"object\",\"name\":\"Span\",\"id\":\"p4141\",\"attributes\":{\"location\":1723379400000.0,\"dimension\":\"height\",\"line_color\":\"lightgreen\",\"line_width\":2}},{\"type\":\"object\",\"name\":\"BoxAnnotation\",\"id\":\"p4142\",\"attributes\":{\"left\":1723379400000.0,\"right\":1723383000000.0,\"top\":{\"type\":\"object\",\"name\":\"Node\",\"id\":\"p4145\",\"attributes\":{\"target\":\"frame\",\"symbol\":\"top\"}},\"bottom\":{\"type\":\"object\",\"name\":\"Node\",\"id\":\"p4146\",\"attributes\":{\"target\":\"frame\",\"symbol\":\"bottom\"}},\"fill_color\":\"lightgreen\",\"fill_alpha\":0.3}},{\"type\":\"object\",\"name\":\"Label\",\"id\":\"p4147\",\"attributes\":{\"text\":\"755.00\",\"text_color\":\"black\",\"text_font_size\":\"10pt\",\"background_fill_color\":\"white\",\"background_fill_alpha\":0.7,\"x\":1723379400000.0,\"y\":110,\"angle\":90,\"angle_units\":\"deg\"}},{\"type\":\"object\",\"name\":\"Span\",\"id\":\"p4148\",\"attributes\":{\"location\":1723389000000.0,\"dimension\":\"height\",\"line_color\":\"lightgreen\",\"line_width\":2}},{\"type\":\"object\",\"name\":\"BoxAnnotation\",\"id\":\"p4149\",\"attributes\":{\"left\":1723389000000.0,\"right\":1723392600000.0,\"top\":{\"type\":\"object\",\"name\":\"Node\",\"id\":\"p4152\",\"attributes\":{\"target\":\"frame\",\"symbol\":\"top\"}},\"bottom\":{\"type\":\"object\",\"name\":\"Node\",\"id\":\"p4153\",\"attributes\":{\"target\":\"frame\",\"symbol\":\"bottom\"}},\"fill_color\":\"lightgreen\",\"fill_alpha\":0.3}},{\"type\":\"object\",\"name\":\"Label\",\"id\":\"p4154\",\"attributes\":{\"text\":\"136.00\",\"text_color\":\"black\",\"text_font_size\":\"10pt\",\"background_fill_color\":\"white\",\"background_fill_alpha\":0.7,\"x\":1723389000000.0,\"y\":110,\"angle\":90,\"angle_units\":\"deg\"}},{\"type\":\"object\",\"name\":\"Span\",\"id\":\"p4155\",\"attributes\":{\"location\":1723405200000.0,\"dimension\":\"height\",\"line_color\":\"lightgreen\",\"line_width\":2}},{\"type\":\"object\",\"name\":\"BoxAnnotation\",\"id\":\"p4156\",\"attributes\":{\"left\":1723405200000.0,\"right\":1723408800000.0,\"top\":{\"type\":\"object\",\"name\":\"Node\",\"id\":\"p4159\",\"attributes\":{\"target\":\"frame\",\"symbol\":\"top\"}},\"bottom\":{\"type\":\"object\",\"name\":\"Node\",\"id\":\"p4160\",\"attributes\":{\"target\":\"frame\",\"symbol\":\"bottom\"}},\"fill_color\":\"lightgreen\",\"fill_alpha\":0.3}},{\"type\":\"object\",\"name\":\"Label\",\"id\":\"p4161\",\"attributes\":{\"text\":\"456.00\",\"text_color\":\"black\",\"text_font_size\":\"10pt\",\"background_fill_color\":\"white\",\"background_fill_alpha\":0.7,\"x\":1723405200000.0,\"y\":110,\"angle\":90,\"angle_units\":\"deg\"}}]}}]}};\n",
              "  const render_items = [{\"docid\":\"18b87f70-29e5-4dd1-a572-9cc3d92af8d5\",\"roots\":{\"p4079\":\"b4b5e5ce-61aa-43ac-a252-b779d38ebfa0\"},\"root_ids\":[\"p4079\"]}];\n",
              "  void root.Bokeh.embed.embed_items_notebook(docs_json, render_items);\n",
              "  }\n",
              "  if (root.Bokeh !== undefined) {\n",
              "    embed_document(root);\n",
              "  } else {\n",
              "    let attempts = 0;\n",
              "    const timer = setInterval(function(root) {\n",
              "      if (root.Bokeh !== undefined) {\n",
              "        clearInterval(timer);\n",
              "        embed_document(root);\n",
              "      } else {\n",
              "        attempts++;\n",
              "        if (attempts > 100) {\n",
              "          clearInterval(timer);\n",
              "          console.log(\"Bokeh: ERROR: Unable to run BokehJS code because BokehJS library is missing\");\n",
              "        }\n",
              "      }\n",
              "    }, 10, root)\n",
              "  }\n",
              "})(window);"
            ],
            "application/vnd.bokehjs_exec.v0+json": ""
          },
          "metadata": {
            "application/vnd.bokehjs_exec.v0+json": {
              "id": "p4079"
            }
          }
        },
        {
          "output_type": "stream",
          "name": "stdout",
          "text": [
            "\n",
            "\n",
            "\n"
          ]
        },
        {
          "output_type": "display_data",
          "data": {
            "text/html": [
              "\n",
              "  <div id=\"aaad2803-e207-4bd9-8c0d-b3521f2566bc\" data-root-id=\"p4166\" style=\"display: contents;\"></div>\n"
            ]
          },
          "metadata": {}
        },
        {
          "output_type": "display_data",
          "data": {
            "application/javascript": [
              "(function(root) {\n",
              "  function embed_document(root) {\n",
              "  const docs_json = {\"9eb97a4a-009f-4428-a5f8-ed4db8697821\":{\"version\":\"3.4.3\",\"title\":\"Bokeh Application\",\"roots\":[{\"type\":\"object\",\"name\":\"Figure\",\"id\":\"p4166\",\"attributes\":{\"height\":400,\"x_range\":{\"type\":\"object\",\"name\":\"DataRange1d\",\"id\":\"p4167\"},\"y_range\":{\"type\":\"object\",\"name\":\"DataRange1d\",\"id\":\"p4168\"},\"x_scale\":{\"type\":\"object\",\"name\":\"LinearScale\",\"id\":\"p4175\"},\"y_scale\":{\"type\":\"object\",\"name\":\"LinearScale\",\"id\":\"p4176\"},\"title\":{\"type\":\"object\",\"name\":\"Title\",\"id\":\"p4173\",\"attributes\":{\"text\":\"Day: 2024-08-12\",\"text_font_size\":\"20pt\",\"align\":\"center\"}},\"renderers\":[{\"type\":\"object\",\"name\":\"GlyphRenderer\",\"id\":\"p4208\",\"attributes\":{\"data_source\":{\"type\":\"object\",\"name\":\"ColumnDataSource\",\"id\":\"p4202\",\"attributes\":{\"selected\":{\"type\":\"object\",\"name\":\"Selection\",\"id\":\"p4203\",\"attributes\":{\"indices\":[],\"line_indices\":[]}},\"selection_policy\":{\"type\":\"object\",\"name\":\"UnionRenderers\",\"id\":\"p4204\"},\"data\":{\"type\":\"map\",\"entries\":[[\"x\",{\"type\":\"ndarray\",\"array\":{\"type\":\"bytes\",\"data\":\"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\"},\"shape\":[288],\"dtype\":\"float64\",\"order\":\"little\"}],[\"y\",{\"type\":\"ndarray\",\"array\":{\"type\":\"bytes\",\"data\":\"AAAAAAAAW0AAAAAAAMBaQAAAAAAAgFpAAAAAAABAWkAAAAAAAEBaQAAAAAAAgFpAAAAAAADAWkAAAAAAAIBaQAAAAAAAAFpAAAAAAABAWkAAAAAAAEBaQAAAAAAAQFpAAAAAAABAWkAAAAAAAEBaQAAAAAAAwFpAAAAAAABAW0AAAAAAAABbQAAAAAAAAFtAAAAAAAAAW0AAAAAAAABbQAAAAAAAgFpAAAAAAADAWkAAAAAAAIBbQAAAAAAAAFtAAAAAAABAW0AAAAAAAEBbQAAAAAAAwFpAAAAAAACAWkAAAAAAAMBaQAAAAAAAwFpAAAAAAADAWkAAAAAAAMBaQAAAAAAAwFpAAAAAAAAAW0AAAAAAAABbQAAAAAAAAFtAAAAAAADAWkAAAAAAAMBaQAAAAAAAgFpAAAAAAABAWkAAAAAAAABaQAAAAAAAQFpAAAAAAAAAWkAAAAAAAMBZQAAAAAAAAFpAAAAAAAAAWkAAAAAAAABaQAAAAAAAwFlAAAAAAADAWUAAAAAAAMBZQAAAAAAAgFlAAAAAAACAWUAAAAAAAMBZQAAAAAAAwFlAAAAAAADAWUAAAAAAAIBaQAAAAAAAQFpAAAAAAAAAWkAAAAAAAEBaQAAAAAAAQFpAAAAAAADAWUAAAAAAAEBZQAAAAAAAgFlAAAAAAACAWUAAAAAAAMBZQAAAAAAAAFpAAAAAAAAAWkAAAAAAAEBaQAAAAAAAwFpAAAAAAADAW0AAAAAAAABbQAAAAAAAAFtAAAAAAADAWkAAAAAAAEBaQAAAAAAAAFpAAAAAAAAAWkAAAAAAAABaQAAAAAAAwFlAAAAAAABAW0AAAAAAAMBbQAAAAAAAwFtAAAAAAAAAXEAAAAAAAABcQAAAAAAAwFtAAAAAAACAW0AAAAAAAMBbQAAAAAAAQFxAAAAAAAAAXUAAAAAAAEBcQAAAAAAAAF1AAAAAAACAXEAAAAAAAABdQAAAAAAAwFxAAAAAAABAW0AAAAAAAMBaQAAAAAAAwFpAAAAAAAAAXEAAAAAAAABcQAAAAAAAgFtAAAAAAAAAXEAAAAAAAABcQAAAAAAAwFtAAAAAAADAW0AAAAAAAMBbQAAAAAAAAFxAAAAAAAAAXEAAAAAAAEBcQAAAAAAAQFxAAAAAAABAXEAAAAAAAABcQAAAAAAAAFxAAAAAAACAW0AAAAAAAEBbQAAAAAAAgFpAAAAAAAAAWkAAAAAAAABaQAAAAAAAAFpAAAAAAADAWUAAAAAAAMBZQAAAAAAAwFlAAAAAAABAWUAAAAAAAIBZQAAAAAAAgFlAAAAAAADAWUAAAAAAAABaQAAAAAAAgFpAAAAAAADAWkAAAAAAAIBaQAAAAAAAgFpAAAAAAADAWkAAAAAAAIBaQAAAAAAAQFpAAAAAAABAWkAAAAAAAMBaQAAAAAAAwFpAAAAAAACAWkAAAAAAAIBaQAAAAAAAQFpAAAAAAACAWkAAAAAAAIBaQAAAAAAAgFpAAAAAAADAWkAAAAAAAIBaQAAAAAAAAFtAAAAAAADAWkAAAAAAAIBaQAAAAAAAQFpAAAAAAACAWkAAAAAAAMBaQAAAAAAAgFpAAAAAAACAWkAAAAAAAIBaQAAAAAAAgFpAAAAAAACAWkAAAAAAAMBaQAAAAAAAgFpAAAAAAADAWkAAAAAAAABbQAAAAAAAwFpAAAAAAACAWkAAAAAAAEBaQAAAAAAAQFpAAAAAAADAWkAAAAAAAMBaQAAAAAAAwFtAAAAAAABAXUAAAAAAAIBeQAAAAAAAIGBAAAAAAADAYEAAAAAAAGBhQAAAAAAAwGFAAAAAAABgYUAAAAAAACBhQAAAAAAAwGBAAAAAAABgYEAAAAAAACBgQAAAAAAAAF9AAAAAAAAAX0AAAAAAAMBeQAAAAAAAQF5AAAAAAADAXUAAAAAAAIBdQAAAAAAAQF1AAAAAAAAAXEAAAAAAAEBbQAAAAAAAAFtAAAAAAABAWkAAAAAAAEBaQAAAAAAAAFpAAAAAAADAWUAAAAAAAABaQAAAAAAAwFlAAAAAAADAWUAAAAAAAMBZQAAAAAAAgFlAAAAAAADAWUAAAAAAAIBZQAAAAAAAgFlAAAAAAACAWUAAAAAAAIBZQAAAAAAAwFlAAAAAAADAWUAAAAAAAABaQAAAAAAAAFpAAAAAAAAAWkAAAAAAAABaQAAAAAAAgFpAAAAAAAAAWkAAAAAAAEBaQAAAAAAAQFpAAAAAAACAWkAAAAAAAABbQAAAAAAAAFtAAAAAAABAW0AAAAAAAMBZQAAAAAAAgFhAAAAAAACAWEAAAAAAAIBYQAAAAAAAgFlAAAAAAACAWUAAAAAAAIBZQAAAAAAAwFlAAAAAAADAWUAAAAAAAMBZQAAAAAAAQFlAAAAAAADAWUAAAAAAAABaQAAAAAAAQFpAAAAAAACAWkAAAAAAAEBaQAAAAAAAgFtAAAAAAAAAXUAAAAAAAMBdQAAAAAAAQF9AAAAAAABAYEAAAAAAAMBgQAAAAAAA4GBAAAAAAACgYEAAAAAAAMBgQAAAAAAAgGBAAAAAAAAgYEAAAAAAAABgQAAAAAAAwF9AAAAAAADAXkAAAAAAAMBeQAAAAAAAgF5AAAAAAABAXkAAAAAAAMBeQAAAAAAAwF5AAAAAAABAXkAAAAAAAEBeQAAAAAAAQF5AAAAAAAAAXkAAAAAAAIBdQAAAAAAAQF1AAAAAAAAAXUAAAAAAAMBcQAAAAAAAAF1AAAAAAABAXUAAAAAAAABeQAAAAAAAwF1AAAAAAABAXkAAAAAAAMBeQAAAAAAAgF1AAAAAAAAAXUAAAAAAAABcQAAAAAAAAFtAAAAAAABAWkAAAAAAAABaQAAAAAAAwFlAAAAAAACAWUAAAAAAAABaQAAAAAAAwFlAAAAAAAAAWkAAAAAAAIBaQAAAAAAAQFpAAAAAAAAAWkAAAAAAAABaQAAAAAAAAFpAAAAAAAAAWkAAAAAAAABaQAAAAAAAAFpAAAAAAABAWkAAAAAAAABaQAAAAAAAQFpAAAAAAABAWkAAAAAAAABaQAAAAAAAAFpA\"},\"shape\":[288],\"dtype\":\"float64\",\"order\":\"little\"}]]}}},\"view\":{\"type\":\"object\",\"name\":\"CDSView\",\"id\":\"p4209\",\"attributes\":{\"filter\":{\"type\":\"object\",\"name\":\"AllIndices\",\"id\":\"p4210\"}}},\"glyph\":{\"type\":\"object\",\"name\":\"Line\",\"id\":\"p4205\",\"attributes\":{\"x\":{\"type\":\"field\",\"field\":\"x\"},\"y\":{\"type\":\"field\",\"field\":\"y\"},\"line_color\":\"gray\",\"line_alpha\":0.5,\"line_width\":2}},\"nonselection_glyph\":{\"type\":\"object\",\"name\":\"Line\",\"id\":\"p4206\",\"attributes\":{\"x\":{\"type\":\"field\",\"field\":\"x\"},\"y\":{\"type\":\"field\",\"field\":\"y\"},\"line_color\":\"gray\",\"line_alpha\":0.1,\"line_width\":2}},\"muted_glyph\":{\"type\":\"object\",\"name\":\"Line\",\"id\":\"p4207\",\"attributes\":{\"x\":{\"type\":\"field\",\"field\":\"x\"},\"y\":{\"type\":\"field\",\"field\":\"y\"},\"line_color\":\"gray\",\"line_alpha\":0.2,\"line_width\":2}}}},{\"type\":\"object\",\"name\":\"GlyphRenderer\",\"id\":\"p4218\",\"attributes\":{\"data_source\":{\"type\":\"object\",\"name\":\"ColumnDataSource\",\"id\":\"p4212\",\"attributes\":{\"selected\":{\"type\":\"object\",\"name\":\"Selection\",\"id\":\"p4213\",\"attributes\":{\"indices\":[],\"line_indices\":[]}},\"selection_policy\":{\"type\":\"object\",\"name\":\"UnionRenderers\",\"id\":\"p4214\"},\"data\":{\"type\":\"map\",\"entries\":[[\"x\",{\"type\":\"ndarray\",\"array\":{\"type\":\"bytes\",\"data\":\"AABe9m4UeUIAAFrYgRR5QgAAPFxYFHlC\"},\"shape\":[3],\"dtype\":\"float64\",\"order\":\"little\"}],[\"y\",{\"type\":\"ndarray\",\"array\":{\"type\":\"bytes\",\"data\":\"AAAAAADAYUAAAAAAAOBgQAAAAAAAAF1A\"},\"shape\":[3],\"dtype\":\"float64\",\"order\":\"little\"}]]}}},\"view\":{\"type\":\"object\",\"name\":\"CDSView\",\"id\":\"p4219\",\"attributes\":{\"filter\":{\"type\":\"object\",\"name\":\"AllIndices\",\"id\":\"p4220\"}}},\"glyph\":{\"type\":\"object\",\"name\":\"Scatter\",\"id\":\"p4215\",\"attributes\":{\"x\":{\"type\":\"field\",\"field\":\"x\"},\"y\":{\"type\":\"field\",\"field\":\"y\"},\"size\":{\"type\":\"value\",\"value\":6},\"line_color\":{\"type\":\"value\",\"value\":\"darkblue\"},\"line_alpha\":{\"type\":\"value\",\"value\":0.7},\"fill_color\":{\"type\":\"value\",\"value\":\"darkblue\"},\"fill_alpha\":{\"type\":\"value\",\"value\":0.7},\"hatch_color\":{\"type\":\"value\",\"value\":\"darkblue\"},\"hatch_alpha\":{\"type\":\"value\",\"value\":0.7}}},\"nonselection_glyph\":{\"type\":\"object\",\"name\":\"Scatter\",\"id\":\"p4216\",\"attributes\":{\"x\":{\"type\":\"field\",\"field\":\"x\"},\"y\":{\"type\":\"field\",\"field\":\"y\"},\"size\":{\"type\":\"value\",\"value\":6},\"line_color\":{\"type\":\"value\",\"value\":\"darkblue\"},\"line_alpha\":{\"type\":\"value\",\"value\":0.1},\"fill_color\":{\"type\":\"value\",\"value\":\"darkblue\"},\"fill_alpha\":{\"type\":\"value\",\"value\":0.1},\"hatch_color\":{\"type\":\"value\",\"value\":\"darkblue\"},\"hatch_alpha\":{\"type\":\"value\",\"value\":0.1}}},\"muted_glyph\":{\"type\":\"object\",\"name\":\"Scatter\",\"id\":\"p4217\",\"attributes\":{\"x\":{\"type\":\"field\",\"field\":\"x\"},\"y\":{\"type\":\"field\",\"field\":\"y\"},\"size\":{\"type\":\"value\",\"value\":6},\"line_color\":{\"type\":\"value\",\"value\":\"darkblue\"},\"line_alpha\":{\"type\":\"value\",\"value\":0.2},\"fill_color\":{\"type\":\"value\",\"value\":\"darkblue\"},\"fill_alpha\":{\"type\":\"value\",\"value\":0.2},\"hatch_color\":{\"type\":\"value\",\"value\":\"darkblue\"},\"hatch_alpha\":{\"type\":\"value\",\"value\":0.2}}}}}],\"toolbar\":{\"type\":\"object\",\"name\":\"Toolbar\",\"id\":\"p4174\",\"attributes\":{\"tools\":[{\"type\":\"object\",\"name\":\"PanTool\",\"id\":\"p4199\"},{\"type\":\"object\",\"name\":\"WheelZoomTool\",\"id\":\"p4200\",\"attributes\":{\"dimensions\":\"width\",\"renderers\":\"auto\"}},{\"type\":\"object\",\"name\":\"WheelZoomTool\",\"id\":\"p4201\",\"attributes\":{\"dimensions\":\"height\",\"renderers\":\"auto\"}}],\"active_scroll\":{\"id\":\"p4200\"}}},\"left\":[{\"type\":\"object\",\"name\":\"LinearAxis\",\"id\":\"p4194\",\"attributes\":{\"ticker\":{\"type\":\"object\",\"name\":\"BasicTicker\",\"id\":\"p4195\",\"attributes\":{\"mantissas\":[1,2,5]}},\"formatter\":{\"type\":\"object\",\"name\":\"BasicTickFormatter\",\"id\":\"p4196\"},\"axis_label\":\"Glucose\",\"major_label_policy\":{\"type\":\"object\",\"name\":\"AllLabels\",\"id\":\"p4197\"}}}],\"above\":[{\"type\":\"object\",\"name\":\"DatetimeAxis\",\"id\":\"p4177\",\"attributes\":{\"ticker\":{\"type\":\"object\",\"name\":\"DatetimeTicker\",\"id\":\"p4178\",\"attributes\":{\"num_minor_ticks\":5,\"tickers\":[{\"type\":\"object\",\"name\":\"AdaptiveTicker\",\"id\":\"p4179\",\"attributes\":{\"num_minor_ticks\":0,\"mantissas\":[1,2,5],\"max_interval\":500.0}},{\"type\":\"object\",\"name\":\"AdaptiveTicker\",\"id\":\"p4180\",\"attributes\":{\"num_minor_ticks\":0,\"base\":60,\"mantissas\":[1,2,5,10,15,20,30],\"min_interval\":1000.0,\"max_interval\":1800000.0}},{\"type\":\"object\",\"name\":\"AdaptiveTicker\",\"id\":\"p4181\",\"attributes\":{\"num_minor_ticks\":0,\"base\":24,\"mantissas\":[1,2,4,6,8,12],\"min_interval\":3600000.0,\"max_interval\":43200000.0}},{\"type\":\"object\",\"name\":\"DaysTicker\",\"id\":\"p4182\",\"attributes\":{\"days\":[1,2,3,4,5,6,7,8,9,10,11,12,13,14,15,16,17,18,19,20,21,22,23,24,25,26,27,28,29,30,31]}},{\"type\":\"object\",\"name\":\"DaysTicker\",\"id\":\"p4183\",\"attributes\":{\"days\":[1,4,7,10,13,16,19,22,25,28]}},{\"type\":\"object\",\"name\":\"DaysTicker\",\"id\":\"p4184\",\"attributes\":{\"days\":[1,8,15,22]}},{\"type\":\"object\",\"name\":\"DaysTicker\",\"id\":\"p4185\",\"attributes\":{\"days\":[1,15]}},{\"type\":\"object\",\"name\":\"MonthsTicker\",\"id\":\"p4186\",\"attributes\":{\"months\":[0,1,2,3,4,5,6,7,8,9,10,11]}},{\"type\":\"object\",\"name\":\"MonthsTicker\",\"id\":\"p4187\",\"attributes\":{\"months\":[0,2,4,6,8,10]}},{\"type\":\"object\",\"name\":\"MonthsTicker\",\"id\":\"p4188\",\"attributes\":{\"months\":[0,4,8]}},{\"type\":\"object\",\"name\":\"MonthsTicker\",\"id\":\"p4189\",\"attributes\":{\"months\":[0,6]}},{\"type\":\"object\",\"name\":\"YearsTicker\",\"id\":\"p4190\"}]}},\"formatter\":{\"type\":\"object\",\"name\":\"DatetimeTickFormatter\",\"id\":\"p4191\"},\"axis_label\":\"Time\",\"major_label_policy\":{\"type\":\"object\",\"name\":\"AllLabels\",\"id\":\"p4192\"}}}],\"center\":[{\"type\":\"object\",\"name\":\"Grid\",\"id\":\"p4193\",\"attributes\":{\"axis\":{\"id\":\"p4177\"}}},{\"type\":\"object\",\"name\":\"Grid\",\"id\":\"p4198\",\"attributes\":{\"dimension\":1,\"axis\":{\"id\":\"p4194\"}}},{\"type\":\"object\",\"name\":\"Span\",\"id\":\"p4211\",\"attributes\":{\"location\":109.40972222222223,\"line_color\":\"red\"}},{\"type\":\"object\",\"name\":\"Span\",\"id\":\"p4221\",\"attributes\":{\"location\":1723451400000.0,\"dimension\":\"height\",\"line_color\":\"lightgreen\",\"line_width\":2}},{\"type\":\"object\",\"name\":\"BoxAnnotation\",\"id\":\"p4222\",\"attributes\":{\"left\":1723451400000.0,\"right\":1723455000000.0,\"top\":{\"type\":\"object\",\"name\":\"Node\",\"id\":\"p4225\",\"attributes\":{\"target\":\"frame\",\"symbol\":\"top\"}},\"bottom\":{\"type\":\"object\",\"name\":\"Node\",\"id\":\"p4226\",\"attributes\":{\"target\":\"frame\",\"symbol\":\"bottom\"}},\"fill_color\":\"lightgreen\",\"fill_alpha\":0.3}},{\"type\":\"object\",\"name\":\"Label\",\"id\":\"p4227\",\"attributes\":{\"text\":\"325.00\",\"text_color\":\"black\",\"text_font_size\":\"10pt\",\"background_fill_color\":\"white\",\"background_fill_alpha\":0.7,\"x\":1723451400000.0,\"y\":110,\"angle\":90,\"angle_units\":\"deg\"}},{\"type\":\"object\",\"name\":\"Span\",\"id\":\"p4228\",\"attributes\":{\"location\":1723468800000.0,\"dimension\":\"height\",\"line_color\":\"lightgreen\",\"line_width\":2}},{\"type\":\"object\",\"name\":\"BoxAnnotation\",\"id\":\"p4229\",\"attributes\":{\"left\":1723468800000.0,\"right\":1723472400000.0,\"top\":{\"type\":\"object\",\"name\":\"Node\",\"id\":\"p4232\",\"attributes\":{\"target\":\"frame\",\"symbol\":\"top\"}},\"bottom\":{\"type\":\"object\",\"name\":\"Node\",\"id\":\"p4233\",\"attributes\":{\"target\":\"frame\",\"symbol\":\"bottom\"}},\"fill_color\":\"lightgreen\",\"fill_alpha\":0.3}},{\"type\":\"object\",\"name\":\"Label\",\"id\":\"p4234\",\"attributes\":{\"text\":\"731.00\",\"text_color\":\"black\",\"text_font_size\":\"10pt\",\"background_fill_color\":\"white\",\"background_fill_alpha\":0.7,\"x\":1723468800000.0,\"y\":110,\"angle\":90,\"angle_units\":\"deg\"}},{\"type\":\"object\",\"name\":\"Span\",\"id\":\"p4235\",\"attributes\":{\"location\":1723483500000.0,\"dimension\":\"height\",\"line_color\":\"lightgreen\",\"line_width\":2}},{\"type\":\"object\",\"name\":\"BoxAnnotation\",\"id\":\"p4236\",\"attributes\":{\"left\":1723483500000.0,\"right\":1723487100000.0,\"top\":{\"type\":\"object\",\"name\":\"Node\",\"id\":\"p4239\",\"attributes\":{\"target\":\"frame\",\"symbol\":\"top\"}},\"bottom\":{\"type\":\"object\",\"name\":\"Node\",\"id\":\"p4240\",\"attributes\":{\"target\":\"frame\",\"symbol\":\"bottom\"}},\"fill_color\":\"lightgreen\",\"fill_alpha\":0.3}},{\"type\":\"object\",\"name\":\"Label\",\"id\":\"p4241\",\"attributes\":{\"text\":\"64.00\",\"text_color\":\"black\",\"text_font_size\":\"10pt\",\"background_fill_color\":\"white\",\"background_fill_alpha\":0.7,\"x\":1723483500000.0,\"y\":110,\"angle\":90,\"angle_units\":\"deg\"}},{\"type\":\"object\",\"name\":\"Span\",\"id\":\"p4242\",\"attributes\":{\"location\":1723488600000.0,\"dimension\":\"height\",\"line_color\":\"lightgreen\",\"line_width\":2}},{\"type\":\"object\",\"name\":\"BoxAnnotation\",\"id\":\"p4243\",\"attributes\":{\"left\":1723488600000.0,\"right\":1723492200000.0,\"top\":{\"type\":\"object\",\"name\":\"Node\",\"id\":\"p4246\",\"attributes\":{\"target\":\"frame\",\"symbol\":\"top\"}},\"bottom\":{\"type\":\"object\",\"name\":\"Node\",\"id\":\"p4247\",\"attributes\":{\"target\":\"frame\",\"symbol\":\"bottom\"}},\"fill_color\":\"lightgreen\",\"fill_alpha\":0.3}},{\"type\":\"object\",\"name\":\"Label\",\"id\":\"p4248\",\"attributes\":{\"text\":\"494.00\",\"text_color\":\"black\",\"text_font_size\":\"10pt\",\"background_fill_color\":\"white\",\"background_fill_alpha\":0.7,\"x\":1723488600000.0,\"y\":110,\"angle\":90,\"angle_units\":\"deg\"}}]}}]}};\n",
              "  const render_items = [{\"docid\":\"9eb97a4a-009f-4428-a5f8-ed4db8697821\",\"roots\":{\"p4166\":\"aaad2803-e207-4bd9-8c0d-b3521f2566bc\"},\"root_ids\":[\"p4166\"]}];\n",
              "  void root.Bokeh.embed.embed_items_notebook(docs_json, render_items);\n",
              "  }\n",
              "  if (root.Bokeh !== undefined) {\n",
              "    embed_document(root);\n",
              "  } else {\n",
              "    let attempts = 0;\n",
              "    const timer = setInterval(function(root) {\n",
              "      if (root.Bokeh !== undefined) {\n",
              "        clearInterval(timer);\n",
              "        embed_document(root);\n",
              "      } else {\n",
              "        attempts++;\n",
              "        if (attempts > 100) {\n",
              "          clearInterval(timer);\n",
              "          console.log(\"Bokeh: ERROR: Unable to run BokehJS code because BokehJS library is missing\");\n",
              "        }\n",
              "      }\n",
              "    }, 10, root)\n",
              "  }\n",
              "})(window);"
            ],
            "application/vnd.bokehjs_exec.v0+json": ""
          },
          "metadata": {
            "application/vnd.bokehjs_exec.v0+json": {
              "id": "p4166"
            }
          }
        },
        {
          "output_type": "stream",
          "name": "stdout",
          "text": [
            "\n",
            "\n",
            "\n"
          ]
        },
        {
          "output_type": "display_data",
          "data": {
            "text/html": [
              "\n",
              "  <div id=\"a07d142d-0830-44ab-8307-506582aa7b13\" data-root-id=\"p4253\" style=\"display: contents;\"></div>\n"
            ]
          },
          "metadata": {}
        },
        {
          "output_type": "display_data",
          "data": {
            "application/javascript": [
              "(function(root) {\n",
              "  function embed_document(root) {\n",
              "  const docs_json = {\"5e89bbd7-8a8a-4bfa-93e3-9f50321ca27e\":{\"version\":\"3.4.3\",\"title\":\"Bokeh Application\",\"roots\":[{\"type\":\"object\",\"name\":\"Figure\",\"id\":\"p4253\",\"attributes\":{\"height\":400,\"x_range\":{\"type\":\"object\",\"name\":\"DataRange1d\",\"id\":\"p4254\"},\"y_range\":{\"type\":\"object\",\"name\":\"DataRange1d\",\"id\":\"p4255\"},\"x_scale\":{\"type\":\"object\",\"name\":\"LinearScale\",\"id\":\"p4262\"},\"y_scale\":{\"type\":\"object\",\"name\":\"LinearScale\",\"id\":\"p4263\"},\"title\":{\"type\":\"object\",\"name\":\"Title\",\"id\":\"p4260\",\"attributes\":{\"text\":\"Day: 2024-08-13\",\"text_font_size\":\"20pt\",\"align\":\"center\"}},\"renderers\":[{\"type\":\"object\",\"name\":\"GlyphRenderer\",\"id\":\"p4295\",\"attributes\":{\"data_source\":{\"type\":\"object\",\"name\":\"ColumnDataSource\",\"id\":\"p4289\",\"attributes\":{\"selected\":{\"type\":\"object\",\"name\":\"Selection\",\"id\":\"p4290\",\"attributes\":{\"indices\":[],\"line_indices\":[]}},\"selection_policy\":{\"type\":\"object\",\"name\":\"UnionRenderers\",\"id\":\"p4291\"},\"data\":{\"type\":\"map\",\"entries\":[[\"x\",{\"type\":\"ndarray\",\"array\":{\"type\":\"bytes\",\"data\":\"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\"},\"shape\":[269],\"dtype\":\"float64\",\"order\":\"little\"}],[\"y\",{\"type\":\"ndarray\",\"array\":{\"type\":\"bytes\",\"data\":\"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\"},\"shape\":[269],\"dtype\":\"float64\",\"order\":\"little\"}]]}}},\"view\":{\"type\":\"object\",\"name\":\"CDSView\",\"id\":\"p4296\",\"attributes\":{\"filter\":{\"type\":\"object\",\"name\":\"AllIndices\",\"id\":\"p4297\"}}},\"glyph\":{\"type\":\"object\",\"name\":\"Line\",\"id\":\"p4292\",\"attributes\":{\"x\":{\"type\":\"field\",\"field\":\"x\"},\"y\":{\"type\":\"field\",\"field\":\"y\"},\"line_color\":\"gray\",\"line_alpha\":0.5,\"line_width\":2}},\"nonselection_glyph\":{\"type\":\"object\",\"name\":\"Line\",\"id\":\"p4293\",\"attributes\":{\"x\":{\"type\":\"field\",\"field\":\"x\"},\"y\":{\"type\":\"field\",\"field\":\"y\"},\"line_color\":\"gray\",\"line_alpha\":0.1,\"line_width\":2}},\"muted_glyph\":{\"type\":\"object\",\"name\":\"Line\",\"id\":\"p4294\",\"attributes\":{\"x\":{\"type\":\"field\",\"field\":\"x\"},\"y\":{\"type\":\"field\",\"field\":\"y\"},\"line_color\":\"gray\",\"line_alpha\":0.2,\"line_width\":2}}}},{\"type\":\"object\",\"name\":\"GlyphRenderer\",\"id\":\"p4305\",\"attributes\":{\"data_source\":{\"type\":\"object\",\"name\":\"ColumnDataSource\",\"id\":\"p4299\",\"attributes\":{\"selected\":{\"type\":\"object\",\"name\":\"Selection\",\"id\":\"p4300\",\"attributes\":{\"indices\":[],\"line_indices\":[]}},\"selection_policy\":{\"type\":\"object\",\"name\":\"UnionRenderers\",\"id\":\"p4301\"},\"data\":{\"type\":\"map\",\"entries\":[[\"x\",{\"type\":\"ndarray\",\"array\":{\"type\":\"bytes\",\"data\":\"AADKELsUeUIAAG6J2hR5QgAA1BnVFHlCAAC+eKoUeUIAANYJpxR5QgAAmF/LFHlC\"},\"shape\":[6],\"dtype\":\"float64\",\"order\":\"little\"}],[\"y\",{\"type\":\"ndarray\",\"array\":{\"type\":\"bytes\",\"data\":\"AAAAAAAAYUAAAAAAAGBhQAAAAAAAwGBAAAAAAADAXUAAAAAAAABcQAAAAAAAAF1A\"},\"shape\":[6],\"dtype\":\"float64\",\"order\":\"little\"}]]}}},\"view\":{\"type\":\"object\",\"name\":\"CDSView\",\"id\":\"p4306\",\"attributes\":{\"filter\":{\"type\":\"object\",\"name\":\"AllIndices\",\"id\":\"p4307\"}}},\"glyph\":{\"type\":\"object\",\"name\":\"Scatter\",\"id\":\"p4302\",\"attributes\":{\"x\":{\"type\":\"field\",\"field\":\"x\"},\"y\":{\"type\":\"field\",\"field\":\"y\"},\"size\":{\"type\":\"value\",\"value\":6},\"line_color\":{\"type\":\"value\",\"value\":\"darkblue\"},\"line_alpha\":{\"type\":\"value\",\"value\":0.7},\"fill_color\":{\"type\":\"value\",\"value\":\"darkblue\"},\"fill_alpha\":{\"type\":\"value\",\"value\":0.7},\"hatch_color\":{\"type\":\"value\",\"value\":\"darkblue\"},\"hatch_alpha\":{\"type\":\"value\",\"value\":0.7}}},\"nonselection_glyph\":{\"type\":\"object\",\"name\":\"Scatter\",\"id\":\"p4303\",\"attributes\":{\"x\":{\"type\":\"field\",\"field\":\"x\"},\"y\":{\"type\":\"field\",\"field\":\"y\"},\"size\":{\"type\":\"value\",\"value\":6},\"line_color\":{\"type\":\"value\",\"value\":\"darkblue\"},\"line_alpha\":{\"type\":\"value\",\"value\":0.1},\"fill_color\":{\"type\":\"value\",\"value\":\"darkblue\"},\"fill_alpha\":{\"type\":\"value\",\"value\":0.1},\"hatch_color\":{\"type\":\"value\",\"value\":\"darkblue\"},\"hatch_alpha\":{\"type\":\"value\",\"value\":0.1}}},\"muted_glyph\":{\"type\":\"object\",\"name\":\"Scatter\",\"id\":\"p4304\",\"attributes\":{\"x\":{\"type\":\"field\",\"field\":\"x\"},\"y\":{\"type\":\"field\",\"field\":\"y\"},\"size\":{\"type\":\"value\",\"value\":6},\"line_color\":{\"type\":\"value\",\"value\":\"darkblue\"},\"line_alpha\":{\"type\":\"value\",\"value\":0.2},\"fill_color\":{\"type\":\"value\",\"value\":\"darkblue\"},\"fill_alpha\":{\"type\":\"value\",\"value\":0.2},\"hatch_color\":{\"type\":\"value\",\"value\":\"darkblue\"},\"hatch_alpha\":{\"type\":\"value\",\"value\":0.2}}}}}],\"toolbar\":{\"type\":\"object\",\"name\":\"Toolbar\",\"id\":\"p4261\",\"attributes\":{\"tools\":[{\"type\":\"object\",\"name\":\"PanTool\",\"id\":\"p4286\"},{\"type\":\"object\",\"name\":\"WheelZoomTool\",\"id\":\"p4287\",\"attributes\":{\"dimensions\":\"width\",\"renderers\":\"auto\"}},{\"type\":\"object\",\"name\":\"WheelZoomTool\",\"id\":\"p4288\",\"attributes\":{\"dimensions\":\"height\",\"renderers\":\"auto\"}}],\"active_scroll\":{\"id\":\"p4287\"}}},\"left\":[{\"type\":\"object\",\"name\":\"LinearAxis\",\"id\":\"p4281\",\"attributes\":{\"ticker\":{\"type\":\"object\",\"name\":\"BasicTicker\",\"id\":\"p4282\",\"attributes\":{\"mantissas\":[1,2,5]}},\"formatter\":{\"type\":\"object\",\"name\":\"BasicTickFormatter\",\"id\":\"p4283\"},\"axis_label\":\"Glucose\",\"major_label_policy\":{\"type\":\"object\",\"name\":\"AllLabels\",\"id\":\"p4284\"}}}],\"above\":[{\"type\":\"object\",\"name\":\"DatetimeAxis\",\"id\":\"p4264\",\"attributes\":{\"ticker\":{\"type\":\"object\",\"name\":\"DatetimeTicker\",\"id\":\"p4265\",\"attributes\":{\"num_minor_ticks\":5,\"tickers\":[{\"type\":\"object\",\"name\":\"AdaptiveTicker\",\"id\":\"p4266\",\"attributes\":{\"num_minor_ticks\":0,\"mantissas\":[1,2,5],\"max_interval\":500.0}},{\"type\":\"object\",\"name\":\"AdaptiveTicker\",\"id\":\"p4267\",\"attributes\":{\"num_minor_ticks\":0,\"base\":60,\"mantissas\":[1,2,5,10,15,20,30],\"min_interval\":1000.0,\"max_interval\":1800000.0}},{\"type\":\"object\",\"name\":\"AdaptiveTicker\",\"id\":\"p4268\",\"attributes\":{\"num_minor_ticks\":0,\"base\":24,\"mantissas\":[1,2,4,6,8,12],\"min_interval\":3600000.0,\"max_interval\":43200000.0}},{\"type\":\"object\",\"name\":\"DaysTicker\",\"id\":\"p4269\",\"attributes\":{\"days\":[1,2,3,4,5,6,7,8,9,10,11,12,13,14,15,16,17,18,19,20,21,22,23,24,25,26,27,28,29,30,31]}},{\"type\":\"object\",\"name\":\"DaysTicker\",\"id\":\"p4270\",\"attributes\":{\"days\":[1,4,7,10,13,16,19,22,25,28]}},{\"type\":\"object\",\"name\":\"DaysTicker\",\"id\":\"p4271\",\"attributes\":{\"days\":[1,8,15,22]}},{\"type\":\"object\",\"name\":\"DaysTicker\",\"id\":\"p4272\",\"attributes\":{\"days\":[1,15]}},{\"type\":\"object\",\"name\":\"MonthsTicker\",\"id\":\"p4273\",\"attributes\":{\"months\":[0,1,2,3,4,5,6,7,8,9,10,11]}},{\"type\":\"object\",\"name\":\"MonthsTicker\",\"id\":\"p4274\",\"attributes\":{\"months\":[0,2,4,6,8,10]}},{\"type\":\"object\",\"name\":\"MonthsTicker\",\"id\":\"p4275\",\"attributes\":{\"months\":[0,4,8]}},{\"type\":\"object\",\"name\":\"MonthsTicker\",\"id\":\"p4276\",\"attributes\":{\"months\":[0,6]}},{\"type\":\"object\",\"name\":\"YearsTicker\",\"id\":\"p4277\"}]}},\"formatter\":{\"type\":\"object\",\"name\":\"DatetimeTickFormatter\",\"id\":\"p4278\"},\"axis_label\":\"Time\",\"major_label_policy\":{\"type\":\"object\",\"name\":\"AllLabels\",\"id\":\"p4279\"}}}],\"center\":[{\"type\":\"object\",\"name\":\"Grid\",\"id\":\"p4280\",\"attributes\":{\"axis\":{\"id\":\"p4264\"}}},{\"type\":\"object\",\"name\":\"Grid\",\"id\":\"p4285\",\"attributes\":{\"dimension\":1,\"axis\":{\"id\":\"p4281\"}}},{\"type\":\"object\",\"name\":\"Span\",\"id\":\"p4298\",\"attributes\":{\"location\":108.88475836431226,\"line_color\":\"red\"}},{\"type\":\"object\",\"name\":\"Span\",\"id\":\"p4308\",\"attributes\":{\"location\":1723535400000.0,\"dimension\":\"height\",\"line_color\":\"lightgreen\",\"line_width\":2}},{\"type\":\"object\",\"name\":\"BoxAnnotation\",\"id\":\"p4309\",\"attributes\":{\"left\":1723535400000.0,\"right\":1723539000000.0,\"top\":{\"type\":\"object\",\"name\":\"Node\",\"id\":\"p4312\",\"attributes\":{\"target\":\"frame\",\"symbol\":\"top\"}},\"bottom\":{\"type\":\"object\",\"name\":\"Node\",\"id\":\"p4313\",\"attributes\":{\"target\":\"frame\",\"symbol\":\"bottom\"}},\"fill_color\":\"lightgreen\",\"fill_alpha\":0.3}},{\"type\":\"object\",\"name\":\"Label\",\"id\":\"p4314\",\"attributes\":{\"text\":\"325.00\",\"text_color\":\"black\",\"text_font_size\":\"10pt\",\"background_fill_color\":\"white\",\"background_fill_alpha\":0.7,\"x\":1723535400000.0,\"y\":110,\"angle\":90,\"angle_units\":\"deg\"}},{\"type\":\"object\",\"name\":\"Span\",\"id\":\"p4315\",\"attributes\":{\"location\":1723549500000.0,\"dimension\":\"height\",\"line_color\":\"lightgreen\",\"line_width\":2}},{\"type\":\"object\",\"name\":\"BoxAnnotation\",\"id\":\"p4316\",\"attributes\":{\"left\":1723549500000.0,\"right\":1723553100000.0,\"top\":{\"type\":\"object\",\"name\":\"Node\",\"id\":\"p4319\",\"attributes\":{\"target\":\"frame\",\"symbol\":\"top\"}},\"bottom\":{\"type\":\"object\",\"name\":\"Node\",\"id\":\"p4320\",\"attributes\":{\"target\":\"frame\",\"symbol\":\"bottom\"}},\"fill_color\":\"lightgreen\",\"fill_alpha\":0.3}},{\"type\":\"object\",\"name\":\"Label\",\"id\":\"p4321\",\"attributes\":{\"text\":\"857.00\",\"text_color\":\"black\",\"text_font_size\":\"10pt\",\"background_fill_color\":\"white\",\"background_fill_alpha\":0.7,\"x\":1723549500000.0,\"y\":110,\"angle\":90,\"angle_units\":\"deg\"}},{\"type\":\"object\",\"name\":\"Span\",\"id\":\"p4322\",\"attributes\":{\"location\":1723564200000.0,\"dimension\":\"height\",\"line_color\":\"lightgreen\",\"line_width\":2}},{\"type\":\"object\",\"name\":\"BoxAnnotation\",\"id\":\"p4323\",\"attributes\":{\"left\":1723564200000.0,\"right\":1723567800000.0,\"top\":{\"type\":\"object\",\"name\":\"Node\",\"id\":\"p4326\",\"attributes\":{\"target\":\"frame\",\"symbol\":\"top\"}},\"bottom\":{\"type\":\"object\",\"name\":\"Node\",\"id\":\"p4327\",\"attributes\":{\"target\":\"frame\",\"symbol\":\"bottom\"}},\"fill_color\":\"lightgreen\",\"fill_alpha\":0.3}},{\"type\":\"object\",\"name\":\"Label\",\"id\":\"p4328\",\"attributes\":{\"text\":\"220.00\",\"text_color\":\"black\",\"text_font_size\":\"10pt\",\"background_fill_color\":\"white\",\"background_fill_alpha\":0.7,\"x\":1723564200000.0,\"y\":110,\"angle\":90,\"angle_units\":\"deg\"}},{\"type\":\"object\",\"name\":\"Span\",\"id\":\"p4329\",\"attributes\":{\"location\":1723575600000.0,\"dimension\":\"height\",\"line_color\":\"lightgreen\",\"line_width\":2}},{\"type\":\"object\",\"name\":\"BoxAnnotation\",\"id\":\"p4330\",\"attributes\":{\"left\":1723575600000.0,\"right\":1723579200000.0,\"top\":{\"type\":\"object\",\"name\":\"Node\",\"id\":\"p4333\",\"attributes\":{\"target\":\"frame\",\"symbol\":\"top\"}},\"bottom\":{\"type\":\"object\",\"name\":\"Node\",\"id\":\"p4334\",\"attributes\":{\"target\":\"frame\",\"symbol\":\"bottom\"}},\"fill_color\":\"lightgreen\",\"fill_alpha\":0.3}},{\"type\":\"object\",\"name\":\"Label\",\"id\":\"p4335\",\"attributes\":{\"text\":\"668.00\",\"text_color\":\"black\",\"text_font_size\":\"10pt\",\"background_fill_color\":\"white\",\"background_fill_alpha\":0.7,\"x\":1723575600000.0,\"y\":110,\"angle\":90,\"angle_units\":\"deg\"}}]}}]}};\n",
              "  const render_items = [{\"docid\":\"5e89bbd7-8a8a-4bfa-93e3-9f50321ca27e\",\"roots\":{\"p4253\":\"a07d142d-0830-44ab-8307-506582aa7b13\"},\"root_ids\":[\"p4253\"]}];\n",
              "  void root.Bokeh.embed.embed_items_notebook(docs_json, render_items);\n",
              "  }\n",
              "  if (root.Bokeh !== undefined) {\n",
              "    embed_document(root);\n",
              "  } else {\n",
              "    let attempts = 0;\n",
              "    const timer = setInterval(function(root) {\n",
              "      if (root.Bokeh !== undefined) {\n",
              "        clearInterval(timer);\n",
              "        embed_document(root);\n",
              "      } else {\n",
              "        attempts++;\n",
              "        if (attempts > 100) {\n",
              "          clearInterval(timer);\n",
              "          console.log(\"Bokeh: ERROR: Unable to run BokehJS code because BokehJS library is missing\");\n",
              "        }\n",
              "      }\n",
              "    }, 10, root)\n",
              "  }\n",
              "})(window);"
            ],
            "application/vnd.bokehjs_exec.v0+json": ""
          },
          "metadata": {
            "application/vnd.bokehjs_exec.v0+json": {
              "id": "p4253"
            }
          }
        },
        {
          "output_type": "stream",
          "name": "stdout",
          "text": [
            "\n",
            "\n",
            "\n"
          ]
        },
        {
          "output_type": "display_data",
          "data": {
            "text/html": [
              "\n",
              "  <div id=\"f2f07c5e-ccee-4ad3-b379-378ab4325eb8\" data-root-id=\"p4340\" style=\"display: contents;\"></div>\n"
            ]
          },
          "metadata": {}
        },
        {
          "output_type": "display_data",
          "data": {
            "application/javascript": [
              "(function(root) {\n",
              "  function embed_document(root) {\n",
              "  const docs_json = {\"44be12c1-8bfa-4f06-a615-52c614239d65\":{\"version\":\"3.4.3\",\"title\":\"Bokeh Application\",\"roots\":[{\"type\":\"object\",\"name\":\"Figure\",\"id\":\"p4340\",\"attributes\":{\"height\":400,\"x_range\":{\"type\":\"object\",\"name\":\"DataRange1d\",\"id\":\"p4341\"},\"y_range\":{\"type\":\"object\",\"name\":\"DataRange1d\",\"id\":\"p4342\"},\"x_scale\":{\"type\":\"object\",\"name\":\"LinearScale\",\"id\":\"p4349\"},\"y_scale\":{\"type\":\"object\",\"name\":\"LinearScale\",\"id\":\"p4350\"},\"title\":{\"type\":\"object\",\"name\":\"Title\",\"id\":\"p4347\",\"attributes\":{\"text\":\"Day: 2024-08-16\",\"text_font_size\":\"20pt\",\"align\":\"center\"}},\"renderers\":[{\"type\":\"object\",\"name\":\"GlyphRenderer\",\"id\":\"p4382\",\"attributes\":{\"data_source\":{\"type\":\"object\",\"name\":\"ColumnDataSource\",\"id\":\"p4376\",\"attributes\":{\"selected\":{\"type\":\"object\",\"name\":\"Selection\",\"id\":\"p4377\",\"attributes\":{\"indices\":[],\"line_indices\":[]}},\"selection_policy\":{\"type\":\"object\",\"name\":\"UnionRenderers\",\"id\":\"p4378\"},\"data\":{\"type\":\"map\",\"entries\":[[\"x\",{\"type\":\"ndarray\",\"array\":{\"type\":\"bytes\",\"data\":\"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\"},\"shape\":[288],\"dtype\":\"float64\",\"order\":\"little\"}],[\"y\",{\"type\":\"ndarray\",\"array\":{\"type\":\"bytes\",\"data\":\"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\"},\"shape\":[288],\"dtype\":\"float64\",\"order\":\"little\"}]]}}},\"view\":{\"type\":\"object\",\"name\":\"CDSView\",\"id\":\"p4383\",\"attributes\":{\"filter\":{\"type\":\"object\",\"name\":\"AllIndices\",\"id\":\"p4384\"}}},\"glyph\":{\"type\":\"object\",\"name\":\"Line\",\"id\":\"p4379\",\"attributes\":{\"x\":{\"type\":\"field\",\"field\":\"x\"},\"y\":{\"type\":\"field\",\"field\":\"y\"},\"line_color\":\"gray\",\"line_alpha\":0.5,\"line_width\":2}},\"nonselection_glyph\":{\"type\":\"object\",\"name\":\"Line\",\"id\":\"p4380\",\"attributes\":{\"x\":{\"type\":\"field\",\"field\":\"x\"},\"y\":{\"type\":\"field\",\"field\":\"y\"},\"line_color\":\"gray\",\"line_alpha\":0.1,\"line_width\":2}},\"muted_glyph\":{\"type\":\"object\",\"name\":\"Line\",\"id\":\"p4381\",\"attributes\":{\"x\":{\"type\":\"field\",\"field\":\"x\"},\"y\":{\"type\":\"field\",\"field\":\"y\"},\"line_color\":\"gray\",\"line_alpha\":0.2,\"line_width\":2}}}},{\"type\":\"object\",\"name\":\"GlyphRenderer\",\"id\":\"p4392\",\"attributes\":{\"data_source\":{\"type\":\"object\",\"name\":\"ColumnDataSource\",\"id\":\"p4386\",\"attributes\":{\"selected\":{\"type\":\"object\",\"name\":\"Selection\",\"id\":\"p4387\",\"attributes\":{\"indices\":[],\"line_indices\":[]}},\"selection_policy\":{\"type\":\"object\",\"name\":\"UnionRenderers\",\"id\":\"p4388\"},\"data\":{\"type\":\"map\",\"entries\":[[\"x\",{\"type\":\"ndarray\",\"array\":{\"type\":\"bytes\",\"data\":\"AADUJrgVeUIAAIgXjBV5QgAA+LCgFXlCAAB20pcVeUIAAA5SyxV5QgAA6JnHFXlCAADOedQVeUI=\"},\"shape\":[7],\"dtype\":\"float64\",\"order\":\"little\"}],[\"y\",{\"type\":\"ndarray\",\"array\":{\"type\":\"bytes\",\"data\":\"AAAAAABgaUAAAAAAAIBaQAAAAAAAAF1AAAAAAABAWkAAAAAAAEBcQAAAAAAAQFlAAAAAAABAW0A=\"},\"shape\":[7],\"dtype\":\"float64\",\"order\":\"little\"}]]}}},\"view\":{\"type\":\"object\",\"name\":\"CDSView\",\"id\":\"p4393\",\"attributes\":{\"filter\":{\"type\":\"object\",\"name\":\"AllIndices\",\"id\":\"p4394\"}}},\"glyph\":{\"type\":\"object\",\"name\":\"Scatter\",\"id\":\"p4389\",\"attributes\":{\"x\":{\"type\":\"field\",\"field\":\"x\"},\"y\":{\"type\":\"field\",\"field\":\"y\"},\"size\":{\"type\":\"value\",\"value\":6},\"line_color\":{\"type\":\"value\",\"value\":\"darkblue\"},\"line_alpha\":{\"type\":\"value\",\"value\":0.7},\"fill_color\":{\"type\":\"value\",\"value\":\"darkblue\"},\"fill_alpha\":{\"type\":\"value\",\"value\":0.7},\"hatch_color\":{\"type\":\"value\",\"value\":\"darkblue\"},\"hatch_alpha\":{\"type\":\"value\",\"value\":0.7}}},\"nonselection_glyph\":{\"type\":\"object\",\"name\":\"Scatter\",\"id\":\"p4390\",\"attributes\":{\"x\":{\"type\":\"field\",\"field\":\"x\"},\"y\":{\"type\":\"field\",\"field\":\"y\"},\"size\":{\"type\":\"value\",\"value\":6},\"line_color\":{\"type\":\"value\",\"value\":\"darkblue\"},\"line_alpha\":{\"type\":\"value\",\"value\":0.1},\"fill_color\":{\"type\":\"value\",\"value\":\"darkblue\"},\"fill_alpha\":{\"type\":\"value\",\"value\":0.1},\"hatch_color\":{\"type\":\"value\",\"value\":\"darkblue\"},\"hatch_alpha\":{\"type\":\"value\",\"value\":0.1}}},\"muted_glyph\":{\"type\":\"object\",\"name\":\"Scatter\",\"id\":\"p4391\",\"attributes\":{\"x\":{\"type\":\"field\",\"field\":\"x\"},\"y\":{\"type\":\"field\",\"field\":\"y\"},\"size\":{\"type\":\"value\",\"value\":6},\"line_color\":{\"type\":\"value\",\"value\":\"darkblue\"},\"line_alpha\":{\"type\":\"value\",\"value\":0.2},\"fill_color\":{\"type\":\"value\",\"value\":\"darkblue\"},\"fill_alpha\":{\"type\":\"value\",\"value\":0.2},\"hatch_color\":{\"type\":\"value\",\"value\":\"darkblue\"},\"hatch_alpha\":{\"type\":\"value\",\"value\":0.2}}}}}],\"toolbar\":{\"type\":\"object\",\"name\":\"Toolbar\",\"id\":\"p4348\",\"attributes\":{\"tools\":[{\"type\":\"object\",\"name\":\"PanTool\",\"id\":\"p4373\"},{\"type\":\"object\",\"name\":\"WheelZoomTool\",\"id\":\"p4374\",\"attributes\":{\"dimensions\":\"width\",\"renderers\":\"auto\"}},{\"type\":\"object\",\"name\":\"WheelZoomTool\",\"id\":\"p4375\",\"attributes\":{\"dimensions\":\"height\",\"renderers\":\"auto\"}}],\"active_scroll\":{\"id\":\"p4374\"}}},\"left\":[{\"type\":\"object\",\"name\":\"LinearAxis\",\"id\":\"p4368\",\"attributes\":{\"ticker\":{\"type\":\"object\",\"name\":\"BasicTicker\",\"id\":\"p4369\",\"attributes\":{\"mantissas\":[1,2,5]}},\"formatter\":{\"type\":\"object\",\"name\":\"BasicTickFormatter\",\"id\":\"p4370\"},\"axis_label\":\"Glucose\",\"major_label_policy\":{\"type\":\"object\",\"name\":\"AllLabels\",\"id\":\"p4371\"}}}],\"above\":[{\"type\":\"object\",\"name\":\"DatetimeAxis\",\"id\":\"p4351\",\"attributes\":{\"ticker\":{\"type\":\"object\",\"name\":\"DatetimeTicker\",\"id\":\"p4352\",\"attributes\":{\"num_minor_ticks\":5,\"tickers\":[{\"type\":\"object\",\"name\":\"AdaptiveTicker\",\"id\":\"p4353\",\"attributes\":{\"num_minor_ticks\":0,\"mantissas\":[1,2,5],\"max_interval\":500.0}},{\"type\":\"object\",\"name\":\"AdaptiveTicker\",\"id\":\"p4354\",\"attributes\":{\"num_minor_ticks\":0,\"base\":60,\"mantissas\":[1,2,5,10,15,20,30],\"min_interval\":1000.0,\"max_interval\":1800000.0}},{\"type\":\"object\",\"name\":\"AdaptiveTicker\",\"id\":\"p4355\",\"attributes\":{\"num_minor_ticks\":0,\"base\":24,\"mantissas\":[1,2,4,6,8,12],\"min_interval\":3600000.0,\"max_interval\":43200000.0}},{\"type\":\"object\",\"name\":\"DaysTicker\",\"id\":\"p4356\",\"attributes\":{\"days\":[1,2,3,4,5,6,7,8,9,10,11,12,13,14,15,16,17,18,19,20,21,22,23,24,25,26,27,28,29,30,31]}},{\"type\":\"object\",\"name\":\"DaysTicker\",\"id\":\"p4357\",\"attributes\":{\"days\":[1,4,7,10,13,16,19,22,25,28]}},{\"type\":\"object\",\"name\":\"DaysTicker\",\"id\":\"p4358\",\"attributes\":{\"days\":[1,8,15,22]}},{\"type\":\"object\",\"name\":\"DaysTicker\",\"id\":\"p4359\",\"attributes\":{\"days\":[1,15]}},{\"type\":\"object\",\"name\":\"MonthsTicker\",\"id\":\"p4360\",\"attributes\":{\"months\":[0,1,2,3,4,5,6,7,8,9,10,11]}},{\"type\":\"object\",\"name\":\"MonthsTicker\",\"id\":\"p4361\",\"attributes\":{\"months\":[0,2,4,6,8,10]}},{\"type\":\"object\",\"name\":\"MonthsTicker\",\"id\":\"p4362\",\"attributes\":{\"months\":[0,4,8]}},{\"type\":\"object\",\"name\":\"MonthsTicker\",\"id\":\"p4363\",\"attributes\":{\"months\":[0,6]}},{\"type\":\"object\",\"name\":\"YearsTicker\",\"id\":\"p4364\"}]}},\"formatter\":{\"type\":\"object\",\"name\":\"DatetimeTickFormatter\",\"id\":\"p4365\"},\"axis_label\":\"Time\",\"major_label_policy\":{\"type\":\"object\",\"name\":\"AllLabels\",\"id\":\"p4366\"}}}],\"center\":[{\"type\":\"object\",\"name\":\"Grid\",\"id\":\"p4367\",\"attributes\":{\"axis\":{\"id\":\"p4351\"}}},{\"type\":\"object\",\"name\":\"Grid\",\"id\":\"p4372\",\"attributes\":{\"dimension\":1,\"axis\":{\"id\":\"p4368\"}}},{\"type\":\"object\",\"name\":\"Span\",\"id\":\"p4385\",\"attributes\":{\"location\":99.25694444444444,\"line_color\":\"red\"}},{\"type\":\"object\",\"name\":\"Span\",\"id\":\"p4395\",\"attributes\":{\"location\":1723797600000.0,\"dimension\":\"height\",\"line_color\":\"lightgreen\",\"line_width\":2}},{\"type\":\"object\",\"name\":\"BoxAnnotation\",\"id\":\"p4396\",\"attributes\":{\"left\":1723797600000.0,\"right\":1723801200000.0,\"top\":{\"type\":\"object\",\"name\":\"Node\",\"id\":\"p4399\",\"attributes\":{\"target\":\"frame\",\"symbol\":\"top\"}},\"bottom\":{\"type\":\"object\",\"name\":\"Node\",\"id\":\"p4400\",\"attributes\":{\"target\":\"frame\",\"symbol\":\"bottom\"}},\"fill_color\":\"lightgreen\",\"fill_alpha\":0.3}},{\"type\":\"object\",\"name\":\"Label\",\"id\":\"p4401\",\"attributes\":{\"text\":\"325.00\",\"text_color\":\"black\",\"text_font_size\":\"10pt\",\"background_fill_color\":\"white\",\"background_fill_alpha\":0.7,\"x\":1723797600000.0,\"y\":110,\"angle\":90,\"angle_units\":\"deg\"}},{\"type\":\"object\",\"name\":\"Span\",\"id\":\"p4402\",\"attributes\":{\"location\":1723812600000.0,\"dimension\":\"height\",\"line_color\":\"lightgreen\",\"line_width\":2}},{\"type\":\"object\",\"name\":\"BoxAnnotation\",\"id\":\"p4403\",\"attributes\":{\"left\":1723812600000.0,\"right\":1723816200000.0,\"top\":{\"type\":\"object\",\"name\":\"Node\",\"id\":\"p4406\",\"attributes\":{\"target\":\"frame\",\"symbol\":\"top\"}},\"bottom\":{\"type\":\"object\",\"name\":\"Node\",\"id\":\"p4407\",\"attributes\":{\"target\":\"frame\",\"symbol\":\"bottom\"}},\"fill_color\":\"lightgreen\",\"fill_alpha\":0.3}},{\"type\":\"object\",\"name\":\"Label\",\"id\":\"p4408\",\"attributes\":{\"text\":\"762.00\",\"text_color\":\"black\",\"text_font_size\":\"10pt\",\"background_fill_color\":\"white\",\"background_fill_alpha\":0.7,\"x\":1723812600000.0,\"y\":110,\"angle\":90,\"angle_units\":\"deg\"}},{\"type\":\"object\",\"name\":\"Span\",\"id\":\"p4409\",\"attributes\":{\"location\":1723834800000.0,\"dimension\":\"height\",\"line_color\":\"lightgreen\",\"line_width\":2}},{\"type\":\"object\",\"name\":\"BoxAnnotation\",\"id\":\"p4410\",\"attributes\":{\"left\":1723834800000.0,\"right\":1723838400000.0,\"top\":{\"type\":\"object\",\"name\":\"Node\",\"id\":\"p4413\",\"attributes\":{\"target\":\"frame\",\"symbol\":\"top\"}},\"bottom\":{\"type\":\"object\",\"name\":\"Node\",\"id\":\"p4414\",\"attributes\":{\"target\":\"frame\",\"symbol\":\"bottom\"}},\"fill_color\":\"lightgreen\",\"fill_alpha\":0.3}},{\"type\":\"object\",\"name\":\"Label\",\"id\":\"p4415\",\"attributes\":{\"text\":\"473.00\",\"text_color\":\"black\",\"text_font_size\":\"10pt\",\"background_fill_color\":\"white\",\"background_fill_alpha\":0.7,\"x\":1723834800000.0,\"y\":110,\"angle\":90,\"angle_units\":\"deg\"}}]}}]}};\n",
              "  const render_items = [{\"docid\":\"44be12c1-8bfa-4f06-a615-52c614239d65\",\"roots\":{\"p4340\":\"f2f07c5e-ccee-4ad3-b379-378ab4325eb8\"},\"root_ids\":[\"p4340\"]}];\n",
              "  void root.Bokeh.embed.embed_items_notebook(docs_json, render_items);\n",
              "  }\n",
              "  if (root.Bokeh !== undefined) {\n",
              "    embed_document(root);\n",
              "  } else {\n",
              "    let attempts = 0;\n",
              "    const timer = setInterval(function(root) {\n",
              "      if (root.Bokeh !== undefined) {\n",
              "        clearInterval(timer);\n",
              "        embed_document(root);\n",
              "      } else {\n",
              "        attempts++;\n",
              "        if (attempts > 100) {\n",
              "          clearInterval(timer);\n",
              "          console.log(\"Bokeh: ERROR: Unable to run BokehJS code because BokehJS library is missing\");\n",
              "        }\n",
              "      }\n",
              "    }, 10, root)\n",
              "  }\n",
              "})(window);"
            ],
            "application/vnd.bokehjs_exec.v0+json": ""
          },
          "metadata": {
            "application/vnd.bokehjs_exec.v0+json": {
              "id": "p4340"
            }
          }
        },
        {
          "output_type": "stream",
          "name": "stdout",
          "text": [
            "\n",
            "\n",
            "\n"
          ]
        },
        {
          "output_type": "display_data",
          "data": {
            "text/html": [
              "\n",
              "  <div id=\"d9ddb8d7-cf6e-4560-bce4-cef8a9cf35e2\" data-root-id=\"p4420\" style=\"display: contents;\"></div>\n"
            ]
          },
          "metadata": {}
        },
        {
          "output_type": "display_data",
          "data": {
            "application/javascript": [
              "(function(root) {\n",
              "  function embed_document(root) {\n",
              "  const docs_json = {\"660422fc-6d8c-401c-99e9-426c77441b60\":{\"version\":\"3.4.3\",\"title\":\"Bokeh Application\",\"roots\":[{\"type\":\"object\",\"name\":\"Figure\",\"id\":\"p4420\",\"attributes\":{\"height\":400,\"x_range\":{\"type\":\"object\",\"name\":\"DataRange1d\",\"id\":\"p4421\"},\"y_range\":{\"type\":\"object\",\"name\":\"DataRange1d\",\"id\":\"p4422\"},\"x_scale\":{\"type\":\"object\",\"name\":\"LinearScale\",\"id\":\"p4429\"},\"y_scale\":{\"type\":\"object\",\"name\":\"LinearScale\",\"id\":\"p4430\"},\"title\":{\"type\":\"object\",\"name\":\"Title\",\"id\":\"p4427\",\"attributes\":{\"text\":\"Day: 2024-08-17\",\"text_font_size\":\"20pt\",\"align\":\"center\"}},\"renderers\":[{\"type\":\"object\",\"name\":\"GlyphRenderer\",\"id\":\"p4462\",\"attributes\":{\"data_source\":{\"type\":\"object\",\"name\":\"ColumnDataSource\",\"id\":\"p4456\",\"attributes\":{\"selected\":{\"type\":\"object\",\"name\":\"Selection\",\"id\":\"p4457\",\"attributes\":{\"indices\":[],\"line_indices\":[]}},\"selection_policy\":{\"type\":\"object\",\"name\":\"UnionRenderers\",\"id\":\"p4458\"},\"data\":{\"type\":\"map\",\"entries\":[[\"x\",{\"type\":\"ndarray\",\"array\":{\"type\":\"bytes\",\"data\":\"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\"},\"shape\":[288],\"dtype\":\"float64\",\"order\":\"little\"}],[\"y\",{\"type\":\"ndarray\",\"array\":{\"type\":\"bytes\",\"data\":\"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\"},\"shape\":[288],\"dtype\":\"float64\",\"order\":\"little\"}]]}}},\"view\":{\"type\":\"object\",\"name\":\"CDSView\",\"id\":\"p4463\",\"attributes\":{\"filter\":{\"type\":\"object\",\"name\":\"AllIndices\",\"id\":\"p4464\"}}},\"glyph\":{\"type\":\"object\",\"name\":\"Line\",\"id\":\"p4459\",\"attributes\":{\"x\":{\"type\":\"field\",\"field\":\"x\"},\"y\":{\"type\":\"field\",\"field\":\"y\"},\"line_color\":\"gray\",\"line_alpha\":0.5,\"line_width\":2}},\"nonselection_glyph\":{\"type\":\"object\",\"name\":\"Line\",\"id\":\"p4460\",\"attributes\":{\"x\":{\"type\":\"field\",\"field\":\"x\"},\"y\":{\"type\":\"field\",\"field\":\"y\"},\"line_color\":\"gray\",\"line_alpha\":0.1,\"line_width\":2}},\"muted_glyph\":{\"type\":\"object\",\"name\":\"Line\",\"id\":\"p4461\",\"attributes\":{\"x\":{\"type\":\"field\",\"field\":\"x\"},\"y\":{\"type\":\"field\",\"field\":\"y\"},\"line_color\":\"gray\",\"line_alpha\":0.2,\"line_width\":2}}}},{\"type\":\"object\",\"name\":\"GlyphRenderer\",\"id\":\"p4472\",\"attributes\":{\"data_source\":{\"type\":\"object\",\"name\":\"ColumnDataSource\",\"id\":\"p4466\",\"attributes\":{\"selected\":{\"type\":\"object\",\"name\":\"Selection\",\"id\":\"p4467\",\"attributes\":{\"indices\":[],\"line_indices\":[]}},\"selection_policy\":{\"type\":\"object\",\"name\":\"UnionRenderers\",\"id\":\"p4468\"},\"data\":{\"type\":\"map\",\"entries\":[[\"x\",{\"type\":\"ndarray\",\"array\":{\"type\":\"bytes\",\"data\":\"AADasAkWeUIAAL4BIBZ5QgAAHBj3FXlCAAAmIREWeUIAACIDJBZ5QgAAmEkcFnlC\"},\"shape\":[6],\"dtype\":\"float64\",\"order\":\"little\"}],[\"y\",{\"type\":\"ndarray\",\"array\":{\"type\":\"bytes\",\"data\":\"AAAAAACAY0AAAAAAAMBfQAAAAAAAAFtAAAAAAAAAW0AAAAAAAMBbQAAAAAAAAF1A\"},\"shape\":[6],\"dtype\":\"float64\",\"order\":\"little\"}]]}}},\"view\":{\"type\":\"object\",\"name\":\"CDSView\",\"id\":\"p4473\",\"attributes\":{\"filter\":{\"type\":\"object\",\"name\":\"AllIndices\",\"id\":\"p4474\"}}},\"glyph\":{\"type\":\"object\",\"name\":\"Scatter\",\"id\":\"p4469\",\"attributes\":{\"x\":{\"type\":\"field\",\"field\":\"x\"},\"y\":{\"type\":\"field\",\"field\":\"y\"},\"size\":{\"type\":\"value\",\"value\":6},\"line_color\":{\"type\":\"value\",\"value\":\"darkblue\"},\"line_alpha\":{\"type\":\"value\",\"value\":0.7},\"fill_color\":{\"type\":\"value\",\"value\":\"darkblue\"},\"fill_alpha\":{\"type\":\"value\",\"value\":0.7},\"hatch_color\":{\"type\":\"value\",\"value\":\"darkblue\"},\"hatch_alpha\":{\"type\":\"value\",\"value\":0.7}}},\"nonselection_glyph\":{\"type\":\"object\",\"name\":\"Scatter\",\"id\":\"p4470\",\"attributes\":{\"x\":{\"type\":\"field\",\"field\":\"x\"},\"y\":{\"type\":\"field\",\"field\":\"y\"},\"size\":{\"type\":\"value\",\"value\":6},\"line_color\":{\"type\":\"value\",\"value\":\"darkblue\"},\"line_alpha\":{\"type\":\"value\",\"value\":0.1},\"fill_color\":{\"type\":\"value\",\"value\":\"darkblue\"},\"fill_alpha\":{\"type\":\"value\",\"value\":0.1},\"hatch_color\":{\"type\":\"value\",\"value\":\"darkblue\"},\"hatch_alpha\":{\"type\":\"value\",\"value\":0.1}}},\"muted_glyph\":{\"type\":\"object\",\"name\":\"Scatter\",\"id\":\"p4471\",\"attributes\":{\"x\":{\"type\":\"field\",\"field\":\"x\"},\"y\":{\"type\":\"field\",\"field\":\"y\"},\"size\":{\"type\":\"value\",\"value\":6},\"line_color\":{\"type\":\"value\",\"value\":\"darkblue\"},\"line_alpha\":{\"type\":\"value\",\"value\":0.2},\"fill_color\":{\"type\":\"value\",\"value\":\"darkblue\"},\"fill_alpha\":{\"type\":\"value\",\"value\":0.2},\"hatch_color\":{\"type\":\"value\",\"value\":\"darkblue\"},\"hatch_alpha\":{\"type\":\"value\",\"value\":0.2}}}}}],\"toolbar\":{\"type\":\"object\",\"name\":\"Toolbar\",\"id\":\"p4428\",\"attributes\":{\"tools\":[{\"type\":\"object\",\"name\":\"PanTool\",\"id\":\"p4453\"},{\"type\":\"object\",\"name\":\"WheelZoomTool\",\"id\":\"p4454\",\"attributes\":{\"dimensions\":\"width\",\"renderers\":\"auto\"}},{\"type\":\"object\",\"name\":\"WheelZoomTool\",\"id\":\"p4455\",\"attributes\":{\"dimensions\":\"height\",\"renderers\":\"auto\"}}],\"active_scroll\":{\"id\":\"p4454\"}}},\"left\":[{\"type\":\"object\",\"name\":\"LinearAxis\",\"id\":\"p4448\",\"attributes\":{\"ticker\":{\"type\":\"object\",\"name\":\"BasicTicker\",\"id\":\"p4449\",\"attributes\":{\"mantissas\":[1,2,5]}},\"formatter\":{\"type\":\"object\",\"name\":\"BasicTickFormatter\",\"id\":\"p4450\"},\"axis_label\":\"Glucose\",\"major_label_policy\":{\"type\":\"object\",\"name\":\"AllLabels\",\"id\":\"p4451\"}}}],\"above\":[{\"type\":\"object\",\"name\":\"DatetimeAxis\",\"id\":\"p4431\",\"attributes\":{\"ticker\":{\"type\":\"object\",\"name\":\"DatetimeTicker\",\"id\":\"p4432\",\"attributes\":{\"num_minor_ticks\":5,\"tickers\":[{\"type\":\"object\",\"name\":\"AdaptiveTicker\",\"id\":\"p4433\",\"attributes\":{\"num_minor_ticks\":0,\"mantissas\":[1,2,5],\"max_interval\":500.0}},{\"type\":\"object\",\"name\":\"AdaptiveTicker\",\"id\":\"p4434\",\"attributes\":{\"num_minor_ticks\":0,\"base\":60,\"mantissas\":[1,2,5,10,15,20,30],\"min_interval\":1000.0,\"max_interval\":1800000.0}},{\"type\":\"object\",\"name\":\"AdaptiveTicker\",\"id\":\"p4435\",\"attributes\":{\"num_minor_ticks\":0,\"base\":24,\"mantissas\":[1,2,4,6,8,12],\"min_interval\":3600000.0,\"max_interval\":43200000.0}},{\"type\":\"object\",\"name\":\"DaysTicker\",\"id\":\"p4436\",\"attributes\":{\"days\":[1,2,3,4,5,6,7,8,9,10,11,12,13,14,15,16,17,18,19,20,21,22,23,24,25,26,27,28,29,30,31]}},{\"type\":\"object\",\"name\":\"DaysTicker\",\"id\":\"p4437\",\"attributes\":{\"days\":[1,4,7,10,13,16,19,22,25,28]}},{\"type\":\"object\",\"name\":\"DaysTicker\",\"id\":\"p4438\",\"attributes\":{\"days\":[1,8,15,22]}},{\"type\":\"object\",\"name\":\"DaysTicker\",\"id\":\"p4439\",\"attributes\":{\"days\":[1,15]}},{\"type\":\"object\",\"name\":\"MonthsTicker\",\"id\":\"p4440\",\"attributes\":{\"months\":[0,1,2,3,4,5,6,7,8,9,10,11]}},{\"type\":\"object\",\"name\":\"MonthsTicker\",\"id\":\"p4441\",\"attributes\":{\"months\":[0,2,4,6,8,10]}},{\"type\":\"object\",\"name\":\"MonthsTicker\",\"id\":\"p4442\",\"attributes\":{\"months\":[0,4,8]}},{\"type\":\"object\",\"name\":\"MonthsTicker\",\"id\":\"p4443\",\"attributes\":{\"months\":[0,6]}},{\"type\":\"object\",\"name\":\"YearsTicker\",\"id\":\"p4444\"}]}},\"formatter\":{\"type\":\"object\",\"name\":\"DatetimeTickFormatter\",\"id\":\"p4445\"},\"axis_label\":\"Time\",\"major_label_policy\":{\"type\":\"object\",\"name\":\"AllLabels\",\"id\":\"p4446\"}}}],\"center\":[{\"type\":\"object\",\"name\":\"Grid\",\"id\":\"p4447\",\"attributes\":{\"axis\":{\"id\":\"p4431\"}}},{\"type\":\"object\",\"name\":\"Grid\",\"id\":\"p4452\",\"attributes\":{\"dimension\":1,\"axis\":{\"id\":\"p4448\"}}},{\"type\":\"object\",\"name\":\"Span\",\"id\":\"p4465\",\"attributes\":{\"location\":100.69097222222223,\"line_color\":\"red\"}},{\"type\":\"object\",\"name\":\"Span\",\"id\":\"p4475\",\"attributes\":{\"location\":1723881000000.0,\"dimension\":\"height\",\"line_color\":\"lightgreen\",\"line_width\":2}},{\"type\":\"object\",\"name\":\"BoxAnnotation\",\"id\":\"p4476\",\"attributes\":{\"left\":1723881000000.0,\"right\":1723884600000.0,\"top\":{\"type\":\"object\",\"name\":\"Node\",\"id\":\"p4479\",\"attributes\":{\"target\":\"frame\",\"symbol\":\"top\"}},\"bottom\":{\"type\":\"object\",\"name\":\"Node\",\"id\":\"p4480\",\"attributes\":{\"target\":\"frame\",\"symbol\":\"bottom\"}},\"fill_color\":\"lightgreen\",\"fill_alpha\":0.3}},{\"type\":\"object\",\"name\":\"Label\",\"id\":\"p4481\",\"attributes\":{\"text\":\"325.00\",\"text_color\":\"black\",\"text_font_size\":\"10pt\",\"background_fill_color\":\"white\",\"background_fill_alpha\":0.7,\"x\":1723881000000.0,\"y\":110,\"angle\":90,\"angle_units\":\"deg\"}},{\"type\":\"object\",\"name\":\"Span\",\"id\":\"p4482\",\"attributes\":{\"location\":1723898700000.0,\"dimension\":\"height\",\"line_color\":\"lightgreen\",\"line_width\":2}},{\"type\":\"object\",\"name\":\"BoxAnnotation\",\"id\":\"p4483\",\"attributes\":{\"left\":1723898700000.0,\"right\":1723902300000.0,\"top\":{\"type\":\"object\",\"name\":\"Node\",\"id\":\"p4486\",\"attributes\":{\"target\":\"frame\",\"symbol\":\"top\"}},\"bottom\":{\"type\":\"object\",\"name\":\"Node\",\"id\":\"p4487\",\"attributes\":{\"target\":\"frame\",\"symbol\":\"bottom\"}},\"fill_color\":\"lightgreen\",\"fill_alpha\":0.3}},{\"type\":\"object\",\"name\":\"Label\",\"id\":\"p4488\",\"attributes\":{\"text\":\"802.00\",\"text_color\":\"black\",\"text_font_size\":\"10pt\",\"background_fill_color\":\"white\",\"background_fill_alpha\":0.7,\"x\":1723898700000.0,\"y\":110,\"angle\":90,\"angle_units\":\"deg\"}},{\"type\":\"object\",\"name\":\"Span\",\"id\":\"p4489\",\"attributes\":{\"location\":1723921200000.0,\"dimension\":\"height\",\"line_color\":\"lightgreen\",\"line_width\":2}},{\"type\":\"object\",\"name\":\"BoxAnnotation\",\"id\":\"p4490\",\"attributes\":{\"left\":1723921200000.0,\"right\":1723924800000.0,\"top\":{\"type\":\"object\",\"name\":\"Node\",\"id\":\"p4493\",\"attributes\":{\"target\":\"frame\",\"symbol\":\"top\"}},\"bottom\":{\"type\":\"object\",\"name\":\"Node\",\"id\":\"p4494\",\"attributes\":{\"target\":\"frame\",\"symbol\":\"bottom\"}},\"fill_color\":\"lightgreen\",\"fill_alpha\":0.3}},{\"type\":\"object\",\"name\":\"Label\",\"id\":\"p4495\",\"attributes\":{\"text\":\"756.00\",\"text_color\":\"black\",\"text_font_size\":\"10pt\",\"background_fill_color\":\"white\",\"background_fill_alpha\":0.7,\"x\":1723921200000.0,\"y\":110,\"angle\":90,\"angle_units\":\"deg\"}}]}}]}};\n",
              "  const render_items = [{\"docid\":\"660422fc-6d8c-401c-99e9-426c77441b60\",\"roots\":{\"p4420\":\"d9ddb8d7-cf6e-4560-bce4-cef8a9cf35e2\"},\"root_ids\":[\"p4420\"]}];\n",
              "  void root.Bokeh.embed.embed_items_notebook(docs_json, render_items);\n",
              "  }\n",
              "  if (root.Bokeh !== undefined) {\n",
              "    embed_document(root);\n",
              "  } else {\n",
              "    let attempts = 0;\n",
              "    const timer = setInterval(function(root) {\n",
              "      if (root.Bokeh !== undefined) {\n",
              "        clearInterval(timer);\n",
              "        embed_document(root);\n",
              "      } else {\n",
              "        attempts++;\n",
              "        if (attempts > 100) {\n",
              "          clearInterval(timer);\n",
              "          console.log(\"Bokeh: ERROR: Unable to run BokehJS code because BokehJS library is missing\");\n",
              "        }\n",
              "      }\n",
              "    }, 10, root)\n",
              "  }\n",
              "})(window);"
            ],
            "application/vnd.bokehjs_exec.v0+json": ""
          },
          "metadata": {
            "application/vnd.bokehjs_exec.v0+json": {
              "id": "p4420"
            }
          }
        },
        {
          "output_type": "stream",
          "name": "stdout",
          "text": [
            "\n",
            "\n",
            "\n",
            "There are 44 days: {datetime.date(2022, 12, 13), datetime.date(2022, 12, 17), datetime.date(2024, 6, 19), datetime.date(2024, 6, 21), datetime.date(2023, 1, 18), datetime.date(2022, 4, 19), datetime.date(2024, 6, 29), datetime.date(2024, 6, 20), datetime.date(2024, 8, 17), datetime.date(2022, 4, 18), datetime.date(2024, 6, 25), datetime.date(2024, 7, 17), datetime.date(2024, 7, 22), datetime.date(2022, 12, 12), datetime.date(2024, 6, 22), datetime.date(2024, 8, 12), datetime.date(2024, 7, 18), datetime.date(2023, 1, 17), datetime.date(2024, 8, 5), datetime.date(2022, 4, 16), datetime.date(2024, 8, 6), datetime.date(2024, 8, 13), datetime.date(2024, 8, 2), datetime.date(2022, 4, 20), datetime.date(2022, 7, 14), datetime.date(2024, 8, 4), datetime.date(2024, 8, 7), datetime.date(2022, 12, 14), datetime.date(2022, 12, 15), datetime.date(2024, 8, 8), datetime.date(2024, 6, 18), datetime.date(2024, 7, 19), datetime.date(2024, 7, 21), datetime.date(2024, 6, 24), datetime.date(2024, 7, 16), datetime.date(2024, 8, 9), datetime.date(2022, 12, 16), datetime.date(2024, 8, 11), datetime.date(2022, 7, 13), datetime.date(2024, 8, 16), datetime.date(2024, 7, 23), datetime.date(2022, 12, 18), datetime.date(2022, 4, 17), datetime.date(2023, 1, 16)}\n"
          ]
        }
      ]
    },
    {
      "cell_type": "markdown",
      "source": [
        "## Save meals and glucose data"
      ],
      "metadata": {
        "id": "e-XmA5UEtdlM"
      }
    },
    {
      "cell_type": "code",
      "source": [
        "out_macros_cgm_stats = os.path.join(_PARSED_ROOT_, 'daily_macros_cgm_stats.csv')\n",
        "print(f\"Saving daily CGM stats data in path: {out_macros_cgm_stats}\")\n",
        "cgm_and_macros['Date'] = cgm_and_macros.index\n",
        "with open(out_macros_cgm_stats, 'w') as f_out:\n",
        "  cgm_and_macros.to_csv(f_out, index=False, header=True)\n",
        "\n",
        "out_glucose_path = os.path.join(_PARSED_ROOT_, 'glucose.csv')\n",
        "print(f\"Saving parsed CGM data in path: {out_glucose_path}\")\n",
        "with open(out_glucose_path, 'w') as f_out:\n",
        "  glucose_data.to_csv(f_out, index=False, header=True)\n",
        "\n",
        "out_meals_path = os.path.join(_PARSED_ROOT_, 'meals.csv')\n",
        "print(f\"Saving parsed meals in path: {out_meals_path}\")\n",
        "with open(out_meals_path, 'w') as f_out:\n",
        "  meals.to_csv(f_out, index=False, header=True)\n",
        "\n",
        "out_daily_macros_path = os.path.join(_PARSED_ROOT_, 'daily_macros.csv')\n",
        "print(f\"Saving daily meals in path: {out_daily_macros_path}\")\n",
        "with open(out_daily_macros_path, 'w') as f_out:\n",
        "  daily_macros.to_csv(f_out, index=True, header=True)\n"
      ],
      "metadata": {
        "colab": {
          "base_uri": "https://localhost:8080/"
        },
        "id": "NuZDdnIytcm8",
        "outputId": "10ce85f5-9798-4f58-8d46-e443a959c2ff"
      },
      "execution_count": 24,
      "outputs": [
        {
          "output_type": "stream",
          "name": "stdout",
          "text": [
            "Saving daily CGM stats data in path: /content/drive/My Drive/Health Data/Parsed/daily_macros_cgm_stats.csv\n",
            "Saving parsed CGM data in path: /content/drive/My Drive/Health Data/Parsed/glucose.csv\n",
            "Saving parsed meals in path: /content/drive/My Drive/Health Data/Parsed/meals.csv\n",
            "Saving daily meals in path: /content/drive/My Drive/Health Data/Parsed/daily_macros.csv\n"
          ]
        }
      ]
    },
    {
      "cell_type": "markdown",
      "source": [
        "# Parse Apple data"
      ],
      "metadata": {
        "id": "vZ8ieSLKI-yN"
      }
    },
    {
      "cell_type": "code",
      "source": [
        "latest_apple_path = find_latest_path(_APPLE_ROOT_)\n",
        "if latest_apple_path is None:\n",
        "  print(\"No Apple data found\")"
      ],
      "metadata": {
        "id": "QBAJFDMPLmRe"
      },
      "execution_count": 25,
      "outputs": []
    },
    {
      "cell_type": "markdown",
      "source": [
        "## Generic HKQuantity values in export.html"
      ],
      "metadata": {
        "id": "thwrpaH2MCXx"
      }
    },
    {
      "cell_type": "code",
      "source": [
        "apple_export_path = os.path.join(latest_apple_path, 'export.xml')\n",
        "if not os.path.exists(apple_export_path):\n",
        "  raise Exception(f\"No export.xml file found in the Apple folder {latest_apple_path}\")\n",
        "\n",
        "parsed_apple_path = os.path.join(_PARSED_ROOT_, 'apple_export.csv')\n",
        "print(f\"Output path: {parsed_apple_path}\")"
      ],
      "metadata": {
        "colab": {
          "base_uri": "https://localhost:8080/"
        },
        "id": "kkBfYuxMMr6K",
        "outputId": "52ccd7cd-27b6-4224-db42-6c82a8abde37"
      },
      "execution_count": 26,
      "outputs": [
        {
          "output_type": "stream",
          "name": "stdout",
          "text": [
            "Output path: /content/drive/My Drive/Health Data/Parsed/apple_export.csv\n"
          ]
        }
      ]
    },
    {
      "cell_type": "code",
      "source": [
        "if _REPROCESS_:\n",
        "  with open(parsed_apple_path, 'w') as f_out:\n",
        "    writer = csv.writer(f_out)\n",
        "    columns = [\"startDate\", \"endDate\", \"type\", \"unit\", \"value\", \"source\"]\n",
        "    writer.writerow(columns)\n",
        "\n",
        "    with open(apple_export_path, 'r') as f_in:\n",
        "      # i = 0\n",
        "      for _, elem in iterparse(f_in):\n",
        "        # if i>1000:\n",
        "        #   break\n",
        "        # i += 1\n",
        "        if elem.tag == 'Record':\n",
        "          row = elem.attrib\n",
        "          try:\n",
        "            # print(f'writing: {row}')\n",
        "            writer.writerow(\n",
        "                [row.get(u'startDate', ''),\n",
        "                row.get(u'endDate', ''),\n",
        "                row.get(u'type', ''),\n",
        "                row.get(u'unit', ''),\n",
        "                row.get(u'value', ''),\n",
        "                row.get(u'sourceName', '')]\n",
        "            )\n",
        "          except KeyError as e:\n",
        "            print(f\"KeyError: {e}\")"
      ],
      "metadata": {
        "id": "_objKqWrNR6R"
      },
      "execution_count": 27,
      "outputs": []
    },
    {
      "cell_type": "code",
      "source": [
        "parsed_apple = pd.read_csv(parsed_apple_path)\n",
        "parsed_apple.drop_duplicates(inplace=True)"
      ],
      "metadata": {
        "colab": {
          "base_uri": "https://localhost:8080/"
        },
        "id": "DOKCfOJuWmK_",
        "outputId": "a4b552f3-0a7a-4fd1-ef7e-a7b6e14370fb"
      },
      "execution_count": 28,
      "outputs": [
        {
          "output_type": "stream",
          "name": "stderr",
          "text": [
            "<ipython-input-28-63814627676e>:1: DtypeWarning: Columns (4) have mixed types. Specify dtype option on import or set low_memory=False.\n",
            "  parsed_apple = pd.read_csv(parsed_apple_path)\n"
          ]
        }
      ]
    },
    {
      "cell_type": "markdown",
      "source": [
        "## Check types of data"
      ],
      "metadata": {
        "id": "MY6MTgZiWa6J"
      }
    },
    {
      "cell_type": "code",
      "source": [
        "parsed_apple['type'].unique()"
      ],
      "metadata": {
        "colab": {
          "base_uri": "https://localhost:8080/"
        },
        "id": "Wx-QP40HWwqo",
        "outputId": "d59ba69c-68a4-4fc0-a4a1-58e12095e678"
      },
      "execution_count": 29,
      "outputs": [
        {
          "output_type": "execute_result",
          "data": {
            "text/plain": [
              "array(['HKQuantityTypeIdentifierPeripheralPerfusionIndex',\n",
              "       'HKQuantityTypeIdentifierDietaryWater',\n",
              "       'HKQuantityTypeIdentifierBodyMassIndex',\n",
              "       'HKQuantityTypeIdentifierHeight',\n",
              "       'HKQuantityTypeIdentifierBodyMass',\n",
              "       'HKQuantityTypeIdentifierHeartRate',\n",
              "       'HKQuantityTypeIdentifierOxygenSaturation',\n",
              "       'HKQuantityTypeIdentifierBloodPressureSystolic',\n",
              "       'HKQuantityTypeIdentifierBloodPressureDiastolic',\n",
              "       'HKQuantityTypeIdentifierRespiratoryRate',\n",
              "       'HKQuantityTypeIdentifierBodyTemperature',\n",
              "       'HKQuantityTypeIdentifierBodyFatPercentage',\n",
              "       'HKQuantityTypeIdentifierLeanBodyMass',\n",
              "       'HKQuantityTypeIdentifierStepCount',\n",
              "       'HKQuantityTypeIdentifierDistanceWalkingRunning',\n",
              "       'HKQuantityTypeIdentifierBasalEnergyBurned',\n",
              "       'HKQuantityTypeIdentifierActiveEnergyBurned',\n",
              "       'HKQuantityTypeIdentifierFlightsClimbed',\n",
              "       'HKQuantityTypeIdentifierDietaryFatTotal',\n",
              "       'HKQuantityTypeIdentifierDietaryFatPolyunsaturated',\n",
              "       'HKQuantityTypeIdentifierDietaryFatMonounsaturated',\n",
              "       'HKQuantityTypeIdentifierDietaryFatSaturated',\n",
              "       'HKQuantityTypeIdentifierDietaryCholesterol',\n",
              "       'HKQuantityTypeIdentifierDietarySodium',\n",
              "       'HKQuantityTypeIdentifierDietaryCarbohydrates',\n",
              "       'HKQuantityTypeIdentifierDietaryFiber',\n",
              "       'HKQuantityTypeIdentifierDietarySugar',\n",
              "       'HKQuantityTypeIdentifierDietaryEnergyConsumed',\n",
              "       'HKQuantityTypeIdentifierDietaryProtein',\n",
              "       'HKQuantityTypeIdentifierDietaryVitaminA',\n",
              "       'HKQuantityTypeIdentifierDietaryVitaminB6',\n",
              "       'HKQuantityTypeIdentifierDietaryVitaminB12',\n",
              "       'HKQuantityTypeIdentifierDietaryVitaminC',\n",
              "       'HKQuantityTypeIdentifierDietaryCalcium',\n",
              "       'HKQuantityTypeIdentifierDietaryIron',\n",
              "       'HKQuantityTypeIdentifierDietaryThiamin',\n",
              "       'HKQuantityTypeIdentifierDietaryRiboflavin',\n",
              "       'HKQuantityTypeIdentifierDietaryNiacin',\n",
              "       'HKQuantityTypeIdentifierDietaryFolate',\n",
              "       'HKQuantityTypeIdentifierDietaryPhosphorus',\n",
              "       'HKQuantityTypeIdentifierDietaryMagnesium',\n",
              "       'HKQuantityTypeIdentifierDietaryZinc',\n",
              "       'HKQuantityTypeIdentifierDietaryPotassium',\n",
              "       'HKQuantityTypeIdentifierAppleExerciseTime',\n",
              "       'HKQuantityTypeIdentifierDietaryCaffeine',\n",
              "       'HKQuantityTypeIdentifierDistanceSwimming',\n",
              "       'HKQuantityTypeIdentifierSwimmingStrokeCount',\n",
              "       'HKQuantityTypeIdentifierWaistCircumference',\n",
              "       'HKQuantityTypeIdentifierRestingHeartRate',\n",
              "       'HKQuantityTypeIdentifierVO2Max',\n",
              "       'HKQuantityTypeIdentifierWalkingHeartRateAverage',\n",
              "       'HKQuantityTypeIdentifierEnvironmentalAudioExposure',\n",
              "       'HKQuantityTypeIdentifierHeadphoneAudioExposure',\n",
              "       'HKQuantityTypeIdentifierWalkingDoubleSupportPercentage',\n",
              "       'HKQuantityTypeIdentifierSixMinuteWalkTestDistance',\n",
              "       'HKQuantityTypeIdentifierAppleStandTime',\n",
              "       'HKQuantityTypeIdentifierWalkingSpeed',\n",
              "       'HKQuantityTypeIdentifierWalkingStepLength',\n",
              "       'HKQuantityTypeIdentifierWalkingAsymmetryPercentage',\n",
              "       'HKQuantityTypeIdentifierStairAscentSpeed',\n",
              "       'HKQuantityTypeIdentifierStairDescentSpeed',\n",
              "       'HKDataTypeSleepDurationGoal',\n",
              "       'HKQuantityTypeIdentifierAtrialFibrillationBurden',\n",
              "       'HKQuantityTypeIdentifierAppleWalkingSteadiness',\n",
              "       'HKQuantityTypeIdentifierAppleSleepingWristTemperature',\n",
              "       'HKQuantityTypeIdentifierRunningStrideLength',\n",
              "       'HKQuantityTypeIdentifierRunningVerticalOscillation',\n",
              "       'HKQuantityTypeIdentifierRunningGroundContactTime',\n",
              "       'HKQuantityTypeIdentifierHeartRateRecoveryOneMinute',\n",
              "       'HKQuantityTypeIdentifierRunningPower',\n",
              "       'HKQuantityTypeIdentifierEnvironmentalSoundReduction',\n",
              "       'HKQuantityTypeIdentifierRunningSpeed',\n",
              "       'HKQuantityTypeIdentifierTimeInDaylight',\n",
              "       'HKQuantityTypeIdentifierPhysicalEffort',\n",
              "       'HKCategoryTypeIdentifierSleepAnalysis',\n",
              "       'HKCategoryTypeIdentifierAppleStandHour',\n",
              "       'HKCategoryTypeIdentifierMindfulSession',\n",
              "       'HKCategoryTypeIdentifierLowHeartRateEvent',\n",
              "       'HKCategoryTypeIdentifierAudioExposureEvent',\n",
              "       'HKCategoryTypeIdentifierHandwashingEvent',\n",
              "       'HKQuantityTypeIdentifierHeartRateVariabilitySDNN'], dtype=object)"
            ]
          },
          "metadata": {},
          "execution_count": 29
        }
      ]
    },
    {
      "cell_type": "markdown",
      "source": [
        "## Apple Clinical Records"
      ],
      "metadata": {
        "id": "YyH0rN2FPRH4"
      }
    },
    {
      "cell_type": "code",
      "source": [
        "apple_ehr_path = os.path.join(latest_apple_path, 'clinical-records')\n",
        "if not os.path.exists(apple_ehr_path):\n",
        "  raise Exception(\"No clinical records found\")\n",
        "\n",
        "parsed_apple_blood_labs_path = os.path.join(_PARSED_ROOT_, 'blood_labs_export.csv')\n",
        "print(f\"Output path for blood labs: {parsed_apple_blood_labs_path}\")\n",
        "\n",
        "parsed_apple_ehr_path = os.path.join(_PARSED_ROOT_, 'ehr_export.csv')\n",
        "print(f\"Output path for EHR: {parsed_apple_ehr_path}\")"
      ],
      "metadata": {
        "id": "_fAB625S3jGY",
        "colab": {
          "base_uri": "https://localhost:8080/"
        },
        "outputId": "b8cd2964-c809-47ea-b4e6-b49d038de0a8"
      },
      "execution_count": 40,
      "outputs": [
        {
          "output_type": "stream",
          "name": "stdout",
          "text": [
            "Output path for blood labs: /content/drive/My Drive/Health Data/Parsed/blood_labs_export.csv\n",
            "Output path for EHR: /content/drive/My Drive/Health Data/Parsed/ehr_export.csv\n"
          ]
        }
      ]
    },
    {
      "cell_type": "code",
      "source": [
        "def process_lab_observation(data: dict) -> dict:\n",
        "  obs_date = ''\n",
        "  obs_name = ''\n",
        "  obs_value = ''\n",
        "  obs_unit = ''\n",
        "  low_ref = ''\n",
        "  high_ref = ''\n",
        "  code = ''\n",
        "\n",
        "  obs_date = data.get('effectiveDateTime', '')\n",
        "\n",
        "  # check if it's a lab or a vital\n",
        "  category = data.get('category', {}).get('coding', [])\n",
        "  if len(category) > 0:\n",
        "    category = category[0].get('code')\n",
        "\n",
        "  if category == 'laboratory':\n",
        "    # get rid of any \"valueString\" observations\n",
        "    if 'valueString' in data:\n",
        "      return {}\n",
        "    # get the name and code\n",
        "    obs_name = data.get('code', {}).get('text', '')\n",
        "    obs_code = data.get('code', {}).get('coding', [])\n",
        "    if len(obs_code) > 0:\n",
        "      code = obs_code[0].get('code', '')\n",
        "      if obs_name == '':\n",
        "        obs_name = obs_code[0].get('display', '')\n",
        "\n",
        "    # get the value, unit and reference range\n",
        "    obs_value = data.get('valueQuantity', {}).get('value', '')\n",
        "    if obs_value == '':\n",
        "      return {}\n",
        "    obs_unit = data.get('valueQuantity', {}).get('unit', '')\n",
        "\n",
        "    reference = data.get('referenceRange', [])\n",
        "    if len(reference) > 0:\n",
        "      low_ref = reference[0].get('low', {}).get('value', '')\n",
        "      high_ref = reference[0].get('high', {}).get('value', '')\n",
        "  elif category == 'vital-signs':\n",
        "    # skip vital-signs\n",
        "    return {}\n",
        "  else:\n",
        "    print(f\"not processing: {data} from {file_path}\")\n",
        "    return {}\n",
        "\n",
        "  return {'date': obs_date,\n",
        "          'lab': obs_name,\n",
        "          'value': obs_value,\n",
        "          'unit': obs_unit,\n",
        "          'low_ref': low_ref,\n",
        "          'high_ref': high_ref,\n",
        "          'code': code}"
      ],
      "metadata": {
        "id": "CEV3giFO_o4e"
      },
      "execution_count": 31,
      "outputs": []
    },
    {
      "cell_type": "code",
      "source": [
        "df_labs = pd.DataFrame(columns=['date',\n",
        "                                'lab',\n",
        "                                'value',\n",
        "                                'unit',\n",
        "                                'low_ref',\n",
        "                                'high_ref',\n",
        "                                'code'])\n",
        "df_allergies = pd.DataFrame(columns=['date',\n",
        "                                     'substance',\n",
        "                                     'code'])\n",
        "df_medications = pd.DataFrame(columns=['date',\n",
        "                                       'medication',\n",
        "                                       'code'])\n",
        "df_immunizations = pd.DataFrame(columns=['date',\n",
        "                                        'immunization',\n",
        "                                        'code'])\n",
        "df_conditions = pd.DataFrame(columns=['date',\n",
        "                                      'condition',\n",
        "                                      'code'])\n",
        "\n",
        "n_observations = 0\n",
        "n_diagnostic_reports = 0\n",
        "n_procedure = 0\n",
        "for file_path in os.listdir(apple_ehr_path):\n",
        "  if not file_path.endswith('.json'):\n",
        "    continue\n",
        "  with open(os.path.join(apple_ehr_path, file_path),'r') as f_in:\n",
        "    data = json.load(f_in)\n",
        "\n",
        "  if data.get('resourceType') == 'MedicationStatement':\n",
        "    med_date = ''\n",
        "    medication = ''\n",
        "    code = ''\n",
        "    if 'contained' in data:\n",
        "      for item in data.get('contained'):\n",
        "        if not type(item) == dict:\n",
        "          raise Exception(f\"Unrecognized format for MedicationStatement['contained']: {data.get('contained')}\")\n",
        "        medication = item['code']['text']\n",
        "        if 'coding' in item['code']:\n",
        "          code = item['code']['coding'][0]['code']\n",
        "\n",
        "    if 'medicationCodeableConcept' in data:\n",
        "      medication = data['medicationCodeableConcept']['text']\n",
        "      code = data['medicationCodeableConcept']['coding'][0]['code']\n",
        "\n",
        "    if 'effectivePeriod' in data:\n",
        "      if 'start' in data['effectivePeriod']:\n",
        "        med_date = data['effectivePeriod']['start']\n",
        "      if 'end' in data['effectivePeriod']:\n",
        "        med_date = data['effectivePeriod']['end']\n",
        "\n",
        "    df_medications = pd.concat([df_medications,\n",
        "                                pd.DataFrame({'date': med_date,\n",
        "                                              'medication': medication,\n",
        "                                              'code': code},\n",
        "                                            index=[0])]).reset_index(drop=True)\n",
        "\n",
        "  elif data.get('resourceType') == 'Immunization':\n",
        "    vac_date = ''\n",
        "    immunization = ''\n",
        "    code = ''\n",
        "    if 'date' in data:\n",
        "      vac_date = data['date']\n",
        "    if 'vaccineCode' in data:\n",
        "      immunization = data['vaccineCode']['coding'][0]['display']\n",
        "      code = data['vaccineCode']['coding'][0]['code']\n",
        "    df_immunizations = pd.concat([df_immunizations,\n",
        "                                  pd.DataFrame({'date': vac_date,\n",
        "                                                'immunization': immunization,\n",
        "                                                'code': code},\n",
        "                                               index=[0])]).reset_index(drop=True)\n",
        "\n",
        "  elif data.get('resourceType') == 'MedicationOrder':\n",
        "    med_date = ''\n",
        "    medication = ''\n",
        "    code = ''\n",
        "    if 'dateWritten' in data:\n",
        "      med_date = data.get('dateWritten')\n",
        "    if 'contained' in data:\n",
        "      for item in data.get('contained'):\n",
        "        if not type(item) == dict:\n",
        "          raise Exception(f\"Unrecognized format for medicationOrder['contained']: {data.get('contained')}\")\n",
        "        medication = item['code']['text']\n",
        "        code = item['code']['coding'][0]['code']\n",
        "    df_medications = pd.concat([df_medications,\n",
        "                                pd.DataFrame({'date': med_date,\n",
        "                                              'medication': medication,\n",
        "                                              'code': code},\n",
        "                                              index=[0])]).reset_index(drop=True)\n",
        "\n",
        "  elif data.get('resourceType') == 'AllergyIntolerance':\n",
        "    allergy_date = ''\n",
        "    substance = ''\n",
        "    code = ''\n",
        "    if 'recordedDate' in data:\n",
        "      allergy_date = data['recordedDate']\n",
        "    if 'substance' in data:\n",
        "      substance = data['substance']['text']\n",
        "      if 'coding' in data['substance']:\n",
        "        code = data['substance']['coding'][0]['code']\n",
        "    df_allergies = pd.concat([df_allergies,\n",
        "                              pd.DataFrame({'date': allergy_date,\n",
        "                                            'substance': substance,\n",
        "                                            'code': code},\n",
        "                                           index=[0])]).reset_index(drop=True)\n",
        "\n",
        "  elif data.get('resourceType') == 'Condition':\n",
        "    cond_date = ''\n",
        "    condition = ''\n",
        "    code = ''\n",
        "    if 'onsetDateTime' in data:\n",
        "      cond_date = data['onsetDateTime']\n",
        "    if 'code' in data:\n",
        "      if 'coding' in data['code']:\n",
        "        condition = data['code']['coding'][0]['display']\n",
        "        code = data['code']['coding'][0]['code']\n",
        "      else:\n",
        "        condition = data['code']['text']\n",
        "    df_conditions = pd.concat([df_conditions,\n",
        "                               pd.DataFrame({'date': cond_date,\n",
        "                                             'condition': condition,\n",
        "                                             'code': code},\n",
        "                                            index=[0])]).reset_index(drop=True)\n",
        "\n",
        "  elif data.get('resourceType') == 'Patient':\n",
        "    pass\n",
        "  elif data.get('resourceType') == 'Procedure':\n",
        "    pass\n",
        "\n",
        "  elif data.get('resourceType') == 'Observation':\n",
        "    lab = process_lab_observation(data)\n",
        "    if len(lab) > 0:\n",
        "      df_labs = pd.concat([df_labs,\n",
        "                           pd.DataFrame(lab, index=[0])]).reset_index(drop=True)\n",
        "\n",
        "  elif data.get('resourceType') == 'DiagnosticReport':\n",
        "    report = data.get('contained', [])\n",
        "    for item in report:\n",
        "      lab = process_lab_observation(item)\n",
        "      if len(lab) > 0:\n",
        "        df_labs = pd.concat([df_labs,\n",
        "                             pd.DataFrame(lab, index=[0])]).reset_index(drop=True)\n",
        "  else:\n",
        "    print(f\"not processing: {file_path} with {data.get('resourceType')}\")\n",
        "\n",
        "df_labs['date'] = pd.to_datetime(df_labs['date'], format='mixed')\n",
        "df_labs['lab'] = df_labs['lab'].str.lower()\n",
        "df_labs = df_labs.drop_duplicates(subset=['date', 'lab', 'value'])\n",
        "df_labs = df_labs.sort_values(by=['date', 'lab']).reset_index(drop=True)"
      ],
      "metadata": {
        "id": "9-AZiE2oP6pk",
        "colab": {
          "base_uri": "https://localhost:8080/"
        },
        "outputId": "74ad8898-542a-4a71-e937-a1a1bb217c3e"
      },
      "execution_count": 34,
      "outputs": [
        {
          "output_type": "stream",
          "name": "stderr",
          "text": [
            "<ipython-input-34-78b0a5d858c0>:133: FutureWarning: The behavior of DataFrame concatenation with empty or all-NA entries is deprecated. In a future version, this will no longer exclude empty or all-NA columns when determining the result dtypes. To retain the old behavior, exclude the relevant entries before the concat operation.\n",
            "  df_labs = pd.concat([df_labs,\n",
            "<ipython-input-34-78b0a5d858c0>:146: FutureWarning: In a future version of pandas, parsing datetimes with mixed time zones will raise an error unless `utc=True`. Please specify `utc=True` to opt in to the new behaviour and silence this warning. To create a `Series` with mixed offsets and `object` dtype, please use `apply` and `datetime.datetime.strptime`\n",
            "  df_labs['date'] = pd.to_datetime(df_labs['date'], format='mixed')\n"
          ]
        }
      ]
    },
    {
      "cell_type": "code",
      "source": [
        "# sandardize lab names\n",
        "lab_name_patterns = [\n",
        "    (r'^(basophils|baso|% basophils)(?!.*abs.*)', 'basophils'),\n",
        "    (r'^(eosinophils|eos|% eosinophils)(?!.*abs.*)', 'eosinophils'),\n",
        "    (r'^(lymphocytes|lymphs|% lymphocytes)(?!.*abs.*)', 'lymphocytes'),\n",
        "    (r'^(monocytes|% monocytes)(?!.*abs.*)', 'monocytes'),\n",
        "    (r'^(neutrophils|%.*neutroph.*)(?!.*abs.*)', 'neutrophils'),\n",
        "    (r'^(immature granulocytes|%.*immat.*)(?!.*abs.*)', 'immature granulocytes'),\n",
        "    (r'(^(abs.*)+baso.*|^baso.*abs.*)', 'absolute basophils'),\n",
        "    (r'(^(abs.*)+eos.*|^eos.*abs.*)', 'absolute eosinophils'),\n",
        "    (r'(^(abs.*)+neutro.*|^neutro.*abs.*)', 'absolute neutrophils'),\n",
        "    (r'(^(abs.*)+monocy.*|^monocy.*abs.*)', 'absolute monocytes'),\n",
        "    (r'(^(abs.*)+lymph.*|^lymph.*abs.*)', 'absolute lymphocites'),\n",
        "    (r'(^(abs.*)+immat.*|^immat.*abs.*)', 'absolute immature granulocytes'),\n",
        "    (r'^albumin[^/]', 'albumin'),\n",
        "    (r'^a/g.*', 'albumin/globulin ratio'),\n",
        "    (r'^alkaline phosphatase.*', 'alkaline phosphatase'),\n",
        "    (r'^alt.*', 'alt'),\n",
        "    (r'^ast.*', 'ast'),\n",
        "    (r'.*bilirubin.*', 'bilirubin'),\n",
        "    (r'.*urea nit.*', 'bun'),\n",
        "    (r'^calcium.*', 'calcium'),\n",
        "    (r'.*dioxide.*', 'carbon dioxide'),\n",
        "    (r'^chloride.*', 'chloride'),\n",
        "    (r'^creatinine.*', 'creatinine'),\n",
        "    (r'^cholesterol.*', 'cholesterol'),\n",
        "    (r'.*cortisol.*', 'cortisol'),\n",
        "    (r'.*creatine kin.*', 'creatine kinase'),\n",
        "    (r'^globulin.*', 'globulin'),\n",
        "    (r'^glucose.*', 'glucose'),\n",
        "    (r'^hdl.*(c\\Z|chol.*)', 'hdl'),\n",
        "    (r'^ldl.*(c\\Z|chol.*)', 'ldl'),\n",
        "    (r'^hematocrit.*', 'hematocrit'),\n",
        "    (r'^hemoglobin,.*', 'hemoglobin'),\n",
        "    (r'^hemoglobin a.*', 'hba1c'),\n",
        "    (r'^magnesium.*', 'magnesium'),\n",
        "    (r'^mch.*', 'mch'),\n",
        "    (r'^mchc.*', 'mchc'),\n",
        "    (r'^mcv.*', 'mcv'),\n",
        "    (r'^mpv.*', 'mpv'),\n",
        "    (r'^rdw.*', 'rdw'),\n",
        "    (r'^nhdlc', 'non hdl cholesterol'),\n",
        "    (r'.*platelet.*', 'platelets'),\n",
        "    (r'^potassium.*', 'potassium'),\n",
        "    (r'.*protein.*tot.*', 'protein, total'),\n",
        "    (r'^rbc.*', 'red blood cell count'),\n",
        "    (r'^sodium.*', 'sodium'),\n",
        "    (r'^testosterone.*', 'testosterone'),\n",
        "    (r'^triglyc.*', 'triglycerides'),\n",
        "    (r'^vitamin d.*', 'vitamin d'),\n",
        "    (r'^wbc.*', 'white blood cell count')\n",
        "]\n",
        "\n",
        "unit_patterns = [\n",
        "    (r'^notyet', '')\n",
        "]\n",
        "\n",
        "def standardize_strings(input_str: str, patterns: list) -> str:\n",
        "  for pattern, replacement in patterns:\n",
        "    if re.search(pattern, input_str, re.IGNORECASE):\n",
        "      return replacement\n",
        "  return input_str\n",
        "\n",
        "def standardize_names(lab_name:str) -> str:\n",
        "  return standardize_strings(lab_name, lab_name_patterns)\n",
        "\n",
        "def standardize_units(unit:str) -> str:\n",
        "  return standardize_strings(unit, unit_patterns)\n",
        "\n",
        "df = df_labs.copy().reset_index(drop=True)\n",
        "df['lab'] = df['lab'].apply(standardize_names)\n",
        "df['unit'] = df['unit'].apply(standardize_units)\n",
        "df = df.sort_values(by=['lab']).reset_index(drop=True)\n",
        "\n",
        "with open(parsed_apple_blood_labs_path, 'w') as f_out:\n",
        "  df_labs.to_csv(f_out, index=False, header=True)"
      ],
      "metadata": {
        "id": "X2YWxCj0AzdZ"
      },
      "execution_count": 36,
      "outputs": []
    },
    {
      "cell_type": "code",
      "source": [
        "df_allergies['type'] = 'allergy'\n",
        "df_allergies = df_allergies.rename(columns={'substance':'description'})\n",
        "df_allergies['date'] = pd.to_datetime(df_allergies['date'], format='mixed').dt.tz_localize(None)\n",
        "df_allergies['date'] = df_allergies['date'].dt.date\n",
        "\n",
        "df_medications['type'] = 'medication'\n",
        "df_medications = df_medications.rename(columns={'medication':'description'})\n",
        "# df_medications['date'] = pd.to_datetime(df_medications['date'], format='mixed').dt.tz_localize(None)\n",
        "# df_medications['date'] = df_medications['date'].dt.date\n",
        "\n",
        "df_immunizations['type'] = 'immunization'\n",
        "df_immunizations = df_immunizations.rename(columns={'immunization':'description'})\n",
        "df_immunizations['date'] = pd.to_datetime(df_immunizations['date'], format='mixed').dt.tz_localize(None)\n",
        "df_immunizations['date'] = df_immunizations['date'].dt.date\n",
        "\n",
        "df_conditions['type'] = 'condition'\n",
        "df_conditions = df_conditions.rename(columns={'condition':'description'})\n",
        "df_conditions['date'] = pd.to_datetime(df_conditions['date'], format='mixed').dt.tz_localize(None)\n",
        "df_conditions['date'] = df_conditions['date'].dt.date\n",
        "\n",
        "df_ehr = pd.concat([df_allergies,\n",
        "                    df_medications,\n",
        "                    df_immunizations,\n",
        "                    df_conditions],\n",
        "                    ignore_index=True)\n",
        "\n",
        "with open(parsed_apple_ehr_path, 'w') as f_out:\n",
        "  df_ehr.to_csv(f_out, index=False, header=True)"
      ],
      "metadata": {
        "id": "4tNnr2DzyBmb"
      },
      "execution_count": 55,
      "outputs": []
    },
    {
      "cell_type": "code",
      "source": [
        "analyte_name = 'hdl' # @param ['albumin', 'red blood cell count', 'glucose', 'ldl', 'hdl', 'white blood cell count', 'platelets', 'triglycerides', 'vitamin b12', 'hba1c', 'vitamin d', 'cholesterol', 'testosterone']\n",
        "analyte = df[df['lab'] == analyte_name]\n",
        "analyte = analyte.sort_values(by=['date'])\n",
        "analyte['low_ref'] = pd.to_numeric(analyte['low_ref'], errors='coerce')\n",
        "analyte['low_ref'] = analyte['low_ref'].ffill()\n",
        "analyte['high_ref'] = pd.to_numeric(analyte['high_ref'], errors='coerce')\n",
        "analyte['high_ref'] = analyte['high_ref'].ffill()\n",
        "plt.scatter(analyte['date'], analyte['value'])\n",
        "plt.plot(analyte['date'], analyte['low_ref'], '-.', color='green')\n",
        "plt.plot(analyte['date'], analyte['high_ref'], '-.', color='green')\n",
        "plt.title(analyte_name.capitalize())\n",
        "plt.xlabel('Date')\n",
        "plt.ylabel('Value')\n",
        "plt.show()"
      ],
      "metadata": {
        "colab": {
          "base_uri": "https://localhost:8080/",
          "height": 477
        },
        "id": "INlG6XBbmjMW",
        "outputId": "d04f3161-81a3-4313-dde7-5d859360700a"
      },
      "execution_count": 39,
      "outputs": [
        {
          "output_type": "display_data",
          "data": {
            "text/plain": [
              "<Figure size 640x480 with 1 Axes>"
            ],
            "image/png": "[encoded data removed]"
          },
          "metadata": {}
        }
      ]
    },
    {
      "cell_type": "markdown",
      "source": [
        "## Apple Wearable Data"
      ],
      "metadata": {
        "id": "0Pdxz8MlLa3U"
      }
    },
    {
      "cell_type": "code",
      "source": [],
      "metadata": {
        "id": "vYKweX_rLjX3"
      },
      "execution_count": null,
      "outputs": []
    },
    {
      "cell_type": "markdown",
      "source": [
        "# Parse Fitbit Data"
      ],
      "metadata": {
        "id": "Zh06PDmVpkI1"
      }
    },
    {
      "cell_type": "code",
      "source": [
        "latest_fitbit_path = find_latest_path(_FITBIT_ROOT_)\n",
        "\n",
        "if latest_fitbit_path is None:\n",
        "  print(\"No Fitbit data found\")\n",
        "\n",
        "latest_fitbit_path = os.path.join(latest_fitbit_path, 'Fitbit')"
      ],
      "metadata": {
        "id": "W2rBQ9RyQXcw"
      },
      "execution_count": null,
      "outputs": []
    },
    {
      "cell_type": "code",
      "source": [
        "import glob\n",
        "\n",
        "all_csv_files = []\n",
        "for folder in os.listdir(latest_fitbit_path):\n",
        "  folder_path = os.path.join(latest_fitbit_path, folder)\n",
        "  if os.path.isdir(folder_path):\n",
        "    print(f\"Processing folder: {folder_path}\")\n",
        "    csv_files = glob.glob(os.path.join(folder_path, '*.csv'))\n",
        "    all_csv_files.extend(csv_files)\n",
        "  else:\n",
        "    print(f\"{folder_path} is not a directory\")\n"
      ],
      "metadata": {
        "colab": {
          "base_uri": "https://localhost:8080/"
        },
        "id": "2MwpOWyCsC18",
        "outputId": "78c53bf6-cd39-4b6c-e32a-0578aeb635ed"
      },
      "execution_count": null,
      "outputs": [
        {
          "output_type": "stream",
          "name": "stdout",
          "text": [
            "Processing folder: /content/drive/My Drive/Health Data/Fitbit/Takeout/Fitbit/Account Changes\n",
            "Processing folder: /content/drive/My Drive/Health Data/Fitbit/Takeout/Fitbit/Fitbit Care or Programs\n",
            "Processing folder: /content/drive/My Drive/Health Data/Fitbit/Takeout/Fitbit/Messages\n",
            "Processing folder: /content/drive/My Drive/Health Data/Fitbit/Takeout/Fitbit/Discover\n",
            "Processing folder: /content/drive/My Drive/Health Data/Fitbit/Takeout/Fitbit/Heart Rate\n",
            "Processing folder: /content/drive/My Drive/Health Data/Fitbit/Takeout/Fitbit/Stress Score\n",
            "Processing folder: /content/drive/My Drive/Health Data/Fitbit/Takeout/Fitbit/Biometrics\n",
            "Processing folder: /content/drive/My Drive/Health Data/Fitbit/Takeout/Fitbit/Fitbit Premium\n",
            "Processing folder: /content/drive/My Drive/Health Data/Fitbit/Takeout/Fitbit/Menstrual Health\n",
            "Processing folder: /content/drive/My Drive/Health Data/Fitbit/Takeout/Fitbit/Fitbit Friends\n",
            "Processing folder: /content/drive/My Drive/Health Data/Fitbit/Takeout/Fitbit/Activity Goals\n",
            "Processing folder: /content/drive/My Drive/Health Data/Fitbit/Takeout/Fitbit/Sleep\n",
            "Processing folder: /content/drive/My Drive/Health Data/Fitbit/Takeout/Fitbit/Transactions\n",
            "Processing folder: /content/drive/My Drive/Health Data/Fitbit/Takeout/Fitbit/User Security Data\n",
            "Processing folder: /content/drive/My Drive/Health Data/Fitbit/Takeout/Fitbit/Journal Log\n",
            "Processing folder: /content/drive/My Drive/Health Data/Fitbit/Takeout/Fitbit/Your Profile\n",
            "Processing folder: /content/drive/My Drive/Health Data/Fitbit/Takeout/Fitbit/Sleep Score\n",
            "Processing folder: /content/drive/My Drive/Health Data/Fitbit/Takeout/Fitbit/Paired Devices\n",
            "Processing folder: /content/drive/My Drive/Health Data/Fitbit/Takeout/Fitbit/Mindfulness\n",
            "Processing folder: /content/drive/My Drive/Health Data/Fitbit/Takeout/Fitbit/Guided Programs\n",
            "Processing folder: /content/drive/My Drive/Health Data/Fitbit/Takeout/Fitbit/Stress Journal\n",
            "Processing folder: /content/drive/My Drive/Health Data/Fitbit/Takeout/Fitbit/Daily Readiness\n",
            "Processing folder: /content/drive/My Drive/Health Data/Fitbit/Takeout/Fitbit/Active Zone Minutes (AZM)\n",
            "Processing folder: /content/drive/My Drive/Health Data/Fitbit/Takeout/Fitbit/Social\n",
            "Processing folder: /content/drive/My Drive/Health Data/Fitbit/Takeout/Fitbit/Atrial Fibrillation ECG\n",
            "Processing folder: /content/drive/My Drive/Health Data/Fitbit/Takeout/Fitbit/ACTIVITYAGENT_GoogleData\n",
            "Processing folder: /content/drive/My Drive/Health Data/Fitbit/Takeout/Fitbit/Snore and Noise Detect\n",
            "Processing folder: /content/drive/My Drive/Health Data/Fitbit/Takeout/Fitbit/Oxygen Saturation (SpO2)\n",
            "Processing folder: /content/drive/My Drive/Health Data/Fitbit/Takeout/Fitbit/Temperature\n",
            "Processing folder: /content/drive/My Drive/Health Data/Fitbit/Takeout/Fitbit/Heart Rate Variability\n",
            "Processing folder: /content/drive/My Drive/Health Data/Fitbit/Takeout/Fitbit/Global Export Data\n"
          ]
        }
      ]
    },
    {
      "cell_type": "code",
      "source": [
        "all_csv_files"
      ],
      "metadata": {
        "colab": {
          "base_uri": "https://localhost:8080/"
        },
        "id": "RJ3nrosntvx_",
        "outputId": "b0955e05-157e-4aa8-bb07-0c6e24f6bfd6"
      },
      "execution_count": null,
      "outputs": [
        {
          "output_type": "execute_result",
          "data": {
            "text/plain": [
              "['/content/drive/My Drive/Health Data/Fitbit/Takeout/Fitbit/Account Changes/Account_Management_Events_1.csv',\n",
              " '/content/drive/My Drive/Health Data/Fitbit/Takeout/Fitbit/Messages/COACH Conversations_6bd161f0-eb1b-11ea-bade-871.csv',\n",
              " '/content/drive/My Drive/Health Data/Fitbit/Takeout/Fitbit/Discover/Coach Content Recommendations.csv',\n",
              " '/content/drive/My Drive/Health Data/Fitbit/Takeout/Fitbit/Heart Rate/Heart Rate Notifications Alerts.csv',\n",
              " '/content/drive/My Drive/Health Data/Fitbit/Takeout/Fitbit/Heart Rate/Heart Rate Notifications Profile.csv',\n",
              " '/content/drive/My Drive/Health Data/Fitbit/Takeout/Fitbit/Stress Score/Stress Score.csv',\n",
              " '/content/drive/My Drive/Health Data/Fitbit/Takeout/Fitbit/Biometrics/Glucose Target Ranges.csv',\n",
              " '/content/drive/My Drive/Health Data/Fitbit/Takeout/Fitbit/Fitbit Premium/User Premium Transactions.csv',\n",
              " '/content/drive/My Drive/Health Data/Fitbit/Takeout/Fitbit/Fitbit Premium/User Premium Subscriptions.csv',\n",
              " '/content/drive/My Drive/Health Data/Fitbit/Takeout/Fitbit/Menstrual Health/menstrual_health_birth_control.csv',\n",
              " '/content/drive/My Drive/Health Data/Fitbit/Takeout/Fitbit/Menstrual Health/menstrual_health_symptoms.csv',\n",
              " '/content/drive/My Drive/Health Data/Fitbit/Takeout/Fitbit/Menstrual Health/menstrual_health_settings.csv',\n",
              " '/content/drive/My Drive/Health Data/Fitbit/Takeout/Fitbit/Menstrual Health/menstrual_health_cycles.csv',\n",
              " '/content/drive/My Drive/Health Data/Fitbit/Takeout/Fitbit/Fitbit Friends/Friends.csv',\n",
              " '/content/drive/My Drive/Health Data/Fitbit/Takeout/Fitbit/Activity Goals/Activity Goals.csv',\n",
              " '/content/drive/My Drive/Health Data/Fitbit/Takeout/Fitbit/Sleep/Sleep Profile.csv',\n",
              " '/content/drive/My Drive/Health Data/Fitbit/Takeout/Fitbit/Transactions/User Order Payments.csv',\n",
              " '/content/drive/My Drive/Health Data/Fitbit/Takeout/Fitbit/Transactions/User Order Transaction Logs.csv',\n",
              " '/content/drive/My Drive/Health Data/Fitbit/Takeout/Fitbit/Transactions/User Fulfillments.csv',\n",
              " '/content/drive/My Drive/Health Data/Fitbit/Takeout/Fitbit/Transactions/User Orders.csv',\n",
              " '/content/drive/My Drive/Health Data/Fitbit/Takeout/Fitbit/User Security Data/User_Retired_Password.csv',\n",
              " '/content/drive/My Drive/Health Data/Fitbit/Takeout/Fitbit/User Security Data/User_Email_Audit_Entry.csv',\n",
              " '/content/drive/My Drive/Health Data/Fitbit/Takeout/Fitbit/Journal Log/journal_entries.csv',\n",
              " '/content/drive/My Drive/Health Data/Fitbit/Takeout/Fitbit/Your Profile/Profile.csv',\n",
              " '/content/drive/My Drive/Health Data/Fitbit/Takeout/Fitbit/Sleep Score/sleep_score.csv',\n",
              " '/content/drive/My Drive/Health Data/Fitbit/Takeout/Fitbit/Paired Devices/Devices.csv',\n",
              " '/content/drive/My Drive/Health Data/Fitbit/Takeout/Fitbit/Paired Devices/iOS App Notification Settings.csv',\n",
              " '/content/drive/My Drive/Health Data/Fitbit/Takeout/Fitbit/Paired Devices/Trackers.csv',\n",
              " '/content/drive/My Drive/Health Data/Fitbit/Takeout/Fitbit/Paired Devices/Scales.csv',\n",
              " '/content/drive/My Drive/Health Data/Fitbit/Takeout/Fitbit/Paired Devices/Tracker Optional Configuration.csv',\n",
              " '/content/drive/My Drive/Health Data/Fitbit/Takeout/Fitbit/Mindfulness/Mindfulness Eda Data Sessions.csv',\n",
              " '/content/drive/My Drive/Health Data/Fitbit/Takeout/Fitbit/Mindfulness/Mindfulness Sessions.csv',\n",
              " '/content/drive/My Drive/Health Data/Fitbit/Takeout/Fitbit/Mindfulness/Mindfulness Goals.csv',\n",
              " '/content/drive/My Drive/Health Data/Fitbit/Takeout/Fitbit/Stress Journal/CEDA Data 2024-01-17.csv',\n",
              " '/content/drive/My Drive/Health Data/Fitbit/Takeout/Fitbit/Stress Journal/CEDA Data 2024-04-19.csv',\n",
              " '/content/drive/My Drive/Health Data/Fitbit/Takeout/Fitbit/Stress Journal/CEDA Data 2023-12-17.csv',\n",
              " '/content/drive/My Drive/Health Data/Fitbit/Takeout/Fitbit/Stress Journal/CEDA Data 2024-03-19.csv',\n",
              " '/content/drive/My Drive/Health Data/Fitbit/Takeout/Fitbit/Stress Journal/CEDA Data 2024-06-20.csv',\n",
              " '/content/drive/My Drive/Health Data/Fitbit/Takeout/Fitbit/Stress Journal/Survey Data.csv',\n",
              " '/content/drive/My Drive/Health Data/Fitbit/Takeout/Fitbit/Stress Journal/CEDA Data 2024-02-17.csv',\n",
              " '/content/drive/My Drive/Health Data/Fitbit/Takeout/Fitbit/Stress Journal/Stress Daily Summaries.csv',\n",
              " '/content/drive/My Drive/Health Data/Fitbit/Takeout/Fitbit/Daily Readiness/Daily Readiness Score - 2023-11-01.csv',\n",
              " '/content/drive/My Drive/Health Data/Fitbit/Takeout/Fitbit/Daily Readiness/Daily Readiness Score - 2023-08-01.csv',\n",
              " '/content/drive/My Drive/Health Data/Fitbit/Takeout/Fitbit/Daily Readiness/Daily Readiness Score - 2023-10-01.csv',\n",
              " '/content/drive/My Drive/Health Data/Fitbit/Takeout/Fitbit/Daily Readiness/Daily Readiness Score - 2022-10-01.csv',\n",
              " '/content/drive/My Drive/Health Data/Fitbit/Takeout/Fitbit/Daily Readiness/Daily Readiness User Properties - 2011-08-18.csv',\n",
              " '/content/drive/My Drive/Health Data/Fitbit/Takeout/Fitbit/Daily Readiness/Daily Readiness Score - 2024-02-01.csv',\n",
              " '/content/drive/My Drive/Health Data/Fitbit/Takeout/Fitbit/Daily Readiness/Daily Readiness Score - 2024-01-01.csv',\n",
              " '/content/drive/My Drive/Health Data/Fitbit/Takeout/Fitbit/Daily Readiness/Daily Readiness Score - 2024-03-01.csv',\n",
              " '/content/drive/My Drive/Health Data/Fitbit/Takeout/Fitbit/Active Zone Minutes (AZM)/Active Zone Minutes - 2021-04-01.csv',\n",
              " '/content/drive/My Drive/Health Data/Fitbit/Takeout/Fitbit/Active Zone Minutes (AZM)/Active Zone Minutes - 2022-08-01.csv',\n",
              " '/content/drive/My Drive/Health Data/Fitbit/Takeout/Fitbit/Active Zone Minutes (AZM)/Active Zone Minutes - 2022-06-01.csv',\n",
              " '/content/drive/My Drive/Health Data/Fitbit/Takeout/Fitbit/Active Zone Minutes (AZM)/Active Zone Minutes - 2021-09-01.csv',\n",
              " '/content/drive/My Drive/Health Data/Fitbit/Takeout/Fitbit/Active Zone Minutes (AZM)/Active Zone Minutes - 2021-07-01.csv',\n",
              " '/content/drive/My Drive/Health Data/Fitbit/Takeout/Fitbit/Active Zone Minutes (AZM)/Active Zone Minutes - 2023-05-01.csv',\n",
              " '/content/drive/My Drive/Health Data/Fitbit/Takeout/Fitbit/Active Zone Minutes (AZM)/Active Zone Minutes - 2022-04-01.csv',\n",
              " '/content/drive/My Drive/Health Data/Fitbit/Takeout/Fitbit/Active Zone Minutes (AZM)/Active Zone Minutes - 2022-03-01.csv',\n",
              " '/content/drive/My Drive/Health Data/Fitbit/Takeout/Fitbit/Active Zone Minutes (AZM)/Active Zone Minutes - 2021-10-01.csv',\n",
              " '/content/drive/My Drive/Health Data/Fitbit/Takeout/Fitbit/Active Zone Minutes (AZM)/Active Zone Minutes - 2022-05-01.csv',\n",
              " '/content/drive/My Drive/Health Data/Fitbit/Takeout/Fitbit/Active Zone Minutes (AZM)/Active Zone Minutes - 2021-12-01.csv',\n",
              " '/content/drive/My Drive/Health Data/Fitbit/Takeout/Fitbit/Active Zone Minutes (AZM)/Active Zone Minutes - 2020-10-01.csv',\n",
              " '/content/drive/My Drive/Health Data/Fitbit/Takeout/Fitbit/Active Zone Minutes (AZM)/Active Zone Minutes - 2021-11-01.csv',\n",
              " '/content/drive/My Drive/Health Data/Fitbit/Takeout/Fitbit/Active Zone Minutes (AZM)/Active Zone Minutes - 2021-06-01.csv',\n",
              " '/content/drive/My Drive/Health Data/Fitbit/Takeout/Fitbit/Active Zone Minutes (AZM)/Active Zone Minutes - 2022-09-01.csv',\n",
              " '/content/drive/My Drive/Health Data/Fitbit/Takeout/Fitbit/Active Zone Minutes (AZM)/Active Zone Minutes - 2022-02-01.csv',\n",
              " '/content/drive/My Drive/Health Data/Fitbit/Takeout/Fitbit/Active Zone Minutes (AZM)/Active Zone Minutes - 2023-06-01.csv',\n",
              " '/content/drive/My Drive/Health Data/Fitbit/Takeout/Fitbit/Active Zone Minutes (AZM)/Active Zone Minutes - 2021-05-01.csv',\n",
              " '/content/drive/My Drive/Health Data/Fitbit/Takeout/Fitbit/Active Zone Minutes (AZM)/Active Zone Minutes - 2021-01-01.csv',\n",
              " '/content/drive/My Drive/Health Data/Fitbit/Takeout/Fitbit/Active Zone Minutes (AZM)/Active Zone Minutes - 2020-09-01.csv',\n",
              " '/content/drive/My Drive/Health Data/Fitbit/Takeout/Fitbit/Active Zone Minutes (AZM)/Active Zone Minutes - 2022-01-01.csv',\n",
              " '/content/drive/My Drive/Health Data/Fitbit/Takeout/Fitbit/Active Zone Minutes (AZM)/Active Zone Minutes - 2022-10-01.csv',\n",
              " '/content/drive/My Drive/Health Data/Fitbit/Takeout/Fitbit/Active Zone Minutes (AZM)/Active Zone Minutes - 2022-07-01.csv',\n",
              " '/content/drive/My Drive/Health Data/Fitbit/Takeout/Fitbit/Active Zone Minutes (AZM)/Active Zone Minutes - 2021-08-01.csv',\n",
              " '/content/drive/My Drive/Health Data/Fitbit/Takeout/Fitbit/Active Zone Minutes (AZM)/Active Zone Minutes - 2023-08-01.csv',\n",
              " '/content/drive/My Drive/Health Data/Fitbit/Takeout/Fitbit/Active Zone Minutes (AZM)/Active Zone Minutes - 2023-10-01.csv',\n",
              " '/content/drive/My Drive/Health Data/Fitbit/Takeout/Fitbit/Active Zone Minutes (AZM)/Active Zone Minutes - 2023-12-01.csv',\n",
              " '/content/drive/My Drive/Health Data/Fitbit/Takeout/Fitbit/Active Zone Minutes (AZM)/Active Zone Minutes - 2024-02-01.csv',\n",
              " '/content/drive/My Drive/Health Data/Fitbit/Takeout/Fitbit/Active Zone Minutes (AZM)/Active Zone Minutes - 2023-09-01.csv',\n",
              " '/content/drive/My Drive/Health Data/Fitbit/Takeout/Fitbit/Active Zone Minutes (AZM)/Active Zone Minutes - 2024-01-01.csv',\n",
              " '/content/drive/My Drive/Health Data/Fitbit/Takeout/Fitbit/Active Zone Minutes (AZM)/Active Zone Minutes - 2024-03-01.csv',\n",
              " '/content/drive/My Drive/Health Data/Fitbit/Takeout/Fitbit/Active Zone Minutes (AZM)/Active Zone Minutes - 2024-06-01.csv',\n",
              " '/content/drive/My Drive/Health Data/Fitbit/Takeout/Fitbit/Active Zone Minutes (AZM)/Active Zone Minutes - 2023-11-01.csv',\n",
              " '/content/drive/My Drive/Health Data/Fitbit/Takeout/Fitbit/Atrial Fibrillation ECG/afib_ecg_reading_1619464892106.csv',\n",
              " '/content/drive/My Drive/Health Data/Fitbit/Takeout/Fitbit/Atrial Fibrillation ECG/afib_ecg_reading_1665271025536.csv',\n",
              " '/content/drive/My Drive/Health Data/Fitbit/Takeout/Fitbit/Atrial Fibrillation ECG/afib_ecg_reading_1637783687603.csv',\n",
              " '/content/drive/My Drive/Health Data/Fitbit/Takeout/Fitbit/Atrial Fibrillation ECG/afib_ecg_reading_1621220121211.csv',\n",
              " '/content/drive/My Drive/Health Data/Fitbit/Takeout/Fitbit/Atrial Fibrillation ECG/afib_ecg_reading_1698090483219.csv',\n",
              " '/content/drive/My Drive/Health Data/Fitbit/Takeout/Fitbit/Atrial Fibrillation ECG/afib_ecg_reading_1651806867790.csv',\n",
              " '/content/drive/My Drive/Health Data/Fitbit/Takeout/Fitbit/Atrial Fibrillation ECG/afib_ecg_reading_1704434510319.csv',\n",
              " '/content/drive/My Drive/Health Data/Fitbit/Takeout/Fitbit/ACTIVITYAGENT_GoogleData/assessment_exercise_results.csv',\n",
              " '/content/drive/My Drive/Health Data/Fitbit/Takeout/Fitbit/ACTIVITYAGENT_GoogleData/health_summary_metrics.csv',\n",
              " '/content/drive/My Drive/Health Data/Fitbit/Takeout/Fitbit/Snore and Noise Detect/Snore Details - 2019-07-11.csv',\n",
              " '/content/drive/My Drive/Health Data/Fitbit/Takeout/Fitbit/Snore and Noise Detect/Snore Details - 2019-12-08.csv',\n",
              " '/content/drive/My Drive/Health Data/Fitbit/Takeout/Fitbit/Snore and Noise Detect/Snore Details - 2019-11-16.csv',\n",
              " '/content/drive/My Drive/Health Data/Fitbit/Takeout/Fitbit/Snore and Noise Detect/Snore Details - 2019-11-10.csv',\n",
              " '/content/drive/My Drive/Health Data/Fitbit/Takeout/Fitbit/Snore and Noise Detect/Snore Details - 2019-11-24.csv',\n",
              " '/content/drive/My Drive/Health Data/Fitbit/Takeout/Fitbit/Snore and Noise Detect/Snore Details - 2019-11-08.csv',\n",
              " '/content/drive/My Drive/Health Data/Fitbit/Takeout/Fitbit/Snore and Noise Detect/Snore Details - 2019-12-19.csv',\n",
              " '/content/drive/My Drive/Health Data/Fitbit/Takeout/Fitbit/Snore and Noise Detect/Snore Details - 2019-12-11.csv',\n",
              " '/content/drive/My Drive/Health Data/Fitbit/Takeout/Fitbit/Snore and Noise Detect/Snore Details - 2019-11-13.csv',\n",
              " '/content/drive/My Drive/Health Data/Fitbit/Takeout/Fitbit/Snore and Noise Detect/Snore Details - 2019-11-23.csv',\n",
              " '/content/drive/My Drive/Health Data/Fitbit/Takeout/Fitbit/Snore and Noise Detect/Snore Details - 2019-11-17.csv',\n",
              " '/content/drive/My Drive/Health Data/Fitbit/Takeout/Fitbit/Snore and Noise Detect/Snore Details - 2019-11-29.csv',\n",
              " '/content/drive/My Drive/Health Data/Fitbit/Takeout/Fitbit/Snore and Noise Detect/Snore Details - 2019-12-03.csv',\n",
              " '/content/drive/My Drive/Health Data/Fitbit/Takeout/Fitbit/Snore and Noise Detect/Snore Details - 2019-11-15.csv',\n",
              " '/content/drive/My Drive/Health Data/Fitbit/Takeout/Fitbit/Snore and Noise Detect/Snore Details - 2019-12-12.csv',\n",
              " '/content/drive/My Drive/Health Data/Fitbit/Takeout/Fitbit/Snore and Noise Detect/Snore Details - 2019-12-09.csv',\n",
              " '/content/drive/My Drive/Health Data/Fitbit/Takeout/Fitbit/Snore and Noise Detect/Snore Details - 2019-12-02.csv',\n",
              " '/content/drive/My Drive/Health Data/Fitbit/Takeout/Fitbit/Snore and Noise Detect/Snore Details - 2019-11-21.csv',\n",
              " '/content/drive/My Drive/Health Data/Fitbit/Takeout/Fitbit/Snore and Noise Detect/Snore Details - 2019-11-14.csv',\n",
              " '/content/drive/My Drive/Health Data/Fitbit/Takeout/Fitbit/Snore and Noise Detect/Snore Details - 2019-12-16.csv',\n",
              " '/content/drive/My Drive/Health Data/Fitbit/Takeout/Fitbit/Snore and Noise Detect/Snore Details - 2019-12-10.csv',\n",
              " '/content/drive/My Drive/Health Data/Fitbit/Takeout/Fitbit/Snore and Noise Detect/Snore Details - 2019-11-09.csv',\n",
              " '/content/drive/My Drive/Health Data/Fitbit/Takeout/Fitbit/Snore and Noise Detect/Snore Details - 2019-12-01.csv',\n",
              " '/content/drive/My Drive/Health Data/Fitbit/Takeout/Fitbit/Snore and Noise Detect/Snore Details - 2019-11-18.csv',\n",
              " '/content/drive/My Drive/Health Data/Fitbit/Takeout/Fitbit/Snore and Noise Detect/Snore Details - 2019-12-13.csv',\n",
              " '/content/drive/My Drive/Health Data/Fitbit/Takeout/Fitbit/Snore and Noise Detect/Snore Details - 2019-12-14.csv',\n",
              " '/content/drive/My Drive/Health Data/Fitbit/Takeout/Fitbit/Snore and Noise Detect/Snore Details - 2019-11-30.csv',\n",
              " '/content/drive/My Drive/Health Data/Fitbit/Takeout/Fitbit/Snore and Noise Detect/Snore Details - 2019-12-07.csv',\n",
              " '/content/drive/My Drive/Health Data/Fitbit/Takeout/Fitbit/Snore and Noise Detect/Snore Details - 2019-11-12.csv',\n",
              " '/content/drive/My Drive/Health Data/Fitbit/Takeout/Fitbit/Snore and Noise Detect/Snore Details - 2019-11-25.csv',\n",
              " '/content/drive/My Drive/Health Data/Fitbit/Takeout/Fitbit/Snore and Noise Detect/Snore Details - 2019-11-27.csv',\n",
              " '/content/drive/My Drive/Health Data/Fitbit/Takeout/Fitbit/Snore and Noise Detect/Snore Details - 2019-11-22.csv',\n",
              " '/content/drive/My Drive/Health Data/Fitbit/Takeout/Fitbit/Snore and Noise Detect/Snore Details - 2019-12-05.csv',\n",
              " '/content/drive/My Drive/Health Data/Fitbit/Takeout/Fitbit/Snore and Noise Detect/Snore Details - 2019-11-11.csv',\n",
              " '/content/drive/My Drive/Health Data/Fitbit/Takeout/Fitbit/Snore and Noise Detect/Snore Details - 2019-11-28.csv',\n",
              " '/content/drive/My Drive/Health Data/Fitbit/Takeout/Fitbit/Snore and Noise Detect/Snore Details - 2019-11-19.csv',\n",
              " '/content/drive/My Drive/Health Data/Fitbit/Takeout/Fitbit/Snore and Noise Detect/Snore Details - 2019-12-04.csv',\n",
              " '/content/drive/My Drive/Health Data/Fitbit/Takeout/Fitbit/Snore and Noise Detect/Snore Details - 2019-11-20.csv',\n",
              " '/content/drive/My Drive/Health Data/Fitbit/Takeout/Fitbit/Snore and Noise Detect/Snore Details - 2019-11-26.csv',\n",
              " '/content/drive/My Drive/Health Data/Fitbit/Takeout/Fitbit/Snore and Noise Detect/Snore Details - 2020-02-21.csv',\n",
              " '/content/drive/My Drive/Health Data/Fitbit/Takeout/Fitbit/Snore and Noise Detect/Snore Details - 2020-01-22.csv',\n",
              " '/content/drive/My Drive/Health Data/Fitbit/Takeout/Fitbit/Snore and Noise Detect/Snore Details - 2019-12-15.csv',\n",
              " '/content/drive/My Drive/Health Data/Fitbit/Takeout/Fitbit/Snore and Noise Detect/Snore Details - 2020-02-10.csv',\n",
              " '/content/drive/My Drive/Health Data/Fitbit/Takeout/Fitbit/Snore and Noise Detect/Snore Details - 2020-02-06.csv',\n",
              " '/content/drive/My Drive/Health Data/Fitbit/Takeout/Fitbit/Snore and Noise Detect/Snore Details - 2020-02-09.csv',\n",
              " '/content/drive/My Drive/Health Data/Fitbit/Takeout/Fitbit/Snore and Noise Detect/Snore Details - 2020-01-15.csv',\n",
              " '/content/drive/My Drive/Health Data/Fitbit/Takeout/Fitbit/Snore and Noise Detect/Snore Details - 2020-02-19.csv',\n",
              " '/content/drive/My Drive/Health Data/Fitbit/Takeout/Fitbit/Snore and Noise Detect/Snore Details - 2020-01-09.csv',\n",
              " '/content/drive/My Drive/Health Data/Fitbit/Takeout/Fitbit/Snore and Noise Detect/Snore Details - 2019-12-20.csv',\n",
              " '/content/drive/My Drive/Health Data/Fitbit/Takeout/Fitbit/Snore and Noise Detect/Snore Details - 2020-01-14.csv',\n",
              " '/content/drive/My Drive/Health Data/Fitbit/Takeout/Fitbit/Snore and Noise Detect/Snore Details - 2020-01-18.csv',\n",
              " '/content/drive/My Drive/Health Data/Fitbit/Takeout/Fitbit/Snore and Noise Detect/Snore Details - 2020-02-08.csv',\n",
              " '/content/drive/My Drive/Health Data/Fitbit/Takeout/Fitbit/Snore and Noise Detect/Snore Details - 2020-01-11.csv',\n",
              " '/content/drive/My Drive/Health Data/Fitbit/Takeout/Fitbit/Snore and Noise Detect/Snore Details - 2019-12-22.csv',\n",
              " '/content/drive/My Drive/Health Data/Fitbit/Takeout/Fitbit/Snore and Noise Detect/Snore Details - 2020-01-12.csv',\n",
              " '/content/drive/My Drive/Health Data/Fitbit/Takeout/Fitbit/Snore and Noise Detect/Snore Details - 2020-02-13.csv',\n",
              " '/content/drive/My Drive/Health Data/Fitbit/Takeout/Fitbit/Snore and Noise Detect/Snore Details - 2020-01-20.csv',\n",
              " '/content/drive/My Drive/Health Data/Fitbit/Takeout/Fitbit/Snore and Noise Detect/Snore Details - 2019-12-21.csv',\n",
              " '/content/drive/My Drive/Health Data/Fitbit/Takeout/Fitbit/Snore and Noise Detect/Snore Details - 2020-01-21.csv',\n",
              " '/content/drive/My Drive/Health Data/Fitbit/Takeout/Fitbit/Snore and Noise Detect/Snore Details - 2020-02-03.csv',\n",
              " '/content/drive/My Drive/Health Data/Fitbit/Takeout/Fitbit/Snore and Noise Detect/Snore Details - 2020-01-29.csv',\n",
              " '/content/drive/My Drive/Health Data/Fitbit/Takeout/Fitbit/Snore and Noise Detect/Snore Details - 2020-01-10.csv',\n",
              " '/content/drive/My Drive/Health Data/Fitbit/Takeout/Fitbit/Snore and Noise Detect/Snore Details - 2020-02-23.csv',\n",
              " '/content/drive/My Drive/Health Data/Fitbit/Takeout/Fitbit/Snore and Noise Detect/Snore Details - 2020-01-05.csv',\n",
              " '/content/drive/My Drive/Health Data/Fitbit/Takeout/Fitbit/Snore and Noise Detect/Snore Details - 2020-01-08.csv',\n",
              " '/content/drive/My Drive/Health Data/Fitbit/Takeout/Fitbit/Snore and Noise Detect/Snore Details - 2020-01-28.csv',\n",
              " '/content/drive/My Drive/Health Data/Fitbit/Takeout/Fitbit/Snore and Noise Detect/Snore Details - 2020-01-04.csv',\n",
              " '/content/drive/My Drive/Health Data/Fitbit/Takeout/Fitbit/Snore and Noise Detect/Snore Details - 2020-02-11.csv',\n",
              " '/content/drive/My Drive/Health Data/Fitbit/Takeout/Fitbit/Snore and Noise Detect/Snore Details - 2020-02-05.csv',\n",
              " '/content/drive/My Drive/Health Data/Fitbit/Takeout/Fitbit/Snore and Noise Detect/Snore Details - 2020-01-26.csv',\n",
              " '/content/drive/My Drive/Health Data/Fitbit/Takeout/Fitbit/Snore and Noise Detect/Snore Details - 2020-01-06.csv',\n",
              " '/content/drive/My Drive/Health Data/Fitbit/Takeout/Fitbit/Snore and Noise Detect/Snore Details - 2019-12-23.csv',\n",
              " '/content/drive/My Drive/Health Data/Fitbit/Takeout/Fitbit/Snore and Noise Detect/Snore Details - 2020-02-04.csv',\n",
              " '/content/drive/My Drive/Health Data/Fitbit/Takeout/Fitbit/Snore and Noise Detect/Snore Details - 2020-01-07.csv',\n",
              " '/content/drive/My Drive/Health Data/Fitbit/Takeout/Fitbit/Snore and Noise Detect/Snore Details - 2020-01-27.csv',\n",
              " '/content/drive/My Drive/Health Data/Fitbit/Takeout/Fitbit/Snore and Noise Detect/Snore Details - 2020-01-13.csv',\n",
              " '/content/drive/My Drive/Health Data/Fitbit/Takeout/Fitbit/Snore and Noise Detect/Snore Details - 2020-01-19.csv',\n",
              " '/content/drive/My Drive/Health Data/Fitbit/Takeout/Fitbit/Snore and Noise Detect/Snore Details - 2020-01-25.csv',\n",
              " '/content/drive/My Drive/Health Data/Fitbit/Takeout/Fitbit/Snore and Noise Detect/Snore Details - 2020-02-12.csv',\n",
              " '/content/drive/My Drive/Health Data/Fitbit/Takeout/Fitbit/Snore and Noise Detect/Snore Details - 2020-01-30.csv',\n",
              " '/content/drive/My Drive/Health Data/Fitbit/Takeout/Fitbit/Snore and Noise Detect/Snore Details - 2020-01-02.csv',\n",
              " '/content/drive/My Drive/Health Data/Fitbit/Takeout/Fitbit/Snore and Noise Detect/Snore Details - 2020-01-24.csv',\n",
              " '/content/drive/My Drive/Health Data/Fitbit/Takeout/Fitbit/Snore and Noise Detect/Snore Details - 2020-02-07.csv',\n",
              " '/content/drive/My Drive/Health Data/Fitbit/Takeout/Fitbit/Snore and Noise Detect/Snore Details - 2020-01-23.csv',\n",
              " '/content/drive/My Drive/Health Data/Fitbit/Takeout/Fitbit/Snore and Noise Detect/Snore Details - 2020-02-01.csv',\n",
              " '/content/drive/My Drive/Health Data/Fitbit/Takeout/Fitbit/Snore and Noise Detect/Snore Details - 2020-01-31.csv',\n",
              " '/content/drive/My Drive/Health Data/Fitbit/Takeout/Fitbit/Snore and Noise Detect/Snore Details - 2020-02-20.csv',\n",
              " '/content/drive/My Drive/Health Data/Fitbit/Takeout/Fitbit/Snore and Noise Detect/Snore Details - 2020-01-16.csv',\n",
              " '/content/drive/My Drive/Health Data/Fitbit/Takeout/Fitbit/Snore and Noise Detect/Snore Details - 2020-02-02.csv',\n",
              " '/content/drive/My Drive/Health Data/Fitbit/Takeout/Fitbit/Snore and Noise Detect/Snore Details - 2020-01-03.csv',\n",
              " '/content/drive/My Drive/Health Data/Fitbit/Takeout/Fitbit/Snore and Noise Detect/Snore Details - 2020-03-02.csv',\n",
              " '/content/drive/My Drive/Health Data/Fitbit/Takeout/Fitbit/Snore and Noise Detect/Snore Details - 2020-04-22.csv',\n",
              " '/content/drive/My Drive/Health Data/Fitbit/Takeout/Fitbit/Snore and Noise Detect/Snore Details - 2020-03-16.csv',\n",
              " '/content/drive/My Drive/Health Data/Fitbit/Takeout/Fitbit/Snore and Noise Detect/Snore Details - 2020-04-14.csv',\n",
              " '/content/drive/My Drive/Health Data/Fitbit/Takeout/Fitbit/Snore and Noise Detect/Snore Details - 2020-02-28.csv',\n",
              " '/content/drive/My Drive/Health Data/Fitbit/Takeout/Fitbit/Snore and Noise Detect/Snore Details - 2020-04-24.csv',\n",
              " '/content/drive/My Drive/Health Data/Fitbit/Takeout/Fitbit/Snore and Noise Detect/Snore Details - 2020-04-28.csv',\n",
              " '/content/drive/My Drive/Health Data/Fitbit/Takeout/Fitbit/Snore and Noise Detect/Snore Details - 2020-03-30.csv',\n",
              " '/content/drive/My Drive/Health Data/Fitbit/Takeout/Fitbit/Snore and Noise Detect/Snore Details - 2020-04-06.csv',\n",
              " '/content/drive/My Drive/Health Data/Fitbit/Takeout/Fitbit/Snore and Noise Detect/Snore Details - 2020-04-13.csv',\n",
              " '/content/drive/My Drive/Health Data/Fitbit/Takeout/Fitbit/Snore and Noise Detect/Snore Details - 2020-04-05.csv',\n",
              " '/content/drive/My Drive/Health Data/Fitbit/Takeout/Fitbit/Snore and Noise Detect/Snore Details - 2020-03-15.csv',\n",
              " '/content/drive/My Drive/Health Data/Fitbit/Takeout/Fitbit/Snore and Noise Detect/Snore Details - 2020-03-07.csv',\n",
              " '/content/drive/My Drive/Health Data/Fitbit/Takeout/Fitbit/Snore and Noise Detect/Snore Details - 2020-04-16.csv',\n",
              " '/content/drive/My Drive/Health Data/Fitbit/Takeout/Fitbit/Snore and Noise Detect/Snore Details - 2020-04-10.csv',\n",
              " '/content/drive/My Drive/Health Data/Fitbit/Takeout/Fitbit/Snore and Noise Detect/Snore Details - 2020-02-24.csv',\n",
              " '/content/drive/My Drive/Health Data/Fitbit/Takeout/Fitbit/Snore and Noise Detect/Snore Details - 2020-03-19.csv',\n",
              " '/content/drive/My Drive/Health Data/Fitbit/Takeout/Fitbit/Snore and Noise Detect/Snore Details - 2020-04-17.csv',\n",
              " '/content/drive/My Drive/Health Data/Fitbit/Takeout/Fitbit/Snore and Noise Detect/Snore Details - 2020-04-07.csv',\n",
              " '/content/drive/My Drive/Health Data/Fitbit/Takeout/Fitbit/Snore and Noise Detect/Snore Details - 2020-04-04.csv',\n",
              " '/content/drive/My Drive/Health Data/Fitbit/Takeout/Fitbit/Snore and Noise Detect/Snore Details - 2020-03-03.csv',\n",
              " '/content/drive/My Drive/Health Data/Fitbit/Takeout/Fitbit/Snore and Noise Detect/Snore Details - 2020-03-08.csv',\n",
              " '/content/drive/My Drive/Health Data/Fitbit/Takeout/Fitbit/Snore and Noise Detect/Snore Details - 2020-03-05.csv',\n",
              " '/content/drive/My Drive/Health Data/Fitbit/Takeout/Fitbit/Snore and Noise Detect/Snore Details - 2020-04-02.csv',\n",
              " '/content/drive/My Drive/Health Data/Fitbit/Takeout/Fitbit/Snore and Noise Detect/Snore Details - 2020-04-12.csv',\n",
              " '/content/drive/My Drive/Health Data/Fitbit/Takeout/Fitbit/Snore and Noise Detect/Snore Details - 2020-03-29.csv',\n",
              " '/content/drive/My Drive/Health Data/Fitbit/Takeout/Fitbit/Snore and Noise Detect/Snore Details - 2020-04-08.csv',\n",
              " '/content/drive/My Drive/Health Data/Fitbit/Takeout/Fitbit/Snore and Noise Detect/Snore Details - 2020-03-23.csv',\n",
              " '/content/drive/My Drive/Health Data/Fitbit/Takeout/Fitbit/Snore and Noise Detect/Snore Details - 2020-03-11.csv',\n",
              " '/content/drive/My Drive/Health Data/Fitbit/Takeout/Fitbit/Snore and Noise Detect/Snore Details - 2020-03-10.csv',\n",
              " '/content/drive/My Drive/Health Data/Fitbit/Takeout/Fitbit/Snore and Noise Detect/Snore Details - 2020-04-25.csv',\n",
              " '/content/drive/My Drive/Health Data/Fitbit/Takeout/Fitbit/Snore and Noise Detect/Snore Details - 2020-02-27.csv',\n",
              " '/content/drive/My Drive/Health Data/Fitbit/Takeout/Fitbit/Snore and Noise Detect/Snore Details - 2020-03-12.csv',\n",
              " '/content/drive/My Drive/Health Data/Fitbit/Takeout/Fitbit/Snore and Noise Detect/Snore Details - 2020-03-14.csv',\n",
              " '/content/drive/My Drive/Health Data/Fitbit/Takeout/Fitbit/Snore and Noise Detect/Snore Details - 2020-02-22.csv',\n",
              " '/content/drive/My Drive/Health Data/Fitbit/Takeout/Fitbit/Snore and Noise Detect/Snore Details - 2020-03-21.csv',\n",
              " '/content/drive/My Drive/Health Data/Fitbit/Takeout/Fitbit/Snore and Noise Detect/Snore Details - 2020-03-24.csv',\n",
              " '/content/drive/My Drive/Health Data/Fitbit/Takeout/Fitbit/Snore and Noise Detect/Snore Details - 2020-04-21.csv',\n",
              " '/content/drive/My Drive/Health Data/Fitbit/Takeout/Fitbit/Snore and Noise Detect/Snore Details - 2020-03-13.csv',\n",
              " '/content/drive/My Drive/Health Data/Fitbit/Takeout/Fitbit/Snore and Noise Detect/Snore Details - 2020-04-23.csv',\n",
              " '/content/drive/My Drive/Health Data/Fitbit/Takeout/Fitbit/Snore and Noise Detect/Snore Details - 2020-02-29.csv',\n",
              " '/content/drive/My Drive/Health Data/Fitbit/Takeout/Fitbit/Snore and Noise Detect/Snore Details - 2020-02-25.csv',\n",
              " '/content/drive/My Drive/Health Data/Fitbit/Takeout/Fitbit/Snore and Noise Detect/Snore Details - 2020-03-20.csv',\n",
              " '/content/drive/My Drive/Health Data/Fitbit/Takeout/Fitbit/Snore and Noise Detect/Snore Details - 2020-04-26.csv',\n",
              " '/content/drive/My Drive/Health Data/Fitbit/Takeout/Fitbit/Snore and Noise Detect/Snore Details - 2020-04-03.csv',\n",
              " '/content/drive/My Drive/Health Data/Fitbit/Takeout/Fitbit/Snore and Noise Detect/Snore Details - 2020-03-22.csv',\n",
              " '/content/drive/My Drive/Health Data/Fitbit/Takeout/Fitbit/Snore and Noise Detect/Snore Details - 2020-03-01.csv',\n",
              " '/content/drive/My Drive/Health Data/Fitbit/Takeout/Fitbit/Snore and Noise Detect/Snore Details - 2020-04-27.csv',\n",
              " '/content/drive/My Drive/Health Data/Fitbit/Takeout/Fitbit/Snore and Noise Detect/Snore Details - 2020-02-26.csv',\n",
              " '/content/drive/My Drive/Health Data/Fitbit/Takeout/Fitbit/Snore and Noise Detect/Snore Details - 2020-03-09.csv',\n",
              " '/content/drive/My Drive/Health Data/Fitbit/Takeout/Fitbit/Snore and Noise Detect/Snore Details - 2020-04-09.csv',\n",
              " '/content/drive/My Drive/Health Data/Fitbit/Takeout/Fitbit/Snore and Noise Detect/Snore Details - 2020-04-11.csv',\n",
              " '/content/drive/My Drive/Health Data/Fitbit/Takeout/Fitbit/Snore and Noise Detect/Snore Details - 2020-03-31.csv',\n",
              " '/content/drive/My Drive/Health Data/Fitbit/Takeout/Fitbit/Snore and Noise Detect/Snore Details - 2020-03-26.csv',\n",
              " '/content/drive/My Drive/Health Data/Fitbit/Takeout/Fitbit/Snore and Noise Detect/Snore Details - 2020-04-01.csv',\n",
              " '/content/drive/My Drive/Health Data/Fitbit/Takeout/Fitbit/Snore and Noise Detect/Snore Details - 2020-03-25.csv',\n",
              " '/content/drive/My Drive/Health Data/Fitbit/Takeout/Fitbit/Snore and Noise Detect/Snore Details - 2020-03-06.csv',\n",
              " '/content/drive/My Drive/Health Data/Fitbit/Takeout/Fitbit/Snore and Noise Detect/Snore Details - 2020-05-25.csv',\n",
              " '/content/drive/My Drive/Health Data/Fitbit/Takeout/Fitbit/Snore and Noise Detect/Snore Details - 2020-06-18.csv',\n",
              " '/content/drive/My Drive/Health Data/Fitbit/Takeout/Fitbit/Snore and Noise Detect/Snore Details - 2020-04-30.csv',\n",
              " '/content/drive/My Drive/Health Data/Fitbit/Takeout/Fitbit/Snore and Noise Detect/Snore Details - 2020-05-19.csv',\n",
              " '/content/drive/My Drive/Health Data/Fitbit/Takeout/Fitbit/Snore and Noise Detect/Snore Details - 2020-05-20.csv',\n",
              " '/content/drive/My Drive/Health Data/Fitbit/Takeout/Fitbit/Snore and Noise Detect/Snore Details - 2020-05-30.csv',\n",
              " '/content/drive/My Drive/Health Data/Fitbit/Takeout/Fitbit/Snore and Noise Detect/Snore Details - 2020-05-14.csv',\n",
              " '/content/drive/My Drive/Health Data/Fitbit/Takeout/Fitbit/Snore and Noise Detect/Snore Details - 2020-05-01.csv',\n",
              " '/content/drive/My Drive/Health Data/Fitbit/Takeout/Fitbit/Snore and Noise Detect/Snore Details - 2020-05-15.csv',\n",
              " '/content/drive/My Drive/Health Data/Fitbit/Takeout/Fitbit/Snore and Noise Detect/Snore Details - 2020-05-23.csv',\n",
              " '/content/drive/My Drive/Health Data/Fitbit/Takeout/Fitbit/Snore and Noise Detect/Snore Details - 2020-05-21.csv',\n",
              " '/content/drive/My Drive/Health Data/Fitbit/Takeout/Fitbit/Snore and Noise Detect/Snore Details - 2020-05-22.csv',\n",
              " '/content/drive/My Drive/Health Data/Fitbit/Takeout/Fitbit/Snore and Noise Detect/Snore Details - 2020-05-17.csv',\n",
              " '/content/drive/My Drive/Health Data/Fitbit/Takeout/Fitbit/Snore and Noise Detect/Snore Details - 2020-06-08.csv',\n",
              " '/content/drive/My Drive/Health Data/Fitbit/Takeout/Fitbit/Snore and Noise Detect/Snore Details - 2020-06-10.csv',\n",
              " '/content/drive/My Drive/Health Data/Fitbit/Takeout/Fitbit/Snore and Noise Detect/Snore Details - 2020-06-14.csv',\n",
              " '/content/drive/My Drive/Health Data/Fitbit/Takeout/Fitbit/Snore and Noise Detect/Snore Details - 2020-05-28.csv',\n",
              " '/content/drive/My Drive/Health Data/Fitbit/Takeout/Fitbit/Snore and Noise Detect/Snore Details - 2020-06-17.csv',\n",
              " '/content/drive/My Drive/Health Data/Fitbit/Takeout/Fitbit/Snore and Noise Detect/Snore Details - 2020-05-06.csv',\n",
              " '/content/drive/My Drive/Health Data/Fitbit/Takeout/Fitbit/Snore and Noise Detect/Snore Details - 2020-05-11.csv',\n",
              " '/content/drive/My Drive/Health Data/Fitbit/Takeout/Fitbit/Snore and Noise Detect/Snore Details - 2020-05-08.csv',\n",
              " '/content/drive/My Drive/Health Data/Fitbit/Takeout/Fitbit/Snore and Noise Detect/Snore Details - 2020-06-15.csv',\n",
              " '/content/drive/My Drive/Health Data/Fitbit/Takeout/Fitbit/Snore and Noise Detect/Snore Details - 2020-05-26.csv',\n",
              " '/content/drive/My Drive/Health Data/Fitbit/Takeout/Fitbit/Snore and Noise Detect/Snore Details - 2020-04-29.csv',\n",
              " '/content/drive/My Drive/Health Data/Fitbit/Takeout/Fitbit/Snore and Noise Detect/Snore Details - 2020-05-24.csv',\n",
              " '/content/drive/My Drive/Health Data/Fitbit/Takeout/Fitbit/Snore and Noise Detect/Snore Details - 2020-05-13.csv',\n",
              " '/content/drive/My Drive/Health Data/Fitbit/Takeout/Fitbit/Snore and Noise Detect/Snore Details - 2020-05-04.csv',\n",
              " '/content/drive/My Drive/Health Data/Fitbit/Takeout/Fitbit/Snore and Noise Detect/Snore Details - 2020-05-05.csv',\n",
              " '/content/drive/My Drive/Health Data/Fitbit/Takeout/Fitbit/Snore and Noise Detect/Snore Details - 2020-05-29.csv',\n",
              " '/content/drive/My Drive/Health Data/Fitbit/Takeout/Fitbit/Snore and Noise Detect/Snore Details - 2020-05-16.csv',\n",
              " '/content/drive/My Drive/Health Data/Fitbit/Takeout/Fitbit/Snore and Noise Detect/Snore Details - 2020-06-16.csv',\n",
              " '/content/drive/My Drive/Health Data/Fitbit/Takeout/Fitbit/Snore and Noise Detect/Snore Details - 2020-05-18.csv',\n",
              " '/content/drive/My Drive/Health Data/Fitbit/Takeout/Fitbit/Snore and Noise Detect/Snore Details - 2020-05-09.csv',\n",
              " '/content/drive/My Drive/Health Data/Fitbit/Takeout/Fitbit/Snore and Noise Detect/Snore Details - 2020-06-09.csv',\n",
              " '/content/drive/My Drive/Health Data/Fitbit/Takeout/Fitbit/Snore and Noise Detect/Snore Details - 2020-06-11.csv',\n",
              " '/content/drive/My Drive/Health Data/Fitbit/Takeout/Fitbit/Snore and Noise Detect/Snore Details - 2020-05-27.csv',\n",
              " '/content/drive/My Drive/Health Data/Fitbit/Takeout/Fitbit/Snore and Noise Detect/Snore Details - 2020-05-07.csv',\n",
              " '/content/drive/My Drive/Health Data/Fitbit/Takeout/Fitbit/Snore and Noise Detect/Snore Details - 2020-06-12.csv',\n",
              " '/content/drive/My Drive/Health Data/Fitbit/Takeout/Fitbit/Snore and Noise Detect/Snore Details - 2020-05-12.csv',\n",
              " '/content/drive/My Drive/Health Data/Fitbit/Takeout/Fitbit/Snore and Noise Detect/Snore Details - 2020-06-13.csv',\n",
              " '/content/drive/My Drive/Health Data/Fitbit/Takeout/Fitbit/Snore and Noise Detect/Snore Details - 2020-05-10.csv',\n",
              " '/content/drive/My Drive/Health Data/Fitbit/Takeout/Fitbit/Snore and Noise Detect/Snore Details - 2020-08-14.csv',\n",
              " '/content/drive/My Drive/Health Data/Fitbit/Takeout/Fitbit/Snore and Noise Detect/Snore Details - 2020-09-03.csv',\n",
              " '/content/drive/My Drive/Health Data/Fitbit/Takeout/Fitbit/Snore and Noise Detect/Snore Details - 2020-08-07.csv',\n",
              " '/content/drive/My Drive/Health Data/Fitbit/Takeout/Fitbit/Snore and Noise Detect/Snore Details - 2020-09-06.csv',\n",
              " '/content/drive/My Drive/Health Data/Fitbit/Takeout/Fitbit/Snore and Noise Detect/Snore Details - 2020-09-05.csv',\n",
              " '/content/drive/My Drive/Health Data/Fitbit/Takeout/Fitbit/Snore and Noise Detect/Snore Details - 2020-08-31.csv',\n",
              " '/content/drive/My Drive/Health Data/Fitbit/Takeout/Fitbit/Snore and Noise Detect/Snore Details - 2020-08-10.csv',\n",
              " '/content/drive/My Drive/Health Data/Fitbit/Takeout/Fitbit/Snore and Noise Detect/Snore Details - 2020-08-09.csv',\n",
              " '/content/drive/My Drive/Health Data/Fitbit/Takeout/Fitbit/Snore and Noise Detect/Snore Details - 2020-08-12.csv',\n",
              " '/content/drive/My Drive/Health Data/Fitbit/Takeout/Fitbit/Snore and Noise Detect/Snore Details - 2020-09-01.csv',\n",
              " '/content/drive/My Drive/Health Data/Fitbit/Takeout/Fitbit/Snore and Noise Detect/Snore Details - 2020-08-08.csv',\n",
              " '/content/drive/My Drive/Health Data/Fitbit/Takeout/Fitbit/Snore and Noise Detect/Snore Details - 2020-08-11.csv',\n",
              " '/content/drive/My Drive/Health Data/Fitbit/Takeout/Fitbit/Snore and Noise Detect/Snore Details - 2020-08-13.csv',\n",
              " '/content/drive/My Drive/Health Data/Fitbit/Takeout/Fitbit/Snore and Noise Detect/Snore Details - 2020-09-04.csv',\n",
              " '/content/drive/My Drive/Health Data/Fitbit/Takeout/Fitbit/Snore and Noise Detect/Snore Details - 2020-08-30.csv',\n",
              " '/content/drive/My Drive/Health Data/Fitbit/Takeout/Fitbit/Snore and Noise Detect/Snore Details - 2020-09-02.csv',\n",
              " '/content/drive/My Drive/Health Data/Fitbit/Takeout/Fitbit/Snore and Noise Detect/Snore Details - 2021-09-19.csv',\n",
              " '/content/drive/My Drive/Health Data/Fitbit/Takeout/Fitbit/Snore and Noise Detect/Snore Details - 2021-09-21.csv',\n",
              " '/content/drive/My Drive/Health Data/Fitbit/Takeout/Fitbit/Snore and Noise Detect/Snore Details - 2021-09-29.csv',\n",
              " '/content/drive/My Drive/Health Data/Fitbit/Takeout/Fitbit/Snore and Noise Detect/Snore Details - 2021-09-18.csv',\n",
              " '/content/drive/My Drive/Health Data/Fitbit/Takeout/Fitbit/Snore and Noise Detect/Snore Details - 2021-09-24.csv',\n",
              " '/content/drive/My Drive/Health Data/Fitbit/Takeout/Fitbit/Snore and Noise Detect/Snore Details - 2021-09-28.csv',\n",
              " '/content/drive/My Drive/Health Data/Fitbit/Takeout/Fitbit/Snore and Noise Detect/Snore Details - 2021-10-02.csv',\n",
              " '/content/drive/My Drive/Health Data/Fitbit/Takeout/Fitbit/Snore and Noise Detect/Snore Details - 2021-09-26.csv',\n",
              " '/content/drive/My Drive/Health Data/Fitbit/Takeout/Fitbit/Snore and Noise Detect/Snore Details - 2021-10-01.csv',\n",
              " '/content/drive/My Drive/Health Data/Fitbit/Takeout/Fitbit/Snore and Noise Detect/Snore Details - 2021-09-17.csv',\n",
              " '/content/drive/My Drive/Health Data/Fitbit/Takeout/Fitbit/Snore and Noise Detect/Snore Details - 2021-09-16.csv',\n",
              " '/content/drive/My Drive/Health Data/Fitbit/Takeout/Fitbit/Snore and Noise Detect/Snore Details - 2021-09-27.csv',\n",
              " '/content/drive/My Drive/Health Data/Fitbit/Takeout/Fitbit/Snore and Noise Detect/Snore Details - 2021-09-20.csv',\n",
              " '/content/drive/My Drive/Health Data/Fitbit/Takeout/Fitbit/Snore and Noise Detect/Snore Details - 2021-09-30.csv',\n",
              " '/content/drive/My Drive/Health Data/Fitbit/Takeout/Fitbit/Snore and Noise Detect/Snore Details - 2021-09-22.csv',\n",
              " '/content/drive/My Drive/Health Data/Fitbit/Takeout/Fitbit/Snore and Noise Detect/Snore Details - 2021-09-25.csv',\n",
              " '/content/drive/My Drive/Health Data/Fitbit/Takeout/Fitbit/Snore and Noise Detect/Snore Details - 2021-10-03.csv',\n",
              " '/content/drive/My Drive/Health Data/Fitbit/Takeout/Fitbit/Snore and Noise Detect/Snore Details - 2021-09-23.csv',\n",
              " '/content/drive/My Drive/Health Data/Fitbit/Takeout/Fitbit/Snore and Noise Detect/Snore Details - 2021-10-04.csv',\n",
              " '/content/drive/My Drive/Health Data/Fitbit/Takeout/Fitbit/Snore and Noise Detect/Snore Details - 2021-10-08.csv',\n",
              " '/content/drive/My Drive/Health Data/Fitbit/Takeout/Fitbit/Snore and Noise Detect/Snore Details - 2021-10-06.csv',\n",
              " '/content/drive/My Drive/Health Data/Fitbit/Takeout/Fitbit/Snore and Noise Detect/Snore Details - 2021-10-09.csv',\n",
              " '/content/drive/My Drive/Health Data/Fitbit/Takeout/Fitbit/Snore and Noise Detect/Snore Details - 2021-10-07.csv',\n",
              " '/content/drive/My Drive/Health Data/Fitbit/Takeout/Fitbit/Snore and Noise Detect/Snore Details - 2021-10-05.csv',\n",
              " '/content/drive/My Drive/Health Data/Fitbit/Takeout/Fitbit/Snore and Noise Detect/Snore Details - 2022-09-07.csv',\n",
              " '/content/drive/My Drive/Health Data/Fitbit/Takeout/Fitbit/Snore and Noise Detect/Snore Details - 2022-09-08.csv',\n",
              " '/content/drive/My Drive/Health Data/Fitbit/Takeout/Fitbit/Snore and Noise Detect/Snore Details - 2022-09-14.csv',\n",
              " '/content/drive/My Drive/Health Data/Fitbit/Takeout/Fitbit/Snore and Noise Detect/Snore Details - 2022-09-23.csv',\n",
              " '/content/drive/My Drive/Health Data/Fitbit/Takeout/Fitbit/Snore and Noise Detect/Snore Details - 2022-09-18.csv',\n",
              " '/content/drive/My Drive/Health Data/Fitbit/Takeout/Fitbit/Snore and Noise Detect/Snore Details - 2022-09-10.csv',\n",
              " '/content/drive/My Drive/Health Data/Fitbit/Takeout/Fitbit/Snore and Noise Detect/Snore Details - 2022-09-15.csv',\n",
              " '/content/drive/My Drive/Health Data/Fitbit/Takeout/Fitbit/Snore and Noise Detect/Snore Details - 2022-09-13.csv',\n",
              " '/content/drive/My Drive/Health Data/Fitbit/Takeout/Fitbit/Snore and Noise Detect/Snore Details - 2022-09-19.csv',\n",
              " '/content/drive/My Drive/Health Data/Fitbit/Takeout/Fitbit/Snore and Noise Detect/Snore Details - 2022-09-27.csv',\n",
              " '/content/drive/My Drive/Health Data/Fitbit/Takeout/Fitbit/Snore and Noise Detect/Snore Details - 2022-09-12.csv',\n",
              " '/content/drive/My Drive/Health Data/Fitbit/Takeout/Fitbit/Snore and Noise Detect/Snore Details - 2022-09-17.csv',\n",
              " '/content/drive/My Drive/Health Data/Fitbit/Takeout/Fitbit/Snore and Noise Detect/Snore Details - 2022-09-21.csv',\n",
              " '/content/drive/My Drive/Health Data/Fitbit/Takeout/Fitbit/Snore and Noise Detect/Snore Details - 2022-09-25.csv',\n",
              " '/content/drive/My Drive/Health Data/Fitbit/Takeout/Fitbit/Snore and Noise Detect/Snore Details - 2022-09-20.csv',\n",
              " '/content/drive/My Drive/Health Data/Fitbit/Takeout/Fitbit/Snore and Noise Detect/Snore Details - 2022-09-22.csv',\n",
              " '/content/drive/My Drive/Health Data/Fitbit/Takeout/Fitbit/Snore and Noise Detect/Snore Details - 2022-09-16.csv',\n",
              " '/content/drive/My Drive/Health Data/Fitbit/Takeout/Fitbit/Snore and Noise Detect/Snore Details - 2022-09-24.csv',\n",
              " '/content/drive/My Drive/Health Data/Fitbit/Takeout/Fitbit/Snore and Noise Detect/Snore Details - 2022-09-11.csv',\n",
              " '/content/drive/My Drive/Health Data/Fitbit/Takeout/Fitbit/Snore and Noise Detect/Snore Details - 2022-09-26.csv',\n",
              " '/content/drive/My Drive/Health Data/Fitbit/Takeout/Fitbit/Snore and Noise Detect/Snore Details - 2022-09-28.csv',\n",
              " '/content/drive/My Drive/Health Data/Fitbit/Takeout/Fitbit/Snore and Noise Detect/Snore Details - 2022-10-02.csv',\n",
              " '/content/drive/My Drive/Health Data/Fitbit/Takeout/Fitbit/Snore and Noise Detect/Snore Details - 2022-10-07.csv',\n",
              " '/content/drive/My Drive/Health Data/Fitbit/Takeout/Fitbit/Snore and Noise Detect/Snore Details - 2022-10-13.csv',\n",
              " '/content/drive/My Drive/Health Data/Fitbit/Takeout/Fitbit/Snore and Noise Detect/Snore Details - 2022-10-16.csv',\n",
              " '/content/drive/My Drive/Health Data/Fitbit/Takeout/Fitbit/Snore and Noise Detect/Snore Details - 2022-10-19.csv',\n",
              " '/content/drive/My Drive/Health Data/Fitbit/Takeout/Fitbit/Snore and Noise Detect/Snore Details - 2022-10-06.csv',\n",
              " '/content/drive/My Drive/Health Data/Fitbit/Takeout/Fitbit/Snore and Noise Detect/Snore Details - 2022-10-17.csv',\n",
              " '/content/drive/My Drive/Health Data/Fitbit/Takeout/Fitbit/Snore and Noise Detect/Snore Details - 2022-10-15.csv',\n",
              " '/content/drive/My Drive/Health Data/Fitbit/Takeout/Fitbit/Snore and Noise Detect/Snore Details - 2022-10-14.csv',\n",
              " '/content/drive/My Drive/Health Data/Fitbit/Takeout/Fitbit/Snore and Noise Detect/Snore Details - 2022-10-11.csv',\n",
              " '/content/drive/My Drive/Health Data/Fitbit/Takeout/Fitbit/Snore and Noise Detect/Snore Details - 2022-10-10.csv',\n",
              " '/content/drive/My Drive/Health Data/Fitbit/Takeout/Fitbit/Snore and Noise Detect/Snore Details - 2022-10-01.csv',\n",
              " '/content/drive/My Drive/Health Data/Fitbit/Takeout/Fitbit/Snore and Noise Detect/Snore Details - 2022-10-03.csv',\n",
              " '/content/drive/My Drive/Health Data/Fitbit/Takeout/Fitbit/Snore and Noise Detect/Snore Details - 2022-09-29.csv',\n",
              " '/content/drive/My Drive/Health Data/Fitbit/Takeout/Fitbit/Snore and Noise Detect/Snore Details - 2022-09-30.csv',\n",
              " '/content/drive/My Drive/Health Data/Fitbit/Takeout/Fitbit/Snore and Noise Detect/Snore Details - 2022-10-08.csv',\n",
              " '/content/drive/My Drive/Health Data/Fitbit/Takeout/Fitbit/Snore and Noise Detect/Snore Details - 2022-10-09.csv',\n",
              " '/content/drive/My Drive/Health Data/Fitbit/Takeout/Fitbit/Snore and Noise Detect/Snore Details - 2022-10-12.csv',\n",
              " '/content/drive/My Drive/Health Data/Fitbit/Takeout/Fitbit/Snore and Noise Detect/Snore Details - 2022-10-22.csv',\n",
              " '/content/drive/My Drive/Health Data/Fitbit/Takeout/Fitbit/Snore and Noise Detect/Snore Details - 2022-10-21.csv',\n",
              " '/content/drive/My Drive/Health Data/Fitbit/Takeout/Fitbit/Snore and Noise Detect/Snore Details - 2022-10-18.csv',\n",
              " '/content/drive/My Drive/Health Data/Fitbit/Takeout/Fitbit/Snore and Noise Detect/Snore Details - 2022-10-20.csv',\n",
              " '/content/drive/My Drive/Health Data/Fitbit/Takeout/Fitbit/Snore and Noise Detect/Snore Details - 2022-10-23.csv',\n",
              " '/content/drive/My Drive/Health Data/Fitbit/Takeout/Fitbit/Oxygen Saturation (SpO2)/Minute SpO2 - 2020-10-04.csv',\n",
              " '/content/drive/My Drive/Health Data/Fitbit/Takeout/Fitbit/Oxygen Saturation (SpO2)/Minute SpO2 - 2020-10-06.csv',\n",
              " '/content/drive/My Drive/Health Data/Fitbit/Takeout/Fitbit/Oxygen Saturation (SpO2)/Minute SpO2 - 2020-11-02.csv',\n",
              " '/content/drive/My Drive/Health Data/Fitbit/Takeout/Fitbit/Oxygen Saturation (SpO2)/Minute SpO2 - 2020-10-05.csv',\n",
              " '/content/drive/My Drive/Health Data/Fitbit/Takeout/Fitbit/Oxygen Saturation (SpO2)/Minute SpO2 - 2020-10-23.csv',\n",
              " '/content/drive/My Drive/Health Data/Fitbit/Takeout/Fitbit/Oxygen Saturation (SpO2)/Minute SpO2 - 2020-10-24.csv',\n",
              " '/content/drive/My Drive/Health Data/Fitbit/Takeout/Fitbit/Oxygen Saturation (SpO2)/Minute SpO2 - 2020-11-03.csv',\n",
              " '/content/drive/My Drive/Health Data/Fitbit/Takeout/Fitbit/Oxygen Saturation (SpO2)/Minute SpO2 - 2020-10-30.csv',\n",
              " '/content/drive/My Drive/Health Data/Fitbit/Takeout/Fitbit/Oxygen Saturation (SpO2)/Minute SpO2 - 2021-01-18.csv',\n",
              " '/content/drive/My Drive/Health Data/Fitbit/Takeout/Fitbit/Oxygen Saturation (SpO2)/Minute SpO2 - 2021-02-03.csv',\n",
              " '/content/drive/My Drive/Health Data/Fitbit/Takeout/Fitbit/Oxygen Saturation (SpO2)/Minute SpO2 - 2021-01-26.csv',\n",
              " '/content/drive/My Drive/Health Data/Fitbit/Takeout/Fitbit/Oxygen Saturation (SpO2)/Minute SpO2 - 2021-01-13.csv',\n",
              " '/content/drive/My Drive/Health Data/Fitbit/Takeout/Fitbit/Oxygen Saturation (SpO2)/Minute SpO2 - 2021-01-07.csv',\n",
              " '/content/drive/My Drive/Health Data/Fitbit/Takeout/Fitbit/Oxygen Saturation (SpO2)/Minute SpO2 - 2021-01-11.csv',\n",
              " '/content/drive/My Drive/Health Data/Fitbit/Takeout/Fitbit/Oxygen Saturation (SpO2)/Minute SpO2 - 2021-02-08.csv',\n",
              " '/content/drive/My Drive/Health Data/Fitbit/Takeout/Fitbit/Oxygen Saturation (SpO2)/Minute SpO2 - 2021-02-05.csv',\n",
              " '/content/drive/My Drive/Health Data/Fitbit/Takeout/Fitbit/Oxygen Saturation (SpO2)/Minute SpO2 - 2021-01-27.csv',\n",
              " '/content/drive/My Drive/Health Data/Fitbit/Takeout/Fitbit/Oxygen Saturation (SpO2)/Minute SpO2 - 2021-01-19.csv',\n",
              " '/content/drive/My Drive/Health Data/Fitbit/Takeout/Fitbit/Oxygen Saturation (SpO2)/Minute SpO2 - 2021-01-09.csv',\n",
              " '/content/drive/My Drive/Health Data/Fitbit/Takeout/Fitbit/Oxygen Saturation (SpO2)/Minute SpO2 - 2021-01-21.csv',\n",
              " '/content/drive/My Drive/Health Data/Fitbit/Takeout/Fitbit/Oxygen Saturation (SpO2)/Minute SpO2 - 2021-01-06.csv',\n",
              " '/content/drive/My Drive/Health Data/Fitbit/Takeout/Fitbit/Oxygen Saturation (SpO2)/Minute SpO2 - 2021-01-24.csv',\n",
              " '/content/drive/My Drive/Health Data/Fitbit/Takeout/Fitbit/Oxygen Saturation (SpO2)/Minute SpO2 - 2021-01-05.csv',\n",
              " '/content/drive/My Drive/Health Data/Fitbit/Takeout/Fitbit/Oxygen Saturation (SpO2)/Minute SpO2 - 2021-01-22.csv',\n",
              " '/content/drive/My Drive/Health Data/Fitbit/Takeout/Fitbit/Oxygen Saturation (SpO2)/Minute SpO2 - 2021-01-14.csv',\n",
              " '/content/drive/My Drive/Health Data/Fitbit/Takeout/Fitbit/Oxygen Saturation (SpO2)/Minute SpO2 - 2021-01-28.csv',\n",
              " '/content/drive/My Drive/Health Data/Fitbit/Takeout/Fitbit/Oxygen Saturation (SpO2)/Minute SpO2 - 2021-01-08.csv',\n",
              " '/content/drive/My Drive/Health Data/Fitbit/Takeout/Fitbit/Oxygen Saturation (SpO2)/Minute SpO2 - 2021-01-12.csv',\n",
              " '/content/drive/My Drive/Health Data/Fitbit/Takeout/Fitbit/Oxygen Saturation (SpO2)/Minute SpO2 - 2021-01-10.csv',\n",
              " '/content/drive/My Drive/Health Data/Fitbit/Takeout/Fitbit/Oxygen Saturation (SpO2)/Minute SpO2 - 2021-01-20.csv',\n",
              " '/content/drive/My Drive/Health Data/Fitbit/Takeout/Fitbit/Oxygen Saturation (SpO2)/Minute SpO2 - 2021-01-15.csv',\n",
              " '/content/drive/My Drive/Health Data/Fitbit/Takeout/Fitbit/Oxygen Saturation (SpO2)/Minute SpO2 - 2021-01-25.csv',\n",
              " '/content/drive/My Drive/Health Data/Fitbit/Takeout/Fitbit/Oxygen Saturation (SpO2)/Minute SpO2 - 2021-01-23.csv',\n",
              " '/content/drive/My Drive/Health Data/Fitbit/Takeout/Fitbit/Oxygen Saturation (SpO2)/Minute SpO2 - 2021-02-18.csv',\n",
              " '/content/drive/My Drive/Health Data/Fitbit/Takeout/Fitbit/Oxygen Saturation (SpO2)/Minute SpO2 - 2021-02-17.csv',\n",
              " '/content/drive/My Drive/Health Data/Fitbit/Takeout/Fitbit/Oxygen Saturation (SpO2)/Minute SpO2 - 2021-02-10.csv',\n",
              " '/content/drive/My Drive/Health Data/Fitbit/Takeout/Fitbit/Oxygen Saturation (SpO2)/Minute SpO2 - 2021-02-19.csv',\n",
              " '/content/drive/My Drive/Health Data/Fitbit/Takeout/Fitbit/Oxygen Saturation (SpO2)/Minute SpO2 - 2021-02-24.csv',\n",
              " '/content/drive/My Drive/Health Data/Fitbit/Takeout/Fitbit/Oxygen Saturation (SpO2)/Minute SpO2 - 2021-02-16.csv',\n",
              " '/content/drive/My Drive/Health Data/Fitbit/Takeout/Fitbit/Oxygen Saturation (SpO2)/Minute SpO2 - 2021-02-09.csv',\n",
              " '/content/drive/My Drive/Health Data/Fitbit/Takeout/Fitbit/Oxygen Saturation (SpO2)/Minute SpO2 - 2021-04-01.csv',\n",
              " '/content/drive/My Drive/Health Data/Fitbit/Takeout/Fitbit/Oxygen Saturation (SpO2)/Minute SpO2 - 2021-05-03.csv',\n",
              " '/content/drive/My Drive/Health Data/Fitbit/Takeout/Fitbit/Oxygen Saturation (SpO2)/Minute SpO2 - 2021-05-13.csv',\n",
              " '/content/drive/My Drive/Health Data/Fitbit/Takeout/Fitbit/Oxygen Saturation (SpO2)/Minute SpO2 - 2021-05-12.csv',\n",
              " '/content/drive/My Drive/Health Data/Fitbit/Takeout/Fitbit/Oxygen Saturation (SpO2)/Minute SpO2 - 2021-05-02.csv',\n",
              " '/content/drive/My Drive/Health Data/Fitbit/Takeout/Fitbit/Oxygen Saturation (SpO2)/Minute SpO2 - 2021-06-03.csv',\n",
              " '/content/drive/My Drive/Health Data/Fitbit/Takeout/Fitbit/Oxygen Saturation (SpO2)/Minute SpO2 - 2021-05-19.csv',\n",
              " '/content/drive/My Drive/Health Data/Fitbit/Takeout/Fitbit/Oxygen Saturation (SpO2)/Minute SpO2 - 2021-05-18.csv',\n",
              " '/content/drive/My Drive/Health Data/Fitbit/Takeout/Fitbit/Oxygen Saturation (SpO2)/Minute SpO2 - 2021-05-17.csv',\n",
              " '/content/drive/My Drive/Health Data/Fitbit/Takeout/Fitbit/Oxygen Saturation (SpO2)/Minute SpO2 - 2021-05-14.csv',\n",
              " '/content/drive/My Drive/Health Data/Fitbit/Takeout/Fitbit/Oxygen Saturation (SpO2)/Minute SpO2 - 2021-06-08.csv',\n",
              " '/content/drive/My Drive/Health Data/Fitbit/Takeout/Fitbit/Oxygen Saturation (SpO2)/Minute SpO2 - 2021-06-02.csv',\n",
              " '/content/drive/My Drive/Health Data/Fitbit/Takeout/Fitbit/Oxygen Saturation (SpO2)/Minute SpO2 - 2021-06-10.csv',\n",
              " '/content/drive/My Drive/Health Data/Fitbit/Takeout/Fitbit/Oxygen Saturation (SpO2)/Minute SpO2 - 2021-06-07.csv',\n",
              " '/content/drive/My Drive/Health Data/Fitbit/Takeout/Fitbit/Oxygen Saturation (SpO2)/Minute SpO2 - 2021-05-04.csv',\n",
              " '/content/drive/My Drive/Health Data/Fitbit/Takeout/Fitbit/Oxygen Saturation (SpO2)/Minute SpO2 - 2021-06-12.csv',\n",
              " '/content/drive/My Drive/Health Data/Fitbit/Takeout/Fitbit/Oxygen Saturation (SpO2)/Minute SpO2 - 2021-06-09.csv',\n",
              " '/content/drive/My Drive/Health Data/Fitbit/Takeout/Fitbit/Oxygen Saturation (SpO2)/Minute SpO2 - 2021-05-15.csv',\n",
              " '/content/drive/My Drive/Health Data/Fitbit/Takeout/Fitbit/Oxygen Saturation (SpO2)/Minute SpO2 - 2021-06-01.csv',\n",
              " '/content/drive/My Drive/Health Data/Fitbit/Takeout/Fitbit/Oxygen Saturation (SpO2)/Minute SpO2 - 2021-04-27.csv',\n",
              " '/content/drive/My Drive/Health Data/Fitbit/Takeout/Fitbit/Oxygen Saturation (SpO2)/Minute SpO2 - 2021-05-05.csv',\n",
              " '/content/drive/My Drive/Health Data/Fitbit/Takeout/Fitbit/Oxygen Saturation (SpO2)/Minute SpO2 - 2021-05-08.csv',\n",
              " '/content/drive/My Drive/Health Data/Fitbit/Takeout/Fitbit/Oxygen Saturation (SpO2)/Minute SpO2 - 2021-04-30.csv',\n",
              " '/content/drive/My Drive/Health Data/Fitbit/Takeout/Fitbit/Oxygen Saturation (SpO2)/Minute SpO2 - 2021-05-10.csv',\n",
              " '/content/drive/My Drive/Health Data/Fitbit/Takeout/Fitbit/Oxygen Saturation (SpO2)/Minute SpO2 - 2021-06-06.csv',\n",
              " '/content/drive/My Drive/Health Data/Fitbit/Takeout/Fitbit/Oxygen Saturation (SpO2)/Minute SpO2 - 2021-05-24.csv',\n",
              " '/content/drive/My Drive/Health Data/Fitbit/Takeout/Fitbit/Oxygen Saturation (SpO2)/Minute SpO2 - 2021-05-26.csv',\n",
              " '/content/drive/My Drive/Health Data/Fitbit/Takeout/Fitbit/Oxygen Saturation (SpO2)/Minute SpO2 - 2021-05-31.csv',\n",
              " '/content/drive/My Drive/Health Data/Fitbit/Takeout/Fitbit/Oxygen Saturation (SpO2)/Minute SpO2 - 2021-05-20.csv',\n",
              " '/content/drive/My Drive/Health Data/Fitbit/Takeout/Fitbit/Oxygen Saturation (SpO2)/Minute SpO2 - 2021-05-22.csv',\n",
              " '/content/drive/My Drive/Health Data/Fitbit/Takeout/Fitbit/Oxygen Saturation (SpO2)/Minute SpO2 - 2021-05-11.csv',\n",
              " '/content/drive/My Drive/Health Data/Fitbit/Takeout/Fitbit/Oxygen Saturation (SpO2)/Minute SpO2 - 2021-04-28.csv',\n",
              " '/content/drive/My Drive/Health Data/Fitbit/Takeout/Fitbit/Oxygen Saturation (SpO2)/Minute SpO2 - 2021-05-25.csv',\n",
              " '/content/drive/My Drive/Health Data/Fitbit/Takeout/Fitbit/Oxygen Saturation (SpO2)/Minute SpO2 - 2021-05-30.csv',\n",
              " '/content/drive/My Drive/Health Data/Fitbit/Takeout/Fitbit/Oxygen Saturation (SpO2)/Minute SpO2 - 2021-05-23.csv',\n",
              " '/content/drive/My Drive/Health Data/Fitbit/Takeout/Fitbit/Oxygen Saturation (SpO2)/Minute SpO2 - 2021-05-07.csv',\n",
              " '/content/drive/My Drive/Health Data/Fitbit/Takeout/Fitbit/Oxygen Saturation (SpO2)/Minute SpO2 - 2021-05-06.csv',\n",
              " '/content/drive/My Drive/Health Data/Fitbit/Takeout/Fitbit/Oxygen Saturation (SpO2)/Minute SpO2 - 2021-06-04.csv',\n",
              " '/content/drive/My Drive/Health Data/Fitbit/Takeout/Fitbit/Oxygen Saturation (SpO2)/Minute SpO2 - 2021-05-16.csv',\n",
              " '/content/drive/My Drive/Health Data/Fitbit/Takeout/Fitbit/Oxygen Saturation (SpO2)/Minute SpO2 - 2021-06-05.csv',\n",
              " '/content/drive/My Drive/Health Data/Fitbit/Takeout/Fitbit/Oxygen Saturation (SpO2)/Minute SpO2 - 2021-05-01.csv',\n",
              " '/content/drive/My Drive/Health Data/Fitbit/Takeout/Fitbit/Oxygen Saturation (SpO2)/Minute SpO2 - 2021-05-27.csv',\n",
              " '/content/drive/My Drive/Health Data/Fitbit/Takeout/Fitbit/Oxygen Saturation (SpO2)/Minute SpO2 - 2021-06-11.csv',\n",
              " '/content/drive/My Drive/Health Data/Fitbit/Takeout/Fitbit/Oxygen Saturation (SpO2)/Minute SpO2 - 2021-07-08.csv',\n",
              " '/content/drive/My Drive/Health Data/Fitbit/Takeout/Fitbit/Oxygen Saturation (SpO2)/Minute SpO2 - 2021-07-23.csv',\n",
              " '/content/drive/My Drive/Health Data/Fitbit/Takeout/Fitbit/Oxygen Saturation (SpO2)/Minute SpO2 - 2021-06-20.csv',\n",
              " '/content/drive/My Drive/Health Data/Fitbit/Takeout/Fitbit/Oxygen Saturation (SpO2)/Minute SpO2 - 2021-07-30.csv',\n",
              " '/content/drive/My Drive/Health Data/Fitbit/Takeout/Fitbit/Oxygen Saturation (SpO2)/Minute SpO2 - 2021-07-28.csv',\n",
              " '/content/drive/My Drive/Health Data/Fitbit/Takeout/Fitbit/Oxygen Saturation (SpO2)/Minute SpO2 - 2021-07-31.csv',\n",
              " '/content/drive/My Drive/Health Data/Fitbit/Takeout/Fitbit/Oxygen Saturation (SpO2)/Minute SpO2 - 2021-08-05.csv',\n",
              " '/content/drive/My Drive/Health Data/Fitbit/Takeout/Fitbit/Oxygen Saturation (SpO2)/Minute SpO2 - 2021-08-04.csv',\n",
              " '/content/drive/My Drive/Health Data/Fitbit/Takeout/Fitbit/Oxygen Saturation (SpO2)/Minute SpO2 - 2021-07-09.csv',\n",
              " '/content/drive/My Drive/Health Data/Fitbit/Takeout/Fitbit/Oxygen Saturation (SpO2)/Minute SpO2 - 2021-06-22.csv',\n",
              " '/content/drive/My Drive/Health Data/Fitbit/Takeout/Fitbit/Oxygen Saturation (SpO2)/Minute SpO2 - 2021-06-30.csv',\n",
              " '/content/drive/My Drive/Health Data/Fitbit/Takeout/Fitbit/Oxygen Saturation (SpO2)/Minute SpO2 - 2021-06-19.csv',\n",
              " '/content/drive/My Drive/Health Data/Fitbit/Takeout/Fitbit/Oxygen Saturation (SpO2)/Minute SpO2 - 2021-08-03.csv',\n",
              " '/content/drive/My Drive/Health Data/Fitbit/Takeout/Fitbit/Oxygen Saturation (SpO2)/Minute SpO2 - 2021-07-27.csv',\n",
              " '/content/drive/My Drive/Health Data/Fitbit/Takeout/Fitbit/Oxygen Saturation (SpO2)/Minute SpO2 - 2021-06-21.csv',\n",
              " '/content/drive/My Drive/Health Data/Fitbit/Takeout/Fitbit/Oxygen Saturation (SpO2)/Minute SpO2 - 2021-06-17.csv',\n",
              " '/content/drive/My Drive/Health Data/Fitbit/Takeout/Fitbit/Oxygen Saturation (SpO2)/Minute SpO2 - 2021-08-06.csv',\n",
              " '/content/drive/My Drive/Health Data/Fitbit/Takeout/Fitbit/Oxygen Saturation (SpO2)/Minute SpO2 - 2021-06-24.csv',\n",
              " '/content/drive/My Drive/Health Data/Fitbit/Takeout/Fitbit/Oxygen Saturation (SpO2)/Minute SpO2 - 2021-06-23.csv',\n",
              " '/content/drive/My Drive/Health Data/Fitbit/Takeout/Fitbit/Oxygen Saturation (SpO2)/Minute SpO2 - 2021-06-16.csv',\n",
              " '/content/drive/My Drive/Health Data/Fitbit/Takeout/Fitbit/Oxygen Saturation (SpO2)/Minute SpO2 - 2021-07-24.csv',\n",
              " '/content/drive/My Drive/Health Data/Fitbit/Takeout/Fitbit/Oxygen Saturation (SpO2)/Minute SpO2 - 2021-07-06.csv',\n",
              " '/content/drive/My Drive/Health Data/Fitbit/Takeout/Fitbit/Oxygen Saturation (SpO2)/Minute SpO2 - 2021-06-18.csv',\n",
              " '/content/drive/My Drive/Health Data/Fitbit/Takeout/Fitbit/Oxygen Saturation (SpO2)/Minute SpO2 - 2021-06-13.csv',\n",
              " '/content/drive/My Drive/Health Data/Fitbit/Takeout/Fitbit/Oxygen Saturation (SpO2)/Minute SpO2 - 2021-06-26.csv',\n",
              " '/content/drive/My Drive/Health Data/Fitbit/Takeout/Fitbit/Oxygen Saturation (SpO2)/Minute SpO2 - 2021-06-27.csv',\n",
              " '/content/drive/My Drive/Health Data/Fitbit/Takeout/Fitbit/Oxygen Saturation (SpO2)/Minute SpO2 - 2021-07-07.csv',\n",
              " '/content/drive/My Drive/Health Data/Fitbit/Takeout/Fitbit/Oxygen Saturation (SpO2)/Minute SpO2 - 2021-07-03.csv',\n",
              " '/content/drive/My Drive/Health Data/Fitbit/Takeout/Fitbit/Oxygen Saturation (SpO2)/Minute SpO2 - 2021-06-29.csv',\n",
              " '/content/drive/My Drive/Health Data/Fitbit/Takeout/Fitbit/Oxygen Saturation (SpO2)/Minute SpO2 - 2021-07-02.csv',\n",
              " '/content/drive/My Drive/Health Data/Fitbit/Takeout/Fitbit/Oxygen Saturation (SpO2)/Minute SpO2 - 2021-06-25.csv',\n",
              " '/content/drive/My Drive/Health Data/Fitbit/Takeout/Fitbit/Oxygen Saturation (SpO2)/Minute SpO2 - 2021-06-28.csv',\n",
              " '/content/drive/My Drive/Health Data/Fitbit/Takeout/Fitbit/Oxygen Saturation (SpO2)/Minute SpO2 - 2021-07-01.csv',\n",
              " '/content/drive/My Drive/Health Data/Fitbit/Takeout/Fitbit/Oxygen Saturation (SpO2)/Minute SpO2 - 2021-06-14.csv',\n",
              " '/content/drive/My Drive/Health Data/Fitbit/Takeout/Fitbit/Oxygen Saturation (SpO2)/Minute SpO2 - 2021-08-02.csv',\n",
              " '/content/drive/My Drive/Health Data/Fitbit/Takeout/Fitbit/Oxygen Saturation (SpO2)/Minute SpO2 - 2021-07-20.csv',\n",
              " '/content/drive/My Drive/Health Data/Fitbit/Takeout/Fitbit/Oxygen Saturation (SpO2)/Minute SpO2 - 2021-08-15.csv',\n",
              " '/content/drive/My Drive/Health Data/Fitbit/Takeout/Fitbit/Oxygen Saturation (SpO2)/Minute SpO2 - 2021-08-13.csv',\n",
              " '/content/drive/My Drive/Health Data/Fitbit/Takeout/Fitbit/Oxygen Saturation (SpO2)/Minute SpO2 - 2021-08-21.csv',\n",
              " '/content/drive/My Drive/Health Data/Fitbit/Takeout/Fitbit/Oxygen Saturation (SpO2)/Minute SpO2 - 2021-08-09.csv',\n",
              " '/content/drive/My Drive/Health Data/Fitbit/Takeout/Fitbit/Oxygen Saturation (SpO2)/Minute SpO2 - 2021-08-27.csv',\n",
              " '/content/drive/My Drive/Health Data/Fitbit/Takeout/Fitbit/Oxygen Saturation (SpO2)/Minute SpO2 - 2021-08-29.csv',\n",
              " '/content/drive/My Drive/Health Data/Fitbit/Takeout/Fitbit/Oxygen Saturation (SpO2)/Minute SpO2 - 2021-08-12.csv',\n",
              " '/content/drive/My Drive/Health Data/Fitbit/Takeout/Fitbit/Oxygen Saturation (SpO2)/Minute SpO2 - 2021-08-07.csv',\n",
              " '/content/drive/My Drive/Health Data/Fitbit/Takeout/Fitbit/Oxygen Saturation (SpO2)/Minute SpO2 - 2021-08-24.csv',\n",
              " '/content/drive/My Drive/Health Data/Fitbit/Takeout/Fitbit/Oxygen Saturation (SpO2)/Minute SpO2 - 2021-08-08.csv',\n",
              " '/content/drive/My Drive/Health Data/Fitbit/Takeout/Fitbit/Oxygen Saturation (SpO2)/Minute SpO2 - 2021-08-11.csv',\n",
              " '/content/drive/My Drive/Health Data/Fitbit/Takeout/Fitbit/Oxygen Saturation (SpO2)/Minute SpO2 - 2021-08-14.csv',\n",
              " '/content/drive/My Drive/Health Data/Fitbit/Takeout/Fitbit/Oxygen Saturation (SpO2)/Minute SpO2 - 2021-08-18.csv',\n",
              " '/content/drive/My Drive/Health Data/Fitbit/Takeout/Fitbit/Oxygen Saturation (SpO2)/Minute SpO2 - 2021-08-19.csv',\n",
              " '/content/drive/My Drive/Health Data/Fitbit/Takeout/Fitbit/Oxygen Saturation (SpO2)/Minute SpO2 - 2021-08-28.csv',\n",
              " '/content/drive/My Drive/Health Data/Fitbit/Takeout/Fitbit/Oxygen Saturation (SpO2)/Minute SpO2 - 2021-08-25.csv',\n",
              " '/content/drive/My Drive/Health Data/Fitbit/Takeout/Fitbit/Oxygen Saturation (SpO2)/Minute SpO2 - 2021-08-22.csv',\n",
              " '/content/drive/My Drive/Health Data/Fitbit/Takeout/Fitbit/Oxygen Saturation (SpO2)/Minute SpO2 - 2021-08-26.csv',\n",
              " '/content/drive/My Drive/Health Data/Fitbit/Takeout/Fitbit/Oxygen Saturation (SpO2)/Minute SpO2 - 2021-08-16.csv',\n",
              " '/content/drive/My Drive/Health Data/Fitbit/Takeout/Fitbit/Oxygen Saturation (SpO2)/Minute SpO2 - 2021-08-30.csv',\n",
              " '/content/drive/My Drive/Health Data/Fitbit/Takeout/Fitbit/Oxygen Saturation (SpO2)/Minute SpO2 - 2021-08-10.csv',\n",
              " '/content/drive/My Drive/Health Data/Fitbit/Takeout/Fitbit/Oxygen Saturation (SpO2)/Minute SpO2 - 2021-08-20.csv',\n",
              " '/content/drive/My Drive/Health Data/Fitbit/Takeout/Fitbit/Oxygen Saturation (SpO2)/Minute SpO2 - 2021-08-23.csv',\n",
              " '/content/drive/My Drive/Health Data/Fitbit/Takeout/Fitbit/Oxygen Saturation (SpO2)/Minute SpO2 - 2021-08-17.csv',\n",
              " '/content/drive/My Drive/Health Data/Fitbit/Takeout/Fitbit/Oxygen Saturation (SpO2)/Minute SpO2 - 2021-09-20.csv',\n",
              " '/content/drive/My Drive/Health Data/Fitbit/Takeout/Fitbit/Oxygen Saturation (SpO2)/Minute SpO2 - 2021-09-28.csv',\n",
              " '/content/drive/My Drive/Health Data/Fitbit/Takeout/Fitbit/Oxygen Saturation (SpO2)/Minute SpO2 - 2021-09-06.csv',\n",
              " '/content/drive/My Drive/Health Data/Fitbit/Takeout/Fitbit/Oxygen Saturation (SpO2)/Minute SpO2 - 2021-09-08.csv',\n",
              " '/content/drive/My Drive/Health Data/Fitbit/Takeout/Fitbit/Oxygen Saturation (SpO2)/Minute SpO2 - 2021-09-14.csv',\n",
              " '/content/drive/My Drive/Health Data/Fitbit/Takeout/Fitbit/Oxygen Saturation (SpO2)/Minute SpO2 - 2021-09-05.csv',\n",
              " '/content/drive/My Drive/Health Data/Fitbit/Takeout/Fitbit/Oxygen Saturation (SpO2)/Minute SpO2 - 2021-09-26.csv',\n",
              " '/content/drive/My Drive/Health Data/Fitbit/Takeout/Fitbit/Oxygen Saturation (SpO2)/Minute SpO2 - 2021-09-10.csv',\n",
              " '/content/drive/My Drive/Health Data/Fitbit/Takeout/Fitbit/Oxygen Saturation (SpO2)/Minute SpO2 - 2021-09-13.csv',\n",
              " '/content/drive/My Drive/Health Data/Fitbit/Takeout/Fitbit/Oxygen Saturation (SpO2)/Minute SpO2 - 2021-09-01.csv',\n",
              " '/content/drive/My Drive/Health Data/Fitbit/Takeout/Fitbit/Oxygen Saturation (SpO2)/Minute SpO2 - 2021-09-21.csv',\n",
              " '/content/drive/My Drive/Health Data/Fitbit/Takeout/Fitbit/Oxygen Saturation (SpO2)/Minute SpO2 - 2021-09-12.csv',\n",
              " '/content/drive/My Drive/Health Data/Fitbit/Takeout/Fitbit/Oxygen Saturation (SpO2)/Minute SpO2 - 2021-08-31.csv',\n",
              " '/content/drive/My Drive/Health Data/Fitbit/Takeout/Fitbit/Oxygen Saturation (SpO2)/Minute SpO2 - 2021-09-22.csv',\n",
              " '/content/drive/My Drive/Health Data/Fitbit/Takeout/Fitbit/Oxygen Saturation (SpO2)/Minute SpO2 - 2021-09-18.csv',\n",
              " '/content/drive/My Drive/Health Data/Fitbit/Takeout/Fitbit/Oxygen Saturation (SpO2)/Minute SpO2 - 2021-09-04.csv',\n",
              " '/content/drive/My Drive/Health Data/Fitbit/Takeout/Fitbit/Oxygen Saturation (SpO2)/Minute SpO2 - 2021-09-03.csv',\n",
              " '/content/drive/My Drive/Health Data/Fitbit/Takeout/Fitbit/Oxygen Saturation (SpO2)/Minute SpO2 - 2021-09-24.csv',\n",
              " '/content/drive/My Drive/Health Data/Fitbit/Takeout/Fitbit/Oxygen Saturation (SpO2)/Minute SpO2 - 2021-09-29.csv',\n",
              " '/content/drive/My Drive/Health Data/Fitbit/Takeout/Fitbit/Oxygen Saturation (SpO2)/Minute SpO2 - 2021-09-25.csv',\n",
              " '/content/drive/My Drive/Health Data/Fitbit/Takeout/Fitbit/Oxygen Saturation (SpO2)/Minute SpO2 - 2021-09-16.csv',\n",
              " '/content/drive/My Drive/Health Data/Fitbit/Takeout/Fitbit/Oxygen Saturation (SpO2)/Minute SpO2 - 2021-09-23.csv',\n",
              " '/content/drive/My Drive/Health Data/Fitbit/Takeout/Fitbit/Oxygen Saturation (SpO2)/Minute SpO2 - 2021-09-02.csv',\n",
              " '/content/drive/My Drive/Health Data/Fitbit/Takeout/Fitbit/Oxygen Saturation (SpO2)/Minute SpO2 - 2021-09-07.csv',\n",
              " '/content/drive/My Drive/Health Data/Fitbit/Takeout/Fitbit/Oxygen Saturation (SpO2)/Minute SpO2 - 2021-09-17.csv',\n",
              " '/content/drive/My Drive/Health Data/Fitbit/Takeout/Fitbit/Oxygen Saturation (SpO2)/Minute SpO2 - 2021-09-09.csv',\n",
              " '/content/drive/My Drive/Health Data/Fitbit/Takeout/Fitbit/Oxygen Saturation (SpO2)/Minute SpO2 - 2021-09-15.csv',\n",
              " '/content/drive/My Drive/Health Data/Fitbit/Takeout/Fitbit/Oxygen Saturation (SpO2)/Minute SpO2 - 2021-09-11.csv',\n",
              " '/content/drive/My Drive/Health Data/Fitbit/Takeout/Fitbit/Oxygen Saturation (SpO2)/Minute SpO2 - 2021-10-27.csv',\n",
              " '/content/drive/My Drive/Health Data/Fitbit/Takeout/Fitbit/Oxygen Saturation (SpO2)/Minute SpO2 - 2021-10-16.csv',\n",
              " '/content/drive/My Drive/Health Data/Fitbit/Takeout/Fitbit/Oxygen Saturation (SpO2)/Minute SpO2 - 2021-10-11.csv',\n",
              " '/content/drive/My Drive/Health Data/Fitbit/Takeout/Fitbit/Oxygen Saturation (SpO2)/Minute SpO2 - 2021-10-25.csv',\n",
              " '/content/drive/My Drive/Health Data/Fitbit/Takeout/Fitbit/Oxygen Saturation (SpO2)/Minute SpO2 - 2021-10-06.csv',\n",
              " '/content/drive/My Drive/Health Data/Fitbit/Takeout/Fitbit/Oxygen Saturation (SpO2)/Minute SpO2 - 2021-10-28.csv',\n",
              " '/content/drive/My Drive/Health Data/Fitbit/Takeout/Fitbit/Oxygen Saturation (SpO2)/Minute SpO2 - 2021-10-22.csv',\n",
              " '/content/drive/My Drive/Health Data/Fitbit/Takeout/Fitbit/Oxygen Saturation (SpO2)/Minute SpO2 - 2021-11-03.csv',\n",
              " '/content/drive/My Drive/Health Data/Fitbit/Takeout/Fitbit/Oxygen Saturation (SpO2)/Minute SpO2 - 2021-10-19.csv',\n",
              " '/content/drive/My Drive/Health Data/Fitbit/Takeout/Fitbit/Oxygen Saturation (SpO2)/Minute SpO2 - 2021-11-01.csv',\n",
              " '/content/drive/My Drive/Health Data/Fitbit/Takeout/Fitbit/Oxygen Saturation (SpO2)/Minute SpO2 - 2021-10-18.csv',\n",
              " '/content/drive/My Drive/Health Data/Fitbit/Takeout/Fitbit/Oxygen Saturation (SpO2)/Minute SpO2 - 2021-11-08.csv',\n",
              " '/content/drive/My Drive/Health Data/Fitbit/Takeout/Fitbit/Oxygen Saturation (SpO2)/Minute SpO2 - 2021-10-23.csv',\n",
              " '/content/drive/My Drive/Health Data/Fitbit/Takeout/Fitbit/Oxygen Saturation (SpO2)/Minute SpO2 - 2021-10-08.csv',\n",
              " '/content/drive/My Drive/Health Data/Fitbit/Takeout/Fitbit/Oxygen Saturation (SpO2)/Minute SpO2 - 2021-10-10.csv',\n",
              " '/content/drive/My Drive/Health Data/Fitbit/Takeout/Fitbit/Oxygen Saturation (SpO2)/Minute SpO2 - 2021-10-07.csv',\n",
              " '/content/drive/My Drive/Health Data/Fitbit/Takeout/Fitbit/Oxygen Saturation (SpO2)/Minute SpO2 - 2021-11-07.csv',\n",
              " '/content/drive/My Drive/Health Data/Fitbit/Takeout/Fitbit/Oxygen Saturation (SpO2)/Minute SpO2 - 2021-10-13.csv',\n",
              " '/content/drive/My Drive/Health Data/Fitbit/Takeout/Fitbit/Oxygen Saturation (SpO2)/Minute SpO2 - 2021-10-05.csv',\n",
              " '/content/drive/My Drive/Health Data/Fitbit/Takeout/Fitbit/Oxygen Saturation (SpO2)/Minute SpO2 - 2021-10-29.csv',\n",
              " '/content/drive/My Drive/Health Data/Fitbit/Takeout/Fitbit/Oxygen Saturation (SpO2)/Minute SpO2 - 2021-10-04.csv',\n",
              " '/content/drive/My Drive/Health Data/Fitbit/Takeout/Fitbit/Oxygen Saturation (SpO2)/Minute SpO2 - 2021-11-02.csv',\n",
              " '/content/drive/My Drive/Health Data/Fitbit/Takeout/Fitbit/Oxygen Saturation (SpO2)/Minute SpO2 - 2021-10-14.csv',\n",
              " '/content/drive/My Drive/Health Data/Fitbit/Takeout/Fitbit/Oxygen Saturation (SpO2)/Minute SpO2 - 2021-10-12.csv',\n",
              " '/content/drive/My Drive/Health Data/Fitbit/Takeout/Fitbit/Oxygen Saturation (SpO2)/Minute SpO2 - 2021-09-27.csv',\n",
              " '/content/drive/My Drive/Health Data/Fitbit/Takeout/Fitbit/Oxygen Saturation (SpO2)/Minute SpO2 - 2021-10-09.csv',\n",
              " '/content/drive/My Drive/Health Data/Fitbit/Takeout/Fitbit/Oxygen Saturation (SpO2)/Minute SpO2 - 2021-10-17.csv',\n",
              " '/content/drive/My Drive/Health Data/Fitbit/Takeout/Fitbit/Oxygen Saturation (SpO2)/Minute SpO2 - 2021-10-26.csv',\n",
              " '/content/drive/My Drive/Health Data/Fitbit/Takeout/Fitbit/Oxygen Saturation (SpO2)/Minute SpO2 - 2021-11-10.csv',\n",
              " '/content/drive/My Drive/Health Data/Fitbit/Takeout/Fitbit/Oxygen Saturation (SpO2)/Minute SpO2 - 2021-10-21.csv',\n",
              " '/content/drive/My Drive/Health Data/Fitbit/Takeout/Fitbit/Oxygen Saturation (SpO2)/Minute SpO2 - 2021-10-15.csv',\n",
              " '/content/drive/My Drive/Health Data/Fitbit/Takeout/Fitbit/Oxygen Saturation (SpO2)/Minute SpO2 - 2021-11-04.csv',\n",
              " '/content/drive/My Drive/Health Data/Fitbit/Takeout/Fitbit/Oxygen Saturation (SpO2)/Minute SpO2 - 2021-10-02.csv',\n",
              " '/content/drive/My Drive/Health Data/Fitbit/Takeout/Fitbit/Oxygen Saturation (SpO2)/Minute SpO2 - 2021-11-06.csv',\n",
              " '/content/drive/My Drive/Health Data/Fitbit/Takeout/Fitbit/Oxygen Saturation (SpO2)/Minute SpO2 - 2021-10-30.csv',\n",
              " '/content/drive/My Drive/Health Data/Fitbit/Takeout/Fitbit/Oxygen Saturation (SpO2)/Minute SpO2 - 2021-11-29.csv',\n",
              " '/content/drive/My Drive/Health Data/Fitbit/Takeout/Fitbit/Oxygen Saturation (SpO2)/Minute SpO2 - 2021-11-12.csv',\n",
              " '/content/drive/My Drive/Health Data/Fitbit/Takeout/Fitbit/Oxygen Saturation (SpO2)/Minute SpO2 - 2021-12-10.csv',\n",
              " '/content/drive/My Drive/Health Data/Fitbit/Takeout/Fitbit/Oxygen Saturation (SpO2)/Minute SpO2 - 2021-11-17.csv',\n",
              " '/content/drive/My Drive/Health Data/Fitbit/Takeout/Fitbit/Oxygen Saturation (SpO2)/Minute SpO2 - 2021-11-20.csv',\n",
              " '/content/drive/My Drive/Health Data/Fitbit/Takeout/Fitbit/Oxygen Saturation (SpO2)/Minute SpO2 - 2021-11-19.csv',\n",
              " '/content/drive/My Drive/Health Data/Fitbit/Takeout/Fitbit/Oxygen Saturation (SpO2)/Minute SpO2 - 2021-12-12.csv',\n",
              " '/content/drive/My Drive/Health Data/Fitbit/Takeout/Fitbit/Oxygen Saturation (SpO2)/Minute SpO2 - 2021-12-14.csv',\n",
              " '/content/drive/My Drive/Health Data/Fitbit/Takeout/Fitbit/Oxygen Saturation (SpO2)/Minute SpO2 - 2021-12-09.csv',\n",
              " '/content/drive/My Drive/Health Data/Fitbit/Takeout/Fitbit/Oxygen Saturation (SpO2)/Minute SpO2 - 2021-12-13.csv',\n",
              " '/content/drive/My Drive/Health Data/Fitbit/Takeout/Fitbit/Oxygen Saturation (SpO2)/Minute SpO2 - 2021-11-26.csv',\n",
              " '/content/drive/My Drive/Health Data/Fitbit/Takeout/Fitbit/Oxygen Saturation (SpO2)/Minute SpO2 - 2021-12-08.csv',\n",
              " '/content/drive/My Drive/Health Data/Fitbit/Takeout/Fitbit/Oxygen Saturation (SpO2)/Minute SpO2 - 2021-12-02.csv',\n",
              " '/content/drive/My Drive/Health Data/Fitbit/Takeout/Fitbit/Oxygen Saturation (SpO2)/Minute SpO2 - 2021-12-04.csv',\n",
              " '/content/drive/My Drive/Health Data/Fitbit/Takeout/Fitbit/Oxygen Saturation (SpO2)/Minute SpO2 - 2021-11-30.csv',\n",
              " '/content/drive/My Drive/Health Data/Fitbit/Takeout/Fitbit/Oxygen Saturation (SpO2)/Minute SpO2 - 2021-11-16.csv',\n",
              " '/content/drive/My Drive/Health Data/Fitbit/Takeout/Fitbit/Oxygen Saturation (SpO2)/Minute SpO2 - 2021-11-21.csv',\n",
              " '/content/drive/My Drive/Health Data/Fitbit/Takeout/Fitbit/Oxygen Saturation (SpO2)/Minute SpO2 - 2021-11-11.csv',\n",
              " '/content/drive/My Drive/Health Data/Fitbit/Takeout/Fitbit/Oxygen Saturation (SpO2)/Minute SpO2 - 2021-11-24.csv',\n",
              " '/content/drive/My Drive/Health Data/Fitbit/Takeout/Fitbit/Oxygen Saturation (SpO2)/Minute SpO2 - 2021-12-06.csv',\n",
              " '/content/drive/My Drive/Health Data/Fitbit/Takeout/Fitbit/Oxygen Saturation (SpO2)/Minute SpO2 - 2021-12-17.csv',\n",
              " '/content/drive/My Drive/Health Data/Fitbit/Takeout/Fitbit/Oxygen Saturation (SpO2)/Minute SpO2 - 2021-11-14.csv',\n",
              " '/content/drive/My Drive/Health Data/Fitbit/Takeout/Fitbit/Oxygen Saturation (SpO2)/Minute SpO2 - 2021-11-13.csv',\n",
              " '/content/drive/My Drive/Health Data/Fitbit/Takeout/Fitbit/Oxygen Saturation (SpO2)/Minute SpO2 - 2021-11-18.csv',\n",
              " '/content/drive/My Drive/Health Data/Fitbit/Takeout/Fitbit/Oxygen Saturation (SpO2)/Minute SpO2 - 2021-12-11.csv',\n",
              " '/content/drive/My Drive/Health Data/Fitbit/Takeout/Fitbit/Oxygen Saturation (SpO2)/Minute SpO2 - 2021-11-09.csv',\n",
              " '/content/drive/My Drive/Health Data/Fitbit/Takeout/Fitbit/Oxygen Saturation (SpO2)/Minute SpO2 - 2022-01-03.csv',\n",
              " '/content/drive/My Drive/Health Data/Fitbit/Takeout/Fitbit/Oxygen Saturation (SpO2)/Minute SpO2 - 2021-12-26.csv',\n",
              " '/content/drive/My Drive/Health Data/Fitbit/Takeout/Fitbit/Oxygen Saturation (SpO2)/Minute SpO2 - 2021-12-20.csv',\n",
              " '/content/drive/My Drive/Health Data/Fitbit/Takeout/Fitbit/Oxygen Saturation (SpO2)/Minute SpO2 - 2021-12-24.csv',\n",
              " '/content/drive/My Drive/Health Data/Fitbit/Takeout/Fitbit/Oxygen Saturation (SpO2)/Minute SpO2 - 2022-01-05.csv',\n",
              " '/content/drive/My Drive/Health Data/Fitbit/Takeout/Fitbit/Oxygen Saturation (SpO2)/Minute SpO2 - 2022-01-19.csv',\n",
              " '/content/drive/My Drive/Health Data/Fitbit/Takeout/Fitbit/Oxygen Saturation (SpO2)/Minute SpO2 - 2021-11-23.csv',\n",
              " '/content/drive/My Drive/Health Data/Fitbit/Takeout/Fitbit/Oxygen Saturation (SpO2)/Minute SpO2 - 2022-01-08.csv',\n",
              " '/content/drive/My Drive/Health Data/Fitbit/Takeout/Fitbit/Oxygen Saturation (SpO2)/Minute SpO2 - 2022-01-21.csv',\n",
              " '/content/drive/My Drive/Health Data/Fitbit/Takeout/Fitbit/Oxygen Saturation (SpO2)/Minute SpO2 - 2022-01-10.csv',\n",
              " '/content/drive/My Drive/Health Data/Fitbit/Takeout/Fitbit/Oxygen Saturation (SpO2)/Minute SpO2 - 2022-01-14.csv',\n",
              " '/content/drive/My Drive/Health Data/Fitbit/Takeout/Fitbit/Oxygen Saturation (SpO2)/Minute SpO2 - 2021-12-22.csv',\n",
              " '/content/drive/My Drive/Health Data/Fitbit/Takeout/Fitbit/Oxygen Saturation (SpO2)/Minute SpO2 - 2021-12-18.csv',\n",
              " '/content/drive/My Drive/Health Data/Fitbit/Takeout/Fitbit/Oxygen Saturation (SpO2)/Minute SpO2 - 2021-12-30.csv',\n",
              " '/content/drive/My Drive/Health Data/Fitbit/Takeout/Fitbit/Oxygen Saturation (SpO2)/Minute SpO2 - 2021-12-19.csv',\n",
              " '/content/drive/My Drive/Health Data/Fitbit/Takeout/Fitbit/Oxygen Saturation (SpO2)/Minute SpO2 - 2022-01-07.csv',\n",
              " '/content/drive/My Drive/Health Data/Fitbit/Takeout/Fitbit/Oxygen Saturation (SpO2)/Minute SpO2 - 2022-01-06.csv',\n",
              " '/content/drive/My Drive/Health Data/Fitbit/Takeout/Fitbit/Oxygen Saturation (SpO2)/Minute SpO2 - 2022-01-22.csv',\n",
              " '/content/drive/My Drive/Health Data/Fitbit/Takeout/Fitbit/Oxygen Saturation (SpO2)/Minute SpO2 - 2022-01-18.csv',\n",
              " '/content/drive/My Drive/Health Data/Fitbit/Takeout/Fitbit/Oxygen Saturation (SpO2)/Minute SpO2 - 2022-01-04.csv',\n",
              " '/content/drive/My Drive/Health Data/Fitbit/Takeout/Fitbit/Oxygen Saturation (SpO2)/Minute SpO2 - 2022-01-09.csv',\n",
              " '/content/drive/My Drive/Health Data/Fitbit/Takeout/Fitbit/Oxygen Saturation (SpO2)/Minute SpO2 - 2022-01-17.csv',\n",
              " '/content/drive/My Drive/Health Data/Fitbit/Takeout/Fitbit/Oxygen Saturation (SpO2)/Minute SpO2 - 2021-12-23.csv',\n",
              " '/content/drive/My Drive/Health Data/Fitbit/Takeout/Fitbit/Oxygen Saturation (SpO2)/Minute SpO2 - 2022-01-20.csv',\n",
              " '/content/drive/My Drive/Health Data/Fitbit/Takeout/Fitbit/Oxygen Saturation (SpO2)/Minute SpO2 - 2022-01-12.csv',\n",
              " '/content/drive/My Drive/Health Data/Fitbit/Takeout/Fitbit/Oxygen Saturation (SpO2)/Minute SpO2 - 2021-12-31.csv',\n",
              " '/content/drive/My Drive/Health Data/Fitbit/Takeout/Fitbit/Oxygen Saturation (SpO2)/Minute SpO2 - 2022-01-13.csv',\n",
              " '/content/drive/My Drive/Health Data/Fitbit/Takeout/Fitbit/Oxygen Saturation (SpO2)/Minute SpO2 - 2022-01-15.csv',\n",
              " '/content/drive/My Drive/Health Data/Fitbit/Takeout/Fitbit/Oxygen Saturation (SpO2)/Minute SpO2 - 2022-02-08.csv',\n",
              " '/content/drive/My Drive/Health Data/Fitbit/Takeout/Fitbit/Oxygen Saturation (SpO2)/Minute SpO2 - 2022-01-26.csv',\n",
              " '/content/drive/My Drive/Health Data/Fitbit/Takeout/Fitbit/Oxygen Saturation (SpO2)/Minute SpO2 - 2022-02-02.csv',\n",
              " '/content/drive/My Drive/Health Data/Fitbit/Takeout/Fitbit/Oxygen Saturation (SpO2)/Minute SpO2 - 2022-01-27.csv',\n",
              " '/content/drive/My Drive/Health Data/Fitbit/Takeout/Fitbit/Oxygen Saturation (SpO2)/Minute SpO2 - 2022-02-22.csv',\n",
              " '/content/drive/My Drive/Health Data/Fitbit/Takeout/Fitbit/Oxygen Saturation (SpO2)/Minute SpO2 - 2022-02-05.csv',\n",
              " '/content/drive/My Drive/Health Data/Fitbit/Takeout/Fitbit/Oxygen Saturation (SpO2)/Minute SpO2 - 2022-01-31.csv',\n",
              " '/content/drive/My Drive/Health Data/Fitbit/Takeout/Fitbit/Oxygen Saturation (SpO2)/Minute SpO2 - 2022-01-30.csv',\n",
              " '/content/drive/My Drive/Health Data/Fitbit/Takeout/Fitbit/Oxygen Saturation (SpO2)/Minute SpO2 - 2022-02-04.csv',\n",
              " '/content/drive/My Drive/Health Data/Fitbit/Takeout/Fitbit/Oxygen Saturation (SpO2)/Minute SpO2 - 2022-01-25.csv',\n",
              " '/content/drive/My Drive/Health Data/Fitbit/Takeout/Fitbit/Oxygen Saturation (SpO2)/Minute SpO2 - 2022-02-26.csv',\n",
              " '/content/drive/My Drive/Health Data/Fitbit/Takeout/Fitbit/Oxygen Saturation (SpO2)/Minute SpO2 - 2022-02-28.csv',\n",
              " '/content/drive/My Drive/Health Data/Fitbit/Takeout/Fitbit/Oxygen Saturation (SpO2)/Minute SpO2 - 2022-02-27.csv',\n",
              " '/content/drive/My Drive/Health Data/Fitbit/Takeout/Fitbit/Oxygen Saturation (SpO2)/Minute SpO2 - 2022-02-11.csv',\n",
              " '/content/drive/My Drive/Health Data/Fitbit/Takeout/Fitbit/Oxygen Saturation (SpO2)/Minute SpO2 - 2022-02-24.csv',\n",
              " '/content/drive/My Drive/Health Data/Fitbit/Takeout/Fitbit/Oxygen Saturation (SpO2)/Minute SpO2 - 2022-01-24.csv',\n",
              " '/content/drive/My Drive/Health Data/Fitbit/Takeout/Fitbit/Oxygen Saturation (SpO2)/Minute SpO2 - 2022-02-07.csv',\n",
              " '/content/drive/My Drive/Health Data/Fitbit/Takeout/Fitbit/Oxygen Saturation (SpO2)/Minute SpO2 - 2022-02-21.csv',\n",
              " '/content/drive/My Drive/Health Data/Fitbit/Takeout/Fitbit/Oxygen Saturation (SpO2)/Minute SpO2 - 2022-01-23.csv',\n",
              " '/content/drive/My Drive/Health Data/Fitbit/Takeout/Fitbit/Oxygen Saturation (SpO2)/Minute SpO2 - 2022-02-20.csv',\n",
              " '/content/drive/My Drive/Health Data/Fitbit/Takeout/Fitbit/Oxygen Saturation (SpO2)/Minute SpO2 - 2022-02-25.csv',\n",
              " '/content/drive/My Drive/Health Data/Fitbit/Takeout/Fitbit/Oxygen Saturation (SpO2)/Minute SpO2 - 2022-01-28.csv',\n",
              " '/content/drive/My Drive/Health Data/Fitbit/Takeout/Fitbit/Oxygen Saturation (SpO2)/Minute SpO2 - 2022-02-06.csv',\n",
              " '/content/drive/My Drive/Health Data/Fitbit/Takeout/Fitbit/Oxygen Saturation (SpO2)/Minute SpO2 - 2022-02-09.csv',\n",
              " '/content/drive/My Drive/Health Data/Fitbit/Takeout/Fitbit/Oxygen Saturation (SpO2)/Minute SpO2 - 2022-01-29.csv',\n",
              " '/content/drive/My Drive/Health Data/Fitbit/Takeout/Fitbit/Oxygen Saturation (SpO2)/Minute SpO2 - 2022-03-01.csv',\n",
              " '/content/drive/My Drive/Health Data/Fitbit/Takeout/Fitbit/Oxygen Saturation (SpO2)/Minute SpO2 - 2022-02-01.csv',\n",
              " '/content/drive/My Drive/Health Data/Fitbit/Takeout/Fitbit/Oxygen Saturation (SpO2)/Minute SpO2 - 2022-03-23.csv',\n",
              " '/content/drive/My Drive/Health Data/Fitbit/Takeout/Fitbit/Oxygen Saturation (SpO2)/Minute SpO2 - 2022-03-26.csv',\n",
              " '/content/drive/My Drive/Health Data/Fitbit/Takeout/Fitbit/Oxygen Saturation (SpO2)/Minute SpO2 - 2022-03-10.csv',\n",
              " '/content/drive/My Drive/Health Data/Fitbit/Takeout/Fitbit/Oxygen Saturation (SpO2)/Minute SpO2 - 2022-03-17.csv',\n",
              " '/content/drive/My Drive/Health Data/Fitbit/Takeout/Fitbit/Oxygen Saturation (SpO2)/Minute SpO2 - 2022-03-25.csv',\n",
              " '/content/drive/My Drive/Health Data/Fitbit/Takeout/Fitbit/Oxygen Saturation (SpO2)/Minute SpO2 - 2022-03-08.csv',\n",
              " '/content/drive/My Drive/Health Data/Fitbit/Takeout/Fitbit/Oxygen Saturation (SpO2)/Minute SpO2 - 2022-03-02.csv',\n",
              " '/content/drive/My Drive/Health Data/Fitbit/Takeout/Fitbit/Oxygen Saturation (SpO2)/Minute SpO2 - 2022-03-31.csv',\n",
              " '/content/drive/My Drive/Health Data/Fitbit/Takeout/Fitbit/Oxygen Saturation (SpO2)/Minute SpO2 - 2022-03-27.csv',\n",
              " '/content/drive/My Drive/Health Data/Fitbit/Takeout/Fitbit/Oxygen Saturation (SpO2)/Minute SpO2 - 2022-04-01.csv',\n",
              " '/content/drive/My Drive/Health Data/Fitbit/Takeout/Fitbit/Oxygen Saturation (SpO2)/Minute SpO2 - 2022-03-04.csv',\n",
              " '/content/drive/My Drive/Health Data/Fitbit/Takeout/Fitbit/Oxygen Saturation (SpO2)/Minute SpO2 - 2022-03-24.csv',\n",
              " '/content/drive/My Drive/Health Data/Fitbit/Takeout/Fitbit/Oxygen Saturation (SpO2)/Minute SpO2 - 2022-03-09.csv',\n",
              " '/content/drive/My Drive/Health Data/Fitbit/Takeout/Fitbit/Oxygen Saturation (SpO2)/Minute SpO2 - 2022-03-05.csv',\n",
              " '/content/drive/My Drive/Health Data/Fitbit/Takeout/Fitbit/Oxygen Saturation (SpO2)/Minute SpO2 - 2022-03-03.csv',\n",
              " '/content/drive/My Drive/Health Data/Fitbit/Takeout/Fitbit/Oxygen Saturation (SpO2)/Minute SpO2 - 2022-03-21.csv',\n",
              " '/content/drive/My Drive/Health Data/Fitbit/Takeout/Fitbit/Oxygen Saturation (SpO2)/Minute SpO2 - 2022-03-28.csv',\n",
              " '/content/drive/My Drive/Health Data/Fitbit/Takeout/Fitbit/Oxygen Saturation (SpO2)/Minute SpO2 - 2022-03-07.csv',\n",
              " '/content/drive/My Drive/Health Data/Fitbit/Takeout/Fitbit/Oxygen Saturation (SpO2)/Minute SpO2 - 2022-03-12.csv',\n",
              " '/content/drive/My Drive/Health Data/Fitbit/Takeout/Fitbit/Oxygen Saturation (SpO2)/Minute SpO2 - 2022-03-06.csv',\n",
              " '/content/drive/My Drive/Health Data/Fitbit/Takeout/Fitbit/Oxygen Saturation (SpO2)/Minute SpO2 - 2022-03-20.csv',\n",
              " '/content/drive/My Drive/Health Data/Fitbit/Takeout/Fitbit/Oxygen Saturation (SpO2)/Minute SpO2 - 2022-03-29.csv',\n",
              " '/content/drive/My Drive/Health Data/Fitbit/Takeout/Fitbit/Oxygen Saturation (SpO2)/Minute SpO2 - 2022-03-30.csv',\n",
              " '/content/drive/My Drive/Health Data/Fitbit/Takeout/Fitbit/Oxygen Saturation (SpO2)/Minute SpO2 - 2022-03-22.csv',\n",
              " '/content/drive/My Drive/Health Data/Fitbit/Takeout/Fitbit/Oxygen Saturation (SpO2)/Minute SpO2 - 2022-03-19.csv',\n",
              " '/content/drive/My Drive/Health Data/Fitbit/Takeout/Fitbit/Oxygen Saturation (SpO2)/Minute SpO2 - 2022-03-18.csv',\n",
              " '/content/drive/My Drive/Health Data/Fitbit/Takeout/Fitbit/Oxygen Saturation (SpO2)/Minute SpO2 - 2022-05-07.csv',\n",
              " '/content/drive/My Drive/Health Data/Fitbit/Takeout/Fitbit/Oxygen Saturation (SpO2)/Minute SpO2 - 2022-04-28.csv',\n",
              " '/content/drive/My Drive/Health Data/Fitbit/Takeout/Fitbit/Oxygen Saturation (SpO2)/Minute SpO2 - 2022-04-25.csv',\n",
              " '/content/drive/My Drive/Health Data/Fitbit/Takeout/Fitbit/Oxygen Saturation (SpO2)/Minute SpO2 - 2022-04-26.csv',\n",
              " '/content/drive/My Drive/Health Data/Fitbit/Takeout/Fitbit/Oxygen Saturation (SpO2)/Minute SpO2 - 2022-04-19.csv',\n",
              " '/content/drive/My Drive/Health Data/Fitbit/Takeout/Fitbit/Oxygen Saturation (SpO2)/Minute SpO2 - 2022-04-13.csv',\n",
              " '/content/drive/My Drive/Health Data/Fitbit/Takeout/Fitbit/Oxygen Saturation (SpO2)/Minute SpO2 - 2022-04-14.csv',\n",
              " '/content/drive/My Drive/Health Data/Fitbit/Takeout/Fitbit/Oxygen Saturation (SpO2)/Minute SpO2 - 2022-04-09.csv',\n",
              " '/content/drive/My Drive/Health Data/Fitbit/Takeout/Fitbit/Oxygen Saturation (SpO2)/Minute SpO2 - 2022-04-21.csv',\n",
              " '/content/drive/My Drive/Health Data/Fitbit/Takeout/Fitbit/Oxygen Saturation (SpO2)/Minute SpO2 - 2022-04-08.csv',\n",
              " '/content/drive/My Drive/Health Data/Fitbit/Takeout/Fitbit/Oxygen Saturation (SpO2)/Minute SpO2 - 2022-04-12.csv',\n",
              " '/content/drive/My Drive/Health Data/Fitbit/Takeout/Fitbit/Oxygen Saturation (SpO2)/Minute SpO2 - 2022-04-10.csv',\n",
              " '/content/drive/My Drive/Health Data/Fitbit/Takeout/Fitbit/Oxygen Saturation (SpO2)/Minute SpO2 - 2022-04-16.csv',\n",
              " '/content/drive/My Drive/Health Data/Fitbit/Takeout/Fitbit/Oxygen Saturation (SpO2)/Minute SpO2 - 2022-04-06.csv',\n",
              " '/content/drive/My Drive/Health Data/Fitbit/Takeout/Fitbit/Oxygen Saturation (SpO2)/Minute SpO2 - 2022-04-30.csv',\n",
              " '/content/drive/My Drive/Health Data/Fitbit/Takeout/Fitbit/Oxygen Saturation (SpO2)/Minute SpO2 - 2022-04-23.csv',\n",
              " '/content/drive/My Drive/Health Data/Fitbit/Takeout/Fitbit/Oxygen Saturation (SpO2)/Minute SpO2 - 2022-04-20.csv',\n",
              " '/content/drive/My Drive/Health Data/Fitbit/Takeout/Fitbit/Oxygen Saturation (SpO2)/Minute SpO2 - 2022-05-05.csv',\n",
              " '/content/drive/My Drive/Health Data/Fitbit/Takeout/Fitbit/Oxygen Saturation (SpO2)/Minute SpO2 - 2022-04-04.csv',\n",
              " '/content/drive/My Drive/Health Data/Fitbit/Takeout/Fitbit/Oxygen Saturation (SpO2)/Minute SpO2 - 2022-04-29.csv',\n",
              " '/content/drive/My Drive/Health Data/Fitbit/Takeout/Fitbit/Oxygen Saturation (SpO2)/Minute SpO2 - 2022-05-04.csv',\n",
              " '/content/drive/My Drive/Health Data/Fitbit/Takeout/Fitbit/Oxygen Saturation (SpO2)/Minute SpO2 - 2022-04-11.csv',\n",
              " '/content/drive/My Drive/Health Data/Fitbit/Takeout/Fitbit/Oxygen Saturation (SpO2)/Minute SpO2 - 2022-04-03.csv',\n",
              " '/content/drive/My Drive/Health Data/Fitbit/Takeout/Fitbit/Oxygen Saturation (SpO2)/Minute SpO2 - 2022-05-01.csv',\n",
              " '/content/drive/My Drive/Health Data/Fitbit/Takeout/Fitbit/Oxygen Saturation (SpO2)/Minute SpO2 - 2022-04-27.csv',\n",
              " '/content/drive/My Drive/Health Data/Fitbit/Takeout/Fitbit/Oxygen Saturation (SpO2)/Minute SpO2 - 2022-04-18.csv',\n",
              " '/content/drive/My Drive/Health Data/Fitbit/Takeout/Fitbit/Oxygen Saturation (SpO2)/Minute SpO2 - 2022-04-05.csv',\n",
              " '/content/drive/My Drive/Health Data/Fitbit/Takeout/Fitbit/Oxygen Saturation (SpO2)/Minute SpO2 - 2022-04-17.csv',\n",
              " '/content/drive/My Drive/Health Data/Fitbit/Takeout/Fitbit/Oxygen Saturation (SpO2)/Minute SpO2 - 2022-05-06.csv',\n",
              " '/content/drive/My Drive/Health Data/Fitbit/Takeout/Fitbit/Oxygen Saturation (SpO2)/Minute SpO2 - 2022-04-15.csv',\n",
              " '/content/drive/My Drive/Health Data/Fitbit/Takeout/Fitbit/Oxygen Saturation (SpO2)/Minute SpO2 - 2022-05-03.csv',\n",
              " '/content/drive/My Drive/Health Data/Fitbit/Takeout/Fitbit/Oxygen Saturation (SpO2)/Minute SpO2 - 2022-04-07.csv',\n",
              " '/content/drive/My Drive/Health Data/Fitbit/Takeout/Fitbit/Oxygen Saturation (SpO2)/Minute SpO2 - 2022-06-21.csv',\n",
              " '/content/drive/My Drive/Health Data/Fitbit/Takeout/Fitbit/Oxygen Saturation (SpO2)/Minute SpO2 - 2022-06-08.csv',\n",
              " '/content/drive/My Drive/Health Data/Fitbit/Takeout/Fitbit/Oxygen Saturation (SpO2)/Minute SpO2 - 2022-06-27.csv',\n",
              " '/content/drive/My Drive/Health Data/Fitbit/Takeout/Fitbit/Oxygen Saturation (SpO2)/Minute SpO2 - 2022-06-11.csv',\n",
              " '/content/drive/My Drive/Health Data/Fitbit/Takeout/Fitbit/Oxygen Saturation (SpO2)/Minute SpO2 - 2022-06-22.csv',\n",
              " '/content/drive/My Drive/Health Data/Fitbit/Takeout/Fitbit/Oxygen Saturation (SpO2)/Minute SpO2 - 2022-05-17.csv',\n",
              " '/content/drive/My Drive/Health Data/Fitbit/Takeout/Fitbit/Oxygen Saturation (SpO2)/Minute SpO2 - 2022-06-26.csv',\n",
              " '/content/drive/My Drive/Health Data/Fitbit/Takeout/Fitbit/Oxygen Saturation (SpO2)/Minute SpO2 - 2022-05-16.csv',\n",
              " '/content/drive/My Drive/Health Data/Fitbit/Takeout/Fitbit/Oxygen Saturation (SpO2)/Minute SpO2 - 2022-05-11.csv',\n",
              " '/content/drive/My Drive/Health Data/Fitbit/Takeout/Fitbit/Oxygen Saturation (SpO2)/Minute SpO2 - 2022-05-08.csv',\n",
              " '/content/drive/My Drive/Health Data/Fitbit/Takeout/Fitbit/Oxygen Saturation (SpO2)/Minute SpO2 - 2022-06-06.csv',\n",
              " '/content/drive/My Drive/Health Data/Fitbit/Takeout/Fitbit/Oxygen Saturation (SpO2)/Minute SpO2 - 2022-06-20.csv',\n",
              " '/content/drive/My Drive/Health Data/Fitbit/Takeout/Fitbit/Oxygen Saturation (SpO2)/Minute SpO2 - 2022-05-12.csv',\n",
              " '/content/drive/My Drive/Health Data/Fitbit/Takeout/Fitbit/Oxygen Saturation (SpO2)/Minute SpO2 - 2022-05-14.csv',\n",
              " '/content/drive/My Drive/Health Data/Fitbit/Takeout/Fitbit/Oxygen Saturation (SpO2)/Minute SpO2 - 2022-06-14.csv',\n",
              " '/content/drive/My Drive/Health Data/Fitbit/Takeout/Fitbit/Oxygen Saturation (SpO2)/Minute SpO2 - 2022-06-19.csv',\n",
              " '/content/drive/My Drive/Health Data/Fitbit/Takeout/Fitbit/Oxygen Saturation (SpO2)/Minute SpO2 - 2022-05-10.csv',\n",
              " '/content/drive/My Drive/Health Data/Fitbit/Takeout/Fitbit/Oxygen Saturation (SpO2)/Minute SpO2 - 2022-06-15.csv',\n",
              " '/content/drive/My Drive/Health Data/Fitbit/Takeout/Fitbit/Oxygen Saturation (SpO2)/Minute SpO2 - 2022-06-12.csv',\n",
              " '/content/drive/My Drive/Health Data/Fitbit/Takeout/Fitbit/Oxygen Saturation (SpO2)/Minute SpO2 - 2022-05-13.csv',\n",
              " '/content/drive/My Drive/Health Data/Fitbit/Takeout/Fitbit/Oxygen Saturation (SpO2)/Minute SpO2 - 2022-05-09.csv',\n",
              " '/content/drive/My Drive/Health Data/Fitbit/Takeout/Fitbit/Oxygen Saturation (SpO2)/Minute SpO2 - 2022-06-07.csv',\n",
              " '/content/drive/My Drive/Health Data/Fitbit/Takeout/Fitbit/Oxygen Saturation (SpO2)/Minute SpO2 - 2022-06-25.csv',\n",
              " '/content/drive/My Drive/Health Data/Fitbit/Takeout/Fitbit/Oxygen Saturation (SpO2)/Minute SpO2 - 2022-07-10.csv',\n",
              " '/content/drive/My Drive/Health Data/Fitbit/Takeout/Fitbit/Oxygen Saturation (SpO2)/Minute SpO2 - 2022-07-09.csv',\n",
              " '/content/drive/My Drive/Health Data/Fitbit/Takeout/Fitbit/Oxygen Saturation (SpO2)/Minute SpO2 - 2022-07-07.csv',\n",
              " '/content/drive/My Drive/Health Data/Fitbit/Takeout/Fitbit/Oxygen Saturation (SpO2)/Minute SpO2 - 2022-07-28.csv',\n",
              " '/content/drive/My Drive/Health Data/Fitbit/Takeout/Fitbit/Oxygen Saturation (SpO2)/Minute SpO2 - 2022-07-24.csv',\n",
              " '/content/drive/My Drive/Health Data/Fitbit/Takeout/Fitbit/Oxygen Saturation (SpO2)/Minute SpO2 - 2022-07-04.csv',\n",
              " '/content/drive/My Drive/Health Data/Fitbit/Takeout/Fitbit/Oxygen Saturation (SpO2)/Minute SpO2 - 2022-07-14.csv',\n",
              " '/content/drive/My Drive/Health Data/Fitbit/Takeout/Fitbit/Oxygen Saturation (SpO2)/Minute SpO2 - 2022-08-01.csv',\n",
              " '/content/drive/My Drive/Health Data/Fitbit/Takeout/Fitbit/Oxygen Saturation (SpO2)/Minute SpO2 - 2022-07-06.csv',\n",
              " '/content/drive/My Drive/Health Data/Fitbit/Takeout/Fitbit/Oxygen Saturation (SpO2)/Minute SpO2 - 2022-06-29.csv',\n",
              " '/content/drive/My Drive/Health Data/Fitbit/Takeout/Fitbit/Oxygen Saturation (SpO2)/Minute SpO2 - 2022-07-12.csv',\n",
              " '/content/drive/My Drive/Health Data/Fitbit/Takeout/Fitbit/Oxygen Saturation (SpO2)/Minute SpO2 - 2022-07-08.csv',\n",
              " '/content/drive/My Drive/Health Data/Fitbit/Takeout/Fitbit/Oxygen Saturation (SpO2)/Minute SpO2 - 2022-06-28.csv',\n",
              " '/content/drive/My Drive/Health Data/Fitbit/Takeout/Fitbit/Oxygen Saturation (SpO2)/Minute SpO2 - 2022-07-17.csv',\n",
              " '/content/drive/My Drive/Health Data/Fitbit/Takeout/Fitbit/Oxygen Saturation (SpO2)/Minute SpO2 - 2022-07-16.csv',\n",
              " '/content/drive/My Drive/Health Data/Fitbit/Takeout/Fitbit/Oxygen Saturation (SpO2)/Minute SpO2 - 2022-07-13.csv',\n",
              " '/content/drive/My Drive/Health Data/Fitbit/Takeout/Fitbit/Oxygen Saturation (SpO2)/Minute SpO2 - 2022-07-23.csv',\n",
              " '/content/drive/My Drive/Health Data/Fitbit/Takeout/Fitbit/Oxygen Saturation (SpO2)/Minute SpO2 - 2022-07-31.csv',\n",
              " '/content/drive/My Drive/Health Data/Fitbit/Takeout/Fitbit/Oxygen Saturation (SpO2)/Minute SpO2 - 2022-07-03.csv',\n",
              " '/content/drive/My Drive/Health Data/Fitbit/Takeout/Fitbit/Oxygen Saturation (SpO2)/Minute SpO2 - 2022-07-26.csv',\n",
              " '/content/drive/My Drive/Health Data/Fitbit/Takeout/Fitbit/Oxygen Saturation (SpO2)/Minute SpO2 - 2022-07-22.csv',\n",
              " '/content/drive/My Drive/Health Data/Fitbit/Takeout/Fitbit/Oxygen Saturation (SpO2)/Minute SpO2 - 2022-06-30.csv',\n",
              " '/content/drive/My Drive/Health Data/Fitbit/Takeout/Fitbit/Oxygen Saturation (SpO2)/Minute SpO2 - 2022-07-11.csv',\n",
              " '/content/drive/My Drive/Health Data/Fitbit/Takeout/Fitbit/Oxygen Saturation (SpO2)/Minute SpO2 - 2022-07-15.csv',\n",
              " '/content/drive/My Drive/Health Data/Fitbit/Takeout/Fitbit/Oxygen Saturation (SpO2)/Minute SpO2 - 2022-07-02.csv',\n",
              " '/content/drive/My Drive/Health Data/Fitbit/Takeout/Fitbit/Oxygen Saturation (SpO2)/Minute SpO2 - 2022-07-25.csv',\n",
              " '/content/drive/My Drive/Health Data/Fitbit/Takeout/Fitbit/Oxygen Saturation (SpO2)/Minute SpO2 - 2022-08-09.csv',\n",
              " '/content/drive/My Drive/Health Data/Fitbit/Takeout/Fitbit/Oxygen Saturation (SpO2)/Minute SpO2 - 2022-08-08.csv',\n",
              " '/content/drive/My Drive/Health Data/Fitbit/Takeout/Fitbit/Oxygen Saturation (SpO2)/Minute SpO2 - 2022-08-15.csv',\n",
              " '/content/drive/My Drive/Health Data/Fitbit/Takeout/Fitbit/Oxygen Saturation (SpO2)/Minute SpO2 - 2022-08-03.csv',\n",
              " '/content/drive/My Drive/Health Data/Fitbit/Takeout/Fitbit/Oxygen Saturation (SpO2)/Minute SpO2 - 2022-08-18.csv',\n",
              " '/content/drive/My Drive/Health Data/Fitbit/Takeout/Fitbit/Oxygen Saturation (SpO2)/Minute SpO2 - 2022-08-02.csv',\n",
              " '/content/drive/My Drive/Health Data/Fitbit/Takeout/Fitbit/Oxygen Saturation (SpO2)/Minute SpO2 - 2022-08-04.csv',\n",
              " '/content/drive/My Drive/Health Data/Fitbit/Takeout/Fitbit/Oxygen Saturation (SpO2)/Minute SpO2 - 2022-08-06.csv',\n",
              " '/content/drive/My Drive/Health Data/Fitbit/Takeout/Fitbit/Oxygen Saturation (SpO2)/Minute SpO2 - 2022-08-17.csv',\n",
              " '/content/drive/My Drive/Health Data/Fitbit/Takeout/Fitbit/Oxygen Saturation (SpO2)/Minute SpO2 - 2022-08-14.csv',\n",
              " '/content/drive/My Drive/Health Data/Fitbit/Takeout/Fitbit/Oxygen Saturation (SpO2)/Minute SpO2 - 2022-08-20.csv',\n",
              " '/content/drive/My Drive/Health Data/Fitbit/Takeout/Fitbit/Oxygen Saturation (SpO2)/Minute SpO2 - 2022-08-12.csv',\n",
              " '/content/drive/My Drive/Health Data/Fitbit/Takeout/Fitbit/Oxygen Saturation (SpO2)/Minute SpO2 - 2022-08-11.csv',\n",
              " '/content/drive/My Drive/Health Data/Fitbit/Takeout/Fitbit/Oxygen Saturation (SpO2)/Minute SpO2 - 2022-08-19.csv',\n",
              " '/content/drive/My Drive/Health Data/Fitbit/Takeout/Fitbit/Oxygen Saturation (SpO2)/Minute SpO2 - 2022-08-13.csv',\n",
              " '/content/drive/My Drive/Health Data/Fitbit/Takeout/Fitbit/Oxygen Saturation (SpO2)/Minute SpO2 - 2022-09-07.csv',\n",
              " '/content/drive/My Drive/Health Data/Fitbit/Takeout/Fitbit/Oxygen Saturation (SpO2)/Minute SpO2 - 2022-08-24.csv',\n",
              " '/content/drive/My Drive/Health Data/Fitbit/Takeout/Fitbit/Oxygen Saturation (SpO2)/Minute SpO2 - 2022-09-01.csv',\n",
              " '/content/drive/My Drive/Health Data/Fitbit/Takeout/Fitbit/Oxygen Saturation (SpO2)/Minute SpO2 - 2022-09-04.csv',\n",
              " '/content/drive/My Drive/Health Data/Fitbit/Takeout/Fitbit/Oxygen Saturation (SpO2)/Minute SpO2 - 2022-08-22.csv',\n",
              " '/content/drive/My Drive/Health Data/Fitbit/Takeout/Fitbit/Oxygen Saturation (SpO2)/Minute SpO2 - 2022-09-06.csv',\n",
              " '/content/drive/My Drive/Health Data/Fitbit/Takeout/Fitbit/Oxygen Saturation (SpO2)/Minute SpO2 - 2022-08-30.csv',\n",
              " '/content/drive/My Drive/Health Data/Fitbit/Takeout/Fitbit/Oxygen Saturation (SpO2)/Minute SpO2 - 2022-09-08.csv',\n",
              " '/content/drive/My Drive/Health Data/Fitbit/Takeout/Fitbit/Oxygen Saturation (SpO2)/Minute SpO2 - 2022-09-09.csv',\n",
              " '/content/drive/My Drive/Health Data/Fitbit/Takeout/Fitbit/Oxygen Saturation (SpO2)/Minute SpO2 - 2022-08-29.csv',\n",
              " '/content/drive/My Drive/Health Data/Fitbit/Takeout/Fitbit/Oxygen Saturation (SpO2)/Minute SpO2 - 2022-08-25.csv',\n",
              " '/content/drive/My Drive/Health Data/Fitbit/Takeout/Fitbit/Oxygen Saturation (SpO2)/Minute SpO2 - 2022-08-21.csv',\n",
              " '/content/drive/My Drive/Health Data/Fitbit/Takeout/Fitbit/Oxygen Saturation (SpO2)/Minute SpO2 - 2022-09-02.csv',\n",
              " '/content/drive/My Drive/Health Data/Fitbit/Takeout/Fitbit/Oxygen Saturation (SpO2)/Minute SpO2 - 2022-08-31.csv',\n",
              " '/content/drive/My Drive/Health Data/Fitbit/Takeout/Fitbit/Oxygen Saturation (SpO2)/Minute SpO2 - 2022-09-03.csv',\n",
              " '/content/drive/My Drive/Health Data/Fitbit/Takeout/Fitbit/Oxygen Saturation (SpO2)/Minute SpO2 - 2022-09-14.csv',\n",
              " '/content/drive/My Drive/Health Data/Fitbit/Takeout/Fitbit/Oxygen Saturation (SpO2)/Minute SpO2 - 2022-09-30.csv',\n",
              " '/content/drive/My Drive/Health Data/Fitbit/Takeout/Fitbit/Oxygen Saturation (SpO2)/Minute SpO2 - 2022-10-07.csv',\n",
              " '/content/drive/My Drive/Health Data/Fitbit/Takeout/Fitbit/Oxygen Saturation (SpO2)/Minute SpO2 - 2022-09-13.csv',\n",
              " '/content/drive/My Drive/Health Data/Fitbit/Takeout/Fitbit/Oxygen Saturation (SpO2)/Minute SpO2 - 2022-10-10.csv',\n",
              " '/content/drive/My Drive/Health Data/Fitbit/Takeout/Fitbit/Oxygen Saturation (SpO2)/Minute SpO2 - 2022-09-16.csv',\n",
              " '/content/drive/My Drive/Health Data/Fitbit/Takeout/Fitbit/Oxygen Saturation (SpO2)/Minute SpO2 - 2022-09-25.csv',\n",
              " '/content/drive/My Drive/Health Data/Fitbit/Takeout/Fitbit/Oxygen Saturation (SpO2)/Minute SpO2 - 2022-10-09.csv',\n",
              " '/content/drive/My Drive/Health Data/Fitbit/Takeout/Fitbit/Oxygen Saturation (SpO2)/Minute SpO2 - 2022-09-23.csv',\n",
              " '/content/drive/My Drive/Health Data/Fitbit/Takeout/Fitbit/Oxygen Saturation (SpO2)/Minute SpO2 - 2022-09-29.csv',\n",
              " '/content/drive/My Drive/Health Data/Fitbit/Takeout/Fitbit/Oxygen Saturation (SpO2)/Minute SpO2 - 2022-09-27.csv',\n",
              " '/content/drive/My Drive/Health Data/Fitbit/Takeout/Fitbit/Oxygen Saturation (SpO2)/Minute SpO2 - 2022-10-16.csv',\n",
              " '/content/drive/My Drive/Health Data/Fitbit/Takeout/Fitbit/Oxygen Saturation (SpO2)/Minute SpO2 - 2022-09-17.csv',\n",
              " '/content/drive/My Drive/Health Data/Fitbit/Takeout/Fitbit/Oxygen Saturation (SpO2)/Minute SpO2 - 2022-10-03.csv',\n",
              " '/content/drive/My Drive/Health Data/Fitbit/Takeout/Fitbit/Oxygen Saturation (SpO2)/Minute SpO2 - 2022-10-17.csv',\n",
              " '/content/drive/My Drive/Health Data/Fitbit/Takeout/Fitbit/Oxygen Saturation (SpO2)/Minute SpO2 - 2022-09-11.csv',\n",
              " '/content/drive/My Drive/Health Data/Fitbit/Takeout/Fitbit/Oxygen Saturation (SpO2)/Minute SpO2 - 2022-09-22.csv',\n",
              " '/content/drive/My Drive/Health Data/Fitbit/Takeout/Fitbit/Oxygen Saturation (SpO2)/Minute SpO2 - 2022-10-13.csv',\n",
              " '/content/drive/My Drive/Health Data/Fitbit/Takeout/Fitbit/Oxygen Saturation (SpO2)/Minute SpO2 - 2022-09-20.csv',\n",
              " '/content/drive/My Drive/Health Data/Fitbit/Takeout/Fitbit/Oxygen Saturation (SpO2)/Minute SpO2 - 2022-10-15.csv',\n",
              " '/content/drive/My Drive/Health Data/Fitbit/Takeout/Fitbit/Oxygen Saturation (SpO2)/Minute SpO2 - 2022-09-28.csv',\n",
              " '/content/drive/My Drive/Health Data/Fitbit/Takeout/Fitbit/Oxygen Saturation (SpO2)/Minute SpO2 - 2022-10-02.csv',\n",
              " '/content/drive/My Drive/Health Data/Fitbit/Takeout/Fitbit/Oxygen Saturation (SpO2)/Minute SpO2 - 2022-09-26.csv',\n",
              " '/content/drive/My Drive/Health Data/Fitbit/Takeout/Fitbit/Oxygen Saturation (SpO2)/Minute SpO2 - 2022-09-21.csv',\n",
              " '/content/drive/My Drive/Health Data/Fitbit/Takeout/Fitbit/Oxygen Saturation (SpO2)/Minute SpO2 - 2022-09-19.csv',\n",
              " '/content/drive/My Drive/Health Data/Fitbit/Takeout/Fitbit/Oxygen Saturation (SpO2)/Minute SpO2 - 2022-10-08.csv',\n",
              " '/content/drive/My Drive/Health Data/Fitbit/Takeout/Fitbit/Oxygen Saturation (SpO2)/Minute SpO2 - 2022-10-21.csv',\n",
              " '/content/drive/My Drive/Health Data/Fitbit/Takeout/Fitbit/Oxygen Saturation (SpO2)/Minute SpO2 - 2022-10-20.csv',\n",
              " '/content/drive/My Drive/Health Data/Fitbit/Takeout/Fitbit/Oxygen Saturation (SpO2)/Minute SpO2 - 2022-10-23.csv',\n",
              " '/content/drive/My Drive/Health Data/Fitbit/Takeout/Fitbit/Oxygen Saturation (SpO2)/Minute SpO2 - 2023-08-06.csv',\n",
              " '/content/drive/My Drive/Health Data/Fitbit/Takeout/Fitbit/Oxygen Saturation (SpO2)/Minute SpO2 - 2023-08-09.csv',\n",
              " '/content/drive/My Drive/Health Data/Fitbit/Takeout/Fitbit/Oxygen Saturation (SpO2)/Minute SpO2 - 2023-08-08.csv',\n",
              " '/content/drive/My Drive/Health Data/Fitbit/Takeout/Fitbit/Oxygen Saturation (SpO2)/Minute SpO2 - 2023-08-29.csv',\n",
              " '/content/drive/My Drive/Health Data/Fitbit/Takeout/Fitbit/Oxygen Saturation (SpO2)/Minute SpO2 - 2023-08-10.csv',\n",
              " '/content/drive/My Drive/Health Data/Fitbit/Takeout/Fitbit/Oxygen Saturation (SpO2)/Minute SpO2 - 2023-09-02.csv',\n",
              " '/content/drive/My Drive/Health Data/Fitbit/Takeout/Fitbit/Oxygen Saturation (SpO2)/Minute SpO2 - 2023-08-25.csv',\n",
              " '/content/drive/My Drive/Health Data/Fitbit/Takeout/Fitbit/Oxygen Saturation (SpO2)/Minute SpO2 - 2023-08-13.csv',\n",
              " '/content/drive/My Drive/Health Data/Fitbit/Takeout/Fitbit/Oxygen Saturation (SpO2)/Minute SpO2 - 2023-08-12.csv',\n",
              " '/content/drive/My Drive/Health Data/Fitbit/Takeout/Fitbit/Oxygen Saturation (SpO2)/Minute SpO2 - 2023-08-23.csv',\n",
              " '/content/drive/My Drive/Health Data/Fitbit/Takeout/Fitbit/Oxygen Saturation (SpO2)/Minute SpO2 - 2023-08-07.csv',\n",
              " '/content/drive/My Drive/Health Data/Fitbit/Takeout/Fitbit/Oxygen Saturation (SpO2)/Minute SpO2 - 2023-08-24.csv',\n",
              " '/content/drive/My Drive/Health Data/Fitbit/Takeout/Fitbit/Oxygen Saturation (SpO2)/Minute SpO2 - 2023-08-11.csv',\n",
              " '/content/drive/My Drive/Health Data/Fitbit/Takeout/Fitbit/Oxygen Saturation (SpO2)/Minute SpO2 - 2023-10-26.csv',\n",
              " '/content/drive/My Drive/Health Data/Fitbit/Takeout/Fitbit/Oxygen Saturation (SpO2)/Minute SpO2 - 2023-11-07.csv',\n",
              " '/content/drive/My Drive/Health Data/Fitbit/Takeout/Fitbit/Oxygen Saturation (SpO2)/Minute SpO2 - 2023-10-23.csv',\n",
              " '/content/drive/My Drive/Health Data/Fitbit/Takeout/Fitbit/Oxygen Saturation (SpO2)/Minute SpO2 - 2023-10-24.csv',\n",
              " '/content/drive/My Drive/Health Data/Fitbit/Takeout/Fitbit/Oxygen Saturation (SpO2)/Minute SpO2 - 2023-10-31.csv',\n",
              " '/content/drive/My Drive/Health Data/Fitbit/Takeout/Fitbit/Oxygen Saturation (SpO2)/Minute SpO2 - 2023-11-10.csv',\n",
              " '/content/drive/My Drive/Health Data/Fitbit/Takeout/Fitbit/Oxygen Saturation (SpO2)/Minute SpO2 - 2023-10-27.csv',\n",
              " '/content/drive/My Drive/Health Data/Fitbit/Takeout/Fitbit/Oxygen Saturation (SpO2)/Minute SpO2 - 2023-10-25.csv',\n",
              " '/content/drive/My Drive/Health Data/Fitbit/Takeout/Fitbit/Oxygen Saturation (SpO2)/Minute SpO2 - 2023-10-28.csv',\n",
              " '/content/drive/My Drive/Health Data/Fitbit/Takeout/Fitbit/Oxygen Saturation (SpO2)/Minute SpO2 - 2023-10-29.csv',\n",
              " '/content/drive/My Drive/Health Data/Fitbit/Takeout/Fitbit/Oxygen Saturation (SpO2)/Minute SpO2 - 2023-11-04.csv',\n",
              " '/content/drive/My Drive/Health Data/Fitbit/Takeout/Fitbit/Oxygen Saturation (SpO2)/Minute SpO2 - 2023-11-01.csv',\n",
              " '/content/drive/My Drive/Health Data/Fitbit/Takeout/Fitbit/Oxygen Saturation (SpO2)/Minute SpO2 - 2023-11-03.csv',\n",
              " '/content/drive/My Drive/Health Data/Fitbit/Takeout/Fitbit/Oxygen Saturation (SpO2)/Minute SpO2 - 2023-12-06.csv',\n",
              " '/content/drive/My Drive/Health Data/Fitbit/Takeout/Fitbit/Oxygen Saturation (SpO2)/Minute SpO2 - 2023-11-26.csv',\n",
              " '/content/drive/My Drive/Health Data/Fitbit/Takeout/Fitbit/Oxygen Saturation (SpO2)/Minute SpO2 - 2023-11-08.csv',\n",
              " '/content/drive/My Drive/Health Data/Fitbit/Takeout/Fitbit/Oxygen Saturation (SpO2)/Minute SpO2 - 2023-11-13.csv',\n",
              " '/content/drive/My Drive/Health Data/Fitbit/Takeout/Fitbit/Oxygen Saturation (SpO2)/Minute SpO2 - 2023-11-29.csv',\n",
              " '/content/drive/My Drive/Health Data/Fitbit/Takeout/Fitbit/Oxygen Saturation (SpO2)/Minute SpO2 - 2023-11-30.csv',\n",
              " '/content/drive/My Drive/Health Data/Fitbit/Takeout/Fitbit/Oxygen Saturation (SpO2)/Minute SpO2 - 2023-11-06.csv',\n",
              " '/content/drive/My Drive/Health Data/Fitbit/Takeout/Fitbit/Oxygen Saturation (SpO2)/Minute SpO2 - 2023-12-08.csv',\n",
              " '/content/drive/My Drive/Health Data/Fitbit/Takeout/Fitbit/Oxygen Saturation (SpO2)/Minute SpO2 - 2023-11-16.csv',\n",
              " '/content/drive/My Drive/Health Data/Fitbit/Takeout/Fitbit/Oxygen Saturation (SpO2)/Minute SpO2 - 2023-11-21.csv',\n",
              " '/content/drive/My Drive/Health Data/Fitbit/Takeout/Fitbit/Oxygen Saturation (SpO2)/Minute SpO2 - 2023-11-11.csv',\n",
              " '/content/drive/My Drive/Health Data/Fitbit/Takeout/Fitbit/Oxygen Saturation (SpO2)/Minute SpO2 - 2023-11-09.csv',\n",
              " '/content/drive/My Drive/Health Data/Fitbit/Takeout/Fitbit/Oxygen Saturation (SpO2)/Minute SpO2 - 2023-11-14.csv',\n",
              " '/content/drive/My Drive/Health Data/Fitbit/Takeout/Fitbit/Oxygen Saturation (SpO2)/Minute SpO2 - 2023-12-09.csv',\n",
              " '/content/drive/My Drive/Health Data/Fitbit/Takeout/Fitbit/Oxygen Saturation (SpO2)/Minute SpO2 - 2023-11-18.csv',\n",
              " '/content/drive/My Drive/Health Data/Fitbit/Takeout/Fitbit/Oxygen Saturation (SpO2)/Minute SpO2 - 2023-12-07.csv',\n",
              " '/content/drive/My Drive/Health Data/Fitbit/Takeout/Fitbit/Oxygen Saturation (SpO2)/Minute SpO2 - 2023-11-27.csv',\n",
              " '/content/drive/My Drive/Health Data/Fitbit/Takeout/Fitbit/Oxygen Saturation (SpO2)/Minute SpO2 - 2023-11-19.csv',\n",
              " '/content/drive/My Drive/Health Data/Fitbit/Takeout/Fitbit/Oxygen Saturation (SpO2)/Minute SpO2 - 2023-12-16.csv',\n",
              " '/content/drive/My Drive/Health Data/Fitbit/Takeout/Fitbit/Oxygen Saturation (SpO2)/Minute SpO2 - 2023-11-15.csv',\n",
              " '/content/drive/My Drive/Health Data/Fitbit/Takeout/Fitbit/Oxygen Saturation (SpO2)/Minute SpO2 - 2023-11-28.csv',\n",
              " '/content/drive/My Drive/Health Data/Fitbit/Takeout/Fitbit/Oxygen Saturation (SpO2)/Minute SpO2 - 2023-11-20.csv',\n",
              " '/content/drive/My Drive/Health Data/Fitbit/Takeout/Fitbit/Oxygen Saturation (SpO2)/Minute SpO2 - 2024-01-21.csv',\n",
              " '/content/drive/My Drive/Health Data/Fitbit/Takeout/Fitbit/Oxygen Saturation (SpO2)/Minute SpO2 - 2024-01-09.csv',\n",
              " '/content/drive/My Drive/Health Data/Fitbit/Takeout/Fitbit/Oxygen Saturation (SpO2)/Minute SpO2 - 2024-01-06.csv',\n",
              " '/content/drive/My Drive/Health Data/Fitbit/Takeout/Fitbit/Oxygen Saturation (SpO2)/Minute SpO2 - 2024-01-12.csv',\n",
              " '/content/drive/My Drive/Health Data/Fitbit/Takeout/Fitbit/Oxygen Saturation (SpO2)/Minute SpO2 - 2024-01-08.csv',\n",
              " '/content/drive/My Drive/Health Data/Fitbit/Takeout/Fitbit/Oxygen Saturation (SpO2)/Minute SpO2 - 2024-01-22.csv',\n",
              " '/content/drive/My Drive/Health Data/Fitbit/Takeout/Fitbit/Oxygen Saturation (SpO2)/Minute SpO2 - 2024-01-23.csv',\n",
              " '/content/drive/My Drive/Health Data/Fitbit/Takeout/Fitbit/Oxygen Saturation (SpO2)/Minute SpO2 - 2023-12-21.csv',\n",
              " '/content/drive/My Drive/Health Data/Fitbit/Takeout/Fitbit/Oxygen Saturation (SpO2)/Minute SpO2 - 2024-01-05.csv',\n",
              " '/content/drive/My Drive/Health Data/Fitbit/Takeout/Fitbit/Oxygen Saturation (SpO2)/Minute SpO2 - 2024-01-13.csv',\n",
              " '/content/drive/My Drive/Health Data/Fitbit/Takeout/Fitbit/Oxygen Saturation (SpO2)/Minute SpO2 - 2024-01-15.csv',\n",
              " '/content/drive/My Drive/Health Data/Fitbit/Takeout/Fitbit/Oxygen Saturation (SpO2)/Minute SpO2 - 2024-01-16.csv',\n",
              " '/content/drive/My Drive/Health Data/Fitbit/Takeout/Fitbit/Oxygen Saturation (SpO2)/Minute SpO2 - 2024-01-07.csv',\n",
              " '/content/drive/My Drive/Health Data/Fitbit/Takeout/Fitbit/Oxygen Saturation (SpO2)/Minute SpO2 - 2024-01-20.csv',\n",
              " '/content/drive/My Drive/Health Data/Fitbit/Takeout/Fitbit/Oxygen Saturation (SpO2)/Minute SpO2 - 2023-12-20.csv',\n",
              " '/content/drive/My Drive/Health Data/Fitbit/Takeout/Fitbit/Oxygen Saturation (SpO2)/Minute SpO2 - 2024-01-11.csv',\n",
              " '/content/drive/My Drive/Health Data/Fitbit/Takeout/Fitbit/Oxygen Saturation (SpO2)/Minute SpO2 - 2024-01-19.csv',\n",
              " '/content/drive/My Drive/Health Data/Fitbit/Takeout/Fitbit/Oxygen Saturation (SpO2)/Minute SpO2 - 2024-01-25.csv',\n",
              " '/content/drive/My Drive/Health Data/Fitbit/Takeout/Fitbit/Oxygen Saturation (SpO2)/Minute SpO2 - 2024-01-14.csv',\n",
              " '/content/drive/My Drive/Health Data/Fitbit/Takeout/Fitbit/Oxygen Saturation (SpO2)/Minute SpO2 - 2024-01-17.csv',\n",
              " '/content/drive/My Drive/Health Data/Fitbit/Takeout/Fitbit/Oxygen Saturation (SpO2)/Minute SpO2 - 2024-01-10.csv',\n",
              " '/content/drive/My Drive/Health Data/Fitbit/Takeout/Fitbit/Oxygen Saturation (SpO2)/Minute SpO2 - 2024-01-18.csv',\n",
              " '/content/drive/My Drive/Health Data/Fitbit/Takeout/Fitbit/Oxygen Saturation (SpO2)/Minute SpO2 - 2024-01-28.csv',\n",
              " '/content/drive/My Drive/Health Data/Fitbit/Takeout/Fitbit/Oxygen Saturation (SpO2)/Minute SpO2 - 2024-01-31.csv',\n",
              " '/content/drive/My Drive/Health Data/Fitbit/Takeout/Fitbit/Oxygen Saturation (SpO2)/Minute SpO2 - 2024-02-06.csv',\n",
              " '/content/drive/My Drive/Health Data/Fitbit/Takeout/Fitbit/Oxygen Saturation (SpO2)/Minute SpO2 - 2024-02-07.csv',\n",
              " '/content/drive/My Drive/Health Data/Fitbit/Takeout/Fitbit/Oxygen Saturation (SpO2)/Minute SpO2 - 2024-02-03.csv',\n",
              " '/content/drive/My Drive/Health Data/Fitbit/Takeout/Fitbit/Oxygen Saturation (SpO2)/Minute SpO2 - 2024-02-21.csv',\n",
              " '/content/drive/My Drive/Health Data/Fitbit/Takeout/Fitbit/Oxygen Saturation (SpO2)/Minute SpO2 - 2024-02-02.csv',\n",
              " '/content/drive/My Drive/Health Data/Fitbit/Takeout/Fitbit/Oxygen Saturation (SpO2)/Minute SpO2 - 2024-02-14.csv',\n",
              " '/content/drive/My Drive/Health Data/Fitbit/Takeout/Fitbit/Oxygen Saturation (SpO2)/Minute SpO2 - 2024-02-15.csv',\n",
              " '/content/drive/My Drive/Health Data/Fitbit/Takeout/Fitbit/Oxygen Saturation (SpO2)/Minute SpO2 - 2024-02-17.csv',\n",
              " '/content/drive/My Drive/Health Data/Fitbit/Takeout/Fitbit/Oxygen Saturation (SpO2)/Minute SpO2 - 2024-01-27.csv',\n",
              " '/content/drive/My Drive/Health Data/Fitbit/Takeout/Fitbit/Oxygen Saturation (SpO2)/Minute SpO2 - 2024-01-24.csv',\n",
              " '/content/drive/My Drive/Health Data/Fitbit/Takeout/Fitbit/Oxygen Saturation (SpO2)/Minute SpO2 - 2024-01-30.csv',\n",
              " '/content/drive/My Drive/Health Data/Fitbit/Takeout/Fitbit/Oxygen Saturation (SpO2)/Minute SpO2 - 2024-01-26.csv',\n",
              " '/content/drive/My Drive/Health Data/Fitbit/Takeout/Fitbit/Oxygen Saturation (SpO2)/Minute SpO2 - 2024-02-01.csv',\n",
              " '/content/drive/My Drive/Health Data/Fitbit/Takeout/Fitbit/Oxygen Saturation (SpO2)/Minute SpO2 - 2024-02-12.csv',\n",
              " '/content/drive/My Drive/Health Data/Fitbit/Takeout/Fitbit/Oxygen Saturation (SpO2)/Minute SpO2 - 2024-01-29.csv',\n",
              " '/content/drive/My Drive/Health Data/Fitbit/Takeout/Fitbit/Oxygen Saturation (SpO2)/Minute SpO2 - 2024-02-16.csv',\n",
              " '/content/drive/My Drive/Health Data/Fitbit/Takeout/Fitbit/Oxygen Saturation (SpO2)/Minute SpO2 - 2024-02-13.csv',\n",
              " '/content/drive/My Drive/Health Data/Fitbit/Takeout/Fitbit/Oxygen Saturation (SpO2)/Minute SpO2 - 2024-02-04.csv',\n",
              " '/content/drive/My Drive/Health Data/Fitbit/Takeout/Fitbit/Oxygen Saturation (SpO2)/Minute SpO2 - 2024-02-20.csv',\n",
              " '/content/drive/My Drive/Health Data/Fitbit/Takeout/Fitbit/Oxygen Saturation (SpO2)/Minute SpO2 - 2024-02-23.csv',\n",
              " '/content/drive/My Drive/Health Data/Fitbit/Takeout/Fitbit/Oxygen Saturation (SpO2)/Minute SpO2 - 2024-03-20.csv',\n",
              " '/content/drive/My Drive/Health Data/Fitbit/Takeout/Fitbit/Oxygen Saturation (SpO2)/Minute SpO2 - 2024-02-28.csv',\n",
              " '/content/drive/My Drive/Health Data/Fitbit/Takeout/Fitbit/Oxygen Saturation (SpO2)/Minute SpO2 - 2024-03-04.csv',\n",
              " '/content/drive/My Drive/Health Data/Fitbit/Takeout/Fitbit/Oxygen Saturation (SpO2)/Minute SpO2 - 2024-03-02.csv',\n",
              " '/content/drive/My Drive/Health Data/Fitbit/Takeout/Fitbit/Oxygen Saturation (SpO2)/Minute SpO2 - 2024-03-07.csv',\n",
              " '/content/drive/My Drive/Health Data/Fitbit/Takeout/Fitbit/Oxygen Saturation (SpO2)/Minute SpO2 - 2024-02-27.csv',\n",
              " '/content/drive/My Drive/Health Data/Fitbit/Takeout/Fitbit/Oxygen Saturation (SpO2)/Minute SpO2 - 2024-02-24.csv',\n",
              " '/content/drive/My Drive/Health Data/Fitbit/Takeout/Fitbit/Oxygen Saturation (SpO2)/Minute SpO2 - 2024-03-08.csv',\n",
              " '/content/drive/My Drive/Health Data/Fitbit/Takeout/Fitbit/Oxygen Saturation (SpO2)/Minute SpO2 - 2024-02-29.csv',\n",
              " '/content/drive/My Drive/Health Data/Fitbit/Takeout/Fitbit/Oxygen Saturation (SpO2)/Minute SpO2 - 2024-02-26.csv',\n",
              " '/content/drive/My Drive/Health Data/Fitbit/Takeout/Fitbit/Oxygen Saturation (SpO2)/Minute SpO2 - 2024-03-19.csv',\n",
              " '/content/drive/My Drive/Health Data/Fitbit/Takeout/Fitbit/Oxygen Saturation (SpO2)/Minute SpO2 - 2024-03-01.csv',\n",
              " '/content/drive/My Drive/Health Data/Fitbit/Takeout/Fitbit/Oxygen Saturation (SpO2)/Minute SpO2 - 2024-03-06.csv',\n",
              " '/content/drive/My Drive/Health Data/Fitbit/Takeout/Fitbit/Oxygen Saturation (SpO2)/Minute SpO2 - 2024-03-05.csv',\n",
              " '/content/drive/My Drive/Health Data/Fitbit/Takeout/Fitbit/Oxygen Saturation (SpO2)/Minute SpO2 - 2024-02-22.csv',\n",
              " '/content/drive/My Drive/Health Data/Fitbit/Takeout/Fitbit/Oxygen Saturation (SpO2)/Daily SpO2 - 2021-06-26-2021-10-04.csv',\n",
              " '/content/drive/My Drive/Health Data/Fitbit/Takeout/Fitbit/Oxygen Saturation (SpO2)/Daily SpO2 - 2021-03-18-2021-06-26.csv',\n",
              " '/content/drive/My Drive/Health Data/Fitbit/Takeout/Fitbit/Oxygen Saturation (SpO2)/Minute SpO2 - 2024-06-16.csv',\n",
              " '/content/drive/My Drive/Health Data/Fitbit/Takeout/Fitbit/Oxygen Saturation (SpO2)/Minute SpO2 - 2024-06-15.csv',\n",
              " '/content/drive/My Drive/Health Data/Fitbit/Takeout/Fitbit/Oxygen Saturation (SpO2)/Daily SpO2 - 2022-04-22-2022-07-31.csv',\n",
              " '/content/drive/My Drive/Health Data/Fitbit/Takeout/Fitbit/Oxygen Saturation (SpO2)/Daily SpO2 - 2024-03-22-2024-06-20.csv',\n",
              " '/content/drive/My Drive/Health Data/Fitbit/Takeout/Fitbit/Oxygen Saturation (SpO2)/Minute SpO2 - 2024-06-14.csv',\n",
              " '/content/drive/My Drive/Health Data/Fitbit/Takeout/Fitbit/Oxygen Saturation (SpO2)/Daily SpO2 - 2020-12-08-2021-03-18.csv',\n",
              " '/content/drive/My Drive/Health Data/Fitbit/Takeout/Fitbit/Oxygen Saturation (SpO2)/Daily SpO2 - 2021-10-04-2022-01-12.csv',\n",
              " '/content/drive/My Drive/Health Data/Fitbit/Takeout/Fitbit/Oxygen Saturation (SpO2)/Minute SpO2 - 2024-06-19.csv',\n",
              " '/content/drive/My Drive/Health Data/Fitbit/Takeout/Fitbit/Oxygen Saturation (SpO2)/Minute SpO2 - 2024-06-17.csv',\n",
              " '/content/drive/My Drive/Health Data/Fitbit/Takeout/Fitbit/Oxygen Saturation (SpO2)/Daily SpO2 - 2023-09-04-2023-12-13.csv',\n",
              " '/content/drive/My Drive/Health Data/Fitbit/Takeout/Fitbit/Oxygen Saturation (SpO2)/Daily SpO2 - 2022-07-31-2022-11-08.csv',\n",
              " '/content/drive/My Drive/Health Data/Fitbit/Takeout/Fitbit/Oxygen Saturation (SpO2)/Daily SpO2 - 2023-05-27-2023-09-04.csv',\n",
              " '/content/drive/My Drive/Health Data/Fitbit/Takeout/Fitbit/Oxygen Saturation (SpO2)/Daily SpO2 - 2020-08-30-2020-12-08.csv',\n",
              " '/content/drive/My Drive/Health Data/Fitbit/Takeout/Fitbit/Oxygen Saturation (SpO2)/Daily SpO2 - 2023-12-13-2024-03-22.csv',\n",
              " '/content/drive/My Drive/Health Data/Fitbit/Takeout/Fitbit/Oxygen Saturation (SpO2)/Daily SpO2 - 2022-01-12-2022-04-22.csv',\n",
              " '/content/drive/My Drive/Health Data/Fitbit/Takeout/Fitbit/Oxygen Saturation (SpO2)/Minute SpO2 - 2024-06-18.csv',\n",
              " '/content/drive/My Drive/Health Data/Fitbit/Takeout/Fitbit/Oxygen Saturation (SpO2)/Minute SpO2 - 2021-02-02.csv',\n",
              " '/content/drive/My Drive/Health Data/Fitbit/Takeout/Fitbit/Temperature/Device Temperature - 2021-03-06.csv',\n",
              " '/content/drive/My Drive/Health Data/Fitbit/Takeout/Fitbit/Temperature/Wrist Temperature - 2021-02-09.csv',\n",
              " '/content/drive/My Drive/Health Data/Fitbit/Takeout/Fitbit/Temperature/Wrist Temperature - 2021-02-10.csv',\n",
              " '/content/drive/My Drive/Health Data/Fitbit/Takeout/Fitbit/Temperature/Device Temperature - 2021-04-03.csv',\n",
              " '/content/drive/My Drive/Health Data/Fitbit/Takeout/Fitbit/Temperature/Device Temperature - 2021-02-19.csv',\n",
              " '/content/drive/My Drive/Health Data/Fitbit/Takeout/Fitbit/Temperature/Wrist Temperature - 2021-02-05.csv',\n",
              " '/content/drive/My Drive/Health Data/Fitbit/Takeout/Fitbit/Temperature/Wrist Temperature - 2021-02-24.csv',\n",
              " '/content/drive/My Drive/Health Data/Fitbit/Takeout/Fitbit/Temperature/Device Temperature - 2021-02-09.csv',\n",
              " '/content/drive/My Drive/Health Data/Fitbit/Takeout/Fitbit/Temperature/Device Temperature - 2021-02-03.csv',\n",
              " '/content/drive/My Drive/Health Data/Fitbit/Takeout/Fitbit/Temperature/Device Temperature - 2021-03-31.csv',\n",
              " '/content/drive/My Drive/Health Data/Fitbit/Takeout/Fitbit/Temperature/Wrist Temperature - 2021-04-01.csv',\n",
              " '/content/drive/My Drive/Health Data/Fitbit/Takeout/Fitbit/Temperature/Device Temperature - 2021-02-24.csv',\n",
              " '/content/drive/My Drive/Health Data/Fitbit/Takeout/Fitbit/Temperature/Device Temperature - 2021-04-02.csv',\n",
              " '/content/drive/My Drive/Health Data/Fitbit/Takeout/Fitbit/Temperature/Device Temperature - 2021-04-05.csv',\n",
              " '/content/drive/My Drive/Health Data/Fitbit/Takeout/Fitbit/Temperature/Device Temperature - 2021-03-18.csv',\n",
              " '/content/drive/My Drive/Health Data/Fitbit/Takeout/Fitbit/Temperature/Wrist Temperature - 2021-02-02.csv',\n",
              " '/content/drive/My Drive/Health Data/Fitbit/Takeout/Fitbit/Temperature/Wrist Temperature - 2021-02-03.csv',\n",
              " '/content/drive/My Drive/Health Data/Fitbit/Takeout/Fitbit/Temperature/Device Temperature - 2021-02-15.csv',\n",
              " '/content/drive/My Drive/Health Data/Fitbit/Takeout/Fitbit/Temperature/Device Temperature - 2021-02-01.csv',\n",
              " '/content/drive/My Drive/Health Data/Fitbit/Takeout/Fitbit/Temperature/Device Temperature - 2021-02-05.csv',\n",
              " '/content/drive/My Drive/Health Data/Fitbit/Takeout/Fitbit/Temperature/Device Temperature - 2021-03-07.csv',\n",
              " '/content/drive/My Drive/Health Data/Fitbit/Takeout/Fitbit/Temperature/Wrist Temperature - 2021-02-16.csv',\n",
              " '/content/drive/My Drive/Health Data/Fitbit/Takeout/Fitbit/Temperature/Device Temperature - 2021-03-05.csv',\n",
              " '/content/drive/My Drive/Health Data/Fitbit/Takeout/Fitbit/Temperature/Device Temperature - 2021-03-24.csv',\n",
              " '/content/drive/My Drive/Health Data/Fitbit/Takeout/Fitbit/Temperature/Device Temperature - 2021-02-07.csv',\n",
              " '/content/drive/My Drive/Health Data/Fitbit/Takeout/Fitbit/Temperature/Wrist Temperature - 2021-02-18.csv',\n",
              " '/content/drive/My Drive/Health Data/Fitbit/Takeout/Fitbit/Temperature/Device Temperature - 2021-02-17.csv',\n",
              " '/content/drive/My Drive/Health Data/Fitbit/Takeout/Fitbit/Temperature/Device Temperature - 2021-03-09.csv',\n",
              " '/content/drive/My Drive/Health Data/Fitbit/Takeout/Fitbit/Temperature/Device Temperature - 2021-02-11.csv',\n",
              " '/content/drive/My Drive/Health Data/Fitbit/Takeout/Fitbit/Temperature/Device Temperature - 2021-02-04.csv',\n",
              " '/content/drive/My Drive/Health Data/Fitbit/Takeout/Fitbit/Temperature/Device Temperature - 2021-02-16.csv',\n",
              " '/content/drive/My Drive/Health Data/Fitbit/Takeout/Fitbit/Temperature/Device Temperature - 2021-02-25.csv',\n",
              " '/content/drive/My Drive/Health Data/Fitbit/Takeout/Fitbit/Temperature/Device Temperature - 2021-04-04.csv',\n",
              " '/content/drive/My Drive/Health Data/Fitbit/Takeout/Fitbit/Temperature/Device Temperature - 2021-05-04.csv',\n",
              " '/content/drive/My Drive/Health Data/Fitbit/Takeout/Fitbit/Temperature/Device Temperature - 2021-04-08.csv',\n",
              " '/content/drive/My Drive/Health Data/Fitbit/Takeout/Fitbit/Temperature/Device Temperature - 2021-04-07.csv',\n",
              " '/content/drive/My Drive/Health Data/Fitbit/Takeout/Fitbit/Temperature/Wrist Temperature - 2021-05-01.csv',\n",
              " '/content/drive/My Drive/Health Data/Fitbit/Takeout/Fitbit/Temperature/Device Temperature - 2021-04-28.csv',\n",
              " '/content/drive/My Drive/Health Data/Fitbit/Takeout/Fitbit/Temperature/Wrist Temperature - 2021-05-02.csv',\n",
              " '/content/drive/My Drive/Health Data/Fitbit/Takeout/Fitbit/Temperature/Device Temperature - 2021-04-06.csv',\n",
              " '/content/drive/My Drive/Health Data/Fitbit/Takeout/Fitbit/Temperature/Device Temperature - 2021-04-27.csv',\n",
              " '/content/drive/My Drive/Health Data/Fitbit/Takeout/Fitbit/Temperature/Wrist Temperature - 2021-04-30.csv',\n",
              " '/content/drive/My Drive/Health Data/Fitbit/Takeout/Fitbit/Temperature/Device Temperature - 2021-05-03.csv',\n",
              " '/content/drive/My Drive/Health Data/Fitbit/Takeout/Fitbit/Temperature/Device Temperature - 2021-04-26.csv',\n",
              " '/content/drive/My Drive/Health Data/Fitbit/Takeout/Fitbit/Temperature/Wrist Temperature - 2021-04-28.csv',\n",
              " '/content/drive/My Drive/Health Data/Fitbit/Takeout/Fitbit/Temperature/Device Temperature - 2021-04-10.csv',\n",
              " '/content/drive/My Drive/Health Data/Fitbit/Takeout/Fitbit/Temperature/Device Temperature - 2021-04-09.csv',\n",
              " '/content/drive/My Drive/Health Data/Fitbit/Takeout/Fitbit/Temperature/Device Temperature - 2021-04-30.csv',\n",
              " '/content/drive/My Drive/Health Data/Fitbit/Takeout/Fitbit/Temperature/Wrist Temperature - 2021-04-27.csv',\n",
              " '/content/drive/My Drive/Health Data/Fitbit/Takeout/Fitbit/Temperature/Device Temperature - 2021-05-02.csv',\n",
              " '/content/drive/My Drive/Health Data/Fitbit/Takeout/Fitbit/Temperature/Device Temperature - 2021-04-29.csv',\n",
              " '/content/drive/My Drive/Health Data/Fitbit/Takeout/Fitbit/Temperature/Wrist Temperature - 2021-05-03.csv',\n",
              " '/content/drive/My Drive/Health Data/Fitbit/Takeout/Fitbit/Temperature/Device Temperature - 2021-05-01.csv',\n",
              " '/content/drive/My Drive/Health Data/Fitbit/Takeout/Fitbit/Temperature/Wrist Temperature - 2021-05-11.csv',\n",
              " '/content/drive/My Drive/Health Data/Fitbit/Takeout/Fitbit/Temperature/Device Temperature - 2021-05-08.csv',\n",
              " '/content/drive/My Drive/Health Data/Fitbit/Takeout/Fitbit/Temperature/Wrist Temperature - 2021-05-08.csv',\n",
              " '/content/drive/My Drive/Health Data/Fitbit/Takeout/Fitbit/Temperature/Wrist Temperature - 2021-05-14.csv',\n",
              " '/content/drive/My Drive/Health Data/Fitbit/Takeout/Fitbit/Temperature/Wrist Temperature - 2021-05-06.csv',\n",
              " ...]"
            ]
          },
          "metadata": {},
          "execution_count": 27
        }
      ]
    },
    {
      "cell_type": "code",
      "source": [
        "def process_fitbit_data(file_path: str) -> pd.DataFrame:\n",
        "  category_mapping ={\n",
        "      \"Daily Readiness Score\": \"Readiness\",\n",
        "      \"sleep_score\": \"Sleep\",\n",
        "      \"Daily SpO2\": \"SpO2\",\n",
        "      \"Respiratory Rate Summary\": \"Respiration\",\n",
        "      \"Daily Respiratory Rate Summary\": \"Respiration\",\n",
        "      \"Daily Heart Rate Variability Summary\": \"HRV\",\n",
        "      \"Computed Temperature\": \"Stress\",\n",
        "      \"Stress Score\": \"Stress\"\n",
        "  }"
      ],
      "metadata": {
        "id": "44BFjIbnpsi1"
      },
      "execution_count": null,
      "outputs": []
    },
    {
      "cell_type": "markdown",
      "source": [
        "# Generate Daily Summaries and other artifacts"
      ],
      "metadata": {
        "id": "I41csEnELpFz"
      }
    },
    {
      "cell_type": "code",
      "source": [],
      "metadata": {
        "id": "1ZRoZVadLu6g"
      },
      "execution_count": null,
      "outputs": []
    }
  ]
}